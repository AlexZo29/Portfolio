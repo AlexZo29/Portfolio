{
 "cells": [
  {
   "cell_type": "markdown",
   "metadata": {},
   "source": [
    "# Анализ базы данных стартапа"
   ]
  },
  {
   "cell_type": "markdown",
   "metadata": {},
   "source": [
    "### Информация о базе данных\n",
    "Необходимо проанализировать базу данных, в которых содержатся информация о книгах, издательствах, авторах, а также пользовательские обзоры книг. Эти данные помогут сформулировать ценностное предложение для нового продукта."
   ]
  },
  {
   "cell_type": "markdown",
   "metadata": {},
   "source": [
    "### Задания\n",
    "\n",
    "- Определить, количество книг, вышедших после 1 января 2000 года;\n",
    "- Посчитать для каждой книги количество обзоров и среднюю оценку;\n",
    "- Определить издательство, которое выпустило наибольшее число книг толще 50 страниц;\n",
    "- Выявить автора с самой высокой средней оценкой книг, при этом надо учитывать только книги с 50 и более оценками;\n",
    "- Посчитать среднее количество обзоров от пользователей, которые поставили больше 50 оценок."
   ]
  },
  {
   "cell_type": "code",
   "execution_count": 1,
   "metadata": {},
   "outputs": [],
   "source": [
    "# импортируем библиотеки\n",
    "import pandas as pd\n",
    "from sqlalchemy import create_engine \n",
    "# устанавливаем параметры\n",
    "db_config = {'user': 'praktikum_student', # имя пользователя\n",
    "             'pwd': 'Sdf4$2;d-d30pp', # пароль\n",
    "             'host': 'rc1b-wcoijxj3yxfsf3fs.mdb.yandexcloud.net',\n",
    "             'port': 6432, # порт подключения\n",
    "             'db': 'data-analyst-final-project-db'} # название базы данных\n",
    "connection_string = 'postgresql://{}:{}@{}:{}/{}'.format(db_config['user'],\n",
    "                                                         db_config['pwd'],\n",
    "                                                         db_config['host'],\n",
    "                                                         db_config['port'],\n",
    "                                                         db_config['db'])\n",
    "# сохраняем коннектор\n",
    "engine = create_engine(connection_string, connect_args={'sslmode':'require'}) "
   ]
  },
  {
   "cell_type": "code",
   "execution_count": 2,
   "metadata": {
    "scrolled": false
   },
   "outputs": [
    {
     "data": {
      "text/html": [
       "<div>\n",
       "<style scoped>\n",
       "    .dataframe tbody tr th:only-of-type {\n",
       "        vertical-align: middle;\n",
       "    }\n",
       "\n",
       "    .dataframe tbody tr th {\n",
       "        vertical-align: top;\n",
       "    }\n",
       "\n",
       "    .dataframe thead th {\n",
       "        text-align: right;\n",
       "    }\n",
       "</style>\n",
       "<table border=\"1\" class=\"dataframe\">\n",
       "  <thead>\n",
       "    <tr style=\"text-align: right;\">\n",
       "      <th></th>\n",
       "      <th>book_id</th>\n",
       "      <th>author_id</th>\n",
       "      <th>title</th>\n",
       "      <th>num_pages</th>\n",
       "      <th>publication_date</th>\n",
       "      <th>publisher_id</th>\n",
       "    </tr>\n",
       "  </thead>\n",
       "  <tbody>\n",
       "    <tr>\n",
       "      <th>0</th>\n",
       "      <td>1</td>\n",
       "      <td>546</td>\n",
       "      <td>'Salem's Lot</td>\n",
       "      <td>594</td>\n",
       "      <td>2005-11-01</td>\n",
       "      <td>93</td>\n",
       "    </tr>\n",
       "    <tr>\n",
       "      <th>1</th>\n",
       "      <td>2</td>\n",
       "      <td>465</td>\n",
       "      <td>1 000 Places to See Before You Die</td>\n",
       "      <td>992</td>\n",
       "      <td>2003-05-22</td>\n",
       "      <td>336</td>\n",
       "    </tr>\n",
       "    <tr>\n",
       "      <th>2</th>\n",
       "      <td>3</td>\n",
       "      <td>407</td>\n",
       "      <td>13 Little Blue Envelopes (Little Blue Envelope...</td>\n",
       "      <td>322</td>\n",
       "      <td>2010-12-21</td>\n",
       "      <td>135</td>\n",
       "    </tr>\n",
       "    <tr>\n",
       "      <th>3</th>\n",
       "      <td>4</td>\n",
       "      <td>82</td>\n",
       "      <td>1491: New Revelations of the Americas Before C...</td>\n",
       "      <td>541</td>\n",
       "      <td>2006-10-10</td>\n",
       "      <td>309</td>\n",
       "    </tr>\n",
       "    <tr>\n",
       "      <th>4</th>\n",
       "      <td>5</td>\n",
       "      <td>125</td>\n",
       "      <td>1776</td>\n",
       "      <td>386</td>\n",
       "      <td>2006-07-04</td>\n",
       "      <td>268</td>\n",
       "    </tr>\n",
       "  </tbody>\n",
       "</table>\n",
       "</div>"
      ],
      "text/plain": [
       "   book_id  author_id                                              title  \\\n",
       "0        1        546                                       'Salem's Lot   \n",
       "1        2        465                 1 000 Places to See Before You Die   \n",
       "2        3        407  13 Little Blue Envelopes (Little Blue Envelope...   \n",
       "3        4         82  1491: New Revelations of the Americas Before C...   \n",
       "4        5        125                                               1776   \n",
       "\n",
       "   num_pages publication_date  publisher_id  \n",
       "0        594       2005-11-01            93  \n",
       "1        992       2003-05-22           336  \n",
       "2        322       2010-12-21           135  \n",
       "3        541       2006-10-10           309  \n",
       "4        386       2006-07-04           268  "
      ]
     },
     "metadata": {},
     "output_type": "display_data"
    },
    {
     "data": {
      "text/html": [
       "<div>\n",
       "<style scoped>\n",
       "    .dataframe tbody tr th:only-of-type {\n",
       "        vertical-align: middle;\n",
       "    }\n",
       "\n",
       "    .dataframe tbody tr th {\n",
       "        vertical-align: top;\n",
       "    }\n",
       "\n",
       "    .dataframe thead th {\n",
       "        text-align: right;\n",
       "    }\n",
       "</style>\n",
       "<table border=\"1\" class=\"dataframe\">\n",
       "  <thead>\n",
       "    <tr style=\"text-align: right;\">\n",
       "      <th></th>\n",
       "      <th>author_id</th>\n",
       "      <th>author</th>\n",
       "    </tr>\n",
       "  </thead>\n",
       "  <tbody>\n",
       "    <tr>\n",
       "      <th>0</th>\n",
       "      <td>1</td>\n",
       "      <td>A.S. Byatt</td>\n",
       "    </tr>\n",
       "    <tr>\n",
       "      <th>1</th>\n",
       "      <td>2</td>\n",
       "      <td>Aesop/Laura Harris/Laura Gibbs</td>\n",
       "    </tr>\n",
       "    <tr>\n",
       "      <th>2</th>\n",
       "      <td>3</td>\n",
       "      <td>Agatha Christie</td>\n",
       "    </tr>\n",
       "    <tr>\n",
       "      <th>3</th>\n",
       "      <td>4</td>\n",
       "      <td>Alan Brennert</td>\n",
       "    </tr>\n",
       "    <tr>\n",
       "      <th>4</th>\n",
       "      <td>5</td>\n",
       "      <td>Alan Moore/David   Lloyd</td>\n",
       "    </tr>\n",
       "  </tbody>\n",
       "</table>\n",
       "</div>"
      ],
      "text/plain": [
       "   author_id                          author\n",
       "0          1                      A.S. Byatt\n",
       "1          2  Aesop/Laura Harris/Laura Gibbs\n",
       "2          3                 Agatha Christie\n",
       "3          4                   Alan Brennert\n",
       "4          5        Alan Moore/David   Lloyd"
      ]
     },
     "metadata": {},
     "output_type": "display_data"
    },
    {
     "data": {
      "text/html": [
       "<div>\n",
       "<style scoped>\n",
       "    .dataframe tbody tr th:only-of-type {\n",
       "        vertical-align: middle;\n",
       "    }\n",
       "\n",
       "    .dataframe tbody tr th {\n",
       "        vertical-align: top;\n",
       "    }\n",
       "\n",
       "    .dataframe thead th {\n",
       "        text-align: right;\n",
       "    }\n",
       "</style>\n",
       "<table border=\"1\" class=\"dataframe\">\n",
       "  <thead>\n",
       "    <tr style=\"text-align: right;\">\n",
       "      <th></th>\n",
       "      <th>publisher_id</th>\n",
       "      <th>publisher</th>\n",
       "    </tr>\n",
       "  </thead>\n",
       "  <tbody>\n",
       "    <tr>\n",
       "      <th>0</th>\n",
       "      <td>1</td>\n",
       "      <td>Ace</td>\n",
       "    </tr>\n",
       "    <tr>\n",
       "      <th>1</th>\n",
       "      <td>2</td>\n",
       "      <td>Ace Book</td>\n",
       "    </tr>\n",
       "    <tr>\n",
       "      <th>2</th>\n",
       "      <td>3</td>\n",
       "      <td>Ace Books</td>\n",
       "    </tr>\n",
       "    <tr>\n",
       "      <th>3</th>\n",
       "      <td>4</td>\n",
       "      <td>Ace Hardcover</td>\n",
       "    </tr>\n",
       "    <tr>\n",
       "      <th>4</th>\n",
       "      <td>5</td>\n",
       "      <td>Addison Wesley Publishing Company</td>\n",
       "    </tr>\n",
       "  </tbody>\n",
       "</table>\n",
       "</div>"
      ],
      "text/plain": [
       "   publisher_id                          publisher\n",
       "0             1                                Ace\n",
       "1             2                           Ace Book\n",
       "2             3                          Ace Books\n",
       "3             4                      Ace Hardcover\n",
       "4             5  Addison Wesley Publishing Company"
      ]
     },
     "metadata": {},
     "output_type": "display_data"
    },
    {
     "data": {
      "text/html": [
       "<div>\n",
       "<style scoped>\n",
       "    .dataframe tbody tr th:only-of-type {\n",
       "        vertical-align: middle;\n",
       "    }\n",
       "\n",
       "    .dataframe tbody tr th {\n",
       "        vertical-align: top;\n",
       "    }\n",
       "\n",
       "    .dataframe thead th {\n",
       "        text-align: right;\n",
       "    }\n",
       "</style>\n",
       "<table border=\"1\" class=\"dataframe\">\n",
       "  <thead>\n",
       "    <tr style=\"text-align: right;\">\n",
       "      <th></th>\n",
       "      <th>rating_id</th>\n",
       "      <th>book_id</th>\n",
       "      <th>username</th>\n",
       "      <th>rating</th>\n",
       "    </tr>\n",
       "  </thead>\n",
       "  <tbody>\n",
       "    <tr>\n",
       "      <th>0</th>\n",
       "      <td>1</td>\n",
       "      <td>1</td>\n",
       "      <td>ryanfranco</td>\n",
       "      <td>4</td>\n",
       "    </tr>\n",
       "    <tr>\n",
       "      <th>1</th>\n",
       "      <td>2</td>\n",
       "      <td>1</td>\n",
       "      <td>grantpatricia</td>\n",
       "      <td>2</td>\n",
       "    </tr>\n",
       "    <tr>\n",
       "      <th>2</th>\n",
       "      <td>3</td>\n",
       "      <td>1</td>\n",
       "      <td>brandtandrea</td>\n",
       "      <td>5</td>\n",
       "    </tr>\n",
       "    <tr>\n",
       "      <th>3</th>\n",
       "      <td>4</td>\n",
       "      <td>2</td>\n",
       "      <td>lorichen</td>\n",
       "      <td>3</td>\n",
       "    </tr>\n",
       "    <tr>\n",
       "      <th>4</th>\n",
       "      <td>5</td>\n",
       "      <td>2</td>\n",
       "      <td>mariokeller</td>\n",
       "      <td>2</td>\n",
       "    </tr>\n",
       "  </tbody>\n",
       "</table>\n",
       "</div>"
      ],
      "text/plain": [
       "   rating_id  book_id       username  rating\n",
       "0          1        1     ryanfranco       4\n",
       "1          2        1  grantpatricia       2\n",
       "2          3        1   brandtandrea       5\n",
       "3          4        2       lorichen       3\n",
       "4          5        2    mariokeller       2"
      ]
     },
     "metadata": {},
     "output_type": "display_data"
    },
    {
     "data": {
      "text/html": [
       "<div>\n",
       "<style scoped>\n",
       "    .dataframe tbody tr th:only-of-type {\n",
       "        vertical-align: middle;\n",
       "    }\n",
       "\n",
       "    .dataframe tbody tr th {\n",
       "        vertical-align: top;\n",
       "    }\n",
       "\n",
       "    .dataframe thead th {\n",
       "        text-align: right;\n",
       "    }\n",
       "</style>\n",
       "<table border=\"1\" class=\"dataframe\">\n",
       "  <thead>\n",
       "    <tr style=\"text-align: right;\">\n",
       "      <th></th>\n",
       "      <th>review_id</th>\n",
       "      <th>book_id</th>\n",
       "      <th>username</th>\n",
       "      <th>text</th>\n",
       "    </tr>\n",
       "  </thead>\n",
       "  <tbody>\n",
       "    <tr>\n",
       "      <th>0</th>\n",
       "      <td>1</td>\n",
       "      <td>1</td>\n",
       "      <td>brandtandrea</td>\n",
       "      <td>Mention society tell send professor analysis. ...</td>\n",
       "    </tr>\n",
       "    <tr>\n",
       "      <th>1</th>\n",
       "      <td>2</td>\n",
       "      <td>1</td>\n",
       "      <td>ryanfranco</td>\n",
       "      <td>Foot glass pretty audience hit themselves. Amo...</td>\n",
       "    </tr>\n",
       "    <tr>\n",
       "      <th>2</th>\n",
       "      <td>3</td>\n",
       "      <td>2</td>\n",
       "      <td>lorichen</td>\n",
       "      <td>Listen treat keep worry. Miss husband tax but ...</td>\n",
       "    </tr>\n",
       "    <tr>\n",
       "      <th>3</th>\n",
       "      <td>4</td>\n",
       "      <td>3</td>\n",
       "      <td>johnsonamanda</td>\n",
       "      <td>Finally month interesting blue could nature cu...</td>\n",
       "    </tr>\n",
       "    <tr>\n",
       "      <th>4</th>\n",
       "      <td>5</td>\n",
       "      <td>3</td>\n",
       "      <td>scotttamara</td>\n",
       "      <td>Nation purpose heavy give wait song will. List...</td>\n",
       "    </tr>\n",
       "  </tbody>\n",
       "</table>\n",
       "</div>"
      ],
      "text/plain": [
       "   review_id  book_id       username  \\\n",
       "0          1        1   brandtandrea   \n",
       "1          2        1     ryanfranco   \n",
       "2          3        2       lorichen   \n",
       "3          4        3  johnsonamanda   \n",
       "4          5        3    scotttamara   \n",
       "\n",
       "                                                text  \n",
       "0  Mention society tell send professor analysis. ...  \n",
       "1  Foot glass pretty audience hit themselves. Amo...  \n",
       "2  Listen treat keep worry. Miss husband tax but ...  \n",
       "3  Finally month interesting blue could nature cu...  \n",
       "4  Nation purpose heavy give wait song will. List...  "
      ]
     },
     "metadata": {},
     "output_type": "display_data"
    }
   ],
   "source": [
    "#Выведем первые 5 строк каждой таблицы:\n",
    "books1 = ''' SELECT *\n",
    "              FROM books\n",
    "          '''\n",
    "books = pd.io.sql.read_sql(books1, con = engine)\n",
    "display(books.head())\n",
    "\n",
    "authors1 = ''' SELECT *\n",
    "                FROM authors\n",
    "          '''\n",
    "authors = pd.io.sql.read_sql(authors1, con = engine)\n",
    "display(authors.head())\n",
    "\n",
    "publishers1 = ''' SELECT *\n",
    "                   FROM publishers\n",
    "          '''\n",
    "publishers = pd.io.sql.read_sql(publishers1, con = engine)\n",
    "display(publishers.head())\n",
    "\n",
    "ratings1 = ''' SELECT *\n",
    "                FROM ratings\n",
    "          '''\n",
    "ratings = pd.io.sql.read_sql(ratings1, con = engine)\n",
    "display(ratings.head())\n",
    "\n",
    "reviews1 = ''' SELECT *\n",
    "                FROM reviews\n",
    "          '''\n",
    "reviews = pd.io.sql.read_sql(reviews1, con = engine)\n",
    "display(reviews.head())"
   ]
  },
  {
   "cell_type": "code",
   "execution_count": 3,
   "metadata": {
    "scrolled": true
   },
   "outputs": [
    {
     "name": "stdout",
     "output_type": "stream",
     "text": [
      "<class 'pandas.core.frame.DataFrame'>\n",
      "RangeIndex: 1000 entries, 0 to 999\n",
      "Data columns (total 6 columns):\n",
      " #   Column            Non-Null Count  Dtype \n",
      "---  ------            --------------  ----- \n",
      " 0   book_id           1000 non-null   int64 \n",
      " 1   author_id         1000 non-null   int64 \n",
      " 2   title             1000 non-null   object\n",
      " 3   num_pages         1000 non-null   int64 \n",
      " 4   publication_date  1000 non-null   object\n",
      " 5   publisher_id      1000 non-null   int64 \n",
      "dtypes: int64(4), object(2)\n",
      "memory usage: 47.0+ KB\n"
     ]
    },
    {
     "data": {
      "text/plain": [
       "None"
      ]
     },
     "metadata": {},
     "output_type": "display_data"
    },
    {
     "name": "stdout",
     "output_type": "stream",
     "text": [
      "<class 'pandas.core.frame.DataFrame'>\n",
      "RangeIndex: 636 entries, 0 to 635\n",
      "Data columns (total 2 columns):\n",
      " #   Column     Non-Null Count  Dtype \n",
      "---  ------     --------------  ----- \n",
      " 0   author_id  636 non-null    int64 \n",
      " 1   author     636 non-null    object\n",
      "dtypes: int64(1), object(1)\n",
      "memory usage: 10.1+ KB\n"
     ]
    },
    {
     "data": {
      "text/plain": [
       "None"
      ]
     },
     "metadata": {},
     "output_type": "display_data"
    },
    {
     "name": "stdout",
     "output_type": "stream",
     "text": [
      "<class 'pandas.core.frame.DataFrame'>\n",
      "RangeIndex: 340 entries, 0 to 339\n",
      "Data columns (total 2 columns):\n",
      " #   Column        Non-Null Count  Dtype \n",
      "---  ------        --------------  ----- \n",
      " 0   publisher_id  340 non-null    int64 \n",
      " 1   publisher     340 non-null    object\n",
      "dtypes: int64(1), object(1)\n",
      "memory usage: 5.4+ KB\n"
     ]
    },
    {
     "data": {
      "text/plain": [
       "None"
      ]
     },
     "metadata": {},
     "output_type": "display_data"
    },
    {
     "name": "stdout",
     "output_type": "stream",
     "text": [
      "<class 'pandas.core.frame.DataFrame'>\n",
      "RangeIndex: 6456 entries, 0 to 6455\n",
      "Data columns (total 4 columns):\n",
      " #   Column     Non-Null Count  Dtype \n",
      "---  ------     --------------  ----- \n",
      " 0   rating_id  6456 non-null   int64 \n",
      " 1   book_id    6456 non-null   int64 \n",
      " 2   username   6456 non-null   object\n",
      " 3   rating     6456 non-null   int64 \n",
      "dtypes: int64(3), object(1)\n",
      "memory usage: 201.9+ KB\n"
     ]
    },
    {
     "data": {
      "text/plain": [
       "None"
      ]
     },
     "metadata": {},
     "output_type": "display_data"
    },
    {
     "name": "stdout",
     "output_type": "stream",
     "text": [
      "<class 'pandas.core.frame.DataFrame'>\n",
      "RangeIndex: 2793 entries, 0 to 2792\n",
      "Data columns (total 4 columns):\n",
      " #   Column     Non-Null Count  Dtype \n",
      "---  ------     --------------  ----- \n",
      " 0   review_id  2793 non-null   int64 \n",
      " 1   book_id    2793 non-null   int64 \n",
      " 2   username   2793 non-null   object\n",
      " 3   text       2793 non-null   object\n",
      "dtypes: int64(2), object(2)\n",
      "memory usage: 87.4+ KB\n"
     ]
    },
    {
     "data": {
      "text/plain": [
       "None"
      ]
     },
     "metadata": {},
     "output_type": "display_data"
    }
   ],
   "source": [
    "# Выведем информацю о датасетах:\n",
    "display(books.info())\n",
    "display(authors.info())\n",
    "display(publishers.info())\n",
    "display(ratings.info())\n",
    "display(reviews.info())"
   ]
  },
  {
   "cell_type": "markdown",
   "metadata": {},
   "source": [
    "**Задание 1:** *Посчитайте, сколько книг вышло после 1 января 2000 года;*"
   ]
  },
  {
   "cell_type": "code",
   "execution_count": 4,
   "metadata": {
    "scrolled": true
   },
   "outputs": [
    {
     "data": {
      "text/html": [
       "<div>\n",
       "<style scoped>\n",
       "    .dataframe tbody tr th:only-of-type {\n",
       "        vertical-align: middle;\n",
       "    }\n",
       "\n",
       "    .dataframe tbody tr th {\n",
       "        vertical-align: top;\n",
       "    }\n",
       "\n",
       "    .dataframe thead th {\n",
       "        text-align: right;\n",
       "    }\n",
       "</style>\n",
       "<table border=\"1\" class=\"dataframe\">\n",
       "  <thead>\n",
       "    <tr style=\"text-align: right;\">\n",
       "      <th></th>\n",
       "      <th>Количество_книг</th>\n",
       "    </tr>\n",
       "  </thead>\n",
       "  <tbody>\n",
       "    <tr>\n",
       "      <th>0</th>\n",
       "      <td>819</td>\n",
       "    </tr>\n",
       "  </tbody>\n",
       "</table>\n",
       "</div>"
      ],
      "text/plain": [
       "   Количество_книг\n",
       "0              819"
      ]
     },
     "metadata": {},
     "output_type": "display_data"
    }
   ],
   "source": [
    "#Решение:\n",
    "query_1 = ''' SELECT COUNT(book_id) as Количество_книг\n",
    "                FROM books\n",
    "               WHERE publication_date > '2000-01-01'\n",
    "          '''\n",
    "request_1 = pd.io.sql.read_sql(query_1, con = engine)\n",
    "display(request_1)"
   ]
  },
  {
   "cell_type": "markdown",
   "metadata": {},
   "source": [
    "**Вывод:** Всего у нас 1000 книг в базе данных и из них 819 вышло после 2000го года, следовательно, большая часть книг можно назвать сравнительно новыми."
   ]
  },
  {
   "cell_type": "markdown",
   "metadata": {},
   "source": [
    "**Задание 2:** *Для каждой книги посчитайте количество обзоров и среднюю оценку;*"
   ]
  },
  {
   "cell_type": "code",
   "execution_count": 5,
   "metadata": {},
   "outputs": [
    {
     "data": {
      "text/html": [
       "<div>\n",
       "<style scoped>\n",
       "    .dataframe tbody tr th:only-of-type {\n",
       "        vertical-align: middle;\n",
       "    }\n",
       "\n",
       "    .dataframe tbody tr th {\n",
       "        vertical-align: top;\n",
       "    }\n",
       "\n",
       "    .dataframe thead th {\n",
       "        text-align: right;\n",
       "    }\n",
       "</style>\n",
       "<table border=\"1\" class=\"dataframe\">\n",
       "  <thead>\n",
       "    <tr style=\"text-align: right;\">\n",
       "      <th></th>\n",
       "      <th>Название_книги</th>\n",
       "      <th>Средняя_оценка</th>\n",
       "      <th>Количество_обзоров</th>\n",
       "    </tr>\n",
       "  </thead>\n",
       "  <tbody>\n",
       "    <tr>\n",
       "      <th>0</th>\n",
       "      <td>Twilight (Twilight  #1)</td>\n",
       "      <td>3.662500</td>\n",
       "      <td>7</td>\n",
       "    </tr>\n",
       "    <tr>\n",
       "      <th>1</th>\n",
       "      <td>Water for Elephants</td>\n",
       "      <td>3.977273</td>\n",
       "      <td>6</td>\n",
       "    </tr>\n",
       "    <tr>\n",
       "      <th>2</th>\n",
       "      <td>The Glass Castle</td>\n",
       "      <td>4.206897</td>\n",
       "      <td>6</td>\n",
       "    </tr>\n",
       "    <tr>\n",
       "      <th>3</th>\n",
       "      <td>Harry Potter and the Prisoner of Azkaban (Harr...</td>\n",
       "      <td>4.414634</td>\n",
       "      <td>6</td>\n",
       "    </tr>\n",
       "    <tr>\n",
       "      <th>4</th>\n",
       "      <td>The Curious Incident of the Dog in the Night-Time</td>\n",
       "      <td>4.081081</td>\n",
       "      <td>6</td>\n",
       "    </tr>\n",
       "    <tr>\n",
       "      <th>...</th>\n",
       "      <td>...</td>\n",
       "      <td>...</td>\n",
       "      <td>...</td>\n",
       "    </tr>\n",
       "    <tr>\n",
       "      <th>995</th>\n",
       "      <td>Anne Rice's The Vampire Lestat: A Graphic Novel</td>\n",
       "      <td>3.666667</td>\n",
       "      <td>0</td>\n",
       "    </tr>\n",
       "    <tr>\n",
       "      <th>996</th>\n",
       "      <td>The Natural Way to Draw</td>\n",
       "      <td>3.000000</td>\n",
       "      <td>0</td>\n",
       "    </tr>\n",
       "    <tr>\n",
       "      <th>997</th>\n",
       "      <td>The Cat in the Hat and Other Dr. Seuss Favorites</td>\n",
       "      <td>5.000000</td>\n",
       "      <td>0</td>\n",
       "    </tr>\n",
       "    <tr>\n",
       "      <th>998</th>\n",
       "      <td>Essential Tales and Poems</td>\n",
       "      <td>4.000000</td>\n",
       "      <td>0</td>\n",
       "    </tr>\n",
       "    <tr>\n",
       "      <th>999</th>\n",
       "      <td>Disney's Beauty and the Beast (A Little Golden...</td>\n",
       "      <td>4.000000</td>\n",
       "      <td>0</td>\n",
       "    </tr>\n",
       "  </tbody>\n",
       "</table>\n",
       "<p>1000 rows × 3 columns</p>\n",
       "</div>"
      ],
      "text/plain": [
       "                                        Название_книги  Средняя_оценка  \\\n",
       "0                              Twilight (Twilight  #1)        3.662500   \n",
       "1                                  Water for Elephants        3.977273   \n",
       "2                                     The Glass Castle        4.206897   \n",
       "3    Harry Potter and the Prisoner of Azkaban (Harr...        4.414634   \n",
       "4    The Curious Incident of the Dog in the Night-Time        4.081081   \n",
       "..                                                 ...             ...   \n",
       "995    Anne Rice's The Vampire Lestat: A Graphic Novel        3.666667   \n",
       "996                            The Natural Way to Draw        3.000000   \n",
       "997   The Cat in the Hat and Other Dr. Seuss Favorites        5.000000   \n",
       "998                          Essential Tales and Poems        4.000000   \n",
       "999  Disney's Beauty and the Beast (A Little Golden...        4.000000   \n",
       "\n",
       "     Количество_обзоров  \n",
       "0                     7  \n",
       "1                     6  \n",
       "2                     6  \n",
       "3                     6  \n",
       "4                     6  \n",
       "..                  ...  \n",
       "995                   0  \n",
       "996                   0  \n",
       "997                   0  \n",
       "998                   0  \n",
       "999                   0  \n",
       "\n",
       "[1000 rows x 3 columns]"
      ]
     },
     "metadata": {},
     "output_type": "display_data"
    }
   ],
   "source": [
    "#Решение:\n",
    "query_2 = ''' SELECT b.title AS Название_книги,\n",
    "                     AVG(ra.rating) AS Средняя_оценка,\n",
    "                     COUNT (DISTINCT(r.review_id)) AS Количество_обзоров\n",
    "              FROM books AS b\n",
    "              JOIN ratings AS ra ON ra.book_id = b.book_id\n",
    "              LEFT JOIN reviews AS r ON r.book_id = b.book_id\n",
    "              GROUP BY b.book_id\n",
    "              ORDER BY COUNT (DISTINCT(r.review_id)) DESC;\n",
    "          '''\n",
    "request_2 = pd.io.sql.read_sql(query_2, con = engine)\n",
    "display(request_2)"
   ]
  },
  {
   "cell_type": "markdown",
   "metadata": {},
   "source": [
    "**Вывод:** Наибольшее количество обзоров у книги \"Twilight (Twilight #1)\"с рейтингом 3.66- 7."
   ]
  },
  {
   "cell_type": "markdown",
   "metadata": {},
   "source": [
    "**Задание 3:** *Определите издательство, которое выпустило наибольшее число книг толще 50 страниц — так вы исключите из анализа брошюры;*"
   ]
  },
  {
   "cell_type": "code",
   "execution_count": 6,
   "metadata": {},
   "outputs": [
    {
     "data": {
      "text/html": [
       "<div>\n",
       "<style scoped>\n",
       "    .dataframe tbody tr th:only-of-type {\n",
       "        vertical-align: middle;\n",
       "    }\n",
       "\n",
       "    .dataframe tbody tr th {\n",
       "        vertical-align: top;\n",
       "    }\n",
       "\n",
       "    .dataframe thead th {\n",
       "        text-align: right;\n",
       "    }\n",
       "</style>\n",
       "<table border=\"1\" class=\"dataframe\">\n",
       "  <thead>\n",
       "    <tr style=\"text-align: right;\">\n",
       "      <th></th>\n",
       "      <th>Издательство</th>\n",
       "      <th>Количество_книг</th>\n",
       "    </tr>\n",
       "  </thead>\n",
       "  <tbody>\n",
       "    <tr>\n",
       "      <th>0</th>\n",
       "      <td>Penguin Books</td>\n",
       "      <td>42</td>\n",
       "    </tr>\n",
       "  </tbody>\n",
       "</table>\n",
       "</div>"
      ],
      "text/plain": [
       "    Издательство  Количество_книг\n",
       "0  Penguin Books               42"
      ]
     },
     "metadata": {},
     "output_type": "display_data"
    }
   ],
   "source": [
    "#Решение:\n",
    "query_3 = ''' SELECT MAX(p.publisher) as Издательство,\n",
    "              COUNT (b.book_id) as Количество_книг\n",
    "              FROM books as b\n",
    "              LEFT JOIN publishers as p ON b.publisher_id=p.publisher_id\n",
    "              WHERE b.num_pages > 50\n",
    "              GROUP BY p.publisher\n",
    "              ORDER BY COUNT(b.book_id) DESC\n",
    "              LIMIT 1;\n",
    "          '''\n",
    "request_3 = pd.io.sql.read_sql(query_3, con = engine)\n",
    "display(request_3)"
   ]
  },
  {
   "cell_type": "markdown",
   "metadata": {},
   "source": [
    "**Вывод:** Издательство Penguin Books выпустило 42 книги, с количеством страниц больше 50. "
   ]
  },
  {
   "cell_type": "markdown",
   "metadata": {},
   "source": [
    "**Задание 4:** *Определите автора с самой высокой средней оценкой книг — учитывайте только книги с 50 и более оценками;*"
   ]
  },
  {
   "cell_type": "code",
   "execution_count": 7,
   "metadata": {},
   "outputs": [
    {
     "data": {
      "text/html": [
       "<div>\n",
       "<style scoped>\n",
       "    .dataframe tbody tr th:only-of-type {\n",
       "        vertical-align: middle;\n",
       "    }\n",
       "\n",
       "    .dataframe tbody tr th {\n",
       "        vertical-align: top;\n",
       "    }\n",
       "\n",
       "    .dataframe thead th {\n",
       "        text-align: right;\n",
       "    }\n",
       "</style>\n",
       "<table border=\"1\" class=\"dataframe\">\n",
       "  <thead>\n",
       "    <tr style=\"text-align: right;\">\n",
       "      <th></th>\n",
       "      <th>Автор</th>\n",
       "      <th>Средний_рейтинг_книг</th>\n",
       "    </tr>\n",
       "  </thead>\n",
       "  <tbody>\n",
       "    <tr>\n",
       "      <th>0</th>\n",
       "      <td>J.K. Rowling/Mary GrandPré</td>\n",
       "      <td>4.283844</td>\n",
       "    </tr>\n",
       "  </tbody>\n",
       "</table>\n",
       "</div>"
      ],
      "text/plain": [
       "                        Автор  Средний_рейтинг_книг\n",
       "0  J.K. Rowling/Mary GrandPré              4.283844"
      ]
     },
     "metadata": {},
     "output_type": "display_data"
    }
   ],
   "source": [
    "#Решение:\n",
    "query_4 = '''  SELECT author_1 AS Автор,\n",
    "                     AVG (avg_rating) as Средний_рейтинг_книг\n",
    "                FROM (SELECT b.book_id,\n",
    "                             COUNT(DISTINCT r.rating_id) AS Количество_оценок,\n",
    "                             AVG(r.rating) AS avg_rating,\n",
    "                             a.author_id,\n",
    "                             a.author AS author_1\n",
    "                        FROM books as b\n",
    "                   LEFT JOIN authors as a ON b.author_id=a.author_id\n",
    "                   LEFT JOIN ratings as r ON r.book_id=b.book_id \n",
    "                    GROUP BY b.book_id, a.author_id  \n",
    "                HAVING COUNT(r.rating_id) >= 50\n",
    "                    ORDER BY AVG (r.rating) DESC)T\n",
    "               GROUP BY Автор\n",
    "            LIMIT 1;\n",
    "          '''\n",
    "request_4 = pd.io.sql.read_sql(query_4, con = engine)\n",
    "display(request_4)"
   ]
  },
  {
   "cell_type": "markdown",
   "metadata": {},
   "source": [
    "**Вывод:** J.K. Rowling/Mary GrandPré- автор с самой высокой средней оценкой книг (4.28). "
   ]
  },
  {
   "cell_type": "markdown",
   "metadata": {},
   "source": [
    "**Задание 5:** *Посчитайте среднее количество обзоров от пользователей, которые поставили больше 50 оценок.*"
   ]
  },
  {
   "cell_type": "code",
   "execution_count": 8,
   "metadata": {
    "scrolled": true
   },
   "outputs": [
    {
     "data": {
      "text/html": [
       "<div>\n",
       "<style scoped>\n",
       "    .dataframe tbody tr th:only-of-type {\n",
       "        vertical-align: middle;\n",
       "    }\n",
       "\n",
       "    .dataframe tbody tr th {\n",
       "        vertical-align: top;\n",
       "    }\n",
       "\n",
       "    .dataframe thead th {\n",
       "        text-align: right;\n",
       "    }\n",
       "</style>\n",
       "<table border=\"1\" class=\"dataframe\">\n",
       "  <thead>\n",
       "    <tr style=\"text-align: right;\">\n",
       "      <th></th>\n",
       "      <th>Среднее_количество_обзоров</th>\n",
       "    </tr>\n",
       "  </thead>\n",
       "  <tbody>\n",
       "    <tr>\n",
       "      <th>0</th>\n",
       "      <td>24.333333</td>\n",
       "    </tr>\n",
       "  </tbody>\n",
       "</table>\n",
       "</div>"
      ],
      "text/plain": [
       "   Среднее_количество_обзоров\n",
       "0                   24.333333"
      ]
     },
     "metadata": {},
     "output_type": "display_data"
    }
   ],
   "source": [
    "#Решение:\n",
    "query_5 = ''' SELECT AVG(cnt) as Среднее_количество_обзоров\n",
    "                FROM (SELECT COUNT(re.review_id) as cnt\n",
    "                       FROM reviews as re\n",
    "                      WHERE re.username IN (SELECT r.username\n",
    "                                            FROM ratings as r\n",
    "                                        GROUP BY r.username\n",
    "                                          HAVING COUNT(r.rating_id) > 50)\n",
    "                                          GROUP BY re.username) T;\n",
    "          '''\n",
    "request_5 = pd.io.sql.read_sql(query_5, con = engine)\n",
    "display(request_5)"
   ]
  },
  {
   "cell_type": "markdown",
   "metadata": {},
   "source": [
    "**Вывод:** Среднее количество обзоров среди активных пользователей, поставивших больше 50 оценок, 24.33"
   ]
  }
 ],
 "metadata": {
  "ExecuteTimeLog": [
   {
    "duration": 11726,
    "start_time": "2022-04-23T07:24:09.007Z"
   },
   {
    "duration": 105,
    "start_time": "2022-04-23T07:24:20.735Z"
   },
   {
    "duration": 11,
    "start_time": "2022-04-23T07:24:20.841Z"
   },
   {
    "duration": 22,
    "start_time": "2022-04-23T07:24:20.853Z"
   },
   {
    "duration": 21,
    "start_time": "2022-04-23T07:24:20.877Z"
   },
   {
    "duration": 11,
    "start_time": "2022-04-23T07:24:20.900Z"
   },
   {
    "duration": 15,
    "start_time": "2022-04-23T07:24:20.912Z"
   },
   {
    "duration": 26,
    "start_time": "2022-04-23T07:24:20.929Z"
   },
   {
    "duration": 46,
    "start_time": "2022-04-23T07:36:21.753Z"
   },
   {
    "duration": 17322,
    "start_time": "2022-04-23T07:36:26.514Z"
   },
   {
    "duration": 105,
    "start_time": "2022-04-23T07:36:43.838Z"
   },
   {
    "duration": 28,
    "start_time": "2022-04-23T07:36:43.945Z"
   },
   {
    "duration": 14,
    "start_time": "2022-04-23T07:37:01.816Z"
   },
   {
    "duration": 10,
    "start_time": "2022-04-23T07:37:23.913Z"
   },
   {
    "duration": 10,
    "start_time": "2022-04-23T07:37:34.670Z"
   },
   {
    "duration": 39,
    "start_time": "2022-04-23T07:38:05.637Z"
   },
   {
    "duration": 40,
    "start_time": "2022-04-23T07:38:55.598Z"
   },
   {
    "duration": 39,
    "start_time": "2022-04-23T07:39:28.446Z"
   },
   {
    "duration": 44,
    "start_time": "2022-04-24T21:35:33.273Z"
   },
   {
    "duration": 21791,
    "start_time": "2022-04-24T21:35:57.764Z"
   },
   {
    "duration": 94,
    "start_time": "2022-04-24T21:36:19.557Z"
   },
   {
    "duration": 50,
    "start_time": "2022-04-24T21:36:19.653Z"
   },
   {
    "duration": 10,
    "start_time": "2022-04-24T21:36:19.705Z"
   },
   {
    "duration": 26,
    "start_time": "2022-04-24T21:36:19.717Z"
   },
   {
    "duration": 11,
    "start_time": "2022-04-24T21:36:19.745Z"
   },
   {
    "duration": 16,
    "start_time": "2022-04-24T21:36:19.757Z"
   },
   {
    "duration": 12,
    "start_time": "2022-04-24T21:36:19.775Z"
   },
   {
    "duration": 13,
    "start_time": "2022-04-24T21:38:01.844Z"
   },
   {
    "duration": 13,
    "start_time": "2022-04-24T21:38:17.268Z"
   },
   {
    "duration": 13,
    "start_time": "2022-04-24T21:40:23.939Z"
   },
   {
    "duration": 13,
    "start_time": "2022-04-24T21:40:50.525Z"
   },
   {
    "duration": 12,
    "start_time": "2022-04-24T21:41:10.234Z"
   },
   {
    "duration": 74,
    "start_time": "2022-04-25T01:03:02.589Z"
   },
   {
    "duration": 6616,
    "start_time": "2022-04-25T01:03:07.929Z"
   },
   {
    "duration": 543,
    "start_time": "2022-04-25T01:03:14.548Z"
   },
   {
    "duration": 74,
    "start_time": "2022-04-25T01:03:15.093Z"
   },
   {
    "duration": 63,
    "start_time": "2022-04-25T01:03:15.170Z"
   },
   {
    "duration": 83,
    "start_time": "2022-04-25T01:03:15.237Z"
   },
   {
    "duration": 64,
    "start_time": "2022-04-25T01:03:15.323Z"
   },
   {
    "duration": 69,
    "start_time": "2022-04-25T01:03:15.390Z"
   },
   {
    "duration": 242,
    "start_time": "2022-04-25T01:03:19.604Z"
   },
   {
    "duration": 64,
    "start_time": "2022-04-25T01:04:17.901Z"
   },
   {
    "duration": 64,
    "start_time": "2022-04-25T01:13:37.875Z"
   },
   {
    "duration": 5,
    "start_time": "2022-04-25T01:20:45.100Z"
   },
   {
    "duration": 18,
    "start_time": "2022-04-25T01:21:34.723Z"
   },
   {
    "duration": 7,
    "start_time": "2022-04-25T01:23:26.516Z"
   },
   {
    "duration": 368,
    "start_time": "2022-04-25T01:23:35.047Z"
   },
   {
    "duration": 11,
    "start_time": "2022-04-25T01:24:08.100Z"
   },
   {
    "duration": 23,
    "start_time": "2022-04-25T01:24:56.332Z"
   },
   {
    "duration": 24,
    "start_time": "2022-04-25T01:25:29.788Z"
   },
   {
    "duration": 10,
    "start_time": "2022-04-25T01:26:27.769Z"
   },
   {
    "duration": 28,
    "start_time": "2022-04-25T01:26:43.468Z"
   },
   {
    "duration": 60,
    "start_time": "2022-04-25T01:27:14.041Z"
   },
   {
    "duration": 26,
    "start_time": "2022-04-25T01:27:35.541Z"
   },
   {
    "duration": 13,
    "start_time": "2022-04-25T01:29:08.589Z"
   },
   {
    "duration": 28,
    "start_time": "2022-04-25T01:29:24.304Z"
   },
   {
    "duration": 12,
    "start_time": "2022-04-25T01:29:31.581Z"
   },
   {
    "duration": 43,
    "start_time": "2022-04-25T01:30:08.148Z"
   },
   {
    "duration": 20,
    "start_time": "2022-04-25T01:30:22.084Z"
   },
   {
    "duration": 19,
    "start_time": "2022-04-25T01:30:24.080Z"
   },
   {
    "duration": 22,
    "start_time": "2022-04-25T01:31:41.901Z"
   },
   {
    "duration": 24,
    "start_time": "2022-04-25T01:31:58.861Z"
   },
   {
    "duration": 21,
    "start_time": "2022-04-25T01:32:12.705Z"
   },
   {
    "duration": 64,
    "start_time": "2022-04-25T01:32:25.276Z"
   },
   {
    "duration": 13,
    "start_time": "2022-04-25T01:38:51.207Z"
   },
   {
    "duration": 28,
    "start_time": "2022-04-25T01:39:58.450Z"
   },
   {
    "duration": 39,
    "start_time": "2022-04-25T01:40:49.034Z"
   },
   {
    "duration": 5791,
    "start_time": "2022-04-25T02:05:41.867Z"
   },
   {
    "duration": 488,
    "start_time": "2022-04-25T02:05:47.661Z"
   },
   {
    "duration": 102,
    "start_time": "2022-04-25T02:05:48.151Z"
   },
   {
    "duration": 0,
    "start_time": "2022-04-25T02:05:48.255Z"
   },
   {
    "duration": 0,
    "start_time": "2022-04-25T02:05:48.257Z"
   },
   {
    "duration": 0,
    "start_time": "2022-04-25T02:05:48.259Z"
   },
   {
    "duration": 0,
    "start_time": "2022-04-25T02:05:48.261Z"
   },
   {
    "duration": 0,
    "start_time": "2022-04-25T02:05:48.262Z"
   },
   {
    "duration": 0,
    "start_time": "2022-04-25T02:05:48.264Z"
   },
   {
    "duration": 0,
    "start_time": "2022-04-25T02:05:48.266Z"
   },
   {
    "duration": 60,
    "start_time": "2022-04-25T02:07:17.851Z"
   },
   {
    "duration": 5739,
    "start_time": "2022-04-25T02:41:37.570Z"
   },
   {
    "duration": 558,
    "start_time": "2022-04-25T02:41:43.312Z"
   },
   {
    "duration": 103,
    "start_time": "2022-04-25T02:41:43.872Z"
   },
   {
    "duration": 0,
    "start_time": "2022-04-25T02:41:43.978Z"
   },
   {
    "duration": 0,
    "start_time": "2022-04-25T02:41:43.980Z"
   },
   {
    "duration": 0,
    "start_time": "2022-04-25T02:41:43.982Z"
   },
   {
    "duration": 0,
    "start_time": "2022-04-25T02:41:43.985Z"
   },
   {
    "duration": 0,
    "start_time": "2022-04-25T02:41:43.987Z"
   },
   {
    "duration": 1,
    "start_time": "2022-04-25T02:41:43.989Z"
   },
   {
    "duration": 0,
    "start_time": "2022-04-25T02:41:43.991Z"
   },
   {
    "duration": 63,
    "start_time": "2022-04-25T02:43:47.699Z"
   },
   {
    "duration": 65,
    "start_time": "2022-04-25T02:43:53.014Z"
   },
   {
    "duration": 104,
    "start_time": "2022-04-25T02:43:57.902Z"
   },
   {
    "duration": 69,
    "start_time": "2022-04-25T02:44:02.830Z"
   },
   {
    "duration": 40,
    "start_time": "2022-04-25T02:44:08.178Z"
   },
   {
    "duration": 33,
    "start_time": "2022-04-25T02:46:41.590Z"
   },
   {
    "duration": 46,
    "start_time": "2022-04-25T02:46:57.734Z"
   },
   {
    "duration": 45,
    "start_time": "2022-04-25T02:47:10.254Z"
   },
   {
    "duration": 44,
    "start_time": "2022-04-25T02:47:48.942Z"
   },
   {
    "duration": 42,
    "start_time": "2022-04-25T02:48:15.638Z"
   },
   {
    "duration": 46,
    "start_time": "2022-04-25T02:48:24.054Z"
   },
   {
    "duration": 73,
    "start_time": "2022-04-25T02:49:06.286Z"
   },
   {
    "duration": 75,
    "start_time": "2022-04-25T02:49:12.854Z"
   },
   {
    "duration": 33,
    "start_time": "2022-04-25T02:56:48.095Z"
   },
   {
    "duration": 36,
    "start_time": "2022-04-25T02:56:58.008Z"
   },
   {
    "duration": 43,
    "start_time": "2022-04-25T02:58:23.748Z"
   },
   {
    "duration": 42,
    "start_time": "2022-04-25T03:01:26.249Z"
   },
   {
    "duration": 56,
    "start_time": "2022-04-25T03:01:44.544Z"
   },
   {
    "duration": 58,
    "start_time": "2022-04-25T03:02:14.577Z"
   },
   {
    "duration": 56,
    "start_time": "2022-04-25T03:02:40.797Z"
   },
   {
    "duration": 62,
    "start_time": "2022-04-25T03:04:10.725Z"
   },
   {
    "duration": 44,
    "start_time": "2022-04-25T03:04:37.873Z"
   },
   {
    "duration": 53,
    "start_time": "2022-04-25T03:04:53.977Z"
   },
   {
    "duration": 220,
    "start_time": "2022-04-25T03:06:25.198Z"
   },
   {
    "duration": 114,
    "start_time": "2022-04-25T03:06:56.074Z"
   },
   {
    "duration": 74,
    "start_time": "2022-04-25T03:08:29.748Z"
   },
   {
    "duration": 74,
    "start_time": "2022-04-25T03:22:55.475Z"
   },
   {
    "duration": 69,
    "start_time": "2022-04-25T03:23:41.664Z"
   },
   {
    "duration": 73,
    "start_time": "2022-04-25T03:27:45.612Z"
   },
   {
    "duration": 191,
    "start_time": "2022-04-25T03:29:02.209Z"
   },
   {
    "duration": 74,
    "start_time": "2022-04-25T03:29:26.385Z"
   },
   {
    "duration": 70,
    "start_time": "2022-04-25T04:05:41.904Z"
   },
   {
    "duration": 180,
    "start_time": "2022-04-25T04:09:46.412Z"
   },
   {
    "duration": 187,
    "start_time": "2022-04-25T04:10:18.336Z"
   },
   {
    "duration": 183,
    "start_time": "2022-04-25T04:10:35.900Z"
   },
   {
    "duration": 242,
    "start_time": "2022-04-25T04:10:53.581Z"
   },
   {
    "duration": 203,
    "start_time": "2022-04-25T04:11:18.576Z"
   },
   {
    "duration": 224,
    "start_time": "2022-04-25T04:19:37.085Z"
   },
   {
    "duration": 188,
    "start_time": "2022-04-25T04:21:06.166Z"
   },
   {
    "duration": 72,
    "start_time": "2022-04-25T04:21:29.230Z"
   },
   {
    "duration": 195,
    "start_time": "2022-04-25T04:25:33.735Z"
   },
   {
    "duration": 180,
    "start_time": "2022-04-25T04:25:55.246Z"
   },
   {
    "duration": 179,
    "start_time": "2022-04-25T04:26:42.414Z"
   },
   {
    "duration": 179,
    "start_time": "2022-04-25T04:27:20.522Z"
   },
   {
    "duration": 178,
    "start_time": "2022-04-25T04:31:16.211Z"
   },
   {
    "duration": 185,
    "start_time": "2022-04-25T04:41:03.124Z"
   },
   {
    "duration": 230,
    "start_time": "2022-04-25T04:42:44.975Z"
   },
   {
    "duration": 105,
    "start_time": "2022-04-25T04:43:12.216Z"
   },
   {
    "duration": 184,
    "start_time": "2022-04-25T04:43:59.852Z"
   },
   {
    "duration": 82,
    "start_time": "2022-04-25T04:44:21.381Z"
   },
   {
    "duration": 185,
    "start_time": "2022-04-25T04:45:42.076Z"
   },
   {
    "duration": 215,
    "start_time": "2022-04-25T04:46:08.652Z"
   },
   {
    "duration": 184,
    "start_time": "2022-04-25T04:46:14.132Z"
   },
   {
    "duration": 189,
    "start_time": "2022-04-25T04:46:33.720Z"
   },
   {
    "duration": 182,
    "start_time": "2022-04-25T04:46:57.913Z"
   },
   {
    "duration": 214,
    "start_time": "2022-04-25T04:51:36.874Z"
   },
   {
    "duration": 181,
    "start_time": "2022-04-25T04:51:48.961Z"
   },
   {
    "duration": 188,
    "start_time": "2022-04-25T04:52:53.785Z"
   },
   {
    "duration": 186,
    "start_time": "2022-04-25T04:53:03.317Z"
   },
   {
    "duration": 179,
    "start_time": "2022-04-25T04:53:27.977Z"
   },
   {
    "duration": 203,
    "start_time": "2022-04-25T04:53:48.837Z"
   },
   {
    "duration": 199,
    "start_time": "2022-04-25T04:56:31.058Z"
   },
   {
    "duration": 187,
    "start_time": "2022-04-25T04:56:50.486Z"
   },
   {
    "duration": 187,
    "start_time": "2022-04-25T04:57:03.126Z"
   },
   {
    "duration": 222,
    "start_time": "2022-04-25T04:57:13.633Z"
   },
   {
    "duration": 184,
    "start_time": "2022-04-25T04:57:49.458Z"
   },
   {
    "duration": 175,
    "start_time": "2022-04-25T04:57:54.886Z"
   },
   {
    "duration": 85,
    "start_time": "2022-04-25T05:00:47.618Z"
   },
   {
    "duration": 76,
    "start_time": "2022-04-25T05:01:33.446Z"
   },
   {
    "duration": 182,
    "start_time": "2022-04-25T05:02:59.275Z"
   },
   {
    "duration": 176,
    "start_time": "2022-04-25T05:03:10.882Z"
   },
   {
    "duration": 98,
    "start_time": "2022-04-25T05:03:30.694Z"
   },
   {
    "duration": 189,
    "start_time": "2022-04-25T05:03:41.398Z"
   },
   {
    "duration": 74,
    "start_time": "2022-04-25T05:04:11.170Z"
   },
   {
    "duration": 70,
    "start_time": "2022-04-25T05:05:40.331Z"
   },
   {
    "duration": 71,
    "start_time": "2022-04-25T05:05:47.191Z"
   },
   {
    "duration": 72,
    "start_time": "2022-04-25T05:09:26.020Z"
   },
   {
    "duration": 75,
    "start_time": "2022-04-25T05:09:34.887Z"
   },
   {
    "duration": 195,
    "start_time": "2022-04-25T06:22:57.309Z"
   },
   {
    "duration": 229,
    "start_time": "2022-04-25T06:23:21.252Z"
   },
   {
    "duration": 265,
    "start_time": "2022-04-25T06:25:49.537Z"
   },
   {
    "duration": 81,
    "start_time": "2022-04-25T06:26:19.905Z"
   },
   {
    "duration": 292,
    "start_time": "2022-04-25T06:26:57.989Z"
   },
   {
    "duration": 81,
    "start_time": "2022-04-25T06:28:01.210Z"
   },
   {
    "duration": 19729,
    "start_time": "2022-04-25T07:39:54.218Z"
   },
   {
    "duration": 94,
    "start_time": "2022-04-25T07:40:13.949Z"
   },
   {
    "duration": 64,
    "start_time": "2022-04-25T07:40:14.044Z"
   },
   {
    "duration": 11,
    "start_time": "2022-04-25T07:40:14.110Z"
   },
   {
    "duration": 30,
    "start_time": "2022-04-25T07:40:14.122Z"
   },
   {
    "duration": 12,
    "start_time": "2022-04-25T07:40:14.154Z"
   },
   {
    "duration": 15,
    "start_time": "2022-04-25T07:40:14.168Z"
   },
   {
    "duration": 17,
    "start_time": "2022-04-25T07:40:14.185Z"
   },
   {
    "duration": 12,
    "start_time": "2022-04-25T07:40:14.203Z"
   }
  ],
  "kernelspec": {
   "display_name": "Python 3 (ipykernel)",
   "language": "python",
   "name": "python3"
  },
  "language_info": {
   "codemirror_mode": {
    "name": "ipython",
    "version": 3
   },
   "file_extension": ".py",
   "mimetype": "text/x-python",
   "name": "python",
   "nbconvert_exporter": "python",
   "pygments_lexer": "ipython3",
   "version": "3.9.12"
  },
  "toc": {
   "base_numbering": 1,
   "nav_menu": {},
   "number_sections": true,
   "sideBar": true,
   "skip_h1_title": true,
   "title_cell": "Table of Contents",
   "title_sidebar": "Contents",
   "toc_cell": false,
   "toc_position": {
    "height": "calc(100% - 180px)",
    "left": "10px",
    "top": "150px",
    "width": "246.396px"
   },
   "toc_section_display": true,
   "toc_window_display": true
  }
 },
 "nbformat": 4,
 "nbformat_minor": 2
}
