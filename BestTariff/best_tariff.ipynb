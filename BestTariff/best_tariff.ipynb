{
 "cells": [
  {
   "cell_type": "markdown",
   "metadata": {},
   "source": [
    "# Содержание\n",
    "1. [Постановка задачи](#first)  \n",
    "   1.1 [Описание данных](#first_one)  \n",
    "   1.2 [Чтение данных из файла](#first_two)\n",
    "2. [Предобработка данных](#second)\n",
    "3. [Анализ полученных данных](#third)  \n",
    "   3.1 [Определение показателей разброса данных в параметре \"выручка\"](#third_one)\n",
    "4. [Проверка гипотез](#fourth)\n",
    "5. [Общие выводы](#fifth)"
   ]
  },
  {
   "cell_type": "markdown",
   "metadata": {},
   "source": [
    "# Определение перспективного тарифа для телеком-компании"
   ]
  },
  {
   "cell_type": "markdown",
   "metadata": {},
   "source": [
    "## Постановка задачи <a class=\"anchor\" id=\"first\"></a>"
   ]
  },
  {
   "cell_type": "markdown",
   "metadata": {},
   "source": [
    "**Описание проекта**  \n",
    "Федеральный оператор сотовой связи \"Мегалайн\" предлагает клиентам два тарифных плана: \"Смарт\" и \"Ультра\". \n",
    "Компании необходимо понять, какой тариф приносит ей больше прибыли.\n",
    "Для этого необходимо провести предварительный анализ тарифов на выборке в 500 клиентов. Данные содержат следующую информацию о пользователях: ФИО, место проживания, выбранный тариф, количество звонков и сообщений за 2018 год.  \n",
    "На основании анализа этих данных нужно сделать вывод какой тариф лучше. "
   ]
  },
  {
   "cell_type": "markdown",
   "metadata": {},
   "source": [
    "### Чтение данных из csv_файлов <a class=\"anchor\" id=\"first_two\"></a>"
   ]
  },
  {
   "cell_type": "markdown",
   "metadata": {},
   "source": [
    "Прочитаем файлы из 4-х датасетов и соберем общую информацию:"
   ]
  },
  {
   "cell_type": "code",
   "execution_count": 1,
   "metadata": {},
   "outputs": [],
   "source": [
    "import pandas as pd\n",
    "import numpy as np\n",
    "import matplotlib.pyplot as plt\n",
    "from scipy import stats as st\n",
    "import math"
   ]
  },
  {
   "cell_type": "code",
   "execution_count": 2,
   "metadata": {},
   "outputs": [
    {
     "name": "stdout",
     "output_type": "stream",
     "text": [
      "<class 'pandas.core.frame.DataFrame'>\n",
      "RangeIndex: 202607 entries, 0 to 202606\n",
      "Data columns (total 4 columns):\n",
      " #   Column     Non-Null Count   Dtype  \n",
      "---  ------     --------------   -----  \n",
      " 0   id         202607 non-null  object \n",
      " 1   call_date  202607 non-null  object \n",
      " 2   duration   202607 non-null  float64\n",
      " 3   user_id    202607 non-null  int64  \n",
      "dtypes: float64(1), int64(1), object(2)\n",
      "memory usage: 6.2+ MB\n"
     ]
    },
    {
     "data": {
      "text/html": [
       "<div>\n",
       "<style scoped>\n",
       "    .dataframe tbody tr th:only-of-type {\n",
       "        vertical-align: middle;\n",
       "    }\n",
       "\n",
       "    .dataframe tbody tr th {\n",
       "        vertical-align: top;\n",
       "    }\n",
       "\n",
       "    .dataframe thead th {\n",
       "        text-align: right;\n",
       "    }\n",
       "</style>\n",
       "<table border=\"1\" class=\"dataframe\">\n",
       "  <thead>\n",
       "    <tr style=\"text-align: right;\">\n",
       "      <th></th>\n",
       "      <th>id</th>\n",
       "      <th>call_date</th>\n",
       "      <th>duration</th>\n",
       "      <th>user_id</th>\n",
       "    </tr>\n",
       "  </thead>\n",
       "  <tbody>\n",
       "    <tr>\n",
       "      <th>0</th>\n",
       "      <td>1000_0</td>\n",
       "      <td>2018-07-25</td>\n",
       "      <td>0.00</td>\n",
       "      <td>1000</td>\n",
       "    </tr>\n",
       "    <tr>\n",
       "      <th>1</th>\n",
       "      <td>1000_1</td>\n",
       "      <td>2018-08-17</td>\n",
       "      <td>0.00</td>\n",
       "      <td>1000</td>\n",
       "    </tr>\n",
       "    <tr>\n",
       "      <th>2</th>\n",
       "      <td>1000_2</td>\n",
       "      <td>2018-06-11</td>\n",
       "      <td>2.85</td>\n",
       "      <td>1000</td>\n",
       "    </tr>\n",
       "    <tr>\n",
       "      <th>3</th>\n",
       "      <td>1000_3</td>\n",
       "      <td>2018-09-21</td>\n",
       "      <td>13.80</td>\n",
       "      <td>1000</td>\n",
       "    </tr>\n",
       "    <tr>\n",
       "      <th>4</th>\n",
       "      <td>1000_4</td>\n",
       "      <td>2018-12-15</td>\n",
       "      <td>5.18</td>\n",
       "      <td>1000</td>\n",
       "    </tr>\n",
       "  </tbody>\n",
       "</table>\n",
       "</div>"
      ],
      "text/plain": [
       "       id   call_date  duration  user_id\n",
       "0  1000_0  2018-07-25      0.00     1000\n",
       "1  1000_1  2018-08-17      0.00     1000\n",
       "2  1000_2  2018-06-11      2.85     1000\n",
       "3  1000_3  2018-09-21     13.80     1000\n",
       "4  1000_4  2018-12-15      5.18     1000"
      ]
     },
     "execution_count": 2,
     "metadata": {},
     "output_type": "execute_result"
    }
   ],
   "source": [
    "#Информация о звонках каждого пользователя:\n",
    "try:\n",
    "    calls = pd.read_csv('/datasets/calls.csv')\n",
    "except:\n",
    "    calls = pd.read_csv('C:/Users/antig/Downloads/Яндекс Практикум/calls.csv')\n",
    "calls.info()\n",
    "calls.head()"
   ]
  },
  {
   "cell_type": "code",
   "execution_count": 3,
   "metadata": {
    "scrolled": false
   },
   "outputs": [
    {
     "data": {
      "text/plain": [
       "id                   object\n",
       "call_date    datetime64[ns]\n",
       "duration            float64\n",
       "user_id               int64\n",
       "dtype: object"
      ]
     },
     "execution_count": 3,
     "metadata": {},
     "output_type": "execute_result"
    }
   ],
   "source": [
    "calls['call_date'] = pd.to_datetime(calls['call_date'], format='%Y-%m-%d')\n",
    "calls.dtypes"
   ]
  },
  {
   "cell_type": "code",
   "execution_count": 4,
   "metadata": {
    "scrolled": true
   },
   "outputs": [],
   "source": [
    "calls = calls.rename(columns={'call_date': 'date'})"
   ]
  },
  {
   "cell_type": "code",
   "execution_count": 5,
   "metadata": {
    "scrolled": true
   },
   "outputs": [
    {
     "data": {
      "text/html": [
       "<div>\n",
       "<style scoped>\n",
       "    .dataframe tbody tr th:only-of-type {\n",
       "        vertical-align: middle;\n",
       "    }\n",
       "\n",
       "    .dataframe tbody tr th {\n",
       "        vertical-align: top;\n",
       "    }\n",
       "\n",
       "    .dataframe thead th {\n",
       "        text-align: right;\n",
       "    }\n",
       "</style>\n",
       "<table border=\"1\" class=\"dataframe\">\n",
       "  <thead>\n",
       "    <tr style=\"text-align: right;\">\n",
       "      <th></th>\n",
       "      <th>id</th>\n",
       "      <th>date</th>\n",
       "      <th>duration</th>\n",
       "      <th>user_id</th>\n",
       "    </tr>\n",
       "  </thead>\n",
       "  <tbody>\n",
       "    <tr>\n",
       "      <th>0</th>\n",
       "      <td>1000_0</td>\n",
       "      <td>2018-07-25</td>\n",
       "      <td>0.0</td>\n",
       "      <td>1000</td>\n",
       "    </tr>\n",
       "    <tr>\n",
       "      <th>1</th>\n",
       "      <td>1000_1</td>\n",
       "      <td>2018-08-17</td>\n",
       "      <td>0.0</td>\n",
       "      <td>1000</td>\n",
       "    </tr>\n",
       "    <tr>\n",
       "      <th>2</th>\n",
       "      <td>1000_2</td>\n",
       "      <td>2018-06-11</td>\n",
       "      <td>3.0</td>\n",
       "      <td>1000</td>\n",
       "    </tr>\n",
       "    <tr>\n",
       "      <th>3</th>\n",
       "      <td>1000_3</td>\n",
       "      <td>2018-09-21</td>\n",
       "      <td>14.0</td>\n",
       "      <td>1000</td>\n",
       "    </tr>\n",
       "    <tr>\n",
       "      <th>4</th>\n",
       "      <td>1000_4</td>\n",
       "      <td>2018-12-15</td>\n",
       "      <td>6.0</td>\n",
       "      <td>1000</td>\n",
       "    </tr>\n",
       "  </tbody>\n",
       "</table>\n",
       "</div>"
      ],
      "text/plain": [
       "       id       date  duration  user_id\n",
       "0  1000_0 2018-07-25       0.0     1000\n",
       "1  1000_1 2018-08-17       0.0     1000\n",
       "2  1000_2 2018-06-11       3.0     1000\n",
       "3  1000_3 2018-09-21      14.0     1000\n",
       "4  1000_4 2018-12-15       6.0     1000"
      ]
     },
     "execution_count": 5,
     "metadata": {},
     "output_type": "execute_result"
    }
   ],
   "source": [
    "#Округлим продолжительность в минутах до целого по правилам оператора:\n",
    "calls['duration']=np.ceil(calls['duration'].astype(float))\n",
    "calls.head()                         "
   ]
  },
  {
   "cell_type": "code",
   "execution_count": 6,
   "metadata": {},
   "outputs": [
    {
     "data": {
      "text/html": [
       "<div>\n",
       "<style scoped>\n",
       "    .dataframe tbody tr th:only-of-type {\n",
       "        vertical-align: middle;\n",
       "    }\n",
       "\n",
       "    .dataframe tbody tr th {\n",
       "        vertical-align: top;\n",
       "    }\n",
       "\n",
       "    .dataframe thead th {\n",
       "        text-align: right;\n",
       "    }\n",
       "</style>\n",
       "<table border=\"1\" class=\"dataframe\">\n",
       "  <thead>\n",
       "    <tr style=\"text-align: right;\">\n",
       "      <th></th>\n",
       "      <th>id</th>\n",
       "      <th>date</th>\n",
       "      <th>duration</th>\n",
       "      <th>user_id</th>\n",
       "      <th>month</th>\n",
       "    </tr>\n",
       "  </thead>\n",
       "  <tbody>\n",
       "    <tr>\n",
       "      <th>0</th>\n",
       "      <td>1000_0</td>\n",
       "      <td>2018-07-25</td>\n",
       "      <td>0.0</td>\n",
       "      <td>1000</td>\n",
       "      <td>7</td>\n",
       "    </tr>\n",
       "    <tr>\n",
       "      <th>1</th>\n",
       "      <td>1000_1</td>\n",
       "      <td>2018-08-17</td>\n",
       "      <td>0.0</td>\n",
       "      <td>1000</td>\n",
       "      <td>8</td>\n",
       "    </tr>\n",
       "    <tr>\n",
       "      <th>2</th>\n",
       "      <td>1000_2</td>\n",
       "      <td>2018-06-11</td>\n",
       "      <td>3.0</td>\n",
       "      <td>1000</td>\n",
       "      <td>6</td>\n",
       "    </tr>\n",
       "    <tr>\n",
       "      <th>3</th>\n",
       "      <td>1000_3</td>\n",
       "      <td>2018-09-21</td>\n",
       "      <td>14.0</td>\n",
       "      <td>1000</td>\n",
       "      <td>9</td>\n",
       "    </tr>\n",
       "    <tr>\n",
       "      <th>4</th>\n",
       "      <td>1000_4</td>\n",
       "      <td>2018-12-15</td>\n",
       "      <td>6.0</td>\n",
       "      <td>1000</td>\n",
       "      <td>12</td>\n",
       "    </tr>\n",
       "  </tbody>\n",
       "</table>\n",
       "</div>"
      ],
      "text/plain": [
       "       id       date  duration  user_id  month\n",
       "0  1000_0 2018-07-25       0.0     1000      7\n",
       "1  1000_1 2018-08-17       0.0     1000      8\n",
       "2  1000_2 2018-06-11       3.0     1000      6\n",
       "3  1000_3 2018-09-21      14.0     1000      9\n",
       "4  1000_4 2018-12-15       6.0     1000     12"
      ]
     },
     "execution_count": 6,
     "metadata": {},
     "output_type": "execute_result"
    }
   ],
   "source": [
    "calls['month'] = calls['date'].astype('datetime64[M]')\n",
    "calls['month'] = calls['month'].dt.month\n",
    "calls.head()"
   ]
  },
  {
   "cell_type": "code",
   "execution_count": 7,
   "metadata": {},
   "outputs": [
    {
     "data": {
      "text/html": [
       "<div>\n",
       "<style scoped>\n",
       "    .dataframe tbody tr th:only-of-type {\n",
       "        vertical-align: middle;\n",
       "    }\n",
       "\n",
       "    .dataframe tbody tr th {\n",
       "        vertical-align: top;\n",
       "    }\n",
       "\n",
       "    .dataframe thead th {\n",
       "        text-align: right;\n",
       "    }\n",
       "</style>\n",
       "<table border=\"1\" class=\"dataframe\">\n",
       "  <thead>\n",
       "    <tr style=\"text-align: right;\">\n",
       "      <th></th>\n",
       "      <th>user_id</th>\n",
       "      <th>month</th>\n",
       "      <th>duration</th>\n",
       "      <th>date</th>\n",
       "    </tr>\n",
       "  </thead>\n",
       "  <tbody>\n",
       "    <tr>\n",
       "      <th>0</th>\n",
       "      <td>1000</td>\n",
       "      <td>5</td>\n",
       "      <td>159.0</td>\n",
       "      <td>22</td>\n",
       "    </tr>\n",
       "    <tr>\n",
       "      <th>1</th>\n",
       "      <td>1000</td>\n",
       "      <td>6</td>\n",
       "      <td>172.0</td>\n",
       "      <td>43</td>\n",
       "    </tr>\n",
       "    <tr>\n",
       "      <th>2</th>\n",
       "      <td>1000</td>\n",
       "      <td>7</td>\n",
       "      <td>340.0</td>\n",
       "      <td>47</td>\n",
       "    </tr>\n",
       "    <tr>\n",
       "      <th>3</th>\n",
       "      <td>1000</td>\n",
       "      <td>8</td>\n",
       "      <td>408.0</td>\n",
       "      <td>52</td>\n",
       "    </tr>\n",
       "    <tr>\n",
       "      <th>4</th>\n",
       "      <td>1000</td>\n",
       "      <td>9</td>\n",
       "      <td>466.0</td>\n",
       "      <td>58</td>\n",
       "    </tr>\n",
       "    <tr>\n",
       "      <th>...</th>\n",
       "      <td>...</td>\n",
       "      <td>...</td>\n",
       "      <td>...</td>\n",
       "      <td>...</td>\n",
       "    </tr>\n",
       "    <tr>\n",
       "      <th>3169</th>\n",
       "      <td>1498</td>\n",
       "      <td>10</td>\n",
       "      <td>247.0</td>\n",
       "      <td>41</td>\n",
       "    </tr>\n",
       "    <tr>\n",
       "      <th>3170</th>\n",
       "      <td>1499</td>\n",
       "      <td>9</td>\n",
       "      <td>70.0</td>\n",
       "      <td>9</td>\n",
       "    </tr>\n",
       "    <tr>\n",
       "      <th>3171</th>\n",
       "      <td>1499</td>\n",
       "      <td>10</td>\n",
       "      <td>449.0</td>\n",
       "      <td>68</td>\n",
       "    </tr>\n",
       "    <tr>\n",
       "      <th>3172</th>\n",
       "      <td>1499</td>\n",
       "      <td>11</td>\n",
       "      <td>612.0</td>\n",
       "      <td>74</td>\n",
       "    </tr>\n",
       "    <tr>\n",
       "      <th>3173</th>\n",
       "      <td>1499</td>\n",
       "      <td>12</td>\n",
       "      <td>492.0</td>\n",
       "      <td>69</td>\n",
       "    </tr>\n",
       "  </tbody>\n",
       "</table>\n",
       "<p>3174 rows × 4 columns</p>\n",
       "</div>"
      ],
      "text/plain": [
       "      user_id  month  duration  date\n",
       "0        1000      5     159.0    22\n",
       "1        1000      6     172.0    43\n",
       "2        1000      7     340.0    47\n",
       "3        1000      8     408.0    52\n",
       "4        1000      9     466.0    58\n",
       "...       ...    ...       ...   ...\n",
       "3169     1498     10     247.0    41\n",
       "3170     1499      9      70.0     9\n",
       "3171     1499     10     449.0    68\n",
       "3172     1499     11     612.0    74\n",
       "3173     1499     12     492.0    69\n",
       "\n",
       "[3174 rows x 4 columns]"
      ]
     },
     "execution_count": 7,
     "metadata": {},
     "output_type": "execute_result"
    }
   ],
   "source": [
    "#Сгруппируем по количеству звонков и продолжительности в минутах:\n",
    "calls_grouped = calls.groupby(['user_id', 'month']).agg(duration=('duration','sum'), date=('date', 'count'))\n",
    "calls_grouped.reset_index()"
   ]
  },
  {
   "cell_type": "code",
   "execution_count": 8,
   "metadata": {},
   "outputs": [
    {
     "data": {
      "text/html": [
       "<div>\n",
       "<style scoped>\n",
       "    .dataframe tbody tr th:only-of-type {\n",
       "        vertical-align: middle;\n",
       "    }\n",
       "\n",
       "    .dataframe tbody tr th {\n",
       "        vertical-align: top;\n",
       "    }\n",
       "\n",
       "    .dataframe thead th {\n",
       "        text-align: right;\n",
       "    }\n",
       "</style>\n",
       "<table border=\"1\" class=\"dataframe\">\n",
       "  <thead>\n",
       "    <tr style=\"text-align: right;\">\n",
       "      <th></th>\n",
       "      <th>user_id</th>\n",
       "      <th>month</th>\n",
       "      <th>duration</th>\n",
       "      <th>call_number</th>\n",
       "    </tr>\n",
       "  </thead>\n",
       "  <tbody>\n",
       "    <tr>\n",
       "      <th>0</th>\n",
       "      <td>1000</td>\n",
       "      <td>5</td>\n",
       "      <td>159.0</td>\n",
       "      <td>22</td>\n",
       "    </tr>\n",
       "    <tr>\n",
       "      <th>1</th>\n",
       "      <td>1000</td>\n",
       "      <td>6</td>\n",
       "      <td>172.0</td>\n",
       "      <td>43</td>\n",
       "    </tr>\n",
       "    <tr>\n",
       "      <th>2</th>\n",
       "      <td>1000</td>\n",
       "      <td>7</td>\n",
       "      <td>340.0</td>\n",
       "      <td>47</td>\n",
       "    </tr>\n",
       "    <tr>\n",
       "      <th>3</th>\n",
       "      <td>1000</td>\n",
       "      <td>8</td>\n",
       "      <td>408.0</td>\n",
       "      <td>52</td>\n",
       "    </tr>\n",
       "    <tr>\n",
       "      <th>4</th>\n",
       "      <td>1000</td>\n",
       "      <td>9</td>\n",
       "      <td>466.0</td>\n",
       "      <td>58</td>\n",
       "    </tr>\n",
       "  </tbody>\n",
       "</table>\n",
       "</div>"
      ],
      "text/plain": [
       "   user_id  month  duration  call_number\n",
       "0     1000      5     159.0           22\n",
       "1     1000      6     172.0           43\n",
       "2     1000      7     340.0           47\n",
       "3     1000      8     408.0           52\n",
       "4     1000      9     466.0           58"
      ]
     },
     "execution_count": 8,
     "metadata": {},
     "output_type": "execute_result"
    }
   ],
   "source": [
    "#Переименуем столбец 'date' в столбец с информацией о количестве звонков 'call_number':\n",
    "calls_grouped = calls_grouped.rename(columns={'date': 'call_number'})\n",
    "calls_grouped.reset_index().head()"
   ]
  },
  {
   "cell_type": "code",
   "execution_count": 9,
   "metadata": {
    "scrolled": true
   },
   "outputs": [
    {
     "name": "stdout",
     "output_type": "stream",
     "text": [
      "<class 'pandas.core.frame.DataFrame'>\n",
      "Int64Index: 149396 entries, 0 to 149395\n",
      "Data columns (total 4 columns):\n",
      " #   Column        Non-Null Count   Dtype  \n",
      "---  ------        --------------   -----  \n",
      " 0   id            149396 non-null  object \n",
      " 1   mb_used       149396 non-null  float64\n",
      " 2   session_date  149396 non-null  object \n",
      " 3   user_id       149396 non-null  int64  \n",
      "dtypes: float64(1), int64(1), object(2)\n",
      "memory usage: 5.7+ MB\n"
     ]
    },
    {
     "data": {
      "text/html": [
       "<div>\n",
       "<style scoped>\n",
       "    .dataframe tbody tr th:only-of-type {\n",
       "        vertical-align: middle;\n",
       "    }\n",
       "\n",
       "    .dataframe tbody tr th {\n",
       "        vertical-align: top;\n",
       "    }\n",
       "\n",
       "    .dataframe thead th {\n",
       "        text-align: right;\n",
       "    }\n",
       "</style>\n",
       "<table border=\"1\" class=\"dataframe\">\n",
       "  <thead>\n",
       "    <tr style=\"text-align: right;\">\n",
       "      <th></th>\n",
       "      <th>id</th>\n",
       "      <th>mb_used</th>\n",
       "      <th>session_date</th>\n",
       "      <th>user_id</th>\n",
       "    </tr>\n",
       "  </thead>\n",
       "  <tbody>\n",
       "    <tr>\n",
       "      <th>0</th>\n",
       "      <td>1000_0</td>\n",
       "      <td>112.95</td>\n",
       "      <td>2018-11-25</td>\n",
       "      <td>1000</td>\n",
       "    </tr>\n",
       "    <tr>\n",
       "      <th>1</th>\n",
       "      <td>1000_1</td>\n",
       "      <td>1052.81</td>\n",
       "      <td>2018-09-07</td>\n",
       "      <td>1000</td>\n",
       "    </tr>\n",
       "    <tr>\n",
       "      <th>2</th>\n",
       "      <td>1000_2</td>\n",
       "      <td>1197.26</td>\n",
       "      <td>2018-06-25</td>\n",
       "      <td>1000</td>\n",
       "    </tr>\n",
       "    <tr>\n",
       "      <th>3</th>\n",
       "      <td>1000_3</td>\n",
       "      <td>550.27</td>\n",
       "      <td>2018-08-22</td>\n",
       "      <td>1000</td>\n",
       "    </tr>\n",
       "    <tr>\n",
       "      <th>4</th>\n",
       "      <td>1000_4</td>\n",
       "      <td>302.56</td>\n",
       "      <td>2018-09-24</td>\n",
       "      <td>1000</td>\n",
       "    </tr>\n",
       "  </tbody>\n",
       "</table>\n",
       "</div>"
      ],
      "text/plain": [
       "       id  mb_used session_date  user_id\n",
       "0  1000_0   112.95   2018-11-25     1000\n",
       "1  1000_1  1052.81   2018-09-07     1000\n",
       "2  1000_2  1197.26   2018-06-25     1000\n",
       "3  1000_3   550.27   2018-08-22     1000\n",
       "4  1000_4   302.56   2018-09-24     1000"
      ]
     },
     "execution_count": 9,
     "metadata": {},
     "output_type": "execute_result"
    }
   ],
   "source": [
    "#Информация об использовании трафика пользователей:\n",
    "try:\n",
    "    internet = pd.read_csv('/datasets/internet.csv', index_col=0)\n",
    "except:\n",
    "    internet = pd.read_csv('C:/Users/antig/Downloads/Яндекс Практикум/internet.csv', index_col=0)\n",
    "internet.info()\n",
    "internet.head()"
   ]
  },
  {
   "cell_type": "code",
   "execution_count": 10,
   "metadata": {
    "scrolled": true
   },
   "outputs": [
    {
     "data": {
      "text/html": [
       "<div>\n",
       "<style scoped>\n",
       "    .dataframe tbody tr th:only-of-type {\n",
       "        vertical-align: middle;\n",
       "    }\n",
       "\n",
       "    .dataframe tbody tr th {\n",
       "        vertical-align: top;\n",
       "    }\n",
       "\n",
       "    .dataframe thead th {\n",
       "        text-align: right;\n",
       "    }\n",
       "</style>\n",
       "<table border=\"1\" class=\"dataframe\">\n",
       "  <thead>\n",
       "    <tr style=\"text-align: right;\">\n",
       "      <th></th>\n",
       "      <th>id</th>\n",
       "      <th>mb_used</th>\n",
       "      <th>date</th>\n",
       "      <th>user_id</th>\n",
       "      <th>month</th>\n",
       "    </tr>\n",
       "  </thead>\n",
       "  <tbody>\n",
       "    <tr>\n",
       "      <th>0</th>\n",
       "      <td>1000_0</td>\n",
       "      <td>112.95</td>\n",
       "      <td>2018-11-25</td>\n",
       "      <td>1000</td>\n",
       "      <td>11</td>\n",
       "    </tr>\n",
       "    <tr>\n",
       "      <th>1</th>\n",
       "      <td>1000_1</td>\n",
       "      <td>1052.81</td>\n",
       "      <td>2018-09-07</td>\n",
       "      <td>1000</td>\n",
       "      <td>9</td>\n",
       "    </tr>\n",
       "    <tr>\n",
       "      <th>2</th>\n",
       "      <td>1000_2</td>\n",
       "      <td>1197.26</td>\n",
       "      <td>2018-06-25</td>\n",
       "      <td>1000</td>\n",
       "      <td>6</td>\n",
       "    </tr>\n",
       "    <tr>\n",
       "      <th>3</th>\n",
       "      <td>1000_3</td>\n",
       "      <td>550.27</td>\n",
       "      <td>2018-08-22</td>\n",
       "      <td>1000</td>\n",
       "      <td>8</td>\n",
       "    </tr>\n",
       "    <tr>\n",
       "      <th>4</th>\n",
       "      <td>1000_4</td>\n",
       "      <td>302.56</td>\n",
       "      <td>2018-09-24</td>\n",
       "      <td>1000</td>\n",
       "      <td>9</td>\n",
       "    </tr>\n",
       "  </tbody>\n",
       "</table>\n",
       "</div>"
      ],
      "text/plain": [
       "       id  mb_used       date  user_id  month\n",
       "0  1000_0   112.95 2018-11-25     1000     11\n",
       "1  1000_1  1052.81 2018-09-07     1000      9\n",
       "2  1000_2  1197.26 2018-06-25     1000      6\n",
       "3  1000_3   550.27 2018-08-22     1000      8\n",
       "4  1000_4   302.56 2018-09-24     1000      9"
      ]
     },
     "execution_count": 10,
     "metadata": {},
     "output_type": "execute_result"
    }
   ],
   "source": [
    "#Добавим столбцы с датой и месяцем использования интернета: \n",
    "internet['session_date'] = pd.to_datetime(internet['session_date'], format='%Y-%m-%d')\n",
    "internet.dtypes\n",
    "internet = internet.rename(columns={'session_date': 'date'})\n",
    "internet['month'] = internet['date'].dt.month\n",
    "internet.head()"
   ]
  },
  {
   "cell_type": "code",
   "execution_count": 11,
   "metadata": {},
   "outputs": [
    {
     "data": {
      "text/html": [
       "<div>\n",
       "<style scoped>\n",
       "    .dataframe tbody tr th:only-of-type {\n",
       "        vertical-align: middle;\n",
       "    }\n",
       "\n",
       "    .dataframe tbody tr th {\n",
       "        vertical-align: top;\n",
       "    }\n",
       "\n",
       "    .dataframe thead th {\n",
       "        text-align: right;\n",
       "    }\n",
       "</style>\n",
       "<table border=\"1\" class=\"dataframe\">\n",
       "  <thead>\n",
       "    <tr style=\"text-align: right;\">\n",
       "      <th></th>\n",
       "      <th>user_id</th>\n",
       "      <th>month</th>\n",
       "      <th>mb_used</th>\n",
       "    </tr>\n",
       "  </thead>\n",
       "  <tbody>\n",
       "    <tr>\n",
       "      <th>0</th>\n",
       "      <td>1000</td>\n",
       "      <td>5</td>\n",
       "      <td>2253.49</td>\n",
       "    </tr>\n",
       "    <tr>\n",
       "      <th>1</th>\n",
       "      <td>1000</td>\n",
       "      <td>6</td>\n",
       "      <td>23233.77</td>\n",
       "    </tr>\n",
       "    <tr>\n",
       "      <th>2</th>\n",
       "      <td>1000</td>\n",
       "      <td>7</td>\n",
       "      <td>14003.64</td>\n",
       "    </tr>\n",
       "    <tr>\n",
       "      <th>3</th>\n",
       "      <td>1000</td>\n",
       "      <td>8</td>\n",
       "      <td>14055.93</td>\n",
       "    </tr>\n",
       "    <tr>\n",
       "      <th>4</th>\n",
       "      <td>1000</td>\n",
       "      <td>9</td>\n",
       "      <td>14568.91</td>\n",
       "    </tr>\n",
       "  </tbody>\n",
       "</table>\n",
       "</div>"
      ],
      "text/plain": [
       "   user_id  month   mb_used\n",
       "0     1000      5   2253.49\n",
       "1     1000      6  23233.77\n",
       "2     1000      7  14003.64\n",
       "3     1000      8  14055.93\n",
       "4     1000      9  14568.91"
      ]
     },
     "execution_count": 11,
     "metadata": {},
     "output_type": "execute_result"
    }
   ],
   "source": [
    "#Сгруппируем по пользователям и определим количество Мб, потраченных в каждёом месяце:\n",
    "internet_grouped = internet.groupby(['user_id', 'month']).agg(mb_used=('mb_used','sum'))\n",
    "internet_grouped = internet_grouped.reset_index()\n",
    "internet_grouped.head()"
   ]
  },
  {
   "cell_type": "code",
   "execution_count": 12,
   "metadata": {
    "scrolled": false
   },
   "outputs": [
    {
     "name": "stdout",
     "output_type": "stream",
     "text": [
      "<class 'pandas.core.frame.DataFrame'>\n",
      "RangeIndex: 123036 entries, 0 to 123035\n",
      "Data columns (total 3 columns):\n",
      " #   Column        Non-Null Count   Dtype \n",
      "---  ------        --------------   ----- \n",
      " 0   id            123036 non-null  object\n",
      " 1   message_date  123036 non-null  object\n",
      " 2   user_id       123036 non-null  int64 \n",
      "dtypes: int64(1), object(2)\n",
      "memory usage: 2.8+ MB\n"
     ]
    },
    {
     "data": {
      "text/html": [
       "<div>\n",
       "<style scoped>\n",
       "    .dataframe tbody tr th:only-of-type {\n",
       "        vertical-align: middle;\n",
       "    }\n",
       "\n",
       "    .dataframe tbody tr th {\n",
       "        vertical-align: top;\n",
       "    }\n",
       "\n",
       "    .dataframe thead th {\n",
       "        text-align: right;\n",
       "    }\n",
       "</style>\n",
       "<table border=\"1\" class=\"dataframe\">\n",
       "  <thead>\n",
       "    <tr style=\"text-align: right;\">\n",
       "      <th></th>\n",
       "      <th>id</th>\n",
       "      <th>message_date</th>\n",
       "      <th>user_id</th>\n",
       "    </tr>\n",
       "  </thead>\n",
       "  <tbody>\n",
       "    <tr>\n",
       "      <th>0</th>\n",
       "      <td>1000_0</td>\n",
       "      <td>2018-06-27</td>\n",
       "      <td>1000</td>\n",
       "    </tr>\n",
       "    <tr>\n",
       "      <th>1</th>\n",
       "      <td>1000_1</td>\n",
       "      <td>2018-10-08</td>\n",
       "      <td>1000</td>\n",
       "    </tr>\n",
       "    <tr>\n",
       "      <th>2</th>\n",
       "      <td>1000_2</td>\n",
       "      <td>2018-08-04</td>\n",
       "      <td>1000</td>\n",
       "    </tr>\n",
       "    <tr>\n",
       "      <th>3</th>\n",
       "      <td>1000_3</td>\n",
       "      <td>2018-06-16</td>\n",
       "      <td>1000</td>\n",
       "    </tr>\n",
       "    <tr>\n",
       "      <th>4</th>\n",
       "      <td>1000_4</td>\n",
       "      <td>2018-12-05</td>\n",
       "      <td>1000</td>\n",
       "    </tr>\n",
       "  </tbody>\n",
       "</table>\n",
       "</div>"
      ],
      "text/plain": [
       "       id message_date  user_id\n",
       "0  1000_0   2018-06-27     1000\n",
       "1  1000_1   2018-10-08     1000\n",
       "2  1000_2   2018-08-04     1000\n",
       "3  1000_3   2018-06-16     1000\n",
       "4  1000_4   2018-12-05     1000"
      ]
     },
     "execution_count": 12,
     "metadata": {},
     "output_type": "execute_result"
    }
   ],
   "source": [
    "#Информация о сообщениях пользователей:\n",
    "try:\n",
    "    messages = pd.read_csv('/datasets/messages.csv')\n",
    "except:\n",
    "    messages = pd.read_csv('C:/Users/antig/Downloads/Яндекс Практикум/messages.csv')\n",
    "messages.info()\n",
    "messages.head()"
   ]
  },
  {
   "cell_type": "code",
   "execution_count": 13,
   "metadata": {},
   "outputs": [
    {
     "data": {
      "text/html": [
       "<div>\n",
       "<style scoped>\n",
       "    .dataframe tbody tr th:only-of-type {\n",
       "        vertical-align: middle;\n",
       "    }\n",
       "\n",
       "    .dataframe tbody tr th {\n",
       "        vertical-align: top;\n",
       "    }\n",
       "\n",
       "    .dataframe thead th {\n",
       "        text-align: right;\n",
       "    }\n",
       "</style>\n",
       "<table border=\"1\" class=\"dataframe\">\n",
       "  <thead>\n",
       "    <tr style=\"text-align: right;\">\n",
       "      <th></th>\n",
       "      <th>msg_send</th>\n",
       "      <th>date</th>\n",
       "      <th>user_id</th>\n",
       "      <th>month</th>\n",
       "    </tr>\n",
       "  </thead>\n",
       "  <tbody>\n",
       "    <tr>\n",
       "      <th>0</th>\n",
       "      <td>1000_0</td>\n",
       "      <td>2018-06-27</td>\n",
       "      <td>1000</td>\n",
       "      <td>6</td>\n",
       "    </tr>\n",
       "    <tr>\n",
       "      <th>1</th>\n",
       "      <td>1000_1</td>\n",
       "      <td>2018-10-08</td>\n",
       "      <td>1000</td>\n",
       "      <td>10</td>\n",
       "    </tr>\n",
       "    <tr>\n",
       "      <th>2</th>\n",
       "      <td>1000_2</td>\n",
       "      <td>2018-08-04</td>\n",
       "      <td>1000</td>\n",
       "      <td>8</td>\n",
       "    </tr>\n",
       "    <tr>\n",
       "      <th>3</th>\n",
       "      <td>1000_3</td>\n",
       "      <td>2018-06-16</td>\n",
       "      <td>1000</td>\n",
       "      <td>6</td>\n",
       "    </tr>\n",
       "    <tr>\n",
       "      <th>4</th>\n",
       "      <td>1000_4</td>\n",
       "      <td>2018-12-05</td>\n",
       "      <td>1000</td>\n",
       "      <td>12</td>\n",
       "    </tr>\n",
       "  </tbody>\n",
       "</table>\n",
       "</div>"
      ],
      "text/plain": [
       "  msg_send       date  user_id  month\n",
       "0   1000_0 2018-06-27     1000      6\n",
       "1   1000_1 2018-10-08     1000     10\n",
       "2   1000_2 2018-08-04     1000      8\n",
       "3   1000_3 2018-06-16     1000      6\n",
       "4   1000_4 2018-12-05     1000     12"
      ]
     },
     "execution_count": 13,
     "metadata": {},
     "output_type": "execute_result"
    }
   ],
   "source": [
    "# Добавим столбцы с датой и месяцем:\n",
    "messages['message_date'] = pd.to_datetime(messages['message_date'], format='%Y-%m-%d')\n",
    "messages.dtypes\n",
    "messages['month'] = messages['message_date'].dt.month\n",
    "messages = messages.rename(columns={'message_date': 'date', 'id': 'msg_send'})\n",
    "messages.head()"
   ]
  },
  {
   "cell_type": "code",
   "execution_count": 14,
   "metadata": {
    "scrolled": true
   },
   "outputs": [
    {
     "data": {
      "text/html": [
       "<div>\n",
       "<style scoped>\n",
       "    .dataframe tbody tr th:only-of-type {\n",
       "        vertical-align: middle;\n",
       "    }\n",
       "\n",
       "    .dataframe tbody tr th {\n",
       "        vertical-align: top;\n",
       "    }\n",
       "\n",
       "    .dataframe thead th {\n",
       "        text-align: right;\n",
       "    }\n",
       "</style>\n",
       "<table border=\"1\" class=\"dataframe\">\n",
       "  <thead>\n",
       "    <tr style=\"text-align: right;\">\n",
       "      <th></th>\n",
       "      <th>user_id</th>\n",
       "      <th>month</th>\n",
       "      <th>msg_send</th>\n",
       "    </tr>\n",
       "  </thead>\n",
       "  <tbody>\n",
       "    <tr>\n",
       "      <th>0</th>\n",
       "      <td>1000</td>\n",
       "      <td>5</td>\n",
       "      <td>22</td>\n",
       "    </tr>\n",
       "    <tr>\n",
       "      <th>1</th>\n",
       "      <td>1000</td>\n",
       "      <td>6</td>\n",
       "      <td>60</td>\n",
       "    </tr>\n",
       "    <tr>\n",
       "      <th>2</th>\n",
       "      <td>1000</td>\n",
       "      <td>7</td>\n",
       "      <td>75</td>\n",
       "    </tr>\n",
       "    <tr>\n",
       "      <th>3</th>\n",
       "      <td>1000</td>\n",
       "      <td>8</td>\n",
       "      <td>81</td>\n",
       "    </tr>\n",
       "    <tr>\n",
       "      <th>4</th>\n",
       "      <td>1000</td>\n",
       "      <td>9</td>\n",
       "      <td>57</td>\n",
       "    </tr>\n",
       "  </tbody>\n",
       "</table>\n",
       "</div>"
      ],
      "text/plain": [
       "   user_id  month  msg_send\n",
       "0     1000      5        22\n",
       "1     1000      6        60\n",
       "2     1000      7        75\n",
       "3     1000      8        81\n",
       "4     1000      9        57"
      ]
     },
     "execution_count": 14,
     "metadata": {},
     "output_type": "execute_result"
    }
   ],
   "source": [
    "# Сгруппируем по пользователям и посчитаем количество сообщений, отправленных в месяц:\n",
    "messages_grouped = messages.groupby(['user_id', 'month']).agg(msg_send=('msg_send','count'))\n",
    "messages_grouped = messages_grouped.reset_index()\n",
    "messages_grouped.head()"
   ]
  },
  {
   "cell_type": "code",
   "execution_count": 15,
   "metadata": {},
   "outputs": [
    {
     "data": {
      "text/html": [
       "<div>\n",
       "<style scoped>\n",
       "    .dataframe tbody tr th:only-of-type {\n",
       "        vertical-align: middle;\n",
       "    }\n",
       "\n",
       "    .dataframe tbody tr th {\n",
       "        vertical-align: top;\n",
       "    }\n",
       "\n",
       "    .dataframe thead th {\n",
       "        text-align: right;\n",
       "    }\n",
       "</style>\n",
       "<table border=\"1\" class=\"dataframe\">\n",
       "  <thead>\n",
       "    <tr style=\"text-align: right;\">\n",
       "      <th></th>\n",
       "      <th>index</th>\n",
       "      <th>user_id</th>\n",
       "      <th>month</th>\n",
       "      <th>mb_used</th>\n",
       "      <th>msg_send</th>\n",
       "    </tr>\n",
       "  </thead>\n",
       "  <tbody>\n",
       "    <tr>\n",
       "      <th>0</th>\n",
       "      <td>0</td>\n",
       "      <td>1000</td>\n",
       "      <td>5</td>\n",
       "      <td>2253.49</td>\n",
       "      <td>22.0</td>\n",
       "    </tr>\n",
       "    <tr>\n",
       "      <th>1</th>\n",
       "      <td>1</td>\n",
       "      <td>1000</td>\n",
       "      <td>6</td>\n",
       "      <td>23233.77</td>\n",
       "      <td>60.0</td>\n",
       "    </tr>\n",
       "    <tr>\n",
       "      <th>2</th>\n",
       "      <td>2</td>\n",
       "      <td>1000</td>\n",
       "      <td>7</td>\n",
       "      <td>14003.64</td>\n",
       "      <td>75.0</td>\n",
       "    </tr>\n",
       "    <tr>\n",
       "      <th>3</th>\n",
       "      <td>3</td>\n",
       "      <td>1000</td>\n",
       "      <td>8</td>\n",
       "      <td>14055.93</td>\n",
       "      <td>81.0</td>\n",
       "    </tr>\n",
       "    <tr>\n",
       "      <th>4</th>\n",
       "      <td>4</td>\n",
       "      <td>1000</td>\n",
       "      <td>9</td>\n",
       "      <td>14568.91</td>\n",
       "      <td>57.0</td>\n",
       "    </tr>\n",
       "  </tbody>\n",
       "</table>\n",
       "</div>"
      ],
      "text/plain": [
       "   index  user_id  month   mb_used  msg_send\n",
       "0      0     1000      5   2253.49      22.0\n",
       "1      1     1000      6  23233.77      60.0\n",
       "2      2     1000      7  14003.64      75.0\n",
       "3      3     1000      8  14055.93      81.0\n",
       "4      4     1000      9  14568.91      57.0"
      ]
     },
     "execution_count": 15,
     "metadata": {},
     "output_type": "execute_result"
    }
   ],
   "source": [
    "# Объединим таблицы internet_grouped и messages_grouped:\n",
    "int_msg = internet_grouped.merge(messages_grouped, on=['user_id', 'month'], how='outer')\n",
    "int_msg = int_msg.reset_index()\n",
    "int_msg.head()"
   ]
  },
  {
   "cell_type": "code",
   "execution_count": 16,
   "metadata": {},
   "outputs": [
    {
     "data": {
      "text/html": [
       "<div>\n",
       "<style scoped>\n",
       "    .dataframe tbody tr th:only-of-type {\n",
       "        vertical-align: middle;\n",
       "    }\n",
       "\n",
       "    .dataframe tbody tr th {\n",
       "        vertical-align: top;\n",
       "    }\n",
       "\n",
       "    .dataframe thead th {\n",
       "        text-align: right;\n",
       "    }\n",
       "</style>\n",
       "<table border=\"1\" class=\"dataframe\">\n",
       "  <thead>\n",
       "    <tr style=\"text-align: right;\">\n",
       "      <th></th>\n",
       "      <th>level_0</th>\n",
       "      <th>index</th>\n",
       "      <th>user_id</th>\n",
       "      <th>month</th>\n",
       "      <th>mb_used</th>\n",
       "      <th>msg_send</th>\n",
       "      <th>duration</th>\n",
       "      <th>call_number</th>\n",
       "    </tr>\n",
       "  </thead>\n",
       "  <tbody>\n",
       "    <tr>\n",
       "      <th>0</th>\n",
       "      <td>0</td>\n",
       "      <td>0</td>\n",
       "      <td>1000</td>\n",
       "      <td>5</td>\n",
       "      <td>2253.49</td>\n",
       "      <td>22.0</td>\n",
       "      <td>159.0</td>\n",
       "      <td>22.0</td>\n",
       "    </tr>\n",
       "    <tr>\n",
       "      <th>1</th>\n",
       "      <td>1</td>\n",
       "      <td>1</td>\n",
       "      <td>1000</td>\n",
       "      <td>6</td>\n",
       "      <td>23233.77</td>\n",
       "      <td>60.0</td>\n",
       "      <td>172.0</td>\n",
       "      <td>43.0</td>\n",
       "    </tr>\n",
       "    <tr>\n",
       "      <th>2</th>\n",
       "      <td>2</td>\n",
       "      <td>2</td>\n",
       "      <td>1000</td>\n",
       "      <td>7</td>\n",
       "      <td>14003.64</td>\n",
       "      <td>75.0</td>\n",
       "      <td>340.0</td>\n",
       "      <td>47.0</td>\n",
       "    </tr>\n",
       "    <tr>\n",
       "      <th>3</th>\n",
       "      <td>3</td>\n",
       "      <td>3</td>\n",
       "      <td>1000</td>\n",
       "      <td>8</td>\n",
       "      <td>14055.93</td>\n",
       "      <td>81.0</td>\n",
       "      <td>408.0</td>\n",
       "      <td>52.0</td>\n",
       "    </tr>\n",
       "    <tr>\n",
       "      <th>4</th>\n",
       "      <td>4</td>\n",
       "      <td>4</td>\n",
       "      <td>1000</td>\n",
       "      <td>9</td>\n",
       "      <td>14568.91</td>\n",
       "      <td>57.0</td>\n",
       "      <td>466.0</td>\n",
       "      <td>58.0</td>\n",
       "    </tr>\n",
       "  </tbody>\n",
       "</table>\n",
       "</div>"
      ],
      "text/plain": [
       "   level_0  index  user_id  month   mb_used  msg_send  duration  call_number\n",
       "0        0      0     1000      5   2253.49      22.0     159.0         22.0\n",
       "1        1      1     1000      6  23233.77      60.0     172.0         43.0\n",
       "2        2      2     1000      7  14003.64      75.0     340.0         47.0\n",
       "3        3      3     1000      8  14055.93      81.0     408.0         52.0\n",
       "4        4      4     1000      9  14568.91      57.0     466.0         58.0"
      ]
     },
     "execution_count": 16,
     "metadata": {},
     "output_type": "execute_result"
    }
   ],
   "source": [
    "#Добавим в таблицу информацию о звонках:\n",
    "int_msg_call = int_msg.merge(calls_grouped, on=['user_id', 'month'], how='outer')\n",
    "int_msg_call = int_msg_call.reset_index()\n",
    "int_msg_call.head()"
   ]
  },
  {
   "cell_type": "code",
   "execution_count": 17,
   "metadata": {},
   "outputs": [
    {
     "data": {
      "text/plain": [
       "level_0         0\n",
       "index           0\n",
       "user_id         0\n",
       "month           0\n",
       "mb_used         0\n",
       "msg_send        0\n",
       "duration        0\n",
       "call_number    40\n",
       "dtype: int64"
      ]
     },
     "execution_count": 17,
     "metadata": {},
     "output_type": "execute_result"
    }
   ],
   "source": [
    "#Заполним пропуски нулями:\n",
    "int_msg_call['msg_send'] = int_msg_call['msg_send'].fillna(0)\n",
    "int_msg_call['mb_used'] = int_msg_call['mb_used'].fillna(0)\n",
    "int_msg_call['duration'] = int_msg_call['duration'].fillna(0)\n",
    "int_msg_call.isna().sum()\n"
   ]
  },
  {
   "cell_type": "code",
   "execution_count": 18,
   "metadata": {
    "scrolled": true
   },
   "outputs": [
    {
     "name": "stdout",
     "output_type": "stream",
     "text": [
      "<class 'pandas.core.frame.DataFrame'>\n",
      "RangeIndex: 500 entries, 0 to 499\n",
      "Data columns (total 8 columns):\n",
      " #   Column      Non-Null Count  Dtype \n",
      "---  ------      --------------  ----- \n",
      " 0   user_id     500 non-null    int64 \n",
      " 1   age         500 non-null    int64 \n",
      " 2   churn_date  38 non-null     object\n",
      " 3   city        500 non-null    object\n",
      " 4   first_name  500 non-null    object\n",
      " 5   last_name   500 non-null    object\n",
      " 6   reg_date    500 non-null    object\n",
      " 7   tariff      500 non-null    object\n",
      "dtypes: int64(2), object(6)\n",
      "memory usage: 31.4+ KB\n"
     ]
    },
    {
     "data": {
      "text/html": [
       "<div>\n",
       "<style scoped>\n",
       "    .dataframe tbody tr th:only-of-type {\n",
       "        vertical-align: middle;\n",
       "    }\n",
       "\n",
       "    .dataframe tbody tr th {\n",
       "        vertical-align: top;\n",
       "    }\n",
       "\n",
       "    .dataframe thead th {\n",
       "        text-align: right;\n",
       "    }\n",
       "</style>\n",
       "<table border=\"1\" class=\"dataframe\">\n",
       "  <thead>\n",
       "    <tr style=\"text-align: right;\">\n",
       "      <th></th>\n",
       "      <th>user_id</th>\n",
       "      <th>age</th>\n",
       "      <th>churn_date</th>\n",
       "      <th>city</th>\n",
       "      <th>first_name</th>\n",
       "      <th>last_name</th>\n",
       "      <th>reg_date</th>\n",
       "      <th>tariff</th>\n",
       "    </tr>\n",
       "  </thead>\n",
       "  <tbody>\n",
       "    <tr>\n",
       "      <th>0</th>\n",
       "      <td>1000</td>\n",
       "      <td>52</td>\n",
       "      <td>NaN</td>\n",
       "      <td>Краснодар</td>\n",
       "      <td>Рафаил</td>\n",
       "      <td>Верещагин</td>\n",
       "      <td>2018-05-25</td>\n",
       "      <td>ultra</td>\n",
       "    </tr>\n",
       "    <tr>\n",
       "      <th>1</th>\n",
       "      <td>1001</td>\n",
       "      <td>41</td>\n",
       "      <td>NaN</td>\n",
       "      <td>Москва</td>\n",
       "      <td>Иван</td>\n",
       "      <td>Ежов</td>\n",
       "      <td>2018-11-01</td>\n",
       "      <td>smart</td>\n",
       "    </tr>\n",
       "    <tr>\n",
       "      <th>2</th>\n",
       "      <td>1002</td>\n",
       "      <td>59</td>\n",
       "      <td>NaN</td>\n",
       "      <td>Стерлитамак</td>\n",
       "      <td>Евгений</td>\n",
       "      <td>Абрамович</td>\n",
       "      <td>2018-06-17</td>\n",
       "      <td>smart</td>\n",
       "    </tr>\n",
       "    <tr>\n",
       "      <th>3</th>\n",
       "      <td>1003</td>\n",
       "      <td>23</td>\n",
       "      <td>NaN</td>\n",
       "      <td>Москва</td>\n",
       "      <td>Белла</td>\n",
       "      <td>Белякова</td>\n",
       "      <td>2018-08-17</td>\n",
       "      <td>ultra</td>\n",
       "    </tr>\n",
       "    <tr>\n",
       "      <th>4</th>\n",
       "      <td>1004</td>\n",
       "      <td>68</td>\n",
       "      <td>NaN</td>\n",
       "      <td>Новокузнецк</td>\n",
       "      <td>Татьяна</td>\n",
       "      <td>Авдеенко</td>\n",
       "      <td>2018-05-14</td>\n",
       "      <td>ultra</td>\n",
       "    </tr>\n",
       "  </tbody>\n",
       "</table>\n",
       "</div>"
      ],
      "text/plain": [
       "   user_id  age churn_date         city first_name  last_name    reg_date  \\\n",
       "0     1000   52        NaN    Краснодар     Рафаил  Верещагин  2018-05-25   \n",
       "1     1001   41        NaN       Москва       Иван       Ежов  2018-11-01   \n",
       "2     1002   59        NaN  Стерлитамак    Евгений  Абрамович  2018-06-17   \n",
       "3     1003   23        NaN       Москва      Белла   Белякова  2018-08-17   \n",
       "4     1004   68        NaN  Новокузнецк    Татьяна   Авдеенко  2018-05-14   \n",
       "\n",
       "  tariff  \n",
       "0  ultra  \n",
       "1  smart  \n",
       "2  smart  \n",
       "3  ultra  \n",
       "4  ultra  "
      ]
     },
     "execution_count": 18,
     "metadata": {},
     "output_type": "execute_result"
    }
   ],
   "source": [
    "#Общая информация о пользователях:\n",
    "try:\n",
    "    users = pd.read_csv('/datasets/users.csv')\n",
    "except:\n",
    "    users = pd.read_csv('C:/Users/antig/Downloads/Яндекс Практикум/users.csv')\n",
    "users.info()\n",
    "users.head()"
   ]
  },
  {
   "cell_type": "code",
   "execution_count": 19,
   "metadata": {},
   "outputs": [
    {
     "data": {
      "text/plain": [
       "user_id                int64\n",
       "age                    int64\n",
       "churn_date            object\n",
       "city                  object\n",
       "first_name            object\n",
       "last_name             object\n",
       "reg_date      datetime64[ns]\n",
       "tariff                object\n",
       "dtype: object"
      ]
     },
     "execution_count": 19,
     "metadata": {},
     "output_type": "execute_result"
    }
   ],
   "source": [
    "#Изменим тип данных в столбце reg_date:\n",
    "users['reg_date'] = pd.to_datetime(users['reg_date'], format='%Y-%m-%d')\n",
    "users.dtypes"
   ]
  },
  {
   "cell_type": "code",
   "execution_count": 20,
   "metadata": {
    "scrolled": true
   },
   "outputs": [
    {
     "data": {
      "text/html": [
       "<div>\n",
       "<style scoped>\n",
       "    .dataframe tbody tr th:only-of-type {\n",
       "        vertical-align: middle;\n",
       "    }\n",
       "\n",
       "    .dataframe tbody tr th {\n",
       "        vertical-align: top;\n",
       "    }\n",
       "\n",
       "    .dataframe thead th {\n",
       "        text-align: right;\n",
       "    }\n",
       "</style>\n",
       "<table border=\"1\" class=\"dataframe\">\n",
       "  <thead>\n",
       "    <tr style=\"text-align: right;\">\n",
       "      <th></th>\n",
       "      <th>user_id</th>\n",
       "      <th>age</th>\n",
       "      <th>churn_date</th>\n",
       "      <th>city</th>\n",
       "      <th>first_name</th>\n",
       "      <th>last_name</th>\n",
       "      <th>reg_date</th>\n",
       "      <th>tariff</th>\n",
       "      <th>level_0</th>\n",
       "      <th>index</th>\n",
       "      <th>month</th>\n",
       "      <th>mb_used</th>\n",
       "      <th>msg_send</th>\n",
       "      <th>duration</th>\n",
       "      <th>call_number</th>\n",
       "    </tr>\n",
       "  </thead>\n",
       "  <tbody>\n",
       "    <tr>\n",
       "      <th>0</th>\n",
       "      <td>1000</td>\n",
       "      <td>52</td>\n",
       "      <td>NaN</td>\n",
       "      <td>Краснодар</td>\n",
       "      <td>Рафаил</td>\n",
       "      <td>Верещагин</td>\n",
       "      <td>2018-05-25</td>\n",
       "      <td>ultra</td>\n",
       "      <td>0.0</td>\n",
       "      <td>0.0</td>\n",
       "      <td>5.0</td>\n",
       "      <td>2253.49</td>\n",
       "      <td>22.0</td>\n",
       "      <td>159.0</td>\n",
       "      <td>22.0</td>\n",
       "    </tr>\n",
       "    <tr>\n",
       "      <th>1</th>\n",
       "      <td>1000</td>\n",
       "      <td>52</td>\n",
       "      <td>NaN</td>\n",
       "      <td>Краснодар</td>\n",
       "      <td>Рафаил</td>\n",
       "      <td>Верещагин</td>\n",
       "      <td>2018-05-25</td>\n",
       "      <td>ultra</td>\n",
       "      <td>1.0</td>\n",
       "      <td>1.0</td>\n",
       "      <td>6.0</td>\n",
       "      <td>23233.77</td>\n",
       "      <td>60.0</td>\n",
       "      <td>172.0</td>\n",
       "      <td>43.0</td>\n",
       "    </tr>\n",
       "    <tr>\n",
       "      <th>2</th>\n",
       "      <td>1000</td>\n",
       "      <td>52</td>\n",
       "      <td>NaN</td>\n",
       "      <td>Краснодар</td>\n",
       "      <td>Рафаил</td>\n",
       "      <td>Верещагин</td>\n",
       "      <td>2018-05-25</td>\n",
       "      <td>ultra</td>\n",
       "      <td>2.0</td>\n",
       "      <td>2.0</td>\n",
       "      <td>7.0</td>\n",
       "      <td>14003.64</td>\n",
       "      <td>75.0</td>\n",
       "      <td>340.0</td>\n",
       "      <td>47.0</td>\n",
       "    </tr>\n",
       "    <tr>\n",
       "      <th>3</th>\n",
       "      <td>1000</td>\n",
       "      <td>52</td>\n",
       "      <td>NaN</td>\n",
       "      <td>Краснодар</td>\n",
       "      <td>Рафаил</td>\n",
       "      <td>Верещагин</td>\n",
       "      <td>2018-05-25</td>\n",
       "      <td>ultra</td>\n",
       "      <td>3.0</td>\n",
       "      <td>3.0</td>\n",
       "      <td>8.0</td>\n",
       "      <td>14055.93</td>\n",
       "      <td>81.0</td>\n",
       "      <td>408.0</td>\n",
       "      <td>52.0</td>\n",
       "    </tr>\n",
       "    <tr>\n",
       "      <th>4</th>\n",
       "      <td>1000</td>\n",
       "      <td>52</td>\n",
       "      <td>NaN</td>\n",
       "      <td>Краснодар</td>\n",
       "      <td>Рафаил</td>\n",
       "      <td>Верещагин</td>\n",
       "      <td>2018-05-25</td>\n",
       "      <td>ultra</td>\n",
       "      <td>4.0</td>\n",
       "      <td>4.0</td>\n",
       "      <td>9.0</td>\n",
       "      <td>14568.91</td>\n",
       "      <td>57.0</td>\n",
       "      <td>466.0</td>\n",
       "      <td>58.0</td>\n",
       "    </tr>\n",
       "  </tbody>\n",
       "</table>\n",
       "</div>"
      ],
      "text/plain": [
       "   user_id  age churn_date       city first_name  last_name   reg_date tariff  \\\n",
       "0     1000   52        NaN  Краснодар     Рафаил  Верещагин 2018-05-25  ultra   \n",
       "1     1000   52        NaN  Краснодар     Рафаил  Верещагин 2018-05-25  ultra   \n",
       "2     1000   52        NaN  Краснодар     Рафаил  Верещагин 2018-05-25  ultra   \n",
       "3     1000   52        NaN  Краснодар     Рафаил  Верещагин 2018-05-25  ultra   \n",
       "4     1000   52        NaN  Краснодар     Рафаил  Верещагин 2018-05-25  ultra   \n",
       "\n",
       "   level_0  index  month   mb_used  msg_send  duration  call_number  \n",
       "0      0.0    0.0    5.0   2253.49      22.0     159.0         22.0  \n",
       "1      1.0    1.0    6.0  23233.77      60.0     172.0         43.0  \n",
       "2      2.0    2.0    7.0  14003.64      75.0     340.0         47.0  \n",
       "3      3.0    3.0    8.0  14055.93      81.0     408.0         52.0  \n",
       "4      4.0    4.0    9.0  14568.91      57.0     466.0         58.0  "
      ]
     },
     "execution_count": 20,
     "metadata": {},
     "output_type": "execute_result"
    }
   ],
   "source": [
    "#Объединим текущий датасет с датасетом int_msg_call:\n",
    "users1 = users.merge(int_msg_call, on='user_id', how='outer')\n",
    "users1.head()"
   ]
  },
  {
   "cell_type": "code",
   "execution_count": 21,
   "metadata": {
    "scrolled": true
   },
   "outputs": [
    {
     "name": "stdout",
     "output_type": "stream",
     "text": [
      "<class 'pandas.core.frame.DataFrame'>\n",
      "RangeIndex: 2 entries, 0 to 1\n",
      "Data columns (total 8 columns):\n",
      " #   Column                 Non-Null Count  Dtype \n",
      "---  ------                 --------------  ----- \n",
      " 0   messages_included      2 non-null      int64 \n",
      " 1   mb_per_month_included  2 non-null      int64 \n",
      " 2   minutes_included       2 non-null      int64 \n",
      " 3   rub_monthly_fee        2 non-null      int64 \n",
      " 4   rub_per_gb             2 non-null      int64 \n",
      " 5   rub_per_message        2 non-null      int64 \n",
      " 6   rub_per_minute         2 non-null      int64 \n",
      " 7   tariff_name            2 non-null      object\n",
      "dtypes: int64(7), object(1)\n",
      "memory usage: 256.0+ bytes\n"
     ]
    },
    {
     "data": {
      "text/html": [
       "<div>\n",
       "<style scoped>\n",
       "    .dataframe tbody tr th:only-of-type {\n",
       "        vertical-align: middle;\n",
       "    }\n",
       "\n",
       "    .dataframe tbody tr th {\n",
       "        vertical-align: top;\n",
       "    }\n",
       "\n",
       "    .dataframe thead th {\n",
       "        text-align: right;\n",
       "    }\n",
       "</style>\n",
       "<table border=\"1\" class=\"dataframe\">\n",
       "  <thead>\n",
       "    <tr style=\"text-align: right;\">\n",
       "      <th></th>\n",
       "      <th>messages_included</th>\n",
       "      <th>mb_per_month_included</th>\n",
       "      <th>minutes_included</th>\n",
       "      <th>rub_monthly_fee</th>\n",
       "      <th>rub_per_gb</th>\n",
       "      <th>rub_per_message</th>\n",
       "      <th>rub_per_minute</th>\n",
       "      <th>tariff_name</th>\n",
       "    </tr>\n",
       "  </thead>\n",
       "  <tbody>\n",
       "    <tr>\n",
       "      <th>0</th>\n",
       "      <td>50</td>\n",
       "      <td>15360</td>\n",
       "      <td>500</td>\n",
       "      <td>550</td>\n",
       "      <td>200</td>\n",
       "      <td>3</td>\n",
       "      <td>3</td>\n",
       "      <td>smart</td>\n",
       "    </tr>\n",
       "    <tr>\n",
       "      <th>1</th>\n",
       "      <td>1000</td>\n",
       "      <td>30720</td>\n",
       "      <td>3000</td>\n",
       "      <td>1950</td>\n",
       "      <td>150</td>\n",
       "      <td>1</td>\n",
       "      <td>1</td>\n",
       "      <td>ultra</td>\n",
       "    </tr>\n",
       "  </tbody>\n",
       "</table>\n",
       "</div>"
      ],
      "text/plain": [
       "   messages_included  mb_per_month_included  minutes_included  \\\n",
       "0                 50                  15360               500   \n",
       "1               1000                  30720              3000   \n",
       "\n",
       "   rub_monthly_fee  rub_per_gb  rub_per_message  rub_per_minute tariff_name  \n",
       "0              550         200                3               3       smart  \n",
       "1             1950         150                1               1       ultra  "
      ]
     },
     "execution_count": 21,
     "metadata": {},
     "output_type": "execute_result"
    }
   ],
   "source": [
    "#Общая информация о тарифах:\n",
    "try:\n",
    "    tariffs = pd.read_csv('/datasets/tariffs.csv')\n",
    "except:\n",
    "    tariffs = pd.read_csv('C:/Users/antig/Downloads/Яндекс Практикум/tariffs.csv')\n",
    "tariffs.info()\n",
    "tariffs.head()"
   ]
  },
  {
   "cell_type": "code",
   "execution_count": 22,
   "metadata": {
    "scrolled": false
   },
   "outputs": [
    {
     "data": {
      "text/plain": [
       "Index(['messages_included', 'mb_per_month_included', 'minutes_included',\n",
       "       'rub_monthly_fee', 'rub_per_gb', 'rub_per_message', 'rub_per_minute',\n",
       "       'tariff'],\n",
       "      dtype='object')"
      ]
     },
     "execution_count": 22,
     "metadata": {},
     "output_type": "execute_result"
    }
   ],
   "source": [
    "#Переименуем столбец 'tariff_name' в датасете 'tariffs', чтобы можно было объединить по этому столбцу:\n",
    "tariffs = tariffs.rename(columns={'tariff_name': 'tariff'})\n",
    "tariffs.columns"
   ]
  },
  {
   "cell_type": "code",
   "execution_count": 23,
   "metadata": {
    "scrolled": true
   },
   "outputs": [
    {
     "name": "stdout",
     "output_type": "stream",
     "text": [
      "<class 'pandas.core.frame.DataFrame'>\n",
      "Int64Index: 3216 entries, 0 to 3215\n",
      "Data columns (total 22 columns):\n",
      " #   Column                 Non-Null Count  Dtype         \n",
      "---  ------                 --------------  -----         \n",
      " 0   user_id                3216 non-null   int64         \n",
      " 1   age                    3216 non-null   int64         \n",
      " 2   churn_date             189 non-null    object        \n",
      " 3   city                   3216 non-null   object        \n",
      " 4   first_name             3216 non-null   object        \n",
      " 5   last_name              3216 non-null   object        \n",
      " 6   reg_date               3216 non-null   datetime64[ns]\n",
      " 7   tariff                 3216 non-null   object        \n",
      " 8   level_0                3214 non-null   float64       \n",
      " 9   index                  3214 non-null   float64       \n",
      " 10  month                  3214 non-null   float64       \n",
      " 11  mb_used                3214 non-null   float64       \n",
      " 12  msg_send               3214 non-null   float64       \n",
      " 13  duration               3214 non-null   float64       \n",
      " 14  call_number            3174 non-null   float64       \n",
      " 15  messages_included      3216 non-null   int64         \n",
      " 16  mb_per_month_included  3216 non-null   int64         \n",
      " 17  minutes_included       3216 non-null   int64         \n",
      " 18  rub_monthly_fee        3216 non-null   int64         \n",
      " 19  rub_per_gb             3216 non-null   int64         \n",
      " 20  rub_per_message        3216 non-null   int64         \n",
      " 21  rub_per_minute         3216 non-null   int64         \n",
      "dtypes: datetime64[ns](1), float64(7), int64(9), object(5)\n",
      "memory usage: 577.9+ KB\n"
     ]
    },
    {
     "data": {
      "text/html": [
       "<div>\n",
       "<style scoped>\n",
       "    .dataframe tbody tr th:only-of-type {\n",
       "        vertical-align: middle;\n",
       "    }\n",
       "\n",
       "    .dataframe tbody tr th {\n",
       "        vertical-align: top;\n",
       "    }\n",
       "\n",
       "    .dataframe thead th {\n",
       "        text-align: right;\n",
       "    }\n",
       "</style>\n",
       "<table border=\"1\" class=\"dataframe\">\n",
       "  <thead>\n",
       "    <tr style=\"text-align: right;\">\n",
       "      <th></th>\n",
       "      <th>user_id</th>\n",
       "      <th>age</th>\n",
       "      <th>churn_date</th>\n",
       "      <th>city</th>\n",
       "      <th>first_name</th>\n",
       "      <th>last_name</th>\n",
       "      <th>reg_date</th>\n",
       "      <th>tariff</th>\n",
       "      <th>level_0</th>\n",
       "      <th>index</th>\n",
       "      <th>...</th>\n",
       "      <th>msg_send</th>\n",
       "      <th>duration</th>\n",
       "      <th>call_number</th>\n",
       "      <th>messages_included</th>\n",
       "      <th>mb_per_month_included</th>\n",
       "      <th>minutes_included</th>\n",
       "      <th>rub_monthly_fee</th>\n",
       "      <th>rub_per_gb</th>\n",
       "      <th>rub_per_message</th>\n",
       "      <th>rub_per_minute</th>\n",
       "    </tr>\n",
       "  </thead>\n",
       "  <tbody>\n",
       "    <tr>\n",
       "      <th>0</th>\n",
       "      <td>1000</td>\n",
       "      <td>52</td>\n",
       "      <td>NaN</td>\n",
       "      <td>Краснодар</td>\n",
       "      <td>Рафаил</td>\n",
       "      <td>Верещагин</td>\n",
       "      <td>2018-05-25</td>\n",
       "      <td>ultra</td>\n",
       "      <td>0.0</td>\n",
       "      <td>0.0</td>\n",
       "      <td>...</td>\n",
       "      <td>22.0</td>\n",
       "      <td>159.0</td>\n",
       "      <td>22.0</td>\n",
       "      <td>1000</td>\n",
       "      <td>30720</td>\n",
       "      <td>3000</td>\n",
       "      <td>1950</td>\n",
       "      <td>150</td>\n",
       "      <td>1</td>\n",
       "      <td>1</td>\n",
       "    </tr>\n",
       "    <tr>\n",
       "      <th>1</th>\n",
       "      <td>1000</td>\n",
       "      <td>52</td>\n",
       "      <td>NaN</td>\n",
       "      <td>Краснодар</td>\n",
       "      <td>Рафаил</td>\n",
       "      <td>Верещагин</td>\n",
       "      <td>2018-05-25</td>\n",
       "      <td>ultra</td>\n",
       "      <td>1.0</td>\n",
       "      <td>1.0</td>\n",
       "      <td>...</td>\n",
       "      <td>60.0</td>\n",
       "      <td>172.0</td>\n",
       "      <td>43.0</td>\n",
       "      <td>1000</td>\n",
       "      <td>30720</td>\n",
       "      <td>3000</td>\n",
       "      <td>1950</td>\n",
       "      <td>150</td>\n",
       "      <td>1</td>\n",
       "      <td>1</td>\n",
       "    </tr>\n",
       "    <tr>\n",
       "      <th>2</th>\n",
       "      <td>1000</td>\n",
       "      <td>52</td>\n",
       "      <td>NaN</td>\n",
       "      <td>Краснодар</td>\n",
       "      <td>Рафаил</td>\n",
       "      <td>Верещагин</td>\n",
       "      <td>2018-05-25</td>\n",
       "      <td>ultra</td>\n",
       "      <td>2.0</td>\n",
       "      <td>2.0</td>\n",
       "      <td>...</td>\n",
       "      <td>75.0</td>\n",
       "      <td>340.0</td>\n",
       "      <td>47.0</td>\n",
       "      <td>1000</td>\n",
       "      <td>30720</td>\n",
       "      <td>3000</td>\n",
       "      <td>1950</td>\n",
       "      <td>150</td>\n",
       "      <td>1</td>\n",
       "      <td>1</td>\n",
       "    </tr>\n",
       "    <tr>\n",
       "      <th>3</th>\n",
       "      <td>1000</td>\n",
       "      <td>52</td>\n",
       "      <td>NaN</td>\n",
       "      <td>Краснодар</td>\n",
       "      <td>Рафаил</td>\n",
       "      <td>Верещагин</td>\n",
       "      <td>2018-05-25</td>\n",
       "      <td>ultra</td>\n",
       "      <td>3.0</td>\n",
       "      <td>3.0</td>\n",
       "      <td>...</td>\n",
       "      <td>81.0</td>\n",
       "      <td>408.0</td>\n",
       "      <td>52.0</td>\n",
       "      <td>1000</td>\n",
       "      <td>30720</td>\n",
       "      <td>3000</td>\n",
       "      <td>1950</td>\n",
       "      <td>150</td>\n",
       "      <td>1</td>\n",
       "      <td>1</td>\n",
       "    </tr>\n",
       "    <tr>\n",
       "      <th>4</th>\n",
       "      <td>1000</td>\n",
       "      <td>52</td>\n",
       "      <td>NaN</td>\n",
       "      <td>Краснодар</td>\n",
       "      <td>Рафаил</td>\n",
       "      <td>Верещагин</td>\n",
       "      <td>2018-05-25</td>\n",
       "      <td>ultra</td>\n",
       "      <td>4.0</td>\n",
       "      <td>4.0</td>\n",
       "      <td>...</td>\n",
       "      <td>57.0</td>\n",
       "      <td>466.0</td>\n",
       "      <td>58.0</td>\n",
       "      <td>1000</td>\n",
       "      <td>30720</td>\n",
       "      <td>3000</td>\n",
       "      <td>1950</td>\n",
       "      <td>150</td>\n",
       "      <td>1</td>\n",
       "      <td>1</td>\n",
       "    </tr>\n",
       "  </tbody>\n",
       "</table>\n",
       "<p>5 rows × 22 columns</p>\n",
       "</div>"
      ],
      "text/plain": [
       "   user_id  age churn_date       city first_name  last_name   reg_date tariff  \\\n",
       "0     1000   52        NaN  Краснодар     Рафаил  Верещагин 2018-05-25  ultra   \n",
       "1     1000   52        NaN  Краснодар     Рафаил  Верещагин 2018-05-25  ultra   \n",
       "2     1000   52        NaN  Краснодар     Рафаил  Верещагин 2018-05-25  ultra   \n",
       "3     1000   52        NaN  Краснодар     Рафаил  Верещагин 2018-05-25  ultra   \n",
       "4     1000   52        NaN  Краснодар     Рафаил  Верещагин 2018-05-25  ultra   \n",
       "\n",
       "   level_0  index  ...  msg_send  duration  call_number  messages_included  \\\n",
       "0      0.0    0.0  ...      22.0     159.0         22.0               1000   \n",
       "1      1.0    1.0  ...      60.0     172.0         43.0               1000   \n",
       "2      2.0    2.0  ...      75.0     340.0         47.0               1000   \n",
       "3      3.0    3.0  ...      81.0     408.0         52.0               1000   \n",
       "4      4.0    4.0  ...      57.0     466.0         58.0               1000   \n",
       "\n",
       "   mb_per_month_included  minutes_included  rub_monthly_fee  rub_per_gb  \\\n",
       "0                  30720              3000             1950         150   \n",
       "1                  30720              3000             1950         150   \n",
       "2                  30720              3000             1950         150   \n",
       "3                  30720              3000             1950         150   \n",
       "4                  30720              3000             1950         150   \n",
       "\n",
       "   rub_per_message  rub_per_minute  \n",
       "0                1               1  \n",
       "1                1               1  \n",
       "2                1               1  \n",
       "3                1               1  \n",
       "4                1               1  \n",
       "\n",
       "[5 rows x 22 columns]"
      ]
     },
     "execution_count": 23,
     "metadata": {},
     "output_type": "execute_result"
    }
   ],
   "source": [
    "#Объединим промежуточную таблицу users3 с датасетом tariffs:\n",
    "df = users1.merge(tariffs, on='tariff', how='left')\n",
    "df.info()\n",
    "df.head()"
   ]
  },
  {
   "cell_type": "markdown",
   "metadata": {},
   "source": [
    "## Предобработка данных <a class=\"anchor\" id=\"second\"></a>"
   ]
  },
  {
   "cell_type": "markdown",
   "metadata": {},
   "source": [
    "Проверим полученный датасет на наличие ошибок, заполним пропуски, изменим типы данных."
   ]
  },
  {
   "cell_type": "code",
   "execution_count": 24,
   "metadata": {
    "scrolled": true
   },
   "outputs": [
    {
     "data": {
      "text/plain": [
       "user_id                     0\n",
       "age                         0\n",
       "churn_date               3027\n",
       "city                        0\n",
       "first_name                  0\n",
       "last_name                   0\n",
       "reg_date                    0\n",
       "tariff                      0\n",
       "level_0                     2\n",
       "index                       2\n",
       "month                       2\n",
       "mb_used                     2\n",
       "msg_send                    2\n",
       "duration                    2\n",
       "call_number                42\n",
       "messages_included           0\n",
       "mb_per_month_included       0\n",
       "minutes_included            0\n",
       "rub_monthly_fee             0\n",
       "rub_per_gb                  0\n",
       "rub_per_message             0\n",
       "rub_per_minute              0\n",
       "dtype: int64"
      ]
     },
     "execution_count": 24,
     "metadata": {},
     "output_type": "execute_result"
    }
   ],
   "source": [
    "#Определим количество пропусков в датасете:\n",
    "df.isna().sum()"
   ]
  },
  {
   "cell_type": "code",
   "execution_count": 25,
   "metadata": {},
   "outputs": [
    {
     "data": {
      "text/plain": [
       "user_id                     0\n",
       "age                         0\n",
       "churn_date               3027\n",
       "city                        0\n",
       "first_name                  0\n",
       "last_name                   0\n",
       "reg_date                    0\n",
       "tariff                      0\n",
       "level_0                     0\n",
       "index                       0\n",
       "month                       0\n",
       "mb_used                     0\n",
       "msg_send                    0\n",
       "duration                    0\n",
       "call_number                40\n",
       "messages_included           0\n",
       "mb_per_month_included       0\n",
       "minutes_included            0\n",
       "rub_monthly_fee             0\n",
       "rub_per_gb                  0\n",
       "rub_per_message             0\n",
       "rub_per_minute              0\n",
       "dtype: int64"
      ]
     },
     "execution_count": 25,
     "metadata": {},
     "output_type": "execute_result"
    }
   ],
   "source": [
    "df = df.dropna(subset=['month']).reset_index(drop=True)\n",
    "df.isna().sum()"
   ]
  },
  {
   "cell_type": "code",
   "execution_count": 26,
   "metadata": {},
   "outputs": [
    {
     "name": "stdout",
     "output_type": "stream",
     "text": [
      "<class 'pandas.core.frame.DataFrame'>\n",
      "RangeIndex: 3214 entries, 0 to 3213\n",
      "Data columns (total 20 columns):\n",
      " #   Column                 Non-Null Count  Dtype         \n",
      "---  ------                 --------------  -----         \n",
      " 0   user_id                3214 non-null   int64         \n",
      " 1   age                    3214 non-null   int64         \n",
      " 2   churn_date             187 non-null    object        \n",
      " 3   city                   3214 non-null   object        \n",
      " 4   first_name             3214 non-null   object        \n",
      " 5   last_name              3214 non-null   object        \n",
      " 6   reg_date               3214 non-null   datetime64[ns]\n",
      " 7   tariff                 3214 non-null   object        \n",
      " 8   month                  3214 non-null   float64       \n",
      " 9   mb_used                3214 non-null   float64       \n",
      " 10  msg_send               3214 non-null   float64       \n",
      " 11  duration               3214 non-null   float64       \n",
      " 12  call_number            3174 non-null   float64       \n",
      " 13  messages_included      3214 non-null   int64         \n",
      " 14  mb_per_month_included  3214 non-null   int64         \n",
      " 15  minutes_included       3214 non-null   int64         \n",
      " 16  rub_monthly_fee        3214 non-null   int64         \n",
      " 17  rub_per_gb             3214 non-null   int64         \n",
      " 18  rub_per_message        3214 non-null   int64         \n",
      " 19  rub_per_minute         3214 non-null   int64         \n",
      "dtypes: datetime64[ns](1), float64(5), int64(9), object(5)\n",
      "memory usage: 502.3+ KB\n"
     ]
    }
   ],
   "source": [
    "#Удалим лишние столбцы level_0 и index:\n",
    "df.drop(['level_0', 'index'], axis=1, inplace=True)\n",
    "df.info()"
   ]
  },
  {
   "cell_type": "code",
   "execution_count": 27,
   "metadata": {},
   "outputs": [
    {
     "data": {
      "text/plain": [
       "user_id                           int64\n",
       "age                               int64\n",
       "churn_date                       object\n",
       "city                             object\n",
       "first_name                       object\n",
       "last_name                        object\n",
       "reg_date                 datetime64[ns]\n",
       "tariff                           object\n",
       "month                           float64\n",
       "mb_used                         float64\n",
       "msg_send                        float64\n",
       "duration                        float64\n",
       "call_number                     float64\n",
       "messages_included                 int64\n",
       "mb_per_month_included             int64\n",
       "minutes_included                  int64\n",
       "rub_monthly_fee                   int64\n",
       "rub_per_gb                        int64\n",
       "rub_per_message                   int64\n",
       "rub_per_minute                    int64\n",
       "dtype: object"
      ]
     },
     "execution_count": 27,
     "metadata": {},
     "output_type": "execute_result"
    }
   ],
   "source": [
    "#Проверим какие типы данных есть в датасете:\n",
    "df.dtypes"
   ]
  },
  {
   "cell_type": "code",
   "execution_count": 28,
   "metadata": {
    "scrolled": true
   },
   "outputs": [
    {
     "data": {
      "text/html": [
       "<div>\n",
       "<style scoped>\n",
       "    .dataframe tbody tr th:only-of-type {\n",
       "        vertical-align: middle;\n",
       "    }\n",
       "\n",
       "    .dataframe tbody tr th {\n",
       "        vertical-align: top;\n",
       "    }\n",
       "\n",
       "    .dataframe thead th {\n",
       "        text-align: right;\n",
       "    }\n",
       "</style>\n",
       "<table border=\"1\" class=\"dataframe\">\n",
       "  <thead>\n",
       "    <tr style=\"text-align: right;\">\n",
       "      <th></th>\n",
       "      <th>user_id</th>\n",
       "      <th>age</th>\n",
       "      <th>churn_date</th>\n",
       "      <th>city</th>\n",
       "      <th>first_name</th>\n",
       "      <th>last_name</th>\n",
       "      <th>reg_date</th>\n",
       "      <th>tariff</th>\n",
       "      <th>month</th>\n",
       "      <th>mb_used</th>\n",
       "      <th>msg_send</th>\n",
       "      <th>duration</th>\n",
       "      <th>call_number</th>\n",
       "      <th>messages_included</th>\n",
       "      <th>mb_per_month_included</th>\n",
       "      <th>minutes_included</th>\n",
       "      <th>rub_monthly_fee</th>\n",
       "      <th>rub_per_gb</th>\n",
       "      <th>rub_per_message</th>\n",
       "      <th>rub_per_minute</th>\n",
       "    </tr>\n",
       "  </thead>\n",
       "  <tbody>\n",
       "    <tr>\n",
       "      <th>0</th>\n",
       "      <td>1000</td>\n",
       "      <td>52</td>\n",
       "      <td>NaN</td>\n",
       "      <td>Краснодар</td>\n",
       "      <td>Рафаил</td>\n",
       "      <td>Верещагин</td>\n",
       "      <td>2018-05-25</td>\n",
       "      <td>ultra</td>\n",
       "      <td>5</td>\n",
       "      <td>2253.49</td>\n",
       "      <td>22</td>\n",
       "      <td>159</td>\n",
       "      <td>22.0</td>\n",
       "      <td>1000</td>\n",
       "      <td>30720</td>\n",
       "      <td>3000</td>\n",
       "      <td>1950</td>\n",
       "      <td>150</td>\n",
       "      <td>1</td>\n",
       "      <td>1</td>\n",
       "    </tr>\n",
       "    <tr>\n",
       "      <th>1</th>\n",
       "      <td>1000</td>\n",
       "      <td>52</td>\n",
       "      <td>NaN</td>\n",
       "      <td>Краснодар</td>\n",
       "      <td>Рафаил</td>\n",
       "      <td>Верещагин</td>\n",
       "      <td>2018-05-25</td>\n",
       "      <td>ultra</td>\n",
       "      <td>6</td>\n",
       "      <td>23233.77</td>\n",
       "      <td>60</td>\n",
       "      <td>172</td>\n",
       "      <td>43.0</td>\n",
       "      <td>1000</td>\n",
       "      <td>30720</td>\n",
       "      <td>3000</td>\n",
       "      <td>1950</td>\n",
       "      <td>150</td>\n",
       "      <td>1</td>\n",
       "      <td>1</td>\n",
       "    </tr>\n",
       "    <tr>\n",
       "      <th>2</th>\n",
       "      <td>1000</td>\n",
       "      <td>52</td>\n",
       "      <td>NaN</td>\n",
       "      <td>Краснодар</td>\n",
       "      <td>Рафаил</td>\n",
       "      <td>Верещагин</td>\n",
       "      <td>2018-05-25</td>\n",
       "      <td>ultra</td>\n",
       "      <td>7</td>\n",
       "      <td>14003.64</td>\n",
       "      <td>75</td>\n",
       "      <td>340</td>\n",
       "      <td>47.0</td>\n",
       "      <td>1000</td>\n",
       "      <td>30720</td>\n",
       "      <td>3000</td>\n",
       "      <td>1950</td>\n",
       "      <td>150</td>\n",
       "      <td>1</td>\n",
       "      <td>1</td>\n",
       "    </tr>\n",
       "    <tr>\n",
       "      <th>3</th>\n",
       "      <td>1000</td>\n",
       "      <td>52</td>\n",
       "      <td>NaN</td>\n",
       "      <td>Краснодар</td>\n",
       "      <td>Рафаил</td>\n",
       "      <td>Верещагин</td>\n",
       "      <td>2018-05-25</td>\n",
       "      <td>ultra</td>\n",
       "      <td>8</td>\n",
       "      <td>14055.93</td>\n",
       "      <td>81</td>\n",
       "      <td>408</td>\n",
       "      <td>52.0</td>\n",
       "      <td>1000</td>\n",
       "      <td>30720</td>\n",
       "      <td>3000</td>\n",
       "      <td>1950</td>\n",
       "      <td>150</td>\n",
       "      <td>1</td>\n",
       "      <td>1</td>\n",
       "    </tr>\n",
       "    <tr>\n",
       "      <th>4</th>\n",
       "      <td>1000</td>\n",
       "      <td>52</td>\n",
       "      <td>NaN</td>\n",
       "      <td>Краснодар</td>\n",
       "      <td>Рафаил</td>\n",
       "      <td>Верещагин</td>\n",
       "      <td>2018-05-25</td>\n",
       "      <td>ultra</td>\n",
       "      <td>9</td>\n",
       "      <td>14568.91</td>\n",
       "      <td>57</td>\n",
       "      <td>466</td>\n",
       "      <td>58.0</td>\n",
       "      <td>1000</td>\n",
       "      <td>30720</td>\n",
       "      <td>3000</td>\n",
       "      <td>1950</td>\n",
       "      <td>150</td>\n",
       "      <td>1</td>\n",
       "      <td>1</td>\n",
       "    </tr>\n",
       "    <tr>\n",
       "      <th>5</th>\n",
       "      <td>1000</td>\n",
       "      <td>52</td>\n",
       "      <td>NaN</td>\n",
       "      <td>Краснодар</td>\n",
       "      <td>Рафаил</td>\n",
       "      <td>Верещагин</td>\n",
       "      <td>2018-05-25</td>\n",
       "      <td>ultra</td>\n",
       "      <td>10</td>\n",
       "      <td>14702.49</td>\n",
       "      <td>73</td>\n",
       "      <td>350</td>\n",
       "      <td>57.0</td>\n",
       "      <td>1000</td>\n",
       "      <td>30720</td>\n",
       "      <td>3000</td>\n",
       "      <td>1950</td>\n",
       "      <td>150</td>\n",
       "      <td>1</td>\n",
       "      <td>1</td>\n",
       "    </tr>\n",
       "    <tr>\n",
       "      <th>6</th>\n",
       "      <td>1000</td>\n",
       "      <td>52</td>\n",
       "      <td>NaN</td>\n",
       "      <td>Краснодар</td>\n",
       "      <td>Рафаил</td>\n",
       "      <td>Верещагин</td>\n",
       "      <td>2018-05-25</td>\n",
       "      <td>ultra</td>\n",
       "      <td>11</td>\n",
       "      <td>14756.47</td>\n",
       "      <td>58</td>\n",
       "      <td>338</td>\n",
       "      <td>43.0</td>\n",
       "      <td>1000</td>\n",
       "      <td>30720</td>\n",
       "      <td>3000</td>\n",
       "      <td>1950</td>\n",
       "      <td>150</td>\n",
       "      <td>1</td>\n",
       "      <td>1</td>\n",
       "    </tr>\n",
       "    <tr>\n",
       "      <th>7</th>\n",
       "      <td>1000</td>\n",
       "      <td>52</td>\n",
       "      <td>NaN</td>\n",
       "      <td>Краснодар</td>\n",
       "      <td>Рафаил</td>\n",
       "      <td>Верещагин</td>\n",
       "      <td>2018-05-25</td>\n",
       "      <td>ultra</td>\n",
       "      <td>12</td>\n",
       "      <td>9817.61</td>\n",
       "      <td>70</td>\n",
       "      <td>333</td>\n",
       "      <td>46.0</td>\n",
       "      <td>1000</td>\n",
       "      <td>30720</td>\n",
       "      <td>3000</td>\n",
       "      <td>1950</td>\n",
       "      <td>150</td>\n",
       "      <td>1</td>\n",
       "      <td>1</td>\n",
       "    </tr>\n",
       "    <tr>\n",
       "      <th>8</th>\n",
       "      <td>1001</td>\n",
       "      <td>41</td>\n",
       "      <td>NaN</td>\n",
       "      <td>Москва</td>\n",
       "      <td>Иван</td>\n",
       "      <td>Ежов</td>\n",
       "      <td>2018-11-01</td>\n",
       "      <td>smart</td>\n",
       "      <td>11</td>\n",
       "      <td>18429.34</td>\n",
       "      <td>0</td>\n",
       "      <td>430</td>\n",
       "      <td>59.0</td>\n",
       "      <td>50</td>\n",
       "      <td>15360</td>\n",
       "      <td>500</td>\n",
       "      <td>550</td>\n",
       "      <td>200</td>\n",
       "      <td>3</td>\n",
       "      <td>3</td>\n",
       "    </tr>\n",
       "    <tr>\n",
       "      <th>9</th>\n",
       "      <td>1001</td>\n",
       "      <td>41</td>\n",
       "      <td>NaN</td>\n",
       "      <td>Москва</td>\n",
       "      <td>Иван</td>\n",
       "      <td>Ежов</td>\n",
       "      <td>2018-11-01</td>\n",
       "      <td>smart</td>\n",
       "      <td>12</td>\n",
       "      <td>14036.66</td>\n",
       "      <td>0</td>\n",
       "      <td>414</td>\n",
       "      <td>63.0</td>\n",
       "      <td>50</td>\n",
       "      <td>15360</td>\n",
       "      <td>500</td>\n",
       "      <td>550</td>\n",
       "      <td>200</td>\n",
       "      <td>3</td>\n",
       "      <td>3</td>\n",
       "    </tr>\n",
       "  </tbody>\n",
       "</table>\n",
       "</div>"
      ],
      "text/plain": [
       "   user_id  age churn_date       city first_name  last_name   reg_date tariff  \\\n",
       "0     1000   52        NaN  Краснодар     Рафаил  Верещагин 2018-05-25  ultra   \n",
       "1     1000   52        NaN  Краснодар     Рафаил  Верещагин 2018-05-25  ultra   \n",
       "2     1000   52        NaN  Краснодар     Рафаил  Верещагин 2018-05-25  ultra   \n",
       "3     1000   52        NaN  Краснодар     Рафаил  Верещагин 2018-05-25  ultra   \n",
       "4     1000   52        NaN  Краснодар     Рафаил  Верещагин 2018-05-25  ultra   \n",
       "5     1000   52        NaN  Краснодар     Рафаил  Верещагин 2018-05-25  ultra   \n",
       "6     1000   52        NaN  Краснодар     Рафаил  Верещагин 2018-05-25  ultra   \n",
       "7     1000   52        NaN  Краснодар     Рафаил  Верещагин 2018-05-25  ultra   \n",
       "8     1001   41        NaN     Москва       Иван       Ежов 2018-11-01  smart   \n",
       "9     1001   41        NaN     Москва       Иван       Ежов 2018-11-01  smart   \n",
       "\n",
       "   month   mb_used  msg_send  duration  call_number  messages_included  \\\n",
       "0      5   2253.49        22       159         22.0               1000   \n",
       "1      6  23233.77        60       172         43.0               1000   \n",
       "2      7  14003.64        75       340         47.0               1000   \n",
       "3      8  14055.93        81       408         52.0               1000   \n",
       "4      9  14568.91        57       466         58.0               1000   \n",
       "5     10  14702.49        73       350         57.0               1000   \n",
       "6     11  14756.47        58       338         43.0               1000   \n",
       "7     12   9817.61        70       333         46.0               1000   \n",
       "8     11  18429.34         0       430         59.0                 50   \n",
       "9     12  14036.66         0       414         63.0                 50   \n",
       "\n",
       "   mb_per_month_included  minutes_included  rub_monthly_fee  rub_per_gb  \\\n",
       "0                  30720              3000             1950         150   \n",
       "1                  30720              3000             1950         150   \n",
       "2                  30720              3000             1950         150   \n",
       "3                  30720              3000             1950         150   \n",
       "4                  30720              3000             1950         150   \n",
       "5                  30720              3000             1950         150   \n",
       "6                  30720              3000             1950         150   \n",
       "7                  30720              3000             1950         150   \n",
       "8                  15360               500              550         200   \n",
       "9                  15360               500              550         200   \n",
       "\n",
       "   rub_per_message  rub_per_minute  \n",
       "0                1               1  \n",
       "1                1               1  \n",
       "2                1               1  \n",
       "3                1               1  \n",
       "4                1               1  \n",
       "5                1               1  \n",
       "6                1               1  \n",
       "7                1               1  \n",
       "8                3               3  \n",
       "9                3               3  "
      ]
     },
     "execution_count": 28,
     "metadata": {},
     "output_type": "execute_result"
    }
   ],
   "source": [
    "#Изменим тип данных в столбце 'mb_used' на целочисленный, так как, судя по описаниям тарифа, мегабайты необходимо будет переводить в гигабайты:\n",
    "df['msg_send'] = df['msg_send'].astype('int')\n",
    "df['duration'] = df['duration'].astype('int')\n",
    "df['month'] = df['month'].astype('int')\n",
    "df.head(10)"
   ]
  },
  {
   "cell_type": "code",
   "execution_count": 29,
   "metadata": {},
   "outputs": [
    {
     "data": {
      "text/html": [
       "<div>\n",
       "<style scoped>\n",
       "    .dataframe tbody tr th:only-of-type {\n",
       "        vertical-align: middle;\n",
       "    }\n",
       "\n",
       "    .dataframe tbody tr th {\n",
       "        vertical-align: top;\n",
       "    }\n",
       "\n",
       "    .dataframe thead th {\n",
       "        text-align: right;\n",
       "    }\n",
       "</style>\n",
       "<table border=\"1\" class=\"dataframe\">\n",
       "  <thead>\n",
       "    <tr style=\"text-align: right;\">\n",
       "      <th></th>\n",
       "      <th>user_id</th>\n",
       "      <th>age</th>\n",
       "      <th>churn_date</th>\n",
       "      <th>city</th>\n",
       "      <th>first_name</th>\n",
       "      <th>last_name</th>\n",
       "      <th>reg_date</th>\n",
       "      <th>tariff</th>\n",
       "      <th>month</th>\n",
       "      <th>mb_used</th>\n",
       "      <th>...</th>\n",
       "      <th>duration</th>\n",
       "      <th>call_number</th>\n",
       "      <th>messages_included</th>\n",
       "      <th>mb_per_month_included</th>\n",
       "      <th>minutes_included</th>\n",
       "      <th>rub_monthly_fee</th>\n",
       "      <th>rub_per_gb</th>\n",
       "      <th>rub_per_message</th>\n",
       "      <th>rub_per_minute</th>\n",
       "      <th>gb_used</th>\n",
       "    </tr>\n",
       "  </thead>\n",
       "  <tbody>\n",
       "    <tr>\n",
       "      <th>0</th>\n",
       "      <td>1000</td>\n",
       "      <td>52</td>\n",
       "      <td>NaN</td>\n",
       "      <td>Краснодар</td>\n",
       "      <td>Рафаил</td>\n",
       "      <td>Верещагин</td>\n",
       "      <td>2018-05-25</td>\n",
       "      <td>ultra</td>\n",
       "      <td>5</td>\n",
       "      <td>2253.49</td>\n",
       "      <td>...</td>\n",
       "      <td>159</td>\n",
       "      <td>22.0</td>\n",
       "      <td>1000</td>\n",
       "      <td>30720</td>\n",
       "      <td>3000</td>\n",
       "      <td>1950</td>\n",
       "      <td>150</td>\n",
       "      <td>1</td>\n",
       "      <td>1</td>\n",
       "      <td>3.0</td>\n",
       "    </tr>\n",
       "    <tr>\n",
       "      <th>1</th>\n",
       "      <td>1000</td>\n",
       "      <td>52</td>\n",
       "      <td>NaN</td>\n",
       "      <td>Краснодар</td>\n",
       "      <td>Рафаил</td>\n",
       "      <td>Верещагин</td>\n",
       "      <td>2018-05-25</td>\n",
       "      <td>ultra</td>\n",
       "      <td>6</td>\n",
       "      <td>23233.77</td>\n",
       "      <td>...</td>\n",
       "      <td>172</td>\n",
       "      <td>43.0</td>\n",
       "      <td>1000</td>\n",
       "      <td>30720</td>\n",
       "      <td>3000</td>\n",
       "      <td>1950</td>\n",
       "      <td>150</td>\n",
       "      <td>1</td>\n",
       "      <td>1</td>\n",
       "      <td>23.0</td>\n",
       "    </tr>\n",
       "    <tr>\n",
       "      <th>2</th>\n",
       "      <td>1000</td>\n",
       "      <td>52</td>\n",
       "      <td>NaN</td>\n",
       "      <td>Краснодар</td>\n",
       "      <td>Рафаил</td>\n",
       "      <td>Верещагин</td>\n",
       "      <td>2018-05-25</td>\n",
       "      <td>ultra</td>\n",
       "      <td>7</td>\n",
       "      <td>14003.64</td>\n",
       "      <td>...</td>\n",
       "      <td>340</td>\n",
       "      <td>47.0</td>\n",
       "      <td>1000</td>\n",
       "      <td>30720</td>\n",
       "      <td>3000</td>\n",
       "      <td>1950</td>\n",
       "      <td>150</td>\n",
       "      <td>1</td>\n",
       "      <td>1</td>\n",
       "      <td>14.0</td>\n",
       "    </tr>\n",
       "    <tr>\n",
       "      <th>3</th>\n",
       "      <td>1000</td>\n",
       "      <td>52</td>\n",
       "      <td>NaN</td>\n",
       "      <td>Краснодар</td>\n",
       "      <td>Рафаил</td>\n",
       "      <td>Верещагин</td>\n",
       "      <td>2018-05-25</td>\n",
       "      <td>ultra</td>\n",
       "      <td>8</td>\n",
       "      <td>14055.93</td>\n",
       "      <td>...</td>\n",
       "      <td>408</td>\n",
       "      <td>52.0</td>\n",
       "      <td>1000</td>\n",
       "      <td>30720</td>\n",
       "      <td>3000</td>\n",
       "      <td>1950</td>\n",
       "      <td>150</td>\n",
       "      <td>1</td>\n",
       "      <td>1</td>\n",
       "      <td>14.0</td>\n",
       "    </tr>\n",
       "    <tr>\n",
       "      <th>4</th>\n",
       "      <td>1000</td>\n",
       "      <td>52</td>\n",
       "      <td>NaN</td>\n",
       "      <td>Краснодар</td>\n",
       "      <td>Рафаил</td>\n",
       "      <td>Верещагин</td>\n",
       "      <td>2018-05-25</td>\n",
       "      <td>ultra</td>\n",
       "      <td>9</td>\n",
       "      <td>14568.91</td>\n",
       "      <td>...</td>\n",
       "      <td>466</td>\n",
       "      <td>58.0</td>\n",
       "      <td>1000</td>\n",
       "      <td>30720</td>\n",
       "      <td>3000</td>\n",
       "      <td>1950</td>\n",
       "      <td>150</td>\n",
       "      <td>1</td>\n",
       "      <td>1</td>\n",
       "      <td>15.0</td>\n",
       "    </tr>\n",
       "  </tbody>\n",
       "</table>\n",
       "<p>5 rows × 21 columns</p>\n",
       "</div>"
      ],
      "text/plain": [
       "   user_id  age churn_date       city first_name  last_name   reg_date tariff  \\\n",
       "0     1000   52        NaN  Краснодар     Рафаил  Верещагин 2018-05-25  ultra   \n",
       "1     1000   52        NaN  Краснодар     Рафаил  Верещагин 2018-05-25  ultra   \n",
       "2     1000   52        NaN  Краснодар     Рафаил  Верещагин 2018-05-25  ultra   \n",
       "3     1000   52        NaN  Краснодар     Рафаил  Верещагин 2018-05-25  ultra   \n",
       "4     1000   52        NaN  Краснодар     Рафаил  Верещагин 2018-05-25  ultra   \n",
       "\n",
       "   month   mb_used  ...  duration  call_number  messages_included  \\\n",
       "0      5   2253.49  ...       159         22.0               1000   \n",
       "1      6  23233.77  ...       172         43.0               1000   \n",
       "2      7  14003.64  ...       340         47.0               1000   \n",
       "3      8  14055.93  ...       408         52.0               1000   \n",
       "4      9  14568.91  ...       466         58.0               1000   \n",
       "\n",
       "   mb_per_month_included  minutes_included  rub_monthly_fee  rub_per_gb  \\\n",
       "0                  30720              3000             1950         150   \n",
       "1                  30720              3000             1950         150   \n",
       "2                  30720              3000             1950         150   \n",
       "3                  30720              3000             1950         150   \n",
       "4                  30720              3000             1950         150   \n",
       "\n",
       "   rub_per_message  rub_per_minute  gb_used  \n",
       "0                1               1      3.0  \n",
       "1                1               1     23.0  \n",
       "2                1               1     14.0  \n",
       "3                1               1     14.0  \n",
       "4                1               1     15.0  \n",
       "\n",
       "[5 rows x 21 columns]"
      ]
     },
     "execution_count": 29,
     "metadata": {},
     "output_type": "execute_result"
    }
   ],
   "source": [
    "#Округлим мегабайты трафика до гигабайт:\n",
    "df['gb_used'] = df['mb_used'] / 1024\n",
    "df['gb_used']=np.ceil(df['gb_used'].astype(float))\n",
    "df.head()"
   ]
  },
  {
   "cell_type": "code",
   "execution_count": 30,
   "metadata": {},
   "outputs": [
    {
     "data": {
      "text/html": [
       "<div>\n",
       "<style scoped>\n",
       "    .dataframe tbody tr th:only-of-type {\n",
       "        vertical-align: middle;\n",
       "    }\n",
       "\n",
       "    .dataframe tbody tr th {\n",
       "        vertical-align: top;\n",
       "    }\n",
       "\n",
       "    .dataframe thead th {\n",
       "        text-align: right;\n",
       "    }\n",
       "</style>\n",
       "<table border=\"1\" class=\"dataframe\">\n",
       "  <thead>\n",
       "    <tr style=\"text-align: right;\">\n",
       "      <th></th>\n",
       "      <th>user_id</th>\n",
       "      <th>age</th>\n",
       "      <th>churn_date</th>\n",
       "      <th>city</th>\n",
       "      <th>first_name</th>\n",
       "      <th>last_name</th>\n",
       "      <th>reg_date</th>\n",
       "      <th>tariff</th>\n",
       "      <th>month</th>\n",
       "      <th>mb_used</th>\n",
       "      <th>...</th>\n",
       "      <th>call_number</th>\n",
       "      <th>messages_included</th>\n",
       "      <th>mb_per_month_included</th>\n",
       "      <th>minutes_included</th>\n",
       "      <th>rub_monthly_fee</th>\n",
       "      <th>rub_per_gb</th>\n",
       "      <th>rub_per_message</th>\n",
       "      <th>rub_per_minute</th>\n",
       "      <th>gb_used</th>\n",
       "      <th>gb_per_month_included</th>\n",
       "    </tr>\n",
       "  </thead>\n",
       "  <tbody>\n",
       "    <tr>\n",
       "      <th>0</th>\n",
       "      <td>1000</td>\n",
       "      <td>52</td>\n",
       "      <td>NaN</td>\n",
       "      <td>Краснодар</td>\n",
       "      <td>Рафаил</td>\n",
       "      <td>Верещагин</td>\n",
       "      <td>2018-05-25</td>\n",
       "      <td>ultra</td>\n",
       "      <td>5</td>\n",
       "      <td>2253.49</td>\n",
       "      <td>...</td>\n",
       "      <td>22.0</td>\n",
       "      <td>1000</td>\n",
       "      <td>30720</td>\n",
       "      <td>3000</td>\n",
       "      <td>1950</td>\n",
       "      <td>150</td>\n",
       "      <td>1</td>\n",
       "      <td>1</td>\n",
       "      <td>3.0</td>\n",
       "      <td>30.0</td>\n",
       "    </tr>\n",
       "    <tr>\n",
       "      <th>1</th>\n",
       "      <td>1000</td>\n",
       "      <td>52</td>\n",
       "      <td>NaN</td>\n",
       "      <td>Краснодар</td>\n",
       "      <td>Рафаил</td>\n",
       "      <td>Верещагин</td>\n",
       "      <td>2018-05-25</td>\n",
       "      <td>ultra</td>\n",
       "      <td>6</td>\n",
       "      <td>23233.77</td>\n",
       "      <td>...</td>\n",
       "      <td>43.0</td>\n",
       "      <td>1000</td>\n",
       "      <td>30720</td>\n",
       "      <td>3000</td>\n",
       "      <td>1950</td>\n",
       "      <td>150</td>\n",
       "      <td>1</td>\n",
       "      <td>1</td>\n",
       "      <td>23.0</td>\n",
       "      <td>30.0</td>\n",
       "    </tr>\n",
       "    <tr>\n",
       "      <th>2</th>\n",
       "      <td>1000</td>\n",
       "      <td>52</td>\n",
       "      <td>NaN</td>\n",
       "      <td>Краснодар</td>\n",
       "      <td>Рафаил</td>\n",
       "      <td>Верещагин</td>\n",
       "      <td>2018-05-25</td>\n",
       "      <td>ultra</td>\n",
       "      <td>7</td>\n",
       "      <td>14003.64</td>\n",
       "      <td>...</td>\n",
       "      <td>47.0</td>\n",
       "      <td>1000</td>\n",
       "      <td>30720</td>\n",
       "      <td>3000</td>\n",
       "      <td>1950</td>\n",
       "      <td>150</td>\n",
       "      <td>1</td>\n",
       "      <td>1</td>\n",
       "      <td>14.0</td>\n",
       "      <td>30.0</td>\n",
       "    </tr>\n",
       "    <tr>\n",
       "      <th>3</th>\n",
       "      <td>1000</td>\n",
       "      <td>52</td>\n",
       "      <td>NaN</td>\n",
       "      <td>Краснодар</td>\n",
       "      <td>Рафаил</td>\n",
       "      <td>Верещагин</td>\n",
       "      <td>2018-05-25</td>\n",
       "      <td>ultra</td>\n",
       "      <td>8</td>\n",
       "      <td>14055.93</td>\n",
       "      <td>...</td>\n",
       "      <td>52.0</td>\n",
       "      <td>1000</td>\n",
       "      <td>30720</td>\n",
       "      <td>3000</td>\n",
       "      <td>1950</td>\n",
       "      <td>150</td>\n",
       "      <td>1</td>\n",
       "      <td>1</td>\n",
       "      <td>14.0</td>\n",
       "      <td>30.0</td>\n",
       "    </tr>\n",
       "    <tr>\n",
       "      <th>4</th>\n",
       "      <td>1000</td>\n",
       "      <td>52</td>\n",
       "      <td>NaN</td>\n",
       "      <td>Краснодар</td>\n",
       "      <td>Рафаил</td>\n",
       "      <td>Верещагин</td>\n",
       "      <td>2018-05-25</td>\n",
       "      <td>ultra</td>\n",
       "      <td>9</td>\n",
       "      <td>14568.91</td>\n",
       "      <td>...</td>\n",
       "      <td>58.0</td>\n",
       "      <td>1000</td>\n",
       "      <td>30720</td>\n",
       "      <td>3000</td>\n",
       "      <td>1950</td>\n",
       "      <td>150</td>\n",
       "      <td>1</td>\n",
       "      <td>1</td>\n",
       "      <td>15.0</td>\n",
       "      <td>30.0</td>\n",
       "    </tr>\n",
       "  </tbody>\n",
       "</table>\n",
       "<p>5 rows × 22 columns</p>\n",
       "</div>"
      ],
      "text/plain": [
       "   user_id  age churn_date       city first_name  last_name   reg_date tariff  \\\n",
       "0     1000   52        NaN  Краснодар     Рафаил  Верещагин 2018-05-25  ultra   \n",
       "1     1000   52        NaN  Краснодар     Рафаил  Верещагин 2018-05-25  ultra   \n",
       "2     1000   52        NaN  Краснодар     Рафаил  Верещагин 2018-05-25  ultra   \n",
       "3     1000   52        NaN  Краснодар     Рафаил  Верещагин 2018-05-25  ultra   \n",
       "4     1000   52        NaN  Краснодар     Рафаил  Верещагин 2018-05-25  ultra   \n",
       "\n",
       "   month   mb_used  ...  call_number  messages_included  \\\n",
       "0      5   2253.49  ...         22.0               1000   \n",
       "1      6  23233.77  ...         43.0               1000   \n",
       "2      7  14003.64  ...         47.0               1000   \n",
       "3      8  14055.93  ...         52.0               1000   \n",
       "4      9  14568.91  ...         58.0               1000   \n",
       "\n",
       "   mb_per_month_included  minutes_included  rub_monthly_fee  rub_per_gb  \\\n",
       "0                  30720              3000             1950         150   \n",
       "1                  30720              3000             1950         150   \n",
       "2                  30720              3000             1950         150   \n",
       "3                  30720              3000             1950         150   \n",
       "4                  30720              3000             1950         150   \n",
       "\n",
       "   rub_per_message  rub_per_minute  gb_used  gb_per_month_included  \n",
       "0                1               1      3.0                   30.0  \n",
       "1                1               1     23.0                   30.0  \n",
       "2                1               1     14.0                   30.0  \n",
       "3                1               1     14.0                   30.0  \n",
       "4                1               1     15.0                   30.0  \n",
       "\n",
       "[5 rows x 22 columns]"
      ]
     },
     "execution_count": 30,
     "metadata": {},
     "output_type": "execute_result"
    }
   ],
   "source": [
    "#Добавим столбец с количеством Гб, включенных в каждый тариф:\n",
    "df['gb_per_month_included'] = df['mb_per_month_included'] / 1024\n",
    "df.head()"
   ]
  },
  {
   "cell_type": "code",
   "execution_count": 31,
   "metadata": {
    "scrolled": true
   },
   "outputs": [
    {
     "data": {
      "text/html": [
       "<div>\n",
       "<style scoped>\n",
       "    .dataframe tbody tr th:only-of-type {\n",
       "        vertical-align: middle;\n",
       "    }\n",
       "\n",
       "    .dataframe tbody tr th {\n",
       "        vertical-align: top;\n",
       "    }\n",
       "\n",
       "    .dataframe thead th {\n",
       "        text-align: right;\n",
       "    }\n",
       "</style>\n",
       "<table border=\"1\" class=\"dataframe\">\n",
       "  <thead>\n",
       "    <tr style=\"text-align: right;\">\n",
       "      <th></th>\n",
       "      <th>user_id</th>\n",
       "      <th>age</th>\n",
       "      <th>churn_date</th>\n",
       "      <th>city</th>\n",
       "      <th>first_name</th>\n",
       "      <th>last_name</th>\n",
       "      <th>reg_date</th>\n",
       "      <th>tariff</th>\n",
       "      <th>month</th>\n",
       "      <th>mb_used</th>\n",
       "      <th>...</th>\n",
       "      <th>minutes_included</th>\n",
       "      <th>rub_monthly_fee</th>\n",
       "      <th>rub_per_gb</th>\n",
       "      <th>rub_per_message</th>\n",
       "      <th>rub_per_minute</th>\n",
       "      <th>gb_used</th>\n",
       "      <th>gb_per_month_included</th>\n",
       "      <th>gb_spend</th>\n",
       "      <th>msg_spend</th>\n",
       "      <th>minutes_spend</th>\n",
       "    </tr>\n",
       "  </thead>\n",
       "  <tbody>\n",
       "    <tr>\n",
       "      <th>0</th>\n",
       "      <td>1000</td>\n",
       "      <td>52</td>\n",
       "      <td>NaN</td>\n",
       "      <td>Краснодар</td>\n",
       "      <td>Рафаил</td>\n",
       "      <td>Верещагин</td>\n",
       "      <td>2018-05-25</td>\n",
       "      <td>ultra</td>\n",
       "      <td>5</td>\n",
       "      <td>2253.49</td>\n",
       "      <td>...</td>\n",
       "      <td>3000</td>\n",
       "      <td>1950</td>\n",
       "      <td>150</td>\n",
       "      <td>1</td>\n",
       "      <td>1</td>\n",
       "      <td>3.0</td>\n",
       "      <td>30.0</td>\n",
       "      <td>0.0</td>\n",
       "      <td>0</td>\n",
       "      <td>0</td>\n",
       "    </tr>\n",
       "    <tr>\n",
       "      <th>1</th>\n",
       "      <td>1000</td>\n",
       "      <td>52</td>\n",
       "      <td>NaN</td>\n",
       "      <td>Краснодар</td>\n",
       "      <td>Рафаил</td>\n",
       "      <td>Верещагин</td>\n",
       "      <td>2018-05-25</td>\n",
       "      <td>ultra</td>\n",
       "      <td>6</td>\n",
       "      <td>23233.77</td>\n",
       "      <td>...</td>\n",
       "      <td>3000</td>\n",
       "      <td>1950</td>\n",
       "      <td>150</td>\n",
       "      <td>1</td>\n",
       "      <td>1</td>\n",
       "      <td>23.0</td>\n",
       "      <td>30.0</td>\n",
       "      <td>0.0</td>\n",
       "      <td>0</td>\n",
       "      <td>0</td>\n",
       "    </tr>\n",
       "    <tr>\n",
       "      <th>2</th>\n",
       "      <td>1000</td>\n",
       "      <td>52</td>\n",
       "      <td>NaN</td>\n",
       "      <td>Краснодар</td>\n",
       "      <td>Рафаил</td>\n",
       "      <td>Верещагин</td>\n",
       "      <td>2018-05-25</td>\n",
       "      <td>ultra</td>\n",
       "      <td>7</td>\n",
       "      <td>14003.64</td>\n",
       "      <td>...</td>\n",
       "      <td>3000</td>\n",
       "      <td>1950</td>\n",
       "      <td>150</td>\n",
       "      <td>1</td>\n",
       "      <td>1</td>\n",
       "      <td>14.0</td>\n",
       "      <td>30.0</td>\n",
       "      <td>0.0</td>\n",
       "      <td>0</td>\n",
       "      <td>0</td>\n",
       "    </tr>\n",
       "    <tr>\n",
       "      <th>3</th>\n",
       "      <td>1000</td>\n",
       "      <td>52</td>\n",
       "      <td>NaN</td>\n",
       "      <td>Краснодар</td>\n",
       "      <td>Рафаил</td>\n",
       "      <td>Верещагин</td>\n",
       "      <td>2018-05-25</td>\n",
       "      <td>ultra</td>\n",
       "      <td>8</td>\n",
       "      <td>14055.93</td>\n",
       "      <td>...</td>\n",
       "      <td>3000</td>\n",
       "      <td>1950</td>\n",
       "      <td>150</td>\n",
       "      <td>1</td>\n",
       "      <td>1</td>\n",
       "      <td>14.0</td>\n",
       "      <td>30.0</td>\n",
       "      <td>0.0</td>\n",
       "      <td>0</td>\n",
       "      <td>0</td>\n",
       "    </tr>\n",
       "    <tr>\n",
       "      <th>4</th>\n",
       "      <td>1000</td>\n",
       "      <td>52</td>\n",
       "      <td>NaN</td>\n",
       "      <td>Краснодар</td>\n",
       "      <td>Рафаил</td>\n",
       "      <td>Верещагин</td>\n",
       "      <td>2018-05-25</td>\n",
       "      <td>ultra</td>\n",
       "      <td>9</td>\n",
       "      <td>14568.91</td>\n",
       "      <td>...</td>\n",
       "      <td>3000</td>\n",
       "      <td>1950</td>\n",
       "      <td>150</td>\n",
       "      <td>1</td>\n",
       "      <td>1</td>\n",
       "      <td>15.0</td>\n",
       "      <td>30.0</td>\n",
       "      <td>0.0</td>\n",
       "      <td>0</td>\n",
       "      <td>0</td>\n",
       "    </tr>\n",
       "  </tbody>\n",
       "</table>\n",
       "<p>5 rows × 25 columns</p>\n",
       "</div>"
      ],
      "text/plain": [
       "   user_id  age churn_date       city first_name  last_name   reg_date tariff  \\\n",
       "0     1000   52        NaN  Краснодар     Рафаил  Верещагин 2018-05-25  ultra   \n",
       "1     1000   52        NaN  Краснодар     Рафаил  Верещагин 2018-05-25  ultra   \n",
       "2     1000   52        NaN  Краснодар     Рафаил  Верещагин 2018-05-25  ultra   \n",
       "3     1000   52        NaN  Краснодар     Рафаил  Верещагин 2018-05-25  ultra   \n",
       "4     1000   52        NaN  Краснодар     Рафаил  Верещагин 2018-05-25  ultra   \n",
       "\n",
       "   month   mb_used  ...  minutes_included  rub_monthly_fee  rub_per_gb  \\\n",
       "0      5   2253.49  ...              3000             1950         150   \n",
       "1      6  23233.77  ...              3000             1950         150   \n",
       "2      7  14003.64  ...              3000             1950         150   \n",
       "3      8  14055.93  ...              3000             1950         150   \n",
       "4      9  14568.91  ...              3000             1950         150   \n",
       "\n",
       "   rub_per_message  rub_per_minute  gb_used  gb_per_month_included  gb_spend  \\\n",
       "0                1               1      3.0                   30.0       0.0   \n",
       "1                1               1     23.0                   30.0       0.0   \n",
       "2                1               1     14.0                   30.0       0.0   \n",
       "3                1               1     14.0                   30.0       0.0   \n",
       "4                1               1     15.0                   30.0       0.0   \n",
       "\n",
       "   msg_spend  minutes_spend  \n",
       "0          0              0  \n",
       "1          0              0  \n",
       "2          0              0  \n",
       "3          0              0  \n",
       "4          0              0  \n",
       "\n",
       "[5 rows x 25 columns]"
      ]
     },
     "execution_count": 31,
     "metadata": {},
     "output_type": "execute_result"
    }
   ],
   "source": [
    "#Для расчет прибыли добавим в таблицу информацию о потраченных звонках, минутах и трафике:\n",
    "df['gb_spend'] = (df['gb_used'] - df['gb_per_month_included']).clip(lower=0)\n",
    "df['msg_spend'] = (df['msg_send'] - df['messages_included']).clip(lower=0)\n",
    "df['minutes_spend'] = (df['duration'] - df['minutes_included']).clip(lower=0)\n",
    "df.head()"
   ]
  },
  {
   "cell_type": "code",
   "execution_count": 32,
   "metadata": {},
   "outputs": [
    {
     "data": {
      "text/html": [
       "<div>\n",
       "<style scoped>\n",
       "    .dataframe tbody tr th:only-of-type {\n",
       "        vertical-align: middle;\n",
       "    }\n",
       "\n",
       "    .dataframe tbody tr th {\n",
       "        vertical-align: top;\n",
       "    }\n",
       "\n",
       "    .dataframe thead th {\n",
       "        text-align: right;\n",
       "    }\n",
       "</style>\n",
       "<table border=\"1\" class=\"dataframe\">\n",
       "  <thead>\n",
       "    <tr style=\"text-align: right;\">\n",
       "      <th></th>\n",
       "      <th>user_id</th>\n",
       "      <th>age</th>\n",
       "      <th>churn_date</th>\n",
       "      <th>city</th>\n",
       "      <th>first_name</th>\n",
       "      <th>last_name</th>\n",
       "      <th>reg_date</th>\n",
       "      <th>tariff</th>\n",
       "      <th>month</th>\n",
       "      <th>mb_used</th>\n",
       "      <th>...</th>\n",
       "      <th>rub_monthly_fee</th>\n",
       "      <th>rub_per_gb</th>\n",
       "      <th>rub_per_message</th>\n",
       "      <th>rub_per_minute</th>\n",
       "      <th>gb_used</th>\n",
       "      <th>gb_per_month_included</th>\n",
       "      <th>gb_spend</th>\n",
       "      <th>msg_spend</th>\n",
       "      <th>minutes_spend</th>\n",
       "      <th>profit</th>\n",
       "    </tr>\n",
       "  </thead>\n",
       "  <tbody>\n",
       "    <tr>\n",
       "      <th>0</th>\n",
       "      <td>1000</td>\n",
       "      <td>52</td>\n",
       "      <td>NaN</td>\n",
       "      <td>Краснодар</td>\n",
       "      <td>Рафаил</td>\n",
       "      <td>Верещагин</td>\n",
       "      <td>2018-05-25</td>\n",
       "      <td>ultra</td>\n",
       "      <td>5</td>\n",
       "      <td>2253.49</td>\n",
       "      <td>...</td>\n",
       "      <td>1950</td>\n",
       "      <td>150</td>\n",
       "      <td>1</td>\n",
       "      <td>1</td>\n",
       "      <td>3.0</td>\n",
       "      <td>30.0</td>\n",
       "      <td>0.0</td>\n",
       "      <td>0</td>\n",
       "      <td>0</td>\n",
       "      <td>1950.0</td>\n",
       "    </tr>\n",
       "    <tr>\n",
       "      <th>1</th>\n",
       "      <td>1000</td>\n",
       "      <td>52</td>\n",
       "      <td>NaN</td>\n",
       "      <td>Краснодар</td>\n",
       "      <td>Рафаил</td>\n",
       "      <td>Верещагин</td>\n",
       "      <td>2018-05-25</td>\n",
       "      <td>ultra</td>\n",
       "      <td>6</td>\n",
       "      <td>23233.77</td>\n",
       "      <td>...</td>\n",
       "      <td>1950</td>\n",
       "      <td>150</td>\n",
       "      <td>1</td>\n",
       "      <td>1</td>\n",
       "      <td>23.0</td>\n",
       "      <td>30.0</td>\n",
       "      <td>0.0</td>\n",
       "      <td>0</td>\n",
       "      <td>0</td>\n",
       "      <td>1950.0</td>\n",
       "    </tr>\n",
       "    <tr>\n",
       "      <th>2</th>\n",
       "      <td>1000</td>\n",
       "      <td>52</td>\n",
       "      <td>NaN</td>\n",
       "      <td>Краснодар</td>\n",
       "      <td>Рафаил</td>\n",
       "      <td>Верещагин</td>\n",
       "      <td>2018-05-25</td>\n",
       "      <td>ultra</td>\n",
       "      <td>7</td>\n",
       "      <td>14003.64</td>\n",
       "      <td>...</td>\n",
       "      <td>1950</td>\n",
       "      <td>150</td>\n",
       "      <td>1</td>\n",
       "      <td>1</td>\n",
       "      <td>14.0</td>\n",
       "      <td>30.0</td>\n",
       "      <td>0.0</td>\n",
       "      <td>0</td>\n",
       "      <td>0</td>\n",
       "      <td>1950.0</td>\n",
       "    </tr>\n",
       "    <tr>\n",
       "      <th>3</th>\n",
       "      <td>1000</td>\n",
       "      <td>52</td>\n",
       "      <td>NaN</td>\n",
       "      <td>Краснодар</td>\n",
       "      <td>Рафаил</td>\n",
       "      <td>Верещагин</td>\n",
       "      <td>2018-05-25</td>\n",
       "      <td>ultra</td>\n",
       "      <td>8</td>\n",
       "      <td>14055.93</td>\n",
       "      <td>...</td>\n",
       "      <td>1950</td>\n",
       "      <td>150</td>\n",
       "      <td>1</td>\n",
       "      <td>1</td>\n",
       "      <td>14.0</td>\n",
       "      <td>30.0</td>\n",
       "      <td>0.0</td>\n",
       "      <td>0</td>\n",
       "      <td>0</td>\n",
       "      <td>1950.0</td>\n",
       "    </tr>\n",
       "    <tr>\n",
       "      <th>4</th>\n",
       "      <td>1000</td>\n",
       "      <td>52</td>\n",
       "      <td>NaN</td>\n",
       "      <td>Краснодар</td>\n",
       "      <td>Рафаил</td>\n",
       "      <td>Верещагин</td>\n",
       "      <td>2018-05-25</td>\n",
       "      <td>ultra</td>\n",
       "      <td>9</td>\n",
       "      <td>14568.91</td>\n",
       "      <td>...</td>\n",
       "      <td>1950</td>\n",
       "      <td>150</td>\n",
       "      <td>1</td>\n",
       "      <td>1</td>\n",
       "      <td>15.0</td>\n",
       "      <td>30.0</td>\n",
       "      <td>0.0</td>\n",
       "      <td>0</td>\n",
       "      <td>0</td>\n",
       "      <td>1950.0</td>\n",
       "    </tr>\n",
       "    <tr>\n",
       "      <th>5</th>\n",
       "      <td>1000</td>\n",
       "      <td>52</td>\n",
       "      <td>NaN</td>\n",
       "      <td>Краснодар</td>\n",
       "      <td>Рафаил</td>\n",
       "      <td>Верещагин</td>\n",
       "      <td>2018-05-25</td>\n",
       "      <td>ultra</td>\n",
       "      <td>10</td>\n",
       "      <td>14702.49</td>\n",
       "      <td>...</td>\n",
       "      <td>1950</td>\n",
       "      <td>150</td>\n",
       "      <td>1</td>\n",
       "      <td>1</td>\n",
       "      <td>15.0</td>\n",
       "      <td>30.0</td>\n",
       "      <td>0.0</td>\n",
       "      <td>0</td>\n",
       "      <td>0</td>\n",
       "      <td>1950.0</td>\n",
       "    </tr>\n",
       "    <tr>\n",
       "      <th>6</th>\n",
       "      <td>1000</td>\n",
       "      <td>52</td>\n",
       "      <td>NaN</td>\n",
       "      <td>Краснодар</td>\n",
       "      <td>Рафаил</td>\n",
       "      <td>Верещагин</td>\n",
       "      <td>2018-05-25</td>\n",
       "      <td>ultra</td>\n",
       "      <td>11</td>\n",
       "      <td>14756.47</td>\n",
       "      <td>...</td>\n",
       "      <td>1950</td>\n",
       "      <td>150</td>\n",
       "      <td>1</td>\n",
       "      <td>1</td>\n",
       "      <td>15.0</td>\n",
       "      <td>30.0</td>\n",
       "      <td>0.0</td>\n",
       "      <td>0</td>\n",
       "      <td>0</td>\n",
       "      <td>1950.0</td>\n",
       "    </tr>\n",
       "    <tr>\n",
       "      <th>7</th>\n",
       "      <td>1000</td>\n",
       "      <td>52</td>\n",
       "      <td>NaN</td>\n",
       "      <td>Краснодар</td>\n",
       "      <td>Рафаил</td>\n",
       "      <td>Верещагин</td>\n",
       "      <td>2018-05-25</td>\n",
       "      <td>ultra</td>\n",
       "      <td>12</td>\n",
       "      <td>9817.61</td>\n",
       "      <td>...</td>\n",
       "      <td>1950</td>\n",
       "      <td>150</td>\n",
       "      <td>1</td>\n",
       "      <td>1</td>\n",
       "      <td>10.0</td>\n",
       "      <td>30.0</td>\n",
       "      <td>0.0</td>\n",
       "      <td>0</td>\n",
       "      <td>0</td>\n",
       "      <td>1950.0</td>\n",
       "    </tr>\n",
       "    <tr>\n",
       "      <th>8</th>\n",
       "      <td>1001</td>\n",
       "      <td>41</td>\n",
       "      <td>NaN</td>\n",
       "      <td>Москва</td>\n",
       "      <td>Иван</td>\n",
       "      <td>Ежов</td>\n",
       "      <td>2018-11-01</td>\n",
       "      <td>smart</td>\n",
       "      <td>11</td>\n",
       "      <td>18429.34</td>\n",
       "      <td>...</td>\n",
       "      <td>550</td>\n",
       "      <td>200</td>\n",
       "      <td>3</td>\n",
       "      <td>3</td>\n",
       "      <td>18.0</td>\n",
       "      <td>15.0</td>\n",
       "      <td>3.0</td>\n",
       "      <td>0</td>\n",
       "      <td>0</td>\n",
       "      <td>1150.0</td>\n",
       "    </tr>\n",
       "    <tr>\n",
       "      <th>9</th>\n",
       "      <td>1001</td>\n",
       "      <td>41</td>\n",
       "      <td>NaN</td>\n",
       "      <td>Москва</td>\n",
       "      <td>Иван</td>\n",
       "      <td>Ежов</td>\n",
       "      <td>2018-11-01</td>\n",
       "      <td>smart</td>\n",
       "      <td>12</td>\n",
       "      <td>14036.66</td>\n",
       "      <td>...</td>\n",
       "      <td>550</td>\n",
       "      <td>200</td>\n",
       "      <td>3</td>\n",
       "      <td>3</td>\n",
       "      <td>14.0</td>\n",
       "      <td>15.0</td>\n",
       "      <td>0.0</td>\n",
       "      <td>0</td>\n",
       "      <td>0</td>\n",
       "      <td>550.0</td>\n",
       "    </tr>\n",
       "  </tbody>\n",
       "</table>\n",
       "<p>10 rows × 26 columns</p>\n",
       "</div>"
      ],
      "text/plain": [
       "   user_id  age churn_date       city first_name  last_name   reg_date tariff  \\\n",
       "0     1000   52        NaN  Краснодар     Рафаил  Верещагин 2018-05-25  ultra   \n",
       "1     1000   52        NaN  Краснодар     Рафаил  Верещагин 2018-05-25  ultra   \n",
       "2     1000   52        NaN  Краснодар     Рафаил  Верещагин 2018-05-25  ultra   \n",
       "3     1000   52        NaN  Краснодар     Рафаил  Верещагин 2018-05-25  ultra   \n",
       "4     1000   52        NaN  Краснодар     Рафаил  Верещагин 2018-05-25  ultra   \n",
       "5     1000   52        NaN  Краснодар     Рафаил  Верещагин 2018-05-25  ultra   \n",
       "6     1000   52        NaN  Краснодар     Рафаил  Верещагин 2018-05-25  ultra   \n",
       "7     1000   52        NaN  Краснодар     Рафаил  Верещагин 2018-05-25  ultra   \n",
       "8     1001   41        NaN     Москва       Иван       Ежов 2018-11-01  smart   \n",
       "9     1001   41        NaN     Москва       Иван       Ежов 2018-11-01  smart   \n",
       "\n",
       "   month   mb_used  ...  rub_monthly_fee  rub_per_gb  rub_per_message  \\\n",
       "0      5   2253.49  ...             1950         150                1   \n",
       "1      6  23233.77  ...             1950         150                1   \n",
       "2      7  14003.64  ...             1950         150                1   \n",
       "3      8  14055.93  ...             1950         150                1   \n",
       "4      9  14568.91  ...             1950         150                1   \n",
       "5     10  14702.49  ...             1950         150                1   \n",
       "6     11  14756.47  ...             1950         150                1   \n",
       "7     12   9817.61  ...             1950         150                1   \n",
       "8     11  18429.34  ...              550         200                3   \n",
       "9     12  14036.66  ...              550         200                3   \n",
       "\n",
       "   rub_per_minute  gb_used  gb_per_month_included  gb_spend  msg_spend  \\\n",
       "0               1      3.0                   30.0       0.0          0   \n",
       "1               1     23.0                   30.0       0.0          0   \n",
       "2               1     14.0                   30.0       0.0          0   \n",
       "3               1     14.0                   30.0       0.0          0   \n",
       "4               1     15.0                   30.0       0.0          0   \n",
       "5               1     15.0                   30.0       0.0          0   \n",
       "6               1     15.0                   30.0       0.0          0   \n",
       "7               1     10.0                   30.0       0.0          0   \n",
       "8               3     18.0                   15.0       3.0          0   \n",
       "9               3     14.0                   15.0       0.0          0   \n",
       "\n",
       "   minutes_spend  profit  \n",
       "0              0  1950.0  \n",
       "1              0  1950.0  \n",
       "2              0  1950.0  \n",
       "3              0  1950.0  \n",
       "4              0  1950.0  \n",
       "5              0  1950.0  \n",
       "6              0  1950.0  \n",
       "7              0  1950.0  \n",
       "8              0  1150.0  \n",
       "9              0   550.0  \n",
       "\n",
       "[10 rows x 26 columns]"
      ]
     },
     "execution_count": 32,
     "metadata": {},
     "output_type": "execute_result"
    }
   ],
   "source": [
    "#Функция для расчета прибыли в зависимости от потраченных минут, трафика и сообщений:\n",
    "def profit_calculation(row):\n",
    "    gb_spend = row['gb_spend']\n",
    "    msg_spend = row['msg_spend']\n",
    "    minutes_spend = row['minutes_spend']\n",
    "    rub_per_gb = row['rub_per_gb']\n",
    "    rub_per_message = row['rub_per_message']\n",
    "    rub_per_minute = row['rub_per_minute']\n",
    "    rub_monthly_fee = row['rub_monthly_fee']\n",
    "    result = (gb_spend * rub_per_gb) + (msg_spend * rub_per_message) + (minutes_spend * rub_per_minute) + rub_monthly_fee\n",
    "    return result\n",
    "df['profit'] = df.apply(profit_calculation, axis=1)\n",
    "df.head(10)"
   ]
  },
  {
   "cell_type": "markdown",
   "metadata": {},
   "source": [
    "## Анализ полученных данных <a class=\"anchor\" id=\"third\"></a>"
   ]
  },
  {
   "cell_type": "markdown",
   "metadata": {},
   "source": [
    "Определим и проанализируем средние показатели использования трафика, сообщений и минут разговора для каждого пользователя в зависимости от тарифа, которым он пользуется."
   ]
  },
  {
   "cell_type": "code",
   "execution_count": 33,
   "metadata": {
    "scrolled": true
   },
   "outputs": [
    {
     "name": "stdout",
     "output_type": "stream",
     "text": [
      "<class 'pandas.core.frame.DataFrame'>\n",
      "RangeIndex: 3214 entries, 0 to 3213\n",
      "Data columns (total 6 columns):\n",
      " #   Column    Non-Null Count  Dtype  \n",
      "---  ------    --------------  -----  \n",
      " 0   user_id   3214 non-null   int64  \n",
      " 1   month     3214 non-null   int32  \n",
      " 2   tariff    3214 non-null   object \n",
      " 3   gb_used   3214 non-null   float64\n",
      " 4   msg_send  3214 non-null   int32  \n",
      " 5   duration  3214 non-null   int32  \n",
      "dtypes: float64(1), int32(3), int64(1), object(1)\n",
      "memory usage: 113.1+ KB\n"
     ]
    },
    {
     "data": {
      "text/html": [
       "<div>\n",
       "<style scoped>\n",
       "    .dataframe tbody tr th:only-of-type {\n",
       "        vertical-align: middle;\n",
       "    }\n",
       "\n",
       "    .dataframe tbody tr th {\n",
       "        vertical-align: top;\n",
       "    }\n",
       "\n",
       "    .dataframe thead th {\n",
       "        text-align: right;\n",
       "    }\n",
       "</style>\n",
       "<table border=\"1\" class=\"dataframe\">\n",
       "  <thead>\n",
       "    <tr style=\"text-align: right;\">\n",
       "      <th></th>\n",
       "      <th>user_id</th>\n",
       "      <th>month</th>\n",
       "      <th>tariff</th>\n",
       "      <th>gb_used</th>\n",
       "      <th>msg_send</th>\n",
       "      <th>duration</th>\n",
       "    </tr>\n",
       "  </thead>\n",
       "  <tbody>\n",
       "    <tr>\n",
       "      <th>0</th>\n",
       "      <td>1000</td>\n",
       "      <td>5</td>\n",
       "      <td>ultra</td>\n",
       "      <td>3.0</td>\n",
       "      <td>22</td>\n",
       "      <td>159</td>\n",
       "    </tr>\n",
       "    <tr>\n",
       "      <th>1</th>\n",
       "      <td>1000</td>\n",
       "      <td>6</td>\n",
       "      <td>ultra</td>\n",
       "      <td>23.0</td>\n",
       "      <td>60</td>\n",
       "      <td>172</td>\n",
       "    </tr>\n",
       "    <tr>\n",
       "      <th>2</th>\n",
       "      <td>1000</td>\n",
       "      <td>7</td>\n",
       "      <td>ultra</td>\n",
       "      <td>14.0</td>\n",
       "      <td>75</td>\n",
       "      <td>340</td>\n",
       "    </tr>\n",
       "    <tr>\n",
       "      <th>3</th>\n",
       "      <td>1000</td>\n",
       "      <td>8</td>\n",
       "      <td>ultra</td>\n",
       "      <td>14.0</td>\n",
       "      <td>81</td>\n",
       "      <td>408</td>\n",
       "    </tr>\n",
       "    <tr>\n",
       "      <th>4</th>\n",
       "      <td>1000</td>\n",
       "      <td>9</td>\n",
       "      <td>ultra</td>\n",
       "      <td>15.0</td>\n",
       "      <td>57</td>\n",
       "      <td>466</td>\n",
       "    </tr>\n",
       "    <tr>\n",
       "      <th>5</th>\n",
       "      <td>1000</td>\n",
       "      <td>10</td>\n",
       "      <td>ultra</td>\n",
       "      <td>15.0</td>\n",
       "      <td>73</td>\n",
       "      <td>350</td>\n",
       "    </tr>\n",
       "    <tr>\n",
       "      <th>6</th>\n",
       "      <td>1000</td>\n",
       "      <td>11</td>\n",
       "      <td>ultra</td>\n",
       "      <td>15.0</td>\n",
       "      <td>58</td>\n",
       "      <td>338</td>\n",
       "    </tr>\n",
       "    <tr>\n",
       "      <th>7</th>\n",
       "      <td>1000</td>\n",
       "      <td>12</td>\n",
       "      <td>ultra</td>\n",
       "      <td>10.0</td>\n",
       "      <td>70</td>\n",
       "      <td>333</td>\n",
       "    </tr>\n",
       "    <tr>\n",
       "      <th>8</th>\n",
       "      <td>1001</td>\n",
       "      <td>11</td>\n",
       "      <td>smart</td>\n",
       "      <td>18.0</td>\n",
       "      <td>0</td>\n",
       "      <td>430</td>\n",
       "    </tr>\n",
       "    <tr>\n",
       "      <th>9</th>\n",
       "      <td>1001</td>\n",
       "      <td>12</td>\n",
       "      <td>smart</td>\n",
       "      <td>14.0</td>\n",
       "      <td>0</td>\n",
       "      <td>414</td>\n",
       "    </tr>\n",
       "  </tbody>\n",
       "</table>\n",
       "</div>"
      ],
      "text/plain": [
       "   user_id  month tariff  gb_used  msg_send  duration\n",
       "0     1000      5  ultra      3.0        22       159\n",
       "1     1000      6  ultra     23.0        60       172\n",
       "2     1000      7  ultra     14.0        75       340\n",
       "3     1000      8  ultra     14.0        81       408\n",
       "4     1000      9  ultra     15.0        57       466\n",
       "5     1000     10  ultra     15.0        73       350\n",
       "6     1000     11  ultra     15.0        58       338\n",
       "7     1000     12  ultra     10.0        70       333\n",
       "8     1001     11  smart     18.0         0       430\n",
       "9     1001     12  smart     14.0         0       414"
      ]
     },
     "execution_count": 33,
     "metadata": {},
     "output_type": "execute_result"
    }
   ],
   "source": [
    "#Выделим из основного датафрейма таблицу с необходимыми данными для анализа:\n",
    "df_tariff = df[['user_id', 'month', 'tariff', 'gb_used', 'msg_send', 'duration']]\n",
    "df_tariff.info()\n",
    "df_tariff.head(10)"
   ]
  },
  {
   "cell_type": "code",
   "execution_count": 34,
   "metadata": {
    "scrolled": true
   },
   "outputs": [
    {
     "name": "stdout",
     "output_type": "stream",
     "text": [
      "<class 'pandas.core.frame.DataFrame'>\n",
      "Int64Index: 985 entries, 0 to 3190\n",
      "Data columns (total 6 columns):\n",
      " #   Column    Non-Null Count  Dtype  \n",
      "---  ------    --------------  -----  \n",
      " 0   user_id   985 non-null    int64  \n",
      " 1   month     985 non-null    int32  \n",
      " 2   tariff    985 non-null    object \n",
      " 3   gb_used   985 non-null    float64\n",
      " 4   msg_send  985 non-null    int32  \n",
      " 5   duration  985 non-null    int32  \n",
      "dtypes: float64(1), int32(3), int64(1), object(1)\n",
      "memory usage: 42.3+ KB\n"
     ]
    }
   ],
   "source": [
    "#Тариф \"ultra\":\n",
    "df_tariff_ultra = df_tariff.query('tariff == \"ultra\"')\n",
    "df_tariff_ultra.info()                      "
   ]
  },
  {
   "cell_type": "code",
   "execution_count": 35,
   "metadata": {},
   "outputs": [
    {
     "name": "stdout",
     "output_type": "stream",
     "text": [
      "<class 'pandas.core.frame.DataFrame'>\n",
      "Int64Index: 2229 entries, 8 to 3213\n",
      "Data columns (total 6 columns):\n",
      " #   Column    Non-Null Count  Dtype  \n",
      "---  ------    --------------  -----  \n",
      " 0   user_id   2229 non-null   int64  \n",
      " 1   month     2229 non-null   int32  \n",
      " 2   tariff    2229 non-null   object \n",
      " 3   gb_used   2229 non-null   float64\n",
      " 4   msg_send  2229 non-null   int32  \n",
      " 5   duration  2229 non-null   int32  \n",
      "dtypes: float64(1), int32(3), int64(1), object(1)\n",
      "memory usage: 95.8+ KB\n"
     ]
    }
   ],
   "source": [
    "#Тариф 'smart':\n",
    "df_tariff_smart = df_tariff.query('tariff == \"smart\"')\n",
    "df_tariff_smart.info()"
   ]
  },
  {
   "cell_type": "markdown",
   "metadata": {},
   "source": [
    "Построим гистограммы распределения для всех параметров тарифов Smart и Ultra: трафик, звонки, сообщения."
   ]
  },
  {
   "cell_type": "code",
   "execution_count": 36,
   "metadata": {
    "scrolled": true
   },
   "outputs": [
    {
     "data": {
      "image/png": "[encoded data removed]",
      "text/plain": [
       "<Figure size 1440x360 with 2 Axes>"
      ]
     },
     "metadata": {
      "needs_background": "light"
     },
     "output_type": "display_data"
    }
   ],
   "source": [
    "#Гистограммы распределения используемого трафика в Гб:\n",
    "fig, axes = plt.subplots(1,2,figsize=(20,5))\n",
    "\n",
    "df_tariff_smart['gb_used'].hist(bins=20, ax=axes[0])\n",
    "axes[0].set_xlabel(\"Количество израсходованного трафика в Гб\")\n",
    "\n",
    "df_tariff_ultra['gb_used'].hist(bins=20, ax=axes[1])\n",
    "axes[1].set_xlabel(\"Количество израсходованного трафика в Гб\")\n",
    "\n",
    "axes[0].set_title('Распределение трафика `smart`')\n",
    "axes[1].set_title('Распределение трафика `ultra`')\n",
    "\n",
    "\n",
    "plt.show()"
   ]
  },
  {
   "cell_type": "code",
   "execution_count": 37,
   "metadata": {
    "scrolled": true
   },
   "outputs": [
    {
     "data": {
      "image/png": "[encoded data removed]",
      "text/plain": [
       "<Figure size 1440x360 with 2 Axes>"
      ]
     },
     "metadata": {
      "needs_background": "light"
     },
     "output_type": "display_data"
    }
   ],
   "source": [
    "#Гистограммы распределения совершенных звонков:\n",
    "fig, axes = plt.subplots(1,2,figsize=(20,5))\n",
    "\n",
    "df_tariff_smart['duration'].hist(bins=20, ax=axes[0])\n",
    "axes[0].set_xlabel(\"Количество совершенных звонков\")\n",
    "\n",
    "df_tariff_ultra['duration'].hist(bins=20, ax=axes[1])\n",
    "axes[1].set_xlabel(\"Количество совершенных звонков\")\n",
    "\n",
    "axes[0].set_title('Распределение звонков `smart`')\n",
    "axes[1].set_title('Распределение звонков `ultra`')\n",
    "\n",
    "\n",
    "plt.show()"
   ]
  },
  {
   "cell_type": "code",
   "execution_count": 38,
   "metadata": {},
   "outputs": [
    {
     "data": {
      "image/png": "[encoded data removed]",
      "text/plain": [
       "<Figure size 1440x360 with 2 Axes>"
      ]
     },
     "metadata": {
      "needs_background": "light"
     },
     "output_type": "display_data"
    }
   ],
   "source": [
    "# Гистограммы распределения количества сообщений:\n",
    "fig, axes = plt.subplots(1,2,figsize=(20,5))\n",
    "\n",
    "df_tariff_smart['msg_send'].hist(bins=20, ax=axes[0])\n",
    "axes[0].set_xlabel(\"Количество отправленных сообщений\")\n",
    "\n",
    "df_tariff_ultra['msg_send'].hist(bins=20, ax=axes[1])\n",
    "axes[1].set_xlabel(\"Количество отправленных сообщений\")\n",
    "\n",
    "axes[0].set_title('Распределение количества сообщений `smart`')\n",
    "axes[1].set_title('Распределение количества сообщений `ultra`')\n",
    "\n",
    "\n",
    "plt.show()"
   ]
  },
  {
   "cell_type": "code",
   "execution_count": 39,
   "metadata": {
    "scrolled": true
   },
   "outputs": [
    {
     "data": {
      "text/html": [
       "<div>\n",
       "<style scoped>\n",
       "    .dataframe tbody tr th:only-of-type {\n",
       "        vertical-align: middle;\n",
       "    }\n",
       "\n",
       "    .dataframe tbody tr th {\n",
       "        vertical-align: top;\n",
       "    }\n",
       "\n",
       "    .dataframe thead tr th {\n",
       "        text-align: left;\n",
       "    }\n",
       "\n",
       "    .dataframe thead tr:last-of-type th {\n",
       "        text-align: right;\n",
       "    }\n",
       "</style>\n",
       "<table border=\"1\" class=\"dataframe\">\n",
       "  <thead>\n",
       "    <tr>\n",
       "      <th></th>\n",
       "      <th colspan=\"3\" halign=\"left\">var</th>\n",
       "      <th colspan=\"3\" halign=\"left\">std</th>\n",
       "    </tr>\n",
       "    <tr>\n",
       "      <th></th>\n",
       "      <th>duration</th>\n",
       "      <th>gb_used</th>\n",
       "      <th>msg_send</th>\n",
       "      <th>duration</th>\n",
       "      <th>gb_used</th>\n",
       "      <th>msg_send</th>\n",
       "    </tr>\n",
       "    <tr>\n",
       "      <th>tariff</th>\n",
       "      <th></th>\n",
       "      <th></th>\n",
       "      <th></th>\n",
       "      <th></th>\n",
       "      <th></th>\n",
       "      <th></th>\n",
       "    </tr>\n",
       "  </thead>\n",
       "  <tbody>\n",
       "    <tr>\n",
       "      <th>smart</th>\n",
       "      <td>36219.315784</td>\n",
       "      <td>33.028705</td>\n",
       "      <td>796.812958</td>\n",
       "      <td>190.313730</td>\n",
       "      <td>5.747061</td>\n",
       "      <td>28.227876</td>\n",
       "    </tr>\n",
       "    <tr>\n",
       "      <th>ultra</th>\n",
       "      <td>100873.633397</td>\n",
       "      <td>97.091686</td>\n",
       "      <td>2285.266143</td>\n",
       "      <td>317.606098</td>\n",
       "      <td>9.853511</td>\n",
       "      <td>47.804457</td>\n",
       "    </tr>\n",
       "  </tbody>\n",
       "</table>\n",
       "</div>"
      ],
      "text/plain": [
       "                  var                                 std                     \n",
       "             duration    gb_used     msg_send    duration   gb_used   msg_send\n",
       "tariff                                                                        \n",
       "smart    36219.315784  33.028705   796.812958  190.313730  5.747061  28.227876\n",
       "ultra   100873.633397  97.091686  2285.266143  317.606098  9.853511  47.804457"
      ]
     },
     "execution_count": 39,
     "metadata": {},
     "output_type": "execute_result"
    }
   ],
   "source": [
    "#Посчитаем дисперсию и стандартное отклонение для всех параметров по двум тарифам:\n",
    "df_tariff_pivot = df_tariff.pivot_table(index='tariff', \n",
    "                                        values=['gb_used', 'msg_send', 'duration'], \n",
    "                                        aggfunc=['var', 'std'])\n",
    "df_tariff_pivot"
   ]
  },
  {
   "cell_type": "markdown",
   "metadata": {},
   "source": [
    "**Вывод:** Гистограммы распределения значений для тарифов \"Ультра\" и \"Смарт\" имеют схожий характер: распределения значений трафика и звонков близки к нормальному распределению, а распределение сообщений имеет скошенность вправо. Стандартное отклонение и дисперсия для этих значений показывают, что наименьший разброс имеют значения израсходованного трафика для обоих тарифов ('gb_used'), значения же количества совершенных звонков и отправленных сообщений слишком \"разбросаны\" относительно средних значений этих параметров."
   ]
  },
  {
   "cell_type": "markdown",
   "metadata": {},
   "source": [
    "### Определение показателей разброса данных в параметре \"выручка\" <a class=\"anchor\" id=\"third_one\"></a>"
   ]
  },
  {
   "cell_type": "markdown",
   "metadata": {},
   "source": [
    "Для расчета показателей прибыли среднее значение, дисперсия и стандартное отклонение соберем данные из основного датасета df: "
   ]
  },
  {
   "cell_type": "code",
   "execution_count": 40,
   "metadata": {
    "scrolled": true
   },
   "outputs": [
    {
     "data": {
      "text/html": [
       "<div>\n",
       "<style scoped>\n",
       "    .dataframe tbody tr th:only-of-type {\n",
       "        vertical-align: middle;\n",
       "    }\n",
       "\n",
       "    .dataframe tbody tr th {\n",
       "        vertical-align: top;\n",
       "    }\n",
       "\n",
       "    .dataframe thead th {\n",
       "        text-align: right;\n",
       "    }\n",
       "</style>\n",
       "<table border=\"1\" class=\"dataframe\">\n",
       "  <thead>\n",
       "    <tr style=\"text-align: right;\">\n",
       "      <th></th>\n",
       "      <th>month</th>\n",
       "      <th>tariff</th>\n",
       "      <th>profit</th>\n",
       "    </tr>\n",
       "  </thead>\n",
       "  <tbody>\n",
       "    <tr>\n",
       "      <th>0</th>\n",
       "      <td>5</td>\n",
       "      <td>ultra</td>\n",
       "      <td>1950.0</td>\n",
       "    </tr>\n",
       "    <tr>\n",
       "      <th>1</th>\n",
       "      <td>6</td>\n",
       "      <td>ultra</td>\n",
       "      <td>1950.0</td>\n",
       "    </tr>\n",
       "    <tr>\n",
       "      <th>2</th>\n",
       "      <td>7</td>\n",
       "      <td>ultra</td>\n",
       "      <td>1950.0</td>\n",
       "    </tr>\n",
       "    <tr>\n",
       "      <th>3</th>\n",
       "      <td>8</td>\n",
       "      <td>ultra</td>\n",
       "      <td>1950.0</td>\n",
       "    </tr>\n",
       "    <tr>\n",
       "      <th>4</th>\n",
       "      <td>9</td>\n",
       "      <td>ultra</td>\n",
       "      <td>1950.0</td>\n",
       "    </tr>\n",
       "  </tbody>\n",
       "</table>\n",
       "</div>"
      ],
      "text/plain": [
       "   month tariff  profit\n",
       "0      5  ultra  1950.0\n",
       "1      6  ultra  1950.0\n",
       "2      7  ultra  1950.0\n",
       "3      8  ultra  1950.0\n",
       "4      9  ultra  1950.0"
      ]
     },
     "execution_count": 40,
     "metadata": {},
     "output_type": "execute_result"
    }
   ],
   "source": [
    "df_profit = df[['month', 'tariff', 'profit']]\n",
    "df_profit.head()"
   ]
  },
  {
   "cell_type": "code",
   "execution_count": 41,
   "metadata": {},
   "outputs": [
    {
     "data": {
      "text/html": [
       "<div>\n",
       "<style scoped>\n",
       "    .dataframe tbody tr th:only-of-type {\n",
       "        vertical-align: middle;\n",
       "    }\n",
       "\n",
       "    .dataframe tbody tr th {\n",
       "        vertical-align: top;\n",
       "    }\n",
       "\n",
       "    .dataframe thead th {\n",
       "        text-align: right;\n",
       "    }\n",
       "</style>\n",
       "<table border=\"1\" class=\"dataframe\">\n",
       "  <thead>\n",
       "    <tr style=\"text-align: right;\">\n",
       "      <th></th>\n",
       "      <th>month</th>\n",
       "      <th>tariff</th>\n",
       "      <th>profit</th>\n",
       "    </tr>\n",
       "  </thead>\n",
       "  <tbody>\n",
       "    <tr>\n",
       "      <th>0</th>\n",
       "      <td>5</td>\n",
       "      <td>ultra</td>\n",
       "      <td>1950.0</td>\n",
       "    </tr>\n",
       "    <tr>\n",
       "      <th>1</th>\n",
       "      <td>6</td>\n",
       "      <td>ultra</td>\n",
       "      <td>1950.0</td>\n",
       "    </tr>\n",
       "    <tr>\n",
       "      <th>2</th>\n",
       "      <td>7</td>\n",
       "      <td>ultra</td>\n",
       "      <td>1950.0</td>\n",
       "    </tr>\n",
       "    <tr>\n",
       "      <th>3</th>\n",
       "      <td>8</td>\n",
       "      <td>ultra</td>\n",
       "      <td>1950.0</td>\n",
       "    </tr>\n",
       "    <tr>\n",
       "      <th>4</th>\n",
       "      <td>9</td>\n",
       "      <td>ultra</td>\n",
       "      <td>1950.0</td>\n",
       "    </tr>\n",
       "  </tbody>\n",
       "</table>\n",
       "</div>"
      ],
      "text/plain": [
       "   month tariff  profit\n",
       "0      5  ultra  1950.0\n",
       "1      6  ultra  1950.0\n",
       "2      7  ultra  1950.0\n",
       "3      8  ultra  1950.0\n",
       "4      9  ultra  1950.0"
      ]
     },
     "execution_count": 41,
     "metadata": {},
     "output_type": "execute_result"
    }
   ],
   "source": [
    "#С помощью срезов разделим датафрейм на два в зависимости от тарифа:\n",
    "df_profit_ultra = df_profit.query('tariff == \"ultra\"')\n",
    "#df_profit_ultra.info()\n",
    "df_profit_ultra.head()"
   ]
  },
  {
   "cell_type": "code",
   "execution_count": 42,
   "metadata": {
    "scrolled": false
   },
   "outputs": [
    {
     "data": {
      "text/html": [
       "<div>\n",
       "<style scoped>\n",
       "    .dataframe tbody tr th:only-of-type {\n",
       "        vertical-align: middle;\n",
       "    }\n",
       "\n",
       "    .dataframe tbody tr th {\n",
       "        vertical-align: top;\n",
       "    }\n",
       "\n",
       "    .dataframe thead th {\n",
       "        text-align: right;\n",
       "    }\n",
       "</style>\n",
       "<table border=\"1\" class=\"dataframe\">\n",
       "  <thead>\n",
       "    <tr style=\"text-align: right;\">\n",
       "      <th></th>\n",
       "      <th>month</th>\n",
       "      <th>tariff</th>\n",
       "      <th>profit</th>\n",
       "    </tr>\n",
       "  </thead>\n",
       "  <tbody>\n",
       "    <tr>\n",
       "      <th>8</th>\n",
       "      <td>11</td>\n",
       "      <td>smart</td>\n",
       "      <td>1150.0</td>\n",
       "    </tr>\n",
       "    <tr>\n",
       "      <th>9</th>\n",
       "      <td>12</td>\n",
       "      <td>smart</td>\n",
       "      <td>550.0</td>\n",
       "    </tr>\n",
       "    <tr>\n",
       "      <th>10</th>\n",
       "      <td>6</td>\n",
       "      <td>smart</td>\n",
       "      <td>550.0</td>\n",
       "    </tr>\n",
       "    <tr>\n",
       "      <th>11</th>\n",
       "      <td>7</td>\n",
       "      <td>smart</td>\n",
       "      <td>1150.0</td>\n",
       "    </tr>\n",
       "    <tr>\n",
       "      <th>12</th>\n",
       "      <td>8</td>\n",
       "      <td>smart</td>\n",
       "      <td>1550.0</td>\n",
       "    </tr>\n",
       "  </tbody>\n",
       "</table>\n",
       "</div>"
      ],
      "text/plain": [
       "    month tariff  profit\n",
       "8      11  smart  1150.0\n",
       "9      12  smart   550.0\n",
       "10      6  smart   550.0\n",
       "11      7  smart  1150.0\n",
       "12      8  smart  1550.0"
      ]
     },
     "execution_count": 42,
     "metadata": {},
     "output_type": "execute_result"
    }
   ],
   "source": [
    "df_profit_smart = df_profit.query('tariff == \"smart\"')\n",
    "#df_profit_smart.info()\n",
    "df_profit_smart.head()"
   ]
  },
  {
   "cell_type": "code",
   "execution_count": 43,
   "metadata": {},
   "outputs": [
    {
     "data": {
      "text/html": [
       "<div>\n",
       "<style scoped>\n",
       "    .dataframe tbody tr th:only-of-type {\n",
       "        vertical-align: middle;\n",
       "    }\n",
       "\n",
       "    .dataframe tbody tr th {\n",
       "        vertical-align: top;\n",
       "    }\n",
       "\n",
       "    .dataframe thead tr th {\n",
       "        text-align: left;\n",
       "    }\n",
       "\n",
       "    .dataframe thead tr:last-of-type th {\n",
       "        text-align: right;\n",
       "    }\n",
       "</style>\n",
       "<table border=\"1\" class=\"dataframe\">\n",
       "  <thead>\n",
       "    <tr>\n",
       "      <th></th>\n",
       "      <th>mean</th>\n",
       "      <th>std</th>\n",
       "    </tr>\n",
       "    <tr>\n",
       "      <th></th>\n",
       "      <th>profit</th>\n",
       "      <th>profit</th>\n",
       "    </tr>\n",
       "    <tr>\n",
       "      <th>tariff</th>\n",
       "      <th></th>\n",
       "      <th></th>\n",
       "    </tr>\n",
       "  </thead>\n",
       "  <tbody>\n",
       "    <tr>\n",
       "      <th>smart</th>\n",
       "      <td>1289.973531</td>\n",
       "      <td>818.404367</td>\n",
       "    </tr>\n",
       "    <tr>\n",
       "      <th>ultra</th>\n",
       "      <td>2070.152284</td>\n",
       "      <td>376.187114</td>\n",
       "    </tr>\n",
       "  </tbody>\n",
       "</table>\n",
       "</div>"
      ],
      "text/plain": [
       "               mean         std\n",
       "             profit      profit\n",
       "tariff                         \n",
       "smart   1289.973531  818.404367\n",
       "ultra   2070.152284  376.187114"
      ]
     },
     "execution_count": 43,
     "metadata": {},
     "output_type": "execute_result"
    }
   ],
   "source": [
    "#Посчитаем дисперсию и стандартное отклонение для всех параметров по двум тарифам:\n",
    "df_profit_pivot = df_profit.pivot_table(index='tariff', \n",
    "                                        values=['profit'], \n",
    "                                        aggfunc=['mean', 'std'])\n",
    "df_profit_pivot"
   ]
  },
  {
   "cell_type": "code",
   "execution_count": 44,
   "metadata": {
    "scrolled": false
   },
   "outputs": [
    {
     "data": {
      "image/png": "[encoded data removed]",
      "text/plain": [
       "<Figure size 432x288 with 1 Axes>"
      ]
     },
     "metadata": {
      "needs_background": "light"
     },
     "output_type": "display_data"
    }
   ],
   "source": [
    "#Построим гистограммы для показателя \"выручка\" в зависимости от тарифа:\n",
    "plt.hist([df_profit['profit'], df_profit_smart['profit']], bins=10, label=['ultra', 'smart'])\n",
    "plt.legend(loc='upper right')\n",
    "plt.xlabel('profit')\n",
    "plt.ylabel('count')\n",
    "plt.show()"
   ]
  },
  {
   "cell_type": "code",
   "execution_count": 45,
   "metadata": {
    "scrolled": true
   },
   "outputs": [
    {
     "data": {
      "image/png": "[encoded data removed]",
      "text/plain": [
       "<Figure size 432x288 with 1 Axes>"
      ]
     },
     "metadata": {
      "needs_background": "light"
     },
     "output_type": "display_data"
    },
    {
     "data": {
      "image/png": "[encoded data removed]",
      "text/plain": [
       "<Figure size 432x288 with 1 Axes>"
      ]
     },
     "metadata": {
      "needs_background": "light"
     },
     "output_type": "display_data"
    }
   ],
   "source": [
    "#Для проверки предположения о разбросе построим диаграммы размаха для выручки по каждому тарифу:\n",
    "df_1 = df_profit_ultra[['profit']]\n",
    "df_1.boxplot()\n",
    "plt.ylim(100,3000)\n",
    "plt.show()\n",
    "df_2 = df_profit_smart[['profit']]\n",
    "df_2.boxplot()\n",
    "plt.ylim(100, 4000)\n",
    "plt.show()"
   ]
  },
  {
   "cell_type": "markdown",
   "metadata": {},
   "source": [
    "**Вывод:** На обеих гистограммах наблюдается скошенность значений вправо, что подтверждают построенные ниже диаграммы размаха, на которых видно смещение медианы относительно среднего значения.Средняя выручка пользователей тарифа \"Ультра\" составляет 2070 руб при абонентской плате 1950 руб в месяц, а для тарифа \"Смарт\" средняя выручка- около 1290 руб при абонентской плате 550 руб в месяц.  \n",
    "Величина стандартного отклонения для тарифа \"Ультра\"- 376,2, для тарифа \"Смарт\" - 818,4. На основании этого можно сделать предположение о том, что данные по выручке для тарифа Смарт больше разбросаны относительно среднего значения выручки, чем значения выручки для тарифа Ультра."
   ]
  },
  {
   "cell_type": "markdown",
   "metadata": {},
   "source": [
    "## Проверка гипотез <a class=\"anchor\" id=\"fourth\"></a>"
   ]
  },
  {
   "cell_type": "markdown",
   "metadata": {},
   "source": [
    "Проверим следующие гипотезы:  \n",
    "-средняя выручка пользователей тарифов «Ультра» и «Смарт» различаются;  \n",
    "-средняя выручка пользователей из Москвы отличается от выручки пользователей из других регионов."
   ]
  },
  {
   "cell_type": "code",
   "execution_count": 46,
   "metadata": {},
   "outputs": [],
   "source": [
    "#Создадим два массива с данными выручки для тарифов \"Ультра\" и \"Смарт\":\n",
    "ultra = df_profit_ultra['profit'].to_numpy()\n",
    "#len(ultra)\n",
    "#ultra\n",
    "smart = df_profit_smart['profit'].to_numpy()\n",
    "#smart"
   ]
  },
  {
   "cell_type": "markdown",
   "metadata": {},
   "source": [
    "**Нулевая гипотеза H0**: Средние значения выручек от пользователей тарифов \"Ультра\" и \"Смарт\" равны.  \n",
    "**Альтернативная гипотеза H1:**: Средние значения выручек от пользователей тарифов \"Ультра\" и \"Смарт\" не равны и средняя выручка по одному тарифу больше, чем средняя выручка по другому."
   ]
  },
  {
   "cell_type": "code",
   "execution_count": 47,
   "metadata": {},
   "outputs": [
    {
     "name": "stdout",
     "output_type": "stream",
     "text": [
      "p-значение: 1.4229814360764067e-160\n",
      "Отвергаем нулевую гипотезу\n",
      "Среднее значение выручки по тарифу \"Ультра\" больше: 2070.1522842639592 > 1289.9735307312696\n"
     ]
    }
   ],
   "source": [
    "#Проверим первую гипотезу о неравенстве средних выручек по тарифам \"Ультра\" и \"Смарт\".\n",
    "#Для проверки используем метод st.ttest_ind:\n",
    "alpha = 0.05\n",
    "results = st.ttest_ind(ultra, smart)\n",
    "print('p-значение:', results.pvalue)\n",
    "if (results.pvalue < alpha):\n",
    "    print(\"Отвергаем нулевую гипотезу\")\n",
    "else:\n",
    "    print(\"Не получилось отвергнуть нулевую гипотезу\") \n",
    "if ultra.mean() > smart.mean():\n",
    "    print('Среднее значение выручки по тарифу \"Ультра\" больше:', ultra.mean(), '>', smart.mean())\n",
    "else:\n",
    "    print('Среднее значение выручки по тарифу \"Смарт\" больше:', smart.mean(), '>', ultra.mean())"
   ]
  },
  {
   "cell_type": "markdown",
   "metadata": {},
   "source": [
    "Для проверки второй гипотезы необходимо сначала разделить всех пользователей на пользователей, живущих в Москве и пользователей, живущих в других городах."
   ]
  },
  {
   "cell_type": "code",
   "execution_count": 48,
   "metadata": {
    "scrolled": true
   },
   "outputs": [
    {
     "data": {
      "text/plain": [
       "count     611.000000\n",
       "mean     1546.713584\n",
       "std       752.088071\n",
       "min       550.000000\n",
       "25%       780.500000\n",
       "50%      1750.000000\n",
       "75%      1950.000000\n",
       "max      5321.000000\n",
       "Name: profit, dtype: float64"
      ]
     },
     "execution_count": 48,
     "metadata": {},
     "output_type": "execute_result"
    }
   ],
   "source": [
    "#Выделим из основного датасета df датафрейм с информацией о городах проживания абонентов, тарифах\n",
    "#и выручке с каждого пользователя:\n",
    "df_city = df[['user_id', 'tariff', 'city', 'profit']]\n",
    "#df_city.head()\n",
    "#Выделим пользователей Москвы, использующих тариф \"Ультра\":\n",
    "#df_moscow_ultra = df_city.query('city == \"Москва\" and tariff == \"ultra\"')\n",
    "df_moscow = df_city.query('city == \"Москва\"') \n",
    "df_moscow['profit'].describe()"
   ]
  },
  {
   "cell_type": "code",
   "execution_count": 49,
   "metadata": {},
   "outputs": [
    {
     "data": {
      "text/plain": [
       "count    2603.000000\n",
       "mean     1524.936227\n",
       "std       808.787752\n",
       "min       550.000000\n",
       "25%       750.000000\n",
       "50%      1583.000000\n",
       "75%      1950.000000\n",
       "max      6770.000000\n",
       "Name: profit, dtype: float64"
      ]
     },
     "execution_count": 49,
     "metadata": {},
     "output_type": "execute_result"
    }
   ],
   "source": [
    "#Выделим пользователей живущих в других городах и разделим их по используемым тарифам:\n",
    "\n",
    "df_others = df_city.query('city != \"Москва\"')\n",
    "df_others['profit'].describe()"
   ]
  },
  {
   "cell_type": "code",
   "execution_count": 50,
   "metadata": {},
   "outputs": [],
   "source": [
    "#Создадим массивы со значениями выручки от пользователей Москвы и от пользователей других городов:\n",
    "moscow = df_moscow['profit'].to_numpy()\n",
    "others = df_others['profit'].to_numpy()"
   ]
  },
  {
   "cell_type": "markdown",
   "metadata": {},
   "source": [
    "**Нулевая гипотеза H0**: средние выручки от пользователей Москвы и других городов для каждого тарифа равны.  \n",
    "**Альтернативная гипотеза H1:** средние выручки от жителей Москвы и пользователей других городов для каждого тарифа не равны."
   ]
  },
  {
   "cell_type": "code",
   "execution_count": 51,
   "metadata": {
    "scrolled": true
   },
   "outputs": [
    {
     "name": "stdout",
     "output_type": "stream",
     "text": [
      "p-значение: 0.5440152911670223\n",
      "Не получилось отвергнуть нулевую гипотезу\n",
      "Среднее значение выручки от жителей Москвы, использующих тариф \"Ультра\", больше, чем от пользователей этого тарифа в других городах: 1546.7135842880523 > 1524.9362274298885\n"
     ]
    }
   ],
   "source": [
    "#Проверим вторую гипотезу:\n",
    "#Для тарифа \"Ультра\"\n",
    "alpha = 0.05\n",
    "results2 = st.ttest_ind(moscow, others, equal_var=True)\n",
    "print('p-значение:', results2.pvalue)\n",
    "if (results2.pvalue < alpha):\n",
    "    print(\"Отвергаем нулевую гипотезу\")\n",
    "else:\n",
    "    print(\"Не получилось отвергнуть нулевую гипотезу\") \n",
    "if moscow.mean() > others.mean():\n",
    "    print('Среднее значение выручки от жителей Москвы, использующих тариф \"Ультра\", больше, чем от пользователей этого тарифа в других городах:',\n",
    "          moscow.mean(), '>', others.mean())\n",
    "else:\n",
    "    print('Среднее значение выручки от жителей других городов больше, чем от жителей Москвы:',  \n",
    "          others.mean(), '>', moscow.mean())"
   ]
  },
  {
   "cell_type": "markdown",
   "metadata": {},
   "source": [
    "**Вывод:** Средняя выручка от всех пользователей тарифа \"Ультра\" больше выручки от всех пользователей тарифа \"Смарт\".  \n",
    "Средняя выручка от абонентов Москвы по тарифу \"Ультра\" больше средней выручки от абонентов других городов, а для тарифа \"Смарт\", наоборот:средняя выручка от жителей других городов больше,чем от жителей Москвы.  \n",
    "Полученные значения p-value в ходе расчетов для жителей разных городов и Москвы говорят о том, что несмотря на то, что средние значения выручек разных городов различаются, эти различия могли получиться случайно. То есть, это не слишком значимые различия."
   ]
  },
  {
   "cell_type": "markdown",
   "metadata": {},
   "source": [
    "## Общие выводы <a class=\"anchor\" id=\"fifth\"></a>"
   ]
  },
  {
   "cell_type": "markdown",
   "metadata": {},
   "source": [
    "В ходе исследований тарифов \"Смарт\" и \"Ультра\" оператора сотовой сети \"Мегалайн\" были сделаны следующие выводы:  \n",
    "1. Большее число абонентов из выборки в 500 человек пользуются тарифом \"Смарт\".  \n",
    "2. Большую выручку компания \"Мегалайн\" получает от пользователей тарифа \"Ультра\": в среднем 2071 руб с человека против средней выручки 1289 руб от тарифа \"Смарт\".  \n",
    "3. Выручка с каждого пользователя зависит от количества израсходованных им пакетов услуг и от размера абонентской платы в месяц: например,если пользователь не использовал весь пакет предоставляемого бесплатного трафика, но при этом полностью заплатил абонентскую плату, то выручка для оператора увеличивается.  \n",
    "4. Более перспективным для оператора является тариф \"Смарт\", так как абонентская плата по этому тарифу ниже,чем по тарифу \"Ультра\", что привлекает большее количество пользователей. Но при этом многие из них превышают установленные лимиты по пакетам услуг и продолжают ими пользоваться уже сверх абонентской платы. Как вариант, таким клиентам можно предложить дополнительные пакеты услуг за определенную плату. "
   ]
  },
  {
   "cell_type": "code",
   "execution_count": null,
   "metadata": {},
   "outputs": [],
   "source": []
  }
 ],
 "metadata": {
  "ExecuteTimeLog": [
   {
    "duration": 1032,
    "start_time": "2021-11-25T13:25:53.431Z"
   },
   {
    "duration": 177,
    "start_time": "2021-11-25T13:27:27.777Z"
   },
   {
    "duration": 118,
    "start_time": "2021-11-25T13:29:33.374Z"
   },
   {
    "duration": 26,
    "start_time": "2021-11-25T13:30:37.979Z"
   },
   {
    "duration": 37,
    "start_time": "2021-11-25T13:31:58.098Z"
   },
   {
    "duration": 236,
    "start_time": "2021-11-25T13:41:55.069Z"
   },
   {
    "duration": 200,
    "start_time": "2021-11-25T13:42:12.063Z"
   },
   {
    "duration": 124,
    "start_time": "2021-11-25T13:42:35.275Z"
   },
   {
    "duration": 22,
    "start_time": "2021-11-25T13:42:49.673Z"
   },
   {
    "duration": 31,
    "start_time": "2021-11-25T13:43:05.570Z"
   },
   {
    "duration": 235,
    "start_time": "2021-11-25T13:46:36.397Z"
   },
   {
    "duration": 27,
    "start_time": "2021-11-25T13:47:12.187Z"
   },
   {
    "duration": 12,
    "start_time": "2021-11-25T14:35:32.768Z"
   },
   {
    "duration": 354,
    "start_time": "2021-11-25T14:36:00.785Z"
   },
   {
    "duration": 349,
    "start_time": "2021-11-25T14:37:13.712Z"
   },
   {
    "duration": 31,
    "start_time": "2021-11-25T14:37:23.170Z"
   },
   {
    "duration": 197,
    "start_time": "2021-11-25T14:37:54.076Z"
   },
   {
    "duration": 291,
    "start_time": "2021-11-25T14:45:06.023Z"
   },
   {
    "duration": 308,
    "start_time": "2021-11-25T14:45:40.656Z"
   },
   {
    "duration": 23,
    "start_time": "2021-11-25T14:46:56.688Z"
   },
   {
    "duration": 298,
    "start_time": "2021-11-25T14:47:19.818Z"
   },
   {
    "duration": 302,
    "start_time": "2021-11-25T14:47:30.739Z"
   },
   {
    "duration": 313,
    "start_time": "2021-11-25T14:47:54.875Z"
   },
   {
    "duration": 284,
    "start_time": "2021-11-25T14:48:23.368Z"
   },
   {
    "duration": 232,
    "start_time": "2021-11-25T14:48:29.540Z"
   },
   {
    "duration": 11,
    "start_time": "2021-11-25T14:48:29.775Z"
   },
   {
    "duration": 215,
    "start_time": "2021-11-25T14:48:29.789Z"
   },
   {
    "duration": 137,
    "start_time": "2021-11-25T14:48:30.007Z"
   },
   {
    "duration": 21,
    "start_time": "2021-11-25T14:48:30.147Z"
   },
   {
    "duration": 39,
    "start_time": "2021-11-25T14:48:30.170Z"
   },
   {
    "duration": 30,
    "start_time": "2021-11-25T14:48:30.212Z"
   },
   {
    "duration": 27,
    "start_time": "2021-11-25T14:48:30.246Z"
   },
   {
    "duration": 23,
    "start_time": "2021-11-25T14:48:33.324Z"
   },
   {
    "duration": 26,
    "start_time": "2021-11-25T14:48:58.187Z"
   },
   {
    "duration": 16,
    "start_time": "2021-11-25T14:49:21.357Z"
   },
   {
    "duration": 23,
    "start_time": "2021-11-25T14:49:27.330Z"
   },
   {
    "duration": 27,
    "start_time": "2021-11-25T14:50:00.712Z"
   },
   {
    "duration": 134,
    "start_time": "2021-11-25T14:50:23.816Z"
   },
   {
    "duration": 6,
    "start_time": "2021-11-25T14:51:42.800Z"
   },
   {
    "duration": 292,
    "start_time": "2021-11-25T14:51:49.428Z"
   },
   {
    "duration": 148,
    "start_time": "2021-11-25T14:52:54.170Z"
   },
   {
    "duration": 32,
    "start_time": "2021-11-25T14:53:56.897Z"
   },
   {
    "duration": 38,
    "start_time": "2021-11-25T14:54:22.499Z"
   },
   {
    "duration": 24,
    "start_time": "2021-11-25T14:54:43.951Z"
   },
   {
    "duration": 26,
    "start_time": "2021-11-25T14:55:54.267Z"
   },
   {
    "duration": 29,
    "start_time": "2021-11-25T14:56:29.952Z"
   },
   {
    "duration": 41,
    "start_time": "2021-11-25T14:56:52.272Z"
   },
   {
    "duration": 300,
    "start_time": "2021-11-25T15:13:58.702Z"
   },
   {
    "duration": 305,
    "start_time": "2021-11-25T15:14:12.283Z"
   },
   {
    "duration": 20,
    "start_time": "2021-11-25T15:14:19.536Z"
   },
   {
    "duration": 24,
    "start_time": "2021-11-25T15:15:22.118Z"
   },
   {
    "duration": 8,
    "start_time": "2021-11-25T15:16:39.812Z"
   },
   {
    "duration": 24,
    "start_time": "2021-11-25T15:16:52.797Z"
   },
   {
    "duration": 261,
    "start_time": "2021-11-25T15:20:43.514Z"
   },
   {
    "duration": 287,
    "start_time": "2021-11-25T15:21:22.527Z"
   },
   {
    "duration": 89,
    "start_time": "2021-11-25T15:24:37.734Z"
   },
   {
    "duration": 7,
    "start_time": "2021-11-25T15:24:50.741Z"
   },
   {
    "duration": 31,
    "start_time": "2021-11-25T15:25:00.293Z"
   },
   {
    "duration": 22,
    "start_time": "2021-11-25T15:27:13.560Z"
   },
   {
    "duration": 7,
    "start_time": "2021-11-25T15:52:06.033Z"
   },
   {
    "duration": 39,
    "start_time": "2021-11-25T15:55:06.783Z"
   },
   {
    "duration": 295,
    "start_time": "2021-11-25T16:13:28.498Z"
   },
   {
    "duration": 9,
    "start_time": "2021-11-25T16:14:32.031Z"
   },
   {
    "duration": 11,
    "start_time": "2021-11-25T16:19:41.582Z"
   },
   {
    "duration": 299,
    "start_time": "2021-11-25T16:23:05.928Z"
   },
   {
    "duration": 251,
    "start_time": "2021-11-25T16:24:47.946Z"
   },
   {
    "duration": 288,
    "start_time": "2021-11-25T16:26:46.870Z"
   },
   {
    "duration": 3326,
    "start_time": "2021-11-25T16:28:49.026Z"
   },
   {
    "duration": 3404,
    "start_time": "2021-11-25T16:30:01.418Z"
   },
   {
    "duration": 335,
    "start_time": "2021-11-25T16:30:24.397Z"
   },
   {
    "duration": 11,
    "start_time": "2021-11-25T16:30:24.735Z"
   },
   {
    "duration": 209,
    "start_time": "2021-11-25T16:30:24.749Z"
   },
   {
    "duration": 145,
    "start_time": "2021-11-25T16:30:24.961Z"
   },
   {
    "duration": 36,
    "start_time": "2021-11-25T16:30:25.109Z"
   },
   {
    "duration": 50,
    "start_time": "2021-11-25T16:30:25.147Z"
   },
   {
    "duration": 30,
    "start_time": "2021-11-25T16:30:25.199Z"
   },
   {
    "duration": 23,
    "start_time": "2021-11-25T16:30:25.232Z"
   },
   {
    "duration": 28,
    "start_time": "2021-11-25T16:30:25.258Z"
   },
   {
    "duration": 53,
    "start_time": "2021-11-25T16:30:25.289Z"
   },
   {
    "duration": 22,
    "start_time": "2021-11-25T16:30:25.344Z"
   },
   {
    "duration": 34,
    "start_time": "2021-11-25T16:30:25.369Z"
   },
   {
    "duration": 45,
    "start_time": "2021-11-25T16:30:25.405Z"
   },
   {
    "duration": 10,
    "start_time": "2021-11-25T16:30:25.453Z"
   },
   {
    "duration": 67,
    "start_time": "2021-11-25T16:30:25.465Z"
   },
   {
    "duration": 7,
    "start_time": "2021-11-25T16:30:25.535Z"
   },
   {
    "duration": 25,
    "start_time": "2021-11-25T16:30:25.545Z"
   },
   {
    "duration": 13,
    "start_time": "2021-11-25T16:30:25.573Z"
   },
   {
    "duration": 9,
    "start_time": "2021-11-25T16:30:31.040Z"
   },
   {
    "duration": 10,
    "start_time": "2021-11-25T16:31:06.058Z"
   },
   {
    "duration": 281,
    "start_time": "2021-11-26T04:53:54.923Z"
   },
   {
    "duration": 748,
    "start_time": "2021-11-26T04:54:02.297Z"
   },
   {
    "duration": 7,
    "start_time": "2021-11-26T04:54:03.047Z"
   },
   {
    "duration": 163,
    "start_time": "2021-11-26T04:54:03.056Z"
   },
   {
    "duration": 111,
    "start_time": "2021-11-26T04:54:03.221Z"
   },
   {
    "duration": 24,
    "start_time": "2021-11-26T04:54:03.334Z"
   },
   {
    "duration": 138,
    "start_time": "2021-11-26T04:54:03.360Z"
   },
   {
    "duration": 50,
    "start_time": "2021-11-26T04:54:03.500Z"
   },
   {
    "duration": 36,
    "start_time": "2021-11-26T04:54:03.552Z"
   },
   {
    "duration": 22,
    "start_time": "2021-11-26T04:54:03.591Z"
   },
   {
    "duration": 22,
    "start_time": "2021-11-26T04:54:03.616Z"
   },
   {
    "duration": 12,
    "start_time": "2021-11-26T04:54:03.639Z"
   },
   {
    "duration": 21,
    "start_time": "2021-11-26T04:54:03.653Z"
   },
   {
    "duration": 15,
    "start_time": "2021-11-26T04:54:03.676Z"
   },
   {
    "duration": 11,
    "start_time": "2021-11-26T04:54:03.693Z"
   },
   {
    "duration": 37,
    "start_time": "2021-11-26T04:54:03.705Z"
   },
   {
    "duration": 5,
    "start_time": "2021-11-26T04:54:03.743Z"
   },
   {
    "duration": 23,
    "start_time": "2021-11-26T04:54:03.750Z"
   },
   {
    "duration": 16,
    "start_time": "2021-11-26T04:54:03.774Z"
   },
   {
    "duration": 28,
    "start_time": "2021-11-26T04:54:03.792Z"
   },
   {
    "duration": 9,
    "start_time": "2021-11-26T04:54:08.162Z"
   },
   {
    "duration": 5,
    "start_time": "2021-11-26T04:54:53.505Z"
   },
   {
    "duration": 8,
    "start_time": "2021-11-26T04:57:26.776Z"
   },
   {
    "duration": 274,
    "start_time": "2021-11-26T04:58:17.288Z"
   },
   {
    "duration": 34,
    "start_time": "2021-11-26T05:00:12.164Z"
   },
   {
    "duration": 5882,
    "start_time": "2021-11-26T05:03:09.979Z"
   },
   {
    "duration": 33,
    "start_time": "2021-11-26T05:03:27.140Z"
   },
   {
    "duration": 40,
    "start_time": "2021-11-26T05:05:23.430Z"
   },
   {
    "duration": 35,
    "start_time": "2021-11-26T05:43:33.095Z"
   },
   {
    "duration": 255,
    "start_time": "2021-11-26T05:48:49.638Z"
   },
   {
    "duration": 42,
    "start_time": "2021-11-26T05:48:59.776Z"
   },
   {
    "duration": 264,
    "start_time": "2021-11-26T05:50:24.630Z"
   },
   {
    "duration": 47,
    "start_time": "2021-11-26T05:50:37.307Z"
   },
   {
    "duration": 43,
    "start_time": "2021-11-26T05:51:14.858Z"
   },
   {
    "duration": 38,
    "start_time": "2021-11-26T05:51:41.487Z"
   },
   {
    "duration": 33,
    "start_time": "2021-11-26T05:52:39.276Z"
   },
   {
    "duration": 40,
    "start_time": "2021-11-26T05:56:18.759Z"
   },
   {
    "duration": 41,
    "start_time": "2021-11-26T05:56:39.852Z"
   },
   {
    "duration": 38,
    "start_time": "2021-11-26T05:57:08.897Z"
   },
   {
    "duration": 30,
    "start_time": "2021-11-26T06:02:25.772Z"
   },
   {
    "duration": 31,
    "start_time": "2021-11-26T06:04:07.122Z"
   },
   {
    "duration": 795,
    "start_time": "2021-11-26T07:16:14.581Z"
   },
   {
    "duration": 7,
    "start_time": "2021-11-26T07:16:15.378Z"
   },
   {
    "duration": 180,
    "start_time": "2021-11-26T07:16:15.387Z"
   },
   {
    "duration": 105,
    "start_time": "2021-11-26T07:16:15.569Z"
   },
   {
    "duration": 24,
    "start_time": "2021-11-26T07:16:15.676Z"
   },
   {
    "duration": 70,
    "start_time": "2021-11-26T07:16:15.701Z"
   },
   {
    "duration": 23,
    "start_time": "2021-11-26T07:16:15.772Z"
   },
   {
    "duration": 29,
    "start_time": "2021-11-26T07:16:15.798Z"
   },
   {
    "duration": 25,
    "start_time": "2021-11-26T07:16:15.829Z"
   },
   {
    "duration": 24,
    "start_time": "2021-11-26T07:16:15.856Z"
   },
   {
    "duration": 13,
    "start_time": "2021-11-26T07:16:15.882Z"
   },
   {
    "duration": 22,
    "start_time": "2021-11-26T07:16:15.897Z"
   },
   {
    "duration": 15,
    "start_time": "2021-11-26T07:16:15.920Z"
   },
   {
    "duration": 30,
    "start_time": "2021-11-26T07:16:15.937Z"
   },
   {
    "duration": 36,
    "start_time": "2021-11-26T07:16:15.969Z"
   },
   {
    "duration": 5,
    "start_time": "2021-11-26T07:16:16.007Z"
   },
   {
    "duration": 16,
    "start_time": "2021-11-26T07:16:16.014Z"
   },
   {
    "duration": 6,
    "start_time": "2021-11-26T07:16:16.032Z"
   },
   {
    "duration": 8,
    "start_time": "2021-11-26T07:16:16.040Z"
   },
   {
    "duration": 20,
    "start_time": "2021-11-26T07:16:16.049Z"
   },
   {
    "duration": 45,
    "start_time": "2021-11-26T07:16:16.071Z"
   },
   {
    "duration": 540,
    "start_time": "2021-11-26T07:16:16.118Z"
   },
   {
    "duration": 317,
    "start_time": "2021-11-26T07:17:43.407Z"
   },
   {
    "duration": 62,
    "start_time": "2021-11-26T07:17:52.958Z"
   },
   {
    "duration": 61,
    "start_time": "2021-11-26T07:18:13.411Z"
   },
   {
    "duration": 82,
    "start_time": "2021-11-26T07:18:58.387Z"
   },
   {
    "duration": 32,
    "start_time": "2021-11-26T07:22:17.090Z"
   },
   {
    "duration": 863,
    "start_time": "2021-11-26T07:22:28.422Z"
   },
   {
    "duration": 7,
    "start_time": "2021-11-26T07:22:29.287Z"
   },
   {
    "duration": 157,
    "start_time": "2021-11-26T07:22:29.297Z"
   },
   {
    "duration": 107,
    "start_time": "2021-11-26T07:22:29.456Z"
   },
   {
    "duration": 26,
    "start_time": "2021-11-26T07:22:29.565Z"
   },
   {
    "duration": 40,
    "start_time": "2021-11-26T07:22:29.592Z"
   },
   {
    "duration": 25,
    "start_time": "2021-11-26T07:22:29.633Z"
   },
   {
    "duration": 16,
    "start_time": "2021-11-26T07:22:29.659Z"
   },
   {
    "duration": 20,
    "start_time": "2021-11-26T07:22:29.677Z"
   },
   {
    "duration": 19,
    "start_time": "2021-11-26T07:22:29.698Z"
   },
   {
    "duration": 14,
    "start_time": "2021-11-26T07:22:29.718Z"
   },
   {
    "duration": 45,
    "start_time": "2021-11-26T07:22:29.733Z"
   },
   {
    "duration": 16,
    "start_time": "2021-11-26T07:22:29.780Z"
   },
   {
    "duration": 9,
    "start_time": "2021-11-26T07:22:29.797Z"
   },
   {
    "duration": 24,
    "start_time": "2021-11-26T07:22:29.807Z"
   },
   {
    "duration": 31,
    "start_time": "2021-11-26T07:22:29.832Z"
   },
   {
    "duration": 7,
    "start_time": "2021-11-26T07:22:29.865Z"
   },
   {
    "duration": 9,
    "start_time": "2021-11-26T07:22:29.874Z"
   },
   {
    "duration": 32,
    "start_time": "2021-11-26T07:22:29.884Z"
   },
   {
    "duration": 12,
    "start_time": "2021-11-26T07:22:29.918Z"
   },
   {
    "duration": 49,
    "start_time": "2021-11-26T07:22:29.932Z"
   },
   {
    "duration": 32,
    "start_time": "2021-11-26T07:22:29.983Z"
   },
   {
    "duration": 329,
    "start_time": "2021-11-26T07:23:02.673Z"
   },
   {
    "duration": 46,
    "start_time": "2021-11-26T07:23:10.634Z"
   },
   {
    "duration": 47,
    "start_time": "2021-11-26T07:23:45.624Z"
   },
   {
    "duration": 39,
    "start_time": "2021-11-26T07:24:13.704Z"
   },
   {
    "duration": 41,
    "start_time": "2021-11-26T07:26:36.932Z"
   },
   {
    "duration": 43,
    "start_time": "2021-11-26T07:27:12.542Z"
   },
   {
    "duration": 45,
    "start_time": "2021-11-26T07:28:50.332Z"
   },
   {
    "duration": 39,
    "start_time": "2021-11-26T07:29:37.163Z"
   },
   {
    "duration": 39,
    "start_time": "2021-11-26T07:30:11.608Z"
   },
   {
    "duration": 53,
    "start_time": "2021-11-26T07:31:00.859Z"
   },
   {
    "duration": 56,
    "start_time": "2021-11-26T07:31:52.504Z"
   },
   {
    "duration": 59,
    "start_time": "2021-11-26T07:32:12.228Z"
   },
   {
    "duration": 1155,
    "start_time": "2021-11-26T07:35:38.370Z"
   },
   {
    "duration": 2056,
    "start_time": "2021-11-26T07:36:19.191Z"
   },
   {
    "duration": 1994,
    "start_time": "2021-11-26T07:36:32.923Z"
   },
   {
    "duration": 38,
    "start_time": "2021-11-26T07:36:54.305Z"
   },
   {
    "duration": 36,
    "start_time": "2021-11-26T07:37:34.420Z"
   },
   {
    "duration": 37,
    "start_time": "2021-11-26T07:37:59.583Z"
   },
   {
    "duration": 37,
    "start_time": "2021-11-26T07:38:32.567Z"
   },
   {
    "duration": 37,
    "start_time": "2021-11-26T07:39:25.247Z"
   },
   {
    "duration": 39,
    "start_time": "2021-11-26T07:39:41.738Z"
   },
   {
    "duration": 75,
    "start_time": "2021-11-26T07:40:23.847Z"
   },
   {
    "duration": 71,
    "start_time": "2021-11-26T07:40:48.998Z"
   },
   {
    "duration": 51,
    "start_time": "2021-11-26T07:41:29.211Z"
   },
   {
    "duration": 55,
    "start_time": "2021-11-26T07:41:50.555Z"
   },
   {
    "duration": 820,
    "start_time": "2021-11-26T12:14:44.797Z"
   },
   {
    "duration": 7,
    "start_time": "2021-11-26T12:14:45.619Z"
   },
   {
    "duration": 172,
    "start_time": "2021-11-26T12:14:45.628Z"
   },
   {
    "duration": 106,
    "start_time": "2021-11-26T12:14:45.802Z"
   },
   {
    "duration": 25,
    "start_time": "2021-11-26T12:14:45.910Z"
   },
   {
    "duration": 57,
    "start_time": "2021-11-26T12:14:45.937Z"
   },
   {
    "duration": 27,
    "start_time": "2021-11-26T12:14:45.995Z"
   },
   {
    "duration": 21,
    "start_time": "2021-11-26T12:14:46.024Z"
   },
   {
    "duration": 28,
    "start_time": "2021-11-26T12:14:46.048Z"
   },
   {
    "duration": 18,
    "start_time": "2021-11-26T12:14:46.078Z"
   },
   {
    "duration": 15,
    "start_time": "2021-11-26T12:14:46.098Z"
   },
   {
    "duration": 15,
    "start_time": "2021-11-26T12:14:46.114Z"
   },
   {
    "duration": 38,
    "start_time": "2021-11-26T12:14:46.130Z"
   },
   {
    "duration": 5,
    "start_time": "2021-11-26T12:14:46.170Z"
   },
   {
    "duration": 40,
    "start_time": "2021-11-26T12:14:46.177Z"
   },
   {
    "duration": 9,
    "start_time": "2021-11-26T12:14:46.219Z"
   },
   {
    "duration": 35,
    "start_time": "2021-11-26T12:14:46.229Z"
   },
   {
    "duration": 24,
    "start_time": "2021-11-26T12:14:46.265Z"
   },
   {
    "duration": 30,
    "start_time": "2021-11-26T12:14:46.290Z"
   },
   {
    "duration": 181,
    "start_time": "2021-11-26T12:14:46.322Z"
   },
   {
    "duration": 55,
    "start_time": "2021-11-26T12:14:46.505Z"
   },
   {
    "duration": 68,
    "start_time": "2021-11-26T12:14:46.561Z"
   },
   {
    "duration": 62,
    "start_time": "2021-11-26T12:15:14.454Z"
   },
   {
    "duration": 65,
    "start_time": "2021-11-26T12:16:31.128Z"
   },
   {
    "duration": 78,
    "start_time": "2021-11-26T12:17:11.328Z"
   },
   {
    "duration": 428,
    "start_time": "2021-11-26T12:17:24.487Z"
   },
   {
    "duration": 316,
    "start_time": "2021-11-26T12:17:38.952Z"
   },
   {
    "duration": 190,
    "start_time": "2021-11-26T12:17:44.152Z"
   },
   {
    "duration": 9,
    "start_time": "2021-11-26T12:17:44.344Z"
   },
   {
    "duration": 161,
    "start_time": "2021-11-26T12:17:44.363Z"
   },
   {
    "duration": 111,
    "start_time": "2021-11-26T12:17:44.526Z"
   },
   {
    "duration": 34,
    "start_time": "2021-11-26T12:17:44.639Z"
   },
   {
    "duration": 48,
    "start_time": "2021-11-26T12:17:44.676Z"
   },
   {
    "duration": 32,
    "start_time": "2021-11-26T12:17:44.726Z"
   },
   {
    "duration": 17,
    "start_time": "2021-11-26T12:17:44.763Z"
   },
   {
    "duration": 20,
    "start_time": "2021-11-26T12:17:44.782Z"
   },
   {
    "duration": 30,
    "start_time": "2021-11-26T12:17:44.805Z"
   },
   {
    "duration": 48,
    "start_time": "2021-11-26T12:17:44.838Z"
   },
   {
    "duration": 25,
    "start_time": "2021-11-26T12:17:44.889Z"
   },
   {
    "duration": 55,
    "start_time": "2021-11-26T12:17:44.917Z"
   },
   {
    "duration": 8,
    "start_time": "2021-11-26T12:17:44.974Z"
   },
   {
    "duration": 41,
    "start_time": "2021-11-26T12:17:44.984Z"
   },
   {
    "duration": 7,
    "start_time": "2021-11-26T12:17:45.027Z"
   },
   {
    "duration": 39,
    "start_time": "2021-11-26T12:17:45.036Z"
   },
   {
    "duration": 25,
    "start_time": "2021-11-26T12:17:45.076Z"
   },
   {
    "duration": 20,
    "start_time": "2021-11-26T12:17:45.103Z"
   },
   {
    "duration": 43,
    "start_time": "2021-11-26T12:17:45.125Z"
   },
   {
    "duration": 55,
    "start_time": "2021-11-26T12:17:45.171Z"
   },
   {
    "duration": 89,
    "start_time": "2021-11-26T12:17:59.580Z"
   },
   {
    "duration": 77,
    "start_time": "2021-11-26T12:18:04.658Z"
   },
   {
    "duration": 81,
    "start_time": "2021-11-26T12:18:12.675Z"
   },
   {
    "duration": 83,
    "start_time": "2021-11-26T12:18:41.090Z"
   },
   {
    "duration": 89,
    "start_time": "2021-11-26T12:19:58.295Z"
   },
   {
    "duration": 76,
    "start_time": "2021-11-26T12:20:24.652Z"
   },
   {
    "duration": 76,
    "start_time": "2021-11-26T12:20:28.214Z"
   },
   {
    "duration": 74,
    "start_time": "2021-11-26T12:20:40.491Z"
   },
   {
    "duration": 84,
    "start_time": "2021-11-26T12:22:06.953Z"
   },
   {
    "duration": 328,
    "start_time": "2021-11-26T12:22:24.633Z"
   },
   {
    "duration": 319,
    "start_time": "2021-11-26T12:22:37.792Z"
   },
   {
    "duration": 321,
    "start_time": "2021-11-26T12:22:55.000Z"
   },
   {
    "duration": 81,
    "start_time": "2021-11-26T12:23:14.268Z"
   },
   {
    "duration": 348,
    "start_time": "2021-11-26T12:24:26.710Z"
   },
   {
    "duration": 187,
    "start_time": "2021-11-26T12:24:37.961Z"
   },
   {
    "duration": 17,
    "start_time": "2021-11-26T12:24:38.150Z"
   },
   {
    "duration": 152,
    "start_time": "2021-11-26T12:24:38.169Z"
   },
   {
    "duration": 113,
    "start_time": "2021-11-26T12:24:38.323Z"
   },
   {
    "duration": 31,
    "start_time": "2021-11-26T12:24:38.438Z"
   },
   {
    "duration": 42,
    "start_time": "2021-11-26T12:24:38.471Z"
   },
   {
    "duration": 19,
    "start_time": "2021-11-26T12:24:38.515Z"
   },
   {
    "duration": 14,
    "start_time": "2021-11-26T12:24:38.536Z"
   },
   {
    "duration": 26,
    "start_time": "2021-11-26T12:24:38.553Z"
   },
   {
    "duration": 18,
    "start_time": "2021-11-26T12:24:38.581Z"
   },
   {
    "duration": 15,
    "start_time": "2021-11-26T12:24:38.601Z"
   },
   {
    "duration": 53,
    "start_time": "2021-11-26T12:24:38.618Z"
   },
   {
    "duration": 17,
    "start_time": "2021-11-26T12:24:38.673Z"
   },
   {
    "duration": 5,
    "start_time": "2021-11-26T12:24:38.692Z"
   },
   {
    "duration": 28,
    "start_time": "2021-11-26T12:24:38.699Z"
   },
   {
    "duration": 34,
    "start_time": "2021-11-26T12:24:38.729Z"
   },
   {
    "duration": 9,
    "start_time": "2021-11-26T12:24:38.765Z"
   },
   {
    "duration": 9,
    "start_time": "2021-11-26T12:24:38.775Z"
   },
   {
    "duration": 13,
    "start_time": "2021-11-26T12:24:38.786Z"
   },
   {
    "duration": 10,
    "start_time": "2021-11-26T12:24:38.801Z"
   },
   {
    "duration": 55,
    "start_time": "2021-11-26T12:24:38.812Z"
   },
   {
    "duration": 339,
    "start_time": "2021-11-26T12:24:45.171Z"
   },
   {
    "duration": 84,
    "start_time": "2021-11-26T12:25:07.584Z"
   },
   {
    "duration": 42,
    "start_time": "2021-11-26T12:25:46.861Z"
   },
   {
    "duration": 42,
    "start_time": "2021-11-26T12:26:33.439Z"
   },
   {
    "duration": 44,
    "start_time": "2021-11-26T12:29:34.678Z"
   },
   {
    "duration": 46,
    "start_time": "2021-11-26T12:29:53.217Z"
   },
   {
    "duration": 33,
    "start_time": "2021-11-26T12:30:55.833Z"
   },
   {
    "duration": 41,
    "start_time": "2021-11-26T12:31:55.941Z"
   },
   {
    "duration": 39,
    "start_time": "2021-11-26T12:32:20.835Z"
   },
   {
    "duration": 36,
    "start_time": "2021-11-26T12:32:33.249Z"
   },
   {
    "duration": 38,
    "start_time": "2021-11-26T12:33:14.409Z"
   },
   {
    "duration": 37,
    "start_time": "2021-11-26T12:35:08.527Z"
   },
   {
    "duration": 36,
    "start_time": "2021-11-26T12:35:31.541Z"
   },
   {
    "duration": 32,
    "start_time": "2021-11-26T12:36:09.276Z"
   },
   {
    "duration": 57,
    "start_time": "2021-11-26T12:37:13.014Z"
   },
   {
    "duration": 80,
    "start_time": "2021-11-26T12:37:52.997Z"
   },
   {
    "duration": 52,
    "start_time": "2021-11-26T12:38:31.836Z"
   },
   {
    "duration": 78,
    "start_time": "2021-11-26T12:38:55.919Z"
   },
   {
    "duration": 48,
    "start_time": "2021-11-26T12:39:15.172Z"
   },
   {
    "duration": 75,
    "start_time": "2021-11-26T12:39:46.250Z"
   },
   {
    "duration": 83,
    "start_time": "2021-11-26T12:40:10.152Z"
   },
   {
    "duration": 30,
    "start_time": "2021-11-26T12:42:10.842Z"
   },
   {
    "duration": 66,
    "start_time": "2021-11-26T12:43:27.042Z"
   },
   {
    "duration": 64,
    "start_time": "2021-11-26T12:44:05.653Z"
   },
   {
    "duration": 46,
    "start_time": "2021-11-26T12:46:57.657Z"
   },
   {
    "duration": 182,
    "start_time": "2021-11-26T12:47:06.537Z"
   },
   {
    "duration": 7,
    "start_time": "2021-11-26T12:47:06.721Z"
   },
   {
    "duration": 168,
    "start_time": "2021-11-26T12:47:06.730Z"
   },
   {
    "duration": 109,
    "start_time": "2021-11-26T12:47:06.900Z"
   },
   {
    "duration": 26,
    "start_time": "2021-11-26T12:47:07.011Z"
   },
   {
    "duration": 83,
    "start_time": "2021-11-26T12:47:07.039Z"
   },
   {
    "duration": 50,
    "start_time": "2021-11-26T12:47:07.124Z"
   },
   {
    "duration": 46,
    "start_time": "2021-11-26T12:47:07.176Z"
   },
   {
    "duration": 36,
    "start_time": "2021-11-26T12:47:07.224Z"
   },
   {
    "duration": 43,
    "start_time": "2021-11-26T12:47:07.262Z"
   },
   {
    "duration": 43,
    "start_time": "2021-11-26T12:47:07.307Z"
   },
   {
    "duration": 44,
    "start_time": "2021-11-26T12:47:07.352Z"
   },
   {
    "duration": 40,
    "start_time": "2021-11-26T12:47:07.398Z"
   },
   {
    "duration": 20,
    "start_time": "2021-11-26T12:47:07.439Z"
   },
   {
    "duration": 45,
    "start_time": "2021-11-26T12:47:07.461Z"
   },
   {
    "duration": 12,
    "start_time": "2021-11-26T12:47:07.508Z"
   },
   {
    "duration": 35,
    "start_time": "2021-11-26T12:47:07.522Z"
   },
   {
    "duration": 17,
    "start_time": "2021-11-26T12:47:07.558Z"
   },
   {
    "duration": 32,
    "start_time": "2021-11-26T12:47:07.577Z"
   },
   {
    "duration": 42,
    "start_time": "2021-11-26T12:47:07.611Z"
   },
   {
    "duration": 48,
    "start_time": "2021-11-26T12:47:07.655Z"
   },
   {
    "duration": 277,
    "start_time": "2021-11-26T12:47:12.634Z"
   },
   {
    "duration": 63,
    "start_time": "2021-11-26T12:47:25.797Z"
   },
   {
    "duration": 85,
    "start_time": "2021-11-26T12:47:39.913Z"
   },
   {
    "duration": 60,
    "start_time": "2021-11-26T12:47:53.863Z"
   },
   {
    "duration": 234,
    "start_time": "2021-11-26T13:48:23.412Z"
   },
   {
    "duration": 218,
    "start_time": "2021-11-26T13:48:44.363Z"
   },
   {
    "duration": 222,
    "start_time": "2021-11-26T13:48:59.066Z"
   },
   {
    "duration": 242,
    "start_time": "2021-11-26T13:49:12.002Z"
   },
   {
    "duration": 179,
    "start_time": "2021-11-26T13:49:31.434Z"
   },
   {
    "duration": 171,
    "start_time": "2021-11-26T13:49:31.616Z"
   },
   {
    "duration": 107,
    "start_time": "2021-11-26T13:49:31.789Z"
   },
   {
    "duration": 27,
    "start_time": "2021-11-26T13:49:31.898Z"
   },
   {
    "duration": 47,
    "start_time": "2021-11-26T13:49:31.927Z"
   },
   {
    "duration": 344,
    "start_time": "2021-11-26T13:49:31.976Z"
   },
   {
    "duration": 23,
    "start_time": "2021-11-26T13:49:35.851Z"
   },
   {
    "duration": 218,
    "start_time": "2021-11-26T13:49:48.566Z"
   },
   {
    "duration": 184,
    "start_time": "2021-11-26T13:50:15.039Z"
   },
   {
    "duration": 114,
    "start_time": "2021-11-26T13:50:23.314Z"
   },
   {
    "duration": 273,
    "start_time": "2021-11-26T13:50:51.150Z"
   },
   {
    "duration": 140,
    "start_time": "2021-11-26T13:51:25.172Z"
   },
   {
    "duration": 239,
    "start_time": "2021-11-26T13:51:43.240Z"
   },
   {
    "duration": 224,
    "start_time": "2021-11-26T13:51:57.977Z"
   },
   {
    "duration": 239,
    "start_time": "2021-11-26T13:52:17.514Z"
   },
   {
    "duration": 36,
    "start_time": "2021-11-26T13:53:58.658Z"
   },
   {
    "duration": 39,
    "start_time": "2021-11-26T13:54:24.406Z"
   },
   {
    "duration": 40,
    "start_time": "2021-11-26T13:54:56.626Z"
   },
   {
    "duration": 306,
    "start_time": "2021-11-26T13:55:40.546Z"
   },
   {
    "duration": 270,
    "start_time": "2021-11-26T13:55:49.970Z"
   },
   {
    "duration": 257,
    "start_time": "2021-11-26T13:55:56.635Z"
   },
   {
    "duration": 261,
    "start_time": "2021-11-26T13:56:03.035Z"
   },
   {
    "duration": 846,
    "start_time": "2021-11-26T13:56:16.843Z"
   },
   {
    "duration": 161,
    "start_time": "2021-11-26T13:56:17.691Z"
   },
   {
    "duration": 110,
    "start_time": "2021-11-26T13:56:17.854Z"
   },
   {
    "duration": 29,
    "start_time": "2021-11-26T13:56:17.966Z"
   },
   {
    "duration": 58,
    "start_time": "2021-11-26T13:56:17.996Z"
   },
   {
    "duration": 218,
    "start_time": "2021-11-26T13:56:18.056Z"
   },
   {
    "duration": 16,
    "start_time": "2021-11-26T13:56:18.276Z"
   },
   {
    "duration": 150,
    "start_time": "2021-11-26T13:56:18.294Z"
   },
   {
    "duration": 163,
    "start_time": "2021-11-26T13:56:18.446Z"
   },
   {
    "duration": 39,
    "start_time": "2021-11-26T13:56:22.047Z"
   },
   {
    "duration": 43,
    "start_time": "2021-11-26T13:56:30.395Z"
   },
   {
    "duration": 152,
    "start_time": "2021-11-26T13:56:57.519Z"
   },
   {
    "duration": 37,
    "start_time": "2021-11-26T13:57:10.748Z"
   },
   {
    "duration": 284,
    "start_time": "2021-11-26T13:57:31.561Z"
   },
   {
    "duration": 793,
    "start_time": "2021-11-26T13:57:42.403Z"
   },
   {
    "duration": 267,
    "start_time": "2021-11-26T13:57:43.199Z"
   },
   {
    "duration": 109,
    "start_time": "2021-11-26T13:57:43.468Z"
   },
   {
    "duration": 25,
    "start_time": "2021-11-26T13:57:43.579Z"
   },
   {
    "duration": 42,
    "start_time": "2021-11-26T13:57:43.605Z"
   },
   {
    "duration": 235,
    "start_time": "2021-11-26T13:57:43.649Z"
   },
   {
    "duration": 15,
    "start_time": "2021-11-26T13:57:43.886Z"
   },
   {
    "duration": 148,
    "start_time": "2021-11-26T13:57:43.904Z"
   },
   {
    "duration": 162,
    "start_time": "2021-11-26T13:57:44.054Z"
   },
   {
    "duration": 287,
    "start_time": "2021-11-26T14:00:55.897Z"
   },
   {
    "duration": 307,
    "start_time": "2021-11-26T14:01:02.975Z"
   },
   {
    "duration": 217,
    "start_time": "2021-11-26T14:01:03.285Z"
   },
   {
    "duration": 345,
    "start_time": "2021-11-26T14:01:03.505Z"
   },
   {
    "duration": 677,
    "start_time": "2021-11-26T14:01:03.853Z"
   },
   {
    "duration": 162,
    "start_time": "2021-11-26T14:01:04.532Z"
   },
   {
    "duration": 300,
    "start_time": "2021-11-26T14:01:04.696Z"
   },
   {
    "duration": 18,
    "start_time": "2021-11-26T14:01:04.997Z"
   },
   {
    "duration": 233,
    "start_time": "2021-11-26T14:01:05.018Z"
   },
   {
    "duration": 195,
    "start_time": "2021-11-26T14:01:05.254Z"
   },
   {
    "duration": 48,
    "start_time": "2021-11-26T14:01:05.451Z"
   },
   {
    "duration": 283,
    "start_time": "2021-11-26T14:07:47.867Z"
   },
   {
    "duration": 849,
    "start_time": "2021-11-26T14:08:00.387Z"
   },
   {
    "duration": 247,
    "start_time": "2021-11-26T14:08:01.238Z"
   },
   {
    "duration": 144,
    "start_time": "2021-11-26T14:08:01.488Z"
   },
   {
    "duration": 29,
    "start_time": "2021-11-26T14:08:01.635Z"
   },
   {
    "duration": 56,
    "start_time": "2021-11-26T14:08:01.666Z"
   },
   {
    "duration": 251,
    "start_time": "2021-11-26T14:08:01.724Z"
   },
   {
    "duration": 17,
    "start_time": "2021-11-26T14:08:01.977Z"
   },
   {
    "duration": 176,
    "start_time": "2021-11-26T14:08:01.996Z"
   },
   {
    "duration": 166,
    "start_time": "2021-11-26T14:08:02.175Z"
   },
   {
    "duration": 48,
    "start_time": "2021-11-26T14:08:02.343Z"
   },
   {
    "duration": 345,
    "start_time": "2021-11-26T14:08:02.394Z"
   },
   {
    "duration": -327,
    "start_time": "2021-11-26T14:08:03.069Z"
   },
   {
    "duration": -331,
    "start_time": "2021-11-26T14:08:03.075Z"
   },
   {
    "duration": -333,
    "start_time": "2021-11-26T14:08:03.078Z"
   },
   {
    "duration": -333,
    "start_time": "2021-11-26T14:08:03.080Z"
   },
   {
    "duration": -334,
    "start_time": "2021-11-26T14:08:03.083Z"
   },
   {
    "duration": -341,
    "start_time": "2021-11-26T14:08:03.091Z"
   },
   {
    "duration": -342,
    "start_time": "2021-11-26T14:08:03.094Z"
   },
   {
    "duration": -344,
    "start_time": "2021-11-26T14:08:03.097Z"
   },
   {
    "duration": -345,
    "start_time": "2021-11-26T14:08:03.100Z"
   },
   {
    "duration": -345,
    "start_time": "2021-11-26T14:08:03.101Z"
   },
   {
    "duration": 276,
    "start_time": "2021-11-26T14:09:00.621Z"
   },
   {
    "duration": 32,
    "start_time": "2021-11-26T14:10:44.705Z"
   },
   {
    "duration": 68,
    "start_time": "2021-11-26T14:11:37.818Z"
   },
   {
    "duration": 29,
    "start_time": "2021-11-26T14:14:27.548Z"
   },
   {
    "duration": 85,
    "start_time": "2021-11-26T14:15:02.341Z"
   },
   {
    "duration": 139,
    "start_time": "2021-11-26T14:15:24.470Z"
   },
   {
    "duration": 128,
    "start_time": "2021-11-26T14:15:41.249Z"
   },
   {
    "duration": 95,
    "start_time": "2021-11-26T14:18:50.103Z"
   },
   {
    "duration": 249,
    "start_time": "2021-11-26T14:20:51.219Z"
   },
   {
    "duration": 22,
    "start_time": "2021-11-26T14:21:01.653Z"
   },
   {
    "duration": 56,
    "start_time": "2021-11-26T14:22:41.539Z"
   },
   {
    "duration": 32,
    "start_time": "2021-11-26T14:24:06.914Z"
   },
   {
    "duration": 89,
    "start_time": "2021-11-26T14:24:38.377Z"
   },
   {
    "duration": 263,
    "start_time": "2021-11-26T14:24:43.974Z"
   },
   {
    "duration": 49,
    "start_time": "2021-11-26T14:24:44.240Z"
   },
   {
    "duration": 124,
    "start_time": "2021-11-26T14:24:44.292Z"
   },
   {
    "duration": 223,
    "start_time": "2021-11-26T14:24:44.419Z"
   },
   {
    "duration": 42,
    "start_time": "2021-11-26T14:24:44.644Z"
   },
   {
    "duration": 102,
    "start_time": "2021-11-26T14:24:49.119Z"
   },
   {
    "duration": 46,
    "start_time": "2021-11-26T14:25:20.190Z"
   },
   {
    "duration": 182,
    "start_time": "2021-11-26T14:25:26.042Z"
   },
   {
    "duration": 39,
    "start_time": "2021-11-26T14:25:26.226Z"
   },
   {
    "duration": 99,
    "start_time": "2021-11-26T14:25:26.267Z"
   },
   {
    "duration": 162,
    "start_time": "2021-11-26T14:25:26.369Z"
   },
   {
    "duration": 32,
    "start_time": "2021-11-26T14:25:26.532Z"
   },
   {
    "duration": 103,
    "start_time": "2021-11-26T14:25:26.566Z"
   },
   {
    "duration": 116,
    "start_time": "2021-11-26T14:25:26.671Z"
   },
   {
    "duration": 21,
    "start_time": "2021-11-26T14:25:26.789Z"
   },
   {
    "duration": 4527,
    "start_time": "2021-11-26T14:25:35.570Z"
   },
   {
    "duration": 39,
    "start_time": "2021-11-26T14:25:53.627Z"
   },
   {
    "duration": 77,
    "start_time": "2021-11-26T14:26:19.111Z"
   },
   {
    "duration": 34,
    "start_time": "2021-11-26T14:26:53.203Z"
   },
   {
    "duration": 76,
    "start_time": "2021-11-26T14:28:06.013Z"
   },
   {
    "duration": 77,
    "start_time": "2021-11-26T14:28:22.942Z"
   },
   {
    "duration": 78,
    "start_time": "2021-11-26T14:28:40.385Z"
   },
   {
    "duration": 73,
    "start_time": "2021-11-26T14:28:50.521Z"
   },
   {
    "duration": 188,
    "start_time": "2021-11-26T14:29:41.547Z"
   },
   {
    "duration": 34,
    "start_time": "2021-11-26T14:29:41.737Z"
   },
   {
    "duration": 102,
    "start_time": "2021-11-26T14:29:41.773Z"
   },
   {
    "duration": 171,
    "start_time": "2021-11-26T14:29:41.876Z"
   },
   {
    "duration": 44,
    "start_time": "2021-11-26T14:29:42.049Z"
   },
   {
    "duration": 71,
    "start_time": "2021-11-26T14:29:49.843Z"
   },
   {
    "duration": 76,
    "start_time": "2021-11-26T14:30:23.291Z"
   },
   {
    "duration": 5,
    "start_time": "2021-11-26T14:30:32.121Z"
   },
   {
    "duration": 255,
    "start_time": "2021-11-26T14:30:45.447Z"
   },
   {
    "duration": 181,
    "start_time": "2021-11-26T14:30:57.854Z"
   },
   {
    "duration": 39,
    "start_time": "2021-11-26T14:30:58.037Z"
   },
   {
    "duration": 114,
    "start_time": "2021-11-26T14:30:58.079Z"
   },
   {
    "duration": 161,
    "start_time": "2021-11-26T14:30:58.195Z"
   },
   {
    "duration": 28,
    "start_time": "2021-11-26T14:30:58.357Z"
   },
   {
    "duration": 101,
    "start_time": "2021-11-26T14:30:58.386Z"
   },
   {
    "duration": 17,
    "start_time": "2021-11-26T14:31:03.929Z"
   },
   {
    "duration": 37,
    "start_time": "2021-11-26T14:31:33.154Z"
   },
   {
    "duration": 85,
    "start_time": "2021-11-26T14:33:03.703Z"
   },
   {
    "duration": 257,
    "start_time": "2021-11-26T14:34:00.495Z"
   },
   {
    "duration": 277,
    "start_time": "2021-11-26T14:34:11.971Z"
   },
   {
    "duration": 56,
    "start_time": "2021-11-26T14:34:12.250Z"
   },
   {
    "duration": 137,
    "start_time": "2021-11-26T14:34:12.309Z"
   },
   {
    "duration": 231,
    "start_time": "2021-11-26T14:34:12.449Z"
   },
   {
    "duration": 35,
    "start_time": "2021-11-26T14:34:12.682Z"
   },
   {
    "duration": 134,
    "start_time": "2021-11-26T14:34:12.719Z"
   },
   {
    "duration": 20,
    "start_time": "2021-11-26T14:34:17.325Z"
   },
   {
    "duration": 260,
    "start_time": "2021-11-26T14:34:26.999Z"
   },
   {
    "duration": 179,
    "start_time": "2021-11-26T14:34:38.812Z"
   },
   {
    "duration": 30,
    "start_time": "2021-11-26T14:34:38.992Z"
   },
   {
    "duration": 103,
    "start_time": "2021-11-26T14:34:39.024Z"
   },
   {
    "duration": 152,
    "start_time": "2021-11-26T14:34:39.129Z"
   },
   {
    "duration": 23,
    "start_time": "2021-11-26T14:34:39.283Z"
   },
   {
    "duration": 95,
    "start_time": "2021-11-26T14:34:39.308Z"
   },
   {
    "duration": 19,
    "start_time": "2021-11-26T14:34:42.530Z"
   },
   {
    "duration": 54,
    "start_time": "2021-11-26T14:35:35.885Z"
   },
   {
    "duration": 27,
    "start_time": "2021-11-26T14:35:55.576Z"
   },
   {
    "duration": 13,
    "start_time": "2021-11-26T14:36:20.102Z"
   },
   {
    "duration": 49,
    "start_time": "2021-11-26T14:37:02.916Z"
   },
   {
    "duration": 87,
    "start_time": "2021-11-26T14:37:32.122Z"
   },
   {
    "duration": 34,
    "start_time": "2021-11-26T14:38:00.969Z"
   },
   {
    "duration": 90,
    "start_time": "2021-11-26T14:38:40.254Z"
   },
   {
    "duration": 59,
    "start_time": "2021-11-26T14:40:47.935Z"
   },
   {
    "duration": 54,
    "start_time": "2021-11-26T14:41:12.804Z"
   },
   {
    "duration": 49,
    "start_time": "2021-11-26T14:42:07.781Z"
   },
   {
    "duration": 266,
    "start_time": "2021-11-26T14:42:33.631Z"
   },
   {
    "duration": 13,
    "start_time": "2021-11-26T14:42:46.983Z"
   },
   {
    "duration": 265,
    "start_time": "2021-11-26T14:43:12.229Z"
   },
   {
    "duration": 40,
    "start_time": "2021-11-26T14:43:27.285Z"
   },
   {
    "duration": 50,
    "start_time": "2021-11-26T14:43:40.085Z"
   },
   {
    "duration": 27,
    "start_time": "2021-11-26T14:44:02.418Z"
   },
   {
    "duration": 19,
    "start_time": "2021-11-26T14:49:26.841Z"
   },
   {
    "duration": 57,
    "start_time": "2021-11-26T14:51:03.637Z"
   },
   {
    "duration": 47,
    "start_time": "2021-11-26T14:51:15.519Z"
   },
   {
    "duration": 40,
    "start_time": "2021-11-26T14:51:32.207Z"
   },
   {
    "duration": 48,
    "start_time": "2021-11-26T14:52:02.886Z"
   },
   {
    "duration": 6,
    "start_time": "2021-11-26T14:53:26.840Z"
   },
   {
    "duration": 161,
    "start_time": "2021-11-26T14:53:33.351Z"
   },
   {
    "duration": 6833,
    "start_time": "2021-11-26T14:55:12.071Z"
   },
   {
    "duration": -97,
    "start_time": "2021-11-26T14:55:19.004Z"
   },
   {
    "duration": 189,
    "start_time": "2021-11-26T14:55:27.407Z"
   },
   {
    "duration": 32,
    "start_time": "2021-11-26T14:55:27.598Z"
   },
   {
    "duration": 72,
    "start_time": "2021-11-26T14:55:27.632Z"
   },
   {
    "duration": 164,
    "start_time": "2021-11-26T14:55:27.706Z"
   },
   {
    "duration": 25,
    "start_time": "2021-11-26T14:55:27.873Z"
   },
   {
    "duration": 68,
    "start_time": "2021-11-26T14:55:27.900Z"
   },
   {
    "duration": 15,
    "start_time": "2021-11-26T14:55:27.971Z"
   },
   {
    "duration": 122,
    "start_time": "2021-11-26T14:55:27.990Z"
   },
   {
    "duration": 30,
    "start_time": "2021-11-26T14:55:28.115Z"
   },
   {
    "duration": 664,
    "start_time": "2021-11-26T14:55:28.147Z"
   },
   {
    "duration": 40,
    "start_time": "2021-11-26T14:55:28.814Z"
   },
   {
    "duration": 40,
    "start_time": "2021-11-26T14:55:28.856Z"
   },
   {
    "duration": 16,
    "start_time": "2021-11-26T14:55:28.898Z"
   },
   {
    "duration": 21,
    "start_time": "2021-11-26T14:55:28.916Z"
   },
   {
    "duration": 60,
    "start_time": "2021-11-26T14:55:28.939Z"
   },
   {
    "duration": 6,
    "start_time": "2021-11-26T14:55:29.001Z"
   },
   {
    "duration": 179,
    "start_time": "2021-11-26T14:55:29.009Z"
   },
   {
    "duration": 85,
    "start_time": "2021-11-26T14:56:46.508Z"
   },
   {
    "duration": 109,
    "start_time": "2021-11-26T14:56:56.176Z"
   },
   {
    "duration": 53,
    "start_time": "2021-11-26T14:57:10.754Z"
   },
   {
    "duration": 6781,
    "start_time": "2021-11-26T14:57:18.329Z"
   },
   {
    "duration": 51,
    "start_time": "2021-11-26T14:58:23.983Z"
   },
   {
    "duration": 301,
    "start_time": "2021-11-26T14:59:46.192Z"
   },
   {
    "duration": 339,
    "start_time": "2021-11-26T15:00:01.241Z"
   },
   {
    "duration": 19,
    "start_time": "2021-11-26T15:00:18.084Z"
   },
   {
    "duration": 314,
    "start_time": "2021-11-26T15:00:56.841Z"
   },
   {
    "duration": 18,
    "start_time": "2021-11-26T15:01:10.625Z"
   },
   {
    "duration": 184,
    "start_time": "2021-11-26T15:01:22.736Z"
   },
   {
    "duration": 57,
    "start_time": "2021-11-26T15:01:22.923Z"
   },
   {
    "duration": 82,
    "start_time": "2021-11-26T15:01:22.982Z"
   },
   {
    "duration": 238,
    "start_time": "2021-11-26T15:01:23.067Z"
   },
   {
    "duration": 24,
    "start_time": "2021-11-26T15:01:23.307Z"
   },
   {
    "duration": 68,
    "start_time": "2021-11-26T15:01:23.333Z"
   },
   {
    "duration": 17,
    "start_time": "2021-11-26T15:01:23.403Z"
   },
   {
    "duration": 143,
    "start_time": "2021-11-26T15:01:23.423Z"
   },
   {
    "duration": 21,
    "start_time": "2021-11-26T15:01:23.568Z"
   },
   {
    "duration": 338,
    "start_time": "2021-11-26T15:01:23.591Z"
   },
   {
    "duration": 28,
    "start_time": "2021-11-26T15:01:23.932Z"
   },
   {
    "duration": 40,
    "start_time": "2021-11-26T15:01:23.963Z"
   },
   {
    "duration": 16,
    "start_time": "2021-11-26T15:01:24.004Z"
   },
   {
    "duration": 18,
    "start_time": "2021-11-26T15:01:27.884Z"
   },
   {
    "duration": 43,
    "start_time": "2021-11-26T15:02:01.994Z"
   },
   {
    "duration": 40,
    "start_time": "2021-11-26T15:02:08.322Z"
   },
   {
    "duration": 47,
    "start_time": "2021-11-26T15:02:30.201Z"
   },
   {
    "duration": 56,
    "start_time": "2021-11-26T15:02:54.181Z"
   },
   {
    "duration": 63,
    "start_time": "2021-11-26T15:03:13.092Z"
   },
   {
    "duration": 40,
    "start_time": "2021-11-26T15:03:32.264Z"
   },
   {
    "duration": 13,
    "start_time": "2021-11-26T15:03:38.517Z"
   },
   {
    "duration": 40,
    "start_time": "2021-11-26T15:03:47.612Z"
   },
   {
    "duration": 38,
    "start_time": "2021-11-26T15:03:56.953Z"
   },
   {
    "duration": 15,
    "start_time": "2021-11-26T15:04:12.473Z"
   },
   {
    "duration": 18,
    "start_time": "2021-11-26T15:04:18.596Z"
   },
   {
    "duration": 272,
    "start_time": "2021-11-26T15:04:28.121Z"
   },
   {
    "duration": 45,
    "start_time": "2021-11-26T15:04:39.940Z"
   },
   {
    "duration": 6,
    "start_time": "2021-11-26T15:04:47.742Z"
   },
   {
    "duration": 130,
    "start_time": "2021-11-26T15:04:50.747Z"
   },
   {
    "duration": 84,
    "start_time": "2021-11-26T15:05:02.342Z"
   },
   {
    "duration": 7448,
    "start_time": "2021-11-26T15:05:11.920Z"
   },
   {
    "duration": 57,
    "start_time": "2021-11-26T15:05:31.531Z"
   },
   {
    "duration": 55,
    "start_time": "2021-11-26T15:06:12.285Z"
   },
   {
    "duration": 6,
    "start_time": "2021-11-26T15:06:18.657Z"
   },
   {
    "duration": 11,
    "start_time": "2021-11-26T15:06:30.427Z"
   },
   {
    "duration": 36,
    "start_time": "2021-11-26T15:11:57.577Z"
   },
   {
    "duration": 37,
    "start_time": "2021-11-26T15:12:53.008Z"
   },
   {
    "duration": 45,
    "start_time": "2021-11-26T15:13:13.088Z"
   },
   {
    "duration": 136,
    "start_time": "2021-11-26T15:13:40.181Z"
   },
   {
    "duration": 263,
    "start_time": "2021-11-26T16:02:32.807Z"
   },
   {
    "duration": 166,
    "start_time": "2021-11-26T16:02:38.895Z"
   },
   {
    "duration": 28,
    "start_time": "2021-11-26T16:02:39.063Z"
   },
   {
    "duration": 276,
    "start_time": "2021-11-26T16:02:42.215Z"
   },
   {
    "duration": 78,
    "start_time": "2021-11-26T16:02:55.653Z"
   },
   {
    "duration": 153,
    "start_time": "2021-11-26T16:03:43.674Z"
   },
   {
    "duration": 267,
    "start_time": "2021-11-26T16:03:54.176Z"
   },
   {
    "duration": 55,
    "start_time": "2021-11-26T16:03:54.445Z"
   },
   {
    "duration": 75,
    "start_time": "2021-11-26T16:03:54.502Z"
   },
   {
    "duration": 236,
    "start_time": "2021-11-26T16:03:54.580Z"
   },
   {
    "duration": 47,
    "start_time": "2021-11-26T16:03:54.818Z"
   },
   {
    "duration": 132,
    "start_time": "2021-11-26T16:03:59.595Z"
   },
   {
    "duration": 55,
    "start_time": "2021-11-26T16:04:46.328Z"
   },
   {
    "duration": 14,
    "start_time": "2021-11-26T16:05:09.605Z"
   },
   {
    "duration": 37,
    "start_time": "2021-11-26T16:05:29.485Z"
   },
   {
    "duration": 296,
    "start_time": "2021-11-26T16:05:54.986Z"
   },
   {
    "duration": 189,
    "start_time": "2021-11-26T16:06:06.216Z"
   },
   {
    "duration": 32,
    "start_time": "2021-11-26T16:06:06.408Z"
   },
   {
    "duration": 69,
    "start_time": "2021-11-26T16:06:06.443Z"
   },
   {
    "duration": 173,
    "start_time": "2021-11-26T16:06:06.515Z"
   },
   {
    "duration": 27,
    "start_time": "2021-11-26T16:06:06.690Z"
   },
   {
    "duration": 69,
    "start_time": "2021-11-26T16:06:06.720Z"
   },
   {
    "duration": 13,
    "start_time": "2021-11-26T16:06:06.791Z"
   },
   {
    "duration": 121,
    "start_time": "2021-11-26T16:06:06.807Z"
   },
   {
    "duration": 42,
    "start_time": "2021-11-26T16:06:06.930Z"
   },
   {
    "duration": 603,
    "start_time": "2021-11-26T16:06:11.208Z"
   },
   {
    "duration": 54,
    "start_time": "2021-11-26T16:06:31.750Z"
   },
   {
    "duration": 32,
    "start_time": "2021-11-26T16:06:53.257Z"
   },
   {
    "duration": 39,
    "start_time": "2021-11-26T16:06:58.130Z"
   },
   {
    "duration": 15,
    "start_time": "2021-11-26T16:07:07.879Z"
   },
   {
    "duration": 77,
    "start_time": "2021-11-26T16:09:06.230Z"
   },
   {
    "duration": 17,
    "start_time": "2021-11-26T16:09:34.208Z"
   },
   {
    "duration": 21,
    "start_time": "2021-11-26T16:09:57.135Z"
   },
   {
    "duration": 18,
    "start_time": "2021-11-26T16:10:19.270Z"
   },
   {
    "duration": 249,
    "start_time": "2021-11-26T16:12:08.585Z"
   },
   {
    "duration": 23,
    "start_time": "2021-11-26T16:12:35.966Z"
   },
   {
    "duration": 24,
    "start_time": "2021-11-26T16:13:48.583Z"
   },
   {
    "duration": 242,
    "start_time": "2021-11-26T16:14:26.374Z"
   },
   {
    "duration": 22,
    "start_time": "2021-11-26T16:14:39.387Z"
   },
   {
    "duration": 50,
    "start_time": "2021-11-26T16:15:40.089Z"
   },
   {
    "duration": 42,
    "start_time": "2021-11-26T16:15:56.371Z"
   },
   {
    "duration": 56,
    "start_time": "2021-11-26T16:16:07.053Z"
   },
   {
    "duration": 175,
    "start_time": "2021-11-26T16:16:24.095Z"
   },
   {
    "duration": 31,
    "start_time": "2021-11-26T16:16:24.272Z"
   },
   {
    "duration": 83,
    "start_time": "2021-11-26T16:16:24.306Z"
   },
   {
    "duration": 155,
    "start_time": "2021-11-26T16:16:24.392Z"
   },
   {
    "duration": 27,
    "start_time": "2021-11-26T16:16:24.549Z"
   },
   {
    "duration": 44,
    "start_time": "2021-11-26T16:16:24.578Z"
   },
   {
    "duration": 40,
    "start_time": "2021-11-26T16:16:24.624Z"
   },
   {
    "duration": 103,
    "start_time": "2021-11-26T16:16:24.666Z"
   },
   {
    "duration": 21,
    "start_time": "2021-11-26T16:16:24.772Z"
   },
   {
    "duration": 39,
    "start_time": "2021-11-26T16:16:24.795Z"
   },
   {
    "duration": 40,
    "start_time": "2021-11-26T16:16:24.836Z"
   },
   {
    "duration": 41,
    "start_time": "2021-11-26T16:16:24.878Z"
   },
   {
    "duration": 20,
    "start_time": "2021-11-26T16:16:24.921Z"
   },
   {
    "duration": 33,
    "start_time": "2021-11-26T16:16:24.942Z"
   },
   {
    "duration": 21,
    "start_time": "2021-11-26T16:16:28.767Z"
   },
   {
    "duration": 22,
    "start_time": "2021-11-26T16:16:53.602Z"
   },
   {
    "duration": 49,
    "start_time": "2021-11-26T16:17:08.667Z"
   },
   {
    "duration": 48,
    "start_time": "2021-11-26T16:17:21.411Z"
   },
   {
    "duration": 179,
    "start_time": "2021-11-26T16:18:02.140Z"
   },
   {
    "duration": 43,
    "start_time": "2021-11-26T16:18:02.321Z"
   },
   {
    "duration": 48,
    "start_time": "2021-11-26T16:18:02.367Z"
   },
   {
    "duration": 159,
    "start_time": "2021-11-26T16:18:02.417Z"
   },
   {
    "duration": 22,
    "start_time": "2021-11-26T16:18:02.578Z"
   },
   {
    "duration": 68,
    "start_time": "2021-11-26T16:18:02.601Z"
   },
   {
    "duration": 12,
    "start_time": "2021-11-26T16:18:02.670Z"
   },
   {
    "duration": 156,
    "start_time": "2021-11-26T16:18:02.685Z"
   },
   {
    "duration": 28,
    "start_time": "2021-11-26T16:18:02.843Z"
   },
   {
    "duration": 59,
    "start_time": "2021-11-26T16:18:02.873Z"
   },
   {
    "duration": 27,
    "start_time": "2021-11-26T16:18:02.934Z"
   },
   {
    "duration": 87,
    "start_time": "2021-11-26T16:18:02.962Z"
   },
   {
    "duration": 29,
    "start_time": "2021-11-26T16:18:03.051Z"
   },
   {
    "duration": 30,
    "start_time": "2021-11-26T16:18:03.083Z"
   },
   {
    "duration": 8,
    "start_time": "2021-11-26T16:18:12.957Z"
   },
   {
    "duration": 63,
    "start_time": "2021-11-26T16:18:26.047Z"
   },
   {
    "duration": 53,
    "start_time": "2021-11-26T16:18:33.710Z"
   },
   {
    "duration": 91,
    "start_time": "2021-11-26T16:19:48.379Z"
   },
   {
    "duration": 9,
    "start_time": "2021-11-26T16:21:08.110Z"
   },
   {
    "duration": 8,
    "start_time": "2021-11-26T16:21:33.832Z"
   },
   {
    "duration": 630,
    "start_time": "2021-11-26T16:24:55.818Z"
   },
   {
    "duration": 23,
    "start_time": "2021-11-26T16:25:17.093Z"
   },
   {
    "duration": 8,
    "start_time": "2021-11-26T16:29:37.745Z"
   },
   {
    "duration": 21,
    "start_time": "2021-11-26T16:30:45.297Z"
   },
   {
    "duration": 25,
    "start_time": "2021-11-26T16:31:54.342Z"
   },
   {
    "duration": 270,
    "start_time": "2021-11-26T16:32:03.641Z"
   },
   {
    "duration": 55,
    "start_time": "2021-11-26T16:32:03.914Z"
   },
   {
    "duration": 69,
    "start_time": "2021-11-26T16:32:03.972Z"
   },
   {
    "duration": 247,
    "start_time": "2021-11-26T16:32:04.044Z"
   },
   {
    "duration": 36,
    "start_time": "2021-11-26T16:32:04.294Z"
   },
   {
    "duration": 78,
    "start_time": "2021-11-26T16:32:04.332Z"
   },
   {
    "duration": 19,
    "start_time": "2021-11-26T16:32:04.412Z"
   },
   {
    "duration": 156,
    "start_time": "2021-11-26T16:32:04.434Z"
   },
   {
    "duration": 32,
    "start_time": "2021-11-26T16:32:04.593Z"
   },
   {
    "duration": 74,
    "start_time": "2021-11-26T16:32:04.627Z"
   },
   {
    "duration": 50,
    "start_time": "2021-11-26T16:32:04.703Z"
   },
   {
    "duration": 74,
    "start_time": "2021-11-26T16:32:04.755Z"
   },
   {
    "duration": 10,
    "start_time": "2021-11-26T16:32:04.831Z"
   },
   {
    "duration": 28,
    "start_time": "2021-11-26T16:32:04.843Z"
   },
   {
    "duration": 34,
    "start_time": "2021-11-26T16:32:04.872Z"
   },
   {
    "duration": 22,
    "start_time": "2021-11-26T16:32:04.908Z"
   },
   {
    "duration": 6,
    "start_time": "2021-11-26T16:33:08.853Z"
   },
   {
    "duration": 30,
    "start_time": "2021-11-26T16:33:16.433Z"
   },
   {
    "duration": 8,
    "start_time": "2021-11-26T16:33:28.931Z"
   },
   {
    "duration": 10,
    "start_time": "2021-11-26T16:33:41.497Z"
   },
   {
    "duration": 13,
    "start_time": "2021-11-26T16:33:48.416Z"
   },
   {
    "duration": 5,
    "start_time": "2021-11-26T16:34:03.740Z"
   },
   {
    "duration": 7,
    "start_time": "2021-11-26T16:34:15.036Z"
   },
   {
    "duration": 8,
    "start_time": "2021-11-26T16:34:50.126Z"
   },
   {
    "duration": 22,
    "start_time": "2021-11-26T16:35:24.269Z"
   },
   {
    "duration": 286,
    "start_time": "2021-11-27T03:36:22.904Z"
   },
   {
    "duration": 753,
    "start_time": "2021-11-27T03:36:27.811Z"
   },
   {
    "duration": 30,
    "start_time": "2021-11-27T03:36:28.566Z"
   },
   {
    "duration": 58,
    "start_time": "2021-11-27T03:36:35.813Z"
   },
   {
    "duration": 269,
    "start_time": "2021-11-27T03:37:01.847Z"
   },
   {
    "duration": 179,
    "start_time": "2021-11-27T03:37:07.354Z"
   },
   {
    "duration": 38,
    "start_time": "2021-11-27T03:37:07.535Z"
   },
   {
    "duration": 57,
    "start_time": "2021-11-27T03:37:07.575Z"
   },
   {
    "duration": 165,
    "start_time": "2021-11-27T03:37:07.634Z"
   },
   {
    "duration": 39,
    "start_time": "2021-11-27T03:37:07.801Z"
   },
   {
    "duration": 275,
    "start_time": "2021-11-27T03:37:11.745Z"
   },
   {
    "duration": 57,
    "start_time": "2021-11-27T03:37:23.851Z"
   },
   {
    "duration": 16,
    "start_time": "2021-11-27T03:37:33.367Z"
   },
   {
    "duration": 118,
    "start_time": "2021-11-27T03:37:39.973Z"
   },
   {
    "duration": 22,
    "start_time": "2021-11-27T03:37:45.703Z"
   },
   {
    "duration": 43,
    "start_time": "2021-11-27T03:38:03.180Z"
   },
   {
    "duration": 4396,
    "start_time": "2021-11-27T03:38:19.437Z"
   },
   {
    "duration": 26,
    "start_time": "2021-11-27T03:38:39.066Z"
   },
   {
    "duration": 38,
    "start_time": "2021-11-27T03:38:43.266Z"
   },
   {
    "duration": 7,
    "start_time": "2021-11-27T03:38:52.207Z"
   },
   {
    "duration": 81,
    "start_time": "2021-11-27T03:40:40.587Z"
   },
   {
    "duration": 54,
    "start_time": "2021-11-27T03:41:00.790Z"
   },
   {
    "duration": 53,
    "start_time": "2021-11-27T03:41:18.361Z"
   },
   {
    "duration": 59,
    "start_time": "2021-11-27T03:48:28.151Z"
   },
   {
    "duration": 49,
    "start_time": "2021-11-27T03:52:10.510Z"
   },
   {
    "duration": 13,
    "start_time": "2021-11-27T03:52:15.415Z"
   },
   {
    "duration": 1096,
    "start_time": "2021-11-27T15:23:09.794Z"
   },
   {
    "duration": 58,
    "start_time": "2021-11-27T15:23:10.893Z"
   },
   {
    "duration": 120,
    "start_time": "2021-11-27T15:23:10.954Z"
   },
   {
    "duration": 218,
    "start_time": "2021-11-27T15:23:11.077Z"
   },
   {
    "duration": 52,
    "start_time": "2021-11-27T15:23:11.301Z"
   },
   {
    "duration": 92,
    "start_time": "2021-11-27T15:23:11.358Z"
   },
   {
    "duration": 23,
    "start_time": "2021-11-27T15:23:11.454Z"
   },
   {
    "duration": 215,
    "start_time": "2021-11-27T15:23:11.480Z"
   },
   {
    "duration": 29,
    "start_time": "2021-11-27T15:23:11.701Z"
   },
   {
    "duration": 9869,
    "start_time": "2021-11-27T15:23:11.733Z"
   },
   {
    "duration": 31,
    "start_time": "2021-11-27T15:23:21.604Z"
   },
   {
    "duration": 57,
    "start_time": "2021-11-27T15:23:21.637Z"
   },
   {
    "duration": 9,
    "start_time": "2021-11-27T15:23:21.696Z"
   },
   {
    "duration": 457,
    "start_time": "2021-11-27T15:23:21.707Z"
   },
   {
    "duration": -787,
    "start_time": "2021-11-27T15:23:22.954Z"
   },
   {
    "duration": -796,
    "start_time": "2021-11-27T15:23:22.965Z"
   },
   {
    "duration": -798,
    "start_time": "2021-11-27T15:23:22.969Z"
   },
   {
    "duration": -799,
    "start_time": "2021-11-27T15:23:22.972Z"
   },
   {
    "duration": -799,
    "start_time": "2021-11-27T15:23:22.974Z"
   },
   {
    "duration": -800,
    "start_time": "2021-11-27T15:23:22.977Z"
   },
   {
    "duration": -800,
    "start_time": "2021-11-27T15:23:22.979Z"
   },
   {
    "duration": -800,
    "start_time": "2021-11-27T15:23:22.981Z"
   },
   {
    "duration": -799,
    "start_time": "2021-11-27T15:23:22.982Z"
   },
   {
    "duration": 432,
    "start_time": "2021-11-27T15:24:18.355Z"
   },
   {
    "duration": 362,
    "start_time": "2021-11-27T15:24:27.778Z"
   },
   {
    "duration": 239,
    "start_time": "2021-11-27T15:24:34.221Z"
   },
   {
    "duration": 60,
    "start_time": "2021-11-27T15:24:34.463Z"
   },
   {
    "duration": 95,
    "start_time": "2021-11-27T15:24:34.525Z"
   },
   {
    "duration": 206,
    "start_time": "2021-11-27T15:24:34.623Z"
   },
   {
    "duration": 32,
    "start_time": "2021-11-27T15:24:34.832Z"
   },
   {
    "duration": 87,
    "start_time": "2021-11-27T15:24:34.866Z"
   },
   {
    "duration": 41,
    "start_time": "2021-11-27T15:24:34.955Z"
   },
   {
    "duration": 137,
    "start_time": "2021-11-27T15:24:35.000Z"
   },
   {
    "duration": 43,
    "start_time": "2021-11-27T15:24:35.140Z"
   },
   {
    "duration": 11442,
    "start_time": "2021-11-27T15:24:35.185Z"
   },
   {
    "duration": 31,
    "start_time": "2021-11-27T15:24:46.630Z"
   },
   {
    "duration": 51,
    "start_time": "2021-11-27T15:24:46.664Z"
   },
   {
    "duration": 9,
    "start_time": "2021-11-27T15:24:46.718Z"
   },
   {
    "duration": 358,
    "start_time": "2021-11-27T15:24:46.730Z"
   },
   {
    "duration": 356,
    "start_time": "2021-11-27T15:24:55.496Z"
   },
   {
    "duration": 44,
    "start_time": "2021-11-27T15:26:05.213Z"
   },
   {
    "duration": 52,
    "start_time": "2021-11-27T15:26:30.518Z"
   },
   {
    "duration": 6,
    "start_time": "2021-11-27T15:26:35.557Z"
   },
   {
    "duration": 356,
    "start_time": "2021-11-27T15:26:46.345Z"
   },
   {
    "duration": 342,
    "start_time": "2021-11-27T15:27:04.267Z"
   },
   {
    "duration": 41,
    "start_time": "2021-11-27T15:27:04.612Z"
   },
   {
    "duration": 109,
    "start_time": "2021-11-27T15:27:04.657Z"
   },
   {
    "duration": 200,
    "start_time": "2021-11-27T15:27:04.769Z"
   },
   {
    "duration": 45,
    "start_time": "2021-11-27T15:27:04.972Z"
   },
   {
    "duration": 64,
    "start_time": "2021-11-27T15:27:05.020Z"
   },
   {
    "duration": 18,
    "start_time": "2021-11-27T15:27:05.102Z"
   },
   {
    "duration": 149,
    "start_time": "2021-11-27T15:27:05.124Z"
   },
   {
    "duration": 36,
    "start_time": "2021-11-27T15:27:05.276Z"
   },
   {
    "duration": 10188,
    "start_time": "2021-11-27T15:27:05.314Z"
   },
   {
    "duration": 37,
    "start_time": "2021-11-27T15:27:15.504Z"
   },
   {
    "duration": 47,
    "start_time": "2021-11-27T15:27:15.544Z"
   },
   {
    "duration": 20,
    "start_time": "2021-11-27T15:27:21.169Z"
   },
   {
    "duration": 414,
    "start_time": "2021-11-27T15:27:21.388Z"
   },
   {
    "duration": 360,
    "start_time": "2021-11-27T15:27:34.616Z"
   },
   {
    "duration": 917,
    "start_time": "2021-11-27T15:28:47.829Z"
   },
   {
    "duration": 38,
    "start_time": "2021-11-27T15:28:57.373Z"
   },
   {
    "duration": 56,
    "start_time": "2021-11-27T15:29:02.296Z"
   },
   {
    "duration": 19,
    "start_time": "2021-11-27T15:29:31.671Z"
   },
   {
    "duration": 26,
    "start_time": "2021-11-27T15:29:42.014Z"
   },
   {
    "duration": 31,
    "start_time": "2021-11-27T15:29:49.631Z"
   },
   {
    "duration": 50,
    "start_time": "2021-11-27T15:29:54.708Z"
   },
   {
    "duration": 19,
    "start_time": "2021-11-27T15:30:35.295Z"
   },
   {
    "duration": 80,
    "start_time": "2021-11-27T15:30:38.239Z"
   },
   {
    "duration": 75,
    "start_time": "2021-11-27T15:30:50.395Z"
   },
   {
    "duration": 203,
    "start_time": "2021-11-27T15:31:02.461Z"
   },
   {
    "duration": 34,
    "start_time": "2021-11-27T15:31:08.427Z"
   },
   {
    "duration": 66,
    "start_time": "2021-11-27T15:31:11.818Z"
   },
   {
    "duration": 17,
    "start_time": "2021-11-27T15:31:16.634Z"
   },
   {
    "duration": 138,
    "start_time": "2021-11-27T15:31:24.904Z"
   },
   {
    "duration": 31,
    "start_time": "2021-11-27T15:31:31.817Z"
   },
   {
    "duration": 601,
    "start_time": "2021-11-27T15:31:38.005Z"
   },
   {
    "duration": 951,
    "start_time": "2021-11-27T15:31:48.286Z"
   },
   {
    "duration": 55,
    "start_time": "2021-11-27T15:32:53.590Z"
   },
   {
    "duration": 54,
    "start_time": "2021-11-27T15:32:56.271Z"
   },
   {
    "duration": 40,
    "start_time": "2021-11-27T15:32:59.223Z"
   },
   {
    "duration": 54,
    "start_time": "2021-11-27T15:33:14.446Z"
   },
   {
    "duration": 51,
    "start_time": "2021-11-27T15:33:25.340Z"
   },
   {
    "duration": 18,
    "start_time": "2021-11-27T15:33:37.140Z"
   },
   {
    "duration": 411,
    "start_time": "2021-11-27T15:34:12.470Z"
   },
   {
    "duration": 75,
    "start_time": "2021-11-27T15:34:25.283Z"
   },
   {
    "duration": 24,
    "start_time": "2021-11-27T15:34:31.948Z"
   },
   {
    "duration": 30,
    "start_time": "2021-11-27T15:34:38.791Z"
   },
   {
    "duration": 63,
    "start_time": "2021-11-27T15:34:44.539Z"
   },
   {
    "duration": 28,
    "start_time": "2021-11-27T15:34:50.962Z"
   },
   {
    "duration": 27,
    "start_time": "2021-11-27T15:35:02.850Z"
   },
   {
    "duration": 32,
    "start_time": "2021-11-27T15:35:11.163Z"
   },
   {
    "duration": 32,
    "start_time": "2021-11-27T15:35:17.648Z"
   },
   {
    "duration": 235,
    "start_time": "2021-11-27T15:35:35.719Z"
   },
   {
    "duration": 55,
    "start_time": "2021-11-27T15:35:35.956Z"
   },
   {
    "duration": 87,
    "start_time": "2021-11-27T15:35:36.015Z"
   },
   {
    "duration": 203,
    "start_time": "2021-11-27T15:35:36.105Z"
   },
   {
    "duration": 33,
    "start_time": "2021-11-27T15:35:36.310Z"
   },
   {
    "duration": 91,
    "start_time": "2021-11-27T15:35:36.345Z"
   },
   {
    "duration": 18,
    "start_time": "2021-11-27T15:35:36.438Z"
   },
   {
    "duration": 159,
    "start_time": "2021-11-27T15:35:36.459Z"
   },
   {
    "duration": 28,
    "start_time": "2021-11-27T15:35:36.622Z"
   },
   {
    "duration": 76,
    "start_time": "2021-11-27T15:35:36.653Z"
   },
   {
    "duration": 17,
    "start_time": "2021-11-27T15:35:36.731Z"
   },
   {
    "duration": 30,
    "start_time": "2021-11-27T15:35:36.751Z"
   },
   {
    "duration": 44,
    "start_time": "2021-11-27T15:35:36.800Z"
   },
   {
    "duration": 20,
    "start_time": "2021-11-27T15:35:36.846Z"
   },
   {
    "duration": 46,
    "start_time": "2021-11-27T15:35:36.868Z"
   },
   {
    "duration": 28,
    "start_time": "2021-11-27T15:35:36.917Z"
   },
   {
    "duration": 31,
    "start_time": "2021-11-27T15:35:47.385Z"
   },
   {
    "duration": 369,
    "start_time": "2021-11-27T15:37:13.091Z"
   },
   {
    "duration": 8662,
    "start_time": "2021-11-27T15:37:21.157Z"
   },
   {
    "duration": 9813,
    "start_time": "2021-11-27T15:37:30.429Z"
   },
   {
    "duration": 242,
    "start_time": "2021-11-27T15:37:57.531Z"
   },
   {
    "duration": 63,
    "start_time": "2021-11-27T15:37:57.776Z"
   },
   {
    "duration": 91,
    "start_time": "2021-11-27T15:37:57.843Z"
   },
   {
    "duration": 217,
    "start_time": "2021-11-27T15:37:57.936Z"
   },
   {
    "duration": 52,
    "start_time": "2021-11-27T15:37:58.156Z"
   },
   {
    "duration": 98,
    "start_time": "2021-11-27T15:37:58.211Z"
   },
   {
    "duration": 25,
    "start_time": "2021-11-27T15:37:58.312Z"
   },
   {
    "duration": 161,
    "start_time": "2021-11-27T15:37:58.342Z"
   },
   {
    "duration": 31,
    "start_time": "2021-11-27T15:37:58.506Z"
   },
   {
    "duration": 85,
    "start_time": "2021-11-27T15:37:58.540Z"
   },
   {
    "duration": 17,
    "start_time": "2021-11-27T15:37:58.628Z"
   },
   {
    "duration": 30,
    "start_time": "2021-11-27T15:37:58.647Z"
   },
   {
    "duration": 45,
    "start_time": "2021-11-27T15:37:58.679Z"
   },
   {
    "duration": 26,
    "start_time": "2021-11-27T15:38:02.993Z"
   },
   {
    "duration": 31,
    "start_time": "2021-11-27T15:38:11.664Z"
   },
   {
    "duration": 30,
    "start_time": "2021-11-27T15:38:17.081Z"
   },
   {
    "duration": 52,
    "start_time": "2021-11-27T15:38:22.365Z"
   },
   {
    "duration": 9,
    "start_time": "2021-11-27T15:38:31.116Z"
   },
   {
    "duration": 59,
    "start_time": "2021-11-27T15:38:35.479Z"
   },
   {
    "duration": 1032,
    "start_time": "2021-11-27T15:39:21.090Z"
   },
   {
    "duration": 78,
    "start_time": "2021-11-27T15:39:22.125Z"
   },
   {
    "duration": 115,
    "start_time": "2021-11-27T15:39:22.206Z"
   },
   {
    "duration": 211,
    "start_time": "2021-11-27T15:39:22.324Z"
   },
   {
    "duration": 34,
    "start_time": "2021-11-27T15:39:22.538Z"
   },
   {
    "duration": 90,
    "start_time": "2021-11-27T15:39:22.575Z"
   },
   {
    "duration": 36,
    "start_time": "2021-11-27T15:39:22.668Z"
   },
   {
    "duration": 147,
    "start_time": "2021-11-27T15:39:22.708Z"
   },
   {
    "duration": 44,
    "start_time": "2021-11-27T15:39:22.858Z"
   },
   {
    "duration": 60,
    "start_time": "2021-11-27T15:39:22.904Z"
   },
   {
    "duration": 40,
    "start_time": "2021-11-27T15:39:22.966Z"
   },
   {
    "duration": 39,
    "start_time": "2021-11-27T15:39:23.009Z"
   },
   {
    "duration": 61,
    "start_time": "2021-11-27T15:39:23.052Z"
   },
   {
    "duration": 41,
    "start_time": "2021-11-27T15:39:23.117Z"
   },
   {
    "duration": 59,
    "start_time": "2021-11-27T15:39:23.161Z"
   },
   {
    "duration": 44,
    "start_time": "2021-11-27T15:39:23.223Z"
   },
   {
    "duration": 73,
    "start_time": "2021-11-27T15:39:23.270Z"
   },
   {
    "duration": 9,
    "start_time": "2021-11-27T15:39:23.346Z"
   },
   {
    "duration": 84,
    "start_time": "2021-11-27T15:39:23.357Z"
   },
   {
    "duration": 9,
    "start_time": "2021-11-27T15:39:23.443Z"
   },
   {
    "duration": 16,
    "start_time": "2021-11-27T15:39:23.454Z"
   },
   {
    "duration": 32,
    "start_time": "2021-11-27T15:39:23.473Z"
   },
   {
    "duration": 33,
    "start_time": "2021-11-27T15:39:23.511Z"
   },
   {
    "duration": 16,
    "start_time": "2021-11-27T15:39:23.547Z"
   },
   {
    "duration": 27,
    "start_time": "2021-11-27T15:41:58.518Z"
   },
   {
    "duration": 10,
    "start_time": "2021-11-27T15:42:57.313Z"
   },
   {
    "duration": 30,
    "start_time": "2021-11-27T15:43:10.819Z"
   },
   {
    "duration": 28,
    "start_time": "2021-11-27T15:43:26.764Z"
   },
   {
    "duration": 27,
    "start_time": "2021-11-27T15:43:51.064Z"
   },
   {
    "duration": 30,
    "start_time": "2021-11-27T15:44:32.309Z"
   },
   {
    "duration": 30,
    "start_time": "2021-11-27T15:44:40.977Z"
   },
   {
    "duration": 18,
    "start_time": "2021-11-27T15:44:49.376Z"
   },
   {
    "duration": 230,
    "start_time": "2021-11-27T15:45:57.215Z"
   },
   {
    "duration": 54,
    "start_time": "2021-11-27T15:45:57.447Z"
   },
   {
    "duration": 79,
    "start_time": "2021-11-27T15:45:57.504Z"
   },
   {
    "duration": 204,
    "start_time": "2021-11-27T15:45:57.601Z"
   },
   {
    "duration": 35,
    "start_time": "2021-11-27T15:45:57.808Z"
   },
   {
    "duration": 95,
    "start_time": "2021-11-27T15:45:57.846Z"
   },
   {
    "duration": 19,
    "start_time": "2021-11-27T15:45:57.943Z"
   },
   {
    "duration": 158,
    "start_time": "2021-11-27T15:45:57.966Z"
   },
   {
    "duration": 28,
    "start_time": "2021-11-27T15:45:58.127Z"
   },
   {
    "duration": 80,
    "start_time": "2021-11-27T15:45:58.157Z"
   },
   {
    "duration": 18,
    "start_time": "2021-11-27T15:45:58.240Z"
   },
   {
    "duration": 44,
    "start_time": "2021-11-27T15:45:58.261Z"
   },
   {
    "duration": 46,
    "start_time": "2021-11-27T15:45:58.308Z"
   },
   {
    "duration": 7,
    "start_time": "2021-11-27T15:45:58.356Z"
   },
   {
    "duration": 39,
    "start_time": "2021-11-27T15:45:58.366Z"
   },
   {
    "duration": 29,
    "start_time": "2021-11-27T15:45:58.407Z"
   },
   {
    "duration": 16,
    "start_time": "2021-11-27T15:46:02.260Z"
   },
   {
    "duration": 53,
    "start_time": "2021-11-27T15:47:12.750Z"
   },
   {
    "duration": 51,
    "start_time": "2021-11-27T15:47:33.519Z"
   },
   {
    "duration": 27,
    "start_time": "2021-11-27T15:47:47.841Z"
   },
   {
    "duration": 458,
    "start_time": "2021-11-27T15:47:59.582Z"
   },
   {
    "duration": 377,
    "start_time": "2021-11-27T15:48:27.032Z"
   },
   {
    "duration": 53,
    "start_time": "2021-11-27T15:48:37.010Z"
   },
   {
    "duration": 52,
    "start_time": "2021-11-27T15:48:46.018Z"
   },
   {
    "duration": 52,
    "start_time": "2021-11-27T15:48:46.227Z"
   },
   {
    "duration": 49,
    "start_time": "2021-11-27T15:48:54.867Z"
   },
   {
    "duration": 73,
    "start_time": "2021-11-27T15:49:04.113Z"
   },
   {
    "duration": 41,
    "start_time": "2021-11-27T15:49:26.911Z"
   },
   {
    "duration": 43,
    "start_time": "2021-11-27T15:49:31.637Z"
   },
   {
    "duration": 29,
    "start_time": "2021-11-27T15:49:42.693Z"
   },
   {
    "duration": 39,
    "start_time": "2021-11-27T15:49:54.994Z"
   },
   {
    "duration": 18,
    "start_time": "2021-11-27T15:50:05.389Z"
   },
   {
    "duration": 16,
    "start_time": "2021-11-27T15:51:47.736Z"
   },
   {
    "duration": 31,
    "start_time": "2021-11-27T15:51:54.521Z"
   },
   {
    "duration": 31,
    "start_time": "2021-11-27T15:52:01.720Z"
   },
   {
    "duration": 26,
    "start_time": "2021-11-27T15:52:38.602Z"
   },
   {
    "duration": -731,
    "start_time": "2021-11-27T15:54:55.541Z"
   },
   {
    "duration": 234,
    "start_time": "2021-11-27T15:55:03.627Z"
   },
   {
    "duration": 58,
    "start_time": "2021-11-27T15:55:03.864Z"
   },
   {
    "duration": 88,
    "start_time": "2021-11-27T15:55:03.927Z"
   },
   {
    "duration": 205,
    "start_time": "2021-11-27T15:55:04.019Z"
   },
   {
    "duration": 33,
    "start_time": "2021-11-27T15:55:04.227Z"
   },
   {
    "duration": 96,
    "start_time": "2021-11-27T15:55:04.262Z"
   },
   {
    "duration": 17,
    "start_time": "2021-11-27T15:55:04.361Z"
   },
   {
    "duration": 157,
    "start_time": "2021-11-27T15:55:04.381Z"
   },
   {
    "duration": 31,
    "start_time": "2021-11-27T15:55:04.544Z"
   },
   {
    "duration": 75,
    "start_time": "2021-11-27T15:55:04.578Z"
   },
   {
    "duration": 3,
    "start_time": "2021-11-27T15:55:04.655Z"
   },
   {
    "duration": 45,
    "start_time": "2021-11-27T15:55:04.661Z"
   },
   {
    "duration": 93,
    "start_time": "2021-11-27T15:55:04.709Z"
   },
   {
    "duration": 17,
    "start_time": "2021-11-27T15:55:11.998Z"
   },
   {
    "duration": 31,
    "start_time": "2021-11-27T15:56:00.020Z"
   },
   {
    "duration": 28,
    "start_time": "2021-11-27T15:56:12.834Z"
   },
   {
    "duration": 1094,
    "start_time": "2021-11-27T16:01:20.484Z"
   },
   {
    "duration": 49,
    "start_time": "2021-11-27T16:01:21.580Z"
   },
   {
    "duration": 98,
    "start_time": "2021-11-27T16:01:21.632Z"
   },
   {
    "duration": 205,
    "start_time": "2021-11-27T16:01:21.733Z"
   },
   {
    "duration": 31,
    "start_time": "2021-11-27T16:01:21.940Z"
   },
   {
    "duration": 86,
    "start_time": "2021-11-27T16:01:21.973Z"
   },
   {
    "duration": 42,
    "start_time": "2021-11-27T16:01:22.061Z"
   },
   {
    "duration": 143,
    "start_time": "2021-11-27T16:01:22.107Z"
   },
   {
    "duration": 46,
    "start_time": "2021-11-27T16:01:22.254Z"
   },
   {
    "duration": 63,
    "start_time": "2021-11-27T16:01:22.302Z"
   },
   {
    "duration": 3,
    "start_time": "2021-11-27T16:01:22.367Z"
   },
   {
    "duration": 55,
    "start_time": "2021-11-27T16:01:22.373Z"
   },
   {
    "duration": 61,
    "start_time": "2021-11-27T16:01:22.431Z"
   },
   {
    "duration": 17,
    "start_time": "2021-11-27T16:01:22.494Z"
   },
   {
    "duration": 39,
    "start_time": "2021-11-27T16:01:22.513Z"
   },
   {
    "duration": 46,
    "start_time": "2021-11-27T16:01:22.554Z"
   },
   {
    "duration": 28,
    "start_time": "2021-11-27T16:01:22.602Z"
   },
   {
    "duration": 7,
    "start_time": "2021-11-27T16:01:22.632Z"
   },
   {
    "duration": 65,
    "start_time": "2021-11-27T16:01:22.641Z"
   },
   {
    "duration": 9,
    "start_time": "2021-11-27T16:01:22.708Z"
   },
   {
    "duration": 23,
    "start_time": "2021-11-27T16:01:22.719Z"
   },
   {
    "duration": 10,
    "start_time": "2021-11-27T16:01:22.744Z"
   },
   {
    "duration": 67,
    "start_time": "2021-11-27T16:01:22.759Z"
   },
   {
    "duration": 13,
    "start_time": "2021-11-27T16:01:22.828Z"
   },
   {
    "duration": 25,
    "start_time": "2021-11-27T16:02:48.857Z"
   },
   {
    "duration": 153,
    "start_time": "2021-11-27T16:03:03.107Z"
   },
   {
    "duration": 109,
    "start_time": "2021-11-27T16:03:38.763Z"
   },
   {
    "duration": 31,
    "start_time": "2021-11-27T16:04:07.605Z"
   },
   {
    "duration": 31,
    "start_time": "2021-11-27T16:04:26.036Z"
   },
   {
    "duration": 28,
    "start_time": "2021-11-27T16:04:35.772Z"
   },
   {
    "duration": 36,
    "start_time": "2021-11-27T16:05:21.971Z"
   },
   {
    "duration": 6,
    "start_time": "2021-11-27T16:06:32.776Z"
   },
   {
    "duration": 491,
    "start_time": "2021-11-27T16:06:46.641Z"
   },
   {
    "duration": 365,
    "start_time": "2021-11-27T16:08:36.144Z"
   },
   {
    "duration": 355,
    "start_time": "2021-11-27T16:08:40.326Z"
   },
   {
    "duration": 388,
    "start_time": "2021-11-27T16:08:52.349Z"
   },
   {
    "duration": 222,
    "start_time": "2021-11-27T16:09:04.002Z"
   },
   {
    "duration": 40,
    "start_time": "2021-11-27T16:09:04.227Z"
   },
   {
    "duration": 92,
    "start_time": "2021-11-27T16:09:04.270Z"
   },
   {
    "duration": 219,
    "start_time": "2021-11-27T16:09:04.364Z"
   },
   {
    "duration": 41,
    "start_time": "2021-11-27T16:09:04.585Z"
   },
   {
    "duration": 75,
    "start_time": "2021-11-27T16:09:04.628Z"
   },
   {
    "duration": 17,
    "start_time": "2021-11-27T16:09:04.705Z"
   },
   {
    "duration": 140,
    "start_time": "2021-11-27T16:09:04.725Z"
   },
   {
    "duration": 41,
    "start_time": "2021-11-27T16:09:04.868Z"
   },
   {
    "duration": 53,
    "start_time": "2021-11-27T16:09:04.912Z"
   },
   {
    "duration": 3,
    "start_time": "2021-11-27T16:09:04.968Z"
   },
   {
    "duration": 57,
    "start_time": "2021-11-27T16:09:04.974Z"
   },
   {
    "duration": 52,
    "start_time": "2021-11-27T16:09:05.034Z"
   },
   {
    "duration": 15,
    "start_time": "2021-11-27T16:09:09.234Z"
   },
   {
    "duration": 30,
    "start_time": "2021-11-27T16:09:22.113Z"
   },
   {
    "duration": 33,
    "start_time": "2021-11-27T16:09:28.430Z"
   },
   {
    "duration": 28,
    "start_time": "2021-11-27T16:09:44.157Z"
   },
   {
    "duration": 9,
    "start_time": "2021-11-27T16:09:53.840Z"
   },
   {
    "duration": 23,
    "start_time": "2021-11-27T16:10:05.576Z"
   },
   {
    "duration": 8499,
    "start_time": "2021-11-27T16:11:43.240Z"
   },
   {
    "duration": 229,
    "start_time": "2021-11-27T16:12:32.119Z"
   },
   {
    "duration": 58,
    "start_time": "2021-11-27T16:12:32.351Z"
   },
   {
    "duration": 70,
    "start_time": "2021-11-27T16:12:32.412Z"
   },
   {
    "duration": 203,
    "start_time": "2021-11-27T16:12:32.501Z"
   },
   {
    "duration": 32,
    "start_time": "2021-11-27T16:12:32.706Z"
   },
   {
    "duration": 99,
    "start_time": "2021-11-27T16:12:32.741Z"
   },
   {
    "duration": 23,
    "start_time": "2021-11-27T16:12:32.843Z"
   },
   {
    "duration": 150,
    "start_time": "2021-11-27T16:12:32.871Z"
   },
   {
    "duration": 28,
    "start_time": "2021-11-27T16:12:33.024Z"
   },
   {
    "duration": 77,
    "start_time": "2021-11-27T16:12:33.054Z"
   },
   {
    "duration": 3,
    "start_time": "2021-11-27T16:12:33.133Z"
   },
   {
    "duration": 36,
    "start_time": "2021-11-27T16:12:33.138Z"
   },
   {
    "duration": 52,
    "start_time": "2021-11-27T16:12:33.177Z"
   },
   {
    "duration": 16,
    "start_time": "2021-11-27T16:12:33.232Z"
   },
   {
    "duration": 52,
    "start_time": "2021-11-27T16:12:33.250Z"
   },
   {
    "duration": 31,
    "start_time": "2021-11-27T16:12:33.304Z"
   },
   {
    "duration": 23,
    "start_time": "2021-11-27T16:12:33.337Z"
   },
   {
    "duration": 8776,
    "start_time": "2021-11-27T16:12:40.357Z"
   },
   {
    "duration": 357,
    "start_time": "2021-11-27T16:28:55.588Z"
   },
   {
    "duration": 839,
    "start_time": "2021-11-27T16:29:08.583Z"
   },
   {
    "duration": 46,
    "start_time": "2021-11-27T16:29:09.425Z"
   },
   {
    "duration": 86,
    "start_time": "2021-11-27T16:29:09.474Z"
   },
   {
    "duration": 244,
    "start_time": "2021-11-27T16:29:09.563Z"
   },
   {
    "duration": 33,
    "start_time": "2021-11-27T16:29:09.810Z"
   },
   {
    "duration": 93,
    "start_time": "2021-11-27T16:29:09.846Z"
   },
   {
    "duration": 20,
    "start_time": "2021-11-27T16:29:09.942Z"
   },
   {
    "duration": 153,
    "start_time": "2021-11-27T16:29:09.968Z"
   },
   {
    "duration": 30,
    "start_time": "2021-11-27T16:29:10.124Z"
   },
   {
    "duration": 83,
    "start_time": "2021-11-27T16:29:10.156Z"
   },
   {
    "duration": 4,
    "start_time": "2021-11-27T16:29:10.241Z"
   },
   {
    "duration": 39,
    "start_time": "2021-11-27T16:29:10.247Z"
   },
   {
    "duration": 57,
    "start_time": "2021-11-27T16:29:10.288Z"
   },
   {
    "duration": 16,
    "start_time": "2021-11-27T16:29:10.348Z"
   },
   {
    "duration": 47,
    "start_time": "2021-11-27T16:29:10.366Z"
   },
   {
    "duration": 30,
    "start_time": "2021-11-27T16:29:10.415Z"
   },
   {
    "duration": 21,
    "start_time": "2021-11-27T16:29:10.448Z"
   },
   {
    "duration": 11,
    "start_time": "2021-11-27T16:29:10.501Z"
   },
   {
    "duration": 61,
    "start_time": "2021-11-27T16:29:18.674Z"
   },
   {
    "duration": 12,
    "start_time": "2021-11-27T16:29:34.445Z"
   },
   {
    "duration": 13,
    "start_time": "2021-11-27T16:29:43.824Z"
   },
   {
    "duration": 7,
    "start_time": "2021-11-27T16:29:53.214Z"
   },
   {
    "duration": 7,
    "start_time": "2021-11-27T16:30:03.642Z"
   },
   {
    "duration": 31,
    "start_time": "2021-11-27T16:30:06.918Z"
   },
   {
    "duration": 14,
    "start_time": "2021-11-27T16:30:15.645Z"
   },
   {
    "duration": 13,
    "start_time": "2021-11-27T16:32:09.153Z"
   },
   {
    "duration": 18,
    "start_time": "2021-11-27T16:32:37.572Z"
   },
   {
    "duration": 28,
    "start_time": "2021-11-27T16:35:52.017Z"
   },
   {
    "duration": 89,
    "start_time": "2021-11-27T16:39:40.199Z"
   },
   {
    "duration": 138,
    "start_time": "2021-11-27T16:40:19.095Z"
   },
   {
    "duration": 136,
    "start_time": "2021-11-27T16:40:26.072Z"
   },
   {
    "duration": 146,
    "start_time": "2021-11-27T16:41:49.664Z"
   },
   {
    "duration": 29,
    "start_time": "2021-11-27T16:41:57.223Z"
   },
   {
    "duration": 53,
    "start_time": "2021-11-27T16:42:22.348Z"
   },
   {
    "duration": 45,
    "start_time": "2021-11-27T16:42:31.189Z"
   },
   {
    "duration": 395,
    "start_time": "2021-11-27T16:42:36.317Z"
   },
   {
    "duration": 240,
    "start_time": "2021-11-27T16:42:53.305Z"
   },
   {
    "duration": 61,
    "start_time": "2021-11-27T16:42:53.548Z"
   },
   {
    "duration": 164,
    "start_time": "2021-11-27T16:42:53.612Z"
   },
   {
    "duration": 199,
    "start_time": "2021-11-27T16:42:53.779Z"
   },
   {
    "duration": 43,
    "start_time": "2021-11-27T16:42:53.981Z"
   },
   {
    "duration": 161,
    "start_time": "2021-11-27T16:42:54.026Z"
   },
   {
    "duration": 30,
    "start_time": "2021-11-27T16:42:54.190Z"
   },
   {
    "duration": 143,
    "start_time": "2021-11-27T16:42:54.224Z"
   },
   {
    "duration": 46,
    "start_time": "2021-11-27T16:42:54.370Z"
   },
   {
    "duration": 83,
    "start_time": "2021-11-27T16:42:54.419Z"
   },
   {
    "duration": 4,
    "start_time": "2021-11-27T16:42:54.505Z"
   },
   {
    "duration": 41,
    "start_time": "2021-11-27T16:42:54.512Z"
   },
   {
    "duration": 59,
    "start_time": "2021-11-27T16:42:54.556Z"
   },
   {
    "duration": 15,
    "start_time": "2021-11-27T16:42:54.617Z"
   },
   {
    "duration": 422,
    "start_time": "2021-11-27T16:43:00.117Z"
   },
   {
    "duration": 60,
    "start_time": "2021-11-27T16:43:07.693Z"
   },
   {
    "duration": 1843,
    "start_time": "2021-11-27T16:43:24.912Z"
   },
   {
    "duration": 55,
    "start_time": "2021-11-27T16:45:03.688Z"
   },
   {
    "duration": 371,
    "start_time": "2021-11-27T16:45:12.447Z"
   },
   {
    "duration": 11,
    "start_time": "2021-11-27T16:45:21.493Z"
   },
   {
    "duration": 387,
    "start_time": "2021-11-27T16:45:25.419Z"
   },
   {
    "duration": 40,
    "start_time": "2021-11-27T16:45:37.271Z"
   },
   {
    "duration": 42,
    "start_time": "2021-11-27T16:45:43.852Z"
   },
   {
    "duration": 41,
    "start_time": "2021-11-27T16:45:47.313Z"
   },
   {
    "duration": 233,
    "start_time": "2021-11-27T16:45:51.741Z"
   },
   {
    "duration": 57,
    "start_time": "2021-11-27T16:45:51.978Z"
   },
   {
    "duration": 161,
    "start_time": "2021-11-27T16:45:52.039Z"
   },
   {
    "duration": 210,
    "start_time": "2021-11-27T16:45:52.203Z"
   },
   {
    "duration": 36,
    "start_time": "2021-11-27T16:45:52.416Z"
   },
   {
    "duration": 176,
    "start_time": "2021-11-27T16:45:52.455Z"
   },
   {
    "duration": 29,
    "start_time": "2021-11-27T16:45:52.634Z"
   },
   {
    "duration": 158,
    "start_time": "2021-11-27T16:45:52.666Z"
   },
   {
    "duration": 31,
    "start_time": "2021-11-27T16:45:52.828Z"
   },
   {
    "duration": 56,
    "start_time": "2021-11-27T16:45:56.522Z"
   },
   {
    "duration": 5,
    "start_time": "2021-11-27T16:46:07.100Z"
   },
   {
    "duration": 401,
    "start_time": "2021-11-27T16:46:27.684Z"
   },
   {
    "duration": 389,
    "start_time": "2021-11-27T16:46:42.970Z"
   },
   {
    "duration": 7609,
    "start_time": "2021-11-27T16:46:57.579Z"
   },
   {
    "duration": 879,
    "start_time": "2021-11-27T16:48:39.944Z"
   },
   {
    "duration": 53,
    "start_time": "2021-11-27T16:48:58.443Z"
   },
   {
    "duration": 359,
    "start_time": "2021-11-27T16:49:04.485Z"
   },
   {
    "duration": 420,
    "start_time": "2021-11-27T16:49:14.512Z"
   },
   {
    "duration": 235,
    "start_time": "2021-11-27T16:49:37.465Z"
   },
   {
    "duration": 47,
    "start_time": "2021-11-27T16:49:37.703Z"
   },
   {
    "duration": 164,
    "start_time": "2021-11-27T16:49:37.754Z"
   },
   {
    "duration": 313,
    "start_time": "2021-11-27T16:49:37.922Z"
   },
   {
    "duration": 35,
    "start_time": "2021-11-27T16:49:38.238Z"
   },
   {
    "duration": 171,
    "start_time": "2021-11-27T16:49:38.275Z"
   },
   {
    "duration": 34,
    "start_time": "2021-11-27T16:49:38.449Z"
   },
   {
    "duration": 132,
    "start_time": "2021-11-27T16:49:38.500Z"
   },
   {
    "duration": 29,
    "start_time": "2021-11-27T16:49:38.635Z"
   },
   {
    "duration": 76,
    "start_time": "2021-11-27T16:49:38.666Z"
   },
   {
    "duration": 12,
    "start_time": "2021-11-27T16:49:48.294Z"
   },
   {
    "duration": 805,
    "start_time": "2021-11-27T16:50:17.225Z"
   },
   {
    "duration": 237,
    "start_time": "2021-11-27T16:50:27.404Z"
   },
   {
    "duration": 57,
    "start_time": "2021-11-27T16:50:27.644Z"
   },
   {
    "duration": 149,
    "start_time": "2021-11-27T16:50:27.704Z"
   },
   {
    "duration": 207,
    "start_time": "2021-11-27T16:50:27.856Z"
   },
   {
    "duration": 47,
    "start_time": "2021-11-27T16:50:28.066Z"
   },
   {
    "duration": 161,
    "start_time": "2021-11-27T16:50:28.115Z"
   },
   {
    "duration": 39,
    "start_time": "2021-11-27T16:50:28.278Z"
   },
   {
    "duration": 136,
    "start_time": "2021-11-27T16:50:28.320Z"
   },
   {
    "duration": 42,
    "start_time": "2021-11-27T16:50:28.458Z"
   },
   {
    "duration": 54,
    "start_time": "2021-11-27T16:50:28.503Z"
   },
   {
    "duration": 18,
    "start_time": "2021-11-27T16:50:39.646Z"
   },
   {
    "duration": 45,
    "start_time": "2021-11-27T16:50:53.041Z"
   },
   {
    "duration": 16,
    "start_time": "2021-11-27T16:51:01.325Z"
   },
   {
    "duration": 53,
    "start_time": "2021-11-27T16:51:08.036Z"
   },
   {
    "duration": 110,
    "start_time": "2021-11-27T16:52:12.618Z"
   },
   {
    "duration": 258,
    "start_time": "2021-11-27T16:52:46.986Z"
   },
   {
    "duration": 54,
    "start_time": "2021-11-27T16:52:47.246Z"
   },
   {
    "duration": 155,
    "start_time": "2021-11-27T16:52:47.304Z"
   },
   {
    "duration": 218,
    "start_time": "2021-11-27T16:52:47.462Z"
   },
   {
    "duration": 52,
    "start_time": "2021-11-27T16:52:47.682Z"
   },
   {
    "duration": 179,
    "start_time": "2021-11-27T16:52:47.737Z"
   },
   {
    "duration": 40,
    "start_time": "2021-11-27T16:52:47.919Z"
   },
   {
    "duration": 174,
    "start_time": "2021-11-27T16:52:47.963Z"
   },
   {
    "duration": 29,
    "start_time": "2021-11-27T16:52:48.140Z"
   },
   {
    "duration": 77,
    "start_time": "2021-11-27T16:52:48.172Z"
   },
   {
    "duration": 17,
    "start_time": "2021-11-27T16:52:48.251Z"
   },
   {
    "duration": 66,
    "start_time": "2021-11-27T16:52:48.270Z"
   },
   {
    "duration": 44,
    "start_time": "2021-11-27T16:52:48.338Z"
   },
   {
    "duration": 20,
    "start_time": "2021-11-27T16:52:48.385Z"
   },
   {
    "duration": 148,
    "start_time": "2021-11-27T16:52:55.724Z"
   },
   {
    "duration": 98,
    "start_time": "2021-11-27T16:57:39.671Z"
   },
   {
    "duration": 56,
    "start_time": "2021-11-27T16:58:00.428Z"
   },
   {
    "duration": 80,
    "start_time": "2021-11-27T16:58:37.122Z"
   },
   {
    "duration": 26,
    "start_time": "2021-11-27T16:58:51.682Z"
   },
   {
    "duration": 52,
    "start_time": "2021-11-27T16:59:03.731Z"
   },
   {
    "duration": 597,
    "start_time": "2021-11-27T16:59:12.066Z"
   },
   {
    "duration": 52,
    "start_time": "2021-11-27T16:59:26.780Z"
   },
   {
    "duration": 18,
    "start_time": "2021-11-27T16:59:33.119Z"
   },
   {
    "duration": 33,
    "start_time": "2021-11-27T16:59:54.768Z"
   },
   {
    "duration": 689,
    "start_time": "2021-11-27T17:00:00.002Z"
   },
   {
    "duration": 355,
    "start_time": "2021-11-27T17:00:13.132Z"
   },
   {
    "duration": 221,
    "start_time": "2021-11-27T17:00:19.460Z"
   },
   {
    "duration": 50,
    "start_time": "2021-11-27T17:00:19.683Z"
   },
   {
    "duration": 37829,
    "start_time": "2021-11-27T17:00:19.737Z"
   },
   {
    "duration": 207,
    "start_time": "2021-11-27T17:00:57.570Z"
   },
   {
    "duration": 43,
    "start_time": "2021-11-27T17:00:57.779Z"
   },
   {
    "duration": 80,
    "start_time": "2021-11-27T17:00:57.825Z"
   },
   {
    "duration": 17,
    "start_time": "2021-11-27T17:00:57.908Z"
   },
   {
    "duration": 200,
    "start_time": "2021-11-27T17:00:57.930Z"
   },
   {
    "duration": 28,
    "start_time": "2021-11-27T17:00:58.134Z"
   },
   {
    "duration": 79,
    "start_time": "2021-11-27T17:00:58.165Z"
   },
   {
    "duration": 16,
    "start_time": "2021-11-27T17:00:58.246Z"
   },
   {
    "duration": 42,
    "start_time": "2021-11-27T17:00:58.265Z"
   },
   {
    "duration": 50,
    "start_time": "2021-11-27T17:00:58.310Z"
   },
   {
    "duration": 16,
    "start_time": "2021-11-27T17:00:58.363Z"
   },
   {
    "duration": 43,
    "start_time": "2021-11-27T17:00:58.382Z"
   },
   {
    "duration": 420,
    "start_time": "2021-11-27T17:01:15.656Z"
   },
   {
    "duration": 1548,
    "start_time": "2021-11-27T17:01:44.053Z"
   },
   {
    "duration": 7,
    "start_time": "2021-11-27T17:03:16.257Z"
   },
   {
    "duration": 764,
    "start_time": "2021-11-27T23:52:12.379Z"
   },
   {
    "duration": 49,
    "start_time": "2021-11-27T23:52:13.146Z"
   },
   {
    "duration": 14008,
    "start_time": "2021-11-27T23:52:13.198Z"
   },
   {
    "duration": 5,
    "start_time": "2021-11-27T23:52:27.208Z"
   },
   {
    "duration": 151,
    "start_time": "2021-11-27T23:52:27.214Z"
   },
   {
    "duration": 31,
    "start_time": "2021-11-27T23:52:27.367Z"
   },
   {
    "duration": 54,
    "start_time": "2021-11-27T23:52:27.400Z"
   },
   {
    "duration": 36,
    "start_time": "2021-11-27T23:52:27.457Z"
   },
   {
    "duration": 111,
    "start_time": "2021-11-27T23:52:27.496Z"
   },
   {
    "duration": 21,
    "start_time": "2021-11-27T23:52:27.609Z"
   },
   {
    "duration": 60,
    "start_time": "2021-11-27T23:52:27.632Z"
   },
   {
    "duration": 13,
    "start_time": "2021-11-27T23:52:27.695Z"
   },
   {
    "duration": 26,
    "start_time": "2021-11-27T23:52:27.710Z"
   },
   {
    "duration": 40,
    "start_time": "2021-11-27T23:52:27.738Z"
   },
   {
    "duration": 10,
    "start_time": "2021-11-27T23:52:27.779Z"
   },
   {
    "duration": 18,
    "start_time": "2021-11-27T23:52:27.791Z"
   },
   {
    "duration": 825,
    "start_time": "2021-11-27T23:52:27.811Z"
   },
   {
    "duration": 1505,
    "start_time": "2021-11-27T23:52:28.637Z"
   },
   {
    "duration": 5,
    "start_time": "2021-11-27T23:52:30.144Z"
   },
   {
    "duration": 229,
    "start_time": "2021-11-27T23:53:35.112Z"
   },
   {
    "duration": 740,
    "start_time": "2021-11-27T23:53:45.134Z"
   },
   {
    "duration": 36,
    "start_time": "2021-11-27T23:53:45.877Z"
   },
   {
    "duration": 783,
    "start_time": "2021-11-28T02:53:40.956Z"
   },
   {
    "duration": 30,
    "start_time": "2021-11-28T02:53:41.740Z"
   },
   {
    "duration": 62,
    "start_time": "2021-11-28T02:53:45.112Z"
   },
   {
    "duration": 399,
    "start_time": "2021-11-28T02:53:50.910Z"
   },
   {
    "duration": 166,
    "start_time": "2021-11-28T02:54:06.498Z"
   },
   {
    "duration": 24,
    "start_time": "2021-11-28T02:54:14.050Z"
   },
   {
    "duration": 50,
    "start_time": "2021-11-28T02:54:18.160Z"
   },
   {
    "duration": 11,
    "start_time": "2021-11-28T02:54:24.324Z"
   },
   {
    "duration": 114,
    "start_time": "2021-11-28T02:54:29.586Z"
   },
   {
    "duration": 21,
    "start_time": "2021-11-28T02:54:34.461Z"
   },
   {
    "duration": 42,
    "start_time": "2021-11-28T02:54:37.484Z"
   },
   {
    "duration": 12,
    "start_time": "2021-11-28T02:54:43.940Z"
   },
   {
    "duration": 27,
    "start_time": "2021-11-28T02:54:49.624Z"
   },
   {
    "duration": 38,
    "start_time": "2021-11-28T02:54:55.844Z"
   },
   {
    "duration": 16,
    "start_time": "2021-11-28T02:55:14.387Z"
   },
   {
    "duration": 18,
    "start_time": "2021-11-28T02:55:34.766Z"
   },
   {
    "duration": 18,
    "start_time": "2021-11-28T02:56:05.704Z"
   },
   {
    "duration": 7,
    "start_time": "2021-11-28T02:59:20.696Z"
   },
   {
    "duration": 7,
    "start_time": "2021-11-28T02:59:37.993Z"
   },
   {
    "duration": 189,
    "start_time": "2021-11-28T02:59:43.955Z"
   },
   {
    "duration": 29,
    "start_time": "2021-11-28T02:59:44.146Z"
   },
   {
    "duration": 71,
    "start_time": "2021-11-28T02:59:44.176Z"
   },
   {
    "duration": 2,
    "start_time": "2021-11-28T02:59:44.249Z"
   },
   {
    "duration": 166,
    "start_time": "2021-11-28T02:59:44.253Z"
   },
   {
    "duration": 21,
    "start_time": "2021-11-28T02:59:44.421Z"
   },
   {
    "duration": 47,
    "start_time": "2021-11-28T02:59:44.443Z"
   },
   {
    "duration": 11,
    "start_time": "2021-11-28T02:59:44.507Z"
   },
   {
    "duration": 116,
    "start_time": "2021-11-28T02:59:44.520Z"
   },
   {
    "duration": 18,
    "start_time": "2021-11-28T02:59:44.638Z"
   },
   {
    "duration": 53,
    "start_time": "2021-11-28T02:59:44.657Z"
   },
   {
    "duration": 12,
    "start_time": "2021-11-28T02:59:44.712Z"
   },
   {
    "duration": 25,
    "start_time": "2021-11-28T02:59:44.726Z"
   },
   {
    "duration": 49,
    "start_time": "2021-11-28T02:59:44.752Z"
   },
   {
    "duration": 7,
    "start_time": "2021-11-28T02:59:47.278Z"
   },
   {
    "duration": 4,
    "start_time": "2021-11-28T03:00:08.205Z"
   },
   {
    "duration": 18,
    "start_time": "2021-11-28T03:00:11.768Z"
   },
   {
    "duration": 21,
    "start_time": "2021-11-28T03:00:17.757Z"
   },
   {
    "duration": 17,
    "start_time": "2021-11-28T03:00:37.906Z"
   },
   {
    "duration": 16,
    "start_time": "2021-11-28T03:01:00.069Z"
   },
   {
    "duration": 17,
    "start_time": "2021-11-28T03:01:35.942Z"
   },
   {
    "duration": 19,
    "start_time": "2021-11-28T03:03:33.550Z"
   },
   {
    "duration": 21,
    "start_time": "2021-11-28T03:04:12.542Z"
   },
   {
    "duration": 17,
    "start_time": "2021-11-28T03:04:16.352Z"
   },
   {
    "duration": 187,
    "start_time": "2021-11-28T03:04:37.993Z"
   },
   {
    "duration": 35,
    "start_time": "2021-11-28T03:04:38.182Z"
   },
   {
    "duration": 52,
    "start_time": "2021-11-28T03:04:38.219Z"
   },
   {
    "duration": 2,
    "start_time": "2021-11-28T03:04:38.273Z"
   },
   {
    "duration": 173,
    "start_time": "2021-11-28T03:04:38.277Z"
   },
   {
    "duration": 22,
    "start_time": "2021-11-28T03:04:38.451Z"
   },
   {
    "duration": 61,
    "start_time": "2021-11-28T03:04:38.475Z"
   },
   {
    "duration": 12,
    "start_time": "2021-11-28T03:04:38.538Z"
   },
   {
    "duration": 116,
    "start_time": "2021-11-28T03:04:38.552Z"
   },
   {
    "duration": 19,
    "start_time": "2021-11-28T03:04:38.670Z"
   },
   {
    "duration": 49,
    "start_time": "2021-11-28T03:04:38.691Z"
   },
   {
    "duration": 10,
    "start_time": "2021-11-28T03:04:38.742Z"
   },
   {
    "duration": 24,
    "start_time": "2021-11-28T03:04:38.754Z"
   },
   {
    "duration": 38,
    "start_time": "2021-11-28T03:04:38.780Z"
   },
   {
    "duration": 6,
    "start_time": "2021-11-28T03:04:38.820Z"
   },
   {
    "duration": 19,
    "start_time": "2021-11-28T03:04:46.888Z"
   },
   {
    "duration": 19,
    "start_time": "2021-11-28T03:04:52.119Z"
   },
   {
    "duration": 369,
    "start_time": "2021-11-28T03:04:57.098Z"
   },
   {
    "duration": 17,
    "start_time": "2021-11-28T03:05:07.413Z"
   },
   {
    "duration": 4,
    "start_time": "2021-11-28T03:05:39.279Z"
   },
   {
    "duration": 18,
    "start_time": "2021-11-28T03:05:42.067Z"
   },
   {
    "duration": 19,
    "start_time": "2021-11-28T03:05:46.754Z"
   },
   {
    "duration": 16,
    "start_time": "2021-11-28T03:06:07.623Z"
   },
   {
    "duration": 18,
    "start_time": "2021-11-28T03:07:03.662Z"
   },
   {
    "duration": 17,
    "start_time": "2021-11-28T03:10:40.427Z"
   },
   {
    "duration": 184,
    "start_time": "2021-11-28T03:16:02.750Z"
   },
   {
    "duration": 27,
    "start_time": "2021-11-28T03:16:02.936Z"
   },
   {
    "duration": 66,
    "start_time": "2021-11-28T03:16:02.965Z"
   },
   {
    "duration": 3,
    "start_time": "2021-11-28T03:16:03.033Z"
   },
   {
    "duration": 179,
    "start_time": "2021-11-28T03:16:03.037Z"
   },
   {
    "duration": 22,
    "start_time": "2021-11-28T03:16:03.218Z"
   },
   {
    "duration": 70,
    "start_time": "2021-11-28T03:16:03.242Z"
   },
   {
    "duration": 12,
    "start_time": "2021-11-28T03:16:03.316Z"
   },
   {
    "duration": 124,
    "start_time": "2021-11-28T03:16:03.330Z"
   },
   {
    "duration": 21,
    "start_time": "2021-11-28T03:16:03.456Z"
   },
   {
    "duration": 56,
    "start_time": "2021-11-28T03:16:03.479Z"
   },
   {
    "duration": 13,
    "start_time": "2021-11-28T03:16:03.538Z"
   },
   {
    "duration": 29,
    "start_time": "2021-11-28T03:16:03.553Z"
   },
   {
    "duration": 59,
    "start_time": "2021-11-28T03:16:03.584Z"
   },
   {
    "duration": 2,
    "start_time": "2021-11-28T03:16:03.645Z"
   },
   {
    "duration": 7,
    "start_time": "2021-11-28T03:16:03.649Z"
   },
   {
    "duration": 20,
    "start_time": "2021-11-28T03:16:11.402Z"
   },
   {
    "duration": 15,
    "start_time": "2021-11-28T03:16:29.057Z"
   },
   {
    "duration": 8,
    "start_time": "2021-11-28T03:17:04.105Z"
   },
   {
    "duration": 4,
    "start_time": "2021-11-28T03:17:07.242Z"
   },
   {
    "duration": 19,
    "start_time": "2021-11-28T03:17:16.448Z"
   },
   {
    "duration": 17,
    "start_time": "2021-11-28T03:18:12.489Z"
   },
   {
    "duration": 367,
    "start_time": "2021-11-28T03:19:09.644Z"
   },
   {
    "duration": 186,
    "start_time": "2021-11-28T03:19:25.066Z"
   },
   {
    "duration": 27,
    "start_time": "2021-11-28T03:19:25.255Z"
   },
   {
    "duration": 70,
    "start_time": "2021-11-28T03:19:25.285Z"
   },
   {
    "duration": 3,
    "start_time": "2021-11-28T03:19:25.357Z"
   },
   {
    "duration": 165,
    "start_time": "2021-11-28T03:19:25.362Z"
   },
   {
    "duration": 24,
    "start_time": "2021-11-28T03:19:25.529Z"
   },
   {
    "duration": 64,
    "start_time": "2021-11-28T03:19:25.555Z"
   },
   {
    "duration": 13,
    "start_time": "2021-11-28T03:19:25.621Z"
   },
   {
    "duration": 126,
    "start_time": "2021-11-28T03:19:25.636Z"
   },
   {
    "duration": 18,
    "start_time": "2021-11-28T03:19:25.764Z"
   },
   {
    "duration": 49,
    "start_time": "2021-11-28T03:19:25.784Z"
   },
   {
    "duration": 10,
    "start_time": "2021-11-28T03:19:25.835Z"
   },
   {
    "duration": 33,
    "start_time": "2021-11-28T03:19:25.846Z"
   },
   {
    "duration": 39,
    "start_time": "2021-11-28T03:19:25.880Z"
   },
   {
    "duration": 6,
    "start_time": "2021-11-28T03:19:25.921Z"
   },
   {
    "duration": 8,
    "start_time": "2021-11-28T03:19:25.928Z"
   },
   {
    "duration": 343,
    "start_time": "2021-11-28T03:19:30.890Z"
   },
   {
    "duration": 11,
    "start_time": "2021-11-28T03:19:43.986Z"
   },
   {
    "duration": 20,
    "start_time": "2021-11-28T03:19:50.720Z"
   },
   {
    "duration": 20,
    "start_time": "2021-11-28T03:19:55.358Z"
   },
   {
    "duration": 15,
    "start_time": "2021-11-28T03:20:01.006Z"
   },
   {
    "duration": 183,
    "start_time": "2021-11-28T03:20:11.918Z"
   },
   {
    "duration": 28,
    "start_time": "2021-11-28T03:20:12.102Z"
   },
   {
    "duration": 52,
    "start_time": "2021-11-28T03:20:12.132Z"
   },
   {
    "duration": 21,
    "start_time": "2021-11-28T03:20:12.185Z"
   },
   {
    "duration": 163,
    "start_time": "2021-11-28T03:20:12.208Z"
   },
   {
    "duration": 24,
    "start_time": "2021-11-28T03:20:12.372Z"
   },
   {
    "duration": 49,
    "start_time": "2021-11-28T03:20:12.397Z"
   },
   {
    "duration": 12,
    "start_time": "2021-11-28T03:20:12.448Z"
   },
   {
    "duration": 131,
    "start_time": "2021-11-28T03:20:12.462Z"
   },
   {
    "duration": 27,
    "start_time": "2021-11-28T03:20:12.595Z"
   },
   {
    "duration": 37,
    "start_time": "2021-11-28T03:20:12.624Z"
   },
   {
    "duration": 11,
    "start_time": "2021-11-28T03:20:12.663Z"
   },
   {
    "duration": 40,
    "start_time": "2021-11-28T03:20:12.675Z"
   },
   {
    "duration": 41,
    "start_time": "2021-11-28T03:20:12.717Z"
   },
   {
    "duration": 6,
    "start_time": "2021-11-28T03:20:12.760Z"
   },
   {
    "duration": 5,
    "start_time": "2021-11-28T03:20:12.769Z"
   },
   {
    "duration": 13,
    "start_time": "2021-11-28T03:20:12.775Z"
   },
   {
    "duration": 33,
    "start_time": "2021-11-28T03:20:12.789Z"
   },
   {
    "duration": 20,
    "start_time": "2021-11-28T03:20:12.823Z"
   },
   {
    "duration": 17,
    "start_time": "2021-11-28T03:20:19.327Z"
   },
   {
    "duration": 16,
    "start_time": "2021-11-28T03:20:39.916Z"
   },
   {
    "duration": 6,
    "start_time": "2021-11-28T03:46:01.294Z"
   },
   {
    "duration": 24,
    "start_time": "2021-11-28T03:46:04.267Z"
   },
   {
    "duration": 182,
    "start_time": "2021-11-28T03:46:31.258Z"
   },
   {
    "duration": 27,
    "start_time": "2021-11-28T03:46:31.442Z"
   },
   {
    "duration": 68,
    "start_time": "2021-11-28T03:46:31.471Z"
   },
   {
    "duration": 2,
    "start_time": "2021-11-28T03:46:31.541Z"
   },
   {
    "duration": 165,
    "start_time": "2021-11-28T03:46:31.545Z"
   },
   {
    "duration": 21,
    "start_time": "2021-11-28T03:46:31.712Z"
   },
   {
    "duration": 47,
    "start_time": "2021-11-28T03:46:31.734Z"
   },
   {
    "duration": 30,
    "start_time": "2021-11-28T03:46:31.783Z"
   },
   {
    "duration": 111,
    "start_time": "2021-11-28T03:46:31.815Z"
   },
   {
    "duration": 20,
    "start_time": "2021-11-28T03:46:31.927Z"
   },
   {
    "duration": 38,
    "start_time": "2021-11-28T03:46:31.948Z"
   },
   {
    "duration": 29,
    "start_time": "2021-11-28T03:46:31.988Z"
   },
   {
    "duration": 28,
    "start_time": "2021-11-28T03:46:32.018Z"
   },
   {
    "duration": 39,
    "start_time": "2021-11-28T03:46:32.047Z"
   },
   {
    "duration": 6,
    "start_time": "2021-11-28T03:46:32.088Z"
   },
   {
    "duration": 19,
    "start_time": "2021-11-28T03:46:32.095Z"
   },
   {
    "duration": 18,
    "start_time": "2021-11-28T03:46:32.116Z"
   },
   {
    "duration": 21,
    "start_time": "2021-11-28T03:46:32.135Z"
   },
   {
    "duration": 18,
    "start_time": "2021-11-28T03:46:32.158Z"
   },
   {
    "duration": 15,
    "start_time": "2021-11-28T03:46:32.178Z"
   },
   {
    "duration": 815,
    "start_time": "2021-11-28T13:02:35.784Z"
   },
   {
    "duration": 33,
    "start_time": "2021-11-28T13:02:36.602Z"
   },
   {
    "duration": 80,
    "start_time": "2021-11-28T13:02:36.638Z"
   },
   {
    "duration": 3,
    "start_time": "2021-11-28T13:02:36.721Z"
   },
   {
    "duration": 168,
    "start_time": "2021-11-28T13:02:36.727Z"
   },
   {
    "duration": 24,
    "start_time": "2021-11-28T13:02:36.897Z"
   },
   {
    "duration": 75,
    "start_time": "2021-11-28T13:02:36.923Z"
   },
   {
    "duration": 14,
    "start_time": "2021-11-28T13:02:37.001Z"
   },
   {
    "duration": 124,
    "start_time": "2021-11-28T13:02:37.019Z"
   },
   {
    "duration": 31,
    "start_time": "2021-11-28T13:02:37.145Z"
   },
   {
    "duration": 44,
    "start_time": "2021-11-28T13:02:37.177Z"
   },
   {
    "duration": 42,
    "start_time": "2021-11-28T13:02:37.223Z"
   },
   {
    "duration": 37,
    "start_time": "2021-11-28T13:02:37.268Z"
   },
   {
    "duration": 58,
    "start_time": "2021-11-28T13:02:37.307Z"
   },
   {
    "duration": 11,
    "start_time": "2021-11-28T13:02:37.368Z"
   },
   {
    "duration": 9,
    "start_time": "2021-11-28T13:02:37.381Z"
   },
   {
    "duration": 14,
    "start_time": "2021-11-28T13:02:51.180Z"
   },
   {
    "duration": 320,
    "start_time": "2021-11-28T13:03:05.247Z"
   },
   {
    "duration": 200,
    "start_time": "2021-11-28T13:03:25.223Z"
   },
   {
    "duration": 44,
    "start_time": "2021-11-28T13:03:25.425Z"
   },
   {
    "duration": 58,
    "start_time": "2021-11-28T13:03:25.471Z"
   },
   {
    "duration": 2,
    "start_time": "2021-11-28T13:03:25.531Z"
   },
   {
    "duration": 167,
    "start_time": "2021-11-28T13:03:25.535Z"
   },
   {
    "duration": 25,
    "start_time": "2021-11-28T13:03:25.704Z"
   },
   {
    "duration": 68,
    "start_time": "2021-11-28T13:03:25.731Z"
   },
   {
    "duration": 13,
    "start_time": "2021-11-28T13:03:25.803Z"
   },
   {
    "duration": 131,
    "start_time": "2021-11-28T13:03:25.818Z"
   },
   {
    "duration": 30,
    "start_time": "2021-11-28T13:03:25.951Z"
   },
   {
    "duration": 41,
    "start_time": "2021-11-28T13:03:25.983Z"
   },
   {
    "duration": 14,
    "start_time": "2021-11-28T13:03:26.025Z"
   },
   {
    "duration": 35,
    "start_time": "2021-11-28T13:03:26.064Z"
   },
   {
    "duration": 48,
    "start_time": "2021-11-28T13:03:26.102Z"
   },
   {
    "duration": 8,
    "start_time": "2021-11-28T13:03:26.152Z"
   },
   {
    "duration": 8,
    "start_time": "2021-11-28T13:03:26.162Z"
   },
   {
    "duration": 20,
    "start_time": "2021-11-28T13:03:32.117Z"
   },
   {
    "duration": 276,
    "start_time": "2021-11-28T13:09:19.071Z"
   },
   {
    "duration": 56,
    "start_time": "2021-11-28T13:09:19.350Z"
   },
   {
    "duration": 76,
    "start_time": "2021-11-28T13:09:19.408Z"
   },
   {
    "duration": 2,
    "start_time": "2021-11-28T13:09:19.487Z"
   },
   {
    "duration": 171,
    "start_time": "2021-11-28T13:09:19.492Z"
   },
   {
    "duration": 26,
    "start_time": "2021-11-28T13:09:19.665Z"
   },
   {
    "duration": 69,
    "start_time": "2021-11-28T13:09:19.694Z"
   },
   {
    "duration": 14,
    "start_time": "2021-11-28T13:09:19.767Z"
   },
   {
    "duration": 125,
    "start_time": "2021-11-28T13:09:19.784Z"
   },
   {
    "duration": 24,
    "start_time": "2021-11-28T13:09:19.912Z"
   },
   {
    "duration": 62,
    "start_time": "2021-11-28T13:09:19.938Z"
   },
   {
    "duration": 14,
    "start_time": "2021-11-28T13:09:20.002Z"
   },
   {
    "duration": 54,
    "start_time": "2021-11-28T13:09:20.018Z"
   },
   {
    "duration": 43,
    "start_time": "2021-11-28T13:09:20.073Z"
   },
   {
    "duration": 8,
    "start_time": "2021-11-28T13:09:20.118Z"
   },
   {
    "duration": 11,
    "start_time": "2021-11-28T13:09:20.128Z"
   },
   {
    "duration": 23,
    "start_time": "2021-11-28T13:09:20.141Z"
   },
   {
    "duration": 40,
    "start_time": "2021-11-28T13:09:20.166Z"
   },
   {
    "duration": 24,
    "start_time": "2021-11-28T13:09:20.208Z"
   },
   {
    "duration": 20,
    "start_time": "2021-11-28T13:09:23.181Z"
   },
   {
    "duration": 19,
    "start_time": "2021-11-28T13:09:41.952Z"
   },
   {
    "duration": 19,
    "start_time": "2021-11-28T13:09:47.791Z"
   },
   {
    "duration": 19,
    "start_time": "2021-11-28T13:10:02.169Z"
   },
   {
    "duration": 26,
    "start_time": "2021-11-28T13:10:48.280Z"
   },
   {
    "duration": 16,
    "start_time": "2021-11-28T13:10:59.261Z"
   },
   {
    "duration": 201,
    "start_time": "2021-11-28T13:11:30.791Z"
   },
   {
    "duration": 35,
    "start_time": "2021-11-28T13:11:30.994Z"
   },
   {
    "duration": 83,
    "start_time": "2021-11-28T13:11:31.031Z"
   },
   {
    "duration": 3,
    "start_time": "2021-11-28T13:11:31.117Z"
   },
   {
    "duration": 265,
    "start_time": "2021-11-28T13:11:31.122Z"
   },
   {
    "duration": 27,
    "start_time": "2021-11-28T13:11:31.389Z"
   },
   {
    "duration": 75,
    "start_time": "2021-11-28T13:11:31.418Z"
   },
   {
    "duration": 16,
    "start_time": "2021-11-28T13:11:31.496Z"
   },
   {
    "duration": 143,
    "start_time": "2021-11-28T13:11:31.514Z"
   },
   {
    "duration": 25,
    "start_time": "2021-11-28T13:11:31.660Z"
   },
   {
    "duration": 46,
    "start_time": "2021-11-28T13:11:31.687Z"
   },
   {
    "duration": 41,
    "start_time": "2021-11-28T13:11:31.735Z"
   },
   {
    "duration": 28,
    "start_time": "2021-11-28T13:11:31.778Z"
   },
   {
    "duration": 48,
    "start_time": "2021-11-28T13:11:31.808Z"
   },
   {
    "duration": 10,
    "start_time": "2021-11-28T13:11:31.863Z"
   },
   {
    "duration": 53,
    "start_time": "2021-11-28T13:11:31.875Z"
   },
   {
    "duration": 12,
    "start_time": "2021-11-28T13:11:35.046Z"
   },
   {
    "duration": 21,
    "start_time": "2021-11-28T13:11:42.257Z"
   },
   {
    "duration": 33,
    "start_time": "2021-11-28T13:11:46.840Z"
   },
   {
    "duration": 17,
    "start_time": "2021-11-28T13:11:51.448Z"
   },
   {
    "duration": 280,
    "start_time": "2021-11-28T13:12:13.359Z"
   },
   {
    "duration": 252,
    "start_time": "2021-11-28T13:12:23.765Z"
   },
   {
    "duration": 25,
    "start_time": "2021-11-28T13:12:38.160Z"
   },
   {
    "duration": 246,
    "start_time": "2021-11-28T13:17:50.263Z"
   },
   {
    "duration": 278,
    "start_time": "2021-11-28T13:18:20.745Z"
   },
   {
    "duration": 38,
    "start_time": "2021-11-28T13:18:21.025Z"
   },
   {
    "duration": 60,
    "start_time": "2021-11-28T13:18:21.065Z"
   },
   {
    "duration": 2,
    "start_time": "2021-11-28T13:18:21.130Z"
   },
   {
    "duration": 194,
    "start_time": "2021-11-28T13:18:21.134Z"
   },
   {
    "duration": 24,
    "start_time": "2021-11-28T13:18:21.330Z"
   },
   {
    "duration": 58,
    "start_time": "2021-11-28T13:18:21.356Z"
   },
   {
    "duration": 14,
    "start_time": "2021-11-28T13:18:21.416Z"
   },
   {
    "duration": 144,
    "start_time": "2021-11-28T13:18:21.432Z"
   },
   {
    "duration": 21,
    "start_time": "2021-11-28T13:18:21.578Z"
   },
   {
    "duration": 59,
    "start_time": "2021-11-28T13:18:21.600Z"
   },
   {
    "duration": 11,
    "start_time": "2021-11-28T13:18:21.661Z"
   },
   {
    "duration": 48,
    "start_time": "2021-11-28T13:18:21.674Z"
   },
   {
    "duration": 81,
    "start_time": "2021-11-28T13:18:21.725Z"
   },
   {
    "duration": 25,
    "start_time": "2021-11-28T13:18:21.815Z"
   },
   {
    "duration": 48,
    "start_time": "2021-11-28T13:18:21.842Z"
   },
   {
    "duration": 53,
    "start_time": "2021-11-28T13:18:21.892Z"
   },
   {
    "duration": 53,
    "start_time": "2021-11-28T13:18:21.948Z"
   },
   {
    "duration": 21,
    "start_time": "2021-11-28T13:18:25.762Z"
   },
   {
    "duration": 17,
    "start_time": "2021-11-28T13:18:34.080Z"
   },
   {
    "duration": 52,
    "start_time": "2021-11-28T13:21:29.269Z"
   },
   {
    "duration": 56,
    "start_time": "2021-11-28T13:21:31.630Z"
   },
   {
    "duration": 62,
    "start_time": "2021-11-28T13:21:46.649Z"
   },
   {
    "duration": 191,
    "start_time": "2021-11-28T13:21:59.300Z"
   },
   {
    "duration": 32,
    "start_time": "2021-11-28T13:21:59.493Z"
   },
   {
    "duration": 58,
    "start_time": "2021-11-28T13:22:10.581Z"
   },
   {
    "duration": 50,
    "start_time": "2021-11-28T13:22:26.392Z"
   },
   {
    "duration": 245,
    "start_time": "2021-11-28T13:22:43.959Z"
   },
   {
    "duration": 11,
    "start_time": "2021-11-28T13:23:09.356Z"
   },
   {
    "duration": 59,
    "start_time": "2021-11-28T13:23:24.661Z"
   },
   {
    "duration": 198,
    "start_time": "2021-11-28T13:23:29.546Z"
   },
   {
    "duration": 41,
    "start_time": "2021-11-28T13:23:29.747Z"
   },
   {
    "duration": 53,
    "start_time": "2021-11-28T13:23:29.791Z"
   },
   {
    "duration": 19,
    "start_time": "2021-11-28T13:23:29.847Z"
   },
   {
    "duration": 168,
    "start_time": "2021-11-28T13:23:29.868Z"
   },
   {
    "duration": 34,
    "start_time": "2021-11-28T13:23:30.038Z"
   },
   {
    "duration": 51,
    "start_time": "2021-11-28T13:23:35.495Z"
   },
   {
    "duration": 16,
    "start_time": "2021-11-28T13:23:43.546Z"
   },
   {
    "duration": 119,
    "start_time": "2021-11-28T13:23:52.824Z"
   },
   {
    "duration": 34,
    "start_time": "2021-11-28T13:23:55.883Z"
   },
   {
    "duration": 40,
    "start_time": "2021-11-28T13:24:15.859Z"
   },
   {
    "duration": 5215,
    "start_time": "2021-11-28T13:24:25.664Z"
   },
   {
    "duration": 42,
    "start_time": "2021-11-28T13:24:39.258Z"
   },
   {
    "duration": 27,
    "start_time": "2021-11-28T13:24:59.044Z"
   },
   {
    "duration": 43,
    "start_time": "2021-11-28T13:25:13.106Z"
   },
   {
    "duration": 11,
    "start_time": "2021-11-28T13:25:18.904Z"
   },
   {
    "duration": 5,
    "start_time": "2021-11-28T13:25:25.852Z"
   },
   {
    "duration": 15,
    "start_time": "2021-11-28T13:25:30.607Z"
   },
   {
    "duration": 243,
    "start_time": "2021-11-28T13:25:39.365Z"
   },
   {
    "duration": 968,
    "start_time": "2021-11-28T13:26:03.012Z"
   },
   {
    "duration": 267,
    "start_time": "2021-11-28T13:29:04.540Z"
   },
   {
    "duration": 30,
    "start_time": "2021-11-28T13:29:13.066Z"
   },
   {
    "duration": 254,
    "start_time": "2021-11-28T13:29:26.776Z"
   },
   {
    "duration": 17,
    "start_time": "2021-11-28T13:30:00.015Z"
   },
   {
    "duration": 14,
    "start_time": "2021-11-28T13:30:08.914Z"
   },
   {
    "duration": 168,
    "start_time": "2021-11-28T13:30:36.641Z"
   },
   {
    "duration": 25,
    "start_time": "2021-11-28T13:30:41.924Z"
   },
   {
    "duration": 68,
    "start_time": "2021-11-28T13:31:49.441Z"
   },
   {
    "duration": 21,
    "start_time": "2021-11-28T13:31:57.872Z"
   },
   {
    "duration": 159,
    "start_time": "2021-11-28T13:32:13.004Z"
   },
   {
    "duration": 21,
    "start_time": "2021-11-28T13:32:18.881Z"
   },
   {
    "duration": 307,
    "start_time": "2021-11-28T13:33:22.258Z"
   },
   {
    "duration": 5,
    "start_time": "2021-11-28T13:33:36.148Z"
   },
   {
    "duration": 13,
    "start_time": "2021-11-28T13:33:49.346Z"
   },
   {
    "duration": 12,
    "start_time": "2021-11-28T13:34:08.215Z"
   },
   {
    "duration": 5916,
    "start_time": "2021-11-28T13:34:49.138Z"
   },
   {
    "duration": 239,
    "start_time": "2021-11-28T13:34:55.423Z"
   },
   {
    "duration": 388,
    "start_time": "2021-11-28T13:36:03.086Z"
   },
   {
    "duration": 269,
    "start_time": "2021-11-28T13:36:20.694Z"
   },
   {
    "duration": 31,
    "start_time": "2021-11-28T13:36:20.965Z"
   },
   {
    "duration": 71,
    "start_time": "2021-11-28T13:36:20.998Z"
   },
   {
    "duration": 19,
    "start_time": "2021-11-28T13:36:21.072Z"
   },
   {
    "duration": 189,
    "start_time": "2021-11-28T13:36:21.093Z"
   },
   {
    "duration": 24,
    "start_time": "2021-11-28T13:36:21.284Z"
   },
   {
    "duration": 55,
    "start_time": "2021-11-28T13:36:21.310Z"
   },
   {
    "duration": 15,
    "start_time": "2021-11-28T13:36:21.368Z"
   },
   {
    "duration": 163,
    "start_time": "2021-11-28T13:36:21.386Z"
   },
   {
    "duration": 30,
    "start_time": "2021-11-28T13:36:21.552Z"
   },
   {
    "duration": 55,
    "start_time": "2021-11-28T13:36:21.584Z"
   },
   {
    "duration": 5,
    "start_time": "2021-11-28T13:36:21.641Z"
   },
   {
    "duration": 26,
    "start_time": "2021-11-28T13:36:21.647Z"
   },
   {
    "duration": 35,
    "start_time": "2021-11-28T13:36:21.676Z"
   },
   {
    "duration": 45,
    "start_time": "2021-11-28T13:36:21.713Z"
   },
   {
    "duration": 12,
    "start_time": "2021-11-28T13:36:21.760Z"
   },
   {
    "duration": 7,
    "start_time": "2021-11-28T13:36:21.775Z"
   },
   {
    "duration": 9,
    "start_time": "2021-11-28T13:36:21.785Z"
   },
   {
    "duration": 255,
    "start_time": "2021-11-28T13:36:27.758Z"
   },
   {
    "duration": 260,
    "start_time": "2021-11-28T13:36:43.724Z"
   },
   {
    "duration": 5,
    "start_time": "2021-11-28T13:36:58.911Z"
   },
   {
    "duration": 14,
    "start_time": "2021-11-28T13:37:01.789Z"
   },
   {
    "duration": 17,
    "start_time": "2021-11-28T13:37:24.632Z"
   },
   {
    "duration": 184,
    "start_time": "2021-11-28T13:37:36.015Z"
   },
   {
    "duration": 28,
    "start_time": "2021-11-28T13:37:36.201Z"
   },
   {
    "duration": 64,
    "start_time": "2021-11-28T13:37:36.231Z"
   },
   {
    "duration": 14,
    "start_time": "2021-11-28T13:37:36.297Z"
   },
   {
    "duration": 169,
    "start_time": "2021-11-28T13:37:36.313Z"
   },
   {
    "duration": 24,
    "start_time": "2021-11-28T13:37:36.484Z"
   },
   {
    "duration": 65,
    "start_time": "2021-11-28T13:37:36.510Z"
   },
   {
    "duration": 14,
    "start_time": "2021-11-28T13:37:36.577Z"
   },
   {
    "duration": 112,
    "start_time": "2021-11-28T13:37:36.593Z"
   },
   {
    "duration": 20,
    "start_time": "2021-11-28T13:37:36.707Z"
   },
   {
    "duration": 55,
    "start_time": "2021-11-28T13:37:36.728Z"
   },
   {
    "duration": 47,
    "start_time": "2021-11-28T13:37:51.182Z"
   },
   {
    "duration": 33,
    "start_time": "2021-11-28T13:38:08.505Z"
   },
   {
    "duration": 43,
    "start_time": "2021-11-28T13:38:22.479Z"
   },
   {
    "duration": 18,
    "start_time": "2021-11-28T13:38:48.272Z"
   },
   {
    "duration": 34,
    "start_time": "2021-11-28T13:40:10.324Z"
   },
   {
    "duration": 34,
    "start_time": "2021-11-28T13:41:06.403Z"
   },
   {
    "duration": 158,
    "start_time": "2021-11-28T13:41:27.311Z"
   },
   {
    "duration": 26,
    "start_time": "2021-11-28T13:41:32.480Z"
   },
   {
    "duration": 28,
    "start_time": "2021-11-28T13:42:07.414Z"
   },
   {
    "duration": 56,
    "start_time": "2021-11-28T13:42:19.424Z"
   },
   {
    "duration": 31,
    "start_time": "2021-11-28T13:42:33.113Z"
   },
   {
    "duration": 27,
    "start_time": "2021-11-28T13:42:41.657Z"
   },
   {
    "duration": 14,
    "start_time": "2021-11-28T13:42:54.287Z"
   },
   {
    "duration": 109,
    "start_time": "2021-11-28T13:43:01.413Z"
   },
   {
    "duration": 22,
    "start_time": "2021-11-28T13:43:07.006Z"
   },
   {
    "duration": 21,
    "start_time": "2021-11-28T13:43:33.523Z"
   },
   {
    "duration": 46,
    "start_time": "2021-11-28T13:43:57.973Z"
   },
   {
    "duration": 38,
    "start_time": "2021-11-28T13:44:18.298Z"
   },
   {
    "duration": 41,
    "start_time": "2021-11-28T13:44:29.476Z"
   },
   {
    "duration": 35,
    "start_time": "2021-11-28T13:44:53.383Z"
   },
   {
    "duration": 358,
    "start_time": "2021-11-28T13:45:01.868Z"
   },
   {
    "duration": 28,
    "start_time": "2021-11-28T13:45:11.095Z"
   },
   {
    "duration": 27,
    "start_time": "2021-11-28T13:45:16.303Z"
   },
   {
    "duration": 40,
    "start_time": "2021-11-28T13:45:21.442Z"
   },
   {
    "duration": 8,
    "start_time": "2021-11-28T13:45:25.940Z"
   },
   {
    "duration": 5,
    "start_time": "2021-11-28T13:45:35.862Z"
   },
   {
    "duration": 12,
    "start_time": "2021-11-28T13:45:45.402Z"
   },
   {
    "duration": 13,
    "start_time": "2021-11-28T13:45:57.778Z"
   },
   {
    "duration": 23,
    "start_time": "2021-11-28T13:46:12.843Z"
   },
   {
    "duration": 22,
    "start_time": "2021-11-28T13:46:27.105Z"
   },
   {
    "duration": 18,
    "start_time": "2021-11-28T13:46:33.847Z"
   },
   {
    "duration": 19,
    "start_time": "2021-11-28T13:47:00.632Z"
   },
   {
    "duration": 21,
    "start_time": "2021-11-28T13:47:10.190Z"
   },
   {
    "duration": 19,
    "start_time": "2021-11-28T13:47:49.095Z"
   },
   {
    "duration": 20,
    "start_time": "2021-11-28T13:48:00.957Z"
   },
   {
    "duration": 17,
    "start_time": "2021-11-28T13:48:28.198Z"
   },
   {
    "duration": 19,
    "start_time": "2021-11-28T13:49:42.701Z"
   },
   {
    "duration": 16,
    "start_time": "2021-11-28T13:50:27.791Z"
   },
   {
    "duration": 20,
    "start_time": "2021-11-28T13:50:34.936Z"
   },
   {
    "duration": 28,
    "start_time": "2021-11-28T13:52:11.484Z"
   },
   {
    "duration": 31,
    "start_time": "2021-11-28T13:52:22.764Z"
   },
   {
    "duration": 20,
    "start_time": "2021-11-28T13:52:41.888Z"
   },
   {
    "duration": 59,
    "start_time": "2021-11-28T13:53:17.230Z"
   },
   {
    "duration": 41,
    "start_time": "2021-11-28T13:53:28.527Z"
   },
   {
    "duration": 18,
    "start_time": "2021-11-28T13:54:25.766Z"
   },
   {
    "duration": 22,
    "start_time": "2021-11-28T13:59:14.603Z"
   },
   {
    "duration": 20,
    "start_time": "2021-11-28T13:59:51.780Z"
   },
   {
    "duration": 25,
    "start_time": "2021-11-28T14:14:26.034Z"
   },
   {
    "duration": 18,
    "start_time": "2021-11-28T14:15:08.043Z"
   },
   {
    "duration": 9,
    "start_time": "2021-11-28T14:15:29.790Z"
   },
   {
    "duration": 17,
    "start_time": "2021-11-28T14:18:21.733Z"
   },
   {
    "duration": 7,
    "start_time": "2021-11-28T14:18:57.392Z"
   },
   {
    "duration": 38,
    "start_time": "2021-11-28T14:23:49.873Z"
   },
   {
    "duration": 35,
    "start_time": "2021-11-28T14:24:05.495Z"
   },
   {
    "duration": 253,
    "start_time": "2021-11-28T14:24:31.879Z"
   },
   {
    "duration": 58,
    "start_time": "2021-11-28T14:24:43.786Z"
   },
   {
    "duration": 47,
    "start_time": "2021-11-28T14:24:56.119Z"
   },
   {
    "duration": 46,
    "start_time": "2021-11-28T14:25:54.552Z"
   },
   {
    "duration": 170,
    "start_time": "2021-11-28T14:26:37.690Z"
   },
   {
    "duration": 28,
    "start_time": "2021-11-28T14:26:42.617Z"
   },
   {
    "duration": 44,
    "start_time": "2021-11-28T14:26:49.528Z"
   },
   {
    "duration": 151,
    "start_time": "2021-11-28T14:26:54.254Z"
   },
   {
    "duration": 25,
    "start_time": "2021-11-28T14:27:00.434Z"
   },
   {
    "duration": 53,
    "start_time": "2021-11-28T14:27:05.244Z"
   },
   {
    "duration": 48,
    "start_time": "2021-11-28T14:27:22.124Z"
   },
   {
    "duration": 19,
    "start_time": "2021-11-28T14:27:36.455Z"
   },
   {
    "duration": 47,
    "start_time": "2021-11-28T14:27:48.491Z"
   },
   {
    "duration": 15,
    "start_time": "2021-11-28T14:27:56.736Z"
   },
   {
    "duration": 148,
    "start_time": "2021-11-28T14:28:03.693Z"
   },
   {
    "duration": 30,
    "start_time": "2021-11-28T14:28:08.996Z"
   },
   {
    "duration": 37,
    "start_time": "2021-11-28T14:32:42.386Z"
   },
   {
    "duration": 4994,
    "start_time": "2021-11-28T14:33:01.579Z"
   },
   {
    "duration": 39,
    "start_time": "2021-11-28T14:33:17.961Z"
   },
   {
    "duration": 1011,
    "start_time": "2021-11-28T14:34:42.855Z"
   },
   {
    "duration": 21,
    "start_time": "2021-11-28T14:36:52.181Z"
   },
   {
    "duration": 47,
    "start_time": "2021-11-28T14:37:12.019Z"
   },
   {
    "duration": 160,
    "start_time": "2021-11-28T14:37:39.187Z"
   },
   {
    "duration": 26,
    "start_time": "2021-11-28T14:37:50.271Z"
   },
   {
    "duration": 24,
    "start_time": "2021-11-28T14:38:20.563Z"
   },
   {
    "duration": 47,
    "start_time": "2021-11-28T14:38:35.455Z"
   },
   {
    "duration": 18,
    "start_time": "2021-11-28T14:38:43.099Z"
   },
   {
    "duration": 110,
    "start_time": "2021-11-28T14:38:49.915Z"
   },
   {
    "duration": 21,
    "start_time": "2021-11-28T14:38:54.358Z"
   },
   {
    "duration": 17,
    "start_time": "2021-11-28T14:39:36.931Z"
   },
   {
    "duration": 37,
    "start_time": "2021-11-28T14:39:52.942Z"
   },
   {
    "duration": 37,
    "start_time": "2021-11-28T14:40:18.217Z"
   },
   {
    "duration": 39,
    "start_time": "2021-11-28T14:41:13.586Z"
   },
   {
    "duration": 28,
    "start_time": "2021-11-28T14:41:30.498Z"
   },
   {
    "duration": 41,
    "start_time": "2021-11-28T14:41:39.092Z"
   },
   {
    "duration": 7,
    "start_time": "2021-11-28T14:41:45.016Z"
   },
   {
    "duration": 14,
    "start_time": "2021-11-28T14:41:47.747Z"
   },
   {
    "duration": 2,
    "start_time": "2021-11-28T14:41:59.140Z"
   },
   {
    "duration": 660,
    "start_time": "2021-11-28T14:42:30.114Z"
   },
   {
    "duration": 6741,
    "start_time": "2021-11-28T14:43:51.200Z"
   },
   {
    "duration": 6,
    "start_time": "2021-11-28T14:44:34.268Z"
   },
   {
    "duration": 44,
    "start_time": "2021-11-28T14:44:48.694Z"
   },
   {
    "duration": 6551,
    "start_time": "2021-11-28T14:45:55.782Z"
   },
   {
    "duration": 45,
    "start_time": "2021-11-28T14:47:56.134Z"
   },
   {
    "duration": 19,
    "start_time": "2021-11-28T14:48:23.183Z"
   },
   {
    "duration": 17,
    "start_time": "2021-11-28T14:48:26.590Z"
   },
   {
    "duration": 16,
    "start_time": "2021-11-28T14:49:00.985Z"
   },
   {
    "duration": 22,
    "start_time": "2021-11-28T14:49:19.347Z"
   },
   {
    "duration": 29,
    "start_time": "2021-11-28T14:49:44.861Z"
   },
   {
    "duration": 59,
    "start_time": "2021-11-28T14:50:19.930Z"
   },
   {
    "duration": 69,
    "start_time": "2021-11-28T14:50:40.678Z"
   },
   {
    "duration": 58,
    "start_time": "2021-11-28T14:50:53.354Z"
   },
   {
    "duration": 25,
    "start_time": "2021-11-28T14:51:08.567Z"
   },
   {
    "duration": 39,
    "start_time": "2021-11-28T14:52:45.420Z"
   },
   {
    "duration": 39,
    "start_time": "2021-11-28T14:52:59.426Z"
   },
   {
    "duration": 2082,
    "start_time": "2021-11-28T14:53:16.786Z"
   },
   {
    "duration": 2095,
    "start_time": "2021-11-28T14:53:45.256Z"
   },
   {
    "duration": 22,
    "start_time": "2021-11-28T14:53:55.320Z"
   },
   {
    "duration": 51,
    "start_time": "2021-11-28T14:54:37.716Z"
   },
   {
    "duration": 56,
    "start_time": "2021-11-28T14:54:48.581Z"
   },
   {
    "duration": 5,
    "start_time": "2021-11-28T14:55:20.083Z"
   },
   {
    "duration": 6167,
    "start_time": "2021-11-28T14:55:52.283Z"
   },
   {
    "duration": 97,
    "start_time": "2021-11-28T14:55:58.356Z"
   },
   {
    "duration": 173,
    "start_time": "2021-11-28T14:56:23.874Z"
   },
   {
    "duration": 40,
    "start_time": "2021-11-28T14:56:24.049Z"
   },
   {
    "duration": 19,
    "start_time": "2021-11-28T14:56:24.091Z"
   },
   {
    "duration": 18,
    "start_time": "2021-11-28T14:56:24.112Z"
   },
   {
    "duration": 77,
    "start_time": "2021-11-28T14:56:24.132Z"
   },
   {
    "duration": 7084,
    "start_time": "2021-11-28T14:56:29.435Z"
   },
   {
    "duration": 21,
    "start_time": "2021-11-28T14:57:15.870Z"
   },
   {
    "duration": 272,
    "start_time": "2021-11-28T14:57:47.700Z"
   },
   {
    "duration": 184,
    "start_time": "2021-11-28T14:58:04.696Z"
   },
   {
    "duration": 30,
    "start_time": "2021-11-28T14:58:04.882Z"
   },
   {
    "duration": 19,
    "start_time": "2021-11-28T14:58:04.914Z"
   },
   {
    "duration": 37,
    "start_time": "2021-11-28T14:58:04.935Z"
   },
   {
    "duration": 55,
    "start_time": "2021-11-28T14:58:04.974Z"
   },
   {
    "duration": 181,
    "start_time": "2021-11-28T14:58:05.032Z"
   },
   {
    "duration": 24,
    "start_time": "2021-11-28T14:58:05.215Z"
   },
   {
    "duration": 39,
    "start_time": "2021-11-28T14:58:05.242Z"
   },
   {
    "duration": 236,
    "start_time": "2021-11-28T14:58:10.763Z"
   },
   {
    "duration": 51,
    "start_time": "2021-11-28T15:00:03.623Z"
   },
   {
    "duration": 745,
    "start_time": "2021-11-28T15:00:13.012Z"
   },
   {
    "duration": 113,
    "start_time": "2021-11-28T15:00:25.723Z"
   },
   {
    "duration": 21,
    "start_time": "2021-11-28T15:00:31.592Z"
   },
   {
    "duration": 17,
    "start_time": "2021-11-28T15:00:35.994Z"
   },
   {
    "duration": 5182,
    "start_time": "2021-11-28T15:01:15.705Z"
   },
   {
    "duration": 45,
    "start_time": "2021-11-28T15:01:41.134Z"
   },
   {
    "duration": 41,
    "start_time": "2021-11-28T15:02:31.936Z"
   },
   {
    "duration": 39,
    "start_time": "2021-11-28T15:02:52.300Z"
   },
   {
    "duration": 40,
    "start_time": "2021-11-28T15:03:13.281Z"
   },
   {
    "duration": 7,
    "start_time": "2021-11-28T15:03:20.573Z"
   },
   {
    "duration": 14,
    "start_time": "2021-11-28T15:03:23.766Z"
   },
   {
    "duration": 833,
    "start_time": "2021-11-28T16:13:00.513Z"
   },
   {
    "duration": 37,
    "start_time": "2021-11-28T16:13:01.349Z"
   },
   {
    "duration": 25,
    "start_time": "2021-11-28T16:13:01.388Z"
   },
   {
    "duration": 29,
    "start_time": "2021-11-28T16:13:01.415Z"
   },
   {
    "duration": 79,
    "start_time": "2021-11-28T16:13:01.446Z"
   },
   {
    "duration": 187,
    "start_time": "2021-11-28T16:13:01.527Z"
   },
   {
    "duration": 26,
    "start_time": "2021-11-28T16:13:01.717Z"
   },
   {
    "duration": 89,
    "start_time": "2021-11-28T16:13:01.745Z"
   },
   {
    "duration": 59,
    "start_time": "2021-11-28T16:13:01.836Z"
   },
   {
    "duration": 316,
    "start_time": "2021-11-28T16:13:01.897Z"
   },
   {
    "duration": 1121,
    "start_time": "2021-11-28T16:13:01.095Z"
   },
   {
    "duration": 1114,
    "start_time": "2021-11-28T16:13:01.103Z"
   },
   {
    "duration": 1112,
    "start_time": "2021-11-28T16:13:01.106Z"
   },
   {
    "duration": 1108,
    "start_time": "2021-11-28T16:13:01.111Z"
   },
   {
    "duration": 1106,
    "start_time": "2021-11-28T16:13:01.114Z"
   },
   {
    "duration": 1103,
    "start_time": "2021-11-28T16:13:01.118Z"
   },
   {
    "duration": 1100,
    "start_time": "2021-11-28T16:13:01.122Z"
   },
   {
    "duration": 1096,
    "start_time": "2021-11-28T16:13:01.127Z"
   },
   {
    "duration": 1095,
    "start_time": "2021-11-28T16:13:01.129Z"
   },
   {
    "duration": 1094,
    "start_time": "2021-11-28T16:13:01.131Z"
   },
   {
    "duration": 1093,
    "start_time": "2021-11-28T16:13:01.133Z"
   },
   {
    "duration": 1092,
    "start_time": "2021-11-28T16:13:01.135Z"
   },
   {
    "duration": 1092,
    "start_time": "2021-11-28T16:13:01.136Z"
   },
   {
    "duration": 1091,
    "start_time": "2021-11-28T16:13:01.138Z"
   },
   {
    "duration": 1091,
    "start_time": "2021-11-28T16:13:01.140Z"
   },
   {
    "duration": 1090,
    "start_time": "2021-11-28T16:13:01.142Z"
   },
   {
    "duration": 1090,
    "start_time": "2021-11-28T16:13:01.143Z"
   },
   {
    "duration": 1088,
    "start_time": "2021-11-28T16:13:01.146Z"
   },
   {
    "duration": 1088,
    "start_time": "2021-11-28T16:13:01.147Z"
   },
   {
    "duration": 1087,
    "start_time": "2021-11-28T16:13:01.149Z"
   },
   {
    "duration": 121,
    "start_time": "2021-11-28T16:13:53.836Z"
   },
   {
    "duration": 23,
    "start_time": "2021-11-28T16:14:00.010Z"
   },
   {
    "duration": 20,
    "start_time": "2021-11-28T16:14:03.189Z"
   },
   {
    "duration": 47,
    "start_time": "2021-11-28T16:14:09.049Z"
   },
   {
    "duration": 46,
    "start_time": "2021-11-28T16:14:20.951Z"
   },
   {
    "duration": 46,
    "start_time": "2021-11-28T16:14:32.696Z"
   },
   {
    "duration": 39,
    "start_time": "2021-11-28T16:14:52.918Z"
   },
   {
    "duration": 7,
    "start_time": "2021-11-28T16:14:57.928Z"
   },
   {
    "duration": 13,
    "start_time": "2021-11-28T16:15:04.320Z"
   },
   {
    "duration": 36,
    "start_time": "2021-11-28T16:15:15.875Z"
   },
   {
    "duration": 6148,
    "start_time": "2021-11-28T16:16:55.256Z"
   },
   {
    "duration": 20,
    "start_time": "2021-11-28T16:18:22.258Z"
   },
   {
    "duration": 25,
    "start_time": "2021-11-28T16:19:17.870Z"
   },
   {
    "duration": 272,
    "start_time": "2021-11-28T16:19:24.990Z"
   },
   {
    "duration": 62,
    "start_time": "2021-11-28T16:19:40.273Z"
   },
   {
    "duration": 199,
    "start_time": "2021-11-28T16:19:53.179Z"
   },
   {
    "duration": 46,
    "start_time": "2021-11-28T16:19:53.381Z"
   },
   {
    "duration": 42,
    "start_time": "2021-11-28T16:19:53.430Z"
   },
   {
    "duration": 26,
    "start_time": "2021-11-28T16:19:53.474Z"
   },
   {
    "duration": 105,
    "start_time": "2021-11-28T16:19:53.502Z"
   },
   {
    "duration": 162,
    "start_time": "2021-11-28T16:19:53.609Z"
   },
   {
    "duration": 26,
    "start_time": "2021-11-28T16:19:53.773Z"
   },
   {
    "duration": 28,
    "start_time": "2021-11-28T16:19:53.801Z"
   },
   {
    "duration": 81,
    "start_time": "2021-11-28T16:19:53.831Z"
   },
   {
    "duration": 116,
    "start_time": "2021-11-28T16:19:53.913Z"
   },
   {
    "duration": 32,
    "start_time": "2021-11-28T16:19:54.031Z"
   },
   {
    "duration": 19,
    "start_time": "2021-11-28T16:19:54.065Z"
   },
   {
    "duration": 25,
    "start_time": "2021-11-28T16:19:54.086Z"
   },
   {
    "duration": 55,
    "start_time": "2021-11-28T16:19:59.758Z"
   },
   {
    "duration": 31,
    "start_time": "2021-11-28T16:20:35.434Z"
   },
   {
    "duration": 33,
    "start_time": "2021-11-28T16:20:51.679Z"
   },
   {
    "duration": 39,
    "start_time": "2021-11-28T16:21:30.661Z"
   },
   {
    "duration": 30,
    "start_time": "2021-11-28T16:22:52.900Z"
   },
   {
    "duration": 35,
    "start_time": "2021-11-28T16:23:11.415Z"
   },
   {
    "duration": 33,
    "start_time": "2021-11-28T16:24:26.830Z"
   },
   {
    "duration": 43,
    "start_time": "2021-11-28T16:24:39.092Z"
   },
   {
    "duration": 250,
    "start_time": "2021-11-28T16:25:27.829Z"
   },
   {
    "duration": 19,
    "start_time": "2021-11-28T16:25:42.015Z"
   },
   {
    "duration": 22,
    "start_time": "2021-11-28T16:26:09.475Z"
   },
   {
    "duration": 39,
    "start_time": "2021-11-28T16:26:28.377Z"
   },
   {
    "duration": 8,
    "start_time": "2021-11-28T16:26:36.518Z"
   },
   {
    "duration": 15,
    "start_time": "2021-11-28T16:26:42.414Z"
   },
   {
    "duration": 193,
    "start_time": "2021-11-28T16:27:27.183Z"
   },
   {
    "duration": 50,
    "start_time": "2021-11-28T16:27:27.378Z"
   },
   {
    "duration": 70,
    "start_time": "2021-11-28T16:27:27.431Z"
   },
   {
    "duration": 29,
    "start_time": "2021-11-28T16:27:27.505Z"
   },
   {
    "duration": 44,
    "start_time": "2021-11-28T16:27:27.537Z"
   },
   {
    "duration": 154,
    "start_time": "2021-11-28T16:27:27.583Z"
   },
   {
    "duration": 33,
    "start_time": "2021-11-28T16:27:27.739Z"
   },
   {
    "duration": 25,
    "start_time": "2021-11-28T16:27:27.775Z"
   },
   {
    "duration": 42,
    "start_time": "2021-11-28T16:27:27.802Z"
   },
   {
    "duration": 46,
    "start_time": "2021-11-28T16:27:27.846Z"
   },
   {
    "duration": 108,
    "start_time": "2021-11-28T16:27:27.894Z"
   },
   {
    "duration": 65,
    "start_time": "2021-11-28T16:27:28.004Z"
   },
   {
    "duration": 22,
    "start_time": "2021-11-28T16:27:28.072Z"
   },
   {
    "duration": 48,
    "start_time": "2021-11-28T16:27:28.096Z"
   },
   {
    "duration": 47,
    "start_time": "2021-11-28T16:27:28.146Z"
   },
   {
    "duration": 20,
    "start_time": "2021-11-28T16:27:28.195Z"
   },
   {
    "duration": 47,
    "start_time": "2021-11-28T16:27:28.217Z"
   },
   {
    "duration": 39,
    "start_time": "2021-11-28T16:27:28.267Z"
   },
   {
    "duration": 17,
    "start_time": "2021-11-28T16:27:43.451Z"
   },
   {
    "duration": 7,
    "start_time": "2021-11-28T16:36:38.280Z"
   },
   {
    "duration": 6085,
    "start_time": "2021-11-28T16:37:04.972Z"
   },
   {
    "duration": 14,
    "start_time": "2021-11-28T16:37:16.536Z"
   },
   {
    "duration": 18,
    "start_time": "2021-11-28T16:37:25.754Z"
   },
   {
    "duration": 43,
    "start_time": "2021-11-28T16:38:03.666Z"
   },
   {
    "duration": 46,
    "start_time": "2021-11-28T16:38:21.932Z"
   },
   {
    "duration": 23,
    "start_time": "2021-11-28T16:38:50.219Z"
   },
   {
    "duration": 351,
    "start_time": "2021-11-29T02:04:30.307Z"
   },
   {
    "duration": 965,
    "start_time": "2021-11-29T02:04:34.614Z"
   },
   {
    "duration": 45,
    "start_time": "2021-11-29T02:04:35.583Z"
   },
   {
    "duration": 53,
    "start_time": "2021-11-29T02:04:35.632Z"
   },
   {
    "duration": 19,
    "start_time": "2021-11-29T02:04:50.462Z"
   },
   {
    "duration": 42,
    "start_time": "2021-11-29T02:04:56.935Z"
   },
   {
    "duration": 48,
    "start_time": "2021-11-29T02:07:02.762Z"
   },
   {
    "duration": 210,
    "start_time": "2021-11-29T02:07:19.165Z"
   },
   {
    "duration": 32,
    "start_time": "2021-11-29T02:07:27.573Z"
   },
   {
    "duration": 28,
    "start_time": "2021-11-29T02:07:34.554Z"
   },
   {
    "duration": 34,
    "start_time": "2021-11-29T02:07:45.580Z"
   },
   {
    "duration": 49,
    "start_time": "2021-11-29T02:08:49.084Z"
   },
   {
    "duration": 139,
    "start_time": "2021-11-29T02:09:58.304Z"
   },
   {
    "duration": 29,
    "start_time": "2021-11-29T02:10:04.279Z"
   },
   {
    "duration": 19,
    "start_time": "2021-11-29T02:10:20.037Z"
   },
   {
    "duration": 34,
    "start_time": "2021-11-29T02:10:26.185Z"
   },
   {
    "duration": 34,
    "start_time": "2021-11-29T02:11:32.202Z"
   },
   {
    "duration": 28,
    "start_time": "2021-11-29T02:11:58.010Z"
   },
   {
    "duration": 27,
    "start_time": "2021-11-29T02:12:20.419Z"
   },
   {
    "duration": 41,
    "start_time": "2021-11-29T02:13:00.413Z"
   },
   {
    "duration": 313,
    "start_time": "2021-11-29T02:14:59.698Z"
   },
   {
    "duration": 333,
    "start_time": "2021-11-29T02:15:53.012Z"
   },
   {
    "duration": 282,
    "start_time": "2021-11-29T02:16:04.075Z"
   },
   {
    "duration": 267,
    "start_time": "2021-11-29T02:16:18.176Z"
   },
   {
    "duration": 239,
    "start_time": "2021-11-29T02:16:34.970Z"
   },
   {
    "duration": 56,
    "start_time": "2021-11-29T02:16:35.212Z"
   },
   {
    "duration": 23,
    "start_time": "2021-11-29T02:16:35.271Z"
   },
   {
    "duration": 41,
    "start_time": "2021-11-29T02:16:35.296Z"
   },
   {
    "duration": 75,
    "start_time": "2021-11-29T02:16:35.339Z"
   },
   {
    "duration": 216,
    "start_time": "2021-11-29T02:16:35.416Z"
   },
   {
    "duration": 45,
    "start_time": "2021-11-29T02:16:35.634Z"
   },
   {
    "duration": 27,
    "start_time": "2021-11-29T02:16:35.681Z"
   },
   {
    "duration": 47,
    "start_time": "2021-11-29T02:16:45.574Z"
   },
   {
    "duration": 300,
    "start_time": "2021-11-29T02:16:58.183Z"
   },
   {
    "duration": 238,
    "start_time": "2021-11-29T02:17:08.784Z"
   },
   {
    "duration": 57,
    "start_time": "2021-11-29T02:17:09.025Z"
   },
   {
    "duration": 21,
    "start_time": "2021-11-29T02:17:09.085Z"
   },
   {
    "duration": 61,
    "start_time": "2021-11-29T02:17:09.108Z"
   },
   {
    "duration": 44,
    "start_time": "2021-11-29T02:17:09.172Z"
   },
   {
    "duration": 216,
    "start_time": "2021-11-29T02:17:09.218Z"
   },
   {
    "duration": 49,
    "start_time": "2021-11-29T02:17:09.436Z"
   },
   {
    "duration": 27,
    "start_time": "2021-11-29T02:17:09.488Z"
   },
   {
    "duration": 281,
    "start_time": "2021-11-29T02:17:14.491Z"
   },
   {
    "duration": 244,
    "start_time": "2021-11-29T02:17:22.547Z"
   },
   {
    "duration": 235,
    "start_time": "2021-11-29T02:17:28.714Z"
   },
   {
    "duration": 48,
    "start_time": "2021-11-29T02:17:28.952Z"
   },
   {
    "duration": 23,
    "start_time": "2021-11-29T02:17:29.003Z"
   },
   {
    "duration": 65,
    "start_time": "2021-11-29T02:17:29.029Z"
   },
   {
    "duration": 47,
    "start_time": "2021-11-29T02:17:29.096Z"
   },
   {
    "duration": 210,
    "start_time": "2021-11-29T02:17:29.146Z"
   },
   {
    "duration": 38,
    "start_time": "2021-11-29T02:17:29.358Z"
   },
   {
    "duration": 26,
    "start_time": "2021-11-29T02:17:29.398Z"
   },
   {
    "duration": 291,
    "start_time": "2021-11-29T02:17:41.084Z"
   },
   {
    "duration": 277,
    "start_time": "2021-11-29T02:17:49.394Z"
   },
   {
    "duration": 244,
    "start_time": "2021-11-29T02:17:55.549Z"
   },
   {
    "duration": 44,
    "start_time": "2021-11-29T02:17:55.796Z"
   },
   {
    "duration": 43,
    "start_time": "2021-11-29T02:17:55.843Z"
   },
   {
    "duration": 41,
    "start_time": "2021-11-29T02:17:55.889Z"
   },
   {
    "duration": 69,
    "start_time": "2021-11-29T02:17:55.933Z"
   },
   {
    "duration": 205,
    "start_time": "2021-11-29T02:17:56.005Z"
   },
   {
    "duration": 31,
    "start_time": "2021-11-29T02:17:56.213Z"
   },
   {
    "duration": 40,
    "start_time": "2021-11-29T02:17:56.246Z"
   },
   {
    "duration": 45,
    "start_time": "2021-11-29T02:17:59.155Z"
   },
   {
    "duration": 39,
    "start_time": "2021-11-29T02:18:05.294Z"
   },
   {
    "duration": 25,
    "start_time": "2021-11-29T02:18:25.265Z"
   },
   {
    "duration": 26,
    "start_time": "2021-11-29T02:18:40.963Z"
   },
   {
    "duration": 11,
    "start_time": "2021-11-29T02:18:59.945Z"
   },
   {
    "duration": 22,
    "start_time": "2021-11-29T02:19:26.277Z"
   },
   {
    "duration": 22,
    "start_time": "2021-11-29T02:20:06.963Z"
   },
   {
    "duration": 41,
    "start_time": "2021-11-29T02:20:21.493Z"
   },
   {
    "duration": 10,
    "start_time": "2021-11-29T02:23:39.495Z"
   },
   {
    "duration": 277,
    "start_time": "2021-11-29T02:24:09.731Z"
   },
   {
    "duration": 32,
    "start_time": "2021-11-29T02:24:43.628Z"
   },
   {
    "duration": 38,
    "start_time": "2021-11-29T02:25:48.301Z"
   },
   {
    "duration": 23,
    "start_time": "2021-11-29T02:45:00.605Z"
   },
   {
    "duration": 261,
    "start_time": "2021-11-29T02:45:22.279Z"
   },
   {
    "duration": 32,
    "start_time": "2021-11-29T02:47:21.104Z"
   },
   {
    "duration": 7,
    "start_time": "2021-11-29T02:47:28.234Z"
   },
   {
    "duration": 44,
    "start_time": "2021-11-29T02:47:34.181Z"
   },
   {
    "duration": 10,
    "start_time": "2021-11-29T02:47:52.276Z"
   },
   {
    "duration": 6741,
    "start_time": "2021-11-29T02:48:00.537Z"
   },
   {
    "duration": 13,
    "start_time": "2021-11-29T02:48:34.107Z"
   },
   {
    "duration": 7,
    "start_time": "2021-11-29T02:48:41.371Z"
   },
   {
    "duration": 313,
    "start_time": "2021-11-29T02:49:44.930Z"
   },
   {
    "duration": 274,
    "start_time": "2021-11-29T02:55:46.112Z"
   },
   {
    "duration": 272,
    "start_time": "2021-11-29T02:56:43.276Z"
   },
   {
    "duration": 13,
    "start_time": "2021-11-29T02:57:06.601Z"
   },
   {
    "duration": 304,
    "start_time": "2021-11-29T02:57:11.787Z"
   },
   {
    "duration": 17,
    "start_time": "2021-11-29T02:57:29.465Z"
   },
   {
    "duration": 8,
    "start_time": "2021-11-29T02:57:40.945Z"
   },
   {
    "duration": 31,
    "start_time": "2021-11-29T02:57:45.117Z"
   },
   {
    "duration": 30,
    "start_time": "2021-11-29T02:58:03.502Z"
   },
   {
    "duration": 294,
    "start_time": "2021-11-29T03:01:31.047Z"
   },
   {
    "duration": 16,
    "start_time": "2021-11-29T03:02:18.349Z"
   },
   {
    "duration": 48,
    "start_time": "2021-11-29T03:04:07.952Z"
   },
   {
    "duration": 81,
    "start_time": "2021-11-29T03:04:32.269Z"
   },
   {
    "duration": 79,
    "start_time": "2021-11-29T03:04:59.899Z"
   },
   {
    "duration": 49,
    "start_time": "2021-11-29T03:10:17.307Z"
   },
   {
    "duration": 834,
    "start_time": "2021-11-29T07:34:40.823Z"
   },
   {
    "duration": 31,
    "start_time": "2021-11-29T07:34:41.659Z"
   },
   {
    "duration": 34,
    "start_time": "2021-11-29T07:34:41.692Z"
   },
   {
    "duration": 37,
    "start_time": "2021-11-29T07:34:41.729Z"
   },
   {
    "duration": 66,
    "start_time": "2021-11-29T07:34:41.768Z"
   },
   {
    "duration": 155,
    "start_time": "2021-11-29T07:34:41.836Z"
   },
   {
    "duration": 39,
    "start_time": "2021-11-29T07:34:41.993Z"
   },
   {
    "duration": 20,
    "start_time": "2021-11-29T07:34:42.034Z"
   },
   {
    "duration": 60,
    "start_time": "2021-11-29T07:34:42.056Z"
   },
   {
    "duration": 27,
    "start_time": "2021-11-29T07:34:42.119Z"
   },
   {
    "duration": 116,
    "start_time": "2021-11-29T07:34:42.148Z"
   },
   {
    "duration": 21,
    "start_time": "2021-11-29T07:34:42.266Z"
   },
   {
    "duration": 37,
    "start_time": "2021-11-29T07:34:42.289Z"
   },
   {
    "duration": 15,
    "start_time": "2021-11-29T07:34:42.327Z"
   },
   {
    "duration": 26,
    "start_time": "2021-11-29T07:34:42.344Z"
   },
   {
    "duration": 40,
    "start_time": "2021-11-29T07:34:42.372Z"
   },
   {
    "duration": 18,
    "start_time": "2021-11-29T07:34:42.414Z"
   },
   {
    "duration": 93,
    "start_time": "2021-11-29T07:34:42.434Z"
   },
   {
    "duration": 9,
    "start_time": "2021-11-29T07:34:42.528Z"
   },
   {
    "duration": 30,
    "start_time": "2021-11-29T07:34:42.539Z"
   },
   {
    "duration": 48,
    "start_time": "2021-11-29T07:34:42.571Z"
   },
   {
    "duration": 27,
    "start_time": "2021-11-29T07:34:42.621Z"
   },
   {
    "duration": 6,
    "start_time": "2021-11-29T07:34:42.651Z"
   },
   {
    "duration": 30,
    "start_time": "2021-11-29T07:34:42.659Z"
   },
   {
    "duration": 16,
    "start_time": "2021-11-29T07:34:42.691Z"
   },
   {
    "duration": 10,
    "start_time": "2021-11-29T07:34:42.709Z"
   },
   {
    "duration": 10,
    "start_time": "2021-11-29T07:34:42.721Z"
   },
   {
    "duration": 9,
    "start_time": "2021-11-29T07:34:42.733Z"
   },
   {
    "duration": 25,
    "start_time": "2021-11-29T07:34:42.745Z"
   },
   {
    "duration": 53,
    "start_time": "2021-11-29T07:34:42.772Z"
   },
   {
    "duration": 817,
    "start_time": "2021-11-29T10:22:28.902Z"
   },
   {
    "duration": 32,
    "start_time": "2021-11-29T10:22:29.721Z"
   },
   {
    "duration": 14,
    "start_time": "2021-11-29T10:22:29.755Z"
   },
   {
    "duration": 41,
    "start_time": "2021-11-29T10:22:29.771Z"
   },
   {
    "duration": 35,
    "start_time": "2021-11-29T10:22:29.814Z"
   },
   {
    "duration": 133,
    "start_time": "2021-11-29T10:22:29.850Z"
   },
   {
    "duration": 22,
    "start_time": "2021-11-29T10:22:29.984Z"
   },
   {
    "duration": 41,
    "start_time": "2021-11-29T10:22:30.009Z"
   },
   {
    "duration": 57,
    "start_time": "2021-11-29T10:22:30.052Z"
   },
   {
    "duration": 31,
    "start_time": "2021-11-29T10:22:30.110Z"
   },
   {
    "duration": 122,
    "start_time": "2021-11-29T10:22:30.142Z"
   },
   {
    "duration": 18,
    "start_time": "2021-11-29T10:22:30.265Z"
   },
   {
    "duration": 34,
    "start_time": "2021-11-29T10:22:30.284Z"
   },
   {
    "duration": 32,
    "start_time": "2021-11-29T10:22:30.320Z"
   },
   {
    "duration": 45,
    "start_time": "2021-11-29T10:22:30.354Z"
   },
   {
    "duration": 56,
    "start_time": "2021-11-29T10:22:30.401Z"
   },
   {
    "duration": 43,
    "start_time": "2021-11-29T10:22:30.458Z"
   },
   {
    "duration": 56,
    "start_time": "2021-11-29T10:22:30.503Z"
   },
   {
    "duration": 23,
    "start_time": "2021-11-29T10:22:30.561Z"
   },
   {
    "duration": 47,
    "start_time": "2021-11-29T10:22:30.586Z"
   },
   {
    "duration": 50,
    "start_time": "2021-11-29T10:22:30.635Z"
   },
   {
    "duration": 55,
    "start_time": "2021-11-29T10:22:30.686Z"
   },
   {
    "duration": 47,
    "start_time": "2021-11-29T10:22:30.744Z"
   },
   {
    "duration": 62,
    "start_time": "2021-11-29T10:22:30.793Z"
   },
   {
    "duration": 14,
    "start_time": "2021-11-29T10:22:30.856Z"
   },
   {
    "duration": 43,
    "start_time": "2021-11-29T10:22:30.872Z"
   },
   {
    "duration": 53,
    "start_time": "2021-11-29T10:22:30.916Z"
   },
   {
    "duration": 99,
    "start_time": "2021-11-29T10:22:30.970Z"
   },
   {
    "duration": 125,
    "start_time": "2021-11-29T10:22:31.071Z"
   },
   {
    "duration": 23,
    "start_time": "2021-11-29T10:22:34.568Z"
   },
   {
    "duration": 9,
    "start_time": "2021-11-29T10:23:14.890Z"
   },
   {
    "duration": 10,
    "start_time": "2021-11-29T10:23:24.816Z"
   },
   {
    "duration": 4,
    "start_time": "2021-11-29T10:23:32.991Z"
   },
   {
    "duration": 13,
    "start_time": "2021-11-29T10:24:47.217Z"
   },
   {
    "duration": 5,
    "start_time": "2021-11-29T10:26:34.380Z"
   },
   {
    "duration": 464,
    "start_time": "2021-11-29T10:26:47.438Z"
   },
   {
    "duration": 163,
    "start_time": "2021-11-29T10:26:59.860Z"
   },
   {
    "duration": 34,
    "start_time": "2021-11-29T10:27:00.025Z"
   },
   {
    "duration": 16,
    "start_time": "2021-11-29T10:27:00.061Z"
   },
   {
    "duration": 45,
    "start_time": "2021-11-29T10:27:00.079Z"
   },
   {
    "duration": 36,
    "start_time": "2021-11-29T10:27:00.125Z"
   },
   {
    "duration": 212,
    "start_time": "2021-11-29T10:27:00.163Z"
   },
   {
    "duration": 21,
    "start_time": "2021-11-29T10:27:00.376Z"
   },
   {
    "duration": 26,
    "start_time": "2021-11-29T10:27:00.399Z"
   },
   {
    "duration": 43,
    "start_time": "2021-11-29T10:27:00.428Z"
   },
   {
    "duration": 36,
    "start_time": "2021-11-29T10:27:00.473Z"
   },
   {
    "duration": 111,
    "start_time": "2021-11-29T10:27:00.511Z"
   },
   {
    "duration": 34,
    "start_time": "2021-11-29T10:27:00.624Z"
   },
   {
    "duration": 14,
    "start_time": "2021-11-29T10:27:00.660Z"
   },
   {
    "duration": 42,
    "start_time": "2021-11-29T10:27:00.675Z"
   },
   {
    "duration": 43,
    "start_time": "2021-11-29T10:27:00.718Z"
   },
   {
    "duration": 71,
    "start_time": "2021-11-29T10:27:00.763Z"
   },
   {
    "duration": 27,
    "start_time": "2021-11-29T10:27:00.835Z"
   },
   {
    "duration": 53,
    "start_time": "2021-11-29T10:27:00.864Z"
   },
   {
    "duration": 13,
    "start_time": "2021-11-29T10:27:00.919Z"
   },
   {
    "duration": 57,
    "start_time": "2021-11-29T10:27:00.933Z"
   },
   {
    "duration": 25,
    "start_time": "2021-11-29T10:27:00.992Z"
   },
   {
    "duration": 40,
    "start_time": "2021-11-29T10:27:01.019Z"
   },
   {
    "duration": 32,
    "start_time": "2021-11-29T10:27:01.061Z"
   },
   {
    "duration": 51,
    "start_time": "2021-11-29T10:27:01.095Z"
   },
   {
    "duration": 8,
    "start_time": "2021-11-29T10:27:01.148Z"
   },
   {
    "duration": 51,
    "start_time": "2021-11-29T10:27:01.158Z"
   },
   {
    "duration": 31,
    "start_time": "2021-11-29T10:27:01.214Z"
   },
   {
    "duration": 21,
    "start_time": "2021-11-29T10:27:01.246Z"
   },
   {
    "duration": 50,
    "start_time": "2021-11-29T10:27:01.269Z"
   },
   {
    "duration": 33,
    "start_time": "2021-11-29T10:27:01.321Z"
   },
   {
    "duration": 19,
    "start_time": "2021-11-29T10:27:01.356Z"
   },
   {
    "duration": 12,
    "start_time": "2021-11-29T10:27:05.462Z"
   },
   {
    "duration": 283,
    "start_time": "2021-11-29T10:28:00.047Z"
   },
   {
    "duration": 188,
    "start_time": "2021-11-29T10:28:04.732Z"
   },
   {
    "duration": 37,
    "start_time": "2021-11-29T10:28:04.922Z"
   },
   {
    "duration": 71,
    "start_time": "2021-11-29T10:28:04.961Z"
   },
   {
    "duration": 44,
    "start_time": "2021-11-29T10:28:05.034Z"
   },
   {
    "duration": 31,
    "start_time": "2021-11-29T10:28:05.079Z"
   },
   {
    "duration": 135,
    "start_time": "2021-11-29T10:28:05.113Z"
   },
   {
    "duration": 21,
    "start_time": "2021-11-29T10:28:05.250Z"
   },
   {
    "duration": 18,
    "start_time": "2021-11-29T10:28:05.273Z"
   },
   {
    "duration": 51,
    "start_time": "2021-11-29T10:28:05.294Z"
   },
   {
    "duration": 24,
    "start_time": "2021-11-29T10:28:05.347Z"
   },
   {
    "duration": 116,
    "start_time": "2021-11-29T10:28:05.373Z"
   },
   {
    "duration": 18,
    "start_time": "2021-11-29T10:28:05.491Z"
   },
   {
    "duration": 25,
    "start_time": "2021-11-29T10:28:05.511Z"
   },
   {
    "duration": 19,
    "start_time": "2021-11-29T10:28:05.538Z"
   },
   {
    "duration": 24,
    "start_time": "2021-11-29T10:28:05.558Z"
   },
   {
    "duration": 13,
    "start_time": "2021-11-29T10:28:05.584Z"
   },
   {
    "duration": 15,
    "start_time": "2021-11-29T10:28:05.599Z"
   },
   {
    "duration": 43,
    "start_time": "2021-11-29T10:28:05.616Z"
   },
   {
    "duration": 7,
    "start_time": "2021-11-29T10:28:05.661Z"
   },
   {
    "duration": 25,
    "start_time": "2021-11-29T10:28:05.670Z"
   },
   {
    "duration": 15,
    "start_time": "2021-11-29T10:28:05.697Z"
   },
   {
    "duration": 54,
    "start_time": "2021-11-29T10:28:05.714Z"
   },
   {
    "duration": 5,
    "start_time": "2021-11-29T10:28:05.772Z"
   },
   {
    "duration": 26,
    "start_time": "2021-11-29T10:28:05.779Z"
   },
   {
    "duration": 7,
    "start_time": "2021-11-29T10:28:05.807Z"
   },
   {
    "duration": 35,
    "start_time": "2021-11-29T10:28:05.816Z"
   },
   {
    "duration": 33,
    "start_time": "2021-11-29T10:28:05.853Z"
   },
   {
    "duration": 7,
    "start_time": "2021-11-29T10:28:05.887Z"
   },
   {
    "duration": 30,
    "start_time": "2021-11-29T10:28:05.896Z"
   },
   {
    "duration": 18,
    "start_time": "2021-11-29T10:28:05.928Z"
   },
   {
    "duration": 12,
    "start_time": "2021-11-29T10:28:05.947Z"
   },
   {
    "duration": 11,
    "start_time": "2021-11-29T10:28:10.503Z"
   },
   {
    "duration": 10,
    "start_time": "2021-11-29T10:30:04.008Z"
   },
   {
    "duration": 289,
    "start_time": "2021-11-29T10:32:24.433Z"
   },
   {
    "duration": 172,
    "start_time": "2021-11-29T10:32:31.847Z"
   },
   {
    "duration": 37,
    "start_time": "2021-11-29T10:32:32.021Z"
   },
   {
    "duration": 17,
    "start_time": "2021-11-29T10:32:32.060Z"
   },
   {
    "duration": 50,
    "start_time": "2021-11-29T10:32:32.079Z"
   },
   {
    "duration": 51,
    "start_time": "2021-11-29T10:32:32.131Z"
   },
   {
    "duration": 152,
    "start_time": "2021-11-29T10:32:32.184Z"
   },
   {
    "duration": 23,
    "start_time": "2021-11-29T10:32:32.338Z"
   },
   {
    "duration": 19,
    "start_time": "2021-11-29T10:32:32.362Z"
   },
   {
    "duration": 30,
    "start_time": "2021-11-29T10:32:32.384Z"
   },
   {
    "duration": 49,
    "start_time": "2021-11-29T10:32:32.416Z"
   },
   {
    "duration": 105,
    "start_time": "2021-11-29T10:32:32.466Z"
   },
   {
    "duration": 19,
    "start_time": "2021-11-29T10:32:32.572Z"
   },
   {
    "duration": 12,
    "start_time": "2021-11-29T10:32:32.593Z"
   },
   {
    "duration": 37,
    "start_time": "2021-11-29T10:32:32.607Z"
   },
   {
    "duration": 24,
    "start_time": "2021-11-29T10:32:32.646Z"
   },
   {
    "duration": 14,
    "start_time": "2021-11-29T10:32:32.671Z"
   },
   {
    "duration": 15,
    "start_time": "2021-11-29T10:32:32.687Z"
   },
   {
    "duration": 48,
    "start_time": "2021-11-29T10:32:32.703Z"
   },
   {
    "duration": 8,
    "start_time": "2021-11-29T10:32:32.753Z"
   },
   {
    "duration": 32,
    "start_time": "2021-11-29T10:32:32.763Z"
   },
   {
    "duration": 15,
    "start_time": "2021-11-29T10:32:32.796Z"
   },
   {
    "duration": 45,
    "start_time": "2021-11-29T10:32:32.813Z"
   },
   {
    "duration": 12,
    "start_time": "2021-11-29T10:32:32.860Z"
   },
   {
    "duration": 45,
    "start_time": "2021-11-29T10:32:32.873Z"
   },
   {
    "duration": 6,
    "start_time": "2021-11-29T10:32:32.920Z"
   },
   {
    "duration": 26,
    "start_time": "2021-11-29T10:32:32.927Z"
   },
   {
    "duration": 10,
    "start_time": "2021-11-29T10:32:32.958Z"
   },
   {
    "duration": 5,
    "start_time": "2021-11-29T10:32:32.970Z"
   },
   {
    "duration": 28,
    "start_time": "2021-11-29T10:32:32.977Z"
   },
   {
    "duration": 13,
    "start_time": "2021-11-29T10:32:33.007Z"
   },
   {
    "duration": 34,
    "start_time": "2021-11-29T10:32:33.022Z"
   },
   {
    "duration": 19,
    "start_time": "2021-11-29T10:32:33.057Z"
   },
   {
    "duration": 261,
    "start_time": "2021-11-29T10:32:35.699Z"
   },
   {
    "duration": 305,
    "start_time": "2021-11-29T10:32:47.360Z"
   },
   {
    "duration": 7,
    "start_time": "2021-11-29T10:33:16.738Z"
   },
   {
    "duration": 8,
    "start_time": "2021-11-29T10:33:26.071Z"
   },
   {
    "duration": 9,
    "start_time": "2021-11-29T10:35:29.617Z"
   },
   {
    "duration": 40,
    "start_time": "2021-11-29T10:36:04.123Z"
   },
   {
    "duration": 39,
    "start_time": "2021-11-29T10:36:13.380Z"
   },
   {
    "duration": 279,
    "start_time": "2021-11-29T10:38:59.747Z"
   },
   {
    "duration": 14,
    "start_time": "2021-11-29T10:39:09.941Z"
   },
   {
    "duration": 289,
    "start_time": "2021-11-29T10:40:02.101Z"
   },
   {
    "duration": 194,
    "start_time": "2021-11-29T10:40:20.815Z"
   },
   {
    "duration": 44,
    "start_time": "2021-11-29T10:40:21.011Z"
   },
   {
    "duration": 19,
    "start_time": "2021-11-29T10:40:21.057Z"
   },
   {
    "duration": 65,
    "start_time": "2021-11-29T10:40:21.078Z"
   },
   {
    "duration": 46,
    "start_time": "2021-11-29T10:40:21.145Z"
   },
   {
    "duration": 146,
    "start_time": "2021-11-29T10:40:21.193Z"
   },
   {
    "duration": 24,
    "start_time": "2021-11-29T10:40:21.345Z"
   },
   {
    "duration": 23,
    "start_time": "2021-11-29T10:40:21.372Z"
   },
   {
    "duration": 58,
    "start_time": "2021-11-29T10:40:21.398Z"
   },
   {
    "duration": 27,
    "start_time": "2021-11-29T10:40:21.458Z"
   },
   {
    "duration": 129,
    "start_time": "2021-11-29T10:40:21.487Z"
   },
   {
    "duration": 33,
    "start_time": "2021-11-29T10:40:21.618Z"
   },
   {
    "duration": 13,
    "start_time": "2021-11-29T10:40:21.653Z"
   },
   {
    "duration": 50,
    "start_time": "2021-11-29T10:40:21.668Z"
   },
   {
    "duration": 42,
    "start_time": "2021-11-29T10:40:21.719Z"
   },
   {
    "duration": 32,
    "start_time": "2021-11-29T10:40:21.763Z"
   },
   {
    "duration": 40,
    "start_time": "2021-11-29T10:40:21.797Z"
   },
   {
    "duration": 48,
    "start_time": "2021-11-29T10:40:21.839Z"
   },
   {
    "duration": 21,
    "start_time": "2021-11-29T10:40:21.889Z"
   },
   {
    "duration": 60,
    "start_time": "2021-11-29T10:40:21.912Z"
   },
   {
    "duration": 14,
    "start_time": "2021-11-29T10:40:21.974Z"
   },
   {
    "duration": 46,
    "start_time": "2021-11-29T10:40:21.990Z"
   },
   {
    "duration": 23,
    "start_time": "2021-11-29T10:40:22.041Z"
   },
   {
    "duration": 63,
    "start_time": "2021-11-29T10:40:22.066Z"
   },
   {
    "duration": 18,
    "start_time": "2021-11-29T10:40:22.131Z"
   },
   {
    "duration": 41,
    "start_time": "2021-11-29T10:40:22.151Z"
   },
   {
    "duration": 21,
    "start_time": "2021-11-29T10:40:22.194Z"
   },
   {
    "duration": 42,
    "start_time": "2021-11-29T10:40:22.217Z"
   },
   {
    "duration": 68,
    "start_time": "2021-11-29T10:40:22.261Z"
   },
   {
    "duration": 15,
    "start_time": "2021-11-29T10:40:22.331Z"
   },
   {
    "duration": 15,
    "start_time": "2021-11-29T10:40:22.348Z"
   },
   {
    "duration": 24,
    "start_time": "2021-11-29T10:40:22.365Z"
   },
   {
    "duration": 52,
    "start_time": "2021-11-29T10:40:22.391Z"
   },
   {
    "duration": 270,
    "start_time": "2021-11-29T10:40:26.070Z"
   },
   {
    "duration": 177,
    "start_time": "2021-11-29T10:41:03.606Z"
   },
   {
    "duration": 27,
    "start_time": "2021-11-29T10:41:03.785Z"
   },
   {
    "duration": 33,
    "start_time": "2021-11-29T10:41:03.814Z"
   },
   {
    "duration": 47,
    "start_time": "2021-11-29T10:41:03.849Z"
   },
   {
    "duration": 92,
    "start_time": "2021-11-29T10:41:03.897Z"
   },
   {
    "duration": 152,
    "start_time": "2021-11-29T10:41:03.990Z"
   },
   {
    "duration": 21,
    "start_time": "2021-11-29T10:41:04.144Z"
   },
   {
    "duration": 52,
    "start_time": "2021-11-29T10:41:04.167Z"
   },
   {
    "duration": 39,
    "start_time": "2021-11-29T10:41:04.222Z"
   },
   {
    "duration": 23,
    "start_time": "2021-11-29T10:41:04.263Z"
   },
   {
    "duration": 114,
    "start_time": "2021-11-29T10:41:04.288Z"
   },
   {
    "duration": 18,
    "start_time": "2021-11-29T10:41:04.403Z"
   },
   {
    "duration": 33,
    "start_time": "2021-11-29T10:41:04.423Z"
   },
   {
    "duration": 20,
    "start_time": "2021-11-29T10:41:04.458Z"
   },
   {
    "duration": 38,
    "start_time": "2021-11-29T10:41:04.480Z"
   },
   {
    "duration": 16,
    "start_time": "2021-11-29T10:41:04.520Z"
   },
   {
    "duration": 23,
    "start_time": "2021-11-29T10:41:04.538Z"
   },
   {
    "duration": 59,
    "start_time": "2021-11-29T10:41:04.563Z"
   },
   {
    "duration": 30,
    "start_time": "2021-11-29T10:41:04.624Z"
   },
   {
    "duration": 53,
    "start_time": "2021-11-29T10:41:04.655Z"
   },
   {
    "duration": 25,
    "start_time": "2021-11-29T10:41:04.709Z"
   },
   {
    "duration": 36,
    "start_time": "2021-11-29T10:41:04.736Z"
   },
   {
    "duration": 6,
    "start_time": "2021-11-29T10:41:04.775Z"
   },
   {
    "duration": 50,
    "start_time": "2021-11-29T10:41:04.783Z"
   },
   {
    "duration": 13,
    "start_time": "2021-11-29T10:41:04.835Z"
   },
   {
    "duration": 39,
    "start_time": "2021-11-29T10:41:04.849Z"
   },
   {
    "duration": 38,
    "start_time": "2021-11-29T10:41:04.890Z"
   },
   {
    "duration": 34,
    "start_time": "2021-11-29T10:41:04.929Z"
   },
   {
    "duration": 28,
    "start_time": "2021-11-29T10:41:04.964Z"
   },
   {
    "duration": 16,
    "start_time": "2021-11-29T10:41:04.994Z"
   },
   {
    "duration": 40,
    "start_time": "2021-11-29T10:41:05.011Z"
   },
   {
    "duration": 44,
    "start_time": "2021-11-29T10:41:05.052Z"
   },
   {
    "duration": 97,
    "start_time": "2021-11-29T10:41:05.098Z"
   },
   {
    "duration": 12,
    "start_time": "2021-11-29T10:41:11.526Z"
   },
   {
    "duration": 285,
    "start_time": "2021-11-29T10:41:22.744Z"
   },
   {
    "duration": 165,
    "start_time": "2021-11-29T10:41:31.867Z"
   },
   {
    "duration": 32,
    "start_time": "2021-11-29T10:41:32.034Z"
   },
   {
    "duration": 16,
    "start_time": "2021-11-29T10:41:32.067Z"
   },
   {
    "duration": 27,
    "start_time": "2021-11-29T10:41:32.085Z"
   },
   {
    "duration": 52,
    "start_time": "2021-11-29T10:41:32.114Z"
   },
   {
    "duration": 144,
    "start_time": "2021-11-29T10:41:32.168Z"
   },
   {
    "duration": 32,
    "start_time": "2021-11-29T10:41:32.313Z"
   },
   {
    "duration": 18,
    "start_time": "2021-11-29T10:41:32.347Z"
   },
   {
    "duration": 31,
    "start_time": "2021-11-29T10:41:32.367Z"
   },
   {
    "duration": 44,
    "start_time": "2021-11-29T10:41:32.399Z"
   },
   {
    "duration": 103,
    "start_time": "2021-11-29T10:41:32.445Z"
   },
   {
    "duration": 19,
    "start_time": "2021-11-29T10:41:32.549Z"
   },
   {
    "duration": 12,
    "start_time": "2021-11-29T10:41:32.570Z"
   },
   {
    "duration": 17,
    "start_time": "2021-11-29T10:41:32.583Z"
   },
   {
    "duration": 50,
    "start_time": "2021-11-29T10:41:32.601Z"
   },
   {
    "duration": 15,
    "start_time": "2021-11-29T10:41:32.653Z"
   },
   {
    "duration": 15,
    "start_time": "2021-11-29T10:41:32.669Z"
   },
   {
    "duration": 36,
    "start_time": "2021-11-29T10:41:32.686Z"
   },
   {
    "duration": 6,
    "start_time": "2021-11-29T10:41:32.724Z"
   },
   {
    "duration": 33,
    "start_time": "2021-11-29T10:41:32.732Z"
   },
   {
    "duration": 15,
    "start_time": "2021-11-29T10:41:32.767Z"
   },
   {
    "duration": 24,
    "start_time": "2021-11-29T10:41:32.784Z"
   },
   {
    "duration": 10,
    "start_time": "2021-11-29T10:41:32.812Z"
   },
   {
    "duration": 45,
    "start_time": "2021-11-29T10:41:32.824Z"
   },
   {
    "duration": 8,
    "start_time": "2021-11-29T10:41:32.871Z"
   },
   {
    "duration": 9,
    "start_time": "2021-11-29T10:41:32.880Z"
   },
   {
    "duration": 12,
    "start_time": "2021-11-29T10:41:32.891Z"
   },
   {
    "duration": 5,
    "start_time": "2021-11-29T10:41:32.905Z"
   },
   {
    "duration": 50,
    "start_time": "2021-11-29T10:41:32.912Z"
   },
   {
    "duration": 13,
    "start_time": "2021-11-29T10:41:32.964Z"
   },
   {
    "duration": 21,
    "start_time": "2021-11-29T10:41:32.978Z"
   },
   {
    "duration": 16,
    "start_time": "2021-11-29T10:41:33.000Z"
   },
   {
    "duration": 58,
    "start_time": "2021-11-29T10:41:33.018Z"
   },
   {
    "duration": 12,
    "start_time": "2021-11-29T10:41:36.490Z"
   },
   {
    "duration": 277,
    "start_time": "2021-11-29T10:42:48.099Z"
   },
   {
    "duration": 160,
    "start_time": "2021-11-29T10:43:09.377Z"
   },
   {
    "duration": 25,
    "start_time": "2021-11-29T10:43:09.545Z"
   },
   {
    "duration": 29,
    "start_time": "2021-11-29T10:43:09.573Z"
   },
   {
    "duration": 43,
    "start_time": "2021-11-29T10:43:09.604Z"
   },
   {
    "duration": 28,
    "start_time": "2021-11-29T10:43:09.649Z"
   },
   {
    "duration": 133,
    "start_time": "2021-11-29T10:43:09.678Z"
   },
   {
    "duration": 32,
    "start_time": "2021-11-29T10:43:09.813Z"
   },
   {
    "duration": 21,
    "start_time": "2021-11-29T10:43:09.847Z"
   },
   {
    "duration": 32,
    "start_time": "2021-11-29T10:43:09.871Z"
   },
   {
    "duration": 40,
    "start_time": "2021-11-29T10:43:09.905Z"
   },
   {
    "duration": 105,
    "start_time": "2021-11-29T10:43:09.947Z"
   },
   {
    "duration": 18,
    "start_time": "2021-11-29T10:43:10.054Z"
   },
   {
    "duration": 29,
    "start_time": "2021-11-29T10:43:10.074Z"
   },
   {
    "duration": 19,
    "start_time": "2021-11-29T10:43:10.104Z"
   },
   {
    "duration": 27,
    "start_time": "2021-11-29T10:43:10.124Z"
   },
   {
    "duration": 12,
    "start_time": "2021-11-29T10:43:10.153Z"
   },
   {
    "duration": 16,
    "start_time": "2021-11-29T10:43:10.166Z"
   },
   {
    "duration": 35,
    "start_time": "2021-11-29T10:43:10.184Z"
   },
   {
    "duration": 13,
    "start_time": "2021-11-29T10:43:10.220Z"
   },
   {
    "duration": 48,
    "start_time": "2021-11-29T10:43:10.234Z"
   },
   {
    "duration": 21,
    "start_time": "2021-11-29T10:43:10.283Z"
   },
   {
    "duration": 27,
    "start_time": "2021-11-29T10:43:10.306Z"
   },
   {
    "duration": 25,
    "start_time": "2021-11-29T10:43:10.334Z"
   },
   {
    "duration": 52,
    "start_time": "2021-11-29T10:43:10.360Z"
   },
   {
    "duration": 10,
    "start_time": "2021-11-29T10:43:10.414Z"
   },
   {
    "duration": 29,
    "start_time": "2021-11-29T10:43:10.426Z"
   },
   {
    "duration": 32,
    "start_time": "2021-11-29T10:43:10.459Z"
   },
   {
    "duration": 33,
    "start_time": "2021-11-29T10:43:10.493Z"
   },
   {
    "duration": 28,
    "start_time": "2021-11-29T10:43:10.528Z"
   },
   {
    "duration": 25,
    "start_time": "2021-11-29T10:43:10.557Z"
   },
   {
    "duration": 31,
    "start_time": "2021-11-29T10:43:10.584Z"
   },
   {
    "duration": 18,
    "start_time": "2021-11-29T10:43:10.617Z"
   },
   {
    "duration": 58,
    "start_time": "2021-11-29T10:43:10.637Z"
   },
   {
    "duration": 402,
    "start_time": "2021-11-29T10:43:14.374Z"
   },
   {
    "duration": 277,
    "start_time": "2021-11-29T10:43:24.063Z"
   },
   {
    "duration": 371,
    "start_time": "2021-11-29T10:43:38.373Z"
   },
   {
    "duration": 163,
    "start_time": "2021-11-29T10:43:48.755Z"
   },
   {
    "duration": 41,
    "start_time": "2021-11-29T10:43:48.920Z"
   },
   {
    "duration": 14,
    "start_time": "2021-11-29T10:43:48.963Z"
   },
   {
    "duration": 44,
    "start_time": "2021-11-29T10:43:48.979Z"
   },
   {
    "duration": 33,
    "start_time": "2021-11-29T10:43:49.025Z"
   },
   {
    "duration": 138,
    "start_time": "2021-11-29T10:43:49.059Z"
   },
   {
    "duration": 21,
    "start_time": "2021-11-29T10:43:49.198Z"
   },
   {
    "duration": 37,
    "start_time": "2021-11-29T10:43:49.221Z"
   },
   {
    "duration": 28,
    "start_time": "2021-11-29T10:43:49.261Z"
   },
   {
    "duration": 23,
    "start_time": "2021-11-29T10:43:49.291Z"
   },
   {
    "duration": 111,
    "start_time": "2021-11-29T10:43:49.316Z"
   },
   {
    "duration": 28,
    "start_time": "2021-11-29T10:43:49.429Z"
   },
   {
    "duration": 13,
    "start_time": "2021-11-29T10:43:49.458Z"
   },
   {
    "duration": 34,
    "start_time": "2021-11-29T10:43:49.472Z"
   },
   {
    "duration": 34,
    "start_time": "2021-11-29T10:43:49.507Z"
   },
   {
    "duration": 26,
    "start_time": "2021-11-29T10:43:49.543Z"
   },
   {
    "duration": 32,
    "start_time": "2021-11-29T10:43:49.570Z"
   },
   {
    "duration": 43,
    "start_time": "2021-11-29T10:43:49.604Z"
   },
   {
    "duration": 11,
    "start_time": "2021-11-29T10:43:49.648Z"
   },
   {
    "duration": 39,
    "start_time": "2021-11-29T10:43:49.660Z"
   },
   {
    "duration": 25,
    "start_time": "2021-11-29T10:43:49.701Z"
   },
   {
    "duration": 44,
    "start_time": "2021-11-29T10:43:49.727Z"
   },
   {
    "duration": 21,
    "start_time": "2021-11-29T10:43:49.774Z"
   },
   {
    "duration": 41,
    "start_time": "2021-11-29T10:43:49.797Z"
   },
   {
    "duration": 5,
    "start_time": "2021-11-29T10:43:49.840Z"
   },
   {
    "duration": 28,
    "start_time": "2021-11-29T10:43:49.847Z"
   },
   {
    "duration": 38,
    "start_time": "2021-11-29T10:43:49.876Z"
   },
   {
    "duration": 21,
    "start_time": "2021-11-29T10:43:49.916Z"
   },
   {
    "duration": 35,
    "start_time": "2021-11-29T10:43:49.938Z"
   },
   {
    "duration": 25,
    "start_time": "2021-11-29T10:43:49.975Z"
   },
   {
    "duration": 39,
    "start_time": "2021-11-29T10:43:50.002Z"
   },
   {
    "duration": 33,
    "start_time": "2021-11-29T10:43:50.043Z"
   },
   {
    "duration": 58,
    "start_time": "2021-11-29T10:43:50.078Z"
   },
   {
    "duration": 274,
    "start_time": "2021-11-29T10:43:56.692Z"
   },
   {
    "duration": 271,
    "start_time": "2021-11-29T10:44:20.067Z"
   },
   {
    "duration": 166,
    "start_time": "2021-11-29T10:44:30.594Z"
   },
   {
    "duration": 27,
    "start_time": "2021-11-29T10:44:30.761Z"
   },
   {
    "duration": 26,
    "start_time": "2021-11-29T10:44:30.790Z"
   },
   {
    "duration": 44,
    "start_time": "2021-11-29T10:44:30.818Z"
   },
   {
    "duration": 30,
    "start_time": "2021-11-29T10:44:30.863Z"
   },
   {
    "duration": 137,
    "start_time": "2021-11-29T10:44:30.895Z"
   },
   {
    "duration": 25,
    "start_time": "2021-11-29T10:44:31.034Z"
   },
   {
    "duration": 33,
    "start_time": "2021-11-29T10:44:31.062Z"
   },
   {
    "duration": 32,
    "start_time": "2021-11-29T10:44:31.097Z"
   },
   {
    "duration": 35,
    "start_time": "2021-11-29T10:44:31.131Z"
   },
   {
    "duration": 116,
    "start_time": "2021-11-29T10:44:31.168Z"
   },
   {
    "duration": 19,
    "start_time": "2021-11-29T10:44:31.286Z"
   },
   {
    "duration": 13,
    "start_time": "2021-11-29T10:44:31.307Z"
   },
   {
    "duration": 128,
    "start_time": "2021-11-29T10:44:31.322Z"
   },
   {
    "duration": 23,
    "start_time": "2021-11-29T10:44:31.452Z"
   },
   {
    "duration": 13,
    "start_time": "2021-11-29T10:44:31.477Z"
   },
   {
    "duration": 15,
    "start_time": "2021-11-29T10:44:31.492Z"
   },
   {
    "duration": 43,
    "start_time": "2021-11-29T10:44:31.508Z"
   },
   {
    "duration": 6,
    "start_time": "2021-11-29T10:44:31.552Z"
   },
   {
    "duration": 24,
    "start_time": "2021-11-29T10:44:31.560Z"
   },
   {
    "duration": 13,
    "start_time": "2021-11-29T10:44:31.586Z"
   },
   {
    "duration": 24,
    "start_time": "2021-11-29T10:44:31.601Z"
   },
   {
    "duration": 5,
    "start_time": "2021-11-29T10:44:31.644Z"
   },
   {
    "duration": 28,
    "start_time": "2021-11-29T10:44:31.651Z"
   },
   {
    "duration": 6,
    "start_time": "2021-11-29T10:44:31.681Z"
   },
   {
    "duration": 9,
    "start_time": "2021-11-29T10:44:31.688Z"
   },
   {
    "duration": 9,
    "start_time": "2021-11-29T10:44:31.698Z"
   },
   {
    "duration": 39,
    "start_time": "2021-11-29T10:44:31.708Z"
   },
   {
    "duration": 19,
    "start_time": "2021-11-29T10:44:31.749Z"
   },
   {
    "duration": 12,
    "start_time": "2021-11-29T10:44:31.770Z"
   },
   {
    "duration": 13,
    "start_time": "2021-11-29T10:44:31.784Z"
   },
   {
    "duration": 14,
    "start_time": "2021-11-29T10:44:31.799Z"
   },
   {
    "duration": 69,
    "start_time": "2021-11-29T10:44:31.815Z"
   },
   {
    "duration": 279,
    "start_time": "2021-11-29T10:44:51.724Z"
   },
   {
    "duration": 8,
    "start_time": "2021-11-29T10:45:02.947Z"
   },
   {
    "duration": 284,
    "start_time": "2021-11-29T10:45:55.777Z"
   },
   {
    "duration": 166,
    "start_time": "2021-11-29T10:46:07.361Z"
   },
   {
    "duration": 34,
    "start_time": "2021-11-29T10:46:07.529Z"
   },
   {
    "duration": 15,
    "start_time": "2021-11-29T10:46:07.565Z"
   },
   {
    "duration": 32,
    "start_time": "2021-11-29T10:46:07.582Z"
   },
   {
    "duration": 53,
    "start_time": "2021-11-29T10:46:07.616Z"
   },
   {
    "duration": 144,
    "start_time": "2021-11-29T10:46:07.671Z"
   },
   {
    "duration": 36,
    "start_time": "2021-11-29T10:46:07.817Z"
   },
   {
    "duration": 20,
    "start_time": "2021-11-29T10:46:07.855Z"
   },
   {
    "duration": 32,
    "start_time": "2021-11-29T10:46:07.879Z"
   },
   {
    "duration": 51,
    "start_time": "2021-11-29T10:46:07.913Z"
   },
   {
    "duration": 107,
    "start_time": "2021-11-29T10:46:07.966Z"
   },
   {
    "duration": 20,
    "start_time": "2021-11-29T10:46:08.075Z"
   },
   {
    "duration": 21,
    "start_time": "2021-11-29T10:46:08.097Z"
   },
   {
    "duration": 32,
    "start_time": "2021-11-29T10:46:08.120Z"
   },
   {
    "duration": 24,
    "start_time": "2021-11-29T10:46:08.154Z"
   },
   {
    "duration": 24,
    "start_time": "2021-11-29T10:46:08.180Z"
   },
   {
    "duration": 27,
    "start_time": "2021-11-29T10:46:08.206Z"
   },
   {
    "duration": 62,
    "start_time": "2021-11-29T10:46:08.235Z"
   },
   {
    "duration": 30,
    "start_time": "2021-11-29T10:46:08.299Z"
   },
   {
    "duration": 39,
    "start_time": "2021-11-29T10:46:08.331Z"
   },
   {
    "duration": 25,
    "start_time": "2021-11-29T10:46:08.373Z"
   },
   {
    "duration": 30,
    "start_time": "2021-11-29T10:46:08.400Z"
   },
   {
    "duration": 27,
    "start_time": "2021-11-29T10:46:08.432Z"
   },
   {
    "duration": 46,
    "start_time": "2021-11-29T10:46:08.460Z"
   },
   {
    "duration": 6,
    "start_time": "2021-11-29T10:46:08.508Z"
   },
   {
    "duration": 33,
    "start_time": "2021-11-29T10:46:08.516Z"
   },
   {
    "duration": 12,
    "start_time": "2021-11-29T10:46:08.553Z"
   },
   {
    "duration": 29,
    "start_time": "2021-11-29T10:46:08.567Z"
   },
   {
    "duration": 44,
    "start_time": "2021-11-29T10:46:08.598Z"
   },
   {
    "duration": 14,
    "start_time": "2021-11-29T10:46:08.643Z"
   },
   {
    "duration": 38,
    "start_time": "2021-11-29T10:46:08.658Z"
   },
   {
    "duration": 45,
    "start_time": "2021-11-29T10:46:08.697Z"
   },
   {
    "duration": 66,
    "start_time": "2021-11-29T10:46:08.743Z"
   },
   {
    "duration": 18,
    "start_time": "2021-11-29T10:46:12.837Z"
   },
   {
    "duration": 9,
    "start_time": "2021-11-29T10:46:34.093Z"
   },
   {
    "duration": 10,
    "start_time": "2021-11-29T10:46:54.306Z"
   },
   {
    "duration": 10,
    "start_time": "2021-11-29T10:47:09.774Z"
   },
   {
    "duration": 328,
    "start_time": "2021-11-29T10:47:26.881Z"
   },
   {
    "duration": 166,
    "start_time": "2021-11-29T10:47:31.467Z"
   },
   {
    "duration": 29,
    "start_time": "2021-11-29T10:47:31.634Z"
   },
   {
    "duration": 27,
    "start_time": "2021-11-29T10:47:31.665Z"
   },
   {
    "duration": 41,
    "start_time": "2021-11-29T10:47:31.694Z"
   },
   {
    "duration": 35,
    "start_time": "2021-11-29T10:47:31.737Z"
   },
   {
    "duration": 136,
    "start_time": "2021-11-29T10:47:31.773Z"
   },
   {
    "duration": 23,
    "start_time": "2021-11-29T10:47:31.910Z"
   },
   {
    "duration": 22,
    "start_time": "2021-11-29T10:47:31.944Z"
   },
   {
    "duration": 47,
    "start_time": "2021-11-29T10:47:31.968Z"
   },
   {
    "duration": 38,
    "start_time": "2021-11-29T10:47:32.016Z"
   },
   {
    "duration": 113,
    "start_time": "2021-11-29T10:47:32.055Z"
   },
   {
    "duration": 27,
    "start_time": "2021-11-29T10:47:32.170Z"
   },
   {
    "duration": 17,
    "start_time": "2021-11-29T10:47:32.199Z"
   },
   {
    "duration": 43,
    "start_time": "2021-11-29T10:47:32.218Z"
   },
   {
    "duration": 58,
    "start_time": "2021-11-29T10:47:32.263Z"
   },
   {
    "duration": 24,
    "start_time": "2021-11-29T10:47:32.322Z"
   },
   {
    "duration": 46,
    "start_time": "2021-11-29T10:47:32.348Z"
   },
   {
    "duration": 70,
    "start_time": "2021-11-29T10:47:32.395Z"
   },
   {
    "duration": 7,
    "start_time": "2021-11-29T10:47:32.466Z"
   },
   {
    "duration": 51,
    "start_time": "2021-11-29T10:47:32.474Z"
   },
   {
    "duration": 14,
    "start_time": "2021-11-29T10:47:32.527Z"
   },
   {
    "duration": 25,
    "start_time": "2021-11-29T10:47:32.543Z"
   },
   {
    "duration": 12,
    "start_time": "2021-11-29T10:47:32.572Z"
   },
   {
    "duration": 46,
    "start_time": "2021-11-29T10:47:32.586Z"
   },
   {
    "duration": 7,
    "start_time": "2021-11-29T10:47:32.633Z"
   },
   {
    "duration": 25,
    "start_time": "2021-11-29T10:47:32.641Z"
   },
   {
    "duration": 34,
    "start_time": "2021-11-29T10:47:32.667Z"
   },
   {
    "duration": 46,
    "start_time": "2021-11-29T10:47:32.702Z"
   },
   {
    "duration": 42,
    "start_time": "2021-11-29T10:47:32.750Z"
   },
   {
    "duration": 21,
    "start_time": "2021-11-29T10:47:32.793Z"
   },
   {
    "duration": 26,
    "start_time": "2021-11-29T10:47:32.816Z"
   },
   {
    "duration": 25,
    "start_time": "2021-11-29T10:47:32.844Z"
   },
   {
    "duration": 59,
    "start_time": "2021-11-29T10:47:32.871Z"
   },
   {
    "duration": 270,
    "start_time": "2021-11-29T10:47:36.356Z"
   },
   {
    "duration": 283,
    "start_time": "2021-11-29T10:48:07.170Z"
   },
   {
    "duration": 300,
    "start_time": "2021-11-29T10:52:13.597Z"
   },
   {
    "duration": 271,
    "start_time": "2021-11-29T10:54:04.841Z"
   },
   {
    "duration": 38,
    "start_time": "2021-11-29T10:54:20.625Z"
   },
   {
    "duration": 10,
    "start_time": "2021-11-29T10:54:28.055Z"
   },
   {
    "duration": 13,
    "start_time": "2021-11-29T10:54:40.011Z"
   },
   {
    "duration": 272,
    "start_time": "2021-11-29T10:55:05.764Z"
   },
   {
    "duration": 37,
    "start_time": "2021-11-29T10:55:15.342Z"
   },
   {
    "duration": 278,
    "start_time": "2021-11-29T10:55:20.422Z"
   },
   {
    "duration": 300,
    "start_time": "2021-11-29T10:55:29.170Z"
   },
   {
    "duration": 290,
    "start_time": "2021-11-29T10:56:11.444Z"
   },
   {
    "duration": 164,
    "start_time": "2021-11-29T10:56:18.188Z"
   },
   {
    "duration": 30,
    "start_time": "2021-11-29T10:56:18.354Z"
   },
   {
    "duration": 15,
    "start_time": "2021-11-29T10:56:18.386Z"
   },
   {
    "duration": 57,
    "start_time": "2021-11-29T10:56:18.403Z"
   },
   {
    "duration": 36,
    "start_time": "2021-11-29T10:56:18.462Z"
   },
   {
    "duration": 158,
    "start_time": "2021-11-29T10:56:18.500Z"
   },
   {
    "duration": 21,
    "start_time": "2021-11-29T10:56:18.660Z"
   },
   {
    "duration": 24,
    "start_time": "2021-11-29T10:56:18.683Z"
   },
   {
    "duration": 51,
    "start_time": "2021-11-29T10:56:18.710Z"
   },
   {
    "duration": 25,
    "start_time": "2021-11-29T10:56:18.763Z"
   },
   {
    "duration": 137,
    "start_time": "2021-11-29T10:56:18.790Z"
   },
   {
    "duration": 29,
    "start_time": "2021-11-29T10:56:18.929Z"
   },
   {
    "duration": 14,
    "start_time": "2021-11-29T10:56:18.959Z"
   },
   {
    "duration": 46,
    "start_time": "2021-11-29T10:56:18.974Z"
   },
   {
    "duration": 36,
    "start_time": "2021-11-29T10:56:19.022Z"
   },
   {
    "duration": 16,
    "start_time": "2021-11-29T10:56:19.060Z"
   },
   {
    "duration": 61,
    "start_time": "2021-11-29T10:56:19.079Z"
   },
   {
    "duration": 64,
    "start_time": "2021-11-29T10:56:19.142Z"
   },
   {
    "duration": 29,
    "start_time": "2021-11-29T10:56:19.208Z"
   },
   {
    "duration": 44,
    "start_time": "2021-11-29T10:56:19.240Z"
   },
   {
    "duration": 14,
    "start_time": "2021-11-29T10:56:19.286Z"
   },
   {
    "duration": 52,
    "start_time": "2021-11-29T10:56:19.302Z"
   },
   {
    "duration": 32,
    "start_time": "2021-11-29T10:56:19.357Z"
   },
   {
    "duration": 80,
    "start_time": "2021-11-29T10:56:19.392Z"
   },
   {
    "duration": 9,
    "start_time": "2021-11-29T10:56:19.474Z"
   },
   {
    "duration": 41,
    "start_time": "2021-11-29T10:56:19.485Z"
   },
   {
    "duration": 28,
    "start_time": "2021-11-29T10:56:19.530Z"
   },
   {
    "duration": 31,
    "start_time": "2021-11-29T10:56:19.560Z"
   },
   {
    "duration": 34,
    "start_time": "2021-11-29T10:56:19.592Z"
   },
   {
    "duration": 32,
    "start_time": "2021-11-29T10:56:19.627Z"
   },
   {
    "duration": 63,
    "start_time": "2021-11-29T10:56:19.661Z"
   },
   {
    "duration": 88,
    "start_time": "2021-11-29T10:56:19.726Z"
   },
   {
    "duration": 78,
    "start_time": "2021-11-29T10:56:19.815Z"
   },
   {
    "duration": 9,
    "start_time": "2021-11-29T10:56:23.413Z"
   },
   {
    "duration": 11,
    "start_time": "2021-11-29T10:56:37.973Z"
   },
   {
    "duration": 3,
    "start_time": "2021-11-29T10:58:09.708Z"
   },
   {
    "duration": 779,
    "start_time": "2021-11-29T10:58:22.946Z"
   },
   {
    "duration": 30,
    "start_time": "2021-11-29T10:58:23.727Z"
   },
   {
    "duration": 15,
    "start_time": "2021-11-29T10:58:23.759Z"
   },
   {
    "duration": 27,
    "start_time": "2021-11-29T10:58:23.776Z"
   },
   {
    "duration": 51,
    "start_time": "2021-11-29T10:58:23.805Z"
   },
   {
    "duration": 142,
    "start_time": "2021-11-29T10:58:23.858Z"
   },
   {
    "duration": 22,
    "start_time": "2021-11-29T10:58:24.002Z"
   },
   {
    "duration": 32,
    "start_time": "2021-11-29T10:58:24.027Z"
   },
   {
    "duration": 32,
    "start_time": "2021-11-29T10:58:24.062Z"
   },
   {
    "duration": 27,
    "start_time": "2021-11-29T10:58:24.096Z"
   },
   {
    "duration": 121,
    "start_time": "2021-11-29T10:58:24.124Z"
   },
   {
    "duration": 20,
    "start_time": "2021-11-29T10:58:24.247Z"
   },
   {
    "duration": 13,
    "start_time": "2021-11-29T10:58:24.269Z"
   },
   {
    "duration": 15,
    "start_time": "2021-11-29T10:58:24.284Z"
   },
   {
    "duration": 55,
    "start_time": "2021-11-29T10:58:24.301Z"
   },
   {
    "duration": 14,
    "start_time": "2021-11-29T10:58:24.357Z"
   },
   {
    "duration": 16,
    "start_time": "2021-11-29T10:58:24.373Z"
   },
   {
    "duration": 37,
    "start_time": "2021-11-29T10:58:24.391Z"
   },
   {
    "duration": 17,
    "start_time": "2021-11-29T10:58:24.430Z"
   },
   {
    "duration": 31,
    "start_time": "2021-11-29T10:58:24.450Z"
   },
   {
    "duration": 14,
    "start_time": "2021-11-29T10:58:24.483Z"
   },
   {
    "duration": 25,
    "start_time": "2021-11-29T10:58:24.499Z"
   },
   {
    "duration": 19,
    "start_time": "2021-11-29T10:58:24.527Z"
   },
   {
    "duration": 32,
    "start_time": "2021-11-29T10:58:24.548Z"
   },
   {
    "duration": 7,
    "start_time": "2021-11-29T10:58:24.582Z"
   },
   {
    "duration": 11,
    "start_time": "2021-11-29T10:58:24.591Z"
   },
   {
    "duration": 15,
    "start_time": "2021-11-29T10:58:24.604Z"
   },
   {
    "duration": 7,
    "start_time": "2021-11-29T10:58:24.645Z"
   },
   {
    "duration": 28,
    "start_time": "2021-11-29T10:58:24.654Z"
   },
   {
    "duration": 17,
    "start_time": "2021-11-29T10:58:24.684Z"
   },
   {
    "duration": 20,
    "start_time": "2021-11-29T10:58:24.703Z"
   },
   {
    "duration": 19,
    "start_time": "2021-11-29T10:58:24.744Z"
   },
   {
    "duration": 50,
    "start_time": "2021-11-29T10:58:24.766Z"
   },
   {
    "duration": 3,
    "start_time": "2021-11-29T10:58:24.818Z"
   },
   {
    "duration": 28,
    "start_time": "2021-11-29T10:58:24.824Z"
   },
   {
    "duration": 363,
    "start_time": "2021-11-29T10:58:35.026Z"
   },
   {
    "duration": 172,
    "start_time": "2021-11-29T10:58:47.972Z"
   },
   {
    "duration": 28,
    "start_time": "2021-11-29T10:58:48.146Z"
   },
   {
    "duration": 15,
    "start_time": "2021-11-29T10:58:48.176Z"
   },
   {
    "duration": 51,
    "start_time": "2021-11-29T10:58:48.193Z"
   },
   {
    "duration": 33,
    "start_time": "2021-11-29T10:58:48.246Z"
   },
   {
    "duration": 155,
    "start_time": "2021-11-29T10:58:48.281Z"
   },
   {
    "duration": 27,
    "start_time": "2021-11-29T10:58:48.438Z"
   },
   {
    "duration": 21,
    "start_time": "2021-11-29T10:58:48.468Z"
   },
   {
    "duration": 53,
    "start_time": "2021-11-29T10:58:48.492Z"
   },
   {
    "duration": 25,
    "start_time": "2021-11-29T10:58:48.547Z"
   },
   {
    "duration": 106,
    "start_time": "2021-11-29T10:58:48.574Z"
   },
   {
    "duration": 20,
    "start_time": "2021-11-29T10:58:48.681Z"
   },
   {
    "duration": 12,
    "start_time": "2021-11-29T10:58:48.703Z"
   },
   {
    "duration": 35,
    "start_time": "2021-11-29T10:58:48.717Z"
   },
   {
    "duration": 26,
    "start_time": "2021-11-29T10:58:48.754Z"
   },
   {
    "duration": 13,
    "start_time": "2021-11-29T10:58:48.782Z"
   },
   {
    "duration": 14,
    "start_time": "2021-11-29T10:58:48.797Z"
   },
   {
    "duration": 45,
    "start_time": "2021-11-29T10:58:48.812Z"
   },
   {
    "duration": 6,
    "start_time": "2021-11-29T10:58:48.859Z"
   },
   {
    "duration": 38,
    "start_time": "2021-11-29T10:58:48.867Z"
   },
   {
    "duration": 15,
    "start_time": "2021-11-29T10:58:48.907Z"
   },
   {
    "duration": 31,
    "start_time": "2021-11-29T10:58:48.924Z"
   },
   {
    "duration": 24,
    "start_time": "2021-11-29T10:58:48.958Z"
   },
   {
    "duration": 32,
    "start_time": "2021-11-29T10:58:48.984Z"
   },
   {
    "duration": 7,
    "start_time": "2021-11-29T10:58:49.017Z"
   },
   {
    "duration": 26,
    "start_time": "2021-11-29T10:58:49.026Z"
   },
   {
    "duration": 22,
    "start_time": "2021-11-29T10:58:49.054Z"
   },
   {
    "duration": 25,
    "start_time": "2021-11-29T10:58:49.078Z"
   },
   {
    "duration": 23,
    "start_time": "2021-11-29T10:58:49.104Z"
   },
   {
    "duration": 23,
    "start_time": "2021-11-29T10:58:49.129Z"
   },
   {
    "duration": 36,
    "start_time": "2021-11-29T10:58:49.154Z"
   },
   {
    "duration": 20,
    "start_time": "2021-11-29T10:58:49.192Z"
   },
   {
    "duration": 61,
    "start_time": "2021-11-29T10:58:49.214Z"
   },
   {
    "duration": 9,
    "start_time": "2021-11-29T10:58:55.814Z"
   },
   {
    "duration": 177,
    "start_time": "2021-11-29T10:59:08.687Z"
   },
   {
    "duration": 29,
    "start_time": "2021-11-29T10:59:08.866Z"
   },
   {
    "duration": 16,
    "start_time": "2021-11-29T10:59:08.897Z"
   },
   {
    "duration": 52,
    "start_time": "2021-11-29T10:59:08.915Z"
   },
   {
    "duration": 32,
    "start_time": "2021-11-29T10:59:08.969Z"
   },
   {
    "duration": 148,
    "start_time": "2021-11-29T10:59:09.003Z"
   },
   {
    "duration": 21,
    "start_time": "2021-11-29T10:59:09.153Z"
   },
   {
    "duration": 19,
    "start_time": "2021-11-29T10:59:09.176Z"
   },
   {
    "duration": 52,
    "start_time": "2021-11-29T10:59:09.197Z"
   },
   {
    "duration": 25,
    "start_time": "2021-11-29T10:59:09.251Z"
   },
   {
    "duration": 107,
    "start_time": "2021-11-29T10:59:09.277Z"
   },
   {
    "duration": 19,
    "start_time": "2021-11-29T10:59:09.386Z"
   },
   {
    "duration": 13,
    "start_time": "2021-11-29T10:59:09.407Z"
   },
   {
    "duration": 31,
    "start_time": "2021-11-29T10:59:09.422Z"
   },
   {
    "duration": 24,
    "start_time": "2021-11-29T10:59:09.455Z"
   },
   {
    "duration": 20,
    "start_time": "2021-11-29T10:59:09.481Z"
   },
   {
    "duration": 18,
    "start_time": "2021-11-29T10:59:09.503Z"
   },
   {
    "duration": 36,
    "start_time": "2021-11-29T10:59:09.545Z"
   },
   {
    "duration": 8,
    "start_time": "2021-11-29T10:59:09.583Z"
   },
   {
    "duration": 27,
    "start_time": "2021-11-29T10:59:09.593Z"
   },
   {
    "duration": 15,
    "start_time": "2021-11-29T10:59:09.622Z"
   },
   {
    "duration": 35,
    "start_time": "2021-11-29T10:59:09.638Z"
   },
   {
    "duration": 4,
    "start_time": "2021-11-29T10:59:09.676Z"
   },
   {
    "duration": 37,
    "start_time": "2021-11-29T10:59:09.682Z"
   },
   {
    "duration": 6,
    "start_time": "2021-11-29T10:59:09.721Z"
   },
   {
    "duration": 36,
    "start_time": "2021-11-29T10:59:09.729Z"
   },
   {
    "duration": 37,
    "start_time": "2021-11-29T10:59:09.767Z"
   },
   {
    "duration": 35,
    "start_time": "2021-11-29T10:59:09.806Z"
   },
   {
    "duration": 53,
    "start_time": "2021-11-29T10:59:09.843Z"
   },
   {
    "duration": 26,
    "start_time": "2021-11-29T10:59:09.898Z"
   },
   {
    "duration": 34,
    "start_time": "2021-11-29T10:59:09.926Z"
   },
   {
    "duration": 44,
    "start_time": "2021-11-29T10:59:09.962Z"
   },
   {
    "duration": 64,
    "start_time": "2021-11-29T10:59:10.007Z"
   },
   {
    "duration": 9,
    "start_time": "2021-11-29T10:59:15.251Z"
   },
   {
    "duration": 8,
    "start_time": "2021-11-29T10:59:28.175Z"
   },
   {
    "duration": 289,
    "start_time": "2021-11-29T11:00:49.412Z"
   },
   {
    "duration": 264,
    "start_time": "2021-11-29T11:00:59.587Z"
   },
   {
    "duration": 18,
    "start_time": "2021-11-29T11:02:08.478Z"
   },
   {
    "duration": 16,
    "start_time": "2021-11-29T11:02:35.247Z"
   },
   {
    "duration": 780,
    "start_time": "2021-11-29T11:23:23.036Z"
   },
   {
    "duration": 39,
    "start_time": "2021-11-29T11:23:23.818Z"
   },
   {
    "duration": 16,
    "start_time": "2021-11-29T11:23:23.859Z"
   },
   {
    "duration": 40,
    "start_time": "2021-11-29T11:23:23.877Z"
   },
   {
    "duration": 49,
    "start_time": "2021-11-29T11:23:23.919Z"
   },
   {
    "duration": 143,
    "start_time": "2021-11-29T11:23:23.969Z"
   },
   {
    "duration": 21,
    "start_time": "2021-11-29T11:23:24.114Z"
   },
   {
    "duration": 51,
    "start_time": "2021-11-29T11:23:24.137Z"
   },
   {
    "duration": 58,
    "start_time": "2021-11-29T11:23:24.191Z"
   },
   {
    "duration": 31,
    "start_time": "2021-11-29T11:23:24.251Z"
   },
   {
    "duration": 109,
    "start_time": "2021-11-29T11:23:24.284Z"
   },
   {
    "duration": 21,
    "start_time": "2021-11-29T11:23:24.395Z"
   },
   {
    "duration": 39,
    "start_time": "2021-11-29T11:23:24.418Z"
   },
   {
    "duration": 29,
    "start_time": "2021-11-29T11:23:24.459Z"
   },
   {
    "duration": 56,
    "start_time": "2021-11-29T11:23:24.490Z"
   },
   {
    "duration": 24,
    "start_time": "2021-11-29T11:23:24.548Z"
   },
   {
    "duration": 50,
    "start_time": "2021-11-29T11:23:24.574Z"
   },
   {
    "duration": 58,
    "start_time": "2021-11-29T11:23:24.626Z"
   },
   {
    "duration": 28,
    "start_time": "2021-11-29T11:23:24.685Z"
   },
   {
    "duration": 44,
    "start_time": "2021-11-29T11:23:24.715Z"
   },
   {
    "duration": 37,
    "start_time": "2021-11-29T11:23:24.761Z"
   },
   {
    "duration": 36,
    "start_time": "2021-11-29T11:23:24.800Z"
   },
   {
    "duration": 29,
    "start_time": "2021-11-29T11:23:24.837Z"
   },
   {
    "duration": 61,
    "start_time": "2021-11-29T11:23:24.868Z"
   },
   {
    "duration": 6,
    "start_time": "2021-11-29T11:23:24.932Z"
   },
   {
    "duration": 28,
    "start_time": "2021-11-29T11:23:24.940Z"
   },
   {
    "duration": 34,
    "start_time": "2021-11-29T11:23:24.971Z"
   },
   {
    "duration": 21,
    "start_time": "2021-11-29T11:23:25.007Z"
   },
   {
    "duration": 51,
    "start_time": "2021-11-29T11:23:25.030Z"
   },
   {
    "duration": 18,
    "start_time": "2021-11-29T11:23:25.083Z"
   },
   {
    "duration": 25,
    "start_time": "2021-11-29T11:23:25.103Z"
   },
   {
    "duration": 47,
    "start_time": "2021-11-29T11:23:25.129Z"
   },
   {
    "duration": 41,
    "start_time": "2021-11-29T11:23:25.178Z"
   },
   {
    "duration": 7,
    "start_time": "2021-11-29T11:23:25.221Z"
   },
   {
    "duration": 43,
    "start_time": "2021-11-29T11:23:25.230Z"
   },
   {
    "duration": 36,
    "start_time": "2021-11-29T11:23:25.275Z"
   },
   {
    "duration": 10,
    "start_time": "2021-11-29T11:30:07.471Z"
   },
   {
    "duration": 8113,
    "start_time": "2021-11-29T12:12:00.177Z"
   },
   {
    "duration": 21,
    "start_time": "2021-11-29T12:13:11.403Z"
   },
   {
    "duration": 179,
    "start_time": "2021-11-29T12:13:27.910Z"
   },
   {
    "duration": 28,
    "start_time": "2021-11-29T12:13:28.090Z"
   },
   {
    "duration": 36,
    "start_time": "2021-11-29T12:13:28.120Z"
   },
   {
    "duration": 29,
    "start_time": "2021-11-29T12:13:28.158Z"
   },
   {
    "duration": 32,
    "start_time": "2021-11-29T12:13:28.189Z"
   },
   {
    "duration": 156,
    "start_time": "2021-11-29T12:13:28.222Z"
   },
   {
    "duration": 21,
    "start_time": "2021-11-29T12:13:28.379Z"
   },
   {
    "duration": 20,
    "start_time": "2021-11-29T12:13:28.402Z"
   },
   {
    "duration": 47,
    "start_time": "2021-11-29T12:13:28.425Z"
   },
   {
    "duration": 25,
    "start_time": "2021-11-29T12:13:28.474Z"
   },
   {
    "duration": 109,
    "start_time": "2021-11-29T12:13:28.500Z"
   },
   {
    "duration": 18,
    "start_time": "2021-11-29T12:13:28.611Z"
   },
   {
    "duration": 31,
    "start_time": "2021-11-29T12:13:28.630Z"
   },
   {
    "duration": 15,
    "start_time": "2021-11-29T12:13:28.663Z"
   },
   {
    "duration": 27,
    "start_time": "2021-11-29T12:13:28.680Z"
   },
   {
    "duration": 15,
    "start_time": "2021-11-29T12:13:28.709Z"
   },
   {
    "duration": 37,
    "start_time": "2021-11-29T12:13:28.726Z"
   },
   {
    "duration": 39,
    "start_time": "2021-11-29T12:13:28.765Z"
   },
   {
    "duration": 6,
    "start_time": "2021-11-29T12:13:28.805Z"
   },
   {
    "duration": 65,
    "start_time": "2021-11-29T12:13:28.813Z"
   },
   {
    "duration": 16,
    "start_time": "2021-11-29T12:13:28.879Z"
   },
   {
    "duration": 31,
    "start_time": "2021-11-29T12:13:28.897Z"
   },
   {
    "duration": 31,
    "start_time": "2021-11-29T12:13:28.929Z"
   },
   {
    "duration": 45,
    "start_time": "2021-11-29T12:13:28.962Z"
   },
   {
    "duration": 7,
    "start_time": "2021-11-29T12:13:29.008Z"
   },
   {
    "duration": 22,
    "start_time": "2021-11-29T12:13:29.016Z"
   },
   {
    "duration": 28,
    "start_time": "2021-11-29T12:13:29.041Z"
   },
   {
    "duration": 10,
    "start_time": "2021-11-29T12:13:29.071Z"
   },
   {
    "duration": 48,
    "start_time": "2021-11-29T12:13:29.083Z"
   },
   {
    "duration": 9,
    "start_time": "2021-11-29T12:13:29.133Z"
   },
   {
    "duration": 27,
    "start_time": "2021-11-29T12:13:29.144Z"
   },
   {
    "duration": 26,
    "start_time": "2021-11-29T12:13:29.173Z"
   },
   {
    "duration": 29,
    "start_time": "2021-11-29T12:13:29.201Z"
   },
   {
    "duration": 45,
    "start_time": "2021-11-29T12:13:29.232Z"
   },
   {
    "duration": 8,
    "start_time": "2021-11-29T12:13:29.279Z"
   },
   {
    "duration": 29,
    "start_time": "2021-11-29T12:13:29.289Z"
   },
   {
    "duration": 50,
    "start_time": "2021-11-29T12:13:29.320Z"
   },
   {
    "duration": 315,
    "start_time": "2021-11-29T12:13:37.053Z"
   },
   {
    "duration": 327,
    "start_time": "2021-11-29T12:14:46.000Z"
   },
   {
    "duration": 7,
    "start_time": "2021-11-29T12:15:20.244Z"
   },
   {
    "duration": 7,
    "start_time": "2021-11-29T12:16:13.854Z"
   },
   {
    "duration": 185,
    "start_time": "2021-11-29T12:16:24.935Z"
   },
   {
    "duration": 48,
    "start_time": "2021-11-29T12:16:25.122Z"
   },
   {
    "duration": 16,
    "start_time": "2021-11-29T12:16:25.172Z"
   },
   {
    "duration": 50,
    "start_time": "2021-11-29T12:16:25.190Z"
   },
   {
    "duration": 35,
    "start_time": "2021-11-29T12:16:25.242Z"
   },
   {
    "duration": 151,
    "start_time": "2021-11-29T12:16:25.279Z"
   },
   {
    "duration": 32,
    "start_time": "2021-11-29T12:16:25.432Z"
   },
   {
    "duration": 19,
    "start_time": "2021-11-29T12:16:25.466Z"
   },
   {
    "duration": 31,
    "start_time": "2021-11-29T12:16:25.488Z"
   },
   {
    "duration": 30,
    "start_time": "2021-11-29T12:16:25.544Z"
   },
   {
    "duration": 117,
    "start_time": "2021-11-29T12:16:25.577Z"
   },
   {
    "duration": 20,
    "start_time": "2021-11-29T12:16:25.695Z"
   },
   {
    "duration": 33,
    "start_time": "2021-11-29T12:16:25.717Z"
   },
   {
    "duration": 17,
    "start_time": "2021-11-29T12:16:25.752Z"
   },
   {
    "duration": 30,
    "start_time": "2021-11-29T12:16:25.771Z"
   },
   {
    "duration": 16,
    "start_time": "2021-11-29T12:16:25.802Z"
   },
   {
    "duration": 33,
    "start_time": "2021-11-29T12:16:25.820Z"
   },
   {
    "duration": 58,
    "start_time": "2021-11-29T12:16:25.855Z"
   },
   {
    "duration": 22,
    "start_time": "2021-11-29T12:16:25.915Z"
   },
   {
    "duration": 66,
    "start_time": "2021-11-29T12:16:25.938Z"
   },
   {
    "duration": 20,
    "start_time": "2021-11-29T12:16:26.005Z"
   },
   {
    "duration": 56,
    "start_time": "2021-11-29T12:16:26.027Z"
   },
   {
    "duration": 72,
    "start_time": "2021-11-29T12:16:26.085Z"
   },
   {
    "duration": 41,
    "start_time": "2021-11-29T12:16:26.159Z"
   },
   {
    "duration": 5,
    "start_time": "2021-11-29T12:16:26.202Z"
   },
   {
    "duration": 48,
    "start_time": "2021-11-29T12:16:26.209Z"
   },
   {
    "duration": 19,
    "start_time": "2021-11-29T12:16:26.260Z"
   },
   {
    "duration": 27,
    "start_time": "2021-11-29T12:16:26.281Z"
   },
   {
    "duration": 27,
    "start_time": "2021-11-29T12:16:26.310Z"
   },
   {
    "duration": 13,
    "start_time": "2021-11-29T12:16:26.338Z"
   },
   {
    "duration": 32,
    "start_time": "2021-11-29T12:16:26.352Z"
   },
   {
    "duration": 26,
    "start_time": "2021-11-29T12:16:26.386Z"
   },
   {
    "duration": 47,
    "start_time": "2021-11-29T12:16:26.413Z"
   },
   {
    "duration": 57,
    "start_time": "2021-11-29T12:16:26.461Z"
   },
   {
    "duration": 29,
    "start_time": "2021-11-29T12:16:26.519Z"
   },
   {
    "duration": 45,
    "start_time": "2021-11-29T12:16:26.550Z"
   },
   {
    "duration": 57,
    "start_time": "2021-11-29T12:16:26.597Z"
   },
   {
    "duration": 291,
    "start_time": "2021-11-29T12:16:30.395Z"
   },
   {
    "duration": 319,
    "start_time": "2021-11-29T12:16:40.041Z"
   },
   {
    "duration": 323,
    "start_time": "2021-11-29T12:18:24.308Z"
   },
   {
    "duration": 87,
    "start_time": "2021-11-29T12:40:36.314Z"
   },
   {
    "duration": 240,
    "start_time": "2021-11-29T12:41:50.672Z"
   },
   {
    "duration": 260,
    "start_time": "2021-11-29T12:42:48.196Z"
   },
   {
    "duration": 440,
    "start_time": "2021-11-29T12:46:45.547Z"
   },
   {
    "duration": 190,
    "start_time": "2021-11-29T14:04:16.043Z"
   },
   {
    "duration": 29,
    "start_time": "2021-11-29T14:04:16.243Z"
   },
   {
    "duration": 17,
    "start_time": "2021-11-29T14:04:16.274Z"
   },
   {
    "duration": 35,
    "start_time": "2021-11-29T14:04:16.293Z"
   },
   {
    "duration": 47,
    "start_time": "2021-11-29T14:04:16.330Z"
   },
   {
    "duration": 171,
    "start_time": "2021-11-29T14:04:16.379Z"
   },
   {
    "duration": 20,
    "start_time": "2021-11-29T14:04:16.552Z"
   },
   {
    "duration": 21,
    "start_time": "2021-11-29T14:04:16.576Z"
   },
   {
    "duration": 50,
    "start_time": "2021-11-29T14:04:16.599Z"
   },
   {
    "duration": 26,
    "start_time": "2021-11-29T14:04:16.650Z"
   },
   {
    "duration": 107,
    "start_time": "2021-11-29T14:04:16.678Z"
   },
   {
    "duration": 18,
    "start_time": "2021-11-29T14:04:16.787Z"
   },
   {
    "duration": 12,
    "start_time": "2021-11-29T14:04:16.807Z"
   },
   {
    "duration": 36,
    "start_time": "2021-11-29T14:04:16.821Z"
   },
   {
    "duration": 22,
    "start_time": "2021-11-29T14:04:16.859Z"
   },
   {
    "duration": 13,
    "start_time": "2021-11-29T14:04:16.883Z"
   },
   {
    "duration": 34,
    "start_time": "2021-11-29T14:04:16.897Z"
   },
   {
    "duration": 66,
    "start_time": "2021-11-29T14:04:16.933Z"
   },
   {
    "duration": 8,
    "start_time": "2021-11-29T14:04:17.001Z"
   },
   {
    "duration": 45,
    "start_time": "2021-11-29T14:04:17.010Z"
   },
   {
    "duration": 47,
    "start_time": "2021-11-29T14:04:17.057Z"
   },
   {
    "duration": 35,
    "start_time": "2021-11-29T14:04:17.105Z"
   },
   {
    "duration": 16,
    "start_time": "2021-11-29T14:04:17.144Z"
   },
   {
    "duration": 76,
    "start_time": "2021-11-29T14:04:17.162Z"
   },
   {
    "duration": 20,
    "start_time": "2021-11-29T14:04:17.241Z"
   },
   {
    "duration": 20,
    "start_time": "2021-11-29T14:04:17.262Z"
   },
   {
    "duration": 31,
    "start_time": "2021-11-29T14:04:17.284Z"
   },
   {
    "duration": 8,
    "start_time": "2021-11-29T14:04:17.317Z"
   },
   {
    "duration": 24,
    "start_time": "2021-11-29T14:04:17.327Z"
   },
   {
    "duration": 9,
    "start_time": "2021-11-29T14:04:17.353Z"
   },
   {
    "duration": 13,
    "start_time": "2021-11-29T14:04:17.363Z"
   },
   {
    "duration": 12,
    "start_time": "2021-11-29T14:04:17.377Z"
   },
   {
    "duration": 6,
    "start_time": "2021-11-29T14:04:17.391Z"
   },
   {
    "duration": 62,
    "start_time": "2021-11-29T14:04:17.398Z"
   },
   {
    "duration": 7,
    "start_time": "2021-11-29T14:04:17.462Z"
   },
   {
    "duration": 17,
    "start_time": "2021-11-29T14:04:17.471Z"
   },
   {
    "duration": 26,
    "start_time": "2021-11-29T14:04:17.489Z"
   },
   {
    "duration": 208,
    "start_time": "2021-11-29T14:04:33.916Z"
   },
   {
    "duration": 214,
    "start_time": "2021-11-29T14:05:01.451Z"
   },
   {
    "duration": 7,
    "start_time": "2021-11-29T14:12:21.670Z"
   },
   {
    "duration": 70,
    "start_time": "2021-11-29T14:19:18.917Z"
   },
   {
    "duration": 14,
    "start_time": "2021-11-29T14:25:02.837Z"
   },
   {
    "duration": 11,
    "start_time": "2021-11-29T14:33:48.420Z"
   },
   {
    "duration": 11,
    "start_time": "2021-11-29T14:38:23.587Z"
   },
   {
    "duration": 11,
    "start_time": "2021-11-29T14:38:42.322Z"
   },
   {
    "duration": 8,
    "start_time": "2021-11-29T14:41:12.229Z"
   },
   {
    "duration": 330,
    "start_time": "2021-11-29T14:50:28.207Z"
   },
   {
    "duration": 12,
    "start_time": "2021-11-29T14:50:58.009Z"
   },
   {
    "duration": 10,
    "start_time": "2021-11-29T14:51:14.505Z"
   },
   {
    "duration": 10,
    "start_time": "2021-11-29T14:51:38.182Z"
   },
   {
    "duration": 7,
    "start_time": "2021-11-29T14:54:03.716Z"
   },
   {
    "duration": 4,
    "start_time": "2021-11-29T14:57:41.537Z"
   },
   {
    "duration": 8,
    "start_time": "2021-11-29T14:57:53.761Z"
   },
   {
    "duration": 9,
    "start_time": "2021-11-29T14:58:23.889Z"
   },
   {
    "duration": 7,
    "start_time": "2021-11-29T15:02:23.343Z"
   },
   {
    "duration": 8,
    "start_time": "2021-11-29T15:03:30.319Z"
   },
   {
    "duration": 12,
    "start_time": "2021-11-29T15:04:24.415Z"
   },
   {
    "duration": 7,
    "start_time": "2021-11-29T15:05:37.544Z"
   },
   {
    "duration": 6,
    "start_time": "2021-11-29T15:06:04.653Z"
   },
   {
    "duration": 8,
    "start_time": "2021-11-29T15:09:45.624Z"
   },
   {
    "duration": 7,
    "start_time": "2021-11-29T15:10:20.474Z"
   },
   {
    "duration": 8,
    "start_time": "2021-11-29T15:10:31.249Z"
   },
   {
    "duration": 5,
    "start_time": "2021-11-29T15:25:29.506Z"
   },
   {
    "duration": 168,
    "start_time": "2021-11-29T15:25:36.751Z"
   },
   {
    "duration": 44,
    "start_time": "2021-11-29T15:25:36.920Z"
   },
   {
    "duration": 17,
    "start_time": "2021-11-29T15:25:36.965Z"
   },
   {
    "duration": 33,
    "start_time": "2021-11-29T15:25:36.983Z"
   },
   {
    "duration": 43,
    "start_time": "2021-11-29T15:25:37.017Z"
   },
   {
    "duration": 137,
    "start_time": "2021-11-29T15:25:37.062Z"
   },
   {
    "duration": 23,
    "start_time": "2021-11-29T15:25:37.201Z"
   },
   {
    "duration": 17,
    "start_time": "2021-11-29T15:25:37.243Z"
   },
   {
    "duration": 39,
    "start_time": "2021-11-29T15:25:37.262Z"
   },
   {
    "duration": 25,
    "start_time": "2021-11-29T15:25:37.302Z"
   },
   {
    "duration": 99,
    "start_time": "2021-11-29T15:25:37.328Z"
   },
   {
    "duration": 27,
    "start_time": "2021-11-29T15:25:37.428Z"
   },
   {
    "duration": 12,
    "start_time": "2021-11-29T15:25:37.456Z"
   },
   {
    "duration": 16,
    "start_time": "2021-11-29T15:25:37.470Z"
   },
   {
    "duration": 23,
    "start_time": "2021-11-29T15:25:37.487Z"
   },
   {
    "duration": 38,
    "start_time": "2021-11-29T15:25:37.512Z"
   },
   {
    "duration": 13,
    "start_time": "2021-11-29T15:25:37.552Z"
   },
   {
    "duration": 47,
    "start_time": "2021-11-29T15:25:37.566Z"
   },
   {
    "duration": 16,
    "start_time": "2021-11-29T15:25:37.614Z"
   },
   {
    "duration": 24,
    "start_time": "2021-11-29T15:25:37.632Z"
   },
   {
    "duration": 12,
    "start_time": "2021-11-29T15:25:37.657Z"
   },
   {
    "duration": 24,
    "start_time": "2021-11-29T15:25:37.671Z"
   },
   {
    "duration": 4,
    "start_time": "2021-11-29T15:25:37.699Z"
   },
   {
    "duration": 28,
    "start_time": "2021-11-29T15:25:37.705Z"
   },
   {
    "duration": 15,
    "start_time": "2021-11-29T15:25:37.734Z"
   },
   {
    "duration": 37,
    "start_time": "2021-11-29T15:25:37.750Z"
   },
   {
    "duration": 39,
    "start_time": "2021-11-29T15:25:37.789Z"
   },
   {
    "duration": 18,
    "start_time": "2021-11-29T15:25:37.829Z"
   },
   {
    "duration": 26,
    "start_time": "2021-11-29T15:25:37.849Z"
   },
   {
    "duration": 29,
    "start_time": "2021-11-29T15:25:37.877Z"
   },
   {
    "duration": 17,
    "start_time": "2021-11-29T15:25:37.907Z"
   },
   {
    "duration": 33,
    "start_time": "2021-11-29T15:25:37.926Z"
   },
   {
    "duration": 15,
    "start_time": "2021-11-29T15:25:37.960Z"
   },
   {
    "duration": 44,
    "start_time": "2021-11-29T15:25:37.977Z"
   },
   {
    "duration": 8,
    "start_time": "2021-11-29T15:25:38.022Z"
   },
   {
    "duration": 16,
    "start_time": "2021-11-29T15:25:38.031Z"
   },
   {
    "duration": 15,
    "start_time": "2021-11-29T15:25:38.049Z"
   },
   {
    "duration": 221,
    "start_time": "2021-11-29T15:25:38.066Z"
   },
   {
    "duration": 9,
    "start_time": "2021-11-29T15:25:38.289Z"
   },
   {
    "duration": 87,
    "start_time": "2021-11-29T15:25:38.299Z"
   },
   {
    "duration": 53,
    "start_time": "2021-11-29T15:25:38.388Z"
   },
   {
    "duration": 81,
    "start_time": "2021-11-29T15:25:38.442Z"
   },
   {
    "duration": 23,
    "start_time": "2021-11-29T15:25:38.525Z"
   },
   {
    "duration": 46,
    "start_time": "2021-11-29T15:25:38.549Z"
   },
   {
    "duration": 31,
    "start_time": "2021-11-29T15:25:38.597Z"
   },
   {
    "duration": 98,
    "start_time": "2021-11-29T15:25:38.630Z"
   },
   {
    "duration": 27,
    "start_time": "2021-11-29T15:25:38.729Z"
   },
   {
    "duration": 8,
    "start_time": "2021-11-29T15:27:54.886Z"
   },
   {
    "duration": 13,
    "start_time": "2021-11-29T15:28:35.149Z"
   },
   {
    "duration": 4,
    "start_time": "2021-11-29T15:32:42.858Z"
   },
   {
    "duration": 9,
    "start_time": "2021-11-29T15:35:54.772Z"
   },
   {
    "duration": 19,
    "start_time": "2021-11-29T15:42:59.091Z"
   },
   {
    "duration": 19,
    "start_time": "2021-11-29T15:48:29.466Z"
   },
   {
    "duration": 102,
    "start_time": "2021-11-29T16:05:35.715Z"
   },
   {
    "duration": 264,
    "start_time": "2021-11-29T16:05:59.594Z"
   },
   {
    "duration": 200,
    "start_time": "2021-11-29T16:06:19.906Z"
   },
   {
    "duration": 44,
    "start_time": "2021-11-29T16:06:20.107Z"
   },
   {
    "duration": 17,
    "start_time": "2021-11-29T16:06:20.153Z"
   },
   {
    "duration": 29,
    "start_time": "2021-11-29T16:06:20.172Z"
   },
   {
    "duration": 57,
    "start_time": "2021-11-29T16:06:20.203Z"
   },
   {
    "duration": 145,
    "start_time": "2021-11-29T16:06:20.262Z"
   },
   {
    "duration": 22,
    "start_time": "2021-11-29T16:06:20.409Z"
   },
   {
    "duration": 29,
    "start_time": "2021-11-29T16:06:20.434Z"
   },
   {
    "duration": 35,
    "start_time": "2021-11-29T16:06:20.465Z"
   },
   {
    "duration": 48,
    "start_time": "2021-11-29T16:06:20.502Z"
   },
   {
    "duration": 108,
    "start_time": "2021-11-29T16:06:20.552Z"
   },
   {
    "duration": 20,
    "start_time": "2021-11-29T16:06:20.662Z"
   },
   {
    "duration": 14,
    "start_time": "2021-11-29T16:06:20.684Z"
   },
   {
    "duration": 14,
    "start_time": "2021-11-29T16:06:20.700Z"
   },
   {
    "duration": 49,
    "start_time": "2021-11-29T16:06:20.715Z"
   },
   {
    "duration": 13,
    "start_time": "2021-11-29T16:06:20.766Z"
   },
   {
    "duration": 13,
    "start_time": "2021-11-29T16:06:20.780Z"
   },
   {
    "duration": 37,
    "start_time": "2021-11-29T16:06:20.795Z"
   },
   {
    "duration": 15,
    "start_time": "2021-11-29T16:06:20.834Z"
   },
   {
    "duration": 26,
    "start_time": "2021-11-29T16:06:20.851Z"
   },
   {
    "duration": 13,
    "start_time": "2021-11-29T16:06:20.879Z"
   },
   {
    "duration": 26,
    "start_time": "2021-11-29T16:06:20.894Z"
   },
   {
    "duration": 24,
    "start_time": "2021-11-29T16:06:20.923Z"
   },
   {
    "duration": 33,
    "start_time": "2021-11-29T16:06:20.950Z"
   },
   {
    "duration": 7,
    "start_time": "2021-11-29T16:06:20.985Z"
   },
   {
    "duration": 9,
    "start_time": "2021-11-29T16:06:20.994Z"
   },
   {
    "duration": 43,
    "start_time": "2021-11-29T16:06:21.004Z"
   },
   {
    "duration": 5,
    "start_time": "2021-11-29T16:06:21.048Z"
   },
   {
    "duration": 25,
    "start_time": "2021-11-29T16:06:21.055Z"
   },
   {
    "duration": 8,
    "start_time": "2021-11-29T16:06:21.082Z"
   },
   {
    "duration": 12,
    "start_time": "2021-11-29T16:06:21.092Z"
   },
   {
    "duration": 40,
    "start_time": "2021-11-29T16:06:21.106Z"
   },
   {
    "duration": 8,
    "start_time": "2021-11-29T16:06:21.148Z"
   },
   {
    "duration": 47,
    "start_time": "2021-11-29T16:06:21.158Z"
   },
   {
    "duration": 8,
    "start_time": "2021-11-29T16:06:21.206Z"
   },
   {
    "duration": 29,
    "start_time": "2021-11-29T16:06:21.216Z"
   },
   {
    "duration": 14,
    "start_time": "2021-11-29T16:06:21.247Z"
   },
   {
    "duration": 245,
    "start_time": "2021-11-29T16:06:21.263Z"
   },
   {
    "duration": 13,
    "start_time": "2021-11-29T16:06:21.510Z"
   },
   {
    "duration": 24,
    "start_time": "2021-11-29T16:06:21.525Z"
   },
   {
    "duration": 8,
    "start_time": "2021-11-29T16:06:21.551Z"
   },
   {
    "duration": 11,
    "start_time": "2021-11-29T16:06:21.561Z"
   },
   {
    "duration": 9,
    "start_time": "2021-11-29T16:06:21.574Z"
   },
   {
    "duration": 8,
    "start_time": "2021-11-29T16:06:21.584Z"
   },
   {
    "duration": 7,
    "start_time": "2021-11-29T16:06:21.593Z"
   },
   {
    "duration": 8,
    "start_time": "2021-11-29T16:06:21.602Z"
   },
   {
    "duration": 38,
    "start_time": "2021-11-29T16:06:21.612Z"
   },
   {
    "duration": 7,
    "start_time": "2021-11-29T16:06:21.652Z"
   },
   {
    "duration": 18,
    "start_time": "2021-11-29T16:06:21.661Z"
   },
   {
    "duration": 14,
    "start_time": "2021-11-29T16:06:25.739Z"
   },
   {
    "duration": 13,
    "start_time": "2021-11-29T16:06:43.531Z"
   },
   {
    "duration": 269,
    "start_time": "2021-11-29T16:18:18.106Z"
   },
   {
    "duration": 182,
    "start_time": "2021-11-29T16:18:56.021Z"
   },
   {
    "duration": 190,
    "start_time": "2021-11-29T16:20:40.280Z"
   },
   {
    "duration": 175,
    "start_time": "2021-11-29T16:20:47.771Z"
   },
   {
    "duration": 292,
    "start_time": "2021-11-29T16:26:22.766Z"
   },
   {
    "duration": 260,
    "start_time": "2021-11-29T16:26:32.093Z"
   },
   {
    "duration": 266,
    "start_time": "2021-11-29T16:26:43.496Z"
   },
   {
    "duration": 228,
    "start_time": "2021-11-29T16:26:58.686Z"
   },
   {
    "duration": 814,
    "start_time": "2021-11-30T02:08:45.507Z"
   },
   {
    "duration": 36,
    "start_time": "2021-11-30T02:08:46.322Z"
   },
   {
    "duration": 17,
    "start_time": "2021-11-30T02:08:46.360Z"
   },
   {
    "duration": 27,
    "start_time": "2021-11-30T02:08:46.379Z"
   },
   {
    "duration": 52,
    "start_time": "2021-11-30T02:08:46.408Z"
   },
   {
    "duration": 144,
    "start_time": "2021-11-30T02:08:46.462Z"
   },
   {
    "duration": 22,
    "start_time": "2021-11-30T02:08:46.607Z"
   },
   {
    "duration": 22,
    "start_time": "2021-11-30T02:08:46.644Z"
   },
   {
    "duration": 33,
    "start_time": "2021-11-30T02:08:46.668Z"
   },
   {
    "duration": 50,
    "start_time": "2021-11-30T02:08:46.702Z"
   },
   {
    "duration": 104,
    "start_time": "2021-11-30T02:08:46.753Z"
   },
   {
    "duration": 19,
    "start_time": "2021-11-30T02:08:46.859Z"
   },
   {
    "duration": 13,
    "start_time": "2021-11-30T02:08:46.880Z"
   },
   {
    "duration": 14,
    "start_time": "2021-11-30T02:08:46.895Z"
   },
   {
    "duration": 50,
    "start_time": "2021-11-30T02:08:46.910Z"
   },
   {
    "duration": 12,
    "start_time": "2021-11-30T02:08:46.962Z"
   },
   {
    "duration": 13,
    "start_time": "2021-11-30T02:08:46.976Z"
   },
   {
    "duration": 36,
    "start_time": "2021-11-30T02:08:46.991Z"
   },
   {
    "duration": 6,
    "start_time": "2021-11-30T02:08:47.028Z"
   },
   {
    "duration": 30,
    "start_time": "2021-11-30T02:08:47.036Z"
   },
   {
    "duration": 14,
    "start_time": "2021-11-30T02:08:47.067Z"
   },
   {
    "duration": 24,
    "start_time": "2021-11-30T02:08:47.083Z"
   },
   {
    "duration": 5,
    "start_time": "2021-11-30T02:08:47.110Z"
   },
   {
    "duration": 51,
    "start_time": "2021-11-30T02:08:47.117Z"
   },
   {
    "duration": 13,
    "start_time": "2021-11-30T02:08:47.170Z"
   },
   {
    "duration": 10,
    "start_time": "2021-11-30T02:08:47.184Z"
   },
   {
    "duration": 11,
    "start_time": "2021-11-30T02:08:47.196Z"
   },
   {
    "duration": 5,
    "start_time": "2021-11-30T02:08:47.209Z"
   },
   {
    "duration": 46,
    "start_time": "2021-11-30T02:08:47.216Z"
   },
   {
    "duration": 10,
    "start_time": "2021-11-30T02:08:47.264Z"
   },
   {
    "duration": 12,
    "start_time": "2021-11-30T02:08:47.275Z"
   },
   {
    "duration": 16,
    "start_time": "2021-11-30T02:08:47.289Z"
   },
   {
    "duration": 7,
    "start_time": "2021-11-30T02:08:47.307Z"
   },
   {
    "duration": 67,
    "start_time": "2021-11-30T02:08:47.315Z"
   },
   {
    "duration": 14,
    "start_time": "2021-11-30T02:08:47.383Z"
   },
   {
    "duration": 10,
    "start_time": "2021-11-30T02:08:47.399Z"
   },
   {
    "duration": 18,
    "start_time": "2021-11-30T02:08:47.410Z"
   },
   {
    "duration": 220,
    "start_time": "2021-11-30T02:08:47.445Z"
   },
   {
    "duration": 14,
    "start_time": "2021-11-30T02:08:47.666Z"
   },
   {
    "duration": 9,
    "start_time": "2021-11-30T02:08:47.682Z"
   },
   {
    "duration": 9,
    "start_time": "2021-11-30T02:08:47.693Z"
   },
   {
    "duration": 102,
    "start_time": "2021-11-30T02:08:47.704Z"
   },
   {
    "duration": 6,
    "start_time": "2021-11-30T02:08:47.807Z"
   },
   {
    "duration": 15,
    "start_time": "2021-11-30T02:08:47.815Z"
   },
   {
    "duration": 14,
    "start_time": "2021-11-30T02:08:47.831Z"
   },
   {
    "duration": 11,
    "start_time": "2021-11-30T02:08:47.846Z"
   },
   {
    "duration": 23,
    "start_time": "2021-11-30T02:08:47.858Z"
   },
   {
    "duration": 8,
    "start_time": "2021-11-30T02:08:47.883Z"
   },
   {
    "duration": 17,
    "start_time": "2021-11-30T02:08:47.893Z"
   },
   {
    "duration": 35,
    "start_time": "2021-11-30T02:08:47.911Z"
   },
   {
    "duration": 245,
    "start_time": "2021-11-30T02:08:47.948Z"
   },
   {
    "duration": 407,
    "start_time": "2021-11-30T02:08:48.195Z"
   },
   {
    "duration": 7,
    "start_time": "2021-11-30T02:13:20.492Z"
   },
   {
    "duration": 8,
    "start_time": "2021-11-30T02:15:44.870Z"
   },
   {
    "duration": 17,
    "start_time": "2021-11-30T02:16:54.685Z"
   },
   {
    "duration": 15,
    "start_time": "2021-11-30T02:17:03.191Z"
   },
   {
    "duration": 8,
    "start_time": "2021-11-30T02:17:40.206Z"
   },
   {
    "duration": 8,
    "start_time": "2021-11-30T02:17:46.709Z"
   },
   {
    "duration": 14,
    "start_time": "2021-11-30T02:31:09.505Z"
   },
   {
    "duration": 8,
    "start_time": "2021-11-30T02:31:34.237Z"
   },
   {
    "duration": 8,
    "start_time": "2021-11-30T02:32:16.757Z"
   },
   {
    "duration": 8,
    "start_time": "2021-11-30T02:37:03.779Z"
   },
   {
    "duration": 9,
    "start_time": "2021-11-30T02:37:49.095Z"
   },
   {
    "duration": 7576,
    "start_time": "2021-11-30T02:39:31.654Z"
   },
   {
    "duration": 245,
    "start_time": "2021-11-30T02:39:56.467Z"
   },
   {
    "duration": 454,
    "start_time": "2021-11-30T02:40:29.754Z"
   },
   {
    "duration": 311,
    "start_time": "2021-11-30T02:40:47.810Z"
   },
   {
    "duration": 15,
    "start_time": "2021-11-30T02:42:31.267Z"
   },
   {
    "duration": 14,
    "start_time": "2021-11-30T02:42:58.844Z"
   },
   {
    "duration": 4,
    "start_time": "2021-11-30T02:43:50.698Z"
   },
   {
    "duration": 283,
    "start_time": "2021-11-30T03:16:27.737Z"
   },
   {
    "duration": 95,
    "start_time": "2021-11-30T03:18:12.788Z"
   },
   {
    "duration": 83,
    "start_time": "2021-11-30T03:18:40.468Z"
   },
   {
    "duration": 122,
    "start_time": "2021-11-30T03:19:13.981Z"
   },
   {
    "duration": 388,
    "start_time": "2021-11-30T03:20:14.499Z"
   },
   {
    "duration": 270,
    "start_time": "2021-11-30T03:20:37.501Z"
   },
   {
    "duration": 311,
    "start_time": "2021-11-30T03:21:12.117Z"
   },
   {
    "duration": 228,
    "start_time": "2021-11-30T03:23:11.810Z"
   },
   {
    "duration": 232,
    "start_time": "2021-11-30T03:23:33.848Z"
   },
   {
    "duration": 12,
    "start_time": "2021-11-30T03:24:15.838Z"
   },
   {
    "duration": 388,
    "start_time": "2021-11-30T03:28:57.956Z"
   },
   {
    "duration": 243,
    "start_time": "2021-11-30T03:29:11.241Z"
   },
   {
    "duration": 277,
    "start_time": "2021-11-30T04:07:20.873Z"
   },
   {
    "duration": 698,
    "start_time": "2021-11-30T04:07:58.900Z"
   },
   {
    "duration": 195,
    "start_time": "2021-11-30T04:08:06.603Z"
   },
   {
    "duration": 45,
    "start_time": "2021-11-30T04:08:06.800Z"
   },
   {
    "duration": 15,
    "start_time": "2021-11-30T04:08:06.848Z"
   },
   {
    "duration": 28,
    "start_time": "2021-11-30T04:08:06.865Z"
   },
   {
    "duration": 50,
    "start_time": "2021-11-30T04:08:06.895Z"
   },
   {
    "duration": 162,
    "start_time": "2021-11-30T04:08:06.947Z"
   },
   {
    "duration": 23,
    "start_time": "2021-11-30T04:08:07.111Z"
   },
   {
    "duration": 23,
    "start_time": "2021-11-30T04:08:07.136Z"
   },
   {
    "duration": 31,
    "start_time": "2021-11-30T04:08:07.161Z"
   },
   {
    "duration": 25,
    "start_time": "2021-11-30T04:08:07.194Z"
   },
   {
    "duration": 104,
    "start_time": "2021-11-30T04:08:07.245Z"
   },
   {
    "duration": 18,
    "start_time": "2021-11-30T04:08:07.350Z"
   },
   {
    "duration": 29,
    "start_time": "2021-11-30T04:08:07.369Z"
   },
   {
    "duration": 30,
    "start_time": "2021-11-30T04:08:07.400Z"
   },
   {
    "duration": 28,
    "start_time": "2021-11-30T04:08:07.431Z"
   },
   {
    "duration": 12,
    "start_time": "2021-11-30T04:08:07.461Z"
   },
   {
    "duration": 24,
    "start_time": "2021-11-30T04:08:07.475Z"
   },
   {
    "duration": 41,
    "start_time": "2021-11-30T04:08:07.501Z"
   },
   {
    "duration": 17,
    "start_time": "2021-11-30T04:08:07.544Z"
   },
   {
    "duration": 49,
    "start_time": "2021-11-30T04:08:07.563Z"
   },
   {
    "duration": 15,
    "start_time": "2021-11-30T04:08:07.614Z"
   },
   {
    "duration": 44,
    "start_time": "2021-11-30T04:08:07.630Z"
   },
   {
    "duration": 20,
    "start_time": "2021-11-30T04:08:07.678Z"
   },
   {
    "duration": 36,
    "start_time": "2021-11-30T04:08:07.700Z"
   },
   {
    "duration": 15,
    "start_time": "2021-11-30T04:08:07.738Z"
   },
   {
    "duration": 26,
    "start_time": "2021-11-30T04:08:07.754Z"
   },
   {
    "duration": 37,
    "start_time": "2021-11-30T04:08:07.782Z"
   },
   {
    "duration": 24,
    "start_time": "2021-11-30T04:08:07.821Z"
   },
   {
    "duration": 41,
    "start_time": "2021-11-30T04:08:07.847Z"
   },
   {
    "duration": 8,
    "start_time": "2021-11-30T04:08:07.890Z"
   },
   {
    "duration": 33,
    "start_time": "2021-11-30T04:08:07.900Z"
   },
   {
    "duration": 31,
    "start_time": "2021-11-30T04:08:07.935Z"
   },
   {
    "duration": 25,
    "start_time": "2021-11-30T04:08:07.968Z"
   },
   {
    "duration": 57,
    "start_time": "2021-11-30T04:08:07.995Z"
   },
   {
    "duration": 7,
    "start_time": "2021-11-30T04:08:08.054Z"
   },
   {
    "duration": 25,
    "start_time": "2021-11-30T04:08:08.063Z"
   },
   {
    "duration": 25,
    "start_time": "2021-11-30T04:08:08.089Z"
   },
   {
    "duration": 232,
    "start_time": "2021-11-30T04:08:08.115Z"
   },
   {
    "duration": 12,
    "start_time": "2021-11-30T04:08:08.349Z"
   },
   {
    "duration": 10,
    "start_time": "2021-11-30T04:08:08.363Z"
   },
   {
    "duration": 28,
    "start_time": "2021-11-30T04:08:08.374Z"
   },
   {
    "duration": 28,
    "start_time": "2021-11-30T04:08:08.404Z"
   },
   {
    "duration": 20,
    "start_time": "2021-11-30T04:08:08.434Z"
   },
   {
    "duration": 20,
    "start_time": "2021-11-30T04:08:08.456Z"
   },
   {
    "duration": 12,
    "start_time": "2021-11-30T04:08:08.477Z"
   },
   {
    "duration": 17,
    "start_time": "2021-11-30T04:08:08.490Z"
   },
   {
    "duration": 11,
    "start_time": "2021-11-30T04:08:08.509Z"
   },
   {
    "duration": 17,
    "start_time": "2021-11-30T04:08:08.522Z"
   },
   {
    "duration": 39,
    "start_time": "2021-11-30T04:08:08.541Z"
   },
   {
    "duration": 12,
    "start_time": "2021-11-30T04:08:08.582Z"
   },
   {
    "duration": 267,
    "start_time": "2021-11-30T04:08:08.596Z"
   },
   {
    "duration": 260,
    "start_time": "2021-11-30T04:08:08.865Z"
   },
   {
    "duration": 249,
    "start_time": "2021-11-30T04:08:09.126Z"
   },
   {
    "duration": 9,
    "start_time": "2021-11-30T04:08:09.377Z"
   },
   {
    "duration": 16,
    "start_time": "2021-11-30T04:08:09.388Z"
   },
   {
    "duration": 12,
    "start_time": "2021-11-30T04:08:09.405Z"
   },
   {
    "duration": 32,
    "start_time": "2021-11-30T04:08:09.419Z"
   },
   {
    "duration": 12,
    "start_time": "2021-11-30T04:08:09.453Z"
   },
   {
    "duration": 12,
    "start_time": "2021-11-30T04:08:09.467Z"
   },
   {
    "duration": 338,
    "start_time": "2021-11-30T04:08:09.480Z"
   },
   {
    "duration": 343,
    "start_time": "2021-11-30T04:08:09.820Z"
   },
   {
    "duration": 303,
    "start_time": "2021-11-30T04:08:18.584Z"
   },
   {
    "duration": 265,
    "start_time": "2021-11-30T04:08:43.409Z"
   },
   {
    "duration": 487,
    "start_time": "2021-11-30T04:09:00.782Z"
   },
   {
    "duration": 182,
    "start_time": "2021-11-30T04:48:57.169Z"
   },
   {
    "duration": 28,
    "start_time": "2021-11-30T04:48:57.353Z"
   },
   {
    "duration": 16,
    "start_time": "2021-11-30T04:48:57.383Z"
   },
   {
    "duration": 54,
    "start_time": "2021-11-30T04:48:57.401Z"
   },
   {
    "duration": 30,
    "start_time": "2021-11-30T04:48:57.457Z"
   },
   {
    "duration": 157,
    "start_time": "2021-11-30T04:48:57.489Z"
   },
   {
    "duration": 21,
    "start_time": "2021-11-30T04:48:57.647Z"
   },
   {
    "duration": 26,
    "start_time": "2021-11-30T04:48:57.670Z"
   },
   {
    "duration": 28,
    "start_time": "2021-11-30T04:48:57.698Z"
   },
   {
    "duration": 23,
    "start_time": "2021-11-30T04:48:57.744Z"
   },
   {
    "duration": 109,
    "start_time": "2021-11-30T04:48:57.768Z"
   },
   {
    "duration": 17,
    "start_time": "2021-11-30T04:48:57.879Z"
   },
   {
    "duration": 11,
    "start_time": "2021-11-30T04:48:57.898Z"
   },
   {
    "duration": 19,
    "start_time": "2021-11-30T04:48:57.910Z"
   },
   {
    "duration": 37,
    "start_time": "2021-11-30T04:48:57.930Z"
   },
   {
    "duration": 15,
    "start_time": "2021-11-30T04:48:57.969Z"
   },
   {
    "duration": 20,
    "start_time": "2021-11-30T04:48:57.986Z"
   },
   {
    "duration": 44,
    "start_time": "2021-11-30T04:48:58.008Z"
   },
   {
    "duration": 13,
    "start_time": "2021-11-30T04:48:58.054Z"
   },
   {
    "duration": 23,
    "start_time": "2021-11-30T04:48:58.069Z"
   },
   {
    "duration": 19,
    "start_time": "2021-11-30T04:48:58.093Z"
   },
   {
    "duration": 24,
    "start_time": "2021-11-30T04:48:58.113Z"
   },
   {
    "duration": 34,
    "start_time": "2021-11-30T04:48:58.141Z"
   },
   {
    "duration": 26,
    "start_time": "2021-11-30T04:48:58.177Z"
   },
   {
    "duration": 6,
    "start_time": "2021-11-30T04:48:58.204Z"
   },
   {
    "duration": 9,
    "start_time": "2021-11-30T04:48:58.212Z"
   },
   {
    "duration": 9,
    "start_time": "2021-11-30T04:48:58.222Z"
   },
   {
    "duration": 5,
    "start_time": "2021-11-30T04:48:58.232Z"
   },
   {
    "duration": 19,
    "start_time": "2021-11-30T04:48:58.238Z"
   },
   {
    "duration": 8,
    "start_time": "2021-11-30T04:48:58.259Z"
   },
   {
    "duration": 11,
    "start_time": "2021-11-30T04:48:58.269Z"
   },
   {
    "duration": 9,
    "start_time": "2021-11-30T04:48:58.282Z"
   },
   {
    "duration": 8,
    "start_time": "2021-11-30T04:48:58.292Z"
   },
   {
    "duration": 72,
    "start_time": "2021-11-30T04:48:58.301Z"
   },
   {
    "duration": 8,
    "start_time": "2021-11-30T04:48:58.374Z"
   },
   {
    "duration": 12,
    "start_time": "2021-11-30T04:48:58.383Z"
   },
   {
    "duration": 14,
    "start_time": "2021-11-30T04:48:58.397Z"
   },
   {
    "duration": 240,
    "start_time": "2021-11-30T04:48:58.413Z"
   },
   {
    "duration": 13,
    "start_time": "2021-11-30T04:48:58.655Z"
   },
   {
    "duration": 9,
    "start_time": "2021-11-30T04:48:58.670Z"
   },
   {
    "duration": 9,
    "start_time": "2021-11-30T04:48:58.681Z"
   },
   {
    "duration": 7,
    "start_time": "2021-11-30T04:48:58.691Z"
   },
   {
    "duration": 7,
    "start_time": "2021-11-30T04:48:58.699Z"
   },
   {
    "duration": 41,
    "start_time": "2021-11-30T04:48:58.708Z"
   },
   {
    "duration": 8,
    "start_time": "2021-11-30T04:48:58.751Z"
   },
   {
    "duration": 8,
    "start_time": "2021-11-30T04:48:58.761Z"
   },
   {
    "duration": 7,
    "start_time": "2021-11-30T04:48:58.771Z"
   },
   {
    "duration": 3,
    "start_time": "2021-11-30T04:48:58.780Z"
   },
   {
    "duration": 62,
    "start_time": "2021-11-30T04:48:58.785Z"
   },
   {
    "duration": 13,
    "start_time": "2021-11-30T04:48:58.849Z"
   },
   {
    "duration": 272,
    "start_time": "2021-11-30T04:48:58.863Z"
   },
   {
    "duration": 282,
    "start_time": "2021-11-30T04:48:59.137Z"
   },
   {
    "duration": 243,
    "start_time": "2021-11-30T04:48:59.421Z"
   },
   {
    "duration": 8,
    "start_time": "2021-11-30T04:48:59.666Z"
   },
   {
    "duration": 35,
    "start_time": "2021-11-30T04:48:59.676Z"
   },
   {
    "duration": 29,
    "start_time": "2021-11-30T04:48:59.713Z"
   },
   {
    "duration": 18,
    "start_time": "2021-11-30T04:48:59.744Z"
   },
   {
    "duration": 13,
    "start_time": "2021-11-30T04:48:59.764Z"
   },
   {
    "duration": 16,
    "start_time": "2021-11-30T04:48:59.779Z"
   },
   {
    "duration": 324,
    "start_time": "2021-11-30T04:48:59.797Z"
   },
   {
    "duration": 338,
    "start_time": "2021-11-30T04:49:00.123Z"
   },
   {
    "duration": 310,
    "start_time": "2021-11-30T04:50:04.302Z"
   },
   {
    "duration": 267,
    "start_time": "2021-11-30T04:53:13.593Z"
   },
   {
    "duration": 9,
    "start_time": "2021-11-30T04:53:35.763Z"
   },
   {
    "duration": 275,
    "start_time": "2021-11-30T04:54:22.767Z"
   },
   {
    "duration": 7,
    "start_time": "2021-11-30T04:54:49.867Z"
   },
   {
    "duration": 271,
    "start_time": "2021-11-30T04:56:25.898Z"
   },
   {
    "duration": 3,
    "start_time": "2021-11-30T04:56:34.187Z"
   },
   {
    "duration": 5,
    "start_time": "2021-11-30T04:56:40.353Z"
   },
   {
    "duration": 5,
    "start_time": "2021-11-30T04:56:47.945Z"
   },
   {
    "duration": 3,
    "start_time": "2021-11-30T04:57:53.405Z"
   },
   {
    "duration": 7,
    "start_time": "2021-11-30T05:04:44.521Z"
   },
   {
    "duration": 7,
    "start_time": "2021-11-30T05:05:36.593Z"
   },
   {
    "duration": 6,
    "start_time": "2021-11-30T05:05:57.667Z"
   },
   {
    "duration": 11,
    "start_time": "2021-11-30T05:12:17.944Z"
   },
   {
    "duration": 11,
    "start_time": "2021-11-30T05:13:09.896Z"
   },
   {
    "duration": 9,
    "start_time": "2021-11-30T05:13:18.461Z"
   },
   {
    "duration": 9,
    "start_time": "2021-11-30T05:15:19.962Z"
   },
   {
    "duration": 9,
    "start_time": "2021-11-30T05:15:40.778Z"
   },
   {
    "duration": 269,
    "start_time": "2021-11-30T05:24:44.409Z"
   },
   {
    "duration": 4,
    "start_time": "2021-11-30T05:24:55.891Z"
   },
   {
    "duration": 7,
    "start_time": "2021-11-30T05:25:00.273Z"
   },
   {
    "duration": 258,
    "start_time": "2021-11-30T05:26:21.990Z"
   },
   {
    "duration": 7,
    "start_time": "2021-11-30T05:26:38.743Z"
   },
   {
    "duration": 13,
    "start_time": "2021-11-30T05:27:20.671Z"
   },
   {
    "duration": 12,
    "start_time": "2021-11-30T05:27:31.629Z"
   },
   {
    "duration": 7,
    "start_time": "2021-11-30T05:28:17.641Z"
   },
   {
    "duration": 6,
    "start_time": "2021-11-30T05:28:47.137Z"
   },
   {
    "duration": 22,
    "start_time": "2021-11-30T05:33:23.275Z"
   },
   {
    "duration": 754,
    "start_time": "2021-11-30T05:33:36.151Z"
   },
   {
    "duration": 38,
    "start_time": "2021-11-30T05:33:36.907Z"
   },
   {
    "duration": 17,
    "start_time": "2021-11-30T05:33:36.947Z"
   },
   {
    "duration": 28,
    "start_time": "2021-11-30T05:33:36.965Z"
   },
   {
    "duration": 31,
    "start_time": "2021-11-30T05:33:36.995Z"
   },
   {
    "duration": 143,
    "start_time": "2021-11-30T05:33:37.045Z"
   },
   {
    "duration": 22,
    "start_time": "2021-11-30T05:33:37.190Z"
   },
   {
    "duration": 32,
    "start_time": "2021-11-30T05:33:37.215Z"
   },
   {
    "duration": 31,
    "start_time": "2021-11-30T05:33:37.249Z"
   },
   {
    "duration": 28,
    "start_time": "2021-11-30T05:33:37.281Z"
   },
   {
    "duration": 118,
    "start_time": "2021-11-30T05:33:37.311Z"
   },
   {
    "duration": 23,
    "start_time": "2021-11-30T05:33:37.430Z"
   },
   {
    "duration": 14,
    "start_time": "2021-11-30T05:33:37.454Z"
   },
   {
    "duration": 15,
    "start_time": "2021-11-30T05:33:37.469Z"
   },
   {
    "duration": 23,
    "start_time": "2021-11-30T05:33:37.485Z"
   },
   {
    "duration": 42,
    "start_time": "2021-11-30T05:33:37.510Z"
   },
   {
    "duration": 14,
    "start_time": "2021-11-30T05:33:37.553Z"
   },
   {
    "duration": 36,
    "start_time": "2021-11-30T05:33:37.568Z"
   },
   {
    "duration": 6,
    "start_time": "2021-11-30T05:33:37.605Z"
   },
   {
    "duration": 25,
    "start_time": "2021-11-30T05:33:37.613Z"
   },
   {
    "duration": 14,
    "start_time": "2021-11-30T05:33:37.644Z"
   },
   {
    "duration": 24,
    "start_time": "2021-11-30T05:33:37.659Z"
   },
   {
    "duration": 4,
    "start_time": "2021-11-30T05:33:37.687Z"
   },
   {
    "duration": 25,
    "start_time": "2021-11-30T05:33:37.694Z"
   },
   {
    "duration": 28,
    "start_time": "2021-11-30T05:33:37.720Z"
   },
   {
    "duration": 10,
    "start_time": "2021-11-30T05:33:37.750Z"
   },
   {
    "duration": 13,
    "start_time": "2021-11-30T05:33:37.761Z"
   },
   {
    "duration": 4,
    "start_time": "2021-11-30T05:33:37.775Z"
   },
   {
    "duration": 22,
    "start_time": "2021-11-30T05:33:37.781Z"
   },
   {
    "duration": 8,
    "start_time": "2021-11-30T05:33:37.805Z"
   },
   {
    "duration": 37,
    "start_time": "2021-11-30T05:33:37.815Z"
   },
   {
    "duration": 15,
    "start_time": "2021-11-30T05:33:37.853Z"
   },
   {
    "duration": 7,
    "start_time": "2021-11-30T05:33:37.869Z"
   },
   {
    "duration": 39,
    "start_time": "2021-11-30T05:33:37.878Z"
   },
   {
    "duration": 33,
    "start_time": "2021-11-30T05:33:37.918Z"
   },
   {
    "duration": 7,
    "start_time": "2021-11-30T05:33:37.953Z"
   },
   {
    "duration": 18,
    "start_time": "2021-11-30T05:33:37.961Z"
   },
   {
    "duration": 242,
    "start_time": "2021-11-30T05:33:37.980Z"
   },
   {
    "duration": 23,
    "start_time": "2021-11-30T05:33:38.223Z"
   },
   {
    "duration": 8,
    "start_time": "2021-11-30T05:33:38.247Z"
   },
   {
    "duration": 9,
    "start_time": "2021-11-30T05:33:38.257Z"
   },
   {
    "duration": 89,
    "start_time": "2021-11-30T05:33:38.268Z"
   },
   {
    "duration": 7,
    "start_time": "2021-11-30T05:33:38.358Z"
   },
   {
    "duration": 8,
    "start_time": "2021-11-30T05:33:38.366Z"
   },
   {
    "duration": 7,
    "start_time": "2021-11-30T05:33:38.376Z"
   },
   {
    "duration": 7,
    "start_time": "2021-11-30T05:33:38.385Z"
   },
   {
    "duration": 8,
    "start_time": "2021-11-30T05:33:38.394Z"
   },
   {
    "duration": 4,
    "start_time": "2021-11-30T05:33:38.404Z"
   },
   {
    "duration": 51,
    "start_time": "2021-11-30T05:33:38.409Z"
   },
   {
    "duration": 13,
    "start_time": "2021-11-30T05:33:38.462Z"
   },
   {
    "duration": 287,
    "start_time": "2021-11-30T05:33:38.476Z"
   },
   {
    "duration": 307,
    "start_time": "2021-11-30T05:33:38.765Z"
   },
   {
    "duration": 248,
    "start_time": "2021-11-30T05:33:39.074Z"
   },
   {
    "duration": 8,
    "start_time": "2021-11-30T05:33:39.324Z"
   },
   {
    "duration": 19,
    "start_time": "2021-11-30T05:33:39.334Z"
   },
   {
    "duration": 13,
    "start_time": "2021-11-30T05:33:39.354Z"
   },
   {
    "duration": 9,
    "start_time": "2021-11-30T05:33:39.368Z"
   },
   {
    "duration": 8,
    "start_time": "2021-11-30T05:33:39.378Z"
   },
   {
    "duration": 8,
    "start_time": "2021-11-30T05:33:39.388Z"
   },
   {
    "duration": 362,
    "start_time": "2021-11-30T05:33:39.398Z"
   },
   {
    "duration": 273,
    "start_time": "2021-11-30T05:33:39.762Z"
   },
   {
    "duration": 9,
    "start_time": "2021-11-30T05:33:40.038Z"
   },
   {
    "duration": 397,
    "start_time": "2021-11-30T05:33:40.049Z"
   },
   {
    "duration": 6,
    "start_time": "2021-11-30T05:33:40.447Z"
   },
   {
    "duration": 11,
    "start_time": "2021-11-30T05:33:40.455Z"
   },
   {
    "duration": 4,
    "start_time": "2021-11-30T05:33:40.468Z"
   },
   {
    "duration": 6,
    "start_time": "2021-11-30T05:33:40.474Z"
   },
   {
    "duration": 6,
    "start_time": "2021-11-30T05:35:59.980Z"
   },
   {
    "duration": 7,
    "start_time": "2021-11-30T05:36:22.322Z"
   },
   {
    "duration": 7,
    "start_time": "2021-11-30T05:40:10.082Z"
   },
   {
    "duration": 6,
    "start_time": "2021-11-30T05:58:07.792Z"
   },
   {
    "duration": 6,
    "start_time": "2021-11-30T06:01:12.232Z"
   },
   {
    "duration": 7,
    "start_time": "2021-11-30T06:01:50.332Z"
   },
   {
    "duration": 6,
    "start_time": "2021-11-30T06:04:13.261Z"
   },
   {
    "duration": 7,
    "start_time": "2021-11-30T06:04:25.833Z"
   },
   {
    "duration": 166,
    "start_time": "2021-11-30T06:04:40.440Z"
   },
   {
    "duration": 26,
    "start_time": "2021-11-30T06:04:40.608Z"
   },
   {
    "duration": 19,
    "start_time": "2021-11-30T06:04:40.636Z"
   },
   {
    "duration": 28,
    "start_time": "2021-11-30T06:04:40.657Z"
   },
   {
    "duration": 31,
    "start_time": "2021-11-30T06:04:40.686Z"
   },
   {
    "duration": 163,
    "start_time": "2021-11-30T06:04:40.719Z"
   },
   {
    "duration": 21,
    "start_time": "2021-11-30T06:04:40.883Z"
   },
   {
    "duration": 22,
    "start_time": "2021-11-30T06:04:40.905Z"
   },
   {
    "duration": 46,
    "start_time": "2021-11-30T06:04:40.929Z"
   },
   {
    "duration": 26,
    "start_time": "2021-11-30T06:04:40.977Z"
   },
   {
    "duration": 118,
    "start_time": "2021-11-30T06:04:41.005Z"
   },
   {
    "duration": 31,
    "start_time": "2021-11-30T06:04:41.125Z"
   },
   {
    "duration": 12,
    "start_time": "2021-11-30T06:04:41.157Z"
   },
   {
    "duration": 21,
    "start_time": "2021-11-30T06:04:41.171Z"
   },
   {
    "duration": 29,
    "start_time": "2021-11-30T06:04:41.194Z"
   },
   {
    "duration": 20,
    "start_time": "2021-11-30T06:04:41.225Z"
   },
   {
    "duration": 16,
    "start_time": "2021-11-30T06:04:41.246Z"
   },
   {
    "duration": 58,
    "start_time": "2021-11-30T06:04:41.263Z"
   },
   {
    "duration": 7,
    "start_time": "2021-11-30T06:04:41.322Z"
   },
   {
    "duration": 40,
    "start_time": "2021-11-30T06:04:41.330Z"
   },
   {
    "duration": 13,
    "start_time": "2021-11-30T06:04:41.372Z"
   },
   {
    "duration": 24,
    "start_time": "2021-11-30T06:04:41.387Z"
   },
   {
    "duration": 15,
    "start_time": "2021-11-30T06:04:41.413Z"
   },
   {
    "duration": 57,
    "start_time": "2021-11-30T06:04:41.429Z"
   },
   {
    "duration": 14,
    "start_time": "2021-11-30T06:04:41.487Z"
   },
   {
    "duration": 19,
    "start_time": "2021-11-30T06:04:41.502Z"
   },
   {
    "duration": 19,
    "start_time": "2021-11-30T06:04:41.525Z"
   },
   {
    "duration": 16,
    "start_time": "2021-11-30T06:04:41.546Z"
   },
   {
    "duration": 27,
    "start_time": "2021-11-30T06:04:41.564Z"
   },
   {
    "duration": 13,
    "start_time": "2021-11-30T06:04:41.593Z"
   },
   {
    "duration": 12,
    "start_time": "2021-11-30T06:04:41.608Z"
   },
   {
    "duration": 19,
    "start_time": "2021-11-30T06:04:41.622Z"
   },
   {
    "duration": 19,
    "start_time": "2021-11-30T06:04:41.643Z"
   },
   {
    "duration": 42,
    "start_time": "2021-11-30T06:04:41.663Z"
   },
   {
    "duration": 7,
    "start_time": "2021-11-30T06:04:41.706Z"
   },
   {
    "duration": 32,
    "start_time": "2021-11-30T06:04:41.715Z"
   },
   {
    "duration": 16,
    "start_time": "2021-11-30T06:04:41.749Z"
   },
   {
    "duration": 228,
    "start_time": "2021-11-30T06:04:41.767Z"
   },
   {
    "duration": 14,
    "start_time": "2021-11-30T06:04:41.997Z"
   },
   {
    "duration": 18,
    "start_time": "2021-11-30T06:04:42.012Z"
   },
   {
    "duration": 27,
    "start_time": "2021-11-30T06:04:42.032Z"
   },
   {
    "duration": 24,
    "start_time": "2021-11-30T06:04:42.061Z"
   },
   {
    "duration": 21,
    "start_time": "2021-11-30T06:04:42.087Z"
   },
   {
    "duration": 17,
    "start_time": "2021-11-30T06:04:42.110Z"
   },
   {
    "duration": 38,
    "start_time": "2021-11-30T06:04:42.130Z"
   },
   {
    "duration": 17,
    "start_time": "2021-11-30T06:04:42.170Z"
   },
   {
    "duration": 20,
    "start_time": "2021-11-30T06:04:42.189Z"
   },
   {
    "duration": 20,
    "start_time": "2021-11-30T06:04:42.210Z"
   },
   {
    "duration": 27,
    "start_time": "2021-11-30T06:04:42.232Z"
   },
   {
    "duration": 20,
    "start_time": "2021-11-30T06:04:42.260Z"
   },
   {
    "duration": 279,
    "start_time": "2021-11-30T06:04:42.281Z"
   },
   {
    "duration": 271,
    "start_time": "2021-11-30T06:04:42.562Z"
   },
   {
    "duration": 250,
    "start_time": "2021-11-30T06:04:42.835Z"
   },
   {
    "duration": 8,
    "start_time": "2021-11-30T06:04:43.087Z"
   },
   {
    "duration": 14,
    "start_time": "2021-11-30T06:04:43.097Z"
   },
   {
    "duration": 38,
    "start_time": "2021-11-30T06:04:43.113Z"
   },
   {
    "duration": 8,
    "start_time": "2021-11-30T06:04:43.153Z"
   },
   {
    "duration": 8,
    "start_time": "2021-11-30T06:04:43.162Z"
   },
   {
    "duration": 7,
    "start_time": "2021-11-30T06:04:43.172Z"
   },
   {
    "duration": 329,
    "start_time": "2021-11-30T06:04:43.180Z"
   },
   {
    "duration": 312,
    "start_time": "2021-11-30T06:04:43.510Z"
   },
   {
    "duration": 3,
    "start_time": "2021-11-30T06:04:43.824Z"
   },
   {
    "duration": 16,
    "start_time": "2021-11-30T06:04:43.829Z"
   },
   {
    "duration": 11,
    "start_time": "2021-11-30T06:04:43.847Z"
   },
   {
    "duration": 9,
    "start_time": "2021-11-30T06:04:43.859Z"
   },
   {
    "duration": 3,
    "start_time": "2021-11-30T06:04:43.870Z"
   },
   {
    "duration": 7,
    "start_time": "2021-11-30T06:04:48.943Z"
   },
   {
    "duration": 7,
    "start_time": "2021-11-30T06:09:06.794Z"
   },
   {
    "duration": 5,
    "start_time": "2021-11-30T06:20:18.858Z"
   },
   {
    "duration": 195,
    "start_time": "2021-11-30T06:21:06.495Z"
   },
   {
    "duration": 10,
    "start_time": "2021-11-30T06:23:50.603Z"
   },
   {
    "duration": 6,
    "start_time": "2021-11-30T06:24:17.824Z"
   },
   {
    "duration": 9,
    "start_time": "2021-11-30T06:25:28.319Z"
   },
   {
    "duration": 206,
    "start_time": "2021-11-30T06:27:40.992Z"
   },
   {
    "duration": 52,
    "start_time": "2021-11-30T06:27:41.200Z"
   },
   {
    "duration": 17,
    "start_time": "2021-11-30T06:27:41.255Z"
   },
   {
    "duration": 29,
    "start_time": "2021-11-30T06:27:41.274Z"
   },
   {
    "duration": 63,
    "start_time": "2021-11-30T06:27:41.305Z"
   },
   {
    "duration": 149,
    "start_time": "2021-11-30T06:27:41.370Z"
   },
   {
    "duration": 32,
    "start_time": "2021-11-30T06:27:41.521Z"
   },
   {
    "duration": 25,
    "start_time": "2021-11-30T06:27:41.554Z"
   },
   {
    "duration": 53,
    "start_time": "2021-11-30T06:27:41.583Z"
   },
   {
    "duration": 35,
    "start_time": "2021-11-30T06:27:41.638Z"
   },
   {
    "duration": 120,
    "start_time": "2021-11-30T06:27:41.675Z"
   },
   {
    "duration": 19,
    "start_time": "2021-11-30T06:27:41.797Z"
   },
   {
    "duration": 27,
    "start_time": "2021-11-30T06:27:41.818Z"
   },
   {
    "duration": 16,
    "start_time": "2021-11-30T06:27:41.847Z"
   },
   {
    "duration": 37,
    "start_time": "2021-11-30T06:27:41.865Z"
   },
   {
    "duration": 12,
    "start_time": "2021-11-30T06:27:41.903Z"
   },
   {
    "duration": 32,
    "start_time": "2021-11-30T06:27:41.916Z"
   },
   {
    "duration": 36,
    "start_time": "2021-11-30T06:27:41.950Z"
   },
   {
    "duration": 22,
    "start_time": "2021-11-30T06:27:41.988Z"
   },
   {
    "duration": 45,
    "start_time": "2021-11-30T06:27:42.012Z"
   },
   {
    "duration": 18,
    "start_time": "2021-11-30T06:27:42.059Z"
   },
   {
    "duration": 38,
    "start_time": "2021-11-30T06:27:42.078Z"
   },
   {
    "duration": 8,
    "start_time": "2021-11-30T06:27:42.118Z"
   },
   {
    "duration": 40,
    "start_time": "2021-11-30T06:27:42.128Z"
   },
   {
    "duration": 12,
    "start_time": "2021-11-30T06:27:42.170Z"
   },
   {
    "duration": 27,
    "start_time": "2021-11-30T06:27:42.184Z"
   },
   {
    "duration": 29,
    "start_time": "2021-11-30T06:27:42.215Z"
   },
   {
    "duration": 11,
    "start_time": "2021-11-30T06:27:42.247Z"
   },
   {
    "duration": 41,
    "start_time": "2021-11-30T06:27:42.259Z"
   },
   {
    "duration": 31,
    "start_time": "2021-11-30T06:27:42.302Z"
   },
   {
    "duration": 33,
    "start_time": "2021-11-30T06:27:42.335Z"
   },
   {
    "duration": 34,
    "start_time": "2021-11-30T06:27:42.370Z"
   },
   {
    "duration": 47,
    "start_time": "2021-11-30T06:27:42.406Z"
   },
   {
    "duration": 58,
    "start_time": "2021-11-30T06:27:42.455Z"
   },
   {
    "duration": 8,
    "start_time": "2021-11-30T06:27:42.515Z"
   },
   {
    "duration": 43,
    "start_time": "2021-11-30T06:27:42.525Z"
   },
   {
    "duration": 37,
    "start_time": "2021-11-30T06:27:42.570Z"
   },
   {
    "duration": 279,
    "start_time": "2021-11-30T06:27:42.608Z"
   },
   {
    "duration": 16,
    "start_time": "2021-11-30T06:27:42.889Z"
   },
   {
    "duration": 20,
    "start_time": "2021-11-30T06:27:42.907Z"
   },
   {
    "duration": 68,
    "start_time": "2021-11-30T06:27:42.929Z"
   },
   {
    "duration": 39,
    "start_time": "2021-11-30T06:27:42.999Z"
   },
   {
    "duration": 25,
    "start_time": "2021-11-30T06:27:43.040Z"
   },
   {
    "duration": 25,
    "start_time": "2021-11-30T06:27:43.067Z"
   },
   {
    "duration": 14,
    "start_time": "2021-11-30T06:27:43.094Z"
   },
   {
    "duration": 44,
    "start_time": "2021-11-30T06:27:43.110Z"
   },
   {
    "duration": 40,
    "start_time": "2021-11-30T06:27:43.156Z"
   },
   {
    "duration": 43,
    "start_time": "2021-11-30T06:27:43.198Z"
   },
   {
    "duration": 39,
    "start_time": "2021-11-30T06:27:43.243Z"
   },
   {
    "duration": 13,
    "start_time": "2021-11-30T06:27:43.284Z"
   },
   {
    "duration": 266,
    "start_time": "2021-11-30T06:27:43.299Z"
   },
   {
    "duration": 286,
    "start_time": "2021-11-30T06:27:43.566Z"
   },
   {
    "duration": 249,
    "start_time": "2021-11-30T06:27:43.853Z"
   },
   {
    "duration": 8,
    "start_time": "2021-11-30T06:27:44.104Z"
   },
   {
    "duration": 48,
    "start_time": "2021-11-30T06:27:44.114Z"
   },
   {
    "duration": 62,
    "start_time": "2021-11-30T06:27:44.163Z"
   },
   {
    "duration": 49,
    "start_time": "2021-11-30T06:27:44.227Z"
   },
   {
    "duration": 14,
    "start_time": "2021-11-30T06:27:44.278Z"
   },
   {
    "duration": 28,
    "start_time": "2021-11-30T06:27:44.294Z"
   },
   {
    "duration": 216,
    "start_time": "2021-11-30T06:27:44.323Z"
   },
   {
    "duration": 256,
    "start_time": "2021-11-30T06:27:44.544Z"
   },
   {
    "duration": 3,
    "start_time": "2021-11-30T06:27:44.802Z"
   },
   {
    "duration": 29,
    "start_time": "2021-11-30T06:27:44.807Z"
   },
   {
    "duration": 30,
    "start_time": "2021-11-30T06:27:44.838Z"
   },
   {
    "duration": 47,
    "start_time": "2021-11-30T06:27:44.869Z"
   },
   {
    "duration": 29,
    "start_time": "2021-11-30T06:27:44.918Z"
   },
   {
    "duration": 132,
    "start_time": "2021-11-30T06:27:44.948Z"
   },
   {
    "duration": 24,
    "start_time": "2021-11-30T06:32:51.197Z"
   },
   {
    "duration": 8,
    "start_time": "2021-11-30T06:36:14.793Z"
   },
   {
    "duration": 8,
    "start_time": "2021-11-30T06:57:38.117Z"
   },
   {
    "duration": 7641,
    "start_time": "2021-11-30T06:58:15.670Z"
   },
   {
    "duration": 16,
    "start_time": "2021-11-30T06:58:41.759Z"
   },
   {
    "duration": 9,
    "start_time": "2021-11-30T06:59:34.099Z"
   },
   {
    "duration": 1268,
    "start_time": "2021-11-30T08:23:08.715Z"
   },
   {
    "duration": 32,
    "start_time": "2021-11-30T08:23:09.985Z"
   },
   {
    "duration": 40,
    "start_time": "2021-11-30T08:23:10.019Z"
   },
   {
    "duration": 28,
    "start_time": "2021-11-30T08:23:10.061Z"
   },
   {
    "duration": 31,
    "start_time": "2021-11-30T08:23:10.091Z"
   },
   {
    "duration": 154,
    "start_time": "2021-11-30T08:23:10.124Z"
   },
   {
    "duration": 21,
    "start_time": "2021-11-30T08:23:10.280Z"
   },
   {
    "duration": 26,
    "start_time": "2021-11-30T08:23:10.304Z"
   },
   {
    "duration": 41,
    "start_time": "2021-11-30T08:23:10.333Z"
   },
   {
    "duration": 28,
    "start_time": "2021-11-30T08:23:10.376Z"
   },
   {
    "duration": 117,
    "start_time": "2021-11-30T08:23:10.406Z"
   },
   {
    "duration": 26,
    "start_time": "2021-11-30T08:23:10.525Z"
   },
   {
    "duration": 12,
    "start_time": "2021-11-30T08:23:10.553Z"
   },
   {
    "duration": 13,
    "start_time": "2021-11-30T08:23:10.567Z"
   },
   {
    "duration": 23,
    "start_time": "2021-11-30T08:23:10.582Z"
   },
   {
    "duration": 38,
    "start_time": "2021-11-30T08:23:10.607Z"
   },
   {
    "duration": 17,
    "start_time": "2021-11-30T08:23:10.647Z"
   },
   {
    "duration": 37,
    "start_time": "2021-11-30T08:23:10.666Z"
   },
   {
    "duration": 6,
    "start_time": "2021-11-30T08:23:10.705Z"
   },
   {
    "duration": 33,
    "start_time": "2021-11-30T08:23:10.713Z"
   },
   {
    "duration": 15,
    "start_time": "2021-11-30T08:23:10.748Z"
   },
   {
    "duration": 23,
    "start_time": "2021-11-30T08:23:10.765Z"
   },
   {
    "duration": 5,
    "start_time": "2021-11-30T08:23:10.791Z"
   },
   {
    "duration": 27,
    "start_time": "2021-11-30T08:23:10.798Z"
   },
   {
    "duration": 22,
    "start_time": "2021-11-30T08:23:10.827Z"
   },
   {
    "duration": 7,
    "start_time": "2021-11-30T08:23:10.851Z"
   },
   {
    "duration": 8,
    "start_time": "2021-11-30T08:23:10.860Z"
   },
   {
    "duration": 3,
    "start_time": "2021-11-30T08:23:10.870Z"
   },
   {
    "duration": 19,
    "start_time": "2021-11-30T08:23:10.875Z"
   },
   {
    "duration": 8,
    "start_time": "2021-11-30T08:23:10.896Z"
   },
   {
    "duration": 49,
    "start_time": "2021-11-30T08:23:10.905Z"
   },
   {
    "duration": 19,
    "start_time": "2021-11-30T08:23:10.956Z"
   },
   {
    "duration": 7,
    "start_time": "2021-11-30T08:23:10.976Z"
   },
   {
    "duration": 39,
    "start_time": "2021-11-30T08:23:10.985Z"
   },
   {
    "duration": 24,
    "start_time": "2021-11-30T08:23:11.026Z"
   },
   {
    "duration": 18,
    "start_time": "2021-11-30T08:23:11.051Z"
   },
   {
    "duration": 20,
    "start_time": "2021-11-30T08:23:11.071Z"
   },
   {
    "duration": 226,
    "start_time": "2021-11-30T08:23:11.092Z"
   },
   {
    "duration": 13,
    "start_time": "2021-11-30T08:23:11.320Z"
   },
   {
    "duration": 16,
    "start_time": "2021-11-30T08:23:11.335Z"
   },
   {
    "duration": 34,
    "start_time": "2021-11-30T08:23:11.353Z"
   },
   {
    "duration": 9,
    "start_time": "2021-11-30T08:23:11.389Z"
   },
   {
    "duration": 9,
    "start_time": "2021-11-30T08:23:11.400Z"
   },
   {
    "duration": 27,
    "start_time": "2021-11-30T08:23:11.410Z"
   },
   {
    "duration": 29,
    "start_time": "2021-11-30T08:23:11.438Z"
   },
   {
    "duration": 26,
    "start_time": "2021-11-30T08:23:11.469Z"
   },
   {
    "duration": 20,
    "start_time": "2021-11-30T08:23:11.497Z"
   },
   {
    "duration": 32,
    "start_time": "2021-11-30T08:23:11.518Z"
   },
   {
    "duration": 22,
    "start_time": "2021-11-30T08:23:11.552Z"
   },
   {
    "duration": 39,
    "start_time": "2021-11-30T08:23:11.576Z"
   },
   {
    "duration": 31,
    "start_time": "2021-11-30T08:23:11.616Z"
   },
   {
    "duration": 262,
    "start_time": "2021-11-30T08:23:11.649Z"
   },
   {
    "duration": 256,
    "start_time": "2021-11-30T08:23:11.913Z"
   },
   {
    "duration": 255,
    "start_time": "2021-11-30T08:23:12.171Z"
   },
   {
    "duration": 7,
    "start_time": "2021-11-30T08:23:12.428Z"
   },
   {
    "duration": 21,
    "start_time": "2021-11-30T08:23:12.445Z"
   },
   {
    "duration": 12,
    "start_time": "2021-11-30T08:23:12.468Z"
   },
   {
    "duration": 9,
    "start_time": "2021-11-30T08:23:12.482Z"
   },
   {
    "duration": 7,
    "start_time": "2021-11-30T08:23:12.492Z"
   },
   {
    "duration": 6,
    "start_time": "2021-11-30T08:23:12.500Z"
   },
   {
    "duration": 211,
    "start_time": "2021-11-30T08:23:12.508Z"
   },
   {
    "duration": 250,
    "start_time": "2021-11-30T08:23:12.721Z"
   },
   {
    "duration": 3,
    "start_time": "2021-11-30T08:23:12.973Z"
   },
   {
    "duration": 7,
    "start_time": "2021-11-30T08:23:12.977Z"
   },
   {
    "duration": 9,
    "start_time": "2021-11-30T08:23:12.985Z"
   },
   {
    "duration": 89,
    "start_time": "2021-11-30T08:23:12.995Z"
   },
   {
    "duration": 3,
    "start_time": "2021-11-30T08:23:13.086Z"
   },
   {
    "duration": 6,
    "start_time": "2021-11-30T08:23:13.093Z"
   },
   {
    "duration": 1255,
    "start_time": "2021-11-30T08:44:52.551Z"
   },
   {
    "duration": 39,
    "start_time": "2021-11-30T08:44:53.807Z"
   },
   {
    "duration": 18,
    "start_time": "2021-11-30T08:44:53.849Z"
   },
   {
    "duration": 29,
    "start_time": "2021-11-30T08:44:53.869Z"
   },
   {
    "duration": 54,
    "start_time": "2021-11-30T08:44:53.900Z"
   },
   {
    "duration": 148,
    "start_time": "2021-11-30T08:44:53.956Z"
   },
   {
    "duration": 39,
    "start_time": "2021-11-30T08:44:54.106Z"
   },
   {
    "duration": 23,
    "start_time": "2021-11-30T08:44:54.148Z"
   },
   {
    "duration": 36,
    "start_time": "2021-11-30T08:44:54.173Z"
   },
   {
    "duration": 50,
    "start_time": "2021-11-30T08:44:54.211Z"
   },
   {
    "duration": 108,
    "start_time": "2021-11-30T08:44:54.263Z"
   },
   {
    "duration": 21,
    "start_time": "2021-11-30T08:44:54.373Z"
   },
   {
    "duration": 25,
    "start_time": "2021-11-30T08:44:54.396Z"
   },
   {
    "duration": 29,
    "start_time": "2021-11-30T08:44:54.423Z"
   },
   {
    "duration": 30,
    "start_time": "2021-11-30T08:44:54.454Z"
   },
   {
    "duration": 28,
    "start_time": "2021-11-30T08:44:54.486Z"
   },
   {
    "duration": 52,
    "start_time": "2021-11-30T08:44:54.516Z"
   },
   {
    "duration": 43,
    "start_time": "2021-11-30T08:44:54.570Z"
   },
   {
    "duration": 25,
    "start_time": "2021-11-30T08:44:54.615Z"
   },
   {
    "duration": 43,
    "start_time": "2021-11-30T08:44:54.642Z"
   },
   {
    "duration": 15,
    "start_time": "2021-11-30T08:44:54.687Z"
   },
   {
    "duration": 25,
    "start_time": "2021-11-30T08:44:54.703Z"
   },
   {
    "duration": 18,
    "start_time": "2021-11-30T08:44:54.732Z"
   },
   {
    "duration": 38,
    "start_time": "2021-11-30T08:44:54.752Z"
   },
   {
    "duration": 7,
    "start_time": "2021-11-30T08:44:54.791Z"
   },
   {
    "duration": 17,
    "start_time": "2021-11-30T08:44:54.799Z"
   },
   {
    "duration": 10,
    "start_time": "2021-11-30T08:44:54.818Z"
   },
   {
    "duration": 16,
    "start_time": "2021-11-30T08:44:54.829Z"
   },
   {
    "duration": 21,
    "start_time": "2021-11-30T08:44:54.847Z"
   },
   {
    "duration": 9,
    "start_time": "2021-11-30T08:44:54.870Z"
   },
   {
    "duration": 15,
    "start_time": "2021-11-30T08:44:54.881Z"
   },
   {
    "duration": 21,
    "start_time": "2021-11-30T08:44:54.898Z"
   },
   {
    "duration": 26,
    "start_time": "2021-11-30T08:44:54.921Z"
   },
   {
    "duration": 44,
    "start_time": "2021-11-30T08:44:54.949Z"
   },
   {
    "duration": 9,
    "start_time": "2021-11-30T08:44:54.994Z"
   },
   {
    "duration": 25,
    "start_time": "2021-11-30T08:44:55.005Z"
   },
   {
    "duration": 28,
    "start_time": "2021-11-30T08:44:55.031Z"
   },
   {
    "duration": 240,
    "start_time": "2021-11-30T08:44:55.061Z"
   },
   {
    "duration": 14,
    "start_time": "2021-11-30T08:44:55.302Z"
   },
   {
    "duration": 23,
    "start_time": "2021-11-30T08:44:55.318Z"
   },
   {
    "duration": 11,
    "start_time": "2021-11-30T08:44:55.345Z"
   },
   {
    "duration": 12,
    "start_time": "2021-11-30T08:44:55.357Z"
   },
   {
    "duration": 7,
    "start_time": "2021-11-30T08:44:55.371Z"
   },
   {
    "duration": 14,
    "start_time": "2021-11-30T08:44:55.380Z"
   },
   {
    "duration": 15,
    "start_time": "2021-11-30T08:44:55.396Z"
   },
   {
    "duration": 15,
    "start_time": "2021-11-30T08:44:55.413Z"
   },
   {
    "duration": 39,
    "start_time": "2021-11-30T08:44:55.429Z"
   },
   {
    "duration": 11,
    "start_time": "2021-11-30T08:44:55.470Z"
   },
   {
    "duration": 12,
    "start_time": "2021-11-30T08:44:55.483Z"
   },
   {
    "duration": 17,
    "start_time": "2021-11-30T08:44:55.497Z"
   },
   {
    "duration": 24,
    "start_time": "2021-11-30T08:44:55.515Z"
   },
   {
    "duration": 364,
    "start_time": "2021-11-30T08:44:55.541Z"
   },
   {
    "duration": 285,
    "start_time": "2021-11-30T08:44:55.907Z"
   },
   {
    "duration": 263,
    "start_time": "2021-11-30T08:44:56.194Z"
   },
   {
    "duration": 8,
    "start_time": "2021-11-30T08:44:56.459Z"
   },
   {
    "duration": 50,
    "start_time": "2021-11-30T08:44:56.469Z"
   },
   {
    "duration": 30,
    "start_time": "2021-11-30T08:44:56.521Z"
   },
   {
    "duration": 17,
    "start_time": "2021-11-30T08:44:56.552Z"
   },
   {
    "duration": 17,
    "start_time": "2021-11-30T08:44:56.571Z"
   },
   {
    "duration": 31,
    "start_time": "2021-11-30T08:44:56.589Z"
   },
   {
    "duration": 212,
    "start_time": "2021-11-30T08:44:56.622Z"
   },
   {
    "duration": 270,
    "start_time": "2021-11-30T08:44:56.836Z"
   },
   {
    "duration": 4,
    "start_time": "2021-11-30T08:44:57.107Z"
   },
   {
    "duration": 22,
    "start_time": "2021-11-30T08:44:57.112Z"
   },
   {
    "duration": 27,
    "start_time": "2021-11-30T08:44:57.135Z"
   },
   {
    "duration": 89,
    "start_time": "2021-11-30T08:44:57.164Z"
   },
   {
    "duration": 15,
    "start_time": "2021-11-30T08:44:57.255Z"
   },
   {
    "duration": 7,
    "start_time": "2021-11-30T08:44:57.275Z"
   },
   {
    "duration": 1252,
    "start_time": "2021-11-30T08:57:10.733Z"
   },
   {
    "duration": 29,
    "start_time": "2021-11-30T08:57:11.986Z"
   },
   {
    "duration": 34,
    "start_time": "2021-11-30T08:57:12.017Z"
   },
   {
    "duration": 27,
    "start_time": "2021-11-30T08:57:12.053Z"
   },
   {
    "duration": 32,
    "start_time": "2021-11-30T08:57:12.082Z"
   },
   {
    "duration": 158,
    "start_time": "2021-11-30T08:57:12.115Z"
   },
   {
    "duration": 22,
    "start_time": "2021-11-30T08:57:12.275Z"
   },
   {
    "duration": 24,
    "start_time": "2021-11-30T08:57:12.299Z"
   },
   {
    "duration": 35,
    "start_time": "2021-11-30T08:57:12.343Z"
   },
   {
    "duration": 44,
    "start_time": "2021-11-30T08:57:12.380Z"
   },
   {
    "duration": 107,
    "start_time": "2021-11-30T08:57:12.425Z"
   },
   {
    "duration": 23,
    "start_time": "2021-11-30T08:57:12.534Z"
   },
   {
    "duration": 15,
    "start_time": "2021-11-30T08:57:12.559Z"
   },
   {
    "duration": 25,
    "start_time": "2021-11-30T08:57:12.576Z"
   },
   {
    "duration": 38,
    "start_time": "2021-11-30T08:57:12.603Z"
   },
   {
    "duration": 13,
    "start_time": "2021-11-30T08:57:12.642Z"
   },
   {
    "duration": 13,
    "start_time": "2021-11-30T08:57:12.657Z"
   },
   {
    "duration": 57,
    "start_time": "2021-11-30T08:57:12.672Z"
   },
   {
    "duration": 9,
    "start_time": "2021-11-30T08:57:12.731Z"
   },
   {
    "duration": 54,
    "start_time": "2021-11-30T08:57:12.742Z"
   },
   {
    "duration": 15,
    "start_time": "2021-11-30T08:57:12.798Z"
   },
   {
    "duration": 25,
    "start_time": "2021-11-30T08:57:12.815Z"
   },
   {
    "duration": 21,
    "start_time": "2021-11-30T08:57:12.844Z"
   },
   {
    "duration": 49,
    "start_time": "2021-11-30T08:57:12.868Z"
   },
   {
    "duration": 8,
    "start_time": "2021-11-30T08:57:12.920Z"
   },
   {
    "duration": 17,
    "start_time": "2021-11-30T08:57:12.930Z"
   },
   {
    "duration": 15,
    "start_time": "2021-11-30T08:57:12.949Z"
   },
   {
    "duration": 14,
    "start_time": "2021-11-30T08:57:12.966Z"
   },
   {
    "duration": 51,
    "start_time": "2021-11-30T08:57:12.982Z"
   },
   {
    "duration": 9,
    "start_time": "2021-11-30T08:57:13.035Z"
   },
   {
    "duration": 25,
    "start_time": "2021-11-30T08:57:13.046Z"
   },
   {
    "duration": 23,
    "start_time": "2021-11-30T08:57:13.073Z"
   },
   {
    "duration": 6,
    "start_time": "2021-11-30T08:57:13.098Z"
   },
   {
    "duration": 67,
    "start_time": "2021-11-30T08:57:13.106Z"
   },
   {
    "duration": 8,
    "start_time": "2021-11-30T08:57:13.175Z"
   },
   {
    "duration": 38,
    "start_time": "2021-11-30T08:57:13.185Z"
   },
   {
    "duration": 37,
    "start_time": "2021-11-30T08:57:13.225Z"
   },
   {
    "duration": 234,
    "start_time": "2021-11-30T08:57:13.263Z"
   },
   {
    "duration": 14,
    "start_time": "2021-11-30T08:57:13.498Z"
   },
   {
    "duration": 34,
    "start_time": "2021-11-30T08:57:13.513Z"
   },
   {
    "duration": 31,
    "start_time": "2021-11-30T08:57:13.549Z"
   },
   {
    "duration": 34,
    "start_time": "2021-11-30T08:57:13.581Z"
   },
   {
    "duration": 32,
    "start_time": "2021-11-30T08:57:13.617Z"
   },
   {
    "duration": 34,
    "start_time": "2021-11-30T08:57:13.651Z"
   },
   {
    "duration": 66,
    "start_time": "2021-11-30T08:57:13.687Z"
   },
   {
    "duration": 34,
    "start_time": "2021-11-30T08:57:13.755Z"
   },
   {
    "duration": 30,
    "start_time": "2021-11-30T08:57:13.791Z"
   },
   {
    "duration": 22,
    "start_time": "2021-11-30T08:57:13.823Z"
   },
   {
    "duration": 29,
    "start_time": "2021-11-30T08:57:13.846Z"
   },
   {
    "duration": 41,
    "start_time": "2021-11-30T08:57:13.877Z"
   },
   {
    "duration": 43,
    "start_time": "2021-11-30T08:57:13.920Z"
   },
   {
    "duration": 278,
    "start_time": "2021-11-30T08:57:13.965Z"
   },
   {
    "duration": 259,
    "start_time": "2021-11-30T08:57:14.245Z"
   },
   {
    "duration": 250,
    "start_time": "2021-11-30T08:57:14.506Z"
   },
   {
    "duration": 9,
    "start_time": "2021-11-30T08:57:14.758Z"
   },
   {
    "duration": 29,
    "start_time": "2021-11-30T08:57:14.769Z"
   },
   {
    "duration": 46,
    "start_time": "2021-11-30T08:57:14.801Z"
   },
   {
    "duration": 34,
    "start_time": "2021-11-30T08:57:14.849Z"
   },
   {
    "duration": 32,
    "start_time": "2021-11-30T08:57:14.885Z"
   },
   {
    "duration": 37,
    "start_time": "2021-11-30T08:57:14.919Z"
   },
   {
    "duration": 235,
    "start_time": "2021-11-30T08:57:14.958Z"
   },
   {
    "duration": 257,
    "start_time": "2021-11-30T08:57:15.195Z"
   },
   {
    "duration": 3,
    "start_time": "2021-11-30T08:57:15.454Z"
   },
   {
    "duration": 18,
    "start_time": "2021-11-30T08:57:15.459Z"
   },
   {
    "duration": 30,
    "start_time": "2021-11-30T08:57:15.479Z"
   },
   {
    "duration": 100,
    "start_time": "2021-11-30T08:57:15.511Z"
   },
   {
    "duration": 22,
    "start_time": "2021-11-30T08:57:15.613Z"
   },
   {
    "duration": 24,
    "start_time": "2021-11-30T08:57:15.640Z"
   },
   {
    "duration": 189,
    "start_time": "2021-11-30T09:08:59.471Z"
   },
   {
    "duration": 190,
    "start_time": "2021-11-30T09:09:10.257Z"
   },
   {
    "duration": 190,
    "start_time": "2021-11-30T09:09:19.855Z"
   },
   {
    "duration": 1206,
    "start_time": "2021-11-30T15:41:59.492Z"
   },
   {
    "duration": 27,
    "start_time": "2021-11-30T15:42:00.701Z"
   },
   {
    "duration": 28,
    "start_time": "2021-11-30T15:42:00.729Z"
   },
   {
    "duration": 10,
    "start_time": "2021-11-30T15:42:00.759Z"
   },
   {
    "duration": 27,
    "start_time": "2021-11-30T15:42:22.722Z"
   },
   {
    "duration": 27,
    "start_time": "2021-11-30T15:42:34.399Z"
   },
   {
    "duration": 397,
    "start_time": "2021-11-30T15:46:25.236Z"
   },
   {
    "duration": 195,
    "start_time": "2021-11-30T15:46:33.195Z"
   },
   {
    "duration": 28,
    "start_time": "2021-11-30T15:46:33.392Z"
   },
   {
    "duration": 39,
    "start_time": "2021-11-30T15:46:33.421Z"
   },
   {
    "duration": 15,
    "start_time": "2021-11-30T15:46:33.462Z"
   },
   {
    "duration": 63,
    "start_time": "2021-11-30T15:46:33.478Z"
   },
   {
    "duration": 48,
    "start_time": "2021-11-30T15:46:33.543Z"
   },
   {
    "duration": 34,
    "start_time": "2021-11-30T15:46:39.798Z"
   },
   {
    "duration": 45,
    "start_time": "2021-11-30T15:46:49.539Z"
   },
   {
    "duration": 65,
    "start_time": "2021-11-30T15:47:38.286Z"
   },
   {
    "duration": 46,
    "start_time": "2021-11-30T15:48:50.352Z"
   },
   {
    "duration": 29,
    "start_time": "2021-11-30T15:49:01.797Z"
   },
   {
    "duration": 35,
    "start_time": "2021-11-30T15:49:12.320Z"
   },
   {
    "duration": 36,
    "start_time": "2021-11-30T15:50:04.124Z"
   },
   {
    "duration": 136,
    "start_time": "2021-11-30T15:51:51.781Z"
   },
   {
    "duration": 21,
    "start_time": "2021-11-30T15:51:58.139Z"
   },
   {
    "duration": 19,
    "start_time": "2021-11-30T15:52:01.494Z"
   },
   {
    "duration": 32,
    "start_time": "2021-11-30T15:52:05.564Z"
   },
   {
    "duration": 23,
    "start_time": "2021-11-30T15:54:21.595Z"
   },
   {
    "duration": 103,
    "start_time": "2021-11-30T15:54:25.231Z"
   },
   {
    "duration": 19,
    "start_time": "2021-11-30T15:54:30.806Z"
   },
   {
    "duration": 12,
    "start_time": "2021-11-30T15:54:34.788Z"
   },
   {
    "duration": 15,
    "start_time": "2021-11-30T15:55:00.531Z"
   },
   {
    "duration": 24,
    "start_time": "2021-11-30T15:55:11.416Z"
   },
   {
    "duration": 13,
    "start_time": "2021-11-30T15:55:31.644Z"
   },
   {
    "duration": 16,
    "start_time": "2021-11-30T15:55:37.332Z"
   },
   {
    "duration": 162,
    "start_time": "2021-11-30T16:00:50.163Z"
   },
   {
    "duration": 43,
    "start_time": "2021-11-30T16:00:50.326Z"
   },
   {
    "duration": 32,
    "start_time": "2021-11-30T16:00:50.371Z"
   },
   {
    "duration": 3,
    "start_time": "2021-11-30T16:00:50.405Z"
   },
   {
    "duration": 92,
    "start_time": "2021-11-30T16:00:50.409Z"
   },
   {
    "duration": 38,
    "start_time": "2021-11-30T16:00:50.503Z"
   },
   {
    "duration": 152,
    "start_time": "2021-11-30T16:00:50.543Z"
   },
   {
    "duration": 23,
    "start_time": "2021-11-30T16:00:50.697Z"
   },
   {
    "duration": 53,
    "start_time": "2021-11-30T16:00:50.722Z"
   },
   {
    "duration": 49,
    "start_time": "2021-11-30T16:00:50.777Z"
   },
   {
    "duration": 25,
    "start_time": "2021-11-30T16:00:50.828Z"
   },
   {
    "duration": 114,
    "start_time": "2021-11-30T16:00:50.855Z"
   },
   {
    "duration": 19,
    "start_time": "2021-11-30T16:00:50.970Z"
   },
   {
    "duration": 48,
    "start_time": "2021-11-30T16:00:50.991Z"
   },
   {
    "duration": 55,
    "start_time": "2021-11-30T16:00:51.041Z"
   },
   {
    "duration": 44,
    "start_time": "2021-11-30T16:00:51.098Z"
   },
   {
    "duration": 13,
    "start_time": "2021-11-30T16:00:51.144Z"
   },
   {
    "duration": 36,
    "start_time": "2021-11-30T16:00:51.159Z"
   },
   {
    "duration": 17,
    "start_time": "2021-11-30T16:00:55.467Z"
   },
   {
    "duration": 1109,
    "start_time": "2021-12-01T02:29:28.514Z"
   },
   {
    "duration": 26,
    "start_time": "2021-12-01T02:29:29.625Z"
   },
   {
    "duration": 14,
    "start_time": "2021-12-01T02:29:29.653Z"
   },
   {
    "duration": 2,
    "start_time": "2021-12-01T02:29:29.669Z"
   },
   {
    "duration": 41,
    "start_time": "2021-12-01T02:29:29.688Z"
   },
   {
    "duration": 35,
    "start_time": "2021-12-01T02:29:29.731Z"
   },
   {
    "duration": 137,
    "start_time": "2021-12-01T02:29:29.768Z"
   },
   {
    "duration": 19,
    "start_time": "2021-12-01T02:29:29.908Z"
   },
   {
    "duration": 17,
    "start_time": "2021-12-01T02:29:29.929Z"
   },
   {
    "duration": 48,
    "start_time": "2021-12-01T02:29:29.948Z"
   },
   {
    "duration": 25,
    "start_time": "2021-12-01T02:29:29.998Z"
   },
   {
    "duration": 100,
    "start_time": "2021-12-01T02:29:30.025Z"
   },
   {
    "duration": 17,
    "start_time": "2021-12-01T02:29:30.126Z"
   },
   {
    "duration": 11,
    "start_time": "2021-12-01T02:29:30.145Z"
   },
   {
    "duration": 34,
    "start_time": "2021-12-01T02:29:30.157Z"
   },
   {
    "duration": 23,
    "start_time": "2021-12-01T02:29:30.192Z"
   },
   {
    "duration": 13,
    "start_time": "2021-12-01T02:29:30.216Z"
   },
   {
    "duration": 2,
    "start_time": "2021-12-01T02:29:30.230Z"
   },
   {
    "duration": 23,
    "start_time": "2021-12-01T02:29:30.234Z"
   },
   {
    "duration": 35,
    "start_time": "2021-12-01T02:29:30.259Z"
   },
   {
    "duration": 5,
    "start_time": "2021-12-01T02:29:30.295Z"
   },
   {
    "duration": 27,
    "start_time": "2021-12-01T02:29:30.302Z"
   },
   {
    "duration": 344,
    "start_time": "2021-12-01T02:29:30.331Z"
   },
   {
    "duration": 586,
    "start_time": "2021-12-01T02:29:30.091Z"
   },
   {
    "duration": 581,
    "start_time": "2021-12-01T02:29:30.097Z"
   },
   {
    "duration": 232,
    "start_time": "2021-12-01T02:29:36.840Z"
   },
   {
    "duration": 1113,
    "start_time": "2021-12-01T02:29:49.099Z"
   },
   {
    "duration": 26,
    "start_time": "2021-12-01T02:29:50.214Z"
   },
   {
    "duration": 15,
    "start_time": "2021-12-01T02:29:50.241Z"
   },
   {
    "duration": 2,
    "start_time": "2021-12-01T02:29:50.258Z"
   },
   {
    "duration": 56,
    "start_time": "2021-12-01T02:29:50.261Z"
   },
   {
    "duration": 35,
    "start_time": "2021-12-01T02:29:50.319Z"
   },
   {
    "duration": 136,
    "start_time": "2021-12-01T02:29:50.356Z"
   },
   {
    "duration": 19,
    "start_time": "2021-12-01T02:29:50.494Z"
   },
   {
    "duration": 17,
    "start_time": "2021-12-01T02:29:50.514Z"
   },
   {
    "duration": 27,
    "start_time": "2021-12-01T02:29:50.532Z"
   },
   {
    "duration": 44,
    "start_time": "2021-12-01T02:29:50.560Z"
   },
   {
    "duration": 93,
    "start_time": "2021-12-01T02:29:50.605Z"
   },
   {
    "duration": 17,
    "start_time": "2021-12-01T02:29:50.699Z"
   },
   {
    "duration": 10,
    "start_time": "2021-12-01T02:29:50.717Z"
   },
   {
    "duration": 13,
    "start_time": "2021-12-01T02:29:50.728Z"
   },
   {
    "duration": 21,
    "start_time": "2021-12-01T02:29:50.742Z"
   },
   {
    "duration": 12,
    "start_time": "2021-12-01T02:29:50.787Z"
   },
   {
    "duration": 2,
    "start_time": "2021-12-01T02:29:50.800Z"
   },
   {
    "duration": 17,
    "start_time": "2021-12-01T02:29:50.803Z"
   },
   {
    "duration": 34,
    "start_time": "2021-12-01T02:29:50.821Z"
   },
   {
    "duration": 5,
    "start_time": "2021-12-01T02:29:50.856Z"
   },
   {
    "duration": 28,
    "start_time": "2021-12-01T02:29:50.863Z"
   },
   {
    "duration": 304,
    "start_time": "2021-12-01T02:29:50.894Z"
   },
   {
    "duration": 348,
    "start_time": "2021-12-01T02:29:50.852Z"
   },
   {
    "duration": 346,
    "start_time": "2021-12-01T02:29:50.855Z"
   },
   {
    "duration": 343,
    "start_time": "2021-12-01T02:29:50.859Z"
   },
   {
    "duration": 341,
    "start_time": "2021-12-01T02:29:50.862Z"
   },
   {
    "duration": 339,
    "start_time": "2021-12-01T02:29:50.865Z"
   },
   {
    "duration": 337,
    "start_time": "2021-12-01T02:29:50.868Z"
   },
   {
    "duration": 334,
    "start_time": "2021-12-01T02:29:50.872Z"
   },
   {
    "duration": 332,
    "start_time": "2021-12-01T02:29:50.874Z"
   },
   {
    "duration": 329,
    "start_time": "2021-12-01T02:29:50.878Z"
   },
   {
    "duration": 327,
    "start_time": "2021-12-01T02:29:50.881Z"
   },
   {
    "duration": 325,
    "start_time": "2021-12-01T02:29:50.884Z"
   },
   {
    "duration": 281,
    "start_time": "2021-12-01T02:29:50.929Z"
   },
   {
    "duration": 273,
    "start_time": "2021-12-01T02:29:50.938Z"
   },
   {
    "duration": 266,
    "start_time": "2021-12-01T02:29:50.945Z"
   },
   {
    "duration": 263,
    "start_time": "2021-12-01T02:29:50.949Z"
   },
   {
    "duration": 261,
    "start_time": "2021-12-01T02:29:50.952Z"
   },
   {
    "duration": 259,
    "start_time": "2021-12-01T02:29:50.955Z"
   },
   {
    "duration": 256,
    "start_time": "2021-12-01T02:29:50.959Z"
   },
   {
    "duration": 254,
    "start_time": "2021-12-01T02:29:50.962Z"
   },
   {
    "duration": 251,
    "start_time": "2021-12-01T02:29:50.965Z"
   },
   {
    "duration": 248,
    "start_time": "2021-12-01T02:29:50.969Z"
   },
   {
    "duration": 246,
    "start_time": "2021-12-01T02:29:50.972Z"
   },
   {
    "duration": 244,
    "start_time": "2021-12-01T02:29:50.975Z"
   },
   {
    "duration": 242,
    "start_time": "2021-12-01T02:29:50.978Z"
   },
   {
    "duration": 238,
    "start_time": "2021-12-01T02:29:50.983Z"
   },
   {
    "duration": 235,
    "start_time": "2021-12-01T02:29:50.987Z"
   },
   {
    "duration": 233,
    "start_time": "2021-12-01T02:29:50.990Z"
   },
   {
    "duration": 231,
    "start_time": "2021-12-01T02:29:50.993Z"
   },
   {
    "duration": 228,
    "start_time": "2021-12-01T02:29:50.997Z"
   },
   {
    "duration": 226,
    "start_time": "2021-12-01T02:29:51.000Z"
   },
   {
    "duration": 224,
    "start_time": "2021-12-01T02:29:51.003Z"
   },
   {
    "duration": 222,
    "start_time": "2021-12-01T02:29:51.006Z"
   },
   {
    "duration": 219,
    "start_time": "2021-12-01T02:29:51.010Z"
   },
   {
    "duration": 216,
    "start_time": "2021-12-01T02:29:51.013Z"
   },
   {
    "duration": 214,
    "start_time": "2021-12-01T02:29:51.016Z"
   },
   {
    "duration": 212,
    "start_time": "2021-12-01T02:29:51.019Z"
   },
   {
    "duration": 209,
    "start_time": "2021-12-01T02:29:51.023Z"
   },
   {
    "duration": 207,
    "start_time": "2021-12-01T02:29:51.026Z"
   },
   {
    "duration": 190,
    "start_time": "2021-12-01T02:29:51.044Z"
   },
   {
    "duration": 186,
    "start_time": "2021-12-01T02:29:51.049Z"
   },
   {
    "duration": 182,
    "start_time": "2021-12-01T02:29:51.053Z"
   },
   {
    "duration": 180,
    "start_time": "2021-12-01T02:29:51.056Z"
   },
   {
    "duration": 176,
    "start_time": "2021-12-01T02:29:51.061Z"
   },
   {
    "duration": 174,
    "start_time": "2021-12-01T02:29:51.064Z"
   },
   {
    "duration": 219,
    "start_time": "2021-12-01T02:29:51.068Z"
   },
   {
    "duration": 217,
    "start_time": "2021-12-01T02:29:51.071Z"
   },
   {
    "duration": 214,
    "start_time": "2021-12-01T02:29:51.075Z"
   },
   {
    "duration": 151,
    "start_time": "2021-12-01T02:30:40.597Z"
   },
   {
    "duration": 24,
    "start_time": "2021-12-01T02:30:40.750Z"
   },
   {
    "duration": 23,
    "start_time": "2021-12-01T02:30:40.776Z"
   },
   {
    "duration": 2,
    "start_time": "2021-12-01T02:30:40.801Z"
   },
   {
    "duration": 48,
    "start_time": "2021-12-01T02:30:40.804Z"
   },
   {
    "duration": 43,
    "start_time": "2021-12-01T02:30:40.853Z"
   },
   {
    "duration": 134,
    "start_time": "2021-12-01T02:30:40.897Z"
   },
   {
    "duration": 20,
    "start_time": "2021-12-01T02:30:41.032Z"
   },
   {
    "duration": 17,
    "start_time": "2021-12-01T02:30:41.054Z"
   },
   {
    "duration": 40,
    "start_time": "2021-12-01T02:30:41.072Z"
   },
   {
    "duration": 22,
    "start_time": "2021-12-01T02:30:41.114Z"
   },
   {
    "duration": 100,
    "start_time": "2021-12-01T02:30:41.137Z"
   },
   {
    "duration": 17,
    "start_time": "2021-12-01T02:30:41.238Z"
   },
   {
    "duration": 9,
    "start_time": "2021-12-01T02:30:41.257Z"
   },
   {
    "duration": 28,
    "start_time": "2021-12-01T02:30:41.268Z"
   },
   {
    "duration": 20,
    "start_time": "2021-12-01T02:30:41.298Z"
   },
   {
    "duration": 11,
    "start_time": "2021-12-01T02:30:41.320Z"
   },
   {
    "duration": 2,
    "start_time": "2021-12-01T02:30:41.332Z"
   },
   {
    "duration": 16,
    "start_time": "2021-12-01T02:30:41.335Z"
   },
   {
    "duration": 38,
    "start_time": "2021-12-01T02:30:41.353Z"
   },
   {
    "duration": 6,
    "start_time": "2021-12-01T02:30:41.392Z"
   },
   {
    "duration": 23,
    "start_time": "2021-12-01T02:30:41.399Z"
   },
   {
    "duration": 24,
    "start_time": "2021-12-01T02:30:48.063Z"
   },
   {
    "duration": 5,
    "start_time": "2021-12-01T02:30:52.252Z"
   },
   {
    "duration": 26,
    "start_time": "2021-12-01T02:30:57.522Z"
   },
   {
    "duration": 7,
    "start_time": "2021-12-01T02:31:04.450Z"
   },
   {
    "duration": 8,
    "start_time": "2021-12-01T02:31:15.627Z"
   },
   {
    "duration": 9,
    "start_time": "2021-12-01T02:31:35.440Z"
   },
   {
    "duration": 8,
    "start_time": "2021-12-01T02:32:48.994Z"
   },
   {
    "duration": 10,
    "start_time": "2021-12-01T02:34:17.242Z"
   },
   {
    "duration": 6,
    "start_time": "2021-12-01T02:34:31.407Z"
   },
   {
    "duration": 20,
    "start_time": "2021-12-01T02:36:35.181Z"
   },
   {
    "duration": 183,
    "start_time": "2021-12-01T02:36:40.373Z"
   },
   {
    "duration": 30,
    "start_time": "2021-12-01T02:36:40.558Z"
   },
   {
    "duration": 14,
    "start_time": "2021-12-01T02:36:40.590Z"
   },
   {
    "duration": 2,
    "start_time": "2021-12-01T02:36:40.606Z"
   },
   {
    "duration": 45,
    "start_time": "2021-12-01T02:36:40.609Z"
   },
   {
    "duration": 52,
    "start_time": "2021-12-01T02:36:40.656Z"
   },
   {
    "duration": 136,
    "start_time": "2021-12-01T02:36:40.709Z"
   },
   {
    "duration": 20,
    "start_time": "2021-12-01T02:36:40.846Z"
   },
   {
    "duration": 27,
    "start_time": "2021-12-01T02:36:40.868Z"
   },
   {
    "duration": 29,
    "start_time": "2021-12-01T02:36:40.896Z"
   },
   {
    "duration": 23,
    "start_time": "2021-12-01T02:36:40.927Z"
   },
   {
    "duration": 112,
    "start_time": "2021-12-01T02:36:40.952Z"
   },
   {
    "duration": 27,
    "start_time": "2021-12-01T02:36:41.065Z"
   },
   {
    "duration": 12,
    "start_time": "2021-12-01T02:36:41.093Z"
   },
   {
    "duration": 13,
    "start_time": "2021-12-01T02:36:41.107Z"
   },
   {
    "duration": 21,
    "start_time": "2021-12-01T02:36:41.122Z"
   },
   {
    "duration": 13,
    "start_time": "2021-12-01T02:36:41.144Z"
   },
   {
    "duration": 30,
    "start_time": "2021-12-01T02:36:41.158Z"
   },
   {
    "duration": 19,
    "start_time": "2021-12-01T02:36:41.190Z"
   },
   {
    "duration": 35,
    "start_time": "2021-12-01T02:36:41.211Z"
   },
   {
    "duration": 5,
    "start_time": "2021-12-01T02:36:41.247Z"
   },
   {
    "duration": 26,
    "start_time": "2021-12-01T02:36:41.254Z"
   },
   {
    "duration": 2,
    "start_time": "2021-12-01T02:36:41.281Z"
   },
   {
    "duration": 26,
    "start_time": "2021-12-01T02:36:41.284Z"
   },
   {
    "duration": 4,
    "start_time": "2021-12-01T02:36:41.311Z"
   },
   {
    "duration": 29,
    "start_time": "2021-12-01T02:36:41.316Z"
   },
   {
    "duration": 5,
    "start_time": "2021-12-01T02:36:41.347Z"
   },
   {
    "duration": 6,
    "start_time": "2021-12-01T02:36:41.354Z"
   },
   {
    "duration": 29,
    "start_time": "2021-12-01T02:36:41.361Z"
   },
   {
    "duration": 3,
    "start_time": "2021-12-01T02:36:41.392Z"
   },
   {
    "duration": 19,
    "start_time": "2021-12-01T02:36:45.481Z"
   },
   {
    "duration": 9,
    "start_time": "2021-12-01T02:36:57.916Z"
   },
   {
    "duration": 9,
    "start_time": "2021-12-01T02:37:46.987Z"
   },
   {
    "duration": 16,
    "start_time": "2021-12-01T02:38:51.737Z"
   },
   {
    "duration": 246,
    "start_time": "2021-12-01T02:39:02.598Z"
   },
   {
    "duration": 175,
    "start_time": "2021-12-01T02:39:14.375Z"
   },
   {
    "duration": 26,
    "start_time": "2021-12-01T02:39:14.552Z"
   },
   {
    "duration": 14,
    "start_time": "2021-12-01T02:39:14.589Z"
   },
   {
    "duration": 2,
    "start_time": "2021-12-01T02:39:14.605Z"
   },
   {
    "duration": 45,
    "start_time": "2021-12-01T02:39:14.608Z"
   },
   {
    "duration": 53,
    "start_time": "2021-12-01T02:39:14.654Z"
   },
   {
    "duration": 131,
    "start_time": "2021-12-01T02:39:14.708Z"
   },
   {
    "duration": 21,
    "start_time": "2021-12-01T02:39:14.841Z"
   },
   {
    "duration": 30,
    "start_time": "2021-12-01T02:39:14.863Z"
   },
   {
    "duration": 29,
    "start_time": "2021-12-01T02:39:14.895Z"
   },
   {
    "duration": 24,
    "start_time": "2021-12-01T02:39:14.926Z"
   },
   {
    "duration": 115,
    "start_time": "2021-12-01T02:39:14.951Z"
   },
   {
    "duration": 26,
    "start_time": "2021-12-01T02:39:15.067Z"
   },
   {
    "duration": 12,
    "start_time": "2021-12-01T02:39:15.094Z"
   },
   {
    "duration": 14,
    "start_time": "2021-12-01T02:39:15.108Z"
   },
   {
    "duration": 22,
    "start_time": "2021-12-01T02:39:15.123Z"
   },
   {
    "duration": 12,
    "start_time": "2021-12-01T02:39:15.146Z"
   },
   {
    "duration": 2,
    "start_time": "2021-12-01T02:39:15.188Z"
   },
   {
    "duration": 22,
    "start_time": "2021-12-01T02:39:15.192Z"
   },
   {
    "duration": 35,
    "start_time": "2021-12-01T02:39:15.216Z"
   },
   {
    "duration": 5,
    "start_time": "2021-12-01T02:39:15.253Z"
   },
   {
    "duration": 23,
    "start_time": "2021-12-01T02:39:15.260Z"
   },
   {
    "duration": 2,
    "start_time": "2021-12-01T02:39:15.286Z"
   },
   {
    "duration": 25,
    "start_time": "2021-12-01T02:39:15.289Z"
   },
   {
    "duration": 5,
    "start_time": "2021-12-01T02:39:15.315Z"
   },
   {
    "duration": 29,
    "start_time": "2021-12-01T02:39:15.321Z"
   },
   {
    "duration": 6,
    "start_time": "2021-12-01T02:39:15.352Z"
   },
   {
    "duration": 7,
    "start_time": "2021-12-01T02:39:15.359Z"
   },
   {
    "duration": 24,
    "start_time": "2021-12-01T02:39:15.368Z"
   },
   {
    "duration": 9,
    "start_time": "2021-12-01T02:39:18.529Z"
   },
   {
    "duration": 5,
    "start_time": "2021-12-01T02:39:23.451Z"
   },
   {
    "duration": 15,
    "start_time": "2021-12-01T02:39:54.405Z"
   },
   {
    "duration": 259,
    "start_time": "2021-12-01T02:40:59.756Z"
   },
   {
    "duration": 10,
    "start_time": "2021-12-01T02:41:10.161Z"
   },
   {
    "duration": 13,
    "start_time": "2021-12-01T02:41:25.360Z"
   },
   {
    "duration": 14,
    "start_time": "2021-12-01T02:46:48.208Z"
   },
   {
    "duration": 152,
    "start_time": "2021-12-01T02:46:59.531Z"
   },
   {
    "duration": 25,
    "start_time": "2021-12-01T02:46:59.685Z"
   },
   {
    "duration": 14,
    "start_time": "2021-12-01T02:46:59.712Z"
   },
   {
    "duration": 2,
    "start_time": "2021-12-01T02:46:59.728Z"
   },
   {
    "duration": 68,
    "start_time": "2021-12-01T02:46:59.731Z"
   },
   {
    "duration": 37,
    "start_time": "2021-12-01T02:46:59.801Z"
   },
   {
    "duration": 136,
    "start_time": "2021-12-01T02:46:59.840Z"
   },
   {
    "duration": 25,
    "start_time": "2021-12-01T02:46:59.979Z"
   },
   {
    "duration": 19,
    "start_time": "2021-12-01T02:47:00.006Z"
   },
   {
    "duration": 31,
    "start_time": "2021-12-01T02:47:00.027Z"
   },
   {
    "duration": 45,
    "start_time": "2021-12-01T02:47:00.059Z"
   },
   {
    "duration": 102,
    "start_time": "2021-12-01T02:47:00.106Z"
   },
   {
    "duration": 19,
    "start_time": "2021-12-01T02:47:00.210Z"
   },
   {
    "duration": 13,
    "start_time": "2021-12-01T02:47:00.231Z"
   },
   {
    "duration": 14,
    "start_time": "2021-12-01T02:47:00.246Z"
   },
   {
    "duration": 49,
    "start_time": "2021-12-01T02:47:00.261Z"
   },
   {
    "duration": 14,
    "start_time": "2021-12-01T02:47:00.312Z"
   },
   {
    "duration": 2,
    "start_time": "2021-12-01T02:47:00.328Z"
   },
   {
    "duration": 18,
    "start_time": "2021-12-01T02:47:00.332Z"
   },
   {
    "duration": 50,
    "start_time": "2021-12-01T02:47:00.352Z"
   },
   {
    "duration": 5,
    "start_time": "2021-12-01T02:47:00.404Z"
   },
   {
    "duration": 27,
    "start_time": "2021-12-01T02:47:00.411Z"
   },
   {
    "duration": 2,
    "start_time": "2021-12-01T02:47:00.441Z"
   },
   {
    "duration": 28,
    "start_time": "2021-12-01T02:47:00.445Z"
   },
   {
    "duration": 15,
    "start_time": "2021-12-01T02:47:00.475Z"
   },
   {
    "duration": 28,
    "start_time": "2021-12-01T02:47:00.492Z"
   },
   {
    "duration": 7,
    "start_time": "2021-12-01T02:47:00.522Z"
   },
   {
    "duration": 9,
    "start_time": "2021-12-01T02:47:00.531Z"
   },
   {
    "duration": 9,
    "start_time": "2021-12-01T02:47:00.542Z"
   },
   {
    "duration": 42,
    "start_time": "2021-12-01T02:47:00.553Z"
   },
   {
    "duration": 5,
    "start_time": "2021-12-01T02:47:00.597Z"
   },
   {
    "duration": 17,
    "start_time": "2021-12-01T02:47:00.604Z"
   },
   {
    "duration": 19,
    "start_time": "2021-12-01T02:47:00.622Z"
   },
   {
    "duration": 10,
    "start_time": "2021-12-01T02:47:00.643Z"
   },
   {
    "duration": 13,
    "start_time": "2021-12-01T02:47:00.688Z"
   },
   {
    "duration": 11,
    "start_time": "2021-12-01T02:47:05.448Z"
   },
   {
    "duration": 78,
    "start_time": "2021-12-01T02:47:31.084Z"
   },
   {
    "duration": 7,
    "start_time": "2021-12-01T02:47:39.786Z"
   },
   {
    "duration": 36,
    "start_time": "2021-12-01T02:47:47.563Z"
   },
   {
    "duration": 8,
    "start_time": "2021-12-01T02:49:13.423Z"
   },
   {
    "duration": 8,
    "start_time": "2021-12-01T02:49:17.957Z"
   },
   {
    "duration": 17,
    "start_time": "2021-12-01T02:49:22.642Z"
   },
   {
    "duration": 214,
    "start_time": "2021-12-01T02:49:39.673Z"
   },
   {
    "duration": 410,
    "start_time": "2021-12-01T03:23:46.916Z"
   },
   {
    "duration": 388,
    "start_time": "2021-12-01T03:24:24.462Z"
   },
   {
    "duration": 172,
    "start_time": "2021-12-01T03:24:48.073Z"
   },
   {
    "duration": 43,
    "start_time": "2021-12-01T03:24:48.246Z"
   },
   {
    "duration": 15,
    "start_time": "2021-12-01T03:24:48.291Z"
   },
   {
    "duration": 2,
    "start_time": "2021-12-01T03:24:48.307Z"
   },
   {
    "duration": 46,
    "start_time": "2021-12-01T03:24:48.311Z"
   },
   {
    "duration": 52,
    "start_time": "2021-12-01T03:24:48.358Z"
   },
   {
    "duration": 134,
    "start_time": "2021-12-01T03:24:48.412Z"
   },
   {
    "duration": 19,
    "start_time": "2021-12-01T03:24:48.549Z"
   },
   {
    "duration": 29,
    "start_time": "2021-12-01T03:24:48.570Z"
   },
   {
    "duration": 28,
    "start_time": "2021-12-01T03:24:48.600Z"
   },
   {
    "duration": 22,
    "start_time": "2021-12-01T03:24:48.630Z"
   },
   {
    "duration": 104,
    "start_time": "2021-12-01T03:24:48.654Z"
   },
   {
    "duration": 17,
    "start_time": "2021-12-01T03:24:48.759Z"
   },
   {
    "duration": 11,
    "start_time": "2021-12-01T03:24:48.787Z"
   },
   {
    "duration": 13,
    "start_time": "2021-12-01T03:24:48.799Z"
   },
   {
    "duration": 22,
    "start_time": "2021-12-01T03:24:48.814Z"
   },
   {
    "duration": 12,
    "start_time": "2021-12-01T03:24:48.837Z"
   },
   {
    "duration": 2,
    "start_time": "2021-12-01T03:24:48.850Z"
   },
   {
    "duration": 41,
    "start_time": "2021-12-01T03:24:48.854Z"
   },
   {
    "duration": 36,
    "start_time": "2021-12-01T03:24:48.896Z"
   },
   {
    "duration": 5,
    "start_time": "2021-12-01T03:24:48.933Z"
   },
   {
    "duration": 26,
    "start_time": "2021-12-01T03:24:48.940Z"
   },
   {
    "duration": 2,
    "start_time": "2021-12-01T03:24:48.969Z"
   },
   {
    "duration": 25,
    "start_time": "2021-12-01T03:24:48.972Z"
   },
   {
    "duration": 4,
    "start_time": "2021-12-01T03:24:48.998Z"
   },
   {
    "duration": 27,
    "start_time": "2021-12-01T03:24:49.004Z"
   },
   {
    "duration": 5,
    "start_time": "2021-12-01T03:24:49.033Z"
   },
   {
    "duration": 8,
    "start_time": "2021-12-01T03:24:49.039Z"
   },
   {
    "duration": 8,
    "start_time": "2021-12-01T03:24:49.048Z"
   },
   {
    "duration": 9,
    "start_time": "2021-12-01T03:24:49.088Z"
   },
   {
    "duration": 5,
    "start_time": "2021-12-01T03:24:49.099Z"
   },
   {
    "duration": 15,
    "start_time": "2021-12-01T03:24:49.105Z"
   },
   {
    "duration": 18,
    "start_time": "2021-12-01T03:24:49.122Z"
   },
   {
    "duration": 9,
    "start_time": "2021-12-01T03:24:49.141Z"
   },
   {
    "duration": 41,
    "start_time": "2021-12-01T03:24:49.152Z"
   },
   {
    "duration": 14,
    "start_time": "2021-12-01T03:24:49.194Z"
   },
   {
    "duration": 8,
    "start_time": "2021-12-01T03:24:49.210Z"
   },
   {
    "duration": 38,
    "start_time": "2021-12-01T03:24:49.219Z"
   },
   {
    "duration": 7,
    "start_time": "2021-12-01T03:24:49.258Z"
   },
   {
    "duration": 27,
    "start_time": "2021-12-01T03:24:49.267Z"
   },
   {
    "duration": 17,
    "start_time": "2021-12-01T03:24:49.295Z"
   },
   {
    "duration": 429,
    "start_time": "2021-12-01T03:25:02.196Z"
   },
   {
    "duration": 408,
    "start_time": "2021-12-01T03:25:39.363Z"
   },
   {
    "duration": 395,
    "start_time": "2021-12-01T03:29:10.954Z"
   },
   {
    "duration": 210,
    "start_time": "2021-12-01T03:30:45.704Z"
   },
   {
    "duration": 14,
    "start_time": "2021-12-01T03:32:56.564Z"
   },
   {
    "duration": 9,
    "start_time": "2021-12-01T03:33:04.394Z"
   },
   {
    "duration": 10,
    "start_time": "2021-12-01T03:33:08.955Z"
   },
   {
    "duration": 10,
    "start_time": "2021-12-01T03:33:12.929Z"
   },
   {
    "duration": 8,
    "start_time": "2021-12-01T03:33:17.771Z"
   },
   {
    "duration": 7,
    "start_time": "2021-12-01T03:33:24.665Z"
   },
   {
    "duration": 7,
    "start_time": "2021-12-01T03:34:11.484Z"
   },
   {
    "duration": 7,
    "start_time": "2021-12-01T03:34:23.601Z"
   },
   {
    "duration": 7,
    "start_time": "2021-12-01T03:34:33.058Z"
   },
   {
    "duration": 7,
    "start_time": "2021-12-01T03:34:40.878Z"
   },
   {
    "duration": 3,
    "start_time": "2021-12-01T03:34:50.104Z"
   },
   {
    "duration": 174,
    "start_time": "2021-12-01T04:09:20.928Z"
   },
   {
    "duration": 25,
    "start_time": "2021-12-01T04:09:21.104Z"
   },
   {
    "duration": 14,
    "start_time": "2021-12-01T04:09:21.131Z"
   },
   {
    "duration": 2,
    "start_time": "2021-12-01T04:09:21.147Z"
   },
   {
    "duration": 70,
    "start_time": "2021-12-01T04:09:21.150Z"
   },
   {
    "duration": 35,
    "start_time": "2021-12-01T04:09:21.221Z"
   },
   {
    "duration": 140,
    "start_time": "2021-12-01T04:09:21.258Z"
   },
   {
    "duration": 19,
    "start_time": "2021-12-01T04:09:21.399Z"
   },
   {
    "duration": 18,
    "start_time": "2021-12-01T04:09:21.421Z"
   },
   {
    "duration": 47,
    "start_time": "2021-12-01T04:09:21.441Z"
   },
   {
    "duration": 24,
    "start_time": "2021-12-01T04:09:21.490Z"
   },
   {
    "duration": 103,
    "start_time": "2021-12-01T04:09:21.515Z"
   },
   {
    "duration": 18,
    "start_time": "2021-12-01T04:09:21.619Z"
   },
   {
    "duration": 10,
    "start_time": "2021-12-01T04:09:21.638Z"
   },
   {
    "duration": 12,
    "start_time": "2021-12-01T04:09:21.650Z"
   },
   {
    "duration": 41,
    "start_time": "2021-12-01T04:09:21.664Z"
   },
   {
    "duration": 11,
    "start_time": "2021-12-01T04:09:21.706Z"
   },
   {
    "duration": 1,
    "start_time": "2021-12-01T04:09:21.719Z"
   },
   {
    "duration": 16,
    "start_time": "2021-12-01T04:09:21.722Z"
   },
   {
    "duration": 35,
    "start_time": "2021-12-01T04:09:21.739Z"
   },
   {
    "duration": 12,
    "start_time": "2021-12-01T04:09:21.776Z"
   },
   {
    "duration": 27,
    "start_time": "2021-12-01T04:09:21.790Z"
   },
   {
    "duration": 2,
    "start_time": "2021-12-01T04:09:21.818Z"
   },
   {
    "duration": 32,
    "start_time": "2021-12-01T04:09:21.821Z"
   },
   {
    "duration": 4,
    "start_time": "2021-12-01T04:09:21.854Z"
   },
   {
    "duration": 33,
    "start_time": "2021-12-01T04:09:21.860Z"
   },
   {
    "duration": 5,
    "start_time": "2021-12-01T04:09:21.897Z"
   },
   {
    "duration": 11,
    "start_time": "2021-12-01T04:09:21.904Z"
   },
   {
    "duration": 9,
    "start_time": "2021-12-01T04:09:21.916Z"
   },
   {
    "duration": 9,
    "start_time": "2021-12-01T04:09:21.926Z"
   },
   {
    "duration": 27,
    "start_time": "2021-12-01T04:09:21.937Z"
   },
   {
    "duration": 22,
    "start_time": "2021-12-01T04:09:21.966Z"
   },
   {
    "duration": 22,
    "start_time": "2021-12-01T04:09:21.990Z"
   },
   {
    "duration": 7,
    "start_time": "2021-12-01T04:09:22.014Z"
   },
   {
    "duration": 14,
    "start_time": "2021-12-01T04:09:22.022Z"
   },
   {
    "duration": 41,
    "start_time": "2021-12-01T04:09:22.037Z"
   },
   {
    "duration": 27,
    "start_time": "2021-12-01T04:09:22.079Z"
   },
   {
    "duration": 37,
    "start_time": "2021-12-01T04:09:22.108Z"
   },
   {
    "duration": 8,
    "start_time": "2021-12-01T04:09:22.146Z"
   },
   {
    "duration": 9,
    "start_time": "2021-12-01T04:09:22.155Z"
   },
   {
    "duration": 16,
    "start_time": "2021-12-01T04:09:22.165Z"
   },
   {
    "duration": 208,
    "start_time": "2021-12-01T04:09:22.183Z"
   },
   {
    "duration": 11,
    "start_time": "2021-12-01T04:09:22.393Z"
   },
   {
    "duration": 10,
    "start_time": "2021-12-01T04:09:22.405Z"
   },
   {
    "duration": 7,
    "start_time": "2021-12-01T04:09:22.417Z"
   },
   {
    "duration": 8,
    "start_time": "2021-12-01T04:09:22.426Z"
   },
   {
    "duration": 9,
    "start_time": "2021-12-01T04:09:22.435Z"
   },
   {
    "duration": 7,
    "start_time": "2021-12-01T04:09:22.445Z"
   },
   {
    "duration": 36,
    "start_time": "2021-12-01T04:09:22.453Z"
   },
   {
    "duration": 8,
    "start_time": "2021-12-01T04:09:22.490Z"
   },
   {
    "duration": 9,
    "start_time": "2021-12-01T04:09:22.499Z"
   },
   {
    "duration": 7,
    "start_time": "2021-12-01T04:09:22.509Z"
   },
   {
    "duration": 6,
    "start_time": "2021-12-01T04:09:22.517Z"
   },
   {
    "duration": 9,
    "start_time": "2021-12-01T04:09:22.524Z"
   },
   {
    "duration": 12,
    "start_time": "2021-12-01T04:09:22.534Z"
   },
   {
    "duration": 193,
    "start_time": "2021-12-01T04:09:22.547Z"
   },
   {
    "duration": 177,
    "start_time": "2021-12-01T04:09:22.741Z"
   },
   {
    "duration": 177,
    "start_time": "2021-12-01T04:09:22.919Z"
   },
   {
    "duration": 7,
    "start_time": "2021-12-01T04:09:23.098Z"
   },
   {
    "duration": 22,
    "start_time": "2021-12-01T04:09:23.106Z"
   },
   {
    "duration": 21,
    "start_time": "2021-12-01T04:09:23.129Z"
   },
   {
    "duration": 6,
    "start_time": "2021-12-01T04:09:23.151Z"
   },
   {
    "duration": 6,
    "start_time": "2021-12-01T04:09:23.158Z"
   },
   {
    "duration": 6,
    "start_time": "2021-12-01T04:09:23.165Z"
   },
   {
    "duration": 178,
    "start_time": "2021-12-01T04:09:23.188Z"
   },
   {
    "duration": 238,
    "start_time": "2021-12-01T04:09:23.367Z"
   },
   {
    "duration": 3,
    "start_time": "2021-12-01T04:09:23.606Z"
   },
   {
    "duration": 8,
    "start_time": "2021-12-01T04:09:23.610Z"
   },
   {
    "duration": 19,
    "start_time": "2021-12-01T04:09:23.620Z"
   },
   {
    "duration": 9,
    "start_time": "2021-12-01T04:09:23.640Z"
   },
   {
    "duration": 7,
    "start_time": "2021-12-01T04:09:23.650Z"
   },
   {
    "duration": 11,
    "start_time": "2021-12-01T04:09:23.658Z"
   },
   {
    "duration": 91,
    "start_time": "2021-12-01T04:11:46.662Z"
   },
   {
    "duration": 8,
    "start_time": "2021-12-01T04:11:59.251Z"
   },
   {
    "duration": 8,
    "start_time": "2021-12-01T04:12:51.108Z"
   },
   {
    "duration": 8,
    "start_time": "2021-12-01T04:14:32.850Z"
   },
   {
    "duration": 8,
    "start_time": "2021-12-01T04:14:41.609Z"
   },
   {
    "duration": 149,
    "start_time": "2021-12-01T04:16:45.075Z"
   },
   {
    "duration": 225,
    "start_time": "2021-12-01T04:16:52.610Z"
   },
   {
    "duration": 174,
    "start_time": "2021-12-01T04:18:58.718Z"
   },
   {
    "duration": 166,
    "start_time": "2021-12-01T04:19:44.948Z"
   },
   {
    "duration": 151,
    "start_time": "2021-12-01T05:06:23.415Z"
   },
   {
    "duration": 43,
    "start_time": "2021-12-01T05:06:23.568Z"
   },
   {
    "duration": 14,
    "start_time": "2021-12-01T05:06:23.613Z"
   },
   {
    "duration": 2,
    "start_time": "2021-12-01T05:06:23.628Z"
   },
   {
    "duration": 60,
    "start_time": "2021-12-01T05:06:23.632Z"
   },
   {
    "duration": 36,
    "start_time": "2021-12-01T05:06:23.693Z"
   },
   {
    "duration": 133,
    "start_time": "2021-12-01T05:06:23.731Z"
   },
   {
    "duration": 28,
    "start_time": "2021-12-01T05:06:23.866Z"
   },
   {
    "duration": 17,
    "start_time": "2021-12-01T05:06:23.896Z"
   },
   {
    "duration": 29,
    "start_time": "2021-12-01T05:06:23.915Z"
   },
   {
    "duration": 43,
    "start_time": "2021-12-01T05:06:23.945Z"
   },
   {
    "duration": 93,
    "start_time": "2021-12-01T05:06:23.989Z"
   },
   {
    "duration": 17,
    "start_time": "2021-12-01T05:06:24.083Z"
   },
   {
    "duration": 10,
    "start_time": "2021-12-01T05:06:24.102Z"
   },
   {
    "duration": 13,
    "start_time": "2021-12-01T05:06:24.113Z"
   },
   {
    "duration": 21,
    "start_time": "2021-12-01T05:06:24.127Z"
   },
   {
    "duration": 10,
    "start_time": "2021-12-01T05:06:24.150Z"
   },
   {
    "duration": 2,
    "start_time": "2021-12-01T05:06:24.187Z"
   },
   {
    "duration": 15,
    "start_time": "2021-12-01T05:06:24.190Z"
   },
   {
    "duration": 34,
    "start_time": "2021-12-01T05:06:24.206Z"
   },
   {
    "duration": 5,
    "start_time": "2021-12-01T05:06:24.241Z"
   },
   {
    "duration": 26,
    "start_time": "2021-12-01T05:06:24.247Z"
   },
   {
    "duration": 2,
    "start_time": "2021-12-01T05:06:24.276Z"
   },
   {
    "duration": 25,
    "start_time": "2021-12-01T05:06:24.280Z"
   },
   {
    "duration": 4,
    "start_time": "2021-12-01T05:06:24.307Z"
   },
   {
    "duration": 28,
    "start_time": "2021-12-01T05:06:24.312Z"
   },
   {
    "duration": 5,
    "start_time": "2021-12-01T05:06:24.341Z"
   },
   {
    "duration": 7,
    "start_time": "2021-12-01T05:06:24.348Z"
   },
   {
    "duration": 8,
    "start_time": "2021-12-01T05:06:24.356Z"
   },
   {
    "duration": 28,
    "start_time": "2021-12-01T05:06:24.365Z"
   },
   {
    "duration": 6,
    "start_time": "2021-12-01T05:06:24.394Z"
   },
   {
    "duration": 15,
    "start_time": "2021-12-01T05:06:24.401Z"
   },
   {
    "duration": 16,
    "start_time": "2021-12-01T05:06:24.417Z"
   },
   {
    "duration": 7,
    "start_time": "2021-12-01T05:06:24.435Z"
   },
   {
    "duration": 10,
    "start_time": "2021-12-01T05:06:24.443Z"
   },
   {
    "duration": 38,
    "start_time": "2021-12-01T05:06:24.455Z"
   },
   {
    "duration": 6,
    "start_time": "2021-12-01T05:06:24.494Z"
   },
   {
    "duration": 44,
    "start_time": "2021-12-01T05:06:24.502Z"
   },
   {
    "duration": 7,
    "start_time": "2021-12-01T05:06:24.548Z"
   },
   {
    "duration": 8,
    "start_time": "2021-12-01T05:06:24.556Z"
   },
   {
    "duration": 13,
    "start_time": "2021-12-01T05:06:24.588Z"
   },
   {
    "duration": 221,
    "start_time": "2021-12-01T05:06:24.602Z"
   },
   {
    "duration": 11,
    "start_time": "2021-12-01T05:06:24.825Z"
   },
   {
    "duration": 7,
    "start_time": "2021-12-01T05:06:24.838Z"
   },
   {
    "duration": 8,
    "start_time": "2021-12-01T05:06:24.847Z"
   },
   {
    "duration": 200,
    "start_time": "2021-12-01T05:06:24.856Z"
   },
   {
    "duration": 194,
    "start_time": "2021-12-01T05:06:25.058Z"
   },
   {
    "duration": 553,
    "start_time": "2021-12-01T05:07:00.747Z"
   },
   {
    "duration": 1090,
    "start_time": "2021-12-01T05:31:23.536Z"
   },
   {
    "duration": 27,
    "start_time": "2021-12-01T05:31:24.628Z"
   },
   {
    "duration": 16,
    "start_time": "2021-12-01T05:31:24.657Z"
   },
   {
    "duration": 15,
    "start_time": "2021-12-01T05:31:24.674Z"
   },
   {
    "duration": 45,
    "start_time": "2021-12-01T05:31:24.690Z"
   },
   {
    "duration": 36,
    "start_time": "2021-12-01T05:31:24.736Z"
   },
   {
    "duration": 134,
    "start_time": "2021-12-01T05:31:24.788Z"
   },
   {
    "duration": 24,
    "start_time": "2021-12-01T05:31:24.923Z"
   },
   {
    "duration": 17,
    "start_time": "2021-12-01T05:31:24.949Z"
   },
   {
    "duration": 46,
    "start_time": "2021-12-01T05:31:24.968Z"
   },
   {
    "duration": 26,
    "start_time": "2021-12-01T05:31:25.015Z"
   },
   {
    "duration": 103,
    "start_time": "2021-12-01T05:31:25.042Z"
   },
   {
    "duration": 17,
    "start_time": "2021-12-01T05:31:25.146Z"
   },
   {
    "duration": 23,
    "start_time": "2021-12-01T05:31:25.165Z"
   },
   {
    "duration": 14,
    "start_time": "2021-12-01T05:31:25.190Z"
   },
   {
    "duration": 23,
    "start_time": "2021-12-01T05:31:25.205Z"
   },
   {
    "duration": 11,
    "start_time": "2021-12-01T05:31:25.229Z"
   },
   {
    "duration": 2,
    "start_time": "2021-12-01T05:31:25.242Z"
   },
   {
    "duration": 18,
    "start_time": "2021-12-01T05:31:25.245Z"
   },
   {
    "duration": 36,
    "start_time": "2021-12-01T05:31:25.288Z"
   },
   {
    "duration": 7,
    "start_time": "2021-12-01T05:31:25.326Z"
   },
   {
    "duration": 25,
    "start_time": "2021-12-01T05:31:25.335Z"
   },
   {
    "duration": 2,
    "start_time": "2021-12-01T05:31:25.361Z"
   },
   {
    "duration": 25,
    "start_time": "2021-12-01T05:31:25.365Z"
   },
   {
    "duration": 7,
    "start_time": "2021-12-01T05:31:25.391Z"
   },
   {
    "duration": 34,
    "start_time": "2021-12-01T05:31:25.399Z"
   },
   {
    "duration": 10,
    "start_time": "2021-12-01T05:31:25.437Z"
   },
   {
    "duration": 8,
    "start_time": "2021-12-01T05:31:25.449Z"
   },
   {
    "duration": 39,
    "start_time": "2021-12-01T05:31:25.459Z"
   },
   {
    "duration": 11,
    "start_time": "2021-12-01T05:31:25.500Z"
   },
   {
    "duration": 4,
    "start_time": "2021-12-01T05:31:25.512Z"
   },
   {
    "duration": 17,
    "start_time": "2021-12-01T05:31:25.518Z"
   },
   {
    "duration": 19,
    "start_time": "2021-12-01T05:31:25.537Z"
   },
   {
    "duration": 35,
    "start_time": "2021-12-01T05:31:25.557Z"
   },
   {
    "duration": 13,
    "start_time": "2021-12-01T05:31:25.594Z"
   },
   {
    "duration": 15,
    "start_time": "2021-12-01T05:31:25.609Z"
   },
   {
    "duration": 6,
    "start_time": "2021-12-01T05:31:25.626Z"
   },
   {
    "duration": 57,
    "start_time": "2021-12-01T05:31:25.634Z"
   },
   {
    "duration": 7,
    "start_time": "2021-12-01T05:31:25.693Z"
   },
   {
    "duration": 11,
    "start_time": "2021-12-01T05:31:25.702Z"
   },
   {
    "duration": 18,
    "start_time": "2021-12-01T05:31:25.715Z"
   },
   {
    "duration": 232,
    "start_time": "2021-12-01T05:31:25.734Z"
   },
   {
    "duration": 20,
    "start_time": "2021-12-01T05:31:25.967Z"
   },
   {
    "duration": 7,
    "start_time": "2021-12-01T05:31:25.989Z"
   },
   {
    "duration": 11,
    "start_time": "2021-12-01T05:31:25.997Z"
   },
   {
    "duration": 534,
    "start_time": "2021-12-01T05:31:26.009Z"
   },
   {
    "duration": 8,
    "start_time": "2021-12-01T05:31:26.545Z"
   },
   {
    "duration": 22,
    "start_time": "2021-12-01T05:31:26.555Z"
   },
   {
    "duration": 18,
    "start_time": "2021-12-01T05:31:26.578Z"
   },
   {
    "duration": 16,
    "start_time": "2021-12-01T05:31:26.598Z"
   },
   {
    "duration": 9,
    "start_time": "2021-12-01T05:31:26.615Z"
   },
   {
    "duration": 18,
    "start_time": "2021-12-01T05:31:26.625Z"
   },
   {
    "duration": 190,
    "start_time": "2021-12-01T05:31:26.644Z"
   },
   {
    "duration": 251,
    "start_time": "2021-12-01T05:31:26.836Z"
   },
   {
    "duration": 3,
    "start_time": "2021-12-01T05:31:27.089Z"
   },
   {
    "duration": 18,
    "start_time": "2021-12-01T05:31:27.094Z"
   },
   {
    "duration": 16,
    "start_time": "2021-12-01T05:31:27.114Z"
   },
   {
    "duration": 27,
    "start_time": "2021-12-01T05:31:27.131Z"
   },
   {
    "duration": 12,
    "start_time": "2021-12-01T05:31:27.160Z"
   },
   {
    "duration": 25,
    "start_time": "2021-12-01T05:31:27.174Z"
   },
   {
    "duration": 606,
    "start_time": "2021-12-01T05:32:53.132Z"
   },
   {
    "duration": 536,
    "start_time": "2021-12-01T05:33:32.747Z"
   },
   {
    "duration": 622,
    "start_time": "2021-12-01T05:37:18.889Z"
   },
   {
    "duration": 533,
    "start_time": "2021-12-01T05:39:08.872Z"
   },
   {
    "duration": 103,
    "start_time": "2021-12-01T05:40:09.622Z"
   },
   {
    "duration": 87,
    "start_time": "2021-12-01T05:41:15.153Z"
   },
   {
    "duration": 81,
    "start_time": "2021-12-01T05:41:54.662Z"
   },
   {
    "duration": 82,
    "start_time": "2021-12-01T05:42:36.915Z"
   },
   {
    "duration": 505,
    "start_time": "2021-12-01T05:42:50.733Z"
   },
   {
    "duration": 588,
    "start_time": "2021-12-01T05:44:38.994Z"
   },
   {
    "duration": 550,
    "start_time": "2021-12-01T05:45:42.618Z"
   },
   {
    "duration": 9,
    "start_time": "2021-12-01T05:47:27.707Z"
   },
   {
    "duration": 10,
    "start_time": "2021-12-01T05:47:43.975Z"
   },
   {
    "duration": 490,
    "start_time": "2021-12-01T05:51:21.655Z"
   },
   {
    "duration": 10,
    "start_time": "2021-12-01T05:53:49.500Z"
   },
   {
    "duration": 17,
    "start_time": "2021-12-01T05:58:48.500Z"
   },
   {
    "duration": 8,
    "start_time": "2021-12-01T06:00:52.004Z"
   },
   {
    "duration": 9,
    "start_time": "2021-12-01T06:17:45.821Z"
   },
   {
    "duration": 257,
    "start_time": "2021-12-01T06:18:28.837Z"
   },
   {
    "duration": 240,
    "start_time": "2021-12-01T06:21:08.373Z"
   },
   {
    "duration": 231,
    "start_time": "2021-12-01T06:21:26.613Z"
   },
   {
    "duration": 9,
    "start_time": "2021-12-01T06:21:58.817Z"
   },
   {
    "duration": 268,
    "start_time": "2021-12-01T06:36:22.967Z"
   },
   {
    "duration": 16,
    "start_time": "2021-12-01T06:36:46.959Z"
   },
   {
    "duration": 16,
    "start_time": "2021-12-01T06:38:21.478Z"
   },
   {
    "duration": 16,
    "start_time": "2021-12-01T06:38:46.492Z"
   },
   {
    "duration": 12,
    "start_time": "2021-12-01T06:39:24.352Z"
   },
   {
    "duration": 8,
    "start_time": "2021-12-01T06:44:02.554Z"
   },
   {
    "duration": 12,
    "start_time": "2021-12-01T06:44:06.626Z"
   },
   {
    "duration": 12,
    "start_time": "2021-12-01T06:44:10.829Z"
   },
   {
    "duration": 8,
    "start_time": "2021-12-01T06:44:16.955Z"
   },
   {
    "duration": 5,
    "start_time": "2021-12-01T06:44:25.823Z"
   },
   {
    "duration": 8,
    "start_time": "2021-12-01T06:44:32.236Z"
   },
   {
    "duration": 184,
    "start_time": "2021-12-01T06:44:37.801Z"
   },
   {
    "duration": 227,
    "start_time": "2021-12-01T06:44:48.970Z"
   },
   {
    "duration": 237,
    "start_time": "2021-12-01T06:45:23.122Z"
   },
   {
    "duration": 293,
    "start_time": "2021-12-01T06:45:54.128Z"
   },
   {
    "duration": 232,
    "start_time": "2021-12-01T06:46:07.401Z"
   },
   {
    "duration": 231,
    "start_time": "2021-12-01T06:46:23.868Z"
   },
   {
    "duration": 236,
    "start_time": "2021-12-01T06:46:38.623Z"
   },
   {
    "duration": 176,
    "start_time": "2021-12-01T06:47:08.797Z"
   },
   {
    "duration": 221,
    "start_time": "2021-12-01T06:47:50.735Z"
   },
   {
    "duration": 289,
    "start_time": "2021-12-01T06:48:04.090Z"
   },
   {
    "duration": 224,
    "start_time": "2021-12-01T06:48:37.242Z"
   },
   {
    "duration": 227,
    "start_time": "2021-12-01T06:50:19.011Z"
   },
   {
    "duration": 230,
    "start_time": "2021-12-01T06:50:32.452Z"
   },
   {
    "duration": 238,
    "start_time": "2021-12-01T06:50:52.153Z"
   },
   {
    "duration": 262,
    "start_time": "2021-12-01T06:51:55.188Z"
   },
   {
    "duration": 1251,
    "start_time": "2021-12-02T02:08:16.024Z"
   },
   {
    "duration": 37,
    "start_time": "2021-12-02T02:08:17.277Z"
   },
   {
    "duration": 17,
    "start_time": "2021-12-02T02:08:17.317Z"
   },
   {
    "duration": 2,
    "start_time": "2021-12-02T02:08:17.336Z"
   },
   {
    "duration": 56,
    "start_time": "2021-12-02T02:08:17.340Z"
   },
   {
    "duration": 41,
    "start_time": "2021-12-02T02:08:17.407Z"
   },
   {
    "duration": 156,
    "start_time": "2021-12-02T02:08:17.450Z"
   },
   {
    "duration": 22,
    "start_time": "2021-12-02T02:08:17.609Z"
   },
   {
    "duration": 20,
    "start_time": "2021-12-02T02:08:17.633Z"
   },
   {
    "duration": 53,
    "start_time": "2021-12-02T02:08:17.654Z"
   },
   {
    "duration": 29,
    "start_time": "2021-12-02T02:08:17.709Z"
   },
   {
    "duration": 112,
    "start_time": "2021-12-02T02:08:17.740Z"
   },
   {
    "duration": 20,
    "start_time": "2021-12-02T02:08:17.854Z"
   },
   {
    "duration": 13,
    "start_time": "2021-12-02T02:08:17.876Z"
   },
   {
    "duration": 15,
    "start_time": "2021-12-02T02:08:17.907Z"
   },
   {
    "duration": 27,
    "start_time": "2021-12-02T02:08:17.923Z"
   },
   {
    "duration": 15,
    "start_time": "2021-12-02T02:08:17.952Z"
   },
   {
    "duration": 2,
    "start_time": "2021-12-02T02:08:17.969Z"
   },
   {
    "duration": 49,
    "start_time": "2021-12-02T02:08:17.973Z"
   },
   {
    "duration": 40,
    "start_time": "2021-12-02T02:08:18.024Z"
   },
   {
    "duration": 7,
    "start_time": "2021-12-02T02:08:18.066Z"
   },
   {
    "duration": 37,
    "start_time": "2021-12-02T02:08:18.075Z"
   },
   {
    "duration": 2,
    "start_time": "2021-12-02T02:08:18.118Z"
   },
   {
    "duration": 31,
    "start_time": "2021-12-02T02:08:18.123Z"
   },
   {
    "duration": 12,
    "start_time": "2021-12-02T02:08:18.156Z"
   },
   {
    "duration": 43,
    "start_time": "2021-12-02T02:08:18.170Z"
   },
   {
    "duration": 6,
    "start_time": "2021-12-02T02:08:18.214Z"
   },
   {
    "duration": 8,
    "start_time": "2021-12-02T02:08:18.222Z"
   },
   {
    "duration": 18,
    "start_time": "2021-12-02T02:08:18.232Z"
   },
   {
    "duration": 8,
    "start_time": "2021-12-02T02:08:18.252Z"
   },
   {
    "duration": 19,
    "start_time": "2021-12-02T02:08:18.262Z"
   },
   {
    "duration": 30,
    "start_time": "2021-12-02T02:08:18.283Z"
   },
   {
    "duration": 24,
    "start_time": "2021-12-02T02:08:18.315Z"
   },
   {
    "duration": 15,
    "start_time": "2021-12-02T02:08:18.340Z"
   },
   {
    "duration": 23,
    "start_time": "2021-12-02T02:08:18.357Z"
   },
   {
    "duration": 23,
    "start_time": "2021-12-02T02:08:18.382Z"
   },
   {
    "duration": 16,
    "start_time": "2021-12-02T02:08:18.406Z"
   },
   {
    "duration": 50,
    "start_time": "2021-12-02T02:08:18.424Z"
   },
   {
    "duration": 7,
    "start_time": "2021-12-02T02:08:18.476Z"
   },
   {
    "duration": 14,
    "start_time": "2021-12-02T02:08:18.485Z"
   },
   {
    "duration": 19,
    "start_time": "2021-12-02T02:08:18.501Z"
   },
   {
    "duration": 235,
    "start_time": "2021-12-02T02:08:18.521Z"
   },
   {
    "duration": 13,
    "start_time": "2021-12-02T02:08:18.758Z"
   },
   {
    "duration": 8,
    "start_time": "2021-12-02T02:08:18.772Z"
   },
   {
    "duration": 28,
    "start_time": "2021-12-02T02:08:18.782Z"
   },
   {
    "duration": 589,
    "start_time": "2021-12-02T02:08:18.811Z"
   },
   {
    "duration": 610,
    "start_time": "2021-12-02T02:08:19.406Z"
   },
   {
    "duration": 16,
    "start_time": "2021-12-02T02:08:20.018Z"
   },
   {
    "duration": 8,
    "start_time": "2021-12-02T02:08:20.036Z"
   },
   {
    "duration": 18,
    "start_time": "2021-12-02T02:08:20.045Z"
   },
   {
    "duration": 43,
    "start_time": "2021-12-02T02:08:20.065Z"
   },
   {
    "duration": 9,
    "start_time": "2021-12-02T02:08:20.110Z"
   },
   {
    "duration": 12,
    "start_time": "2021-12-02T02:08:20.121Z"
   },
   {
    "duration": 5,
    "start_time": "2021-12-02T02:08:20.135Z"
   },
   {
    "duration": 223,
    "start_time": "2021-12-02T02:08:20.142Z"
   },
   {
    "duration": 468,
    "start_time": "2021-12-02T02:08:20.367Z"
   },
   {
    "duration": 4,
    "start_time": "2021-12-02T02:08:20.836Z"
   },
   {
    "duration": 17,
    "start_time": "2021-12-02T02:08:20.842Z"
   },
   {
    "duration": 27,
    "start_time": "2021-12-02T02:08:20.861Z"
   },
   {
    "duration": 8,
    "start_time": "2021-12-02T02:08:20.890Z"
   },
   {
    "duration": 7,
    "start_time": "2021-12-02T02:08:20.900Z"
   },
   {
    "duration": 20,
    "start_time": "2021-12-02T02:08:20.908Z"
   },
   {
    "duration": 9,
    "start_time": "2021-12-02T02:09:24.991Z"
   },
   {
    "duration": 12,
    "start_time": "2021-12-02T02:10:02.743Z"
   },
   {
    "duration": 946,
    "start_time": "2021-12-02T02:15:23.334Z"
   },
   {
    "duration": 796,
    "start_time": "2021-12-02T02:17:29.933Z"
   },
   {
    "duration": 612,
    "start_time": "2021-12-02T02:18:52.213Z"
   },
   {
    "duration": 558,
    "start_time": "2021-12-02T02:19:04.617Z"
   },
   {
    "duration": 388,
    "start_time": "2021-12-02T02:28:49.231Z"
   },
   {
    "duration": 15,
    "start_time": "2021-12-02T02:29:05.203Z"
   },
   {
    "duration": 379,
    "start_time": "2021-12-02T02:30:42.440Z"
   },
   {
    "duration": 427,
    "start_time": "2021-12-02T02:31:28.469Z"
   },
   {
    "duration": 371,
    "start_time": "2021-12-02T02:32:14.645Z"
   },
   {
    "duration": 90,
    "start_time": "2021-12-02T02:33:16.404Z"
   },
   {
    "duration": 15,
    "start_time": "2021-12-02T02:33:46.074Z"
   },
   {
    "duration": 26,
    "start_time": "2021-12-02T02:36:18.220Z"
   },
   {
    "duration": 24,
    "start_time": "2021-12-02T02:37:34.118Z"
   },
   {
    "duration": 8,
    "start_time": "2021-12-02T02:45:15.223Z"
   },
   {
    "duration": 8,
    "start_time": "2021-12-02T02:45:31.931Z"
   },
   {
    "duration": 8,
    "start_time": "2021-12-02T02:47:34.567Z"
   },
   {
    "duration": 8,
    "start_time": "2021-12-02T02:47:59.046Z"
   },
   {
    "duration": 204,
    "start_time": "2021-12-02T02:55:48.129Z"
   },
   {
    "duration": 10,
    "start_time": "2021-12-02T02:57:46.004Z"
   },
   {
    "duration": 10,
    "start_time": "2021-12-02T02:57:52.237Z"
   },
   {
    "duration": 9,
    "start_time": "2021-12-02T02:58:03.988Z"
   },
   {
    "duration": 10,
    "start_time": "2021-12-02T03:12:15.708Z"
   },
   {
    "duration": 10,
    "start_time": "2021-12-02T03:13:19.344Z"
   },
   {
    "duration": 10,
    "start_time": "2021-12-02T03:13:34.445Z"
   },
   {
    "duration": 15,
    "start_time": "2021-12-02T03:13:57.529Z"
   },
   {
    "duration": 12,
    "start_time": "2021-12-02T03:20:47.403Z"
   },
   {
    "duration": 119,
    "start_time": "2021-12-02T03:23:55.563Z"
   },
   {
    "duration": 1050,
    "start_time": "2021-12-02T03:24:26.754Z"
   },
   {
    "duration": 10971,
    "start_time": "2021-12-02T03:24:42.569Z"
   },
   {
    "duration": 10,
    "start_time": "2021-12-02T03:25:36.699Z"
   },
   {
    "duration": 15,
    "start_time": "2021-12-02T03:26:00.731Z"
   },
   {
    "duration": 10341,
    "start_time": "2021-12-02T03:26:45.479Z"
   },
   {
    "duration": 11,
    "start_time": "2021-12-02T03:27:23.140Z"
   },
   {
    "duration": 13,
    "start_time": "2021-12-02T03:31:07.115Z"
   },
   {
    "duration": 8,
    "start_time": "2021-12-02T03:32:05.047Z"
   },
   {
    "duration": 11,
    "start_time": "2021-12-02T03:32:47.359Z"
   },
   {
    "duration": 11,
    "start_time": "2021-12-02T03:34:54.490Z"
   },
   {
    "duration": 118,
    "start_time": "2021-12-02T03:35:55.642Z"
   },
   {
    "duration": 10,
    "start_time": "2021-12-02T03:36:15.410Z"
   },
   {
    "duration": 10,
    "start_time": "2021-12-02T03:36:31.559Z"
   },
   {
    "duration": 664,
    "start_time": "2021-12-02T03:37:07.403Z"
   },
   {
    "duration": 692,
    "start_time": "2021-12-02T03:37:30.835Z"
   },
   {
    "duration": 185,
    "start_time": "2021-12-02T03:37:40.294Z"
   },
   {
    "duration": 44,
    "start_time": "2021-12-02T03:37:40.481Z"
   },
   {
    "duration": 16,
    "start_time": "2021-12-02T03:37:40.527Z"
   },
   {
    "duration": 2,
    "start_time": "2021-12-02T03:37:40.545Z"
   },
   {
    "duration": 68,
    "start_time": "2021-12-02T03:37:40.549Z"
   },
   {
    "duration": 58,
    "start_time": "2021-12-02T03:37:40.619Z"
   },
   {
    "duration": 210,
    "start_time": "2021-12-02T03:37:40.678Z"
   },
   {
    "duration": 40,
    "start_time": "2021-12-02T03:37:40.891Z"
   },
   {
    "duration": 24,
    "start_time": "2021-12-02T03:37:40.933Z"
   },
   {
    "duration": 54,
    "start_time": "2021-12-02T03:37:40.959Z"
   },
   {
    "duration": 33,
    "start_time": "2021-12-02T03:37:41.015Z"
   },
   {
    "duration": 157,
    "start_time": "2021-12-02T03:37:41.050Z"
   },
   {
    "duration": 30,
    "start_time": "2021-12-02T03:37:41.209Z"
   },
   {
    "duration": 15,
    "start_time": "2021-12-02T03:37:41.241Z"
   },
   {
    "duration": 18,
    "start_time": "2021-12-02T03:37:41.258Z"
   },
   {
    "duration": 61,
    "start_time": "2021-12-02T03:37:41.278Z"
   },
   {
    "duration": 17,
    "start_time": "2021-12-02T03:37:41.341Z"
   },
   {
    "duration": 3,
    "start_time": "2021-12-02T03:37:41.360Z"
   },
   {
    "duration": 46,
    "start_time": "2021-12-02T03:37:41.364Z"
   },
   {
    "duration": 43,
    "start_time": "2021-12-02T03:37:41.412Z"
   },
   {
    "duration": 7,
    "start_time": "2021-12-02T03:37:41.457Z"
   },
   {
    "duration": 27,
    "start_time": "2021-12-02T03:37:41.466Z"
   },
   {
    "duration": 2,
    "start_time": "2021-12-02T03:37:41.498Z"
   },
   {
    "duration": 28,
    "start_time": "2021-12-02T03:37:41.502Z"
   },
   {
    "duration": 5,
    "start_time": "2021-12-02T03:37:41.532Z"
   },
   {
    "duration": 30,
    "start_time": "2021-12-02T03:37:41.539Z"
   },
   {
    "duration": 6,
    "start_time": "2021-12-02T03:37:41.571Z"
   },
   {
    "duration": 32,
    "start_time": "2021-12-02T03:37:41.579Z"
   },
   {
    "duration": 9,
    "start_time": "2021-12-02T03:37:41.613Z"
   },
   {
    "duration": 10,
    "start_time": "2021-12-02T03:37:41.623Z"
   },
   {
    "duration": 4,
    "start_time": "2021-12-02T03:37:41.635Z"
   },
   {
    "duration": 18,
    "start_time": "2021-12-02T03:37:41.641Z"
   },
   {
    "duration": 51,
    "start_time": "2021-12-02T03:37:41.661Z"
   },
   {
    "duration": 11,
    "start_time": "2021-12-02T03:37:41.713Z"
   },
   {
    "duration": 14,
    "start_time": "2021-12-02T03:37:41.726Z"
   },
   {
    "duration": 13,
    "start_time": "2021-12-02T03:37:41.742Z"
   },
   {
    "duration": 10,
    "start_time": "2021-12-02T03:37:41.757Z"
   },
   {
    "duration": 72,
    "start_time": "2021-12-02T03:37:41.769Z"
   },
   {
    "duration": 8,
    "start_time": "2021-12-02T03:37:41.843Z"
   },
   {
    "duration": 10,
    "start_time": "2021-12-02T03:37:41.853Z"
   },
   {
    "duration": 48,
    "start_time": "2021-12-02T03:37:41.864Z"
   },
   {
    "duration": 638,
    "start_time": "2021-12-02T03:37:46.579Z"
   },
   {
    "duration": 19,
    "start_time": "2021-12-02T03:38:19.496Z"
   },
   {
    "duration": 6,
    "start_time": "2021-12-02T03:40:26.328Z"
   },
   {
    "duration": 374,
    "start_time": "2021-12-02T03:41:21.701Z"
   },
   {
    "duration": 9,
    "start_time": "2021-12-02T03:41:44.986Z"
   },
   {
    "duration": 10,
    "start_time": "2021-12-02T03:42:13.308Z"
   },
   {
    "duration": 10,
    "start_time": "2021-12-02T03:42:52.437Z"
   },
   {
    "duration": 676,
    "start_time": "2021-12-02T03:42:57.847Z"
   },
   {
    "duration": 10591,
    "start_time": "2021-12-02T03:44:17.957Z"
   },
   {
    "duration": 8,
    "start_time": "2021-12-02T03:45:35.759Z"
   },
   {
    "duration": 1141,
    "start_time": "2021-12-02T03:45:59.823Z"
   },
   {
    "duration": 26,
    "start_time": "2021-12-02T03:53:47.776Z"
   },
   {
    "duration": 653,
    "start_time": "2021-12-02T03:55:01.878Z"
   },
   {
    "duration": 652,
    "start_time": "2021-12-02T03:59:42.277Z"
   },
   {
    "duration": 11,
    "start_time": "2021-12-02T04:02:26.098Z"
   },
   {
    "duration": 10,
    "start_time": "2021-12-02T04:02:38.660Z"
   },
   {
    "duration": 619,
    "start_time": "2021-12-02T04:02:51.579Z"
   },
   {
    "duration": 142,
    "start_time": "2021-12-02T04:05:48.933Z"
   },
   {
    "duration": 666,
    "start_time": "2021-12-02T04:06:06.130Z"
   },
   {
    "duration": 529,
    "start_time": "2021-12-02T04:07:48.775Z"
   },
   {
    "duration": 476,
    "start_time": "2021-12-02T04:08:21.425Z"
   },
   {
    "duration": 480,
    "start_time": "2021-12-02T04:09:40.370Z"
   },
   {
    "duration": 12,
    "start_time": "2021-12-02T04:10:42.970Z"
   },
   {
    "duration": 122,
    "start_time": "2021-12-02T04:12:22.482Z"
   },
   {
    "duration": 656,
    "start_time": "2021-12-02T04:13:43.027Z"
   },
   {
    "duration": 117,
    "start_time": "2021-12-02T04:16:13.969Z"
   },
   {
    "duration": 1422,
    "start_time": "2021-12-02T04:18:27.299Z"
   },
   {
    "duration": 861,
    "start_time": "2021-12-02T04:19:21.803Z"
   },
   {
    "duration": 6,
    "start_time": "2021-12-02T04:21:56.866Z"
   },
   {
    "duration": 647,
    "start_time": "2021-12-02T04:22:05.068Z"
   },
   {
    "duration": 227,
    "start_time": "2021-12-02T04:53:39.832Z"
   },
   {
    "duration": 124,
    "start_time": "2021-12-02T04:54:20.532Z"
   },
   {
    "duration": 10,
    "start_time": "2021-12-02T04:54:39.385Z"
   },
   {
    "duration": 182,
    "start_time": "2021-12-02T04:56:47.608Z"
   },
   {
    "duration": 27,
    "start_time": "2021-12-02T04:56:47.805Z"
   },
   {
    "duration": 15,
    "start_time": "2021-12-02T04:56:47.835Z"
   },
   {
    "duration": 2,
    "start_time": "2021-12-02T04:56:47.852Z"
   },
   {
    "duration": 67,
    "start_time": "2021-12-02T04:56:47.856Z"
   },
   {
    "duration": 38,
    "start_time": "2021-12-02T04:56:47.925Z"
   },
   {
    "duration": 146,
    "start_time": "2021-12-02T04:56:47.965Z"
   },
   {
    "duration": 21,
    "start_time": "2021-12-02T04:56:48.114Z"
   },
   {
    "duration": 18,
    "start_time": "2021-12-02T04:56:48.137Z"
   },
   {
    "duration": 50,
    "start_time": "2021-12-02T04:56:48.157Z"
   },
   {
    "duration": 26,
    "start_time": "2021-12-02T04:56:48.209Z"
   },
   {
    "duration": 105,
    "start_time": "2021-12-02T04:56:48.237Z"
   },
   {
    "duration": 20,
    "start_time": "2021-12-02T04:56:48.344Z"
   },
   {
    "duration": 13,
    "start_time": "2021-12-02T04:56:48.366Z"
   },
   {
    "duration": 35,
    "start_time": "2021-12-02T04:56:48.381Z"
   },
   {
    "duration": 26,
    "start_time": "2021-12-02T04:56:48.418Z"
   },
   {
    "duration": 15,
    "start_time": "2021-12-02T04:56:48.445Z"
   },
   {
    "duration": 2,
    "start_time": "2021-12-02T04:56:48.462Z"
   },
   {
    "duration": 50,
    "start_time": "2021-12-02T04:56:48.465Z"
   },
   {
    "duration": 84,
    "start_time": "2021-12-02T04:56:48.516Z"
   },
   {
    "duration": 6,
    "start_time": "2021-12-02T04:56:48.602Z"
   },
   {
    "duration": 27,
    "start_time": "2021-12-02T04:56:48.610Z"
   },
   {
    "duration": 2,
    "start_time": "2021-12-02T04:56:48.641Z"
   },
   {
    "duration": 31,
    "start_time": "2021-12-02T04:56:48.645Z"
   },
   {
    "duration": 7,
    "start_time": "2021-12-02T04:56:48.678Z"
   },
   {
    "duration": 39,
    "start_time": "2021-12-02T04:56:48.687Z"
   },
   {
    "duration": 7,
    "start_time": "2021-12-02T04:56:48.728Z"
   },
   {
    "duration": 10,
    "start_time": "2021-12-02T04:56:48.736Z"
   },
   {
    "duration": 11,
    "start_time": "2021-12-02T04:56:48.748Z"
   },
   {
    "duration": 9,
    "start_time": "2021-12-02T04:56:48.761Z"
   },
   {
    "duration": 35,
    "start_time": "2021-12-02T04:56:48.772Z"
   },
   {
    "duration": 18,
    "start_time": "2021-12-02T04:56:48.809Z"
   },
   {
    "duration": 19,
    "start_time": "2021-12-02T04:56:48.829Z"
   },
   {
    "duration": 10,
    "start_time": "2021-12-02T04:56:48.850Z"
   },
   {
    "duration": 15,
    "start_time": "2021-12-02T04:56:48.861Z"
   },
   {
    "duration": 38,
    "start_time": "2021-12-02T04:56:48.877Z"
   },
   {
    "duration": 7,
    "start_time": "2021-12-02T04:56:48.916Z"
   },
   {
    "duration": 60,
    "start_time": "2021-12-02T04:56:48.925Z"
   },
   {
    "duration": 7,
    "start_time": "2021-12-02T04:56:48.987Z"
   },
   {
    "duration": 15,
    "start_time": "2021-12-02T04:56:48.996Z"
   },
   {
    "duration": 12,
    "start_time": "2021-12-02T04:56:49.013Z"
   },
   {
    "duration": 8,
    "start_time": "2021-12-02T04:56:49.027Z"
   },
   {
    "duration": 38,
    "start_time": "2021-12-02T04:56:49.037Z"
   },
   {
    "duration": 11,
    "start_time": "2021-12-02T04:56:51.615Z"
   },
   {
    "duration": 17,
    "start_time": "2021-12-02T05:00:22.808Z"
   },
   {
    "duration": 10,
    "start_time": "2021-12-02T05:03:32.034Z"
   },
   {
    "duration": 636,
    "start_time": "2021-12-02T05:03:42.067Z"
   },
   {
    "duration": 189,
    "start_time": "2021-12-02T05:03:52.483Z"
   },
   {
    "duration": 41,
    "start_time": "2021-12-02T05:03:52.674Z"
   },
   {
    "duration": 18,
    "start_time": "2021-12-02T05:03:52.717Z"
   },
   {
    "duration": 2,
    "start_time": "2021-12-02T05:03:52.737Z"
   },
   {
    "duration": 67,
    "start_time": "2021-12-02T05:03:52.741Z"
   },
   {
    "duration": 41,
    "start_time": "2021-12-02T05:03:52.809Z"
   },
   {
    "duration": 163,
    "start_time": "2021-12-02T05:03:52.852Z"
   },
   {
    "duration": 24,
    "start_time": "2021-12-02T05:03:53.017Z"
   },
   {
    "duration": 65,
    "start_time": "2021-12-02T05:03:53.043Z"
   },
   {
    "duration": 39,
    "start_time": "2021-12-02T05:03:53.110Z"
   },
   {
    "duration": 30,
    "start_time": "2021-12-02T05:03:53.151Z"
   },
   {
    "duration": 119,
    "start_time": "2021-12-02T05:03:53.183Z"
   },
   {
    "duration": 21,
    "start_time": "2021-12-02T05:03:53.303Z"
   },
   {
    "duration": 13,
    "start_time": "2021-12-02T05:03:53.325Z"
   },
   {
    "duration": 24,
    "start_time": "2021-12-02T05:03:53.339Z"
   },
   {
    "duration": 28,
    "start_time": "2021-12-02T05:03:53.365Z"
   },
   {
    "duration": 15,
    "start_time": "2021-12-02T05:03:53.395Z"
   },
   {
    "duration": 2,
    "start_time": "2021-12-02T05:03:53.411Z"
   },
   {
    "duration": 26,
    "start_time": "2021-12-02T05:03:53.415Z"
   },
   {
    "duration": 85,
    "start_time": "2021-12-02T05:03:53.442Z"
   },
   {
    "duration": 6,
    "start_time": "2021-12-02T05:03:53.528Z"
   },
   {
    "duration": 33,
    "start_time": "2021-12-02T05:03:53.535Z"
   },
   {
    "duration": 2,
    "start_time": "2021-12-02T05:03:53.571Z"
   },
   {
    "duration": 38,
    "start_time": "2021-12-02T05:03:53.575Z"
   },
   {
    "duration": 11,
    "start_time": "2021-12-02T05:03:53.615Z"
   },
   {
    "duration": 40,
    "start_time": "2021-12-02T05:03:53.627Z"
   },
   {
    "duration": 7,
    "start_time": "2021-12-02T05:03:53.669Z"
   },
   {
    "duration": 10,
    "start_time": "2021-12-02T05:03:53.677Z"
   },
   {
    "duration": 15,
    "start_time": "2021-12-02T05:03:53.688Z"
   },
   {
    "duration": 9,
    "start_time": "2021-12-02T05:03:53.705Z"
   },
   {
    "duration": 7,
    "start_time": "2021-12-02T05:03:53.716Z"
   },
   {
    "duration": 25,
    "start_time": "2021-12-02T05:03:53.725Z"
   },
   {
    "duration": 19,
    "start_time": "2021-12-02T05:03:53.752Z"
   },
   {
    "duration": 12,
    "start_time": "2021-12-02T05:03:53.773Z"
   },
   {
    "duration": 23,
    "start_time": "2021-12-02T05:03:53.787Z"
   },
   {
    "duration": 10,
    "start_time": "2021-12-02T05:03:53.812Z"
   },
   {
    "duration": 21,
    "start_time": "2021-12-02T05:03:53.824Z"
   },
   {
    "duration": 50,
    "start_time": "2021-12-02T05:03:53.847Z"
   },
   {
    "duration": 9,
    "start_time": "2021-12-02T05:03:53.899Z"
   },
   {
    "duration": 10,
    "start_time": "2021-12-02T05:03:53.909Z"
   },
   {
    "duration": 9,
    "start_time": "2021-12-02T05:03:53.921Z"
   },
   {
    "duration": 9,
    "start_time": "2021-12-02T05:03:53.931Z"
   },
   {
    "duration": 27,
    "start_time": "2021-12-02T05:03:53.942Z"
   },
   {
    "duration": 27,
    "start_time": "2021-12-02T05:03:58.819Z"
   },
   {
    "duration": 627,
    "start_time": "2021-12-02T05:04:04.918Z"
   },
   {
    "duration": 621,
    "start_time": "2021-12-02T05:05:14.323Z"
   },
   {
    "duration": 12,
    "start_time": "2021-12-02T05:05:19.205Z"
   },
   {
    "duration": 11,
    "start_time": "2021-12-02T05:06:15.486Z"
   },
   {
    "duration": 11,
    "start_time": "2021-12-02T05:06:25.751Z"
   },
   {
    "duration": 133,
    "start_time": "2021-12-02T05:11:24.762Z"
   },
   {
    "duration": 1142,
    "start_time": "2021-12-02T05:35:21.744Z"
   },
   {
    "duration": 11,
    "start_time": "2021-12-02T05:35:43.157Z"
   },
   {
    "duration": 12,
    "start_time": "2021-12-02T05:36:09.243Z"
   },
   {
    "duration": 11,
    "start_time": "2021-12-02T05:36:56.385Z"
   },
   {
    "duration": 11,
    "start_time": "2021-12-02T05:37:37.486Z"
   },
   {
    "duration": 26,
    "start_time": "2021-12-02T05:39:31.652Z"
   },
   {
    "duration": 28,
    "start_time": "2021-12-02T05:39:58.916Z"
   },
   {
    "duration": 11316,
    "start_time": "2021-12-02T05:40:27.096Z"
   },
   {
    "duration": 10536,
    "start_time": "2021-12-02T05:41:05.695Z"
   },
   {
    "duration": 1293,
    "start_time": "2021-12-02T05:41:34.362Z"
   },
   {
    "duration": 30,
    "start_time": "2021-12-02T05:41:35.658Z"
   },
   {
    "duration": 36,
    "start_time": "2021-12-02T05:41:35.690Z"
   },
   {
    "duration": 3,
    "start_time": "2021-12-02T05:41:35.728Z"
   },
   {
    "duration": 50,
    "start_time": "2021-12-02T05:41:35.733Z"
   },
   {
    "duration": 64,
    "start_time": "2021-12-02T05:41:35.786Z"
   },
   {
    "duration": 980,
    "start_time": "2021-12-02T05:41:35.852Z"
   },
   {
    "duration": 22,
    "start_time": "2021-12-02T05:41:36.835Z"
   },
   {
    "duration": 21,
    "start_time": "2021-12-02T05:41:36.859Z"
   },
   {
    "duration": 50,
    "start_time": "2021-12-02T05:41:36.882Z"
   },
   {
    "duration": 27,
    "start_time": "2021-12-02T05:41:36.933Z"
   },
   {
    "duration": 359,
    "start_time": "2021-12-02T05:41:36.962Z"
   },
   {
    "duration": 20,
    "start_time": "2021-12-02T05:41:37.323Z"
   },
   {
    "duration": 14,
    "start_time": "2021-12-02T05:41:37.345Z"
   },
   {
    "duration": 15,
    "start_time": "2021-12-02T05:41:37.361Z"
   },
   {
    "duration": 56,
    "start_time": "2021-12-02T05:41:37.378Z"
   },
   {
    "duration": 14,
    "start_time": "2021-12-02T05:41:37.435Z"
   },
   {
    "duration": 2,
    "start_time": "2021-12-02T05:41:37.451Z"
   },
   {
    "duration": 23,
    "start_time": "2021-12-02T05:41:37.455Z"
   },
   {
    "duration": 770,
    "start_time": "2021-12-02T05:41:37.480Z"
   },
   {
    "duration": 7,
    "start_time": "2021-12-02T05:41:38.252Z"
   },
   {
    "duration": 30,
    "start_time": "2021-12-02T05:41:38.261Z"
   },
   {
    "duration": 2,
    "start_time": "2021-12-02T05:41:38.295Z"
   },
   {
    "duration": 885,
    "start_time": "2021-12-02T05:41:38.299Z"
   },
   {
    "duration": 5,
    "start_time": "2021-12-02T05:41:39.186Z"
   },
   {
    "duration": 37,
    "start_time": "2021-12-02T05:41:39.192Z"
   },
   {
    "duration": 9,
    "start_time": "2021-12-02T05:41:39.231Z"
   },
   {
    "duration": 10,
    "start_time": "2021-12-02T05:41:39.242Z"
   },
   {
    "duration": 11,
    "start_time": "2021-12-02T05:41:39.254Z"
   },
   {
    "duration": 49,
    "start_time": "2021-12-02T05:41:39.267Z"
   },
   {
    "duration": 7,
    "start_time": "2021-12-02T05:41:39.319Z"
   },
   {
    "duration": 21,
    "start_time": "2021-12-02T05:41:39.328Z"
   },
   {
    "duration": 21,
    "start_time": "2021-12-02T05:41:39.351Z"
   },
   {
    "duration": 49,
    "start_time": "2021-12-02T05:41:39.374Z"
   },
   {
    "duration": 13,
    "start_time": "2021-12-02T05:41:39.425Z"
   },
   {
    "duration": 12,
    "start_time": "2021-12-02T05:41:39.439Z"
   },
   {
    "duration": 8,
    "start_time": "2021-12-02T05:41:39.454Z"
   },
   {
    "duration": 90,
    "start_time": "2021-12-02T05:41:39.464Z"
   },
   {
    "duration": 9,
    "start_time": "2021-12-02T05:41:39.556Z"
   },
   {
    "duration": 11,
    "start_time": "2021-12-02T05:41:39.567Z"
   },
   {
    "duration": 26,
    "start_time": "2021-12-02T05:41:39.580Z"
   },
   {
    "duration": 40,
    "start_time": "2021-12-02T05:41:39.609Z"
   },
   {
    "duration": 43,
    "start_time": "2021-12-02T05:41:39.651Z"
   },
   {
    "duration": 11673,
    "start_time": "2021-12-02T05:42:01.865Z"
   },
   {
    "duration": 11,
    "start_time": "2021-12-02T05:42:36.692Z"
   },
   {
    "duration": 17,
    "start_time": "2021-12-02T05:42:44.799Z"
   },
   {
    "duration": 11,
    "start_time": "2021-12-02T05:44:12.291Z"
   },
   {
    "duration": 1377,
    "start_time": "2021-12-02T05:45:26.467Z"
   },
   {
    "duration": 29,
    "start_time": "2021-12-02T05:45:27.846Z"
   },
   {
    "duration": 30,
    "start_time": "2021-12-02T05:45:27.877Z"
   },
   {
    "duration": 3,
    "start_time": "2021-12-02T05:45:27.911Z"
   },
   {
    "duration": 66,
    "start_time": "2021-12-02T05:45:27.916Z"
   },
   {
    "duration": 64,
    "start_time": "2021-12-02T05:45:27.984Z"
   },
   {
    "duration": 170,
    "start_time": "2021-12-02T05:45:28.050Z"
   },
   {
    "duration": 24,
    "start_time": "2021-12-02T05:45:28.224Z"
   },
   {
    "duration": 21,
    "start_time": "2021-12-02T05:45:28.250Z"
   },
   {
    "duration": 57,
    "start_time": "2021-12-02T05:45:28.273Z"
   },
   {
    "duration": 28,
    "start_time": "2021-12-02T05:45:28.332Z"
   },
   {
    "duration": 127,
    "start_time": "2021-12-02T05:45:28.362Z"
   },
   {
    "duration": 37,
    "start_time": "2021-12-02T05:45:28.490Z"
   },
   {
    "duration": 13,
    "start_time": "2021-12-02T05:45:28.529Z"
   },
   {
    "duration": 15,
    "start_time": "2021-12-02T05:45:28.544Z"
   },
   {
    "duration": 57,
    "start_time": "2021-12-02T05:45:28.561Z"
   },
   {
    "duration": 16,
    "start_time": "2021-12-02T05:45:28.621Z"
   },
   {
    "duration": 2,
    "start_time": "2021-12-02T05:45:28.639Z"
   },
   {
    "duration": 20,
    "start_time": "2021-12-02T05:45:28.643Z"
   },
   {
    "duration": 84,
    "start_time": "2021-12-02T05:45:28.664Z"
   },
   {
    "duration": 6,
    "start_time": "2021-12-02T05:45:28.750Z"
   },
   {
    "duration": 29,
    "start_time": "2021-12-02T05:45:28.758Z"
   },
   {
    "duration": 2,
    "start_time": "2021-12-02T05:45:28.791Z"
   },
   {
    "duration": 35,
    "start_time": "2021-12-02T05:45:28.795Z"
   },
   {
    "duration": 14,
    "start_time": "2021-12-02T05:45:28.832Z"
   },
   {
    "duration": 34,
    "start_time": "2021-12-02T05:45:28.847Z"
   },
   {
    "duration": 6,
    "start_time": "2021-12-02T05:45:28.883Z"
   },
   {
    "duration": 8,
    "start_time": "2021-12-02T05:45:28.891Z"
   },
   {
    "duration": 15,
    "start_time": "2021-12-02T05:45:28.908Z"
   },
   {
    "duration": 9,
    "start_time": "2021-12-02T05:45:28.925Z"
   },
   {
    "duration": 4,
    "start_time": "2021-12-02T05:45:28.936Z"
   },
   {
    "duration": 25,
    "start_time": "2021-12-02T05:45:28.942Z"
   },
   {
    "duration": 50,
    "start_time": "2021-12-02T05:45:28.969Z"
   },
   {
    "duration": 13,
    "start_time": "2021-12-02T05:45:29.022Z"
   },
   {
    "duration": 17,
    "start_time": "2021-12-02T05:45:29.037Z"
   },
   {
    "duration": 20,
    "start_time": "2021-12-02T05:45:29.055Z"
   },
   {
    "duration": 7,
    "start_time": "2021-12-02T05:45:29.076Z"
   },
   {
    "duration": 71,
    "start_time": "2021-12-02T05:45:29.085Z"
   },
   {
    "duration": 8,
    "start_time": "2021-12-02T05:45:29.158Z"
   },
   {
    "duration": 9,
    "start_time": "2021-12-02T05:45:29.168Z"
   },
   {
    "duration": 36,
    "start_time": "2021-12-02T05:45:29.179Z"
   },
   {
    "duration": 7,
    "start_time": "2021-12-02T05:45:29.219Z"
   },
   {
    "duration": 28,
    "start_time": "2021-12-02T05:45:29.228Z"
   },
   {
    "duration": 11,
    "start_time": "2021-12-02T05:45:29.258Z"
   },
   {
    "duration": 55,
    "start_time": "2021-12-02T05:45:29.271Z"
   },
   {
    "duration": 10,
    "start_time": "2021-12-02T05:45:29.328Z"
   },
   {
    "duration": 13,
    "start_time": "2021-12-02T05:45:29.340Z"
   },
   {
    "duration": 674,
    "start_time": "2021-12-02T05:45:29.355Z"
   },
   {
    "duration": 660,
    "start_time": "2021-12-02T05:45:30.031Z"
   },
   {
    "duration": 2,
    "start_time": "2021-12-02T05:45:30.693Z"
   },
   {
    "duration": 40,
    "start_time": "2021-12-02T05:45:30.697Z"
   },
   {
    "duration": 466,
    "start_time": "2021-12-02T05:45:30.740Z"
   },
   {
    "duration": 1411,
    "start_time": "2021-12-02T05:45:29.798Z"
   },
   {
    "duration": 1407,
    "start_time": "2021-12-02T05:45:29.804Z"
   },
   {
    "duration": 1406,
    "start_time": "2021-12-02T05:45:29.807Z"
   },
   {
    "duration": 1403,
    "start_time": "2021-12-02T05:45:29.811Z"
   },
   {
    "duration": 1402,
    "start_time": "2021-12-02T05:45:29.814Z"
   },
   {
    "duration": 1400,
    "start_time": "2021-12-02T05:45:29.817Z"
   },
   {
    "duration": 1399,
    "start_time": "2021-12-02T05:45:29.820Z"
   },
   {
    "duration": 1398,
    "start_time": "2021-12-02T05:45:29.823Z"
   },
   {
    "duration": 1395,
    "start_time": "2021-12-02T05:45:29.827Z"
   },
   {
    "duration": 1395,
    "start_time": "2021-12-02T05:45:29.829Z"
   },
   {
    "duration": 1393,
    "start_time": "2021-12-02T05:45:29.832Z"
   },
   {
    "duration": 263,
    "start_time": "2021-12-02T05:46:21.103Z"
   },
   {
    "duration": 362,
    "start_time": "2021-12-02T05:49:10.611Z"
   },
   {
    "duration": 385,
    "start_time": "2021-12-02T05:50:20.028Z"
   },
   {
    "duration": 197,
    "start_time": "2021-12-02T05:50:32.146Z"
   },
   {
    "duration": 30,
    "start_time": "2021-12-02T05:50:32.345Z"
   },
   {
    "duration": 37,
    "start_time": "2021-12-02T05:50:32.377Z"
   },
   {
    "duration": 4,
    "start_time": "2021-12-02T05:50:32.418Z"
   },
   {
    "duration": 54,
    "start_time": "2021-12-02T05:50:32.424Z"
   },
   {
    "duration": 64,
    "start_time": "2021-12-02T05:50:32.480Z"
   },
   {
    "duration": 172,
    "start_time": "2021-12-02T05:50:32.546Z"
   },
   {
    "duration": 24,
    "start_time": "2021-12-02T05:50:32.723Z"
   },
   {
    "duration": 21,
    "start_time": "2021-12-02T05:50:32.749Z"
   },
   {
    "duration": 58,
    "start_time": "2021-12-02T05:50:32.772Z"
   },
   {
    "duration": 25,
    "start_time": "2021-12-02T05:50:32.832Z"
   },
   {
    "duration": 125,
    "start_time": "2021-12-02T05:50:32.859Z"
   },
   {
    "duration": 35,
    "start_time": "2021-12-02T05:50:32.986Z"
   },
   {
    "duration": 13,
    "start_time": "2021-12-02T05:50:33.023Z"
   },
   {
    "duration": 16,
    "start_time": "2021-12-02T05:50:33.038Z"
   },
   {
    "duration": 24,
    "start_time": "2021-12-02T05:50:33.056Z"
   },
   {
    "duration": 20,
    "start_time": "2021-12-02T05:50:33.108Z"
   },
   {
    "duration": 2,
    "start_time": "2021-12-02T05:50:33.130Z"
   },
   {
    "duration": 32,
    "start_time": "2021-12-02T05:50:33.134Z"
   },
   {
    "duration": 48,
    "start_time": "2021-12-02T05:50:33.168Z"
   },
   {
    "duration": 8,
    "start_time": "2021-12-02T05:50:33.219Z"
   },
   {
    "duration": 41,
    "start_time": "2021-12-02T05:50:33.229Z"
   },
   {
    "duration": 2,
    "start_time": "2021-12-02T05:50:33.273Z"
   },
   {
    "duration": 33,
    "start_time": "2021-12-02T05:50:33.277Z"
   },
   {
    "duration": 7,
    "start_time": "2021-12-02T05:50:33.312Z"
   },
   {
    "duration": 34,
    "start_time": "2021-12-02T05:50:33.320Z"
   },
   {
    "duration": 6,
    "start_time": "2021-12-02T05:50:33.356Z"
   },
   {
    "duration": 16,
    "start_time": "2021-12-02T05:50:33.364Z"
   },
   {
    "duration": 17,
    "start_time": "2021-12-02T05:50:33.408Z"
   },
   {
    "duration": 12,
    "start_time": "2021-12-02T05:50:33.427Z"
   },
   {
    "duration": 7,
    "start_time": "2021-12-02T05:50:33.441Z"
   },
   {
    "duration": 29,
    "start_time": "2021-12-02T05:50:33.450Z"
   },
   {
    "duration": 50,
    "start_time": "2021-12-02T05:50:33.481Z"
   },
   {
    "duration": 12,
    "start_time": "2021-12-02T05:50:33.533Z"
   },
   {
    "duration": 21,
    "start_time": "2021-12-02T05:50:33.547Z"
   },
   {
    "duration": 366,
    "start_time": "2021-12-02T05:50:37.375Z"
   },
   {
    "duration": 8,
    "start_time": "2021-12-02T05:52:50.356Z"
   },
   {
    "duration": 20,
    "start_time": "2021-12-02T05:53:14.190Z"
   },
   {
    "duration": 53,
    "start_time": "2021-12-02T05:53:27.010Z"
   },
   {
    "duration": 15,
    "start_time": "2021-12-02T05:53:41.997Z"
   },
   {
    "duration": 16,
    "start_time": "2021-12-02T05:54:10.846Z"
   },
   {
    "duration": 17,
    "start_time": "2021-12-02T05:54:22.904Z"
   },
   {
    "duration": 22,
    "start_time": "2021-12-02T05:55:20.583Z"
   },
   {
    "duration": 22,
    "start_time": "2021-12-02T05:55:38.244Z"
   },
   {
    "duration": 13,
    "start_time": "2021-12-02T05:55:50.225Z"
   },
   {
    "duration": 26,
    "start_time": "2021-12-02T05:56:17.588Z"
   },
   {
    "duration": 13,
    "start_time": "2021-12-02T05:56:21.346Z"
   },
   {
    "duration": 11,
    "start_time": "2021-12-02T05:56:25.651Z"
   },
   {
    "duration": 8,
    "start_time": "2021-12-02T05:59:23.259Z"
   },
   {
    "duration": 8,
    "start_time": "2021-12-02T05:59:42.889Z"
   },
   {
    "duration": 24,
    "start_time": "2021-12-02T05:59:53.370Z"
   },
   {
    "duration": 7,
    "start_time": "2021-12-02T05:59:58.330Z"
   },
   {
    "duration": 1436,
    "start_time": "2021-12-02T06:00:03.191Z"
   },
   {
    "duration": 6,
    "start_time": "2021-12-02T06:00:10.680Z"
   },
   {
    "duration": 32,
    "start_time": "2021-12-02T06:00:13.674Z"
   },
   {
    "duration": 8,
    "start_time": "2021-12-02T06:00:20.223Z"
   },
   {
    "duration": 13,
    "start_time": "2021-12-02T06:00:33.926Z"
   },
   {
    "duration": 6,
    "start_time": "2021-12-02T06:00:52.792Z"
   },
   {
    "duration": 206,
    "start_time": "2021-12-02T06:01:46.778Z"
   },
   {
    "duration": 60,
    "start_time": "2021-12-02T06:01:46.985Z"
   },
   {
    "duration": 19,
    "start_time": "2021-12-02T06:01:47.047Z"
   },
   {
    "duration": 3,
    "start_time": "2021-12-02T06:01:47.068Z"
   },
   {
    "duration": 87,
    "start_time": "2021-12-02T06:01:47.072Z"
   },
   {
    "duration": 48,
    "start_time": "2021-12-02T06:01:47.162Z"
   },
   {
    "duration": 161,
    "start_time": "2021-12-02T06:01:47.213Z"
   },
   {
    "duration": 34,
    "start_time": "2021-12-02T06:01:47.377Z"
   },
   {
    "duration": 25,
    "start_time": "2021-12-02T06:01:47.414Z"
   },
   {
    "duration": 34,
    "start_time": "2021-12-02T06:01:47.441Z"
   },
   {
    "duration": 56,
    "start_time": "2021-12-02T06:01:47.477Z"
   },
   {
    "duration": 117,
    "start_time": "2021-12-02T06:01:47.535Z"
   },
   {
    "duration": 19,
    "start_time": "2021-12-02T06:01:47.654Z"
   },
   {
    "duration": 13,
    "start_time": "2021-12-02T06:01:47.675Z"
   },
   {
    "duration": 23,
    "start_time": "2021-12-02T06:01:47.706Z"
   },
   {
    "duration": 26,
    "start_time": "2021-12-02T06:01:47.730Z"
   },
   {
    "duration": 12,
    "start_time": "2021-12-02T06:01:47.758Z"
   },
   {
    "duration": 2,
    "start_time": "2021-12-02T06:01:47.772Z"
   },
   {
    "duration": 18,
    "start_time": "2021-12-02T06:01:47.807Z"
   },
   {
    "duration": 9,
    "start_time": "2021-12-02T06:01:47.827Z"
   },
   {
    "duration": 42,
    "start_time": "2021-12-02T06:01:47.838Z"
   },
   {
    "duration": 6,
    "start_time": "2021-12-02T06:01:47.882Z"
   },
   {
    "duration": 46,
    "start_time": "2021-12-02T06:01:47.892Z"
   },
   {
    "duration": 2,
    "start_time": "2021-12-02T06:01:47.940Z"
   },
   {
    "duration": 40,
    "start_time": "2021-12-02T06:01:47.944Z"
   },
   {
    "duration": 5,
    "start_time": "2021-12-02T06:01:47.986Z"
   },
   {
    "duration": 48,
    "start_time": "2021-12-02T06:01:47.993Z"
   },
   {
    "duration": 7,
    "start_time": "2021-12-02T06:01:48.043Z"
   },
   {
    "duration": 12,
    "start_time": "2021-12-02T06:01:48.052Z"
   },
   {
    "duration": 10,
    "start_time": "2021-12-02T06:01:48.066Z"
   },
   {
    "duration": 33,
    "start_time": "2021-12-02T06:01:48.078Z"
   },
   {
    "duration": 5,
    "start_time": "2021-12-02T06:01:48.114Z"
   },
   {
    "duration": 24,
    "start_time": "2021-12-02T06:01:48.121Z"
   },
   {
    "duration": 12,
    "start_time": "2021-12-02T06:01:48.147Z"
   },
   {
    "duration": 29,
    "start_time": "2021-12-02T06:01:48.161Z"
   },
   {
    "duration": 20,
    "start_time": "2021-12-02T06:01:48.192Z"
   },
   {
    "duration": 16,
    "start_time": "2021-12-02T06:01:48.215Z"
   },
   {
    "duration": 8,
    "start_time": "2021-12-02T06:01:48.234Z"
   },
   {
    "duration": 83,
    "start_time": "2021-12-02T06:01:48.243Z"
   },
   {
    "duration": 8,
    "start_time": "2021-12-02T06:01:48.328Z"
   },
   {
    "duration": 11,
    "start_time": "2021-12-02T06:01:48.337Z"
   },
   {
    "duration": 13,
    "start_time": "2021-12-02T06:01:48.349Z"
   },
   {
    "duration": 8,
    "start_time": "2021-12-02T06:01:48.364Z"
   },
   {
    "duration": 57,
    "start_time": "2021-12-02T06:01:48.374Z"
   },
   {
    "duration": 260,
    "start_time": "2021-12-02T06:01:48.433Z"
   },
   {
    "duration": 24,
    "start_time": "2021-12-02T06:01:48.695Z"
   },
   {
    "duration": 9,
    "start_time": "2021-12-02T06:01:48.724Z"
   },
   {
    "duration": 10,
    "start_time": "2021-12-02T06:01:48.734Z"
   },
   {
    "duration": 756,
    "start_time": "2021-12-02T06:01:48.746Z"
   },
   {
    "duration": 754,
    "start_time": "2021-12-02T06:01:49.503Z"
   },
   {
    "duration": 3,
    "start_time": "2021-12-02T06:01:50.259Z"
   },
   {
    "duration": 62,
    "start_time": "2021-12-02T06:01:50.264Z"
   },
   {
    "duration": 11,
    "start_time": "2021-12-02T06:01:50.328Z"
   },
   {
    "duration": 14,
    "start_time": "2021-12-02T06:01:50.341Z"
   },
   {
    "duration": 25,
    "start_time": "2021-12-02T06:01:50.357Z"
   },
   {
    "duration": 21,
    "start_time": "2021-12-02T06:01:50.385Z"
   },
   {
    "duration": 225,
    "start_time": "2021-12-02T06:01:50.413Z"
   },
   {
    "duration": 300,
    "start_time": "2021-12-02T06:01:50.640Z"
   },
   {
    "duration": 4,
    "start_time": "2021-12-02T06:01:50.943Z"
   },
   {
    "duration": 26,
    "start_time": "2021-12-02T06:01:50.949Z"
   },
   {
    "duration": 23,
    "start_time": "2021-12-02T06:01:50.978Z"
   },
   {
    "duration": 32,
    "start_time": "2021-12-02T06:01:51.002Z"
   },
   {
    "duration": 24,
    "start_time": "2021-12-02T06:01:51.036Z"
   },
   {
    "duration": 26,
    "start_time": "2021-12-02T06:01:51.062Z"
   },
   {
    "duration": 14,
    "start_time": "2021-12-02T06:02:07.135Z"
   },
   {
    "duration": 12,
    "start_time": "2021-12-02T06:02:27.678Z"
   },
   {
    "duration": 9,
    "start_time": "2021-12-02T06:02:42.543Z"
   },
   {
    "duration": 192,
    "start_time": "2021-12-02T06:04:27.512Z"
   },
   {
    "duration": 383,
    "start_time": "2021-12-02T06:05:42.427Z"
   },
   {
    "duration": 373,
    "start_time": "2021-12-02T06:05:57.870Z"
   },
   {
    "duration": 12,
    "start_time": "2021-12-02T06:08:22.390Z"
   },
   {
    "duration": 363,
    "start_time": "2021-12-02T06:09:13.230Z"
   },
   {
    "duration": 362,
    "start_time": "2021-12-02T06:10:55.838Z"
   },
   {
    "duration": 367,
    "start_time": "2021-12-02T06:12:59.241Z"
   },
   {
    "duration": 369,
    "start_time": "2021-12-02T06:13:17.295Z"
   },
   {
    "duration": 13,
    "start_time": "2021-12-02T06:17:31.421Z"
   },
   {
    "duration": 13,
    "start_time": "2021-12-02T06:17:51.690Z"
   },
   {
    "duration": 14,
    "start_time": "2021-12-02T06:18:26.126Z"
   },
   {
    "duration": 13,
    "start_time": "2021-12-02T06:18:36.683Z"
   },
   {
    "duration": 17,
    "start_time": "2021-12-02T06:18:48.328Z"
   },
   {
    "duration": 28,
    "start_time": "2021-12-02T06:19:33.457Z"
   },
   {
    "duration": 199,
    "start_time": "2021-12-02T06:19:46.144Z"
   },
   {
    "duration": 28,
    "start_time": "2021-12-02T06:19:46.345Z"
   },
   {
    "duration": 32,
    "start_time": "2021-12-02T06:19:46.375Z"
   },
   {
    "duration": 4,
    "start_time": "2021-12-02T06:19:46.410Z"
   },
   {
    "duration": 69,
    "start_time": "2021-12-02T06:19:46.416Z"
   },
   {
    "duration": 44,
    "start_time": "2021-12-02T06:19:46.487Z"
   },
   {
    "duration": 146,
    "start_time": "2021-12-02T06:19:46.533Z"
   },
   {
    "duration": 41,
    "start_time": "2021-12-02T06:19:46.682Z"
   },
   {
    "duration": 19,
    "start_time": "2021-12-02T06:19:46.726Z"
   },
   {
    "duration": 32,
    "start_time": "2021-12-02T06:19:46.746Z"
   },
   {
    "duration": 48,
    "start_time": "2021-12-02T06:19:46.780Z"
   },
   {
    "duration": 112,
    "start_time": "2021-12-02T06:19:46.830Z"
   },
   {
    "duration": 19,
    "start_time": "2021-12-02T06:19:46.943Z"
   },
   {
    "duration": 12,
    "start_time": "2021-12-02T06:19:46.964Z"
   },
   {
    "duration": 40,
    "start_time": "2021-12-02T06:19:46.978Z"
   },
   {
    "duration": 25,
    "start_time": "2021-12-02T06:19:47.021Z"
   },
   {
    "duration": 12,
    "start_time": "2021-12-02T06:19:47.048Z"
   },
   {
    "duration": 2,
    "start_time": "2021-12-02T06:19:47.062Z"
   },
   {
    "duration": 41,
    "start_time": "2021-12-02T06:19:47.066Z"
   },
   {
    "duration": 14,
    "start_time": "2021-12-02T06:19:47.110Z"
   },
   {
    "duration": 63,
    "start_time": "2021-12-02T06:19:47.126Z"
   },
   {
    "duration": 7,
    "start_time": "2021-12-02T06:19:47.192Z"
   },
   {
    "duration": 30,
    "start_time": "2021-12-02T06:19:50.334Z"
   },
   {
    "duration": 16,
    "start_time": "2021-12-02T06:20:09.321Z"
   },
   {
    "duration": 186,
    "start_time": "2021-12-02T06:20:18.378Z"
   },
   {
    "duration": 10230,
    "start_time": "2021-12-02T06:20:36.616Z"
   },
   {
    "duration": 177,
    "start_time": "2021-12-02T06:20:55.926Z"
   },
   {
    "duration": 36,
    "start_time": "2021-12-02T06:20:56.106Z"
   },
   {
    "duration": 17,
    "start_time": "2021-12-02T06:20:56.144Z"
   },
   {
    "duration": 2,
    "start_time": "2021-12-02T06:20:56.163Z"
   },
   {
    "duration": 50,
    "start_time": "2021-12-02T06:21:10.050Z"
   },
   {
    "duration": 32,
    "start_time": "2021-12-02T06:21:30.648Z"
   },
   {
    "duration": 18,
    "start_time": "2021-12-02T06:23:47.611Z"
   },
   {
    "duration": 16,
    "start_time": "2021-12-02T06:23:59.896Z"
   },
   {
    "duration": 32,
    "start_time": "2021-12-02T06:26:53.436Z"
   },
   {
    "duration": 534,
    "start_time": "2021-12-02T06:27:03.322Z"
   },
   {
    "duration": 489,
    "start_time": "2021-12-02T06:27:17.581Z"
   },
   {
    "duration": 410,
    "start_time": "2021-12-02T06:27:40.667Z"
   },
   {
    "duration": 25,
    "start_time": "2021-12-02T06:28:12.084Z"
   },
   {
    "duration": 30,
    "start_time": "2021-12-02T06:28:56.657Z"
   },
   {
    "duration": 15,
    "start_time": "2021-12-02T06:30:46.990Z"
   },
   {
    "duration": 162,
    "start_time": "2021-12-02T06:30:55.700Z"
   },
   {
    "duration": 19,
    "start_time": "2021-12-02T06:31:02.854Z"
   },
   {
    "duration": 1227,
    "start_time": "2021-12-02T06:31:13.674Z"
   },
   {
    "duration": 417,
    "start_time": "2021-12-02T06:31:31.983Z"
   },
   {
    "duration": 11256,
    "start_time": "2021-12-02T06:31:50.179Z"
   },
   {
    "duration": 402,
    "start_time": "2021-12-02T06:32:01.499Z"
   },
   {
    "duration": 24,
    "start_time": "2021-12-02T06:32:15.452Z"
   },
   {
    "duration": 11320,
    "start_time": "2021-12-02T06:32:55.771Z"
   },
   {
    "duration": 231,
    "start_time": "2021-12-02T06:33:08.142Z"
   },
   {
    "duration": 46,
    "start_time": "2021-12-02T06:33:08.375Z"
   },
   {
    "duration": 18,
    "start_time": "2021-12-02T06:33:08.424Z"
   },
   {
    "duration": 2,
    "start_time": "2021-12-02T06:33:08.445Z"
   },
   {
    "duration": 73,
    "start_time": "2021-12-02T06:33:08.450Z"
   },
   {
    "duration": 36,
    "start_time": "2021-12-02T06:33:08.526Z"
   },
   {
    "duration": 16,
    "start_time": "2021-12-02T06:33:08.564Z"
   },
   {
    "duration": 164,
    "start_time": "2021-12-02T06:33:08.609Z"
   },
   {
    "duration": 25,
    "start_time": "2021-12-02T06:33:12.332Z"
   },
   {
    "duration": 19,
    "start_time": "2021-12-02T06:33:15.852Z"
   },
   {
    "duration": 32,
    "start_time": "2021-12-02T06:33:22.540Z"
   },
   {
    "duration": 23,
    "start_time": "2021-12-02T06:34:12.831Z"
   },
   {
    "duration": 109,
    "start_time": "2021-12-02T06:34:18.805Z"
   },
   {
    "duration": 33,
    "start_time": "2021-12-02T06:34:23.104Z"
   },
   {
    "duration": 14,
    "start_time": "2021-12-02T06:34:26.261Z"
   },
   {
    "duration": 15,
    "start_time": "2021-12-02T06:34:31.234Z"
   },
   {
    "duration": 551,
    "start_time": "2021-12-02T06:34:48.044Z"
   },
   {
    "duration": 1295,
    "start_time": "2021-12-02T06:35:12.886Z"
   },
   {
    "duration": 23,
    "start_time": "2021-12-02T06:35:30.737Z"
   },
   {
    "duration": 14,
    "start_time": "2021-12-02T06:35:38.151Z"
   },
   {
    "duration": 23,
    "start_time": "2021-12-02T06:36:01.304Z"
   },
   {
    "duration": 12,
    "start_time": "2021-12-02T06:36:49.495Z"
   },
   {
    "duration": 15,
    "start_time": "2021-12-02T06:37:48.689Z"
   },
   {
    "duration": 9,
    "start_time": "2021-12-02T06:38:12.878Z"
   },
   {
    "duration": 84,
    "start_time": "2021-12-02T06:38:16.780Z"
   },
   {
    "duration": 8,
    "start_time": "2021-12-02T06:38:21.738Z"
   },
   {
    "duration": 25,
    "start_time": "2021-12-02T06:38:33.439Z"
   },
   {
    "duration": 33,
    "start_time": "2021-12-02T06:39:02.387Z"
   },
   {
    "duration": 6,
    "start_time": "2021-12-02T06:39:08.276Z"
   },
   {
    "duration": 33,
    "start_time": "2021-12-02T06:39:15.135Z"
   },
   {
    "duration": 34,
    "start_time": "2021-12-02T06:39:42.014Z"
   },
   {
    "duration": 8,
    "start_time": "2021-12-02T06:39:46.369Z"
   },
   {
    "duration": 10,
    "start_time": "2021-12-02T06:39:58.144Z"
   },
   {
    "duration": 11,
    "start_time": "2021-12-02T06:40:21.767Z"
   },
   {
    "duration": 6,
    "start_time": "2021-12-02T06:40:31.380Z"
   },
   {
    "duration": 20,
    "start_time": "2021-12-02T06:41:43.235Z"
   },
   {
    "duration": 39,
    "start_time": "2021-12-02T06:42:52.796Z"
   },
   {
    "duration": 122,
    "start_time": "2021-12-02T06:45:21.443Z"
   },
   {
    "duration": 14,
    "start_time": "2021-12-02T06:45:49.225Z"
   },
   {
    "duration": 23,
    "start_time": "2021-12-02T06:47:18.078Z"
   },
   {
    "duration": 22,
    "start_time": "2021-12-02T06:47:32.882Z"
   },
   {
    "duration": 10,
    "start_time": "2021-12-02T06:48:08.457Z"
   },
   {
    "duration": 369,
    "start_time": "2021-12-02T06:48:13.726Z"
   },
   {
    "duration": 20,
    "start_time": "2021-12-02T06:48:25.103Z"
   },
   {
    "duration": 189,
    "start_time": "2021-12-02T06:49:46.323Z"
   },
   {
    "duration": 31,
    "start_time": "2021-12-02T06:49:46.515Z"
   },
   {
    "duration": 18,
    "start_time": "2021-12-02T06:49:46.549Z"
   },
   {
    "duration": 2,
    "start_time": "2021-12-02T06:49:46.569Z"
   },
   {
    "duration": 83,
    "start_time": "2021-12-02T06:49:46.573Z"
   },
   {
    "duration": 35,
    "start_time": "2021-12-02T06:49:46.657Z"
   },
   {
    "duration": 21,
    "start_time": "2021-12-02T06:49:46.707Z"
   },
   {
    "duration": 160,
    "start_time": "2021-12-02T06:49:46.730Z"
   },
   {
    "duration": 42,
    "start_time": "2021-12-02T06:49:46.894Z"
   },
   {
    "duration": 23,
    "start_time": "2021-12-02T06:49:46.939Z"
   },
   {
    "duration": 60,
    "start_time": "2021-12-02T06:49:46.964Z"
   },
   {
    "duration": 24,
    "start_time": "2021-12-02T06:49:47.027Z"
   },
   {
    "duration": 128,
    "start_time": "2021-12-02T06:49:47.053Z"
   },
   {
    "duration": 37,
    "start_time": "2021-12-02T06:49:47.184Z"
   },
   {
    "duration": 14,
    "start_time": "2021-12-02T06:49:47.223Z"
   },
   {
    "duration": 16,
    "start_time": "2021-12-02T06:49:47.238Z"
   },
   {
    "duration": 25,
    "start_time": "2021-12-02T06:49:47.256Z"
   },
   {
    "duration": 44,
    "start_time": "2021-12-02T06:49:47.283Z"
   },
   {
    "duration": 2,
    "start_time": "2021-12-02T06:49:47.329Z"
   },
   {
    "duration": 19,
    "start_time": "2021-12-02T06:49:47.334Z"
   },
   {
    "duration": 10,
    "start_time": "2021-12-02T06:49:47.355Z"
   },
   {
    "duration": 65,
    "start_time": "2021-12-02T06:49:47.367Z"
   },
   {
    "duration": 7,
    "start_time": "2021-12-02T06:49:47.434Z"
   },
   {
    "duration": 31,
    "start_time": "2021-12-02T06:49:47.442Z"
   },
   {
    "duration": 3,
    "start_time": "2021-12-02T06:49:47.475Z"
   },
   {
    "duration": 46,
    "start_time": "2021-12-02T06:49:47.479Z"
   },
   {
    "duration": 5,
    "start_time": "2021-12-02T06:49:47.529Z"
   },
   {
    "duration": 40,
    "start_time": "2021-12-02T06:49:47.536Z"
   },
   {
    "duration": 6,
    "start_time": "2021-12-02T06:49:47.578Z"
   },
   {
    "duration": 36,
    "start_time": "2021-12-02T06:49:47.586Z"
   },
   {
    "duration": 10,
    "start_time": "2021-12-02T06:49:47.624Z"
   },
   {
    "duration": 5,
    "start_time": "2021-12-02T06:49:47.636Z"
   },
   {
    "duration": 14,
    "start_time": "2021-12-02T06:49:47.643Z"
   },
   {
    "duration": 29,
    "start_time": "2021-12-02T06:49:47.659Z"
   },
   {
    "duration": 43,
    "start_time": "2021-12-02T06:49:47.690Z"
   },
   {
    "duration": 10,
    "start_time": "2021-12-02T06:49:47.735Z"
   },
   {
    "duration": 13,
    "start_time": "2021-12-02T06:49:51.732Z"
   },
   {
    "duration": 1169,
    "start_time": "2021-12-02T14:59:44.919Z"
   },
   {
    "duration": 26,
    "start_time": "2021-12-02T14:59:46.090Z"
   },
   {
    "duration": 15,
    "start_time": "2021-12-02T14:59:46.118Z"
   },
   {
    "duration": 1,
    "start_time": "2021-12-02T14:59:46.135Z"
   },
   {
    "duration": 62,
    "start_time": "2021-12-02T14:59:46.138Z"
   },
   {
    "duration": 30,
    "start_time": "2021-12-02T14:59:46.202Z"
   },
   {
    "duration": 15,
    "start_time": "2021-12-02T14:59:46.234Z"
   },
   {
    "duration": 139,
    "start_time": "2021-12-02T14:59:46.251Z"
   },
   {
    "duration": 20,
    "start_time": "2021-12-02T14:59:46.392Z"
   },
   {
    "duration": 18,
    "start_time": "2021-12-02T14:59:46.413Z"
   },
   {
    "duration": 28,
    "start_time": "2021-12-02T14:59:46.432Z"
   },
   {
    "duration": 45,
    "start_time": "2021-12-02T14:59:46.461Z"
   },
   {
    "duration": 92,
    "start_time": "2021-12-02T14:59:46.507Z"
   },
   {
    "duration": 18,
    "start_time": "2021-12-02T14:59:46.600Z"
   },
   {
    "duration": 10,
    "start_time": "2021-12-02T14:59:46.620Z"
   },
   {
    "duration": 13,
    "start_time": "2021-12-02T14:59:46.632Z"
   },
   {
    "duration": 43,
    "start_time": "2021-12-02T14:59:46.646Z"
   },
   {
    "duration": 13,
    "start_time": "2021-12-02T14:59:46.690Z"
   },
   {
    "duration": 12,
    "start_time": "2021-12-02T14:59:46.705Z"
   },
   {
    "duration": 7,
    "start_time": "2021-12-02T14:59:46.718Z"
   },
   {
    "duration": 39,
    "start_time": "2021-12-02T14:59:51.434Z"
   },
   {
    "duration": 7,
    "start_time": "2021-12-02T14:59:56.618Z"
   },
   {
    "duration": 23,
    "start_time": "2021-12-02T15:00:01.294Z"
   },
   {
    "duration": 25,
    "start_time": "2021-12-02T15:00:25.865Z"
   },
   {
    "duration": 336,
    "start_time": "2021-12-02T15:00:31.189Z"
   },
   {
    "duration": 5,
    "start_time": "2021-12-02T15:00:44.996Z"
   },
   {
    "duration": 30,
    "start_time": "2021-12-02T15:00:50.225Z"
   },
   {
    "duration": 11,
    "start_time": "2021-12-02T15:01:27.062Z"
   },
   {
    "duration": 10,
    "start_time": "2021-12-02T15:01:39.724Z"
   },
   {
    "duration": 18,
    "start_time": "2021-12-02T15:02:24.049Z"
   },
   {
    "duration": 21,
    "start_time": "2021-12-02T15:02:30.039Z"
   },
   {
    "duration": 9,
    "start_time": "2021-12-02T15:03:56.955Z"
   },
   {
    "duration": 158,
    "start_time": "2021-12-02T15:07:50.705Z"
   },
   {
    "duration": 29,
    "start_time": "2021-12-02T15:08:01.760Z"
   },
   {
    "duration": 16,
    "start_time": "2021-12-02T15:08:05.389Z"
   },
   {
    "duration": 42,
    "start_time": "2021-12-02T15:08:18.625Z"
   },
   {
    "duration": 30,
    "start_time": "2021-12-02T15:08:24.533Z"
   },
   {
    "duration": 13,
    "start_time": "2021-12-02T15:08:39.706Z"
   },
   {
    "duration": 140,
    "start_time": "2021-12-02T15:08:50.573Z"
   },
   {
    "duration": 136,
    "start_time": "2021-12-02T15:09:00.115Z"
   },
   {
    "duration": 21,
    "start_time": "2021-12-02T15:09:05.701Z"
   },
   {
    "duration": 18,
    "start_time": "2021-12-02T15:09:09.202Z"
   },
   {
    "duration": 28,
    "start_time": "2021-12-02T15:09:14.122Z"
   },
   {
    "duration": 20,
    "start_time": "2021-12-02T15:09:24.803Z"
   },
   {
    "duration": 93,
    "start_time": "2021-12-02T15:09:28.273Z"
   },
   {
    "duration": 12,
    "start_time": "2021-12-02T15:09:36.468Z"
   },
   {
    "duration": 245,
    "start_time": "2021-12-02T15:09:42.862Z"
   },
   {
    "duration": 11,
    "start_time": "2021-12-02T15:09:49.125Z"
   },
   {
    "duration": 236,
    "start_time": "2021-12-02T15:09:53.181Z"
   },
   {
    "duration": 9,
    "start_time": "2021-12-02T15:12:37.952Z"
   },
   {
    "duration": 9,
    "start_time": "2021-12-02T15:13:10.030Z"
   },
   {
    "duration": 132,
    "start_time": "2021-12-02T15:13:17.583Z"
   },
   {
    "duration": 20,
    "start_time": "2021-12-02T15:13:21.997Z"
   },
   {
    "duration": 18,
    "start_time": "2021-12-02T15:13:25.933Z"
   },
   {
    "duration": 29,
    "start_time": "2021-12-02T15:13:31.126Z"
   },
   {
    "duration": 20,
    "start_time": "2021-12-02T15:13:40.780Z"
   },
   {
    "duration": 5725,
    "start_time": "2021-12-02T15:14:06.906Z"
   },
   {
    "duration": 244,
    "start_time": "2021-12-02T15:14:13.300Z"
   },
   {
    "duration": 92,
    "start_time": "2021-12-02T15:14:21.219Z"
   },
   {
    "duration": 19,
    "start_time": "2021-12-02T15:15:30.769Z"
   },
   {
    "duration": 12,
    "start_time": "2021-12-02T15:15:35.551Z"
   },
   {
    "duration": 14,
    "start_time": "2021-12-02T15:15:42.728Z"
   },
   {
    "duration": 22,
    "start_time": "2021-12-02T15:15:49.360Z"
   },
   {
    "duration": 14,
    "start_time": "2021-12-02T15:15:54.279Z"
   },
   {
    "duration": 14,
    "start_time": "2021-12-02T15:16:04.056Z"
   },
   {
    "duration": 7,
    "start_time": "2021-12-02T15:16:16.678Z"
   },
   {
    "duration": 37,
    "start_time": "2021-12-02T15:16:23.688Z"
   },
   {
    "duration": 6,
    "start_time": "2021-12-02T15:16:29.412Z"
   },
   {
    "duration": 21,
    "start_time": "2021-12-02T15:16:33.685Z"
   },
   {
    "duration": 24,
    "start_time": "2021-12-02T15:17:05.594Z"
   },
   {
    "duration": 234,
    "start_time": "2021-12-02T15:17:28.466Z"
   },
   {
    "duration": 13,
    "start_time": "2021-12-02T15:18:08.056Z"
   },
   {
    "duration": 24,
    "start_time": "2021-12-02T15:18:14.348Z"
   },
   {
    "duration": 27,
    "start_time": "2021-12-02T15:18:30.032Z"
   },
   {
    "duration": 13,
    "start_time": "2021-12-02T15:18:49.960Z"
   },
   {
    "duration": 20,
    "start_time": "2021-12-02T15:19:05.230Z"
   },
   {
    "duration": 37,
    "start_time": "2021-12-02T15:20:55.074Z"
   },
   {
    "duration": 13,
    "start_time": "2021-12-02T15:21:04.516Z"
   },
   {
    "duration": 18,
    "start_time": "2021-12-02T15:21:12.319Z"
   },
   {
    "duration": 153,
    "start_time": "2021-12-02T15:21:45.000Z"
   },
   {
    "duration": 25,
    "start_time": "2021-12-02T15:21:45.155Z"
   },
   {
    "duration": 17,
    "start_time": "2021-12-02T15:21:45.182Z"
   },
   {
    "duration": 2,
    "start_time": "2021-12-02T15:21:45.201Z"
   },
   {
    "duration": 46,
    "start_time": "2021-12-02T15:21:45.204Z"
   },
   {
    "duration": 45,
    "start_time": "2021-12-02T15:21:45.251Z"
   },
   {
    "duration": 10,
    "start_time": "2021-12-02T15:21:45.298Z"
   },
   {
    "duration": 8,
    "start_time": "2021-12-02T15:21:45.311Z"
   },
   {
    "duration": 133,
    "start_time": "2021-12-02T15:21:45.321Z"
   },
   {
    "duration": 21,
    "start_time": "2021-12-02T15:21:45.455Z"
   },
   {
    "duration": 26,
    "start_time": "2021-12-02T15:21:45.478Z"
   },
   {
    "duration": 26,
    "start_time": "2021-12-02T15:21:45.505Z"
   },
   {
    "duration": 20,
    "start_time": "2021-12-02T15:21:45.532Z"
   },
   {
    "duration": 100,
    "start_time": "2021-12-02T15:21:45.554Z"
   },
   {
    "duration": 17,
    "start_time": "2021-12-02T15:21:45.655Z"
   },
   {
    "duration": 24,
    "start_time": "2021-12-02T15:21:45.674Z"
   },
   {
    "duration": 27,
    "start_time": "2021-12-02T15:21:45.700Z"
   },
   {
    "duration": 29,
    "start_time": "2021-12-02T15:21:45.729Z"
   },
   {
    "duration": 14,
    "start_time": "2021-12-02T15:21:45.760Z"
   },
   {
    "duration": 22,
    "start_time": "2021-12-02T15:21:45.775Z"
   },
   {
    "duration": 20,
    "start_time": "2021-12-02T15:21:45.798Z"
   },
   {
    "duration": 41,
    "start_time": "2021-12-02T15:21:45.820Z"
   },
   {
    "duration": 17,
    "start_time": "2021-12-02T15:21:45.863Z"
   },
   {
    "duration": 14,
    "start_time": "2021-12-02T15:22:15.138Z"
   },
   {
    "duration": 9,
    "start_time": "2021-12-02T15:22:23.202Z"
   },
   {
    "duration": 38,
    "start_time": "2021-12-02T15:22:28.653Z"
   },
   {
    "duration": 13,
    "start_time": "2021-12-02T15:22:34.416Z"
   },
   {
    "duration": 12,
    "start_time": "2021-12-02T15:23:10.296Z"
   },
   {
    "duration": 13,
    "start_time": "2021-12-02T15:23:29.589Z"
   },
   {
    "duration": 150,
    "start_time": "2021-12-02T15:23:34.412Z"
   },
   {
    "duration": 29,
    "start_time": "2021-12-02T15:23:34.564Z"
   },
   {
    "duration": 13,
    "start_time": "2021-12-02T15:23:34.595Z"
   },
   {
    "duration": 2,
    "start_time": "2021-12-02T15:23:34.610Z"
   },
   {
    "duration": 44,
    "start_time": "2021-12-02T15:23:34.614Z"
   },
   {
    "duration": 53,
    "start_time": "2021-12-02T15:23:34.660Z"
   },
   {
    "duration": 12,
    "start_time": "2021-12-02T15:23:34.715Z"
   },
   {
    "duration": 9,
    "start_time": "2021-12-02T15:23:34.729Z"
   },
   {
    "duration": 135,
    "start_time": "2021-12-02T15:23:34.740Z"
   },
   {
    "duration": 23,
    "start_time": "2021-12-02T15:23:34.877Z"
   },
   {
    "duration": 16,
    "start_time": "2021-12-02T15:23:34.901Z"
   },
   {
    "duration": 28,
    "start_time": "2021-12-02T15:23:34.918Z"
   },
   {
    "duration": 41,
    "start_time": "2021-12-02T15:23:34.947Z"
   },
   {
    "duration": 94,
    "start_time": "2021-12-02T15:23:34.990Z"
   },
   {
    "duration": 17,
    "start_time": "2021-12-02T15:23:35.086Z"
   },
   {
    "duration": 10,
    "start_time": "2021-12-02T15:23:35.104Z"
   },
   {
    "duration": 13,
    "start_time": "2021-12-02T15:23:35.116Z"
   },
   {
    "duration": 22,
    "start_time": "2021-12-02T15:23:35.131Z"
   },
   {
    "duration": 41,
    "start_time": "2021-12-02T15:23:35.154Z"
   },
   {
    "duration": 12,
    "start_time": "2021-12-02T15:23:35.197Z"
   },
   {
    "duration": 11,
    "start_time": "2021-12-02T15:23:40.148Z"
   },
   {
    "duration": 8,
    "start_time": "2021-12-02T15:23:51.665Z"
   },
   {
    "duration": 38,
    "start_time": "2021-12-02T15:23:56.377Z"
   },
   {
    "duration": 13,
    "start_time": "2021-12-02T15:24:01.154Z"
   },
   {
    "duration": 18,
    "start_time": "2021-12-02T15:24:05.726Z"
   },
   {
    "duration": 148,
    "start_time": "2021-12-02T15:24:23.896Z"
   },
   {
    "duration": 25,
    "start_time": "2021-12-02T15:24:24.045Z"
   },
   {
    "duration": 25,
    "start_time": "2021-12-02T15:24:24.071Z"
   },
   {
    "duration": 2,
    "start_time": "2021-12-02T15:24:24.097Z"
   },
   {
    "duration": 44,
    "start_time": "2021-12-02T15:24:24.100Z"
   },
   {
    "duration": 42,
    "start_time": "2021-12-02T15:24:24.145Z"
   },
   {
    "duration": 11,
    "start_time": "2021-12-02T15:24:24.189Z"
   },
   {
    "duration": 8,
    "start_time": "2021-12-02T15:24:24.202Z"
   },
   {
    "duration": 126,
    "start_time": "2021-12-02T15:24:24.212Z"
   },
   {
    "duration": 19,
    "start_time": "2021-12-02T15:24:24.339Z"
   },
   {
    "duration": 29,
    "start_time": "2021-12-02T15:24:24.360Z"
   },
   {
    "duration": 27,
    "start_time": "2021-12-02T15:24:24.390Z"
   },
   {
    "duration": 19,
    "start_time": "2021-12-02T15:24:24.418Z"
   },
   {
    "duration": 105,
    "start_time": "2021-12-02T15:24:24.439Z"
   },
   {
    "duration": 16,
    "start_time": "2021-12-02T15:24:24.546Z"
   },
   {
    "duration": 16,
    "start_time": "2021-12-02T15:24:24.563Z"
   },
   {
    "duration": 13,
    "start_time": "2021-12-02T15:24:24.588Z"
   },
   {
    "duration": 23,
    "start_time": "2021-12-02T15:24:24.603Z"
   },
   {
    "duration": 13,
    "start_time": "2021-12-02T15:24:24.628Z"
   },
   {
    "duration": 13,
    "start_time": "2021-12-02T15:24:24.642Z"
   },
   {
    "duration": 34,
    "start_time": "2021-12-02T15:24:24.656Z"
   },
   {
    "duration": 37,
    "start_time": "2021-12-02T15:24:24.692Z"
   },
   {
    "duration": 6,
    "start_time": "2021-12-02T15:24:27.962Z"
   },
   {
    "duration": 19,
    "start_time": "2021-12-02T15:24:31.480Z"
   },
   {
    "duration": 26,
    "start_time": "2021-12-02T15:24:41.617Z"
   },
   {
    "duration": 5,
    "start_time": "2021-12-02T15:24:46.076Z"
   },
   {
    "duration": 27,
    "start_time": "2021-12-02T15:24:51.013Z"
   },
   {
    "duration": 6,
    "start_time": "2021-12-02T15:25:00.721Z"
   },
   {
    "duration": 10,
    "start_time": "2021-12-02T15:25:04.525Z"
   },
   {
    "duration": 4,
    "start_time": "2021-12-02T15:25:17.137Z"
   },
   {
    "duration": 22,
    "start_time": "2021-12-02T15:25:30.084Z"
   },
   {
    "duration": 21,
    "start_time": "2021-12-02T15:25:36.039Z"
   },
   {
    "duration": 20,
    "start_time": "2021-12-02T15:26:14.697Z"
   },
   {
    "duration": 7165,
    "start_time": "2021-12-02T15:26:53.465Z"
   },
   {
    "duration": 22,
    "start_time": "2021-12-02T15:29:27.104Z"
   },
   {
    "duration": 216,
    "start_time": "2021-12-02T15:29:42.747Z"
   },
   {
    "duration": 11,
    "start_time": "2021-12-02T15:30:27.869Z"
   },
   {
    "duration": 5,
    "start_time": "2021-12-02T15:32:52.423Z"
   },
   {
    "duration": 413,
    "start_time": "2021-12-02T15:33:30.954Z"
   },
   {
    "duration": 15,
    "start_time": "2021-12-02T15:34:10.030Z"
   },
   {
    "duration": 414,
    "start_time": "2021-12-02T15:35:47.819Z"
   },
   {
    "duration": 414,
    "start_time": "2021-12-02T15:36:58.562Z"
   },
   {
    "duration": 181,
    "start_time": "2021-12-02T15:37:10.871Z"
   },
   {
    "duration": 40,
    "start_time": "2021-12-02T15:37:11.054Z"
   },
   {
    "duration": 16,
    "start_time": "2021-12-02T15:37:11.095Z"
   },
   {
    "duration": 2,
    "start_time": "2021-12-02T15:37:11.113Z"
   },
   {
    "duration": 47,
    "start_time": "2021-12-02T15:37:11.117Z"
   },
   {
    "duration": 33,
    "start_time": "2021-12-02T15:37:11.188Z"
   },
   {
    "duration": 14,
    "start_time": "2021-12-02T15:37:11.223Z"
   },
   {
    "duration": 11,
    "start_time": "2021-12-02T15:37:11.239Z"
   },
   {
    "duration": 158,
    "start_time": "2021-12-02T15:37:11.252Z"
   },
   {
    "duration": 21,
    "start_time": "2021-12-02T15:37:11.411Z"
   },
   {
    "duration": 19,
    "start_time": "2021-12-02T15:37:11.434Z"
   },
   {
    "duration": 53,
    "start_time": "2021-12-02T15:37:11.454Z"
   },
   {
    "duration": 33,
    "start_time": "2021-12-02T15:37:11.509Z"
   },
   {
    "duration": 150,
    "start_time": "2021-12-02T15:37:11.545Z"
   },
   {
    "duration": 29,
    "start_time": "2021-12-02T15:37:11.698Z"
   },
   {
    "duration": 15,
    "start_time": "2021-12-02T15:37:11.729Z"
   },
   {
    "duration": 42,
    "start_time": "2021-12-02T15:37:11.746Z"
   },
   {
    "duration": 23,
    "start_time": "2021-12-02T15:37:11.789Z"
   },
   {
    "duration": 14,
    "start_time": "2021-12-02T15:37:11.813Z"
   },
   {
    "duration": 15,
    "start_time": "2021-12-02T15:37:11.828Z"
   },
   {
    "duration": 42,
    "start_time": "2021-12-02T15:37:11.845Z"
   },
   {
    "duration": 48,
    "start_time": "2021-12-02T15:37:11.890Z"
   },
   {
    "duration": 10,
    "start_time": "2021-12-02T15:37:11.943Z"
   },
   {
    "duration": 33,
    "start_time": "2021-12-02T15:37:11.955Z"
   },
   {
    "duration": 28,
    "start_time": "2021-12-02T15:37:11.990Z"
   },
   {
    "duration": 5,
    "start_time": "2021-12-02T15:37:12.020Z"
   },
   {
    "duration": 32,
    "start_time": "2021-12-02T15:37:12.027Z"
   },
   {
    "duration": 7,
    "start_time": "2021-12-02T15:37:12.061Z"
   },
   {
    "duration": 28,
    "start_time": "2021-12-02T15:37:12.070Z"
   },
   {
    "duration": 10,
    "start_time": "2021-12-02T15:37:12.100Z"
   },
   {
    "duration": 5,
    "start_time": "2021-12-02T15:37:12.113Z"
   },
   {
    "duration": 20,
    "start_time": "2021-12-02T15:37:12.120Z"
   },
   {
    "duration": 57,
    "start_time": "2021-12-02T15:37:12.142Z"
   },
   {
    "duration": 245,
    "start_time": "2021-12-02T15:37:12.201Z"
   },
   {
    "duration": 525,
    "start_time": "2021-12-02T15:37:11.923Z"
   },
   {
    "duration": 417,
    "start_time": "2021-12-02T15:37:16.105Z"
   },
   {
    "duration": 14,
    "start_time": "2021-12-02T15:37:58.485Z"
   },
   {
    "duration": 276,
    "start_time": "2021-12-02T15:38:31.795Z"
   },
   {
    "duration": 53,
    "start_time": "2021-12-02T15:38:32.074Z"
   },
   {
    "duration": 23,
    "start_time": "2021-12-02T15:38:32.130Z"
   },
   {
    "duration": 3,
    "start_time": "2021-12-02T15:38:32.156Z"
   },
   {
    "duration": 84,
    "start_time": "2021-12-02T15:38:32.162Z"
   },
   {
    "duration": 70,
    "start_time": "2021-12-02T15:38:32.248Z"
   },
   {
    "duration": 25,
    "start_time": "2021-12-02T15:38:32.320Z"
   },
   {
    "duration": 16,
    "start_time": "2021-12-02T15:38:32.349Z"
   },
   {
    "duration": 203,
    "start_time": "2021-12-02T15:38:32.368Z"
   },
   {
    "duration": 36,
    "start_time": "2021-12-02T15:38:32.573Z"
   },
   {
    "duration": 27,
    "start_time": "2021-12-02T15:38:32.612Z"
   },
   {
    "duration": 65,
    "start_time": "2021-12-02T15:38:32.641Z"
   },
   {
    "duration": 36,
    "start_time": "2021-12-02T15:38:32.709Z"
   },
   {
    "duration": 157,
    "start_time": "2021-12-02T15:38:32.748Z"
   },
   {
    "duration": 30,
    "start_time": "2021-12-02T15:38:32.907Z"
   },
   {
    "duration": 12,
    "start_time": "2021-12-02T15:38:32.940Z"
   },
   {
    "duration": 53,
    "start_time": "2021-12-02T15:38:32.954Z"
   },
   {
    "duration": 26,
    "start_time": "2021-12-02T15:38:33.009Z"
   },
   {
    "duration": 20,
    "start_time": "2021-12-02T15:38:33.037Z"
   },
   {
    "duration": 38,
    "start_time": "2021-12-02T15:38:33.059Z"
   },
   {
    "duration": 11,
    "start_time": "2021-12-02T15:38:33.099Z"
   },
   {
    "duration": 45,
    "start_time": "2021-12-02T15:38:33.112Z"
   },
   {
    "duration": 8,
    "start_time": "2021-12-02T15:38:33.161Z"
   },
   {
    "duration": 50,
    "start_time": "2021-12-02T15:38:33.171Z"
   },
   {
    "duration": 26,
    "start_time": "2021-12-02T15:38:33.223Z"
   },
   {
    "duration": 19,
    "start_time": "2021-12-02T15:38:33.252Z"
   },
   {
    "duration": 51,
    "start_time": "2021-12-02T15:38:33.274Z"
   },
   {
    "duration": 48,
    "start_time": "2021-12-02T15:38:33.327Z"
   },
   {
    "duration": 63,
    "start_time": "2021-12-02T15:38:33.392Z"
   },
   {
    "duration": 25,
    "start_time": "2021-12-02T15:38:33.461Z"
   },
   {
    "duration": 24,
    "start_time": "2021-12-02T15:38:33.496Z"
   },
   {
    "duration": 84,
    "start_time": "2021-12-02T15:38:33.523Z"
   },
   {
    "duration": 148,
    "start_time": "2021-12-02T15:38:33.611Z"
   },
   {
    "duration": 418,
    "start_time": "2021-12-02T15:38:33.772Z"
   },
   {
    "duration": 508,
    "start_time": "2021-12-02T15:38:33.685Z"
   },
   {
    "duration": 504,
    "start_time": "2021-12-02T15:38:33.690Z"
   },
   {
    "duration": 9,
    "start_time": "2021-12-02T15:38:40.780Z"
   },
   {
    "duration": 11,
    "start_time": "2021-12-02T15:38:57.532Z"
   },
   {
    "duration": 14,
    "start_time": "2021-12-02T15:39:25.589Z"
   },
   {
    "duration": 13,
    "start_time": "2021-12-02T15:41:33.012Z"
   },
   {
    "duration": 10,
    "start_time": "2021-12-02T15:42:57.441Z"
   },
   {
    "duration": 11,
    "start_time": "2021-12-02T15:44:42.679Z"
   },
   {
    "duration": 217,
    "start_time": "2021-12-02T15:45:02.689Z"
   },
   {
    "duration": 29,
    "start_time": "2021-12-02T15:45:02.908Z"
   },
   {
    "duration": 39,
    "start_time": "2021-12-02T15:45:02.940Z"
   },
   {
    "duration": 3,
    "start_time": "2021-12-02T15:45:02.981Z"
   },
   {
    "duration": 60,
    "start_time": "2021-12-02T15:45:02.988Z"
   },
   {
    "duration": 32,
    "start_time": "2021-12-02T15:45:03.051Z"
   },
   {
    "duration": 14,
    "start_time": "2021-12-02T15:45:03.087Z"
   },
   {
    "duration": 11,
    "start_time": "2021-12-02T15:45:03.104Z"
   },
   {
    "duration": 158,
    "start_time": "2021-12-02T15:45:03.117Z"
   },
   {
    "duration": 33,
    "start_time": "2021-12-02T15:45:03.277Z"
   },
   {
    "duration": 20,
    "start_time": "2021-12-02T15:45:03.312Z"
   },
   {
    "duration": 31,
    "start_time": "2021-12-02T15:45:03.333Z"
   },
   {
    "duration": 43,
    "start_time": "2021-12-02T15:45:03.365Z"
   },
   {
    "duration": 104,
    "start_time": "2021-12-02T15:45:03.410Z"
   },
   {
    "duration": 19,
    "start_time": "2021-12-02T15:45:03.516Z"
   },
   {
    "duration": 14,
    "start_time": "2021-12-02T15:45:03.536Z"
   },
   {
    "duration": 36,
    "start_time": "2021-12-02T15:45:03.552Z"
   },
   {
    "duration": 24,
    "start_time": "2021-12-02T15:45:03.590Z"
   },
   {
    "duration": 15,
    "start_time": "2021-12-02T15:45:03.615Z"
   },
   {
    "duration": 16,
    "start_time": "2021-12-02T15:45:03.631Z"
   },
   {
    "duration": 40,
    "start_time": "2021-12-02T15:45:03.649Z"
   },
   {
    "duration": 53,
    "start_time": "2021-12-02T15:45:03.691Z"
   },
   {
    "duration": 9,
    "start_time": "2021-12-02T15:45:03.748Z"
   },
   {
    "duration": 27,
    "start_time": "2021-12-02T15:45:03.759Z"
   },
   {
    "duration": 26,
    "start_time": "2021-12-02T15:45:03.788Z"
   },
   {
    "duration": 11,
    "start_time": "2021-12-02T15:45:03.815Z"
   },
   {
    "duration": 48,
    "start_time": "2021-12-02T15:45:03.828Z"
   },
   {
    "duration": 10,
    "start_time": "2021-12-02T15:45:03.887Z"
   },
   {
    "duration": 15,
    "start_time": "2021-12-02T15:45:03.899Z"
   },
   {
    "duration": 15,
    "start_time": "2021-12-02T15:45:03.916Z"
   },
   {
    "duration": 7,
    "start_time": "2021-12-02T15:45:03.933Z"
   },
   {
    "duration": 62,
    "start_time": "2021-12-02T15:45:03.942Z"
   },
   {
    "duration": 39,
    "start_time": "2021-12-02T15:45:04.006Z"
   },
   {
    "duration": 291,
    "start_time": "2021-12-02T15:45:04.047Z"
   },
   {
    "duration": 475,
    "start_time": "2021-12-02T15:45:03.865Z"
   },
   {
    "duration": 16,
    "start_time": "2021-12-02T15:45:19.194Z"
   },
   {
    "duration": 16,
    "start_time": "2021-12-02T15:45:32.022Z"
   },
   {
    "duration": 13,
    "start_time": "2021-12-02T15:58:50.785Z"
   },
   {
    "duration": 10,
    "start_time": "2021-12-02T15:58:55.581Z"
   },
   {
    "duration": 9,
    "start_time": "2021-12-02T15:59:00.276Z"
   },
   {
    "duration": 552,
    "start_time": "2021-12-02T15:59:06.583Z"
   },
   {
    "duration": 25,
    "start_time": "2021-12-02T15:59:15.415Z"
   },
   {
    "duration": 79,
    "start_time": "2021-12-02T16:18:24.631Z"
   },
   {
    "duration": 7681,
    "start_time": "2021-12-02T16:18:46.702Z"
   },
   {
    "duration": 9,
    "start_time": "2021-12-02T16:19:00.089Z"
   },
   {
    "duration": 1689,
    "start_time": "2021-12-03T01:33:30.709Z"
   },
   {
    "duration": 53,
    "start_time": "2021-12-03T01:33:32.401Z"
   },
   {
    "duration": 45,
    "start_time": "2021-12-03T01:33:32.457Z"
   },
   {
    "duration": 3,
    "start_time": "2021-12-03T01:33:32.506Z"
   },
   {
    "duration": 104,
    "start_time": "2021-12-03T01:33:32.511Z"
   },
   {
    "duration": 64,
    "start_time": "2021-12-03T01:33:32.618Z"
   },
   {
    "duration": 22,
    "start_time": "2021-12-03T01:33:32.685Z"
   },
   {
    "duration": 16,
    "start_time": "2021-12-03T01:33:32.713Z"
   },
   {
    "duration": 237,
    "start_time": "2021-12-03T01:33:32.733Z"
   },
   {
    "duration": 34,
    "start_time": "2021-12-03T01:33:32.981Z"
   },
   {
    "duration": 30,
    "start_time": "2021-12-03T01:33:33.019Z"
   },
   {
    "duration": 68,
    "start_time": "2021-12-03T01:33:33.051Z"
   },
   {
    "duration": 34,
    "start_time": "2021-12-03T01:33:33.122Z"
   },
   {
    "duration": 158,
    "start_time": "2021-12-03T01:33:33.158Z"
   },
   {
    "duration": 29,
    "start_time": "2021-12-03T01:33:33.318Z"
   },
   {
    "duration": 38,
    "start_time": "2021-12-03T01:33:33.349Z"
   },
   {
    "duration": 20,
    "start_time": "2021-12-03T01:33:33.390Z"
   },
   {
    "duration": 36,
    "start_time": "2021-12-03T01:33:33.412Z"
   },
   {
    "duration": 52,
    "start_time": "2021-12-03T01:33:33.450Z"
   },
   {
    "duration": 23,
    "start_time": "2021-12-03T01:33:33.505Z"
   },
   {
    "duration": 11,
    "start_time": "2021-12-03T01:33:33.531Z"
   },
   {
    "duration": 59,
    "start_time": "2021-12-03T01:33:33.545Z"
   },
   {
    "duration": 10,
    "start_time": "2021-12-03T01:33:33.609Z"
   },
   {
    "duration": 60,
    "start_time": "2021-12-03T01:33:33.622Z"
   },
   {
    "duration": 33,
    "start_time": "2021-12-03T01:33:33.685Z"
   },
   {
    "duration": 11,
    "start_time": "2021-12-03T01:33:33.720Z"
   },
   {
    "duration": 69,
    "start_time": "2021-12-03T01:33:33.734Z"
   },
   {
    "duration": 9,
    "start_time": "2021-12-03T01:33:33.806Z"
   },
   {
    "duration": 14,
    "start_time": "2021-12-03T01:33:33.818Z"
   },
   {
    "duration": 50,
    "start_time": "2021-12-03T01:33:33.835Z"
   },
   {
    "duration": 6,
    "start_time": "2021-12-03T01:33:33.888Z"
   },
   {
    "duration": 37,
    "start_time": "2021-12-03T01:33:33.897Z"
   },
   {
    "duration": 65,
    "start_time": "2021-12-03T01:33:33.937Z"
   },
   {
    "duration": 4,
    "start_time": "2021-12-03T01:33:34.004Z"
   },
   {
    "duration": 42,
    "start_time": "2021-12-03T01:33:34.010Z"
   },
   {
    "duration": 48,
    "start_time": "2021-12-03T01:35:17.846Z"
   },
   {
    "duration": 53,
    "start_time": "2021-12-03T01:37:13.522Z"
   },
   {
    "duration": 9357,
    "start_time": "2021-12-03T01:41:08.259Z"
   },
   {
    "duration": 534,
    "start_time": "2021-12-03T01:42:07.827Z"
   },
   {
    "duration": 598,
    "start_time": "2021-12-03T01:42:42.389Z"
   },
   {
    "duration": 520,
    "start_time": "2021-12-03T01:43:42.738Z"
   },
   {
    "duration": 308,
    "start_time": "2021-12-03T01:52:25.414Z"
   },
   {
    "duration": 281,
    "start_time": "2021-12-03T01:52:40.784Z"
   },
   {
    "duration": 49,
    "start_time": "2021-12-03T01:52:41.068Z"
   },
   {
    "duration": 21,
    "start_time": "2021-12-03T01:52:41.120Z"
   },
   {
    "duration": 3,
    "start_time": "2021-12-03T01:52:41.144Z"
   },
   {
    "duration": 91,
    "start_time": "2021-12-03T01:52:41.149Z"
   },
   {
    "duration": 64,
    "start_time": "2021-12-03T01:52:41.242Z"
   },
   {
    "duration": 22,
    "start_time": "2021-12-03T01:52:41.308Z"
   },
   {
    "duration": 17,
    "start_time": "2021-12-03T01:52:41.335Z"
   },
   {
    "duration": 197,
    "start_time": "2021-12-03T01:52:41.384Z"
   },
   {
    "duration": 33,
    "start_time": "2021-12-03T01:52:41.584Z"
   },
   {
    "duration": 30,
    "start_time": "2021-12-03T01:52:41.620Z"
   },
   {
    "duration": 68,
    "start_time": "2021-12-03T01:52:41.652Z"
   },
   {
    "duration": 34,
    "start_time": "2021-12-03T01:52:41.722Z"
   },
   {
    "duration": 145,
    "start_time": "2021-12-03T01:52:41.783Z"
   },
   {
    "duration": 29,
    "start_time": "2021-12-03T01:52:41.931Z"
   },
   {
    "duration": 18,
    "start_time": "2021-12-03T01:52:41.983Z"
   },
   {
    "duration": 20,
    "start_time": "2021-12-03T01:52:42.003Z"
   },
   {
    "duration": 61,
    "start_time": "2021-12-03T01:52:42.026Z"
   },
   {
    "duration": 23,
    "start_time": "2021-12-03T01:52:42.089Z"
   },
   {
    "duration": 23,
    "start_time": "2021-12-03T01:52:42.114Z"
   },
   {
    "duration": 44,
    "start_time": "2021-12-03T01:52:42.139Z"
   },
   {
    "duration": 45,
    "start_time": "2021-12-03T01:52:42.185Z"
   },
   {
    "duration": 10,
    "start_time": "2021-12-03T01:52:42.237Z"
   },
   {
    "duration": 48,
    "start_time": "2021-12-03T01:52:42.249Z"
   },
   {
    "duration": 31,
    "start_time": "2021-12-03T01:52:42.299Z"
   },
   {
    "duration": 7,
    "start_time": "2021-12-03T01:52:42.333Z"
   },
   {
    "duration": 70,
    "start_time": "2021-12-03T01:52:42.343Z"
   },
   {
    "duration": 10,
    "start_time": "2021-12-03T01:52:42.416Z"
   },
   {
    "duration": 28,
    "start_time": "2021-12-03T01:52:42.428Z"
   },
   {
    "duration": 32,
    "start_time": "2021-12-03T01:52:42.458Z"
   },
   {
    "duration": 7,
    "start_time": "2021-12-03T01:52:42.493Z"
   },
   {
    "duration": 30,
    "start_time": "2021-12-03T01:52:42.503Z"
   },
   {
    "duration": 76,
    "start_time": "2021-12-03T01:52:42.535Z"
   },
   {
    "duration": 3,
    "start_time": "2021-12-03T01:52:42.614Z"
   },
   {
    "duration": 63,
    "start_time": "2021-12-03T01:52:42.619Z"
   },
   {
    "duration": 42,
    "start_time": "2021-12-03T01:52:42.685Z"
   },
   {
    "duration": 37,
    "start_time": "2021-12-03T01:52:52.503Z"
   },
   {
    "duration": 308,
    "start_time": "2021-12-03T01:52:56.233Z"
   },
   {
    "duration": 259,
    "start_time": "2021-12-03T03:06:56.224Z"
   },
   {
    "duration": 40,
    "start_time": "2021-12-03T03:06:56.486Z"
   },
   {
    "duration": 21,
    "start_time": "2021-12-03T03:06:56.529Z"
   },
   {
    "duration": 3,
    "start_time": "2021-12-03T03:06:56.553Z"
   },
   {
    "duration": 65,
    "start_time": "2021-12-03T03:06:56.586Z"
   },
   {
    "duration": 70,
    "start_time": "2021-12-03T03:06:56.653Z"
   },
   {
    "duration": 22,
    "start_time": "2021-12-03T03:06:56.725Z"
   },
   {
    "duration": 37,
    "start_time": "2021-12-03T03:06:56.751Z"
   },
   {
    "duration": 212,
    "start_time": "2021-12-03T03:06:56.791Z"
   },
   {
    "duration": 35,
    "start_time": "2021-12-03T03:06:57.006Z"
   },
   {
    "duration": 61,
    "start_time": "2021-12-03T03:06:57.044Z"
   },
   {
    "duration": 46,
    "start_time": "2021-12-03T03:06:57.108Z"
   },
   {
    "duration": 34,
    "start_time": "2021-12-03T03:06:57.181Z"
   },
   {
    "duration": 158,
    "start_time": "2021-12-03T03:06:57.218Z"
   },
   {
    "duration": 29,
    "start_time": "2021-12-03T03:06:57.379Z"
   },
   {
    "duration": 18,
    "start_time": "2021-12-03T03:06:57.410Z"
   },
   {
    "duration": 56,
    "start_time": "2021-12-03T03:06:57.431Z"
   },
   {
    "duration": 34,
    "start_time": "2021-12-03T03:06:57.490Z"
   },
   {
    "duration": 23,
    "start_time": "2021-12-03T03:06:57.526Z"
   },
   {
    "duration": 49,
    "start_time": "2021-12-03T03:06:57.551Z"
   },
   {
    "duration": 12,
    "start_time": "2021-12-03T03:06:57.603Z"
   },
   {
    "duration": 45,
    "start_time": "2021-12-03T03:06:57.617Z"
   },
   {
    "duration": 23,
    "start_time": "2021-12-03T03:06:57.667Z"
   },
   {
    "duration": 31,
    "start_time": "2021-12-03T03:06:57.693Z"
   },
   {
    "duration": 58,
    "start_time": "2021-12-03T03:06:57.726Z"
   },
   {
    "duration": 8,
    "start_time": "2021-12-03T03:06:57.786Z"
   },
   {
    "duration": 48,
    "start_time": "2021-12-03T03:06:57.796Z"
   },
   {
    "duration": 41,
    "start_time": "2021-12-03T03:06:57.847Z"
   },
   {
    "duration": 14,
    "start_time": "2021-12-03T03:06:57.891Z"
   },
   {
    "duration": 14,
    "start_time": "2021-12-03T03:06:57.907Z"
   },
   {
    "duration": 8,
    "start_time": "2021-12-03T03:06:57.924Z"
   },
   {
    "duration": 76,
    "start_time": "2021-12-03T03:06:57.934Z"
   },
   {
    "duration": 37,
    "start_time": "2021-12-03T03:06:58.012Z"
   },
   {
    "duration": 3,
    "start_time": "2021-12-03T03:06:58.051Z"
   },
   {
    "duration": 60,
    "start_time": "2021-12-03T03:06:58.056Z"
   },
   {
    "duration": 37,
    "start_time": "2021-12-03T03:06:58.119Z"
   },
   {
    "duration": 523,
    "start_time": "2021-12-03T03:07:28.694Z"
   },
   {
    "duration": 316,
    "start_time": "2021-12-03T03:07:46.984Z"
   },
   {
    "duration": 105,
    "start_time": "2021-12-03T03:12:15.286Z"
   },
   {
    "duration": 960,
    "start_time": "2021-12-03T03:12:57.055Z"
   },
   {
    "duration": 573,
    "start_time": "2021-12-03T03:15:16.160Z"
   },
   {
    "duration": 836,
    "start_time": "2021-12-03T03:15:57.762Z"
   },
   {
    "duration": 840,
    "start_time": "2021-12-03T03:22:58.050Z"
   },
   {
    "duration": 1119,
    "start_time": "2021-12-03T03:23:48.675Z"
   },
   {
    "duration": 1367,
    "start_time": "2021-12-03T03:24:18.066Z"
   },
   {
    "duration": 1288,
    "start_time": "2021-12-03T03:24:54.996Z"
   },
   {
    "duration": 1360,
    "start_time": "2021-12-03T03:25:22.851Z"
   },
   {
    "duration": 1109,
    "start_time": "2021-12-03T03:26:56.564Z"
   },
   {
    "duration": 1017,
    "start_time": "2021-12-03T03:27:43.819Z"
   },
   {
    "duration": 1008,
    "start_time": "2021-12-03T03:28:50.075Z"
   },
   {
    "duration": 1008,
    "start_time": "2021-12-03T03:30:54.044Z"
   },
   {
    "duration": 1011,
    "start_time": "2021-12-03T03:31:54.499Z"
   },
   {
    "duration": 1070,
    "start_time": "2021-12-03T03:32:36.318Z"
   },
   {
    "duration": 1022,
    "start_time": "2021-12-03T03:32:57.142Z"
   },
   {
    "duration": 273,
    "start_time": "2021-12-03T03:41:21.831Z"
   },
   {
    "duration": 44,
    "start_time": "2021-12-03T03:41:22.107Z"
   },
   {
    "duration": 46,
    "start_time": "2021-12-03T03:41:22.155Z"
   },
   {
    "duration": 4,
    "start_time": "2021-12-03T03:41:22.204Z"
   },
   {
    "duration": 93,
    "start_time": "2021-12-03T03:41:22.211Z"
   },
   {
    "duration": 52,
    "start_time": "2021-12-03T03:41:22.307Z"
   },
   {
    "duration": 38,
    "start_time": "2021-12-03T03:41:22.361Z"
   },
   {
    "duration": 16,
    "start_time": "2021-12-03T03:41:22.403Z"
   },
   {
    "duration": 216,
    "start_time": "2021-12-03T03:41:22.422Z"
   },
   {
    "duration": 44,
    "start_time": "2021-12-03T03:41:22.641Z"
   },
   {
    "duration": 25,
    "start_time": "2021-12-03T03:41:22.688Z"
   },
   {
    "duration": 67,
    "start_time": "2021-12-03T03:41:22.716Z"
   },
   {
    "duration": 34,
    "start_time": "2021-12-03T03:41:22.786Z"
   },
   {
    "duration": 153,
    "start_time": "2021-12-03T03:41:22.822Z"
   },
   {
    "duration": 29,
    "start_time": "2021-12-03T03:41:22.978Z"
   },
   {
    "duration": 19,
    "start_time": "2021-12-03T03:41:23.010Z"
   },
   {
    "duration": 58,
    "start_time": "2021-12-03T03:41:23.032Z"
   },
   {
    "duration": 36,
    "start_time": "2021-12-03T03:41:23.093Z"
   },
   {
    "duration": 53,
    "start_time": "2021-12-03T03:41:23.132Z"
   },
   {
    "duration": 22,
    "start_time": "2021-12-03T03:41:23.188Z"
   },
   {
    "duration": 11,
    "start_time": "2021-12-03T03:41:23.212Z"
   },
   {
    "duration": 59,
    "start_time": "2021-12-03T03:41:23.226Z"
   },
   {
    "duration": 9,
    "start_time": "2021-12-03T03:41:23.292Z"
   },
   {
    "duration": 33,
    "start_time": "2021-12-03T03:41:23.304Z"
   },
   {
    "duration": 55,
    "start_time": "2021-12-03T03:41:23.339Z"
   },
   {
    "duration": 8,
    "start_time": "2021-12-03T03:41:23.397Z"
   },
   {
    "duration": 46,
    "start_time": "2021-12-03T03:41:23.407Z"
   },
   {
    "duration": 11,
    "start_time": "2021-12-03T03:41:23.483Z"
   },
   {
    "duration": 18,
    "start_time": "2021-12-03T03:41:23.497Z"
   },
   {
    "duration": 19,
    "start_time": "2021-12-03T03:41:23.518Z"
   },
   {
    "duration": 42,
    "start_time": "2021-12-03T03:41:23.540Z"
   },
   {
    "duration": 46,
    "start_time": "2021-12-03T03:41:23.585Z"
   },
   {
    "duration": 84,
    "start_time": "2021-12-03T03:41:23.634Z"
   },
   {
    "duration": 3,
    "start_time": "2021-12-03T03:41:23.721Z"
   },
   {
    "duration": 70,
    "start_time": "2021-12-03T03:41:23.728Z"
   },
   {
    "duration": 58,
    "start_time": "2021-12-03T03:41:23.801Z"
   },
   {
    "duration": 534,
    "start_time": "2021-12-03T03:41:36.442Z"
   },
   {
    "duration": 257,
    "start_time": "2021-12-03T04:19:32.188Z"
   },
   {
    "duration": 73,
    "start_time": "2021-12-03T04:19:32.448Z"
   },
   {
    "duration": 22,
    "start_time": "2021-12-03T04:19:32.523Z"
   },
   {
    "duration": 3,
    "start_time": "2021-12-03T04:19:32.547Z"
   },
   {
    "duration": 90,
    "start_time": "2021-12-03T04:19:32.553Z"
   },
   {
    "duration": 68,
    "start_time": "2021-12-03T04:19:32.646Z"
   },
   {
    "duration": 21,
    "start_time": "2021-12-03T04:19:32.716Z"
   },
   {
    "duration": 15,
    "start_time": "2021-12-03T04:19:32.741Z"
   },
   {
    "duration": 199,
    "start_time": "2021-12-03T04:19:32.783Z"
   },
   {
    "duration": 33,
    "start_time": "2021-12-03T04:19:32.984Z"
   },
   {
    "duration": 25,
    "start_time": "2021-12-03T04:19:33.020Z"
   },
   {
    "duration": 68,
    "start_time": "2021-12-03T04:19:33.047Z"
   },
   {
    "duration": 32,
    "start_time": "2021-12-03T04:19:33.117Z"
   },
   {
    "duration": 154,
    "start_time": "2021-12-03T04:19:33.152Z"
   },
   {
    "duration": 28,
    "start_time": "2021-12-03T04:19:33.309Z"
   },
   {
    "duration": 44,
    "start_time": "2021-12-03T04:19:33.340Z"
   },
   {
    "duration": 21,
    "start_time": "2021-12-03T04:19:33.386Z"
   },
   {
    "duration": 34,
    "start_time": "2021-12-03T04:19:33.410Z"
   },
   {
    "duration": 46,
    "start_time": "2021-12-03T04:19:33.447Z"
   },
   {
    "duration": 23,
    "start_time": "2021-12-03T04:19:33.495Z"
   },
   {
    "duration": 11,
    "start_time": "2021-12-03T04:19:33.520Z"
   },
   {
    "duration": 60,
    "start_time": "2021-12-03T04:19:33.534Z"
   },
   {
    "duration": 9,
    "start_time": "2021-12-03T04:19:33.599Z"
   },
   {
    "duration": 36,
    "start_time": "2021-12-03T04:19:33.611Z"
   },
   {
    "duration": 61,
    "start_time": "2021-12-03T04:19:33.649Z"
   },
   {
    "duration": 10,
    "start_time": "2021-12-03T04:19:33.713Z"
   },
   {
    "duration": 102,
    "start_time": "2021-12-03T04:19:33.727Z"
   },
   {
    "duration": 10,
    "start_time": "2021-12-03T04:19:33.833Z"
   },
   {
    "duration": 39,
    "start_time": "2021-12-03T04:19:33.846Z"
   },
   {
    "duration": 15,
    "start_time": "2021-12-03T04:19:33.888Z"
   },
   {
    "duration": 8,
    "start_time": "2021-12-03T04:19:33.906Z"
   },
   {
    "duration": 69,
    "start_time": "2021-12-03T04:19:33.917Z"
   },
   {
    "duration": 37,
    "start_time": "2021-12-03T04:19:33.988Z"
   },
   {
    "duration": 5,
    "start_time": "2021-12-03T04:19:34.027Z"
   },
   {
    "duration": 64,
    "start_time": "2021-12-03T04:19:34.034Z"
   },
   {
    "duration": 54,
    "start_time": "2021-12-03T04:19:34.101Z"
   },
   {
    "duration": 510,
    "start_time": "2021-12-03T04:19:41.134Z"
   },
   {
    "duration": 331,
    "start_time": "2021-12-03T04:19:48.793Z"
   },
   {
    "duration": 308,
    "start_time": "2021-12-03T04:20:29.994Z"
   },
   {
    "duration": 310,
    "start_time": "2021-12-03T04:21:29.247Z"
   },
   {
    "duration": 307,
    "start_time": "2021-12-03T04:25:19.341Z"
   },
   {
    "duration": 265,
    "start_time": "2021-12-03T04:25:33.083Z"
   },
   {
    "duration": 60,
    "start_time": "2021-12-03T04:25:33.351Z"
   },
   {
    "duration": 21,
    "start_time": "2021-12-03T04:25:33.414Z"
   },
   {
    "duration": 3,
    "start_time": "2021-12-03T04:25:33.437Z"
   },
   {
    "duration": 92,
    "start_time": "2021-12-03T04:25:33.442Z"
   },
   {
    "duration": 59,
    "start_time": "2021-12-03T04:25:33.537Z"
   },
   {
    "duration": 20,
    "start_time": "2021-12-03T04:25:33.599Z"
   },
   {
    "duration": 16,
    "start_time": "2021-12-03T04:25:33.622Z"
   },
   {
    "duration": 209,
    "start_time": "2021-12-03T04:25:33.641Z"
   },
   {
    "duration": 45,
    "start_time": "2021-12-03T04:25:33.852Z"
   },
   {
    "duration": 28,
    "start_time": "2021-12-03T04:25:33.900Z"
   },
   {
    "duration": 70,
    "start_time": "2021-12-03T04:25:33.931Z"
   },
   {
    "duration": 33,
    "start_time": "2021-12-03T04:25:34.003Z"
   },
   {
    "duration": 147,
    "start_time": "2021-12-03T04:25:34.039Z"
   },
   {
    "duration": 29,
    "start_time": "2021-12-03T04:25:34.188Z"
   },
   {
    "duration": 16,
    "start_time": "2021-12-03T04:25:34.220Z"
   },
   {
    "duration": 53,
    "start_time": "2021-12-03T04:25:34.238Z"
   },
   {
    "duration": 33,
    "start_time": "2021-12-03T04:25:34.293Z"
   },
   {
    "duration": 22,
    "start_time": "2021-12-03T04:25:34.329Z"
   },
   {
    "duration": 56,
    "start_time": "2021-12-03T04:25:34.353Z"
   },
   {
    "duration": 11,
    "start_time": "2021-12-03T04:25:34.411Z"
   },
   {
    "duration": 45,
    "start_time": "2021-12-03T04:25:34.425Z"
   },
   {
    "duration": 10,
    "start_time": "2021-12-03T04:25:34.487Z"
   },
   {
    "duration": 32,
    "start_time": "2021-12-03T04:25:34.500Z"
   },
   {
    "duration": 52,
    "start_time": "2021-12-03T04:25:34.535Z"
   },
   {
    "duration": 8,
    "start_time": "2021-12-03T04:25:34.589Z"
   },
   {
    "duration": 45,
    "start_time": "2021-12-03T04:25:34.599Z"
   },
   {
    "duration": 42,
    "start_time": "2021-12-03T04:25:34.646Z"
   },
   {
    "duration": 14,
    "start_time": "2021-12-03T04:25:34.691Z"
   },
   {
    "duration": 13,
    "start_time": "2021-12-03T04:25:34.707Z"
   },
   {
    "duration": 10,
    "start_time": "2021-12-03T04:25:34.722Z"
   },
   {
    "duration": 73,
    "start_time": "2021-12-03T04:25:34.735Z"
   },
   {
    "duration": 34,
    "start_time": "2021-12-03T04:25:34.811Z"
   },
   {
    "duration": 58,
    "start_time": "2021-12-03T04:25:34.848Z"
   },
   {
    "duration": 38,
    "start_time": "2021-12-03T04:25:34.908Z"
   },
   {
    "duration": 344,
    "start_time": "2021-12-03T04:25:34.949Z"
   },
   {
    "duration": 24,
    "start_time": "2021-12-03T04:25:35.295Z"
   },
   {
    "duration": 13,
    "start_time": "2021-12-03T04:25:38.629Z"
   },
   {
    "duration": 14,
    "start_time": "2021-12-03T04:25:42.355Z"
   },
   {
    "duration": 997,
    "start_time": "2021-12-03T04:25:49.927Z"
   },
   {
    "duration": 1024,
    "start_time": "2021-12-03T04:26:56.344Z"
   },
   {
    "duration": 40,
    "start_time": "2021-12-03T04:27:25.142Z"
   },
   {
    "duration": 12,
    "start_time": "2021-12-03T04:27:38.848Z"
   },
   {
    "duration": 15,
    "start_time": "2021-12-03T04:27:43.964Z"
   },
   {
    "duration": 14,
    "start_time": "2021-12-03T04:27:47.419Z"
   },
   {
    "duration": 15,
    "start_time": "2021-12-03T04:27:51.420Z"
   },
   {
    "duration": 501,
    "start_time": "2021-12-03T04:28:28.289Z"
   },
   {
    "duration": 31,
    "start_time": "2021-12-03T04:30:23.339Z"
   },
   {
    "duration": 325,
    "start_time": "2021-12-03T04:31:27.820Z"
   },
   {
    "duration": 466,
    "start_time": "2021-12-03T04:32:07.977Z"
   },
   {
    "duration": 416,
    "start_time": "2021-12-03T04:32:31.102Z"
   },
   {
    "duration": 416,
    "start_time": "2021-12-03T04:32:45.447Z"
   },
   {
    "duration": 17,
    "start_time": "2021-12-03T04:34:27.947Z"
   },
   {
    "duration": -819,
    "start_time": "2021-12-03T04:37:12.756Z"
   },
   {
    "duration": 7810,
    "start_time": "2021-12-03T04:37:28.936Z"
   },
   {
    "duration": 16,
    "start_time": "2021-12-03T04:37:56.301Z"
   },
   {
    "duration": 16,
    "start_time": "2021-12-03T04:38:40.773Z"
   },
   {
    "duration": 18,
    "start_time": "2021-12-03T05:09:13.805Z"
   },
   {
    "duration": 7,
    "start_time": "2021-12-03T05:09:40.025Z"
   },
   {
    "duration": 8,
    "start_time": "2021-12-03T05:11:35.910Z"
   },
   {
    "duration": 8,
    "start_time": "2021-12-03T05:12:20.618Z"
   },
   {
    "duration": 9,
    "start_time": "2021-12-03T05:13:02.762Z"
   },
   {
    "duration": 9,
    "start_time": "2021-12-03T05:13:07.619Z"
   },
   {
    "duration": 13,
    "start_time": "2021-12-03T05:13:10.187Z"
   },
   {
    "duration": 5,
    "start_time": "2021-12-03T05:13:15.345Z"
   },
   {
    "duration": 4,
    "start_time": "2021-12-03T05:13:44.309Z"
   },
   {
    "duration": 10,
    "start_time": "2021-12-03T05:16:30.877Z"
   },
   {
    "duration": 264,
    "start_time": "2021-12-03T05:16:41.560Z"
   },
   {
    "duration": 59,
    "start_time": "2021-12-03T05:16:41.827Z"
   },
   {
    "duration": 23,
    "start_time": "2021-12-03T05:16:41.889Z"
   },
   {
    "duration": 3,
    "start_time": "2021-12-03T05:16:41.915Z"
   },
   {
    "duration": 93,
    "start_time": "2021-12-03T05:16:41.920Z"
   },
   {
    "duration": 47,
    "start_time": "2021-12-03T05:16:42.015Z"
   },
   {
    "duration": 34,
    "start_time": "2021-12-03T05:16:42.065Z"
   },
   {
    "duration": 14,
    "start_time": "2021-12-03T05:16:42.103Z"
   },
   {
    "duration": 210,
    "start_time": "2021-12-03T05:16:42.120Z"
   },
   {
    "duration": 32,
    "start_time": "2021-12-03T05:16:42.332Z"
   },
   {
    "duration": 29,
    "start_time": "2021-12-03T05:16:42.383Z"
   },
   {
    "duration": 72,
    "start_time": "2021-12-03T05:16:42.415Z"
   },
   {
    "duration": 36,
    "start_time": "2021-12-03T05:16:42.490Z"
   },
   {
    "duration": 154,
    "start_time": "2021-12-03T05:16:42.529Z"
   },
   {
    "duration": 29,
    "start_time": "2021-12-03T05:16:42.686Z"
   },
   {
    "duration": 18,
    "start_time": "2021-12-03T05:16:42.718Z"
   },
   {
    "duration": 54,
    "start_time": "2021-12-03T05:16:42.739Z"
   },
   {
    "duration": 37,
    "start_time": "2021-12-03T05:16:42.796Z"
   },
   {
    "duration": 57,
    "start_time": "2021-12-03T05:16:42.836Z"
   },
   {
    "duration": 23,
    "start_time": "2021-12-03T05:16:42.896Z"
   },
   {
    "duration": 14,
    "start_time": "2021-12-03T05:16:42.922Z"
   },
   {
    "duration": 65,
    "start_time": "2021-12-03T05:16:42.938Z"
   },
   {
    "duration": 9,
    "start_time": "2021-12-03T05:16:43.011Z"
   },
   {
    "duration": 68,
    "start_time": "2021-12-03T05:16:43.024Z"
   },
   {
    "duration": 32,
    "start_time": "2021-12-03T05:16:43.095Z"
   },
   {
    "duration": 9,
    "start_time": "2021-12-03T05:16:43.130Z"
   },
   {
    "duration": 81,
    "start_time": "2021-12-03T05:16:43.142Z"
   },
   {
    "duration": 8,
    "start_time": "2021-12-03T05:16:43.225Z"
   },
   {
    "duration": 15,
    "start_time": "2021-12-03T05:16:43.235Z"
   },
   {
    "duration": 41,
    "start_time": "2021-12-03T05:16:43.252Z"
   },
   {
    "duration": 7,
    "start_time": "2021-12-03T05:16:43.295Z"
   },
   {
    "duration": 31,
    "start_time": "2021-12-03T05:16:43.304Z"
   },
   {
    "duration": 68,
    "start_time": "2021-12-03T05:16:43.337Z"
   },
   {
    "duration": 34,
    "start_time": "2021-12-03T05:16:43.407Z"
   },
   {
    "duration": 72,
    "start_time": "2021-12-03T05:16:43.443Z"
   },
   {
    "duration": 327,
    "start_time": "2021-12-03T05:16:43.517Z"
   },
   {
    "duration": 38,
    "start_time": "2021-12-03T05:16:43.847Z"
   },
   {
    "duration": 12,
    "start_time": "2021-12-03T05:16:43.887Z"
   },
   {
    "duration": 12,
    "start_time": "2021-12-03T05:16:43.902Z"
   },
   {
    "duration": 1101,
    "start_time": "2021-12-03T05:16:43.917Z"
   },
   {
    "duration": 964,
    "start_time": "2021-12-03T05:16:45.021Z"
   },
   {
    "duration": 44,
    "start_time": "2021-12-03T05:16:45.987Z"
   },
   {
    "duration": 12,
    "start_time": "2021-12-03T05:16:46.037Z"
   },
   {
    "duration": 43,
    "start_time": "2021-12-03T05:16:46.051Z"
   },
   {
    "duration": 14,
    "start_time": "2021-12-03T05:16:46.097Z"
   },
   {
    "duration": 39,
    "start_time": "2021-12-03T05:16:46.113Z"
   },
   {
    "duration": 387,
    "start_time": "2021-12-03T05:16:46.154Z"
   },
   {
    "duration": 3,
    "start_time": "2021-12-03T05:16:46.543Z"
   },
   {
    "duration": 438,
    "start_time": "2021-12-03T05:16:46.549Z"
   },
   {
    "duration": 5,
    "start_time": "2021-12-03T05:16:46.990Z"
   },
   {
    "duration": 13,
    "start_time": "2021-12-03T05:16:52.099Z"
   },
   {
    "duration": 658,
    "start_time": "2021-12-03T05:18:41.130Z"
   },
   {
    "duration": 503,
    "start_time": "2021-12-03T05:18:53.886Z"
   },
   {
    "duration": 613,
    "start_time": "2021-12-03T05:19:03.850Z"
   },
   {
    "duration": 530,
    "start_time": "2021-12-03T05:19:50.119Z"
   },
   {
    "duration": 526,
    "start_time": "2021-12-03T05:20:11.493Z"
   },
   {
    "duration": 18,
    "start_time": "2021-12-03T05:24:55.629Z"
   },
   {
    "duration": 6,
    "start_time": "2021-12-03T05:25:01.578Z"
   },
   {
    "duration": 4,
    "start_time": "2021-12-03T05:25:07.237Z"
   },
   {
    "duration": 4,
    "start_time": "2021-12-03T05:25:10.000Z"
   },
   {
    "duration": 18,
    "start_time": "2021-12-03T05:25:15.867Z"
   },
   {
    "duration": 299,
    "start_time": "2021-12-03T05:25:33.187Z"
   },
   {
    "duration": 359,
    "start_time": "2021-12-03T05:25:51.340Z"
   },
   {
    "duration": 5,
    "start_time": "2021-12-03T05:26:11.659Z"
   },
   {
    "duration": 4,
    "start_time": "2021-12-03T05:27:10.628Z"
   },
   {
    "duration": 10,
    "start_time": "2021-12-03T05:27:42.565Z"
   },
   {
    "duration": 10,
    "start_time": "2021-12-03T05:29:32.010Z"
   },
   {
    "duration": 4,
    "start_time": "2021-12-03T05:29:59.365Z"
   },
   {
    "duration": 9,
    "start_time": "2021-12-03T05:30:17.053Z"
   },
   {
    "duration": 16,
    "start_time": "2021-12-03T05:30:39.864Z"
   },
   {
    "duration": 7150,
    "start_time": "2021-12-03T05:31:19.704Z"
   },
   {
    "duration": 16,
    "start_time": "2021-12-03T05:31:59.903Z"
   },
   {
    "duration": 14,
    "start_time": "2021-12-03T05:32:55.871Z"
   },
   {
    "duration": 26,
    "start_time": "2021-12-03T05:33:14.692Z"
   },
   {
    "duration": 8,
    "start_time": "2021-12-03T05:33:19.245Z"
   },
   {
    "duration": 18,
    "start_time": "2021-12-03T05:33:56.916Z"
   },
   {
    "duration": 16,
    "start_time": "2021-12-03T05:35:01.213Z"
   },
   {
    "duration": 2154,
    "start_time": "2021-12-03T06:50:16.856Z"
   },
   {
    "duration": 79,
    "start_time": "2021-12-03T06:50:19.014Z"
   },
   {
    "duration": 27,
    "start_time": "2021-12-03T06:50:19.097Z"
   },
   {
    "duration": 4,
    "start_time": "2021-12-03T06:50:19.128Z"
   },
   {
    "duration": 92,
    "start_time": "2021-12-03T06:50:19.134Z"
   },
   {
    "duration": 60,
    "start_time": "2021-12-03T06:50:19.229Z"
   },
   {
    "duration": 25,
    "start_time": "2021-12-03T06:50:19.291Z"
   },
   {
    "duration": 14,
    "start_time": "2021-12-03T06:50:19.318Z"
   },
   {
    "duration": 216,
    "start_time": "2021-12-03T06:50:19.336Z"
   },
   {
    "duration": 44,
    "start_time": "2021-12-03T06:50:19.555Z"
   },
   {
    "duration": 28,
    "start_time": "2021-12-03T06:50:19.601Z"
   },
   {
    "duration": 71,
    "start_time": "2021-12-03T06:50:19.632Z"
   },
   {
    "duration": 32,
    "start_time": "2021-12-03T06:50:19.705Z"
   },
   {
    "duration": 153,
    "start_time": "2021-12-03T06:50:19.739Z"
   },
   {
    "duration": 29,
    "start_time": "2021-12-03T06:50:19.894Z"
   },
   {
    "duration": 17,
    "start_time": "2021-12-03T06:50:19.925Z"
   },
   {
    "duration": 53,
    "start_time": "2021-12-03T06:50:19.944Z"
   },
   {
    "duration": 37,
    "start_time": "2021-12-03T06:50:19.999Z"
   },
   {
    "duration": 51,
    "start_time": "2021-12-03T06:50:20.038Z"
   },
   {
    "duration": 23,
    "start_time": "2021-12-03T06:50:20.091Z"
   },
   {
    "duration": 13,
    "start_time": "2021-12-03T06:50:20.116Z"
   },
   {
    "duration": 70,
    "start_time": "2021-12-03T06:50:20.132Z"
   },
   {
    "duration": 10,
    "start_time": "2021-12-03T06:50:20.206Z"
   },
   {
    "duration": 68,
    "start_time": "2021-12-03T06:50:20.219Z"
   },
   {
    "duration": 35,
    "start_time": "2021-12-03T06:50:20.290Z"
   },
   {
    "duration": 11,
    "start_time": "2021-12-03T06:50:20.327Z"
   },
   {
    "duration": 64,
    "start_time": "2021-12-03T06:50:20.344Z"
   },
   {
    "duration": 8,
    "start_time": "2021-12-03T06:50:20.411Z"
   },
   {
    "duration": 22,
    "start_time": "2021-12-03T06:50:20.422Z"
   },
   {
    "duration": 40,
    "start_time": "2021-12-03T06:50:20.446Z"
   },
   {
    "duration": 7,
    "start_time": "2021-12-03T06:50:20.489Z"
   },
   {
    "duration": 37,
    "start_time": "2021-12-03T06:50:20.498Z"
   },
   {
    "duration": 63,
    "start_time": "2021-12-03T06:50:20.537Z"
   },
   {
    "duration": 35,
    "start_time": "2021-12-03T06:50:20.602Z"
   },
   {
    "duration": 71,
    "start_time": "2021-12-03T06:50:20.639Z"
   },
   {
    "duration": 325,
    "start_time": "2021-12-03T06:50:20.712Z"
   },
   {
    "duration": 21,
    "start_time": "2021-12-03T06:50:21.039Z"
   },
   {
    "duration": 12,
    "start_time": "2021-12-03T06:50:21.082Z"
   },
   {
    "duration": 13,
    "start_time": "2021-12-03T06:50:21.096Z"
   },
   {
    "duration": 1011,
    "start_time": "2021-12-03T06:50:21.111Z"
   },
   {
    "duration": 968,
    "start_time": "2021-12-03T06:50:22.124Z"
   },
   {
    "duration": 40,
    "start_time": "2021-12-03T06:50:23.095Z"
   },
   {
    "duration": 13,
    "start_time": "2021-12-03T06:50:23.138Z"
   },
   {
    "duration": 15,
    "start_time": "2021-12-03T06:50:23.182Z"
   },
   {
    "duration": 16,
    "start_time": "2021-12-03T06:50:23.199Z"
   },
   {
    "duration": 31,
    "start_time": "2021-12-03T06:50:23.218Z"
   },
   {
    "duration": 382,
    "start_time": "2021-12-03T06:50:23.283Z"
   },
   {
    "duration": 15,
    "start_time": "2021-12-03T06:50:23.667Z"
   },
   {
    "duration": 750,
    "start_time": "2021-12-03T06:50:23.685Z"
   },
   {
    "duration": 4,
    "start_time": "2021-12-03T06:50:24.438Z"
   },
   {
    "duration": 13,
    "start_time": "2021-12-03T06:50:24.445Z"
   },
   {
    "duration": 18,
    "start_time": "2021-12-03T06:50:24.487Z"
   },
   {
    "duration": 10,
    "start_time": "2021-12-03T06:50:24.507Z"
   },
   {
    "duration": 15,
    "start_time": "2021-12-03T06:50:24.519Z"
   },
   {
    "duration": 11,
    "start_time": "2021-12-03T06:50:24.537Z"
   },
   {
    "duration": 36,
    "start_time": "2021-12-03T06:50:24.550Z"
   },
   {
    "duration": 346,
    "start_time": "2021-12-03T06:51:51.971Z"
   },
   {
    "duration": 62,
    "start_time": "2021-12-03T06:51:52.320Z"
   },
   {
    "duration": 23,
    "start_time": "2021-12-03T06:51:52.385Z"
   },
   {
    "duration": 3,
    "start_time": "2021-12-03T06:51:52.411Z"
   },
   {
    "duration": 91,
    "start_time": "2021-12-03T06:51:52.417Z"
   },
   {
    "duration": 81,
    "start_time": "2021-12-03T06:51:52.511Z"
   },
   {
    "duration": 30,
    "start_time": "2021-12-03T06:51:52.596Z"
   },
   {
    "duration": 22,
    "start_time": "2021-12-03T06:51:52.631Z"
   },
   {
    "duration": 378,
    "start_time": "2021-12-03T06:51:52.684Z"
   },
   {
    "duration": 73,
    "start_time": "2021-12-03T06:51:53.066Z"
   },
   {
    "duration": 50,
    "start_time": "2021-12-03T06:51:53.141Z"
   },
   {
    "duration": 89,
    "start_time": "2021-12-03T06:51:53.194Z"
   },
   {
    "duration": 33,
    "start_time": "2021-12-03T06:51:53.286Z"
   },
   {
    "duration": 162,
    "start_time": "2021-12-03T06:51:53.321Z"
   },
   {
    "duration": 29,
    "start_time": "2021-12-03T06:51:53.486Z"
   },
   {
    "duration": 20,
    "start_time": "2021-12-03T06:51:53.518Z"
   },
   {
    "duration": 53,
    "start_time": "2021-12-03T06:51:53.540Z"
   },
   {
    "duration": 36,
    "start_time": "2021-12-03T06:51:53.595Z"
   },
   {
    "duration": 49,
    "start_time": "2021-12-03T06:51:53.633Z"
   },
   {
    "duration": 24,
    "start_time": "2021-12-03T06:51:53.684Z"
   },
   {
    "duration": 15,
    "start_time": "2021-12-03T06:51:53.711Z"
   },
   {
    "duration": 73,
    "start_time": "2021-12-03T06:51:53.728Z"
   },
   {
    "duration": 10,
    "start_time": "2021-12-03T06:51:53.808Z"
   },
   {
    "duration": 61,
    "start_time": "2021-12-03T06:51:53.821Z"
   },
   {
    "duration": 33,
    "start_time": "2021-12-03T06:51:53.884Z"
   },
   {
    "duration": 9,
    "start_time": "2021-12-03T06:51:53.919Z"
   },
   {
    "duration": 73,
    "start_time": "2021-12-03T06:51:53.930Z"
   },
   {
    "duration": 9,
    "start_time": "2021-12-03T06:51:54.005Z"
   },
   {
    "duration": 15,
    "start_time": "2021-12-03T06:51:54.017Z"
   },
   {
    "duration": 47,
    "start_time": "2021-12-03T06:51:54.035Z"
   },
   {
    "duration": 7,
    "start_time": "2021-12-03T06:51:54.085Z"
   },
   {
    "duration": 31,
    "start_time": "2021-12-03T06:51:54.095Z"
   },
   {
    "duration": 79,
    "start_time": "2021-12-03T06:51:54.129Z"
   },
   {
    "duration": 40,
    "start_time": "2021-12-03T06:51:54.211Z"
   },
   {
    "duration": 66,
    "start_time": "2021-12-03T06:51:54.254Z"
   },
   {
    "duration": 335,
    "start_time": "2021-12-03T06:51:54.322Z"
   },
   {
    "duration": 36,
    "start_time": "2021-12-03T06:51:54.660Z"
   },
   {
    "duration": 13,
    "start_time": "2021-12-03T06:51:54.698Z"
   },
   {
    "duration": 25,
    "start_time": "2021-12-03T06:51:54.713Z"
   },
   {
    "duration": 1049,
    "start_time": "2021-12-03T06:51:54.740Z"
   },
   {
    "duration": 975,
    "start_time": "2021-12-03T06:51:55.792Z"
   },
   {
    "duration": 45,
    "start_time": "2021-12-03T06:51:56.769Z"
   },
   {
    "duration": 14,
    "start_time": "2021-12-03T06:51:56.817Z"
   },
   {
    "duration": 52,
    "start_time": "2021-12-03T06:51:56.836Z"
   },
   {
    "duration": 25,
    "start_time": "2021-12-03T06:51:56.891Z"
   },
   {
    "duration": 69,
    "start_time": "2021-12-03T06:51:56.920Z"
   },
   {
    "duration": 430,
    "start_time": "2021-12-03T06:51:56.993Z"
   },
   {
    "duration": 3,
    "start_time": "2021-12-03T06:51:57.427Z"
   },
   {
    "duration": 450,
    "start_time": "2021-12-03T06:51:57.434Z"
   },
   {
    "duration": 4,
    "start_time": "2021-12-03T06:51:57.887Z"
   },
   {
    "duration": 12,
    "start_time": "2021-12-03T06:51:57.894Z"
   },
   {
    "duration": 20,
    "start_time": "2021-12-03T06:51:57.908Z"
   },
   {
    "duration": 51,
    "start_time": "2021-12-03T06:51:57.931Z"
   },
   {
    "duration": 12,
    "start_time": "2021-12-03T06:51:57.985Z"
   },
   {
    "duration": 6,
    "start_time": "2021-12-03T06:52:02.452Z"
   },
   {
    "duration": 10,
    "start_time": "2021-12-03T06:53:17.074Z"
   },
   {
    "duration": 4,
    "start_time": "2021-12-03T06:53:18.517Z"
   },
   {
    "duration": 17,
    "start_time": "2021-12-03T06:53:25.617Z"
   },
   {
    "duration": 11,
    "start_time": "2021-12-03T06:54:27.224Z"
   },
   {
    "duration": 17,
    "start_time": "2021-12-03T06:54:56.555Z"
   },
   {
    "duration": 16,
    "start_time": "2021-12-03T06:55:28.946Z"
   },
   {
    "duration": 18,
    "start_time": "2021-12-03T07:07:11.584Z"
   },
   {
    "duration": 16,
    "start_time": "2021-12-03T07:08:29.782Z"
   },
   {
    "duration": 105,
    "start_time": "2021-12-03T07:09:55.210Z"
   },
   {
    "duration": 16,
    "start_time": "2021-12-03T07:14:45.161Z"
   },
   {
    "duration": 16,
    "start_time": "2021-12-03T07:16:10.124Z"
   },
   {
    "duration": 6,
    "start_time": "2021-12-03T07:17:52.523Z"
   },
   {
    "duration": 10,
    "start_time": "2021-12-03T07:20:10.372Z"
   },
   {
    "duration": 9,
    "start_time": "2021-12-03T07:22:11.458Z"
   },
   {
    "duration": 475,
    "start_time": "2021-12-03T07:23:07.457Z"
   },
   {
    "duration": 8,
    "start_time": "2021-12-03T07:26:27.934Z"
   },
   {
    "duration": 351,
    "start_time": "2021-12-03T08:04:25.614Z"
   },
   {
    "duration": 74,
    "start_time": "2021-12-03T08:04:25.969Z"
   },
   {
    "duration": 46,
    "start_time": "2021-12-03T08:04:26.047Z"
   },
   {
    "duration": 4,
    "start_time": "2021-12-03T08:04:26.096Z"
   },
   {
    "duration": 85,
    "start_time": "2021-12-03T08:04:26.103Z"
   },
   {
    "duration": 70,
    "start_time": "2021-12-03T08:04:26.195Z"
   },
   {
    "duration": 41,
    "start_time": "2021-12-03T08:04:26.268Z"
   },
   {
    "duration": 22,
    "start_time": "2021-12-03T08:04:26.311Z"
   },
   {
    "duration": 247,
    "start_time": "2021-12-03T08:04:26.340Z"
   },
   {
    "duration": 47,
    "start_time": "2021-12-03T08:04:26.591Z"
   },
   {
    "duration": 61,
    "start_time": "2021-12-03T08:04:26.640Z"
   },
   {
    "duration": 46,
    "start_time": "2021-12-03T08:04:26.704Z"
   },
   {
    "duration": 53,
    "start_time": "2021-12-03T08:04:26.753Z"
   },
   {
    "duration": 204,
    "start_time": "2021-12-03T08:04:26.809Z"
   },
   {
    "duration": 43,
    "start_time": "2021-12-03T08:04:27.017Z"
   },
   {
    "duration": 36,
    "start_time": "2021-12-03T08:04:27.062Z"
   },
   {
    "duration": 22,
    "start_time": "2021-12-03T08:04:27.101Z"
   },
   {
    "duration": 71,
    "start_time": "2021-12-03T08:04:27.125Z"
   },
   {
    "duration": 30,
    "start_time": "2021-12-03T08:04:27.199Z"
   },
   {
    "duration": 53,
    "start_time": "2021-12-03T08:04:27.232Z"
   },
   {
    "duration": 15,
    "start_time": "2021-12-03T08:04:27.287Z"
   },
   {
    "duration": 99,
    "start_time": "2021-12-03T08:04:27.305Z"
   },
   {
    "duration": 10,
    "start_time": "2021-12-03T08:04:27.407Z"
   },
   {
    "duration": 31,
    "start_time": "2021-12-03T08:04:27.420Z"
   },
   {
    "duration": 56,
    "start_time": "2021-12-03T08:04:27.454Z"
   },
   {
    "duration": 7,
    "start_time": "2021-12-03T08:04:27.513Z"
   },
   {
    "duration": 85,
    "start_time": "2021-12-03T08:04:27.530Z"
   },
   {
    "duration": 13,
    "start_time": "2021-12-03T08:04:27.620Z"
   },
   {
    "duration": 55,
    "start_time": "2021-12-03T08:04:27.635Z"
   },
   {
    "duration": 20,
    "start_time": "2021-12-03T08:04:27.693Z"
   },
   {
    "duration": 9,
    "start_time": "2021-12-03T08:04:27.716Z"
   },
   {
    "duration": 62,
    "start_time": "2021-12-03T08:04:27.728Z"
   },
   {
    "duration": 37,
    "start_time": "2021-12-03T08:04:27.793Z"
   },
   {
    "duration": 57,
    "start_time": "2021-12-03T08:04:27.833Z"
   },
   {
    "duration": 45,
    "start_time": "2021-12-03T08:04:27.892Z"
   },
   {
    "duration": 412,
    "start_time": "2021-12-03T08:04:27.940Z"
   },
   {
    "duration": 35,
    "start_time": "2021-12-03T08:04:28.355Z"
   },
   {
    "duration": 17,
    "start_time": "2021-12-03T08:04:28.393Z"
   },
   {
    "duration": 14,
    "start_time": "2021-12-03T08:04:28.419Z"
   },
   {
    "duration": 1245,
    "start_time": "2021-12-03T08:04:28.436Z"
   },
   {
    "duration": 1064,
    "start_time": "2021-12-03T08:04:29.684Z"
   },
   {
    "duration": 58,
    "start_time": "2021-12-03T08:04:30.751Z"
   },
   {
    "duration": 15,
    "start_time": "2021-12-03T08:04:30.812Z"
   },
   {
    "duration": 25,
    "start_time": "2021-12-03T08:04:30.830Z"
   },
   {
    "duration": 44,
    "start_time": "2021-12-03T08:04:30.857Z"
   },
   {
    "duration": 37,
    "start_time": "2021-12-03T08:04:30.904Z"
   },
   {
    "duration": 454,
    "start_time": "2021-12-03T08:04:30.944Z"
   },
   {
    "duration": 3,
    "start_time": "2021-12-03T08:04:31.401Z"
   },
   {
    "duration": 484,
    "start_time": "2021-12-03T08:04:31.408Z"
   },
   {
    "duration": 5,
    "start_time": "2021-12-03T08:04:31.894Z"
   },
   {
    "duration": 11,
    "start_time": "2021-12-03T08:04:31.902Z"
   },
   {
    "duration": 28,
    "start_time": "2021-12-03T08:04:31.917Z"
   },
   {
    "duration": 51,
    "start_time": "2021-12-03T08:04:31.948Z"
   },
   {
    "duration": 23,
    "start_time": "2021-12-03T08:04:32.002Z"
   },
   {
    "duration": 17,
    "start_time": "2021-12-03T08:04:32.028Z"
   },
   {
    "duration": 33,
    "start_time": "2021-12-03T08:04:32.049Z"
   },
   {
    "duration": 13,
    "start_time": "2021-12-03T08:04:32.085Z"
   },
   {
    "duration": 13,
    "start_time": "2021-12-03T08:04:32.100Z"
   },
   {
    "duration": 11,
    "start_time": "2021-12-03T08:06:51.109Z"
   },
   {
    "duration": 10,
    "start_time": "2021-12-03T08:07:09.475Z"
   },
   {
    "duration": 13,
    "start_time": "2021-12-03T08:07:38.228Z"
   },
   {
    "duration": 13,
    "start_time": "2021-12-03T08:07:53.998Z"
   },
   {
    "duration": 9,
    "start_time": "2021-12-03T08:08:25.588Z"
   },
   {
    "duration": 12,
    "start_time": "2021-12-03T08:09:16.508Z"
   },
   {
    "duration": 13,
    "start_time": "2021-12-03T08:18:18.093Z"
   },
   {
    "duration": 13,
    "start_time": "2021-12-03T08:18:33.721Z"
   },
   {
    "duration": 1322,
    "start_time": "2021-12-03T11:52:23.760Z"
   },
   {
    "duration": 31,
    "start_time": "2021-12-03T11:52:25.084Z"
   },
   {
    "duration": 17,
    "start_time": "2021-12-03T11:52:25.117Z"
   },
   {
    "duration": 2,
    "start_time": "2021-12-03T11:52:25.136Z"
   },
   {
    "duration": 71,
    "start_time": "2021-12-03T11:52:25.140Z"
   },
   {
    "duration": 50,
    "start_time": "2021-12-03T11:52:25.214Z"
   },
   {
    "duration": 19,
    "start_time": "2021-12-03T11:52:25.266Z"
   },
   {
    "duration": 11,
    "start_time": "2021-12-03T11:52:25.287Z"
   },
   {
    "duration": 505,
    "start_time": "2021-12-03T11:52:25.302Z"
   },
   {
    "duration": 21,
    "start_time": "2021-12-03T11:52:25.809Z"
   },
   {
    "duration": 32,
    "start_time": "2021-12-03T11:52:25.832Z"
   },
   {
    "duration": 31,
    "start_time": "2021-12-03T11:52:25.866Z"
   },
   {
    "duration": 24,
    "start_time": "2021-12-03T11:52:25.900Z"
   },
   {
    "duration": 116,
    "start_time": "2021-12-03T11:52:25.925Z"
   },
   {
    "duration": 28,
    "start_time": "2021-12-03T11:52:26.043Z"
   },
   {
    "duration": 13,
    "start_time": "2021-12-03T11:52:26.072Z"
   },
   {
    "duration": 14,
    "start_time": "2021-12-03T11:52:26.087Z"
   },
   {
    "duration": 24,
    "start_time": "2021-12-03T11:52:26.102Z"
   },
   {
    "duration": 43,
    "start_time": "2021-12-03T11:52:26.127Z"
   },
   {
    "duration": 14,
    "start_time": "2021-12-03T11:52:26.172Z"
   },
   {
    "duration": 9,
    "start_time": "2021-12-03T11:52:26.188Z"
   },
   {
    "duration": 48,
    "start_time": "2021-12-03T11:52:26.199Z"
   },
   {
    "duration": 6,
    "start_time": "2021-12-03T11:52:26.249Z"
   },
   {
    "duration": 24,
    "start_time": "2021-12-03T11:52:26.257Z"
   },
   {
    "duration": 29,
    "start_time": "2021-12-03T11:52:26.283Z"
   },
   {
    "duration": 5,
    "start_time": "2021-12-03T11:52:26.314Z"
   },
   {
    "duration": 45,
    "start_time": "2021-12-03T11:52:26.324Z"
   },
   {
    "duration": 6,
    "start_time": "2021-12-03T11:52:26.371Z"
   },
   {
    "duration": 16,
    "start_time": "2021-12-03T11:52:26.379Z"
   },
   {
    "duration": 17,
    "start_time": "2021-12-03T11:52:26.397Z"
   },
   {
    "duration": 4,
    "start_time": "2021-12-03T11:52:26.416Z"
   },
   {
    "duration": 23,
    "start_time": "2021-12-03T11:52:26.421Z"
   },
   {
    "duration": 39,
    "start_time": "2021-12-03T11:52:26.446Z"
   },
   {
    "duration": 20,
    "start_time": "2021-12-03T11:52:26.487Z"
   },
   {
    "duration": 21,
    "start_time": "2021-12-03T11:52:26.509Z"
   },
   {
    "duration": 200,
    "start_time": "2021-12-03T11:52:26.532Z"
   },
   {
    "duration": 13,
    "start_time": "2021-12-03T11:52:26.733Z"
   },
   {
    "duration": 8,
    "start_time": "2021-12-03T11:52:26.764Z"
   },
   {
    "duration": 10,
    "start_time": "2021-12-03T11:52:26.774Z"
   },
   {
    "duration": 585,
    "start_time": "2021-12-03T11:52:26.786Z"
   },
   {
    "duration": 572,
    "start_time": "2021-12-03T11:52:27.373Z"
   },
   {
    "duration": 32,
    "start_time": "2021-12-03T11:52:27.948Z"
   },
   {
    "duration": 506,
    "start_time": "2021-12-03T11:52:27.982Z"
   },
   {
    "duration": 9,
    "start_time": "2021-12-03T11:52:28.489Z"
   },
   {
    "duration": 13,
    "start_time": "2021-12-03T11:52:28.499Z"
   },
   {
    "duration": 12,
    "start_time": "2021-12-03T11:52:28.514Z"
   },
   {
    "duration": 48,
    "start_time": "2021-12-03T11:52:28.528Z"
   },
   {
    "duration": 300,
    "start_time": "2021-12-03T11:52:28.578Z"
   },
   {
    "duration": 2,
    "start_time": "2021-12-03T11:52:28.880Z"
   },
   {
    "duration": 287,
    "start_time": "2021-12-03T11:52:28.884Z"
   },
   {
    "duration": 4,
    "start_time": "2021-12-03T11:52:29.173Z"
   },
   {
    "duration": 10,
    "start_time": "2021-12-03T11:52:29.179Z"
   },
   {
    "duration": 15,
    "start_time": "2021-12-03T11:52:29.190Z"
   },
   {
    "duration": 17,
    "start_time": "2021-12-03T11:52:29.207Z"
   },
   {
    "duration": 17,
    "start_time": "2021-12-03T11:52:29.226Z"
   },
   {
    "duration": 23,
    "start_time": "2021-12-03T11:52:29.245Z"
   },
   {
    "duration": 3,
    "start_time": "2021-12-03T11:52:29.270Z"
   },
   {
    "duration": 878,
    "start_time": "2021-12-03T11:52:29.274Z"
   },
   {
    "duration": -5963,
    "start_time": "2021-12-03T11:52:36.117Z"
   },
   {
    "duration": 468,
    "start_time": "2021-12-03T11:53:34.390Z"
   },
   {
    "duration": 431,
    "start_time": "2021-12-03T11:53:41.606Z"
   },
   {
    "duration": 1797,
    "start_time": "2021-12-03T12:09:58.620Z"
   },
   {
    "duration": 48,
    "start_time": "2021-12-03T12:10:00.420Z"
   },
   {
    "duration": 25,
    "start_time": "2021-12-03T12:10:00.471Z"
   },
   {
    "duration": 3,
    "start_time": "2021-12-03T12:10:00.499Z"
   },
   {
    "duration": 108,
    "start_time": "2021-12-03T12:10:00.504Z"
   },
   {
    "duration": 66,
    "start_time": "2021-12-03T12:10:00.614Z"
   },
   {
    "duration": 132,
    "start_time": "2021-12-03T12:11:06.698Z"
   },
   {
    "duration": 318,
    "start_time": "2021-12-03T12:11:18.432Z"
   },
   {
    "duration": 62,
    "start_time": "2021-12-03T12:11:18.761Z"
   },
   {
    "duration": 45,
    "start_time": "2021-12-03T12:11:18.826Z"
   },
   {
    "duration": 128,
    "start_time": "2021-12-03T12:11:24.138Z"
   },
   {
    "duration": 13,
    "start_time": "2021-12-03T12:11:31.444Z"
   },
   {
    "duration": 14,
    "start_time": "2021-12-03T12:12:04.212Z"
   },
   {
    "duration": 261,
    "start_time": "2021-12-03T12:12:28.824Z"
   },
   {
    "duration": 41,
    "start_time": "2021-12-03T12:12:29.087Z"
   },
   {
    "duration": 37,
    "start_time": "2021-12-03T12:12:29.130Z"
   },
   {
    "duration": 14,
    "start_time": "2021-12-03T12:12:29.170Z"
   },
   {
    "duration": 95,
    "start_time": "2021-12-03T12:12:29.186Z"
   },
   {
    "duration": 47,
    "start_time": "2021-12-03T12:12:29.283Z"
   },
   {
    "duration": 3,
    "start_time": "2021-12-03T12:12:29.332Z"
   },
   {
    "duration": 27,
    "start_time": "2021-12-03T12:12:29.361Z"
   },
   {
    "duration": 219,
    "start_time": "2021-12-03T12:12:29.390Z"
   },
   {
    "duration": 64,
    "start_time": "2021-12-03T12:12:29.612Z"
   },
   {
    "duration": 25,
    "start_time": "2021-12-03T12:12:29.679Z"
   },
   {
    "duration": 69,
    "start_time": "2021-12-03T12:12:29.706Z"
   },
   {
    "duration": 34,
    "start_time": "2021-12-03T12:12:29.778Z"
   },
   {
    "duration": 155,
    "start_time": "2021-12-03T12:12:29.814Z"
   },
   {
    "duration": 28,
    "start_time": "2021-12-03T12:12:29.973Z"
   },
   {
    "duration": 18,
    "start_time": "2021-12-03T12:12:30.005Z"
   },
   {
    "duration": 58,
    "start_time": "2021-12-03T12:12:30.025Z"
   },
   {
    "duration": 35,
    "start_time": "2021-12-03T12:12:30.096Z"
   },
   {
    "duration": 54,
    "start_time": "2021-12-03T12:12:30.134Z"
   },
   {
    "duration": 538,
    "start_time": "2021-12-03T12:14:07.693Z"
   },
   {
    "duration": 282,
    "start_time": "2021-12-03T12:14:14.129Z"
   },
   {
    "duration": 68,
    "start_time": "2021-12-03T12:14:14.414Z"
   },
   {
    "duration": 20,
    "start_time": "2021-12-03T12:14:14.485Z"
   },
   {
    "duration": 14,
    "start_time": "2021-12-03T12:14:14.508Z"
   },
   {
    "duration": 170,
    "start_time": "2021-12-03T12:14:14.525Z"
   },
   {
    "duration": 65,
    "start_time": "2021-12-03T12:14:14.697Z"
   },
   {
    "duration": 4,
    "start_time": "2021-12-03T12:14:14.765Z"
   },
   {
    "duration": 32,
    "start_time": "2021-12-03T12:14:14.775Z"
   },
   {
    "duration": 206,
    "start_time": "2021-12-03T12:14:14.810Z"
   },
   {
    "duration": 57,
    "start_time": "2021-12-03T12:14:15.019Z"
   },
   {
    "duration": 32,
    "start_time": "2021-12-03T12:14:15.081Z"
   },
   {
    "duration": 69,
    "start_time": "2021-12-03T12:14:15.116Z"
   },
   {
    "duration": 33,
    "start_time": "2021-12-03T12:14:15.188Z"
   },
   {
    "duration": 1543,
    "start_time": "2021-12-03T12:14:15.223Z"
   },
   {
    "duration": 39,
    "start_time": "2021-12-03T12:14:16.770Z"
   },
   {
    "duration": 18,
    "start_time": "2021-12-03T12:14:16.812Z"
   },
   {
    "duration": 50,
    "start_time": "2021-12-03T12:14:16.833Z"
   },
   {
    "duration": 44,
    "start_time": "2021-12-03T12:14:16.887Z"
   },
   {
    "duration": 49,
    "start_time": "2021-12-03T12:14:16.934Z"
   },
   {
    "duration": 30,
    "start_time": "2021-12-03T12:14:16.987Z"
   },
   {
    "duration": 11,
    "start_time": "2021-12-03T12:14:17.019Z"
   },
   {
    "duration": 54,
    "start_time": "2021-12-03T12:14:17.033Z"
   },
   {
    "duration": 11,
    "start_time": "2021-12-03T12:14:17.093Z"
   },
   {
    "duration": 67,
    "start_time": "2021-12-03T12:14:17.108Z"
   },
   {
    "duration": 33,
    "start_time": "2021-12-03T12:14:17.179Z"
   },
   {
    "duration": 8,
    "start_time": "2021-12-03T12:14:17.215Z"
   },
   {
    "duration": 90,
    "start_time": "2021-12-03T12:14:17.225Z"
   },
   {
    "duration": 9,
    "start_time": "2021-12-03T12:14:17.318Z"
   },
   {
    "duration": 40,
    "start_time": "2021-12-03T12:14:17.331Z"
   },
   {
    "duration": 32,
    "start_time": "2021-12-03T12:14:17.375Z"
   },
   {
    "duration": 6,
    "start_time": "2021-12-03T12:14:17.410Z"
   },
   {
    "duration": 56,
    "start_time": "2021-12-03T12:14:17.418Z"
   },
   {
    "duration": 57,
    "start_time": "2021-12-03T12:14:20.955Z"
   },
   {
    "duration": 10036,
    "start_time": "2021-12-03T12:29:03.790Z"
   },
   {
    "duration": 248,
    "start_time": "2021-12-03T12:29:21.793Z"
   },
   {
    "duration": 56,
    "start_time": "2021-12-03T12:29:22.043Z"
   },
   {
    "duration": 23,
    "start_time": "2021-12-03T12:29:22.102Z"
   },
   {
    "duration": 47,
    "start_time": "2021-12-03T12:29:22.128Z"
   },
   {
    "duration": 101,
    "start_time": "2021-12-03T12:29:22.178Z"
   },
   {
    "duration": 51,
    "start_time": "2021-12-03T12:29:22.282Z"
   },
   {
    "duration": 3,
    "start_time": "2021-12-03T12:29:22.336Z"
   },
   {
    "duration": 17,
    "start_time": "2021-12-03T12:29:22.361Z"
   },
   {
    "duration": 221,
    "start_time": "2021-12-03T12:29:22.381Z"
   },
   {
    "duration": 35,
    "start_time": "2021-12-03T12:29:22.604Z"
   },
   {
    "duration": 48,
    "start_time": "2021-12-03T12:29:22.642Z"
   },
   {
    "duration": 76,
    "start_time": "2021-12-03T12:29:22.693Z"
   },
   {
    "duration": 36,
    "start_time": "2021-12-03T12:29:22.773Z"
   },
   {
    "duration": 161,
    "start_time": "2021-12-03T12:29:22.812Z"
   },
   {
    "duration": 30,
    "start_time": "2021-12-03T12:29:22.976Z"
   },
   {
    "duration": 18,
    "start_time": "2021-12-03T12:29:23.009Z"
   },
   {
    "duration": 57,
    "start_time": "2021-12-03T12:29:23.030Z"
   },
   {
    "duration": 35,
    "start_time": "2021-12-03T12:29:23.089Z"
   },
   {
    "duration": 54,
    "start_time": "2021-12-03T12:29:23.126Z"
   },
   {
    "duration": 25,
    "start_time": "2021-12-03T12:29:23.183Z"
   },
   {
    "duration": 12,
    "start_time": "2021-12-03T12:29:23.211Z"
   },
   {
    "duration": 73,
    "start_time": "2021-12-03T12:29:23.226Z"
   },
   {
    "duration": 10,
    "start_time": "2021-12-03T12:29:23.305Z"
   },
   {
    "duration": 58,
    "start_time": "2021-12-03T12:29:23.318Z"
   },
   {
    "duration": 33,
    "start_time": "2021-12-03T12:29:23.379Z"
   },
   {
    "duration": 9,
    "start_time": "2021-12-03T12:29:23.414Z"
   },
   {
    "duration": 67,
    "start_time": "2021-12-03T12:29:23.425Z"
   },
   {
    "duration": 8,
    "start_time": "2021-12-03T12:29:23.494Z"
   },
   {
    "duration": 13,
    "start_time": "2021-12-03T12:29:23.505Z"
   },
   {
    "duration": 47,
    "start_time": "2021-12-03T12:29:23.520Z"
   },
   {
    "duration": 11,
    "start_time": "2021-12-03T12:29:23.570Z"
   },
   {
    "duration": 38,
    "start_time": "2021-12-03T12:29:23.584Z"
   },
   {
    "duration": 86,
    "start_time": "2021-12-03T12:29:23.625Z"
   },
   {
    "duration": 73,
    "start_time": "2021-12-03T12:29:23.714Z"
   },
   {
    "duration": 48,
    "start_time": "2021-12-03T12:29:27.278Z"
   },
   {
    "duration": 333,
    "start_time": "2021-12-03T12:31:10.249Z"
   },
   {
    "duration": 38,
    "start_time": "2021-12-03T12:31:25.527Z"
   },
   {
    "duration": 40,
    "start_time": "2021-12-03T12:31:57.312Z"
   },
   {
    "duration": 245,
    "start_time": "2021-12-03T12:32:06.861Z"
   },
   {
    "duration": 60,
    "start_time": "2021-12-03T12:32:07.108Z"
   },
   {
    "duration": 24,
    "start_time": "2021-12-03T12:32:07.171Z"
   },
   {
    "duration": 13,
    "start_time": "2021-12-03T12:32:07.198Z"
   },
   {
    "duration": 88,
    "start_time": "2021-12-03T12:32:07.213Z"
   },
   {
    "duration": 69,
    "start_time": "2021-12-03T12:32:07.303Z"
   },
   {
    "duration": 3,
    "start_time": "2021-12-03T12:32:07.375Z"
   },
   {
    "duration": 26,
    "start_time": "2021-12-03T12:32:07.381Z"
   },
   {
    "duration": 238,
    "start_time": "2021-12-03T12:32:07.411Z"
   },
   {
    "duration": 42,
    "start_time": "2021-12-03T12:32:07.652Z"
   },
   {
    "duration": 27,
    "start_time": "2021-12-03T12:32:07.697Z"
   },
   {
    "duration": 77,
    "start_time": "2021-12-03T12:32:07.727Z"
   },
   {
    "duration": 57,
    "start_time": "2021-12-03T12:32:07.806Z"
   },
   {
    "duration": 146,
    "start_time": "2021-12-03T12:32:07.865Z"
   },
   {
    "duration": 27,
    "start_time": "2021-12-03T12:32:08.015Z"
   },
   {
    "duration": 36,
    "start_time": "2021-12-03T12:32:08.045Z"
   },
   {
    "duration": 24,
    "start_time": "2021-12-03T12:32:08.083Z"
   },
   {
    "duration": 70,
    "start_time": "2021-12-03T12:32:08.111Z"
   },
   {
    "duration": 23,
    "start_time": "2021-12-03T12:32:08.183Z"
   },
   {
    "duration": 22,
    "start_time": "2021-12-03T12:32:08.208Z"
   },
   {
    "duration": 43,
    "start_time": "2021-12-03T12:32:08.233Z"
   },
   {
    "duration": 59,
    "start_time": "2021-12-03T12:32:08.278Z"
   },
   {
    "duration": 9,
    "start_time": "2021-12-03T12:32:08.339Z"
   },
   {
    "duration": 35,
    "start_time": "2021-12-03T12:32:08.350Z"
   },
   {
    "duration": 32,
    "start_time": "2021-12-03T12:32:08.387Z"
   },
   {
    "duration": 6,
    "start_time": "2021-12-03T12:32:08.421Z"
   },
   {
    "duration": 71,
    "start_time": "2021-12-03T12:32:08.432Z"
   },
   {
    "duration": 10,
    "start_time": "2021-12-03T12:32:08.507Z"
   },
   {
    "duration": 48,
    "start_time": "2021-12-03T12:32:08.520Z"
   },
   {
    "duration": 15,
    "start_time": "2021-12-03T12:32:08.571Z"
   },
   {
    "duration": 14,
    "start_time": "2021-12-03T12:32:08.588Z"
   },
   {
    "duration": 47,
    "start_time": "2021-12-03T12:32:08.604Z"
   },
   {
    "duration": 52,
    "start_time": "2021-12-03T12:32:08.653Z"
   },
   {
    "duration": 51,
    "start_time": "2021-12-03T12:32:08.708Z"
   },
   {
    "duration": 60,
    "start_time": "2021-12-03T12:32:12.835Z"
   },
   {
    "duration": 239,
    "start_time": "2021-12-03T12:33:09.789Z"
   },
   {
    "duration": 59,
    "start_time": "2021-12-03T12:33:10.031Z"
   },
   {
    "duration": 20,
    "start_time": "2021-12-03T12:33:10.093Z"
   },
   {
    "duration": 13,
    "start_time": "2021-12-03T12:33:10.116Z"
   },
   {
    "duration": 90,
    "start_time": "2021-12-03T12:33:10.132Z"
   },
   {
    "duration": 67,
    "start_time": "2021-12-03T12:33:10.225Z"
   },
   {
    "duration": 3,
    "start_time": "2021-12-03T12:33:10.294Z"
   },
   {
    "duration": 24,
    "start_time": "2021-12-03T12:33:10.301Z"
   },
   {
    "duration": 203,
    "start_time": "2021-12-03T12:33:10.327Z"
   },
   {
    "duration": 48,
    "start_time": "2021-12-03T12:33:10.532Z"
   },
   {
    "duration": 27,
    "start_time": "2021-12-03T12:33:10.582Z"
   },
   {
    "duration": 65,
    "start_time": "2021-12-03T12:33:10.611Z"
   },
   {
    "duration": 30,
    "start_time": "2021-12-03T12:33:10.679Z"
   },
   {
    "duration": 157,
    "start_time": "2021-12-03T12:33:10.711Z"
   },
   {
    "duration": 32,
    "start_time": "2021-12-03T12:33:10.870Z"
   },
   {
    "duration": 18,
    "start_time": "2021-12-03T12:33:10.905Z"
   },
   {
    "duration": 48,
    "start_time": "2021-12-03T12:33:10.926Z"
   },
   {
    "duration": 36,
    "start_time": "2021-12-03T12:33:10.976Z"
   },
   {
    "duration": 59,
    "start_time": "2021-12-03T12:33:11.015Z"
   },
   {
    "duration": 23,
    "start_time": "2021-12-03T12:33:11.076Z"
   },
   {
    "duration": 11,
    "start_time": "2021-12-03T12:33:11.102Z"
   },
   {
    "duration": 60,
    "start_time": "2021-12-03T12:33:11.116Z"
   },
   {
    "duration": 10,
    "start_time": "2021-12-03T12:33:11.181Z"
   },
   {
    "duration": 33,
    "start_time": "2021-12-03T12:33:11.194Z"
   },
   {
    "duration": 34,
    "start_time": "2021-12-03T12:33:11.259Z"
   },
   {
    "duration": 7,
    "start_time": "2021-12-03T12:33:11.295Z"
   },
   {
    "duration": 72,
    "start_time": "2021-12-03T12:33:11.304Z"
   },
   {
    "duration": 9,
    "start_time": "2021-12-03T12:33:11.379Z"
   },
   {
    "duration": 14,
    "start_time": "2021-12-03T12:33:11.390Z"
   },
   {
    "duration": 17,
    "start_time": "2021-12-03T12:33:11.406Z"
   },
   {
    "duration": 9,
    "start_time": "2021-12-03T12:33:11.468Z"
   },
   {
    "duration": 30,
    "start_time": "2021-12-03T12:33:11.480Z"
   },
   {
    "duration": 70,
    "start_time": "2021-12-03T12:33:11.512Z"
   },
   {
    "duration": 34,
    "start_time": "2021-12-03T12:33:11.584Z"
   },
   {
    "duration": 46,
    "start_time": "2021-12-03T12:33:14.545Z"
   },
   {
    "duration": 552,
    "start_time": "2021-12-03T12:33:50.816Z"
   },
   {
    "duration": 325,
    "start_time": "2021-12-03T12:34:18.485Z"
   },
   {
    "duration": 327,
    "start_time": "2021-12-03T12:36:31.081Z"
   },
   {
    "duration": 73,
    "start_time": "2021-12-03T12:36:31.411Z"
   },
   {
    "duration": 27,
    "start_time": "2021-12-03T12:36:31.489Z"
   },
   {
    "duration": 42,
    "start_time": "2021-12-03T12:36:31.521Z"
   },
   {
    "duration": 71,
    "start_time": "2021-12-03T12:36:31.566Z"
   },
   {
    "duration": 70,
    "start_time": "2021-12-03T12:36:31.639Z"
   },
   {
    "duration": 4,
    "start_time": "2021-12-03T12:36:31.712Z"
   },
   {
    "duration": 49,
    "start_time": "2021-12-03T12:36:31.721Z"
   },
   {
    "duration": 222,
    "start_time": "2021-12-03T12:36:31.773Z"
   },
   {
    "duration": 32,
    "start_time": "2021-12-03T12:36:31.998Z"
   },
   {
    "duration": 59,
    "start_time": "2021-12-03T12:36:32.033Z"
   },
   {
    "duration": 47,
    "start_time": "2021-12-03T12:36:32.095Z"
   },
   {
    "duration": 39,
    "start_time": "2021-12-03T12:36:32.159Z"
   },
   {
    "duration": 181,
    "start_time": "2021-12-03T12:36:32.201Z"
   },
   {
    "duration": 28,
    "start_time": "2021-12-03T12:36:32.384Z"
   },
   {
    "duration": 53,
    "start_time": "2021-12-03T12:36:32.415Z"
   },
   {
    "duration": 37,
    "start_time": "2021-12-03T12:36:32.470Z"
   },
   {
    "duration": 37,
    "start_time": "2021-12-03T12:36:32.510Z"
   },
   {
    "duration": 29,
    "start_time": "2021-12-03T12:36:32.559Z"
   },
   {
    "duration": 23,
    "start_time": "2021-12-03T12:36:32.590Z"
   },
   {
    "duration": 12,
    "start_time": "2021-12-03T12:36:32.615Z"
   },
   {
    "duration": 53,
    "start_time": "2021-12-03T12:36:32.660Z"
   },
   {
    "duration": 13,
    "start_time": "2021-12-03T12:36:32.722Z"
   },
   {
    "duration": 49,
    "start_time": "2021-12-03T12:36:32.739Z"
   },
   {
    "duration": 42,
    "start_time": "2021-12-03T12:36:32.791Z"
   },
   {
    "duration": 26,
    "start_time": "2021-12-03T12:36:32.837Z"
   },
   {
    "duration": 48,
    "start_time": "2021-12-03T12:36:32.868Z"
   },
   {
    "duration": 12,
    "start_time": "2021-12-03T12:36:32.920Z"
   },
   {
    "duration": 25,
    "start_time": "2021-12-03T12:36:32.960Z"
   },
   {
    "duration": 21,
    "start_time": "2021-12-03T12:36:32.989Z"
   },
   {
    "duration": 8,
    "start_time": "2021-12-03T12:36:33.013Z"
   },
   {
    "duration": 64,
    "start_time": "2021-12-03T12:36:33.023Z"
   },
   {
    "duration": 40,
    "start_time": "2021-12-03T12:36:33.089Z"
   },
   {
    "duration": 61,
    "start_time": "2021-12-03T12:36:33.132Z"
   },
   {
    "duration": 39,
    "start_time": "2021-12-03T12:36:33.195Z"
   },
   {
    "duration": 625,
    "start_time": "2021-12-03T12:36:33.236Z"
   },
   {
    "duration": 28,
    "start_time": "2021-12-03T12:36:33.864Z"
   },
   {
    "duration": 15,
    "start_time": "2021-12-03T12:36:33.894Z"
   },
   {
    "duration": 53,
    "start_time": "2021-12-03T12:36:33.912Z"
   },
   {
    "duration": 1228,
    "start_time": "2021-12-03T12:36:33.967Z"
   },
   {
    "duration": 1130,
    "start_time": "2021-12-03T12:36:35.197Z"
   },
   {
    "duration": 56,
    "start_time": "2021-12-03T12:36:36.329Z"
   },
   {
    "duration": 844,
    "start_time": "2021-12-03T12:36:36.388Z"
   },
   {
    "duration": 27,
    "start_time": "2021-12-03T12:36:37.235Z"
   },
   {
    "duration": 31,
    "start_time": "2021-12-03T12:36:37.264Z"
   },
   {
    "duration": 17,
    "start_time": "2021-12-03T12:36:37.297Z"
   },
   {
    "duration": 65,
    "start_time": "2021-12-03T12:36:37.317Z"
   },
   {
    "duration": 555,
    "start_time": "2021-12-03T12:36:41.674Z"
   },
   {
    "duration": 456,
    "start_time": "2021-12-03T12:36:56.289Z"
   },
   {
    "duration": 293,
    "start_time": "2021-12-03T12:43:31.245Z"
   },
   {
    "duration": 59,
    "start_time": "2021-12-03T12:43:31.540Z"
   },
   {
    "duration": 21,
    "start_time": "2021-12-03T12:43:31.603Z"
   },
   {
    "duration": 45,
    "start_time": "2021-12-03T12:43:31.627Z"
   },
   {
    "duration": 64,
    "start_time": "2021-12-03T12:43:31.675Z"
   },
   {
    "duration": 59,
    "start_time": "2021-12-03T12:43:31.741Z"
   },
   {
    "duration": 3,
    "start_time": "2021-12-03T12:43:31.803Z"
   },
   {
    "duration": 20,
    "start_time": "2021-12-03T12:43:31.810Z"
   },
   {
    "duration": 229,
    "start_time": "2021-12-03T12:43:31.833Z"
   },
   {
    "duration": 36,
    "start_time": "2021-12-03T12:43:32.064Z"
   },
   {
    "duration": 24,
    "start_time": "2021-12-03T12:43:32.103Z"
   },
   {
    "duration": 77,
    "start_time": "2021-12-03T12:43:32.129Z"
   },
   {
    "duration": 60,
    "start_time": "2021-12-03T12:43:32.208Z"
   },
   {
    "duration": 140,
    "start_time": "2021-12-03T12:43:32.271Z"
   },
   {
    "duration": 27,
    "start_time": "2021-12-03T12:43:32.413Z"
   },
   {
    "duration": 33,
    "start_time": "2021-12-03T12:43:32.443Z"
   },
   {
    "duration": 22,
    "start_time": "2021-12-03T12:43:32.480Z"
   },
   {
    "duration": 70,
    "start_time": "2021-12-03T12:43:32.505Z"
   },
   {
    "duration": 23,
    "start_time": "2021-12-03T12:43:32.577Z"
   },
   {
    "duration": 22,
    "start_time": "2021-12-03T12:43:32.602Z"
   },
   {
    "duration": 45,
    "start_time": "2021-12-03T12:43:32.627Z"
   },
   {
    "duration": 48,
    "start_time": "2021-12-03T12:43:32.674Z"
   },
   {
    "duration": 10,
    "start_time": "2021-12-03T12:43:32.728Z"
   },
   {
    "duration": 40,
    "start_time": "2021-12-03T12:43:32.741Z"
   },
   {
    "duration": 31,
    "start_time": "2021-12-03T12:43:32.783Z"
   },
   {
    "duration": 9,
    "start_time": "2021-12-03T12:43:32.816Z"
   },
   {
    "duration": 68,
    "start_time": "2021-12-03T12:43:32.827Z"
   },
   {
    "duration": 11,
    "start_time": "2021-12-03T12:43:32.898Z"
   },
   {
    "duration": 18,
    "start_time": "2021-12-03T12:43:32.911Z"
   },
   {
    "duration": 19,
    "start_time": "2021-12-03T12:43:32.959Z"
   },
   {
    "duration": 7,
    "start_time": "2021-12-03T12:43:32.981Z"
   },
   {
    "duration": 29,
    "start_time": "2021-12-03T12:43:32.990Z"
   },
   {
    "duration": 73,
    "start_time": "2021-12-03T12:43:33.021Z"
   },
   {
    "duration": 33,
    "start_time": "2021-12-03T12:43:33.096Z"
   },
   {
    "duration": 72,
    "start_time": "2021-12-03T12:43:33.131Z"
   },
   {
    "duration": 337,
    "start_time": "2021-12-03T12:43:33.206Z"
   },
   {
    "duration": 32,
    "start_time": "2021-12-03T12:43:33.545Z"
   },
   {
    "duration": 13,
    "start_time": "2021-12-03T12:43:33.580Z"
   },
   {
    "duration": 11,
    "start_time": "2021-12-03T12:43:33.595Z"
   },
   {
    "duration": 1072,
    "start_time": "2021-12-03T12:43:33.609Z"
   },
   {
    "duration": 1176,
    "start_time": "2021-12-03T12:43:34.684Z"
   },
   {
    "duration": 46,
    "start_time": "2021-12-03T12:43:35.862Z"
   },
   {
    "duration": 797,
    "start_time": "2021-12-03T12:43:35.910Z"
   },
   {
    "duration": 14,
    "start_time": "2021-12-03T12:43:36.710Z"
   },
   {
    "duration": 44,
    "start_time": "2021-12-03T12:43:36.727Z"
   },
   {
    "duration": 16,
    "start_time": "2021-12-03T12:43:36.774Z"
   },
   {
    "duration": 31,
    "start_time": "2021-12-03T12:43:36.793Z"
   },
   {
    "duration": 384,
    "start_time": "2021-12-03T12:43:36.827Z"
   },
   {
    "duration": 4,
    "start_time": "2021-12-03T12:43:37.213Z"
   },
   {
    "duration": 461,
    "start_time": "2021-12-03T12:43:37.220Z"
   },
   {
    "duration": 5,
    "start_time": "2021-12-03T12:43:37.684Z"
   },
   {
    "duration": 11,
    "start_time": "2021-12-03T12:43:37.691Z"
   },
   {
    "duration": 22,
    "start_time": "2021-12-03T12:44:00.035Z"
   },
   {
    "duration": 15,
    "start_time": "2021-12-03T12:44:09.078Z"
   },
   {
    "duration": 16,
    "start_time": "2021-12-03T12:44:15.684Z"
   },
   {
    "duration": 373,
    "start_time": "2021-12-03T12:44:38.884Z"
   },
   {
    "duration": 351,
    "start_time": "2021-12-03T12:44:46.945Z"
   },
   {
    "duration": 40,
    "start_time": "2021-12-03T12:44:47.299Z"
   },
   {
    "duration": 30,
    "start_time": "2021-12-03T12:44:47.359Z"
   },
   {
    "duration": 13,
    "start_time": "2021-12-03T12:44:47.392Z"
   },
   {
    "duration": 92,
    "start_time": "2021-12-03T12:44:47.408Z"
   },
   {
    "duration": 59,
    "start_time": "2021-12-03T12:44:47.503Z"
   },
   {
    "duration": 10,
    "start_time": "2021-12-03T12:44:47.565Z"
   },
   {
    "duration": 19,
    "start_time": "2021-12-03T12:44:47.579Z"
   },
   {
    "duration": 218,
    "start_time": "2021-12-03T12:44:47.601Z"
   },
   {
    "duration": 45,
    "start_time": "2021-12-03T12:44:47.822Z"
   },
   {
    "duration": 28,
    "start_time": "2021-12-03T12:44:47.870Z"
   },
   {
    "duration": 74,
    "start_time": "2021-12-03T12:44:47.901Z"
   },
   {
    "duration": 34,
    "start_time": "2021-12-03T12:44:47.978Z"
   },
   {
    "duration": 151,
    "start_time": "2021-12-03T12:44:48.014Z"
   },
   {
    "duration": 31,
    "start_time": "2021-12-03T12:44:48.167Z"
   },
   {
    "duration": 17,
    "start_time": "2021-12-03T12:44:48.201Z"
   },
   {
    "duration": 55,
    "start_time": "2021-12-03T12:44:48.220Z"
   },
   {
    "duration": 34,
    "start_time": "2021-12-03T12:44:48.278Z"
   },
   {
    "duration": 61,
    "start_time": "2021-12-03T12:44:48.315Z"
   },
   {
    "duration": 22,
    "start_time": "2021-12-03T12:44:48.378Z"
   },
   {
    "duration": 12,
    "start_time": "2021-12-03T12:44:48.402Z"
   },
   {
    "duration": 62,
    "start_time": "2021-12-03T12:44:48.416Z"
   },
   {
    "duration": 10,
    "start_time": "2021-12-03T12:44:48.484Z"
   },
   {
    "duration": 34,
    "start_time": "2021-12-03T12:44:48.497Z"
   },
   {
    "duration": 54,
    "start_time": "2021-12-03T12:44:48.534Z"
   },
   {
    "duration": 8,
    "start_time": "2021-12-03T12:44:48.592Z"
   },
   {
    "duration": 84,
    "start_time": "2021-12-03T12:44:48.603Z"
   },
   {
    "duration": 10,
    "start_time": "2021-12-03T12:44:48.691Z"
   },
   {
    "duration": 14,
    "start_time": "2021-12-03T12:44:48.703Z"
   },
   {
    "duration": 50,
    "start_time": "2021-12-03T12:44:48.720Z"
   },
   {
    "duration": 8,
    "start_time": "2021-12-03T12:44:48.775Z"
   },
   {
    "duration": 45,
    "start_time": "2021-12-03T12:44:48.788Z"
   },
   {
    "duration": 48,
    "start_time": "2021-12-03T12:44:48.859Z"
   },
   {
    "duration": 60,
    "start_time": "2021-12-03T12:44:48.909Z"
   },
   {
    "duration": 43,
    "start_time": "2021-12-03T12:44:48.972Z"
   },
   {
    "duration": 361,
    "start_time": "2021-12-03T12:44:49.017Z"
   },
   {
    "duration": 21,
    "start_time": "2021-12-03T12:44:49.380Z"
   },
   {
    "duration": 14,
    "start_time": "2021-12-03T12:44:49.403Z"
   },
   {
    "duration": 43,
    "start_time": "2021-12-03T12:44:49.419Z"
   },
   {
    "duration": 1082,
    "start_time": "2021-12-03T12:44:49.468Z"
   },
   {
    "duration": 1166,
    "start_time": "2021-12-03T12:44:50.553Z"
   },
   {
    "duration": 55,
    "start_time": "2021-12-03T12:44:51.722Z"
   },
   {
    "duration": 825,
    "start_time": "2021-12-03T12:44:51.780Z"
   },
   {
    "duration": 13,
    "start_time": "2021-12-03T12:44:52.609Z"
   },
   {
    "duration": 52,
    "start_time": "2021-12-03T12:44:52.624Z"
   },
   {
    "duration": 13,
    "start_time": "2021-12-03T12:44:52.679Z"
   },
   {
    "duration": 30,
    "start_time": "2021-12-03T12:44:52.695Z"
   },
   {
    "duration": 380,
    "start_time": "2021-12-03T12:44:52.727Z"
   },
   {
    "duration": 4,
    "start_time": "2021-12-03T12:44:53.109Z"
   },
   {
    "duration": 470,
    "start_time": "2021-12-03T12:44:53.116Z"
   },
   {
    "duration": 4,
    "start_time": "2021-12-03T12:44:53.589Z"
   },
   {
    "duration": 11,
    "start_time": "2021-12-03T12:44:53.596Z"
   },
   {
    "duration": 59,
    "start_time": "2021-12-03T12:44:53.610Z"
   },
   {
    "duration": 20,
    "start_time": "2021-12-03T12:44:53.671Z"
   },
   {
    "duration": 21,
    "start_time": "2021-12-03T12:44:53.695Z"
   },
   {
    "duration": 46,
    "start_time": "2021-12-03T12:44:53.719Z"
   },
   {
    "duration": 4,
    "start_time": "2021-12-03T12:44:59.700Z"
   },
   {
    "duration": 18,
    "start_time": "2021-12-03T12:49:35.594Z"
   },
   {
    "duration": 16,
    "start_time": "2021-12-03T12:50:57.052Z"
   },
   {
    "duration": 4,
    "start_time": "2021-12-03T12:52:23.923Z"
   },
   {
    "duration": 12,
    "start_time": "2021-12-03T12:53:29.957Z"
   },
   {
    "duration": 41,
    "start_time": "2021-12-03T12:57:23.297Z"
   }
  ],
  "kernelspec": {
   "display_name": "Python 3 (ipykernel)",
   "language": "python",
   "name": "python3"
  },
  "language_info": {
   "codemirror_mode": {
    "name": "ipython",
    "version": 3
   },
   "file_extension": ".py",
   "mimetype": "text/x-python",
   "name": "python",
   "nbconvert_exporter": "python",
   "pygments_lexer": "ipython3",
   "version": "3.9.12"
  },
  "toc": {
   "base_numbering": 1,
   "nav_menu": {},
   "number_sections": true,
   "sideBar": true,
   "skip_h1_title": true,
   "title_cell": "Table of Contents",
   "title_sidebar": "Contents",
   "toc_cell": false,
   "toc_position": {
    "height": "calc(100% - 180px)",
    "left": "10px",
    "top": "150px",
    "width": "198px"
   },
   "toc_section_display": true,
   "toc_window_display": true
  }
 },
 "nbformat": 4,
 "nbformat_minor": 2
}
