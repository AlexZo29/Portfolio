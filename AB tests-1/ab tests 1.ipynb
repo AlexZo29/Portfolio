{
 "cells": [
  {
   "cell_type": "markdown",
   "metadata": {
    "toc": true
   },
   "source": [
    "<h1>Содержание<span class=\"tocSkip\"></span></h1>\n",
    "<div class=\"toc\"><ul class=\"toc-item\"><li><span><a href=\"#Постановка-задачи-\" data-toc-modified-id=\"Постановка-задачи--1\"><span class=\"toc-item-num\">1&nbsp;&nbsp;</span>Постановка задачи <a name=\"first\" rel=\"nofollow\"></a></a></span></li><li><span><a href=\"#Предобработка-данных-\" data-toc-modified-id=\"Предобработка-данных--2\"><span class=\"toc-item-num\">2&nbsp;&nbsp;</span>Предобработка данных <a name=\"second\" rel=\"nofollow\"></a></a></span></li><li><span><a href=\"#Проверка-данных-\" data-toc-modified-id=\"Проверка-данных--3\"><span class=\"toc-item-num\">3&nbsp;&nbsp;</span>Проверка данных <a name=\"third\" rel=\"nofollow\"></a></a></span></li><li><span><a href=\"#Воронка-событий-\" data-toc-modified-id=\"Воронка-событий--4\"><span class=\"toc-item-num\">4&nbsp;&nbsp;</span>Воронка событий <a name=\"fourth\" rel=\"nofollow\"></a></a></span></li><li><span><a href=\"#Проверка-гипотез-о-равенстве-долей-для-А/А-теста-и-А/В-теста-\" data-toc-modified-id=\"Проверка-гипотез-о-равенстве-долей-для-А/А-теста-и-А/В-теста--5\"><span class=\"toc-item-num\">5&nbsp;&nbsp;</span>Проверка гипотез о равенстве долей для А/А-теста и А/В-теста <a name=\"fifth\" rel=\"nofollow\"></a></a></span></li><li><span><a href=\"#Общие-выводы-\" data-toc-modified-id=\"Общие-выводы--6\"><span class=\"toc-item-num\">6&nbsp;&nbsp;</span>Общие выводы <a name=\"sixth\" rel=\"nofollow\"></a></a></span></li></ul></div>"
   ]
  },
  {
   "cell_type": "markdown",
   "metadata": {},
   "source": [
    "# Проект по А/В тестированию"
   ]
  },
  {
   "cell_type": "markdown",
   "metadata": {},
   "source": [
    "## Постановка задачи <a name=\"first\"></a>"
   ]
  },
  {
   "cell_type": "markdown",
   "metadata": {},
   "source": [
    "Стартап - мобильное приложение по продаже продуктов питания. Было внесено предложение об изменении шрифта в приложении, но прежде, чем внести изменения, необходимо определить повлияют ли эти изменения на поведение пользователей.  \n",
    "Пользователи были разделены на 3 группы: 2-контрольные (со старым шрифтом) и 1-экспериментальная (с новым шрифтом в приложении) для проведения А/А/В тестирования.\n",
    "\n",
    "**Задачи:**  \n",
    "1. Определить: сколько пользователей доходит до покупки \n",
    "2. Провести тестирование, исследовать результаты эксперимента и определить: оказывает ли изменение шрифта значимое влияние на поведение пользователей."
   ]
  },
  {
   "cell_type": "markdown",
   "metadata": {},
   "source": [
    "## Предобработка данных <a name=\"second\"></a>"
   ]
  },
  {
   "cell_type": "code",
   "execution_count": 39,
   "metadata": {},
   "outputs": [],
   "source": [
    "import pandas as pd\n",
    "from scipy import stats as st\n",
    "import datetime as dt\n",
    "import numpy as np\n",
    "import math as mth\n",
    "import seaborn as sns\n",
    "import matplotlib.pyplot as plt\n",
    "import plotly.express as px \n",
    "import plotly.graph_objs as go"
   ]
  },
  {
   "cell_type": "code",
   "execution_count": 40,
   "metadata": {},
   "outputs": [
    {
     "data": {
      "text/html": [
       "<div>\n",
       "<style scoped>\n",
       "    .dataframe tbody tr th:only-of-type {\n",
       "        vertical-align: middle;\n",
       "    }\n",
       "\n",
       "    .dataframe tbody tr th {\n",
       "        vertical-align: top;\n",
       "    }\n",
       "\n",
       "    .dataframe thead th {\n",
       "        text-align: right;\n",
       "    }\n",
       "</style>\n",
       "<table border=\"1\" class=\"dataframe\">\n",
       "  <thead>\n",
       "    <tr style=\"text-align: right;\">\n",
       "      <th></th>\n",
       "      <th>EventName</th>\n",
       "      <th>DeviceIDHash</th>\n",
       "      <th>EventTimestamp</th>\n",
       "      <th>ExpId</th>\n",
       "    </tr>\n",
       "  </thead>\n",
       "  <tbody>\n",
       "    <tr>\n",
       "      <th>0</th>\n",
       "      <td>MainScreenAppear</td>\n",
       "      <td>4575588528974610257</td>\n",
       "      <td>1564029816</td>\n",
       "      <td>246</td>\n",
       "    </tr>\n",
       "    <tr>\n",
       "      <th>1</th>\n",
       "      <td>MainScreenAppear</td>\n",
       "      <td>7416695313311560658</td>\n",
       "      <td>1564053102</td>\n",
       "      <td>246</td>\n",
       "    </tr>\n",
       "    <tr>\n",
       "      <th>2</th>\n",
       "      <td>PaymentScreenSuccessful</td>\n",
       "      <td>3518123091307005509</td>\n",
       "      <td>1564054127</td>\n",
       "      <td>248</td>\n",
       "    </tr>\n",
       "    <tr>\n",
       "      <th>3</th>\n",
       "      <td>CartScreenAppear</td>\n",
       "      <td>3518123091307005509</td>\n",
       "      <td>1564054127</td>\n",
       "      <td>248</td>\n",
       "    </tr>\n",
       "    <tr>\n",
       "      <th>4</th>\n",
       "      <td>PaymentScreenSuccessful</td>\n",
       "      <td>6217807653094995999</td>\n",
       "      <td>1564055322</td>\n",
       "      <td>248</td>\n",
       "    </tr>\n",
       "  </tbody>\n",
       "</table>\n",
       "</div>"
      ],
      "text/plain": [
       "                 EventName         DeviceIDHash  EventTimestamp  ExpId\n",
       "0         MainScreenAppear  4575588528974610257      1564029816    246\n",
       "1         MainScreenAppear  7416695313311560658      1564053102    246\n",
       "2  PaymentScreenSuccessful  3518123091307005509      1564054127    248\n",
       "3         CartScreenAppear  3518123091307005509      1564054127    248\n",
       "4  PaymentScreenSuccessful  6217807653094995999      1564055322    248"
      ]
     },
     "execution_count": 40,
     "metadata": {},
     "output_type": "execute_result"
    }
   ],
   "source": [
    "#Прочитаем датасет:\n",
    "try:\n",
    "    logs = pd.read_csv('/datasets/logs_exp.csv', sep='\\t')\n",
    "except:\n",
    "    logs = pd.read_csv('C:/Users/antig/Downloads/Яндекс Практикум/logs_exp.csv', sep='\\t')\n",
    "logs.head()"
   ]
  },
  {
   "cell_type": "code",
   "execution_count": 41,
   "metadata": {
    "scrolled": true
   },
   "outputs": [
    {
     "data": {
      "text/html": [
       "<div>\n",
       "<style scoped>\n",
       "    .dataframe tbody tr th:only-of-type {\n",
       "        vertical-align: middle;\n",
       "    }\n",
       "\n",
       "    .dataframe tbody tr th {\n",
       "        vertical-align: top;\n",
       "    }\n",
       "\n",
       "    .dataframe thead th {\n",
       "        text-align: right;\n",
       "    }\n",
       "</style>\n",
       "<table border=\"1\" class=\"dataframe\">\n",
       "  <thead>\n",
       "    <tr style=\"text-align: right;\">\n",
       "      <th></th>\n",
       "      <th>event_name</th>\n",
       "      <th>user_id</th>\n",
       "      <th>event_timestamp</th>\n",
       "      <th>exp_id</th>\n",
       "    </tr>\n",
       "  </thead>\n",
       "  <tbody>\n",
       "    <tr>\n",
       "      <th>0</th>\n",
       "      <td>MainScreenAppear</td>\n",
       "      <td>4575588528974610257</td>\n",
       "      <td>1564029816</td>\n",
       "      <td>246</td>\n",
       "    </tr>\n",
       "    <tr>\n",
       "      <th>1</th>\n",
       "      <td>MainScreenAppear</td>\n",
       "      <td>7416695313311560658</td>\n",
       "      <td>1564053102</td>\n",
       "      <td>246</td>\n",
       "    </tr>\n",
       "    <tr>\n",
       "      <th>2</th>\n",
       "      <td>PaymentScreenSuccessful</td>\n",
       "      <td>3518123091307005509</td>\n",
       "      <td>1564054127</td>\n",
       "      <td>248</td>\n",
       "    </tr>\n",
       "    <tr>\n",
       "      <th>3</th>\n",
       "      <td>CartScreenAppear</td>\n",
       "      <td>3518123091307005509</td>\n",
       "      <td>1564054127</td>\n",
       "      <td>248</td>\n",
       "    </tr>\n",
       "    <tr>\n",
       "      <th>4</th>\n",
       "      <td>PaymentScreenSuccessful</td>\n",
       "      <td>6217807653094995999</td>\n",
       "      <td>1564055322</td>\n",
       "      <td>248</td>\n",
       "    </tr>\n",
       "  </tbody>\n",
       "</table>\n",
       "</div>"
      ],
      "text/plain": [
       "                event_name              user_id  event_timestamp  exp_id\n",
       "0         MainScreenAppear  4575588528974610257       1564029816     246\n",
       "1         MainScreenAppear  7416695313311560658       1564053102     246\n",
       "2  PaymentScreenSuccessful  3518123091307005509       1564054127     248\n",
       "3         CartScreenAppear  3518123091307005509       1564054127     248\n",
       "4  PaymentScreenSuccessful  6217807653094995999       1564055322     248"
      ]
     },
     "execution_count": 41,
     "metadata": {},
     "output_type": "execute_result"
    }
   ],
   "source": [
    "#Переименуем названия столбцов:\n",
    "logs = logs.rename(columns={'EventName': 'event_name', 'DeviceIDHash': 'user_id',\n",
    "                    'EventTimestamp': 'event_timestamp', 'ExpId': 'exp_id'})\n",
    "logs.head()"
   ]
  },
  {
   "cell_type": "code",
   "execution_count": 42,
   "metadata": {
    "scrolled": false
   },
   "outputs": [
    {
     "name": "stdout",
     "output_type": "stream",
     "text": [
      "<class 'pandas.core.frame.DataFrame'>\n",
      "RangeIndex: 244126 entries, 0 to 244125\n",
      "Data columns (total 4 columns):\n",
      " #   Column           Non-Null Count   Dtype \n",
      "---  ------           --------------   ----- \n",
      " 0   event_name       244126 non-null  object\n",
      " 1   user_id          244126 non-null  int64 \n",
      " 2   event_timestamp  244126 non-null  int64 \n",
      " 3   exp_id           244126 non-null  int64 \n",
      "dtypes: int64(3), object(1)\n",
      "memory usage: 7.5+ MB\n"
     ]
    }
   ],
   "source": [
    "#Общая информация о датасете:\n",
    "logs.info()"
   ]
  },
  {
   "cell_type": "code",
   "execution_count": 43,
   "metadata": {
    "scrolled": false
   },
   "outputs": [
    {
     "data": {
      "text/html": [
       "<div>\n",
       "<style scoped>\n",
       "    .dataframe tbody tr th:only-of-type {\n",
       "        vertical-align: middle;\n",
       "    }\n",
       "\n",
       "    .dataframe tbody tr th {\n",
       "        vertical-align: top;\n",
       "    }\n",
       "\n",
       "    .dataframe thead th {\n",
       "        text-align: right;\n",
       "    }\n",
       "</style>\n",
       "<table border=\"1\" class=\"dataframe\">\n",
       "  <thead>\n",
       "    <tr style=\"text-align: right;\">\n",
       "      <th></th>\n",
       "      <th>event_name</th>\n",
       "      <th>user_id</th>\n",
       "      <th>event_timestamp</th>\n",
       "      <th>exp_id</th>\n",
       "      <th>datetime</th>\n",
       "    </tr>\n",
       "  </thead>\n",
       "  <tbody>\n",
       "    <tr>\n",
       "      <th>0</th>\n",
       "      <td>MainScreenAppear</td>\n",
       "      <td>4575588528974610257</td>\n",
       "      <td>1564029816</td>\n",
       "      <td>246</td>\n",
       "      <td>2019-07-25 04:43:36</td>\n",
       "    </tr>\n",
       "    <tr>\n",
       "      <th>1</th>\n",
       "      <td>MainScreenAppear</td>\n",
       "      <td>7416695313311560658</td>\n",
       "      <td>1564053102</td>\n",
       "      <td>246</td>\n",
       "      <td>2019-07-25 11:11:42</td>\n",
       "    </tr>\n",
       "    <tr>\n",
       "      <th>2</th>\n",
       "      <td>PaymentScreenSuccessful</td>\n",
       "      <td>3518123091307005509</td>\n",
       "      <td>1564054127</td>\n",
       "      <td>248</td>\n",
       "      <td>2019-07-25 11:28:47</td>\n",
       "    </tr>\n",
       "    <tr>\n",
       "      <th>3</th>\n",
       "      <td>CartScreenAppear</td>\n",
       "      <td>3518123091307005509</td>\n",
       "      <td>1564054127</td>\n",
       "      <td>248</td>\n",
       "      <td>2019-07-25 11:28:47</td>\n",
       "    </tr>\n",
       "    <tr>\n",
       "      <th>4</th>\n",
       "      <td>PaymentScreenSuccessful</td>\n",
       "      <td>6217807653094995999</td>\n",
       "      <td>1564055322</td>\n",
       "      <td>248</td>\n",
       "      <td>2019-07-25 11:48:42</td>\n",
       "    </tr>\n",
       "  </tbody>\n",
       "</table>\n",
       "</div>"
      ],
      "text/plain": [
       "                event_name              user_id  event_timestamp  exp_id  \\\n",
       "0         MainScreenAppear  4575588528974610257       1564029816     246   \n",
       "1         MainScreenAppear  7416695313311560658       1564053102     246   \n",
       "2  PaymentScreenSuccessful  3518123091307005509       1564054127     248   \n",
       "3         CartScreenAppear  3518123091307005509       1564054127     248   \n",
       "4  PaymentScreenSuccessful  6217807653094995999       1564055322     248   \n",
       "\n",
       "             datetime  \n",
       "0 2019-07-25 04:43:36  \n",
       "1 2019-07-25 11:11:42  \n",
       "2 2019-07-25 11:28:47  \n",
       "3 2019-07-25 11:28:47  \n",
       "4 2019-07-25 11:48:42  "
      ]
     },
     "execution_count": 43,
     "metadata": {},
     "output_type": "execute_result"
    }
   ],
   "source": [
    "#Извлечем дату и время:\n",
    "logs['datetime'] = pd.to_datetime(logs['event_timestamp'], unit='s')\n",
    "logs.head()"
   ]
  },
  {
   "cell_type": "code",
   "execution_count": 44,
   "metadata": {
    "scrolled": false
   },
   "outputs": [
    {
     "data": {
      "text/html": [
       "<div>\n",
       "<style scoped>\n",
       "    .dataframe tbody tr th:only-of-type {\n",
       "        vertical-align: middle;\n",
       "    }\n",
       "\n",
       "    .dataframe tbody tr th {\n",
       "        vertical-align: top;\n",
       "    }\n",
       "\n",
       "    .dataframe thead th {\n",
       "        text-align: right;\n",
       "    }\n",
       "</style>\n",
       "<table border=\"1\" class=\"dataframe\">\n",
       "  <thead>\n",
       "    <tr style=\"text-align: right;\">\n",
       "      <th></th>\n",
       "      <th>event_name</th>\n",
       "      <th>user_id</th>\n",
       "      <th>event_timestamp</th>\n",
       "      <th>exp_id</th>\n",
       "      <th>datetime</th>\n",
       "      <th>date</th>\n",
       "    </tr>\n",
       "  </thead>\n",
       "  <tbody>\n",
       "    <tr>\n",
       "      <th>0</th>\n",
       "      <td>MainScreenAppear</td>\n",
       "      <td>4575588528974610257</td>\n",
       "      <td>1564029816</td>\n",
       "      <td>246</td>\n",
       "      <td>2019-07-25 04:43:36</td>\n",
       "      <td>2019-07-25</td>\n",
       "    </tr>\n",
       "    <tr>\n",
       "      <th>1</th>\n",
       "      <td>MainScreenAppear</td>\n",
       "      <td>7416695313311560658</td>\n",
       "      <td>1564053102</td>\n",
       "      <td>246</td>\n",
       "      <td>2019-07-25 11:11:42</td>\n",
       "      <td>2019-07-25</td>\n",
       "    </tr>\n",
       "    <tr>\n",
       "      <th>2</th>\n",
       "      <td>PaymentScreenSuccessful</td>\n",
       "      <td>3518123091307005509</td>\n",
       "      <td>1564054127</td>\n",
       "      <td>248</td>\n",
       "      <td>2019-07-25 11:28:47</td>\n",
       "      <td>2019-07-25</td>\n",
       "    </tr>\n",
       "    <tr>\n",
       "      <th>3</th>\n",
       "      <td>CartScreenAppear</td>\n",
       "      <td>3518123091307005509</td>\n",
       "      <td>1564054127</td>\n",
       "      <td>248</td>\n",
       "      <td>2019-07-25 11:28:47</td>\n",
       "      <td>2019-07-25</td>\n",
       "    </tr>\n",
       "    <tr>\n",
       "      <th>4</th>\n",
       "      <td>PaymentScreenSuccessful</td>\n",
       "      <td>6217807653094995999</td>\n",
       "      <td>1564055322</td>\n",
       "      <td>248</td>\n",
       "      <td>2019-07-25 11:48:42</td>\n",
       "      <td>2019-07-25</td>\n",
       "    </tr>\n",
       "  </tbody>\n",
       "</table>\n",
       "</div>"
      ],
      "text/plain": [
       "                event_name              user_id  event_timestamp  exp_id  \\\n",
       "0         MainScreenAppear  4575588528974610257       1564029816     246   \n",
       "1         MainScreenAppear  7416695313311560658       1564053102     246   \n",
       "2  PaymentScreenSuccessful  3518123091307005509       1564054127     248   \n",
       "3         CartScreenAppear  3518123091307005509       1564054127     248   \n",
       "4  PaymentScreenSuccessful  6217807653094995999       1564055322     248   \n",
       "\n",
       "             datetime       date  \n",
       "0 2019-07-25 04:43:36 2019-07-25  \n",
       "1 2019-07-25 11:11:42 2019-07-25  \n",
       "2 2019-07-25 11:28:47 2019-07-25  \n",
       "3 2019-07-25 11:28:47 2019-07-25  \n",
       "4 2019-07-25 11:48:42 2019-07-25  "
      ]
     },
     "execution_count": 44,
     "metadata": {},
     "output_type": "execute_result"
    }
   ],
   "source": [
    "#Извлечем дату в отдельный столбец:\n",
    "logs['date'] = logs['datetime'].dt.date\n",
    "logs['date'] = pd.to_datetime(logs['date'])\n",
    "logs.head()"
   ]
  },
  {
   "cell_type": "code",
   "execution_count": 45,
   "metadata": {
    "scrolled": true
   },
   "outputs": [
    {
     "data": {
      "text/plain": [
       "event_name         0\n",
       "user_id            0\n",
       "event_timestamp    0\n",
       "exp_id             0\n",
       "datetime           0\n",
       "date               0\n",
       "dtype: int64"
      ]
     },
     "execution_count": 45,
     "metadata": {},
     "output_type": "execute_result"
    }
   ],
   "source": [
    "#Проверим количество пропусков данных:\n",
    "logs.isna().sum()"
   ]
  },
  {
   "cell_type": "code",
   "execution_count": 46,
   "metadata": {
    "scrolled": true
   },
   "outputs": [
    {
     "data": {
      "text/plain": [
       "413"
      ]
     },
     "execution_count": 46,
     "metadata": {},
     "output_type": "execute_result"
    }
   ],
   "source": [
    "#Определим количество явных дубликатов:\n",
    "logs.duplicated().sum()"
   ]
  },
  {
   "cell_type": "code",
   "execution_count": 47,
   "metadata": {
    "scrolled": true
   },
   "outputs": [
    {
     "data": {
      "text/html": [
       "<div>\n",
       "<style scoped>\n",
       "    .dataframe tbody tr th:only-of-type {\n",
       "        vertical-align: middle;\n",
       "    }\n",
       "\n",
       "    .dataframe tbody tr th {\n",
       "        vertical-align: top;\n",
       "    }\n",
       "\n",
       "    .dataframe thead th {\n",
       "        text-align: right;\n",
       "    }\n",
       "</style>\n",
       "<table border=\"1\" class=\"dataframe\">\n",
       "  <thead>\n",
       "    <tr style=\"text-align: right;\">\n",
       "      <th></th>\n",
       "      <th>event_name</th>\n",
       "      <th>user_id</th>\n",
       "      <th>event_timestamp</th>\n",
       "      <th>exp_id</th>\n",
       "      <th>datetime</th>\n",
       "      <th>date</th>\n",
       "    </tr>\n",
       "  </thead>\n",
       "  <tbody>\n",
       "    <tr>\n",
       "      <th>0</th>\n",
       "      <td>MainScreenAppear</td>\n",
       "      <td>4575588528974610257</td>\n",
       "      <td>1564029816</td>\n",
       "      <td>246</td>\n",
       "      <td>2019-07-25 04:43:36</td>\n",
       "      <td>2019-07-25</td>\n",
       "    </tr>\n",
       "    <tr>\n",
       "      <th>1</th>\n",
       "      <td>MainScreenAppear</td>\n",
       "      <td>7416695313311560658</td>\n",
       "      <td>1564053102</td>\n",
       "      <td>246</td>\n",
       "      <td>2019-07-25 11:11:42</td>\n",
       "      <td>2019-07-25</td>\n",
       "    </tr>\n",
       "    <tr>\n",
       "      <th>2</th>\n",
       "      <td>PaymentScreenSuccessful</td>\n",
       "      <td>3518123091307005509</td>\n",
       "      <td>1564054127</td>\n",
       "      <td>248</td>\n",
       "      <td>2019-07-25 11:28:47</td>\n",
       "      <td>2019-07-25</td>\n",
       "    </tr>\n",
       "    <tr>\n",
       "      <th>3</th>\n",
       "      <td>CartScreenAppear</td>\n",
       "      <td>3518123091307005509</td>\n",
       "      <td>1564054127</td>\n",
       "      <td>248</td>\n",
       "      <td>2019-07-25 11:28:47</td>\n",
       "      <td>2019-07-25</td>\n",
       "    </tr>\n",
       "    <tr>\n",
       "      <th>4</th>\n",
       "      <td>PaymentScreenSuccessful</td>\n",
       "      <td>6217807653094995999</td>\n",
       "      <td>1564055322</td>\n",
       "      <td>248</td>\n",
       "      <td>2019-07-25 11:48:42</td>\n",
       "      <td>2019-07-25</td>\n",
       "    </tr>\n",
       "    <tr>\n",
       "      <th>...</th>\n",
       "      <td>...</td>\n",
       "      <td>...</td>\n",
       "      <td>...</td>\n",
       "      <td>...</td>\n",
       "      <td>...</td>\n",
       "      <td>...</td>\n",
       "    </tr>\n",
       "    <tr>\n",
       "      <th>243708</th>\n",
       "      <td>MainScreenAppear</td>\n",
       "      <td>4599628364049201812</td>\n",
       "      <td>1565212345</td>\n",
       "      <td>247</td>\n",
       "      <td>2019-08-07 21:12:25</td>\n",
       "      <td>2019-08-07</td>\n",
       "    </tr>\n",
       "    <tr>\n",
       "      <th>243709</th>\n",
       "      <td>MainScreenAppear</td>\n",
       "      <td>5849806612437486590</td>\n",
       "      <td>1565212439</td>\n",
       "      <td>246</td>\n",
       "      <td>2019-08-07 21:13:59</td>\n",
       "      <td>2019-08-07</td>\n",
       "    </tr>\n",
       "    <tr>\n",
       "      <th>243710</th>\n",
       "      <td>MainScreenAppear</td>\n",
       "      <td>5746969938801999050</td>\n",
       "      <td>1565212483</td>\n",
       "      <td>246</td>\n",
       "      <td>2019-08-07 21:14:43</td>\n",
       "      <td>2019-08-07</td>\n",
       "    </tr>\n",
       "    <tr>\n",
       "      <th>243711</th>\n",
       "      <td>MainScreenAppear</td>\n",
       "      <td>5746969938801999050</td>\n",
       "      <td>1565212498</td>\n",
       "      <td>246</td>\n",
       "      <td>2019-08-07 21:14:58</td>\n",
       "      <td>2019-08-07</td>\n",
       "    </tr>\n",
       "    <tr>\n",
       "      <th>243712</th>\n",
       "      <td>OffersScreenAppear</td>\n",
       "      <td>5746969938801999050</td>\n",
       "      <td>1565212517</td>\n",
       "      <td>246</td>\n",
       "      <td>2019-08-07 21:15:17</td>\n",
       "      <td>2019-08-07</td>\n",
       "    </tr>\n",
       "  </tbody>\n",
       "</table>\n",
       "<p>243713 rows × 6 columns</p>\n",
       "</div>"
      ],
      "text/plain": [
       "                     event_name              user_id  event_timestamp  exp_id  \\\n",
       "0              MainScreenAppear  4575588528974610257       1564029816     246   \n",
       "1              MainScreenAppear  7416695313311560658       1564053102     246   \n",
       "2       PaymentScreenSuccessful  3518123091307005509       1564054127     248   \n",
       "3              CartScreenAppear  3518123091307005509       1564054127     248   \n",
       "4       PaymentScreenSuccessful  6217807653094995999       1564055322     248   \n",
       "...                         ...                  ...              ...     ...   \n",
       "243708         MainScreenAppear  4599628364049201812       1565212345     247   \n",
       "243709         MainScreenAppear  5849806612437486590       1565212439     246   \n",
       "243710         MainScreenAppear  5746969938801999050       1565212483     246   \n",
       "243711         MainScreenAppear  5746969938801999050       1565212498     246   \n",
       "243712       OffersScreenAppear  5746969938801999050       1565212517     246   \n",
       "\n",
       "                  datetime       date  \n",
       "0      2019-07-25 04:43:36 2019-07-25  \n",
       "1      2019-07-25 11:11:42 2019-07-25  \n",
       "2      2019-07-25 11:28:47 2019-07-25  \n",
       "3      2019-07-25 11:28:47 2019-07-25  \n",
       "4      2019-07-25 11:48:42 2019-07-25  \n",
       "...                    ...        ...  \n",
       "243708 2019-08-07 21:12:25 2019-08-07  \n",
       "243709 2019-08-07 21:13:59 2019-08-07  \n",
       "243710 2019-08-07 21:14:43 2019-08-07  \n",
       "243711 2019-08-07 21:14:58 2019-08-07  \n",
       "243712 2019-08-07 21:15:17 2019-08-07  \n",
       "\n",
       "[243713 rows x 6 columns]"
      ]
     },
     "execution_count": 47,
     "metadata": {},
     "output_type": "execute_result"
    }
   ],
   "source": [
    "logs.drop_duplicates(inplace=True)\n",
    "logs.reset_index(drop=True)"
   ]
  },
  {
   "cell_type": "code",
   "execution_count": 48,
   "metadata": {
    "scrolled": true
   },
   "outputs": [
    {
     "data": {
      "text/plain": [
       "(243713, 6)"
      ]
     },
     "execution_count": 48,
     "metadata": {},
     "output_type": "execute_result"
    }
   ],
   "source": [
    "logs.shape"
   ]
  },
  {
   "cell_type": "code",
   "execution_count": 49,
   "metadata": {
    "scrolled": true
   },
   "outputs": [
    {
     "name": "stdout",
     "output_type": "stream",
     "text": [
      "<class 'pandas.core.frame.DataFrame'>\n",
      "Int64Index: 243713 entries, 0 to 244125\n",
      "Data columns (total 6 columns):\n",
      " #   Column           Non-Null Count   Dtype         \n",
      "---  ------           --------------   -----         \n",
      " 0   event_name       243713 non-null  object        \n",
      " 1   user_id          243713 non-null  int64         \n",
      " 2   event_timestamp  243713 non-null  int64         \n",
      " 3   exp_id           243713 non-null  int64         \n",
      " 4   datetime         243713 non-null  datetime64[ns]\n",
      " 5   date             243713 non-null  datetime64[ns]\n",
      "dtypes: datetime64[ns](2), int64(3), object(1)\n",
      "memory usage: 13.0+ MB\n"
     ]
    }
   ],
   "source": [
    "logs.info()"
   ]
  },
  {
   "cell_type": "markdown",
   "metadata": {},
   "source": [
    "**Вывод:**    \n",
    "Датасет содержит 6 столбцов и 243 713 строк.\n",
    "Данные очищены от дубликатов, не имеют пропусков, типы данных в каждом столбце правильные, названия столбцов приведены к нижнему регистру, с разделением слов в названии с помощью знака подчеркивания.\n",
    " В таком виде датасет готов к дальнейшей работе."
   ]
  },
  {
   "cell_type": "markdown",
   "metadata": {},
   "source": [
    "## Проверка данных <a name=\"third\"></a>"
   ]
  },
  {
   "cell_type": "code",
   "execution_count": 50,
   "metadata": {
    "scrolled": false
   },
   "outputs": [
    {
     "name": "stdout",
     "output_type": "stream",
     "text": [
      "Количество событий в логе: 243713\n"
     ]
    }
   ],
   "source": [
    "#Определим количество событий в логе:\n",
    "events_quantity = logs['event_name'].count()\n",
    "print('Количество событий в логе:', events_quantity)"
   ]
  },
  {
   "cell_type": "code",
   "execution_count": 51,
   "metadata": {
    "scrolled": true
   },
   "outputs": [
    {
     "name": "stdout",
     "output_type": "stream",
     "text": [
      "Количество пользователей в логе: 7551\n"
     ]
    }
   ],
   "source": [
    "#Определим количество пользователей в логе:\n",
    "users = logs['user_id'].nunique()\n",
    "print('Количество пользователей в логе:', users)"
   ]
  },
  {
   "cell_type": "code",
   "execution_count": 52,
   "metadata": {},
   "outputs": [
    {
     "name": "stdout",
     "output_type": "stream",
     "text": [
      "Среднее количество событий на пользователя: 32.27559263673685\n"
     ]
    }
   ],
   "source": [
    "#Определим сколько событий приходится на одного пользователя в среднем:\n",
    "logs1 = logs.groupby('user_id')['exp_id'].count().reset_index()\n",
    "logs1 =logs1.rename(columns={'exp_id':'exp_qty'})\n",
    "exp_mean = logs1['exp_qty'].mean()\n",
    "print('Среднее количество событий на пользователя:', exp_mean)"
   ]
  },
  {
   "cell_type": "code",
   "execution_count": 53,
   "metadata": {},
   "outputs": [
    {
     "data": {
      "text/plain": [
       "Timestamp('2019-08-07 00:00:00')"
      ]
     },
     "execution_count": 53,
     "metadata": {},
     "output_type": "execute_result"
    }
   ],
   "source": [
    "#Определим максимальную дату проведения эксперимента:\n",
    "logs['date'].max()"
   ]
  },
  {
   "cell_type": "code",
   "execution_count": 54,
   "metadata": {},
   "outputs": [
    {
     "data": {
      "text/plain": [
       "Timestamp('2019-07-25 00:00:00')"
      ]
     },
     "execution_count": 54,
     "metadata": {},
     "output_type": "execute_result"
    }
   ],
   "source": [
    "#Определим минимальную дату проведения эксперимента:\n",
    "logs['date'].min()"
   ]
  },
  {
   "cell_type": "code",
   "execution_count": 55,
   "metadata": {
    "scrolled": false
   },
   "outputs": [
    {
     "data": {
      "image/png": "[encoded data removed]",
      "text/plain": [
       "<Figure size 864x504 with 1 Axes>"
      ]
     },
     "metadata": {
      "needs_background": "light"
     },
     "output_type": "display_data"
    }
   ],
   "source": [
    "#Построим гистограмму частот распределения событий по датам:\n",
    "from pandas.plotting import register_matplotlib_converters\n",
    "register_matplotlib_converters()\n",
    "plt.figure(figsize=(12, 7))\n",
    "logs['datetime'].hist(bins=20)\n",
    "plt.xticks(rotation=30)\n",
    "plt.xlabel('Даты событий')\n",
    "plt.ylabel('Количество событий в выбранную дату, шт')\n",
    "plt.title('Распределение частоты событий в зависимости от даты')\n",
    "plt.show()"
   ]
  },
  {
   "cell_type": "code",
   "execution_count": 56,
   "metadata": {
    "scrolled": true
   },
   "outputs": [
    {
     "data": {
      "text/plain": [
       "(240887, 6)"
      ]
     },
     "execution_count": 56,
     "metadata": {},
     "output_type": "execute_result"
    }
   ],
   "source": [
    "#Удалим неактуальный период времени:\n",
    "logs_new = logs[(logs['date'] > '2019-07-31') & (logs['date'] <= '2019-08-07')]\n",
    "logs_new.shape"
   ]
  },
  {
   "cell_type": "code",
   "execution_count": 57,
   "metadata": {},
   "outputs": [
    {
     "data": {
      "image/png": "[encoded data removed]",
      "text/plain": [
       "<Figure size 864x504 with 1 Axes>"
      ]
     },
     "metadata": {
      "needs_background": "light"
     },
     "output_type": "display_data"
    }
   ],
   "source": [
    "#Построим новую гистограмму после изменения периода:\n",
    "plt.figure(figsize=(12, 7))\n",
    "logs_new['datetime'].hist(bins=20)\n",
    "plt.xticks(rotation=30)\n",
    "plt.xlabel('Даты событий')\n",
    "plt.ylabel('Количество событий в выбранную дату, шт')\n",
    "plt.title('Распределение частоты событий в зависимости от даты')\n",
    "plt.show()"
   ]
  },
  {
   "cell_type": "code",
   "execution_count": 58,
   "metadata": {
    "scrolled": true
   },
   "outputs": [
    {
     "name": "stdout",
     "output_type": "stream",
     "text": [
      "Количество пользователей в логе: 7534\n"
     ]
    }
   ],
   "source": [
    "#Определим количество пользователей в логе после удаления неактуального периода:\n",
    "users_new = logs_new['user_id'].nunique()\n",
    "print('Количество пользователей в логе:', users_new)"
   ]
  },
  {
   "cell_type": "markdown",
   "metadata": {},
   "source": [
    "После обработки мы \"потеряли\" 17 пользователей- это 0,22% от общего числа пользователей."
   ]
  },
  {
   "cell_type": "code",
   "execution_count": 59,
   "metadata": {
    "scrolled": true
   },
   "outputs": [
    {
     "name": "stdout",
     "output_type": "stream",
     "text": [
      "Количество удаленных событий после среза: 2826\n",
      "Процент удаленных неактуальных событий после обработки 1.160\n"
     ]
    }
   ],
   "source": [
    "percent_after = (243713 - 240887)/243713 * 100\n",
    "print('Количество удаленных событий после среза:', (243713 - 240887))\n",
    "print('Процент удаленных неактуальных событий после обработки', '{0:.3f}'.format(percent_after))"
   ]
  },
  {
   "cell_type": "code",
   "execution_count": 60,
   "metadata": {},
   "outputs": [
    {
     "data": {
      "text/html": [
       "<div>\n",
       "<style scoped>\n",
       "    .dataframe tbody tr th:only-of-type {\n",
       "        vertical-align: middle;\n",
       "    }\n",
       "\n",
       "    .dataframe tbody tr th {\n",
       "        vertical-align: top;\n",
       "    }\n",
       "\n",
       "    .dataframe thead th {\n",
       "        text-align: right;\n",
       "    }\n",
       "</style>\n",
       "<table border=\"1\" class=\"dataframe\">\n",
       "  <thead>\n",
       "    <tr style=\"text-align: right;\">\n",
       "      <th></th>\n",
       "      <th>exp_id</th>\n",
       "      <th>users_number</th>\n",
       "    </tr>\n",
       "  </thead>\n",
       "  <tbody>\n",
       "    <tr>\n",
       "      <th>0</th>\n",
       "      <td>246</td>\n",
       "      <td>2484</td>\n",
       "    </tr>\n",
       "    <tr>\n",
       "      <th>1</th>\n",
       "      <td>247</td>\n",
       "      <td>2513</td>\n",
       "    </tr>\n",
       "    <tr>\n",
       "      <th>2</th>\n",
       "      <td>248</td>\n",
       "      <td>2537</td>\n",
       "    </tr>\n",
       "  </tbody>\n",
       "</table>\n",
       "</div>"
      ],
      "text/plain": [
       "   exp_id  users_number\n",
       "0     246          2484\n",
       "1     247          2513\n",
       "2     248          2537"
      ]
     },
     "execution_count": 60,
     "metadata": {},
     "output_type": "execute_result"
    }
   ],
   "source": [
    "#Проверим, во всех ли трех группах у нас присутствует равное или близкое к равному количество пользователей:\n",
    "users_bygroup = logs_new.groupby('exp_id').agg(users_number=('user_id', 'nunique')).reset_index()\n",
    "users_bygroup"
   ]
  },
  {
   "cell_type": "markdown",
   "metadata": {},
   "source": [
    "**Вывод:**  \n",
    "1. В датасете содержатся события с 25.07.2019 по 08.08.2019  \n",
    "2. Данные с 25.07.2019 по 31.07.2019 являются неактуальными, их количество является незначительным для эксперимента  \n",
    "составляет 1.16%, поэтому их можно удалить.  \n",
    "3. После удаления неактуального периода, события в датасете начинаются с 01.08.2019 и заканчиваются 08.08.2019."
   ]
  },
  {
   "cell_type": "markdown",
   "metadata": {},
   "source": [
    "## Воронка событий <a name=\"fourth\"></a>"
   ]
  },
  {
   "cell_type": "code",
   "execution_count": 61,
   "metadata": {
    "scrolled": false
   },
   "outputs": [
    {
     "data": {
      "text/html": [
       "<div>\n",
       "<style scoped>\n",
       "    .dataframe tbody tr th:only-of-type {\n",
       "        vertical-align: middle;\n",
       "    }\n",
       "\n",
       "    .dataframe tbody tr th {\n",
       "        vertical-align: top;\n",
       "    }\n",
       "\n",
       "    .dataframe thead th {\n",
       "        text-align: right;\n",
       "    }\n",
       "</style>\n",
       "<table border=\"1\" class=\"dataframe\">\n",
       "  <thead>\n",
       "    <tr style=\"text-align: right;\">\n",
       "      <th></th>\n",
       "      <th>event_name</th>\n",
       "      <th>events_quantity</th>\n",
       "    </tr>\n",
       "  </thead>\n",
       "  <tbody>\n",
       "    <tr>\n",
       "      <th>0</th>\n",
       "      <td>MainScreenAppear</td>\n",
       "      <td>117328</td>\n",
       "    </tr>\n",
       "    <tr>\n",
       "      <th>1</th>\n",
       "      <td>OffersScreenAppear</td>\n",
       "      <td>46333</td>\n",
       "    </tr>\n",
       "    <tr>\n",
       "      <th>2</th>\n",
       "      <td>CartScreenAppear</td>\n",
       "      <td>42303</td>\n",
       "    </tr>\n",
       "    <tr>\n",
       "      <th>3</th>\n",
       "      <td>PaymentScreenSuccessful</td>\n",
       "      <td>33918</td>\n",
       "    </tr>\n",
       "    <tr>\n",
       "      <th>4</th>\n",
       "      <td>Tutorial</td>\n",
       "      <td>1005</td>\n",
       "    </tr>\n",
       "  </tbody>\n",
       "</table>\n",
       "</div>"
      ],
      "text/plain": [
       "                event_name  events_quantity\n",
       "0         MainScreenAppear           117328\n",
       "1       OffersScreenAppear            46333\n",
       "2         CartScreenAppear            42303\n",
       "3  PaymentScreenSuccessful            33918\n",
       "4                 Tutorial             1005"
      ]
     },
     "execution_count": 61,
     "metadata": {},
     "output_type": "execute_result"
    }
   ],
   "source": [
    "#Рассмотрим события в логе:\n",
    "events = logs_new.groupby('event_name').agg(events_quantity=('event_name', 'count')\n",
    "                                           ).sort_values(by='events_quantity', ascending=False)\n",
    "events = events.reset_index()\n",
    "events"
   ]
  },
  {
   "cell_type": "code",
   "execution_count": 62,
   "metadata": {},
   "outputs": [
    {
     "data": {
      "image/png": "[encoded data removed]",
      "text/plain": [
       "<Figure size 432x288 with 1 Axes>"
      ]
     },
     "metadata": {
      "needs_background": "light"
     },
     "output_type": "display_data"
    }
   ],
   "source": [
    "#Построим диаграмму распределения количества событий:\n",
    "sns.barplot(x=\"event_name\", y=\"events_quantity\",\n",
    "            palette=sns.color_palette('Set1', 10),\n",
    "            data=events, ci=None)\n",
    "plt.xticks(rotation=45)\n",
    "plt.ylabel('Количество событий')\n",
    "plt.xlabel('События')\n",
    "plt.title('Распределение количества событий по типу в логе')\n",
    "plt.show()"
   ]
  },
  {
   "cell_type": "code",
   "execution_count": 63,
   "metadata": {},
   "outputs": [
    {
     "data": {
      "text/html": [
       "<div>\n",
       "<style scoped>\n",
       "    .dataframe tbody tr th:only-of-type {\n",
       "        vertical-align: middle;\n",
       "    }\n",
       "\n",
       "    .dataframe tbody tr th {\n",
       "        vertical-align: top;\n",
       "    }\n",
       "\n",
       "    .dataframe thead th {\n",
       "        text-align: right;\n",
       "    }\n",
       "</style>\n",
       "<table border=\"1\" class=\"dataframe\">\n",
       "  <thead>\n",
       "    <tr style=\"text-align: right;\">\n",
       "      <th></th>\n",
       "      <th>event_name</th>\n",
       "      <th>users_quantity</th>\n",
       "    </tr>\n",
       "  </thead>\n",
       "  <tbody>\n",
       "    <tr>\n",
       "      <th>0</th>\n",
       "      <td>MainScreenAppear</td>\n",
       "      <td>7419</td>\n",
       "    </tr>\n",
       "    <tr>\n",
       "      <th>1</th>\n",
       "      <td>OffersScreenAppear</td>\n",
       "      <td>4593</td>\n",
       "    </tr>\n",
       "    <tr>\n",
       "      <th>2</th>\n",
       "      <td>CartScreenAppear</td>\n",
       "      <td>3734</td>\n",
       "    </tr>\n",
       "    <tr>\n",
       "      <th>3</th>\n",
       "      <td>PaymentScreenSuccessful</td>\n",
       "      <td>3539</td>\n",
       "    </tr>\n",
       "    <tr>\n",
       "      <th>4</th>\n",
       "      <td>Tutorial</td>\n",
       "      <td>840</td>\n",
       "    </tr>\n",
       "  </tbody>\n",
       "</table>\n",
       "</div>"
      ],
      "text/plain": [
       "                event_name  users_quantity\n",
       "0         MainScreenAppear            7419\n",
       "1       OffersScreenAppear            4593\n",
       "2         CartScreenAppear            3734\n",
       "3  PaymentScreenSuccessful            3539\n",
       "4                 Tutorial             840"
      ]
     },
     "execution_count": 63,
     "metadata": {},
     "output_type": "execute_result"
    }
   ],
   "source": [
    "#Определим сколько пользователей совершали события:\n",
    "users_events = logs_new.groupby('event_name').agg(users_quantity=('user_id', 'nunique')\n",
    "                                                 ).sort_values(by='users_quantity',\n",
    "                                                               ascending=False).reset_index()\n",
    "users_events"
   ]
  },
  {
   "cell_type": "code",
   "execution_count": 64,
   "metadata": {
    "scrolled": true
   },
   "outputs": [
    {
     "data": {
      "text/html": [
       "<div>\n",
       "<style scoped>\n",
       "    .dataframe tbody tr th:only-of-type {\n",
       "        vertical-align: middle;\n",
       "    }\n",
       "\n",
       "    .dataframe tbody tr th {\n",
       "        vertical-align: top;\n",
       "    }\n",
       "\n",
       "    .dataframe thead th {\n",
       "        text-align: right;\n",
       "    }\n",
       "</style>\n",
       "<table border=\"1\" class=\"dataframe\">\n",
       "  <thead>\n",
       "    <tr style=\"text-align: right;\">\n",
       "      <th></th>\n",
       "      <th>event_name</th>\n",
       "      <th>users_quantity</th>\n",
       "      <th>percent</th>\n",
       "    </tr>\n",
       "  </thead>\n",
       "  <tbody>\n",
       "    <tr>\n",
       "      <th>0</th>\n",
       "      <td>MainScreenAppear</td>\n",
       "      <td>7419</td>\n",
       "      <td>98.473586</td>\n",
       "    </tr>\n",
       "    <tr>\n",
       "      <th>1</th>\n",
       "      <td>OffersScreenAppear</td>\n",
       "      <td>4593</td>\n",
       "      <td>60.963632</td>\n",
       "    </tr>\n",
       "    <tr>\n",
       "      <th>2</th>\n",
       "      <td>CartScreenAppear</td>\n",
       "      <td>3734</td>\n",
       "      <td>49.561986</td>\n",
       "    </tr>\n",
       "    <tr>\n",
       "      <th>3</th>\n",
       "      <td>PaymentScreenSuccessful</td>\n",
       "      <td>3539</td>\n",
       "      <td>46.973719</td>\n",
       "    </tr>\n",
       "    <tr>\n",
       "      <th>4</th>\n",
       "      <td>Tutorial</td>\n",
       "      <td>840</td>\n",
       "      <td>11.149456</td>\n",
       "    </tr>\n",
       "  </tbody>\n",
       "</table>\n",
       "</div>"
      ],
      "text/plain": [
       "                event_name  users_quantity    percent\n",
       "0         MainScreenAppear            7419  98.473586\n",
       "1       OffersScreenAppear            4593  60.963632\n",
       "2         CartScreenAppear            3734  49.561986\n",
       "3  PaymentScreenSuccessful            3539  46.973719\n",
       "4                 Tutorial             840  11.149456"
      ]
     },
     "execution_count": 64,
     "metadata": {},
     "output_type": "execute_result"
    }
   ],
   "source": [
    "#Определим долю пользователей, совершивших хотя бы одно событие:\n",
    "users_events['percent'] = (users_events['users_quantity'] / users_new * 100)\n",
    "users_events"
   ]
  },
  {
   "cell_type": "code",
   "execution_count": 65,
   "metadata": {},
   "outputs": [],
   "source": [
    "users_events = users_events.query('event_name != \"Tutorial\"')"
   ]
  },
  {
   "cell_type": "code",
   "execution_count": 66,
   "metadata": {},
   "outputs": [
    {
     "data": {
      "image/png": "[encoded data removed]",
      "text/plain": [
       "<Figure size 432x288 with 1 Axes>"
      ]
     },
     "metadata": {
      "needs_background": "light"
     },
     "output_type": "display_data"
    }
   ],
   "source": [
    "#Построим диаграмму распределения количества событий:\n",
    "sns.barplot(x=\"event_name\", y=\"percent\",\n",
    "            palette=sns.color_palette('Set1', 10),\n",
    "            data=users_events, ci=None)\n",
    "plt.xticks(rotation=45)\n",
    "plt.ylabel('Доля в %')\n",
    "plt.xlabel('События')\n",
    "plt.title('Доля пользователей, совершивших хотя бы одно событие')\n",
    "plt.show()"
   ]
  },
  {
   "cell_type": "markdown",
   "metadata": {},
   "source": [
    "Проанализировав данные, можно сделать вывод о том, что событий в логе всего 5:  \n",
    "-\"MainScreenAppear\"- просмотр главного экрана,  \n",
    "-\"OffersScreenAppear\"- экран с предложением,  \n",
    "-\"CartScreenAppear\" - экран \"Корзина\",  \n",
    "-\"PaymentScreenAppear\"- экран с платежным поручением об оплате,  \n",
    "\n",
    "Предположим, что последовательность событий следующая:    \n",
    "1. MainScreenAppear  \n",
    "2. OffersScreenAppear  \n",
    "3. CartScreenAppear  \n",
    "4.PaymentScreenAppear\n",
    "\n",
    "Из 7534 пользователей только 7419 открывали главный экран приложения, что говорит о том, что эти пользователи попали на другие этапы по прямым ссылкам. Получается что события не всегда выстраиваются в последовательную цепочку."
   ]
  },
  {
   "cell_type": "code",
   "execution_count": 67,
   "metadata": {},
   "outputs": [
    {
     "data": {
      "application/vnd.plotly.v1+json": {
       "config": {
        "plotlyServerURL": "https://plot.ly"
       },
       "data": [
        {
         "hoverinfo": "text",
         "textinfo": "value+percent initial+percent previous",
         "type": "funnel",
         "x": [
          7419,
          4593,
          3734,
          3539
         ],
         "y": [
          "MainScreenAppear",
          "OffersScreenAppear",
          "CartScreenAppear",
          "PaymentScreenSuccessful"
         ]
        }
       ],
       "layout": {
        "template": {
         "data": {
          "bar": [
           {
            "error_x": {
             "color": "#2a3f5f"
            },
            "error_y": {
             "color": "#2a3f5f"
            },
            "marker": {
             "line": {
              "color": "#E5ECF6",
              "width": 0.5
             },
             "pattern": {
              "fillmode": "overlay",
              "size": 10,
              "solidity": 0.2
             }
            },
            "type": "bar"
           }
          ],
          "barpolar": [
           {
            "marker": {
             "line": {
              "color": "#E5ECF6",
              "width": 0.5
             },
             "pattern": {
              "fillmode": "overlay",
              "size": 10,
              "solidity": 0.2
             }
            },
            "type": "barpolar"
           }
          ],
          "carpet": [
           {
            "aaxis": {
             "endlinecolor": "#2a3f5f",
             "gridcolor": "white",
             "linecolor": "white",
             "minorgridcolor": "white",
             "startlinecolor": "#2a3f5f"
            },
            "baxis": {
             "endlinecolor": "#2a3f5f",
             "gridcolor": "white",
             "linecolor": "white",
             "minorgridcolor": "white",
             "startlinecolor": "#2a3f5f"
            },
            "type": "carpet"
           }
          ],
          "choropleth": [
           {
            "colorbar": {
             "outlinewidth": 0,
             "ticks": ""
            },
            "type": "choropleth"
           }
          ],
          "contour": [
           {
            "colorbar": {
             "outlinewidth": 0,
             "ticks": ""
            },
            "colorscale": [
             [
              0,
              "#0d0887"
             ],
             [
              0.1111111111111111,
              "#46039f"
             ],
             [
              0.2222222222222222,
              "#7201a8"
             ],
             [
              0.3333333333333333,
              "#9c179e"
             ],
             [
              0.4444444444444444,
              "#bd3786"
             ],
             [
              0.5555555555555556,
              "#d8576b"
             ],
             [
              0.6666666666666666,
              "#ed7953"
             ],
             [
              0.7777777777777778,
              "#fb9f3a"
             ],
             [
              0.8888888888888888,
              "#fdca26"
             ],
             [
              1,
              "#f0f921"
             ]
            ],
            "type": "contour"
           }
          ],
          "contourcarpet": [
           {
            "colorbar": {
             "outlinewidth": 0,
             "ticks": ""
            },
            "type": "contourcarpet"
           }
          ],
          "heatmap": [
           {
            "colorbar": {
             "outlinewidth": 0,
             "ticks": ""
            },
            "colorscale": [
             [
              0,
              "#0d0887"
             ],
             [
              0.1111111111111111,
              "#46039f"
             ],
             [
              0.2222222222222222,
              "#7201a8"
             ],
             [
              0.3333333333333333,
              "#9c179e"
             ],
             [
              0.4444444444444444,
              "#bd3786"
             ],
             [
              0.5555555555555556,
              "#d8576b"
             ],
             [
              0.6666666666666666,
              "#ed7953"
             ],
             [
              0.7777777777777778,
              "#fb9f3a"
             ],
             [
              0.8888888888888888,
              "#fdca26"
             ],
             [
              1,
              "#f0f921"
             ]
            ],
            "type": "heatmap"
           }
          ],
          "heatmapgl": [
           {
            "colorbar": {
             "outlinewidth": 0,
             "ticks": ""
            },
            "colorscale": [
             [
              0,
              "#0d0887"
             ],
             [
              0.1111111111111111,
              "#46039f"
             ],
             [
              0.2222222222222222,
              "#7201a8"
             ],
             [
              0.3333333333333333,
              "#9c179e"
             ],
             [
              0.4444444444444444,
              "#bd3786"
             ],
             [
              0.5555555555555556,
              "#d8576b"
             ],
             [
              0.6666666666666666,
              "#ed7953"
             ],
             [
              0.7777777777777778,
              "#fb9f3a"
             ],
             [
              0.8888888888888888,
              "#fdca26"
             ],
             [
              1,
              "#f0f921"
             ]
            ],
            "type": "heatmapgl"
           }
          ],
          "histogram": [
           {
            "marker": {
             "pattern": {
              "fillmode": "overlay",
              "size": 10,
              "solidity": 0.2
             }
            },
            "type": "histogram"
           }
          ],
          "histogram2d": [
           {
            "colorbar": {
             "outlinewidth": 0,
             "ticks": ""
            },
            "colorscale": [
             [
              0,
              "#0d0887"
             ],
             [
              0.1111111111111111,
              "#46039f"
             ],
             [
              0.2222222222222222,
              "#7201a8"
             ],
             [
              0.3333333333333333,
              "#9c179e"
             ],
             [
              0.4444444444444444,
              "#bd3786"
             ],
             [
              0.5555555555555556,
              "#d8576b"
             ],
             [
              0.6666666666666666,
              "#ed7953"
             ],
             [
              0.7777777777777778,
              "#fb9f3a"
             ],
             [
              0.8888888888888888,
              "#fdca26"
             ],
             [
              1,
              "#f0f921"
             ]
            ],
            "type": "histogram2d"
           }
          ],
          "histogram2dcontour": [
           {
            "colorbar": {
             "outlinewidth": 0,
             "ticks": ""
            },
            "colorscale": [
             [
              0,
              "#0d0887"
             ],
             [
              0.1111111111111111,
              "#46039f"
             ],
             [
              0.2222222222222222,
              "#7201a8"
             ],
             [
              0.3333333333333333,
              "#9c179e"
             ],
             [
              0.4444444444444444,
              "#bd3786"
             ],
             [
              0.5555555555555556,
              "#d8576b"
             ],
             [
              0.6666666666666666,
              "#ed7953"
             ],
             [
              0.7777777777777778,
              "#fb9f3a"
             ],
             [
              0.8888888888888888,
              "#fdca26"
             ],
             [
              1,
              "#f0f921"
             ]
            ],
            "type": "histogram2dcontour"
           }
          ],
          "mesh3d": [
           {
            "colorbar": {
             "outlinewidth": 0,
             "ticks": ""
            },
            "type": "mesh3d"
           }
          ],
          "parcoords": [
           {
            "line": {
             "colorbar": {
              "outlinewidth": 0,
              "ticks": ""
             }
            },
            "type": "parcoords"
           }
          ],
          "pie": [
           {
            "automargin": true,
            "type": "pie"
           }
          ],
          "scatter": [
           {
            "marker": {
             "colorbar": {
              "outlinewidth": 0,
              "ticks": ""
             }
            },
            "type": "scatter"
           }
          ],
          "scatter3d": [
           {
            "line": {
             "colorbar": {
              "outlinewidth": 0,
              "ticks": ""
             }
            },
            "marker": {
             "colorbar": {
              "outlinewidth": 0,
              "ticks": ""
             }
            },
            "type": "scatter3d"
           }
          ],
          "scattercarpet": [
           {
            "marker": {
             "colorbar": {
              "outlinewidth": 0,
              "ticks": ""
             }
            },
            "type": "scattercarpet"
           }
          ],
          "scattergeo": [
           {
            "marker": {
             "colorbar": {
              "outlinewidth": 0,
              "ticks": ""
             }
            },
            "type": "scattergeo"
           }
          ],
          "scattergl": [
           {
            "marker": {
             "colorbar": {
              "outlinewidth": 0,
              "ticks": ""
             }
            },
            "type": "scattergl"
           }
          ],
          "scattermapbox": [
           {
            "marker": {
             "colorbar": {
              "outlinewidth": 0,
              "ticks": ""
             }
            },
            "type": "scattermapbox"
           }
          ],
          "scatterpolar": [
           {
            "marker": {
             "colorbar": {
              "outlinewidth": 0,
              "ticks": ""
             }
            },
            "type": "scatterpolar"
           }
          ],
          "scatterpolargl": [
           {
            "marker": {
             "colorbar": {
              "outlinewidth": 0,
              "ticks": ""
             }
            },
            "type": "scatterpolargl"
           }
          ],
          "scatterternary": [
           {
            "marker": {
             "colorbar": {
              "outlinewidth": 0,
              "ticks": ""
             }
            },
            "type": "scatterternary"
           }
          ],
          "surface": [
           {
            "colorbar": {
             "outlinewidth": 0,
             "ticks": ""
            },
            "colorscale": [
             [
              0,
              "#0d0887"
             ],
             [
              0.1111111111111111,
              "#46039f"
             ],
             [
              0.2222222222222222,
              "#7201a8"
             ],
             [
              0.3333333333333333,
              "#9c179e"
             ],
             [
              0.4444444444444444,
              "#bd3786"
             ],
             [
              0.5555555555555556,
              "#d8576b"
             ],
             [
              0.6666666666666666,
              "#ed7953"
             ],
             [
              0.7777777777777778,
              "#fb9f3a"
             ],
             [
              0.8888888888888888,
              "#fdca26"
             ],
             [
              1,
              "#f0f921"
             ]
            ],
            "type": "surface"
           }
          ],
          "table": [
           {
            "cells": {
             "fill": {
              "color": "#EBF0F8"
             },
             "line": {
              "color": "white"
             }
            },
            "header": {
             "fill": {
              "color": "#C8D4E3"
             },
             "line": {
              "color": "white"
             }
            },
            "type": "table"
           }
          ]
         },
         "layout": {
          "annotationdefaults": {
           "arrowcolor": "#2a3f5f",
           "arrowhead": 0,
           "arrowwidth": 1
          },
          "autotypenumbers": "strict",
          "coloraxis": {
           "colorbar": {
            "outlinewidth": 0,
            "ticks": ""
           }
          },
          "colorscale": {
           "diverging": [
            [
             0,
             "#8e0152"
            ],
            [
             0.1,
             "#c51b7d"
            ],
            [
             0.2,
             "#de77ae"
            ],
            [
             0.3,
             "#f1b6da"
            ],
            [
             0.4,
             "#fde0ef"
            ],
            [
             0.5,
             "#f7f7f7"
            ],
            [
             0.6,
             "#e6f5d0"
            ],
            [
             0.7,
             "#b8e186"
            ],
            [
             0.8,
             "#7fbc41"
            ],
            [
             0.9,
             "#4d9221"
            ],
            [
             1,
             "#276419"
            ]
           ],
           "sequential": [
            [
             0,
             "#0d0887"
            ],
            [
             0.1111111111111111,
             "#46039f"
            ],
            [
             0.2222222222222222,
             "#7201a8"
            ],
            [
             0.3333333333333333,
             "#9c179e"
            ],
            [
             0.4444444444444444,
             "#bd3786"
            ],
            [
             0.5555555555555556,
             "#d8576b"
            ],
            [
             0.6666666666666666,
             "#ed7953"
            ],
            [
             0.7777777777777778,
             "#fb9f3a"
            ],
            [
             0.8888888888888888,
             "#fdca26"
            ],
            [
             1,
             "#f0f921"
            ]
           ],
           "sequentialminus": [
            [
             0,
             "#0d0887"
            ],
            [
             0.1111111111111111,
             "#46039f"
            ],
            [
             0.2222222222222222,
             "#7201a8"
            ],
            [
             0.3333333333333333,
             "#9c179e"
            ],
            [
             0.4444444444444444,
             "#bd3786"
            ],
            [
             0.5555555555555556,
             "#d8576b"
            ],
            [
             0.6666666666666666,
             "#ed7953"
            ],
            [
             0.7777777777777778,
             "#fb9f3a"
            ],
            [
             0.8888888888888888,
             "#fdca26"
            ],
            [
             1,
             "#f0f921"
            ]
           ]
          },
          "colorway": [
           "#636efa",
           "#EF553B",
           "#00cc96",
           "#ab63fa",
           "#FFA15A",
           "#19d3f3",
           "#FF6692",
           "#B6E880",
           "#FF97FF",
           "#FECB52"
          ],
          "font": {
           "color": "#2a3f5f"
          },
          "geo": {
           "bgcolor": "white",
           "lakecolor": "white",
           "landcolor": "#E5ECF6",
           "showlakes": true,
           "showland": true,
           "subunitcolor": "white"
          },
          "hoverlabel": {
           "align": "left"
          },
          "hovermode": "closest",
          "mapbox": {
           "style": "light"
          },
          "paper_bgcolor": "white",
          "plot_bgcolor": "#E5ECF6",
          "polar": {
           "angularaxis": {
            "gridcolor": "white",
            "linecolor": "white",
            "ticks": ""
           },
           "bgcolor": "#E5ECF6",
           "radialaxis": {
            "gridcolor": "white",
            "linecolor": "white",
            "ticks": ""
           }
          },
          "scene": {
           "xaxis": {
            "backgroundcolor": "#E5ECF6",
            "gridcolor": "white",
            "gridwidth": 2,
            "linecolor": "white",
            "showbackground": true,
            "ticks": "",
            "zerolinecolor": "white"
           },
           "yaxis": {
            "backgroundcolor": "#E5ECF6",
            "gridcolor": "white",
            "gridwidth": 2,
            "linecolor": "white",
            "showbackground": true,
            "ticks": "",
            "zerolinecolor": "white"
           },
           "zaxis": {
            "backgroundcolor": "#E5ECF6",
            "gridcolor": "white",
            "gridwidth": 2,
            "linecolor": "white",
            "showbackground": true,
            "ticks": "",
            "zerolinecolor": "white"
           }
          },
          "shapedefaults": {
           "line": {
            "color": "#2a3f5f"
           }
          },
          "ternary": {
           "aaxis": {
            "gridcolor": "white",
            "linecolor": "white",
            "ticks": ""
           },
           "baxis": {
            "gridcolor": "white",
            "linecolor": "white",
            "ticks": ""
           },
           "bgcolor": "#E5ECF6",
           "caxis": {
            "gridcolor": "white",
            "linecolor": "white",
            "ticks": ""
           }
          },
          "title": {
           "x": 0.05
          },
          "xaxis": {
           "automargin": true,
           "gridcolor": "white",
           "linecolor": "white",
           "ticks": "",
           "title": {
            "standoff": 15
           },
           "zerolinecolor": "white",
           "zerolinewidth": 2
          },
          "yaxis": {
           "automargin": true,
           "gridcolor": "white",
           "linecolor": "white",
           "ticks": "",
           "title": {
            "standoff": 15
           },
           "zerolinecolor": "white",
           "zerolinewidth": 2
          }
         }
        }
       }
      },
      "text/html": [
       "<div>                            <div id=\"510dd8a0-16fa-421e-90a8-cf0e460d542c\" class=\"plotly-graph-div\" style=\"height:525px; width:100%;\"></div>            <script type=\"text/javascript\">                require([\"plotly\"], function(Plotly) {                    window.PLOTLYENV=window.PLOTLYENV || {};                                    if (document.getElementById(\"510dd8a0-16fa-421e-90a8-cf0e460d542c\")) {                    Plotly.newPlot(                        \"510dd8a0-16fa-421e-90a8-cf0e460d542c\",                        [{\"hoverinfo\":\"text\",\"textinfo\":\"value+percent initial+percent previous\",\"x\":[7419,4593,3734,3539],\"y\":[\"MainScreenAppear\",\"OffersScreenAppear\",\"CartScreenAppear\",\"PaymentScreenSuccessful\"],\"type\":\"funnel\"}],                        {\"template\":{\"data\":{\"bar\":[{\"error_x\":{\"color\":\"#2a3f5f\"},\"error_y\":{\"color\":\"#2a3f5f\"},\"marker\":{\"line\":{\"color\":\"#E5ECF6\",\"width\":0.5},\"pattern\":{\"fillmode\":\"overlay\",\"size\":10,\"solidity\":0.2}},\"type\":\"bar\"}],\"barpolar\":[{\"marker\":{\"line\":{\"color\":\"#E5ECF6\",\"width\":0.5},\"pattern\":{\"fillmode\":\"overlay\",\"size\":10,\"solidity\":0.2}},\"type\":\"barpolar\"}],\"carpet\":[{\"aaxis\":{\"endlinecolor\":\"#2a3f5f\",\"gridcolor\":\"white\",\"linecolor\":\"white\",\"minorgridcolor\":\"white\",\"startlinecolor\":\"#2a3f5f\"},\"baxis\":{\"endlinecolor\":\"#2a3f5f\",\"gridcolor\":\"white\",\"linecolor\":\"white\",\"minorgridcolor\":\"white\",\"startlinecolor\":\"#2a3f5f\"},\"type\":\"carpet\"}],\"choropleth\":[{\"colorbar\":{\"outlinewidth\":0,\"ticks\":\"\"},\"type\":\"choropleth\"}],\"contour\":[{\"colorbar\":{\"outlinewidth\":0,\"ticks\":\"\"},\"colorscale\":[[0.0,\"#0d0887\"],[0.1111111111111111,\"#46039f\"],[0.2222222222222222,\"#7201a8\"],[0.3333333333333333,\"#9c179e\"],[0.4444444444444444,\"#bd3786\"],[0.5555555555555556,\"#d8576b\"],[0.6666666666666666,\"#ed7953\"],[0.7777777777777778,\"#fb9f3a\"],[0.8888888888888888,\"#fdca26\"],[1.0,\"#f0f921\"]],\"type\":\"contour\"}],\"contourcarpet\":[{\"colorbar\":{\"outlinewidth\":0,\"ticks\":\"\"},\"type\":\"contourcarpet\"}],\"heatmap\":[{\"colorbar\":{\"outlinewidth\":0,\"ticks\":\"\"},\"colorscale\":[[0.0,\"#0d0887\"],[0.1111111111111111,\"#46039f\"],[0.2222222222222222,\"#7201a8\"],[0.3333333333333333,\"#9c179e\"],[0.4444444444444444,\"#bd3786\"],[0.5555555555555556,\"#d8576b\"],[0.6666666666666666,\"#ed7953\"],[0.7777777777777778,\"#fb9f3a\"],[0.8888888888888888,\"#fdca26\"],[1.0,\"#f0f921\"]],\"type\":\"heatmap\"}],\"heatmapgl\":[{\"colorbar\":{\"outlinewidth\":0,\"ticks\":\"\"},\"colorscale\":[[0.0,\"#0d0887\"],[0.1111111111111111,\"#46039f\"],[0.2222222222222222,\"#7201a8\"],[0.3333333333333333,\"#9c179e\"],[0.4444444444444444,\"#bd3786\"],[0.5555555555555556,\"#d8576b\"],[0.6666666666666666,\"#ed7953\"],[0.7777777777777778,\"#fb9f3a\"],[0.8888888888888888,\"#fdca26\"],[1.0,\"#f0f921\"]],\"type\":\"heatmapgl\"}],\"histogram\":[{\"marker\":{\"pattern\":{\"fillmode\":\"overlay\",\"size\":10,\"solidity\":0.2}},\"type\":\"histogram\"}],\"histogram2d\":[{\"colorbar\":{\"outlinewidth\":0,\"ticks\":\"\"},\"colorscale\":[[0.0,\"#0d0887\"],[0.1111111111111111,\"#46039f\"],[0.2222222222222222,\"#7201a8\"],[0.3333333333333333,\"#9c179e\"],[0.4444444444444444,\"#bd3786\"],[0.5555555555555556,\"#d8576b\"],[0.6666666666666666,\"#ed7953\"],[0.7777777777777778,\"#fb9f3a\"],[0.8888888888888888,\"#fdca26\"],[1.0,\"#f0f921\"]],\"type\":\"histogram2d\"}],\"histogram2dcontour\":[{\"colorbar\":{\"outlinewidth\":0,\"ticks\":\"\"},\"colorscale\":[[0.0,\"#0d0887\"],[0.1111111111111111,\"#46039f\"],[0.2222222222222222,\"#7201a8\"],[0.3333333333333333,\"#9c179e\"],[0.4444444444444444,\"#bd3786\"],[0.5555555555555556,\"#d8576b\"],[0.6666666666666666,\"#ed7953\"],[0.7777777777777778,\"#fb9f3a\"],[0.8888888888888888,\"#fdca26\"],[1.0,\"#f0f921\"]],\"type\":\"histogram2dcontour\"}],\"mesh3d\":[{\"colorbar\":{\"outlinewidth\":0,\"ticks\":\"\"},\"type\":\"mesh3d\"}],\"parcoords\":[{\"line\":{\"colorbar\":{\"outlinewidth\":0,\"ticks\":\"\"}},\"type\":\"parcoords\"}],\"pie\":[{\"automargin\":true,\"type\":\"pie\"}],\"scatter\":[{\"marker\":{\"colorbar\":{\"outlinewidth\":0,\"ticks\":\"\"}},\"type\":\"scatter\"}],\"scatter3d\":[{\"line\":{\"colorbar\":{\"outlinewidth\":0,\"ticks\":\"\"}},\"marker\":{\"colorbar\":{\"outlinewidth\":0,\"ticks\":\"\"}},\"type\":\"scatter3d\"}],\"scattercarpet\":[{\"marker\":{\"colorbar\":{\"outlinewidth\":0,\"ticks\":\"\"}},\"type\":\"scattercarpet\"}],\"scattergeo\":[{\"marker\":{\"colorbar\":{\"outlinewidth\":0,\"ticks\":\"\"}},\"type\":\"scattergeo\"}],\"scattergl\":[{\"marker\":{\"colorbar\":{\"outlinewidth\":0,\"ticks\":\"\"}},\"type\":\"scattergl\"}],\"scattermapbox\":[{\"marker\":{\"colorbar\":{\"outlinewidth\":0,\"ticks\":\"\"}},\"type\":\"scattermapbox\"}],\"scatterpolar\":[{\"marker\":{\"colorbar\":{\"outlinewidth\":0,\"ticks\":\"\"}},\"type\":\"scatterpolar\"}],\"scatterpolargl\":[{\"marker\":{\"colorbar\":{\"outlinewidth\":0,\"ticks\":\"\"}},\"type\":\"scatterpolargl\"}],\"scatterternary\":[{\"marker\":{\"colorbar\":{\"outlinewidth\":0,\"ticks\":\"\"}},\"type\":\"scatterternary\"}],\"surface\":[{\"colorbar\":{\"outlinewidth\":0,\"ticks\":\"\"},\"colorscale\":[[0.0,\"#0d0887\"],[0.1111111111111111,\"#46039f\"],[0.2222222222222222,\"#7201a8\"],[0.3333333333333333,\"#9c179e\"],[0.4444444444444444,\"#bd3786\"],[0.5555555555555556,\"#d8576b\"],[0.6666666666666666,\"#ed7953\"],[0.7777777777777778,\"#fb9f3a\"],[0.8888888888888888,\"#fdca26\"],[1.0,\"#f0f921\"]],\"type\":\"surface\"}],\"table\":[{\"cells\":{\"fill\":{\"color\":\"#EBF0F8\"},\"line\":{\"color\":\"white\"}},\"header\":{\"fill\":{\"color\":\"#C8D4E3\"},\"line\":{\"color\":\"white\"}},\"type\":\"table\"}]},\"layout\":{\"annotationdefaults\":{\"arrowcolor\":\"#2a3f5f\",\"arrowhead\":0,\"arrowwidth\":1},\"autotypenumbers\":\"strict\",\"coloraxis\":{\"colorbar\":{\"outlinewidth\":0,\"ticks\":\"\"}},\"colorscale\":{\"diverging\":[[0,\"#8e0152\"],[0.1,\"#c51b7d\"],[0.2,\"#de77ae\"],[0.3,\"#f1b6da\"],[0.4,\"#fde0ef\"],[0.5,\"#f7f7f7\"],[0.6,\"#e6f5d0\"],[0.7,\"#b8e186\"],[0.8,\"#7fbc41\"],[0.9,\"#4d9221\"],[1,\"#276419\"]],\"sequential\":[[0.0,\"#0d0887\"],[0.1111111111111111,\"#46039f\"],[0.2222222222222222,\"#7201a8\"],[0.3333333333333333,\"#9c179e\"],[0.4444444444444444,\"#bd3786\"],[0.5555555555555556,\"#d8576b\"],[0.6666666666666666,\"#ed7953\"],[0.7777777777777778,\"#fb9f3a\"],[0.8888888888888888,\"#fdca26\"],[1.0,\"#f0f921\"]],\"sequentialminus\":[[0.0,\"#0d0887\"],[0.1111111111111111,\"#46039f\"],[0.2222222222222222,\"#7201a8\"],[0.3333333333333333,\"#9c179e\"],[0.4444444444444444,\"#bd3786\"],[0.5555555555555556,\"#d8576b\"],[0.6666666666666666,\"#ed7953\"],[0.7777777777777778,\"#fb9f3a\"],[0.8888888888888888,\"#fdca26\"],[1.0,\"#f0f921\"]]},\"colorway\":[\"#636efa\",\"#EF553B\",\"#00cc96\",\"#ab63fa\",\"#FFA15A\",\"#19d3f3\",\"#FF6692\",\"#B6E880\",\"#FF97FF\",\"#FECB52\"],\"font\":{\"color\":\"#2a3f5f\"},\"geo\":{\"bgcolor\":\"white\",\"lakecolor\":\"white\",\"landcolor\":\"#E5ECF6\",\"showlakes\":true,\"showland\":true,\"subunitcolor\":\"white\"},\"hoverlabel\":{\"align\":\"left\"},\"hovermode\":\"closest\",\"mapbox\":{\"style\":\"light\"},\"paper_bgcolor\":\"white\",\"plot_bgcolor\":\"#E5ECF6\",\"polar\":{\"angularaxis\":{\"gridcolor\":\"white\",\"linecolor\":\"white\",\"ticks\":\"\"},\"bgcolor\":\"#E5ECF6\",\"radialaxis\":{\"gridcolor\":\"white\",\"linecolor\":\"white\",\"ticks\":\"\"}},\"scene\":{\"xaxis\":{\"backgroundcolor\":\"#E5ECF6\",\"gridcolor\":\"white\",\"gridwidth\":2,\"linecolor\":\"white\",\"showbackground\":true,\"ticks\":\"\",\"zerolinecolor\":\"white\"},\"yaxis\":{\"backgroundcolor\":\"#E5ECF6\",\"gridcolor\":\"white\",\"gridwidth\":2,\"linecolor\":\"white\",\"showbackground\":true,\"ticks\":\"\",\"zerolinecolor\":\"white\"},\"zaxis\":{\"backgroundcolor\":\"#E5ECF6\",\"gridcolor\":\"white\",\"gridwidth\":2,\"linecolor\":\"white\",\"showbackground\":true,\"ticks\":\"\",\"zerolinecolor\":\"white\"}},\"shapedefaults\":{\"line\":{\"color\":\"#2a3f5f\"}},\"ternary\":{\"aaxis\":{\"gridcolor\":\"white\",\"linecolor\":\"white\",\"ticks\":\"\"},\"baxis\":{\"gridcolor\":\"white\",\"linecolor\":\"white\",\"ticks\":\"\"},\"bgcolor\":\"#E5ECF6\",\"caxis\":{\"gridcolor\":\"white\",\"linecolor\":\"white\",\"ticks\":\"\"}},\"title\":{\"x\":0.05},\"xaxis\":{\"automargin\":true,\"gridcolor\":\"white\",\"linecolor\":\"white\",\"ticks\":\"\",\"title\":{\"standoff\":15},\"zerolinecolor\":\"white\",\"zerolinewidth\":2},\"yaxis\":{\"automargin\":true,\"gridcolor\":\"white\",\"linecolor\":\"white\",\"ticks\":\"\",\"title\":{\"standoff\":15},\"zerolinecolor\":\"white\",\"zerolinewidth\":2}}}},                        {\"responsive\": true}                    ).then(function(){\n",
       "                            \n",
       "var gd = document.getElementById('510dd8a0-16fa-421e-90a8-cf0e460d542c');\n",
       "var x = new MutationObserver(function (mutations, observer) {{\n",
       "        var display = window.getComputedStyle(gd).display;\n",
       "        if (!display || display === 'none') {{\n",
       "            console.log([gd, 'removed!']);\n",
       "            Plotly.purge(gd);\n",
       "            observer.disconnect();\n",
       "        }}\n",
       "}});\n",
       "\n",
       "// Listen for the removal of the full notebook cells\n",
       "var notebookContainer = gd.closest('#notebook-container');\n",
       "if (notebookContainer) {{\n",
       "    x.observe(notebookContainer, {childList: true});\n",
       "}}\n",
       "\n",
       "// Listen for the clearing of the current output cell\n",
       "var outputEl = gd.closest('.output');\n",
       "if (outputEl) {{\n",
       "    x.observe(outputEl, {childList: true});\n",
       "}}\n",
       "\n",
       "                        })                };                });            </script>        </div>"
      ]
     },
     "metadata": {},
     "output_type": "display_data"
    }
   ],
   "source": [
    "#Построим воронку событий для пользователей:\n",
    "fig = go.Figure(\n",
    "    go.Funnel(\n",
    "        y=users_events['event_name'],\n",
    "        x=users_events['users_quantity'],\n",
    "      textinfo = \"value+percent initial+percent previous\",\n",
    "    hoverinfo=\"text\")\n",
    ")\n",
    "fig.show() "
   ]
  },
  {
   "attachments": {
    "newplot%20%2811%29.png": {
     "image/png": "[encoded data removed]"
    }
   },
   "cell_type": "markdown",
   "metadata": {},
   "source": [
    "![newplot%20%2811%29.png](attachment:newplot%20%2811%29.png)"
   ]
  },
  {
   "cell_type": "markdown",
   "metadata": {},
   "source": [
    "**Вывод:**  \n",
    "Судя по воронке, больше всего пользователей теряется при переходе к шагу OffersScreenAppear (62% пользователей совершают этот шаг из всех пользователей), то есть при переходе с основного экрана к экрану с предложениями. Это может быть связано с тем, что пользователь может сразу с основной страницы попадать в корзину, выбирая товары на главной странице.\n",
    "При этом до получения платежного поручения, то есть до совершения оплаты или PaymentScreenSuccsseful, доходит 48% всех пользователей, посетивших приложение."
   ]
  },
  {
   "cell_type": "markdown",
   "metadata": {},
   "source": [
    "## Проверка гипотез о равенстве долей для А/А-теста и А/В-теста <a name=\"fifth\"></a>"
   ]
  },
  {
   "cell_type": "code",
   "execution_count": 30,
   "metadata": {
    "scrolled": false
   },
   "outputs": [
    {
     "data": {
      "text/html": [
       "<div>\n",
       "<style scoped>\n",
       "    .dataframe tbody tr th:only-of-type {\n",
       "        vertical-align: middle;\n",
       "    }\n",
       "\n",
       "    .dataframe tbody tr th {\n",
       "        vertical-align: top;\n",
       "    }\n",
       "\n",
       "    .dataframe thead th {\n",
       "        text-align: right;\n",
       "    }\n",
       "</style>\n",
       "<table border=\"1\" class=\"dataframe\">\n",
       "  <thead>\n",
       "    <tr style=\"text-align: right;\">\n",
       "      <th></th>\n",
       "      <th>group</th>\n",
       "      <th>users_number</th>\n",
       "    </tr>\n",
       "  </thead>\n",
       "  <tbody>\n",
       "    <tr>\n",
       "      <th>0</th>\n",
       "      <td>246</td>\n",
       "      <td>2484</td>\n",
       "    </tr>\n",
       "    <tr>\n",
       "      <th>1</th>\n",
       "      <td>247</td>\n",
       "      <td>2513</td>\n",
       "    </tr>\n",
       "    <tr>\n",
       "      <th>2</th>\n",
       "      <td>248</td>\n",
       "      <td>2537</td>\n",
       "    </tr>\n",
       "  </tbody>\n",
       "</table>\n",
       "</div>"
      ],
      "text/plain": [
       "   group  users_number\n",
       "0    246          2484\n",
       "1    247          2513\n",
       "2    248          2537"
      ]
     },
     "execution_count": 30,
     "metadata": {},
     "output_type": "execute_result"
    }
   ],
   "source": [
    "#Количество пользователей в группах:\n",
    "users_bygroup = users_bygroup.rename(columns={'exp_id': 'group'})\n",
    "users_bygroup"
   ]
  },
  {
   "cell_type": "code",
   "execution_count": 31,
   "metadata": {},
   "outputs": [],
   "source": [
    "#Разделим всех пользователей по группам:\n",
    "group_a1 = logs_new.query('exp_id == 246')\n",
    "#group_a1\n",
    "group_a2 = logs_new.query('exp_id == 247')\n",
    "group_b = logs_new.query('exp_id == 248')"
   ]
  },
  {
   "cell_type": "code",
   "execution_count": 32,
   "metadata": {
    "scrolled": true
   },
   "outputs": [
    {
     "name": "stdout",
     "output_type": "stream",
     "text": [
      "MainScreenAppear           37676\n",
      "OffersScreenAppear         14767\n",
      "CartScreenAppear           14690\n",
      "PaymentScreenSuccessful    11852\n",
      "Tutorial                     317\n",
      "Name: event_name, dtype: int64\n",
      "\n",
      "MainScreenAppear           39090\n",
      "OffersScreenAppear         15179\n",
      "CartScreenAppear           12434\n",
      "PaymentScreenSuccessful     9981\n",
      "Tutorial                     338\n",
      "Name: event_name, dtype: int64\n",
      "\n",
      "MainScreenAppear           40562\n",
      "OffersScreenAppear         16387\n",
      "CartScreenAppear           15179\n",
      "PaymentScreenSuccessful    12085\n",
      "Tutorial                     350\n",
      "Name: event_name, dtype: int64\n"
     ]
    }
   ],
   "source": [
    "#Определим самое популярное событие:\n",
    "print(group_a1['event_name'].value_counts())\n",
    "print()\n",
    "print(group_a2['event_name'].value_counts())\n",
    "print()\n",
    "print(group_b['event_name'].value_counts())"
   ]
  },
  {
   "cell_type": "markdown",
   "metadata": {},
   "source": [
    "Очевидно, что самым популярным событием является \"MainScreenAppear\" для всех трех групп."
   ]
  },
  {
   "cell_type": "code",
   "execution_count": 33,
   "metadata": {
    "scrolled": false
   },
   "outputs": [
    {
     "data": {
      "text/html": [
       "<div>\n",
       "<style scoped>\n",
       "    .dataframe tbody tr th:only-of-type {\n",
       "        vertical-align: middle;\n",
       "    }\n",
       "\n",
       "    .dataframe tbody tr th {\n",
       "        vertical-align: top;\n",
       "    }\n",
       "\n",
       "    .dataframe thead th {\n",
       "        text-align: right;\n",
       "    }\n",
       "</style>\n",
       "<table border=\"1\" class=\"dataframe\">\n",
       "  <thead>\n",
       "    <tr style=\"text-align: right;\">\n",
       "      <th></th>\n",
       "      <th>exp_id</th>\n",
       "      <th>count_of_users</th>\n",
       "      <th>percent_of_users</th>\n",
       "    </tr>\n",
       "  </thead>\n",
       "  <tbody>\n",
       "    <tr>\n",
       "      <th>0</th>\n",
       "      <td>246</td>\n",
       "      <td>2450</td>\n",
       "      <td>32.52%</td>\n",
       "    </tr>\n",
       "    <tr>\n",
       "      <th>1</th>\n",
       "      <td>247</td>\n",
       "      <td>2476</td>\n",
       "      <td>32.86%</td>\n",
       "    </tr>\n",
       "    <tr>\n",
       "      <th>2</th>\n",
       "      <td>248</td>\n",
       "      <td>2493</td>\n",
       "      <td>33.09%</td>\n",
       "    </tr>\n",
       "  </tbody>\n",
       "</table>\n",
       "</div>"
      ],
      "text/plain": [
       "   exp_id  count_of_users percent_of_users\n",
       "0     246            2450           32.52%\n",
       "1     247            2476           32.86%\n",
       "2     248            2493           33.09%"
      ]
     },
     "execution_count": 33,
     "metadata": {},
     "output_type": "execute_result"
    }
   ],
   "source": [
    "#Определим число и долю пользователей в каждой из групп, совершивших это событие:\n",
    "logs_grouped = logs_new.query('event_name == \"MainScreenAppear\"').groupby('exp_id').agg(\n",
    "    count_of_users=('user_id', 'nunique')).reset_index()\n",
    "logs_grouped['percent_of_users'] = (logs_grouped['count_of_users'] / users_new * 100).round(2).astype(str) + '%'\n",
    "logs_grouped"
   ]
  },
  {
   "cell_type": "markdown",
   "metadata": {},
   "source": [
    "Сформулируем гипотезы для дальнейшей их проверки:  \n",
    "**Нулевая гипотеза Н0:** Изменение шрифта в приложении для каждого шага не имеет статистически значимого влияния среди пользователей; доли пользователей, использующих приложении до и после внедрения изменений, равны.  \n",
    "**Альтернативная гипотеза Н1:** Изменение шрифта в приложении имеет статистически значимое влияние среди пользователей; доли пользователей до и после внедрения изменений, не равны."
   ]
  },
  {
   "cell_type": "code",
   "execution_count": 34,
   "metadata": {
    "scrolled": true
   },
   "outputs": [
    {
     "name": "stdout",
     "output_type": "stream",
     "text": [
      "p-значение:  0.757\n",
      "Не получилось отвергнуть нулевую гипотезу, нет оснований считать доли разными\n",
      "None\n",
      "p-значение:  0.248\n",
      "Не получилось отвергнуть нулевую гипотезу, нет оснований считать доли разными\n",
      "None\n",
      "p-значение:  0.229\n",
      "Не получилось отвергнуть нулевую гипотезу, нет оснований считать доли разными\n",
      "None\n",
      "p-значение:  0.115\n",
      "Не получилось отвергнуть нулевую гипотезу, нет оснований считать доли разными\n",
      "None\n"
     ]
    }
   ],
   "source": [
    "#Создадим функцию для проверки разницы между долями в группах 246 и 247(AA тест):\n",
    " # критический уровень статистической значимости\n",
    "\n",
    "def stat_test(data_1, data_2, event, alpha):\n",
    "    leads_0 = data_1['user_id'].nunique()\n",
    "    leads_1 = data_2['user_id'].nunique()\n",
    "    event == event\n",
    "    #считаем число уникальных пользователей для каждого события и долю пользователей,\n",
    "    #совершивших это событие\n",
    "    actions_0 = data_1.query('event_name in @event')['user_id'].nunique()\n",
    "    actions_1 = data_2.query('event_name in @event')['user_id'].nunique()\n",
    "    p1 = actions_0 / leads_0\n",
    "    p2 = actions_1 / leads_1\n",
    "\n",
    "    p_combined = (actions_0 + actions_1) / (leads_0 + leads_1)\n",
    "\n",
    "    difference = p1 - p2 \n",
    "    z_value = difference / mth.sqrt(\n",
    "    p_combined * (1 - p_combined) * (1 / leads_0 + 1 / leads_1))\n",
    "\n",
    "    distr = st.norm(0, 1) \n",
    "\n",
    "    p_value = (1 - distr.cdf(abs(z_value))) * 2\n",
    "\n",
    "    print('p-значение: ', '{0:.3f}'.format(p_value))\n",
    "\n",
    "    if p_value < alpha:\n",
    "        print('Отвергаем нулевую гипотезу: между долями есть значимая разница')\n",
    "    else:\n",
    "        print(\n",
    "        'Не получилось отвергнуть нулевую гипотезу, нет оснований считать доли разными'\n",
    "    )\n",
    "alpha = 0.01\n",
    "print(stat_test(group_a1, group_a2, \"MainScreenAppear\", alpha))\n",
    "print(stat_test(group_a1, group_a2, \"OffersScreenAppear\", alpha))\n",
    "print(stat_test(group_a1, group_a2, \"CartScreenAppear\", alpha))\n",
    "print(stat_test(group_a1, group_a2, \"PaymentScreenSuccessful\", alpha))"
   ]
  },
  {
   "cell_type": "markdown",
   "metadata": {},
   "source": [
    "Из результатов тестирования следует, что:  \n",
    "-различие ключевых метрик по группам 246 и 247 не превышает 1% и не имеет статистической значимости;  \n",
    "-количество пользователей в различных группах различается не более, чем на 1%;\n",
    "Тест можно считать успешным\n"
   ]
  },
  {
   "cell_type": "code",
   "execution_count": 35,
   "metadata": {
    "scrolled": false
   },
   "outputs": [
    {
     "name": "stdout",
     "output_type": "stream",
     "text": [
      "p-значение:  0.295\n",
      "Не получилось отвергнуть нулевую гипотезу, нет оснований считать доли разными\n",
      "None\n",
      "\n",
      "p-значение:  0.208\n",
      "Не получилось отвергнуть нулевую гипотезу, нет оснований считать доли разными\n",
      "None\n",
      "\n",
      "p-значение:  0.078\n",
      "Не получилось отвергнуть нулевую гипотезу, нет оснований считать доли разными\n",
      "None\n",
      "\n",
      "p-значение:  0.212\n",
      "Не получилось отвергнуть нулевую гипотезу, нет оснований считать доли разными\n",
      "None\n"
     ]
    }
   ],
   "source": [
    "#Проверим разницу между долями в контрольной группе 246 и экспериментальной группе 248:\n",
    "alpha = 0.05 # критический уровень статистической значимости\n",
    "print(stat_test(group_a1, group_b, \"MainScreenAppear\", alpha))\n",
    "print()\n",
    "print(stat_test(group_a1, group_b, \"OffersScreenAppear\",alpha))\n",
    "print()\n",
    "print(stat_test(group_a1, group_b, \"CartScreenAppear\", alpha))\n",
    "print()\n",
    "print(stat_test(group_a1, group_b, \"PaymentScreenSuccessful\", alpha))"
   ]
  },
  {
   "cell_type": "code",
   "execution_count": 36,
   "metadata": {
    "scrolled": false
   },
   "outputs": [
    {
     "name": "stdout",
     "output_type": "stream",
     "text": [
      "p-значение:  0.459\n",
      "Не получилось отвергнуть нулевую гипотезу, нет оснований считать доли разными\n",
      "None\n",
      "\n",
      "p-значение:  0.920\n",
      "Не получилось отвергнуть нулевую гипотезу, нет оснований считать доли разными\n",
      "None\n",
      "\n",
      "p-значение:  0.579\n",
      "Не получилось отвергнуть нулевую гипотезу, нет оснований считать доли разными\n",
      "None\n",
      "\n",
      "p-значение:  0.737\n",
      "Не получилось отвергнуть нулевую гипотезу, нет оснований считать доли разными\n",
      "None\n"
     ]
    }
   ],
   "source": [
    "#Проверим разницу между долями в контрольной группе 246 и экспериментальной группе 248:\n",
    "alpha = 0.05 # критический уровень статистической значимости\n",
    "print(stat_test(group_a2, group_b, \"MainScreenAppear\", alpha))\n",
    "print()\n",
    "print(stat_test(group_a2, group_b, \"OffersScreenAppear\", alpha))\n",
    "print()\n",
    "print(stat_test(group_a2, group_b, \"CartScreenAppear\", alpha))\n",
    "print()\n",
    "print(stat_test(group_a2, group_b, \"PaymentScreenSuccessful\", alpha))"
   ]
  },
  {
   "cell_type": "markdown",
   "metadata": {},
   "source": [
    "**Вывод:** При уровне значимости alpha=0.05 мы не можем отвергнуть гипотезу о том, что наши доли равны.  \n",
    "То есть, при замене шрифтов для каждого шага в приложении не появляется существенных изменений."
   ]
  },
  {
   "cell_type": "markdown",
   "metadata": {},
   "source": [
    "**Поправка Бонферрони**"
   ]
  },
  {
   "cell_type": "markdown",
   "metadata": {},
   "source": [
    "Так как в рамках нашего эксперимента мы проводим множественные сравнения между группами на одних и тех же данных, то возрастает вероятность совершения ошибки первого рода- отвергнуть верную нулевую гипотезу.  \n",
    "Скорректируем наш уровень значимости с помощью поправки Бонферрони:"
   ]
  },
  {
   "cell_type": "code",
   "execution_count": 37,
   "metadata": {},
   "outputs": [
    {
     "name": "stdout",
     "output_type": "stream",
     "text": [
      "p-значение:  0.295\n",
      "Не получилось отвергнуть нулевую гипотезу, нет оснований считать доли разными\n",
      "None\n",
      "\n",
      "p-значение:  0.208\n",
      "Не получилось отвергнуть нулевую гипотезу, нет оснований считать доли разными\n",
      "None\n",
      "\n",
      "p-значение:  0.078\n",
      "Не получилось отвергнуть нулевую гипотезу, нет оснований считать доли разными\n",
      "None\n",
      "\n",
      "p-значение:  0.212\n",
      "Не получилось отвергнуть нулевую гипотезу, нет оснований считать доли разными\n",
      "None\n"
     ]
    }
   ],
   "source": [
    "alpha = 0.0125 # (0.05/4) # критический уровень статистической значимости\n",
    "\n",
    "print(stat_test(group_a1, group_b, \"MainScreenAppear\", alpha))\n",
    "print()\n",
    "print(stat_test(group_a1, group_b, \"OffersScreenAppear\", alpha))\n",
    "print()\n",
    "print(stat_test(group_a1, group_b, \"CartScreenAppear\", alpha))\n",
    "print()\n",
    "print(stat_test(group_a1, group_b, \"PaymentScreenSuccessful\", alpha))"
   ]
  },
  {
   "cell_type": "code",
   "execution_count": 38,
   "metadata": {},
   "outputs": [
    {
     "name": "stdout",
     "output_type": "stream",
     "text": [
      "p-значение:  0.459\n",
      "Не получилось отвергнуть нулевую гипотезу, нет оснований считать доли разными\n",
      "None\n",
      "\n",
      "p-значение:  0.920\n",
      "Не получилось отвергнуть нулевую гипотезу, нет оснований считать доли разными\n",
      "None\n",
      "\n",
      "p-значение:  0.579\n",
      "Не получилось отвергнуть нулевую гипотезу, нет оснований считать доли разными\n",
      "None\n",
      "\n",
      "p-значение:  0.737\n",
      "Не получилось отвергнуть нулевую гипотезу, нет оснований считать доли разными\n",
      "None\n"
     ]
    }
   ],
   "source": [
    "alpha = 0.0125 # (0.05/4) # критический уровень статистической значимости\n",
    "\n",
    "print(stat_test(group_a2, group_b, \"MainScreenAppear\", alpha))\n",
    "print()\n",
    "print(stat_test(group_a2, group_b, \"OffersScreenAppear\", alpha))\n",
    "print()\n",
    "print(stat_test(group_a2, group_b, \"CartScreenAppear\", alpha))\n",
    "print()\n",
    "print(stat_test(group_a2, group_b, \"PaymentScreenSuccessful\", alpha))"
   ]
  },
  {
   "cell_type": "markdown",
   "metadata": {},
   "source": [
    "## Общие выводы <a name=\"sixth\"></a>"
   ]
  },
  {
   "cell_type": "markdown",
   "metadata": {},
   "source": [
    "1. В представленном логе событий рассматривается период с 25.07.2019 по 08.08.2019, при этом данные с 25.07 по 31.07.2019 составляют 1.16% от всего объема данных, поэтому не являются значимыми для эксперимента. Соответственно, после исключения этих данных рассматриваемый период в исследовании- с 01.08.2019 по 08.08.2019. \n",
    "2. Воронка событий показывает, что самым распространенным событием является \"MainScreenAppear\"- просмотр главного экрана, и больше всего пользователей теряется при переходе с основного экрана к следующему шагу \"OffersScreenAppear\"- просмотр предложений интернет-магазина(38% пользователей теряется на этом шаге). Возможно, они сразу переходят в корзину с главного экрана и совершают заказ там, либо экран с предложениями недостаточно привлекателен для них- в этом случае можно было бы провести отдельное исследование с целью выяснения причины и узнать,как не терять такое количество пользователей и насколько изменится число заказов, если хотя бы часть потерянных пользователей на этом шаге, удастся привлечь.\n",
    "3. В ходе исследования было проведено 3 проверки статистических гипотез: между двумя контрольными группами 246 и 247 (А/А тест), между контрольной группой 246 и экспериментальной группой 248 и между контрольной группой 247 и экспериментальной группой 248.  \n",
    "4. Результат А/А тестирования показал, что между контрольными группами нет статистически значимых различий.  \n",
    "5. Результат А/В тестирования показал, что между контрольной и экспериментальной группами также нет статистически значимых различий, то есть: изменение шрифта в приложении не окажет статистически значимого влияния на количество пользователей.\n",
    "6. После корректировки уровня значимости на поправку Бонферрони, также видим, что статистически значимых различий в группах нет."
   ]
  },
  {
   "cell_type": "code",
   "execution_count": null,
   "metadata": {},
   "outputs": [],
   "source": []
  }
 ],
 "metadata": {
  "ExecuteTimeLog": [
   {
    "duration": 1575,
    "start_time": "2022-02-26T16:45:35.544Z"
   },
   {
    "duration": 116,
    "start_time": "2022-02-26T16:45:37.121Z"
   },
   {
    "duration": 13,
    "start_time": "2022-02-26T16:45:37.239Z"
   },
   {
    "duration": 14,
    "start_time": "2022-02-26T16:45:37.254Z"
   },
   {
    "duration": 12,
    "start_time": "2022-02-26T16:45:37.269Z"
   },
   {
    "duration": 131,
    "start_time": "2022-02-26T16:45:37.282Z"
   },
   {
    "duration": 31,
    "start_time": "2022-02-26T16:45:37.414Z"
   },
   {
    "duration": 64,
    "start_time": "2022-02-26T16:45:37.447Z"
   },
   {
    "duration": 69,
    "start_time": "2022-02-26T16:45:37.513Z"
   },
   {
    "duration": 82,
    "start_time": "2022-02-26T16:45:37.584Z"
   },
   {
    "duration": 70,
    "start_time": "2022-02-26T16:45:37.668Z"
   },
   {
    "duration": 6,
    "start_time": "2022-02-26T16:45:37.740Z"
   },
   {
    "duration": 16,
    "start_time": "2022-02-26T16:45:37.747Z"
   },
   {
    "duration": 5,
    "start_time": "2022-02-26T16:45:37.765Z"
   },
   {
    "duration": 14,
    "start_time": "2022-02-26T16:45:37.771Z"
   },
   {
    "duration": 3,
    "start_time": "2022-02-26T16:45:37.787Z"
   },
   {
    "duration": 6,
    "start_time": "2022-02-26T16:45:37.791Z"
   },
   {
    "duration": 301,
    "start_time": "2022-02-26T16:45:37.799Z"
   },
   {
    "duration": 17,
    "start_time": "2022-02-26T16:45:38.102Z"
   },
   {
    "duration": 294,
    "start_time": "2022-02-26T16:45:38.121Z"
   },
   {
    "duration": 5,
    "start_time": "2022-02-26T16:45:38.417Z"
   },
   {
    "duration": 60,
    "start_time": "2022-02-26T16:45:38.424Z"
   },
   {
    "duration": 31,
    "start_time": "2022-02-26T16:45:38.487Z"
   },
   {
    "duration": 183,
    "start_time": "2022-02-26T16:45:38.520Z"
   },
   {
    "duration": 58,
    "start_time": "2022-02-26T16:45:38.704Z"
   },
   {
    "duration": 8,
    "start_time": "2022-02-26T16:45:38.764Z"
   },
   {
    "duration": 166,
    "start_time": "2022-02-26T16:45:38.773Z"
   },
   {
    "duration": 583,
    "start_time": "2022-02-26T16:45:38.941Z"
   },
   {
    "duration": 7,
    "start_time": "2022-02-26T16:45:39.537Z"
   },
   {
    "duration": 30,
    "start_time": "2022-02-26T16:45:39.545Z"
   },
   {
    "duration": 94,
    "start_time": "2022-02-26T16:45:39.577Z"
   },
   {
    "duration": 112,
    "start_time": "2022-02-26T16:45:39.673Z"
   },
   {
    "duration": 81,
    "start_time": "2022-02-26T16:45:39.787Z"
   },
   {
    "duration": 68,
    "start_time": "2022-02-26T16:45:39.870Z"
   },
   {
    "duration": 53,
    "start_time": "2022-02-26T16:45:39.940Z"
   },
   {
    "duration": 20,
    "start_time": "2022-02-26T16:45:39.995Z"
   },
   {
    "duration": 55,
    "start_time": "2022-02-26T16:55:22.715Z"
   },
   {
    "duration": 85,
    "start_time": "2022-02-26T16:57:28.877Z"
   },
   {
    "duration": 58,
    "start_time": "2022-02-26T16:58:23.885Z"
   },
   {
    "duration": 53,
    "start_time": "2022-02-26T16:58:33.129Z"
   },
   {
    "duration": 53,
    "start_time": "2022-02-26T16:58:40.209Z"
   },
   {
    "duration": 19,
    "start_time": "2022-02-26T16:58:44.897Z"
   },
   {
    "duration": 63,
    "start_time": "2022-02-26T17:01:18.802Z"
   },
   {
    "duration": 11817,
    "start_time": "2022-02-27T20:57:13.262Z"
   },
   {
    "duration": 131,
    "start_time": "2022-02-27T20:57:25.081Z"
   },
   {
    "duration": 16,
    "start_time": "2022-02-27T20:57:25.214Z"
   },
   {
    "duration": 19,
    "start_time": "2022-02-27T20:57:25.232Z"
   },
   {
    "duration": 14,
    "start_time": "2022-02-27T20:57:25.253Z"
   },
   {
    "duration": 127,
    "start_time": "2022-02-27T20:57:25.302Z"
   },
   {
    "duration": 23,
    "start_time": "2022-02-27T20:57:25.432Z"
   },
   {
    "duration": 98,
    "start_time": "2022-02-27T20:57:25.457Z"
   },
   {
    "duration": 102,
    "start_time": "2022-02-27T20:57:25.558Z"
   },
   {
    "duration": 5,
    "start_time": "2022-02-27T20:57:25.662Z"
   },
   {
    "duration": 34,
    "start_time": "2022-02-27T20:57:25.669Z"
   },
   {
    "duration": 13,
    "start_time": "2022-02-27T20:57:25.705Z"
   },
   {
    "duration": 18,
    "start_time": "2022-02-27T20:57:25.720Z"
   },
   {
    "duration": 15,
    "start_time": "2022-02-27T20:57:25.740Z"
   },
   {
    "duration": 5,
    "start_time": "2022-02-27T20:57:25.757Z"
   },
   {
    "duration": 11,
    "start_time": "2022-02-27T20:57:25.764Z"
   },
   {
    "duration": 340,
    "start_time": "2022-02-27T20:57:25.777Z"
   },
   {
    "duration": 20,
    "start_time": "2022-02-27T20:57:26.119Z"
   },
   {
    "duration": 330,
    "start_time": "2022-02-27T20:57:26.140Z"
   },
   {
    "duration": 6,
    "start_time": "2022-02-27T20:57:26.472Z"
   },
   {
    "duration": 23,
    "start_time": "2022-02-27T20:57:26.480Z"
   },
   {
    "duration": 58,
    "start_time": "2022-02-27T20:57:26.505Z"
   },
   {
    "duration": 48,
    "start_time": "2022-02-27T20:57:26.565Z"
   },
   {
    "duration": 197,
    "start_time": "2022-02-27T20:57:26.615Z"
   },
   {
    "duration": 57,
    "start_time": "2022-02-27T20:57:26.814Z"
   },
   {
    "duration": 30,
    "start_time": "2022-02-27T20:57:26.873Z"
   },
   {
    "duration": 187,
    "start_time": "2022-02-27T20:57:26.907Z"
   },
   {
    "duration": 609,
    "start_time": "2022-02-27T20:57:27.100Z"
   },
   {
    "duration": 9,
    "start_time": "2022-02-27T20:57:27.711Z"
   },
   {
    "duration": 92,
    "start_time": "2022-02-27T20:57:27.723Z"
   },
   {
    "duration": 86,
    "start_time": "2022-02-27T20:57:27.817Z"
   },
   {
    "duration": 56,
    "start_time": "2022-02-27T20:57:27.905Z"
   },
   {
    "duration": 98,
    "start_time": "2022-02-27T20:57:27.963Z"
   },
   {
    "duration": 75,
    "start_time": "2022-02-27T20:57:28.063Z"
   },
   {
    "duration": 72,
    "start_time": "2022-02-27T20:57:28.140Z"
   },
   {
    "duration": 19,
    "start_time": "2022-02-27T20:57:28.213Z"
   },
   {
    "duration": 66,
    "start_time": "2022-02-27T21:04:38.952Z"
   }
  ],
  "kernelspec": {
   "display_name": "Python 3 (ipykernel)",
   "language": "python",
   "name": "python3"
  },
  "language_info": {
   "codemirror_mode": {
    "name": "ipython",
    "version": 3
   },
   "file_extension": ".py",
   "mimetype": "text/x-python",
   "name": "python",
   "nbconvert_exporter": "python",
   "pygments_lexer": "ipython3",
   "version": "3.9.12"
  },
  "toc": {
   "base_numbering": 1,
   "nav_menu": {},
   "number_sections": true,
   "sideBar": true,
   "skip_h1_title": true,
   "title_cell": "Содержание",
   "title_sidebar": "Contents",
   "toc_cell": true,
   "toc_position": {},
   "toc_section_display": true,
   "toc_window_display": true
  }
 },
 "nbformat": 4,
 "nbformat_minor": 2
}
